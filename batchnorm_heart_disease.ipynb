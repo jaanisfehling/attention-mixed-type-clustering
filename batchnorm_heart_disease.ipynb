{
 "cells": [
  {
   "cell_type": "code",
   "execution_count": 56,
   "metadata": {
    "collapsed": true,
    "ExecuteTime": {
     "end_time": "2023-06-19T16:21:28.244110600Z",
     "start_time": "2023-06-19T16:21:28.174789800Z"
    }
   },
   "outputs": [],
   "source": [
    "import gower\n",
    "import numpy as np\n",
    "import pandas as pd\n",
    "from sklearn.cluster import KMeans, AgglomerativeClustering\n",
    "from sklearn.preprocessing import LabelEncoder, MinMaxScaler\n",
    "from torch.utils.data import Dataset, DataLoader\n",
    "import torch\n",
    "import torch.nn as nn\n",
    "from scipy.optimize import linear_sum_assignment"
   ]
  },
  {
   "cell_type": "code",
   "execution_count": 57,
   "outputs": [
    {
     "data": {
      "text/plain": "     age     sex               cp  trestbps   chol    fbs           restecg   \n0     63    Male   typical angina     145.0  233.0   True    lv hypertrophy  \\\n1     67    Male     asymptomatic     160.0  286.0  False    lv hypertrophy   \n2     67    Male     asymptomatic     120.0  229.0  False    lv hypertrophy   \n3     37    Male      non-anginal     130.0  250.0  False            normal   \n4     41  Female  atypical angina     130.0  204.0  False    lv hypertrophy   \n..   ...     ...              ...       ...    ...    ...               ...   \n913   62    Male     asymptomatic     158.0  170.0  False  st-t abnormality   \n914   46    Male     asymptomatic     134.0  310.0  False            normal   \n915   54  Female     asymptomatic     127.0  333.0   True  st-t abnormality   \n917   55    Male     asymptomatic     122.0  223.0   True  st-t abnormality   \n919   62    Male  atypical angina     120.0  254.0  False    lv hypertrophy   \n\n     thalch  exang  oldpeak        slope   ca               thal  num  \n0     150.0  False      2.3  downsloping  0.0       fixed defect    0  \n1     108.0   True      1.5         flat  3.0             normal    2  \n2     129.0   True      2.6         flat  2.0  reversable defect    1  \n3     187.0  False      3.5  downsloping  0.0             normal    0  \n4     172.0  False      1.4    upsloping  0.0             normal    0  \n..      ...    ...      ...          ...  ...                ...  ...  \n913   138.0   True      0.0          NaN  NaN                NaN    1  \n914   126.0  False      0.0          NaN  NaN             normal    2  \n915   154.0  False      0.0          NaN  NaN                NaN    1  \n917   100.0  False      0.0          NaN  NaN       fixed defect    2  \n919    93.0   True      0.0          NaN  NaN                NaN    1  \n\n[797 rows x 14 columns]",
      "text/html": "<div>\n<style scoped>\n    .dataframe tbody tr th:only-of-type {\n        vertical-align: middle;\n    }\n\n    .dataframe tbody tr th {\n        vertical-align: top;\n    }\n\n    .dataframe thead th {\n        text-align: right;\n    }\n</style>\n<table border=\"1\" class=\"dataframe\">\n  <thead>\n    <tr style=\"text-align: right;\">\n      <th></th>\n      <th>age</th>\n      <th>sex</th>\n      <th>cp</th>\n      <th>trestbps</th>\n      <th>chol</th>\n      <th>fbs</th>\n      <th>restecg</th>\n      <th>thalch</th>\n      <th>exang</th>\n      <th>oldpeak</th>\n      <th>slope</th>\n      <th>ca</th>\n      <th>thal</th>\n      <th>num</th>\n    </tr>\n  </thead>\n  <tbody>\n    <tr>\n      <th>0</th>\n      <td>63</td>\n      <td>Male</td>\n      <td>typical angina</td>\n      <td>145.0</td>\n      <td>233.0</td>\n      <td>True</td>\n      <td>lv hypertrophy</td>\n      <td>150.0</td>\n      <td>False</td>\n      <td>2.3</td>\n      <td>downsloping</td>\n      <td>0.0</td>\n      <td>fixed defect</td>\n      <td>0</td>\n    </tr>\n    <tr>\n      <th>1</th>\n      <td>67</td>\n      <td>Male</td>\n      <td>asymptomatic</td>\n      <td>160.0</td>\n      <td>286.0</td>\n      <td>False</td>\n      <td>lv hypertrophy</td>\n      <td>108.0</td>\n      <td>True</td>\n      <td>1.5</td>\n      <td>flat</td>\n      <td>3.0</td>\n      <td>normal</td>\n      <td>2</td>\n    </tr>\n    <tr>\n      <th>2</th>\n      <td>67</td>\n      <td>Male</td>\n      <td>asymptomatic</td>\n      <td>120.0</td>\n      <td>229.0</td>\n      <td>False</td>\n      <td>lv hypertrophy</td>\n      <td>129.0</td>\n      <td>True</td>\n      <td>2.6</td>\n      <td>flat</td>\n      <td>2.0</td>\n      <td>reversable defect</td>\n      <td>1</td>\n    </tr>\n    <tr>\n      <th>3</th>\n      <td>37</td>\n      <td>Male</td>\n      <td>non-anginal</td>\n      <td>130.0</td>\n      <td>250.0</td>\n      <td>False</td>\n      <td>normal</td>\n      <td>187.0</td>\n      <td>False</td>\n      <td>3.5</td>\n      <td>downsloping</td>\n      <td>0.0</td>\n      <td>normal</td>\n      <td>0</td>\n    </tr>\n    <tr>\n      <th>4</th>\n      <td>41</td>\n      <td>Female</td>\n      <td>atypical angina</td>\n      <td>130.0</td>\n      <td>204.0</td>\n      <td>False</td>\n      <td>lv hypertrophy</td>\n      <td>172.0</td>\n      <td>False</td>\n      <td>1.4</td>\n      <td>upsloping</td>\n      <td>0.0</td>\n      <td>normal</td>\n      <td>0</td>\n    </tr>\n    <tr>\n      <th>...</th>\n      <td>...</td>\n      <td>...</td>\n      <td>...</td>\n      <td>...</td>\n      <td>...</td>\n      <td>...</td>\n      <td>...</td>\n      <td>...</td>\n      <td>...</td>\n      <td>...</td>\n      <td>...</td>\n      <td>...</td>\n      <td>...</td>\n      <td>...</td>\n    </tr>\n    <tr>\n      <th>913</th>\n      <td>62</td>\n      <td>Male</td>\n      <td>asymptomatic</td>\n      <td>158.0</td>\n      <td>170.0</td>\n      <td>False</td>\n      <td>st-t abnormality</td>\n      <td>138.0</td>\n      <td>True</td>\n      <td>0.0</td>\n      <td>NaN</td>\n      <td>NaN</td>\n      <td>NaN</td>\n      <td>1</td>\n    </tr>\n    <tr>\n      <th>914</th>\n      <td>46</td>\n      <td>Male</td>\n      <td>asymptomatic</td>\n      <td>134.0</td>\n      <td>310.0</td>\n      <td>False</td>\n      <td>normal</td>\n      <td>126.0</td>\n      <td>False</td>\n      <td>0.0</td>\n      <td>NaN</td>\n      <td>NaN</td>\n      <td>normal</td>\n      <td>2</td>\n    </tr>\n    <tr>\n      <th>915</th>\n      <td>54</td>\n      <td>Female</td>\n      <td>asymptomatic</td>\n      <td>127.0</td>\n      <td>333.0</td>\n      <td>True</td>\n      <td>st-t abnormality</td>\n      <td>154.0</td>\n      <td>False</td>\n      <td>0.0</td>\n      <td>NaN</td>\n      <td>NaN</td>\n      <td>NaN</td>\n      <td>1</td>\n    </tr>\n    <tr>\n      <th>917</th>\n      <td>55</td>\n      <td>Male</td>\n      <td>asymptomatic</td>\n      <td>122.0</td>\n      <td>223.0</td>\n      <td>True</td>\n      <td>st-t abnormality</td>\n      <td>100.0</td>\n      <td>False</td>\n      <td>0.0</td>\n      <td>NaN</td>\n      <td>NaN</td>\n      <td>fixed defect</td>\n      <td>2</td>\n    </tr>\n    <tr>\n      <th>919</th>\n      <td>62</td>\n      <td>Male</td>\n      <td>atypical angina</td>\n      <td>120.0</td>\n      <td>254.0</td>\n      <td>False</td>\n      <td>lv hypertrophy</td>\n      <td>93.0</td>\n      <td>True</td>\n      <td>0.0</td>\n      <td>NaN</td>\n      <td>NaN</td>\n      <td>NaN</td>\n      <td>1</td>\n    </tr>\n  </tbody>\n</table>\n<p>797 rows × 14 columns</p>\n</div>"
     },
     "execution_count": 57,
     "metadata": {},
     "output_type": "execute_result"
    }
   ],
   "source": [
    "og_df = pd.read_csv(\"datasets/heart_disease_uci.csv\")\n",
    "og_df.drop(columns=[\"id\", \"dataset\"], inplace=True)\n",
    "og_df = og_df.drop(og_df[og_df[\"num\"] == 0].sample(frac=0.3).index)\n",
    "og_df # this df still has \"num\" -> the target"
   ],
   "metadata": {
    "collapsed": false,
    "ExecuteTime": {
     "end_time": "2023-06-19T16:21:28.246127200Z",
     "start_time": "2023-06-19T16:21:28.179645900Z"
    }
   }
  },
  {
   "cell_type": "code",
   "execution_count": 58,
   "outputs": [],
   "source": [
    "categorial_columns = [\"sex\", \"cp\", \"fbs\", \"restecg\", \"exang\", \"slope\", \"thal\"]\n",
    "cont_columns = [\"age\", \"trestbps\", \"chol\", \"thalch\", \"oldpeak\", \"ca\"]"
   ],
   "metadata": {
    "collapsed": false,
    "ExecuteTime": {
     "end_time": "2023-06-19T16:21:28.246127200Z",
     "start_time": "2023-06-19T16:21:28.213091100Z"
    }
   }
  },
  {
   "cell_type": "code",
   "execution_count": 59,
   "outputs": [
    {
     "data": {
      "text/plain": "          age  sex        cp  trestbps      chol  fbs   restecg    thalch   \n0    0.714286  1.0  1.000000     0.725  0.386401  0.5  0.000000  0.633803  \\\n1    0.795918  1.0  0.000000     0.800  0.474295  0.0  0.000000  0.338028   \n2    0.795918  1.0  0.000000     0.600  0.379768  0.0  0.000000  0.485915   \n3    0.183673  1.0  0.666667     0.650  0.414594  0.0  0.333333  0.894366   \n4    0.265306  0.0  0.333333     0.650  0.338308  0.0  0.000000  0.788732   \n..        ...  ...       ...       ...       ...  ...       ...       ...   \n913  0.693878  1.0  0.000000     0.790  0.281924  0.0  0.666667  0.549296   \n914  0.367347  1.0  0.000000     0.670  0.514096  0.0  0.333333  0.464789   \n915  0.530612  0.0  0.000000     0.635  0.552239  0.5  0.666667  0.661972   \n917  0.551020  1.0  0.000000     0.610  0.369818  0.5  0.666667  0.281690   \n919  0.693878  1.0  0.333333     0.600  0.421227  0.0  0.000000  0.232394   \n\n     exang   oldpeak     slope        ca      thal  \n0      0.0  0.556818  0.000000  0.000000  0.000000  \n1      0.5  0.465909  0.333333  1.000000  0.333333  \n2      0.5  0.590909  0.333333  0.666667  0.666667  \n3      0.0  0.693182  0.000000  0.000000  0.333333  \n4      0.0  0.454545  0.666667  0.000000  0.333333  \n..     ...       ...       ...       ...       ...  \n913    0.5  0.295455  1.000000  0.257692  1.000000  \n914    0.0  0.295455  1.000000  0.257692  0.333333  \n915    0.0  0.295455  1.000000  0.257692  1.000000  \n917    0.0  0.295455  1.000000  0.257692  0.000000  \n919    0.5  0.295455  1.000000  0.257692  1.000000  \n\n[797 rows x 13 columns]",
      "text/html": "<div>\n<style scoped>\n    .dataframe tbody tr th:only-of-type {\n        vertical-align: middle;\n    }\n\n    .dataframe tbody tr th {\n        vertical-align: top;\n    }\n\n    .dataframe thead th {\n        text-align: right;\n    }\n</style>\n<table border=\"1\" class=\"dataframe\">\n  <thead>\n    <tr style=\"text-align: right;\">\n      <th></th>\n      <th>age</th>\n      <th>sex</th>\n      <th>cp</th>\n      <th>trestbps</th>\n      <th>chol</th>\n      <th>fbs</th>\n      <th>restecg</th>\n      <th>thalch</th>\n      <th>exang</th>\n      <th>oldpeak</th>\n      <th>slope</th>\n      <th>ca</th>\n      <th>thal</th>\n    </tr>\n  </thead>\n  <tbody>\n    <tr>\n      <th>0</th>\n      <td>0.714286</td>\n      <td>1.0</td>\n      <td>1.000000</td>\n      <td>0.725</td>\n      <td>0.386401</td>\n      <td>0.5</td>\n      <td>0.000000</td>\n      <td>0.633803</td>\n      <td>0.0</td>\n      <td>0.556818</td>\n      <td>0.000000</td>\n      <td>0.000000</td>\n      <td>0.000000</td>\n    </tr>\n    <tr>\n      <th>1</th>\n      <td>0.795918</td>\n      <td>1.0</td>\n      <td>0.000000</td>\n      <td>0.800</td>\n      <td>0.474295</td>\n      <td>0.0</td>\n      <td>0.000000</td>\n      <td>0.338028</td>\n      <td>0.5</td>\n      <td>0.465909</td>\n      <td>0.333333</td>\n      <td>1.000000</td>\n      <td>0.333333</td>\n    </tr>\n    <tr>\n      <th>2</th>\n      <td>0.795918</td>\n      <td>1.0</td>\n      <td>0.000000</td>\n      <td>0.600</td>\n      <td>0.379768</td>\n      <td>0.0</td>\n      <td>0.000000</td>\n      <td>0.485915</td>\n      <td>0.5</td>\n      <td>0.590909</td>\n      <td>0.333333</td>\n      <td>0.666667</td>\n      <td>0.666667</td>\n    </tr>\n    <tr>\n      <th>3</th>\n      <td>0.183673</td>\n      <td>1.0</td>\n      <td>0.666667</td>\n      <td>0.650</td>\n      <td>0.414594</td>\n      <td>0.0</td>\n      <td>0.333333</td>\n      <td>0.894366</td>\n      <td>0.0</td>\n      <td>0.693182</td>\n      <td>0.000000</td>\n      <td>0.000000</td>\n      <td>0.333333</td>\n    </tr>\n    <tr>\n      <th>4</th>\n      <td>0.265306</td>\n      <td>0.0</td>\n      <td>0.333333</td>\n      <td>0.650</td>\n      <td>0.338308</td>\n      <td>0.0</td>\n      <td>0.000000</td>\n      <td>0.788732</td>\n      <td>0.0</td>\n      <td>0.454545</td>\n      <td>0.666667</td>\n      <td>0.000000</td>\n      <td>0.333333</td>\n    </tr>\n    <tr>\n      <th>...</th>\n      <td>...</td>\n      <td>...</td>\n      <td>...</td>\n      <td>...</td>\n      <td>...</td>\n      <td>...</td>\n      <td>...</td>\n      <td>...</td>\n      <td>...</td>\n      <td>...</td>\n      <td>...</td>\n      <td>...</td>\n      <td>...</td>\n    </tr>\n    <tr>\n      <th>913</th>\n      <td>0.693878</td>\n      <td>1.0</td>\n      <td>0.000000</td>\n      <td>0.790</td>\n      <td>0.281924</td>\n      <td>0.0</td>\n      <td>0.666667</td>\n      <td>0.549296</td>\n      <td>0.5</td>\n      <td>0.295455</td>\n      <td>1.000000</td>\n      <td>0.257692</td>\n      <td>1.000000</td>\n    </tr>\n    <tr>\n      <th>914</th>\n      <td>0.367347</td>\n      <td>1.0</td>\n      <td>0.000000</td>\n      <td>0.670</td>\n      <td>0.514096</td>\n      <td>0.0</td>\n      <td>0.333333</td>\n      <td>0.464789</td>\n      <td>0.0</td>\n      <td>0.295455</td>\n      <td>1.000000</td>\n      <td>0.257692</td>\n      <td>0.333333</td>\n    </tr>\n    <tr>\n      <th>915</th>\n      <td>0.530612</td>\n      <td>0.0</td>\n      <td>0.000000</td>\n      <td>0.635</td>\n      <td>0.552239</td>\n      <td>0.5</td>\n      <td>0.666667</td>\n      <td>0.661972</td>\n      <td>0.0</td>\n      <td>0.295455</td>\n      <td>1.000000</td>\n      <td>0.257692</td>\n      <td>1.000000</td>\n    </tr>\n    <tr>\n      <th>917</th>\n      <td>0.551020</td>\n      <td>1.0</td>\n      <td>0.000000</td>\n      <td>0.610</td>\n      <td>0.369818</td>\n      <td>0.5</td>\n      <td>0.666667</td>\n      <td>0.281690</td>\n      <td>0.0</td>\n      <td>0.295455</td>\n      <td>1.000000</td>\n      <td>0.257692</td>\n      <td>0.000000</td>\n    </tr>\n    <tr>\n      <th>919</th>\n      <td>0.693878</td>\n      <td>1.0</td>\n      <td>0.333333</td>\n      <td>0.600</td>\n      <td>0.421227</td>\n      <td>0.0</td>\n      <td>0.000000</td>\n      <td>0.232394</td>\n      <td>0.5</td>\n      <td>0.295455</td>\n      <td>1.000000</td>\n      <td>0.257692</td>\n      <td>1.000000</td>\n    </tr>\n  </tbody>\n</table>\n<p>797 rows × 13 columns</p>\n</div>"
     },
     "execution_count": 59,
     "metadata": {},
     "output_type": "execute_result"
    }
   ],
   "source": [
    "df_min_max = og_df.copy()\n",
    "df_min_max.drop(columns=\"num\", inplace=True)\n",
    "df_min_max[categorial_columns] = df_min_max[categorial_columns].apply(LabelEncoder().fit_transform)\n",
    "df_min_max[categorial_columns] = MinMaxScaler().fit_transform(df_min_max[categorial_columns])\n",
    "\n",
    "df_min_max[cont_columns] = MinMaxScaler().fit_transform(df_min_max[cont_columns])\n",
    "df_min_max = df_min_max.fillna(df_min_max.mean())\n",
    "df_min_max"
   ],
   "metadata": {
    "collapsed": false,
    "ExecuteTime": {
     "end_time": "2023-06-19T16:21:28.246127200Z",
     "start_time": "2023-06-19T16:21:28.218099Z"
    }
   }
  },
  {
   "cell_type": "code",
   "execution_count": 60,
   "outputs": [],
   "source": [
    "class HeartDiseaseDataset(Dataset):\n",
    "    def __init__(self, df):\n",
    "        self.cat = torch.tensor(df[categorial_columns].values, dtype=torch.float)\n",
    "        self.cont = torch.tensor(df[cont_columns].values, dtype=torch.float)\n",
    "\n",
    "    def __getitem__(self, idx):\n",
    "        return self.cat[idx], self.cont[idx]\n",
    "\n",
    "    def __len__(self):\n",
    "        return self.cat.shape[0]"
   ],
   "metadata": {
    "collapsed": false,
    "ExecuteTime": {
     "end_time": "2023-06-19T16:21:28.259396700Z",
     "start_time": "2023-06-19T16:21:28.248125900Z"
    }
   }
  },
  {
   "cell_type": "code",
   "execution_count": 61,
   "outputs": [
    {
     "data": {
      "text/plain": "797"
     },
     "execution_count": 61,
     "metadata": {},
     "output_type": "execute_result"
    }
   ],
   "source": [
    "dataset = HeartDiseaseDataset(df_min_max)\n",
    "dataloader = DataLoader(dataset, batch_size=100, shuffle=True)\n",
    "len(dataset)"
   ],
   "metadata": {
    "collapsed": false,
    "ExecuteTime": {
     "end_time": "2023-06-19T16:21:28.263403300Z",
     "start_time": "2023-06-19T16:21:28.254546500Z"
    }
   }
  },
  {
   "cell_type": "code",
   "execution_count": 62,
   "outputs": [
    {
     "name": "stdout",
     "output_type": "stream",
     "text": [
      "epoch: 1/100, loss = 0.201640\n",
      "epoch: 2/100, loss = 0.190897\n",
      "epoch: 3/100, loss = 0.181094\n",
      "epoch: 4/100, loss = 0.172507\n",
      "epoch: 5/100, loss = 0.163989\n",
      "epoch: 6/100, loss = 0.155754\n",
      "epoch: 7/100, loss = 0.148432\n",
      "epoch: 8/100, loss = 0.142346\n",
      "epoch: 9/100, loss = 0.135756\n",
      "epoch: 10/100, loss = 0.130184\n",
      "epoch: 11/100, loss = 0.124784\n",
      "epoch: 12/100, loss = 0.120340\n",
      "epoch: 13/100, loss = 0.116690\n",
      "epoch: 14/100, loss = 0.112920\n",
      "epoch: 15/100, loss = 0.109960\n",
      "epoch: 16/100, loss = 0.107231\n",
      "epoch: 17/100, loss = 0.104424\n",
      "epoch: 18/100, loss = 0.101859\n",
      "epoch: 19/100, loss = 0.099820\n",
      "epoch: 20/100, loss = 0.097713\n",
      "epoch: 21/100, loss = 0.095375\n",
      "epoch: 22/100, loss = 0.093883\n",
      "epoch: 23/100, loss = 0.092106\n",
      "epoch: 24/100, loss = 0.090128\n",
      "epoch: 25/100, loss = 0.087936\n",
      "epoch: 26/100, loss = 0.086172\n",
      "epoch: 27/100, loss = 0.084873\n",
      "epoch: 28/100, loss = 0.084188\n",
      "epoch: 29/100, loss = 0.081829\n",
      "epoch: 30/100, loss = 0.080613\n",
      "epoch: 31/100, loss = 0.078955\n",
      "epoch: 32/100, loss = 0.078263\n",
      "epoch: 33/100, loss = 0.077055\n",
      "epoch: 34/100, loss = 0.075723\n",
      "epoch: 35/100, loss = 0.075246\n",
      "epoch: 36/100, loss = 0.073891\n",
      "epoch: 37/100, loss = 0.072726\n",
      "epoch: 38/100, loss = 0.071869\n",
      "epoch: 39/100, loss = 0.071275\n",
      "epoch: 40/100, loss = 0.070144\n",
      "epoch: 41/100, loss = 0.069346\n",
      "epoch: 42/100, loss = 0.068482\n",
      "epoch: 43/100, loss = 0.068130\n",
      "epoch: 44/100, loss = 0.067257\n",
      "epoch: 45/100, loss = 0.066157\n",
      "epoch: 46/100, loss = 0.065785\n",
      "epoch: 47/100, loss = 0.065065\n",
      "epoch: 48/100, loss = 0.064098\n",
      "epoch: 49/100, loss = 0.063478\n",
      "epoch: 50/100, loss = 0.063123\n",
      "epoch: 51/100, loss = 0.062286\n",
      "epoch: 52/100, loss = 0.061660\n",
      "epoch: 53/100, loss = 0.061379\n",
      "epoch: 54/100, loss = 0.060678\n",
      "epoch: 55/100, loss = 0.059597\n",
      "epoch: 56/100, loss = 0.059750\n",
      "epoch: 57/100, loss = 0.058689\n",
      "epoch: 58/100, loss = 0.058193\n",
      "epoch: 59/100, loss = 0.057517\n",
      "epoch: 60/100, loss = 0.057687\n",
      "epoch: 61/100, loss = 0.056676\n",
      "epoch: 62/100, loss = 0.055910\n",
      "epoch: 63/100, loss = 0.055925\n",
      "epoch: 64/100, loss = 0.055107\n",
      "epoch: 65/100, loss = 0.055271\n",
      "epoch: 66/100, loss = 0.054329\n",
      "epoch: 67/100, loss = 0.054069\n",
      "epoch: 68/100, loss = 0.053238\n",
      "epoch: 69/100, loss = 0.053095\n",
      "epoch: 70/100, loss = 0.052433\n",
      "epoch: 71/100, loss = 0.052578\n",
      "epoch: 72/100, loss = 0.051513\n",
      "epoch: 73/100, loss = 0.051104\n",
      "epoch: 74/100, loss = 0.050745\n",
      "epoch: 75/100, loss = 0.050562\n",
      "epoch: 76/100, loss = 0.050157\n",
      "epoch: 77/100, loss = 0.049945\n",
      "epoch: 78/100, loss = 0.049257\n",
      "epoch: 79/100, loss = 0.048964\n",
      "epoch: 80/100, loss = 0.048565\n",
      "epoch: 81/100, loss = 0.048007\n",
      "epoch: 82/100, loss = 0.047737\n",
      "epoch: 83/100, loss = 0.047605\n",
      "epoch: 84/100, loss = 0.047088\n",
      "epoch: 85/100, loss = 0.046981\n",
      "epoch: 86/100, loss = 0.046317\n",
      "epoch: 87/100, loss = 0.046111\n",
      "epoch: 88/100, loss = 0.045904\n",
      "epoch: 89/100, loss = 0.045085\n",
      "epoch: 90/100, loss = 0.045251\n",
      "epoch: 91/100, loss = 0.044930\n",
      "epoch: 92/100, loss = 0.044240\n",
      "epoch: 93/100, loss = 0.044814\n",
      "epoch: 94/100, loss = 0.043692\n",
      "epoch: 95/100, loss = 0.043501\n",
      "epoch: 96/100, loss = 0.043525\n",
      "epoch: 97/100, loss = 0.043047\n",
      "epoch: 98/100, loss = 0.042451\n",
      "epoch: 99/100, loss = 0.042990\n",
      "epoch: 100/100, loss = 0.042084\n"
     ]
    }
   ],
   "source": [
    "class AllToCategorialAE(nn.Module):\n",
    "    def __init__(self):\n",
    "        super().__init__()\n",
    "        self.encoder = torch.nn.Sequential(\n",
    "            torch.nn.Linear(len(df_min_max.columns), 9),\n",
    "            torch.nn.BatchNorm1d(9),\n",
    "            torch.nn.ReLU(),\n",
    "            torch.nn.Linear(9, 4),\n",
    "            torch.nn.BatchNorm1d(4),\n",
    "            torch.nn.Sigmoid(),\n",
    "        )\n",
    "        self.decoder = torch.nn.Sequential(\n",
    "            torch.nn.Linear(4, len(categorial_columns)),\n",
    "            torch.nn.BatchNorm1d(len(categorial_columns)),\n",
    "            torch.nn.Sigmoid()\n",
    "        )\n",
    "\n",
    "\n",
    "    def forward(self, x):\n",
    "        encoded = self.encoder(x)\n",
    "        decoded = self.decoder(encoded)\n",
    "        return decoded\n",
    "\n",
    "\n",
    "epochs = 100\n",
    "lr = 0.001\n",
    "\n",
    "all_to_cat_model = AllToCategorialAE()\n",
    "\n",
    "criterion = nn.MSELoss()\n",
    "optimizer = torch.optim.Adam(all_to_cat_model.parameters(), lr=lr)\n",
    "\n",
    "for epoch in range(epochs):\n",
    "    all_to_cat_model.train()\n",
    "    loss = 0\n",
    "\n",
    "    for cat, cont in dataloader:\n",
    "        optimizer.zero_grad()\n",
    "        outputs = all_to_cat_model(torch.cat((cat, cont), 1))\n",
    "        train_loss = criterion(outputs,  cat)\n",
    "        train_loss.backward()\n",
    "        optimizer.step()\n",
    "        loss += train_loss.item()\n",
    "\n",
    "    loss = loss / len(dataloader)\n",
    "    print(\"epoch: {}/{}, loss = {:.6f}\".format(epoch + 1, epochs, loss))"
   ],
   "metadata": {
    "collapsed": false,
    "ExecuteTime": {
     "end_time": "2023-06-19T16:21:30.669901Z",
     "start_time": "2023-06-19T16:21:28.262404400Z"
    }
   }
  },
  {
   "cell_type": "code",
   "execution_count": 63,
   "outputs": [
    {
     "data": {
      "text/plain": "array([[0.836604  , 0.69939512, 0.72495413, ..., 0.63380282, 0.55681818,\n        0.        ],\n       [0.54750472, 0.33808276, 0.83925742, ..., 0.33802817, 0.46590909,\n        1.        ],\n       [0.55098021, 0.40891263, 0.86557841, ..., 0.48591549, 0.59090909,\n        0.66666667],\n       ...,\n       [0.44544202, 0.20854697, 0.35869312, ..., 0.66197183, 0.29545455,\n        0.25769231],\n       [0.47435492, 0.44441375, 0.27250209, ..., 0.28169014, 0.29545455,\n        0.25769231],\n       [0.54499245, 0.4557021 , 0.86200279, ..., 0.23239437, 0.29545455,\n        0.25769231]])"
     },
     "execution_count": 63,
     "metadata": {},
     "output_type": "execute_result"
    }
   ],
   "source": [
    "cat_features = all_to_cat_model.encoder(torch.tensor(df_min_max.values, dtype=torch.float)).detach().numpy()\n",
    "features = np.concatenate((cat_features, df_min_max[cont_columns].values), 1)\n",
    "features"
   ],
   "metadata": {
    "collapsed": false,
    "ExecuteTime": {
     "end_time": "2023-06-19T16:21:30.678907700Z",
     "start_time": "2023-06-19T16:21:30.671904500Z"
    }
   }
  },
  {
   "cell_type": "code",
   "execution_count": 64,
   "outputs": [],
   "source": [
    "def cluster_accuracy(y_pred, y_true):\n",
    "    # We need to map the labels to our cluster labels\n",
    "    # This is a linear assignment problem on a bipartite graph\n",
    "    k = max(len(np.unique(y_pred)), len(np.unique(y_pred)))\n",
    "    cost_matrix = np.zeros((k, k))\n",
    "    for i in range(y_pred.size):\n",
    "        cost_matrix[y_pred[i], y_true[i]] += 1\n",
    "    row_ind, col_ind = linear_sum_assignment(cost_matrix.max() - cost_matrix)\n",
    "    return cost_matrix[row_ind, col_ind].sum() / y_pred.size"
   ],
   "metadata": {
    "collapsed": false,
    "ExecuteTime": {
     "end_time": "2023-06-19T16:21:30.684831500Z",
     "start_time": "2023-06-19T16:21:30.678907700Z"
    }
   }
  },
  {
   "cell_type": "code",
   "execution_count": 65,
   "outputs": [
    {
     "data": {
      "text/plain": "0.36888331242158096"
     },
     "execution_count": 65,
     "metadata": {},
     "output_type": "execute_result"
    }
   ],
   "source": [
    "kmeans = KMeans(n_clusters=5, n_init=\"auto\", random_state=0).fit(features)\n",
    "all_to_cat_acc = cluster_accuracy(kmeans.labels_, og_df[\"num\"].to_numpy())\n",
    "all_to_cat_acc"
   ],
   "metadata": {
    "collapsed": false,
    "ExecuteTime": {
     "end_time": "2023-06-19T16:21:30.702424900Z",
     "start_time": "2023-06-19T16:21:30.687833300Z"
    }
   }
  },
  {
   "cell_type": "code",
   "execution_count": 66,
   "outputs": [
    {
     "name": "stdout",
     "output_type": "stream",
     "text": [
      "epoch: 1/100, loss = 0.207631\n",
      "epoch: 2/100, loss = 0.199944\n",
      "epoch: 3/100, loss = 0.192041\n",
      "epoch: 4/100, loss = 0.184285\n",
      "epoch: 5/100, loss = 0.176508\n",
      "epoch: 6/100, loss = 0.169518\n",
      "epoch: 7/100, loss = 0.162206\n",
      "epoch: 8/100, loss = 0.155303\n",
      "epoch: 9/100, loss = 0.148290\n",
      "epoch: 10/100, loss = 0.141614\n",
      "epoch: 11/100, loss = 0.135480\n",
      "epoch: 12/100, loss = 0.129494\n",
      "epoch: 13/100, loss = 0.123732\n",
      "epoch: 14/100, loss = 0.118748\n",
      "epoch: 15/100, loss = 0.114669\n",
      "epoch: 16/100, loss = 0.111119\n",
      "epoch: 17/100, loss = 0.107583\n",
      "epoch: 18/100, loss = 0.104848\n",
      "epoch: 19/100, loss = 0.102321\n",
      "epoch: 20/100, loss = 0.100119\n",
      "epoch: 21/100, loss = 0.098025\n",
      "epoch: 22/100, loss = 0.096052\n",
      "epoch: 23/100, loss = 0.094700\n",
      "epoch: 24/100, loss = 0.093286\n",
      "epoch: 25/100, loss = 0.091086\n",
      "epoch: 26/100, loss = 0.089813\n",
      "epoch: 27/100, loss = 0.088314\n",
      "epoch: 28/100, loss = 0.087217\n",
      "epoch: 29/100, loss = 0.085788\n",
      "epoch: 30/100, loss = 0.084733\n",
      "epoch: 31/100, loss = 0.083909\n",
      "epoch: 32/100, loss = 0.082332\n",
      "epoch: 33/100, loss = 0.080902\n",
      "epoch: 34/100, loss = 0.079720\n",
      "epoch: 35/100, loss = 0.078634\n",
      "epoch: 36/100, loss = 0.077720\n",
      "epoch: 37/100, loss = 0.076577\n",
      "epoch: 38/100, loss = 0.075338\n",
      "epoch: 39/100, loss = 0.074305\n",
      "epoch: 40/100, loss = 0.073231\n",
      "epoch: 41/100, loss = 0.072540\n",
      "epoch: 42/100, loss = 0.071219\n",
      "epoch: 43/100, loss = 0.070057\n",
      "epoch: 44/100, loss = 0.069234\n",
      "epoch: 45/100, loss = 0.068888\n",
      "epoch: 46/100, loss = 0.067521\n",
      "epoch: 47/100, loss = 0.067209\n",
      "epoch: 48/100, loss = 0.066451\n",
      "epoch: 49/100, loss = 0.065568\n",
      "epoch: 50/100, loss = 0.065145\n",
      "epoch: 51/100, loss = 0.064315\n",
      "epoch: 52/100, loss = 0.063810\n",
      "epoch: 53/100, loss = 0.063184\n",
      "epoch: 54/100, loss = 0.062698\n",
      "epoch: 55/100, loss = 0.061785\n",
      "epoch: 56/100, loss = 0.061156\n",
      "epoch: 57/100, loss = 0.061243\n",
      "epoch: 58/100, loss = 0.060564\n",
      "epoch: 59/100, loss = 0.059806\n",
      "epoch: 60/100, loss = 0.059135\n",
      "epoch: 61/100, loss = 0.058944\n",
      "epoch: 62/100, loss = 0.058354\n",
      "epoch: 63/100, loss = 0.057954\n",
      "epoch: 64/100, loss = 0.057382\n",
      "epoch: 65/100, loss = 0.056377\n",
      "epoch: 66/100, loss = 0.056535\n",
      "epoch: 67/100, loss = 0.055883\n",
      "epoch: 68/100, loss = 0.055453\n",
      "epoch: 69/100, loss = 0.054715\n",
      "epoch: 70/100, loss = 0.054129\n",
      "epoch: 71/100, loss = 0.053753\n",
      "epoch: 72/100, loss = 0.053281\n",
      "epoch: 73/100, loss = 0.053283\n",
      "epoch: 74/100, loss = 0.052475\n",
      "epoch: 75/100, loss = 0.052734\n",
      "epoch: 76/100, loss = 0.052092\n",
      "epoch: 77/100, loss = 0.051444\n",
      "epoch: 78/100, loss = 0.051232\n",
      "epoch: 79/100, loss = 0.050738\n",
      "epoch: 80/100, loss = 0.050982\n",
      "epoch: 81/100, loss = 0.050042\n",
      "epoch: 82/100, loss = 0.049642\n",
      "epoch: 83/100, loss = 0.049032\n",
      "epoch: 84/100, loss = 0.049089\n",
      "epoch: 85/100, loss = 0.048292\n",
      "epoch: 86/100, loss = 0.048501\n",
      "epoch: 87/100, loss = 0.048239\n",
      "epoch: 88/100, loss = 0.047607\n",
      "epoch: 89/100, loss = 0.047161\n",
      "epoch: 90/100, loss = 0.046583\n",
      "epoch: 91/100, loss = 0.046572\n",
      "epoch: 92/100, loss = 0.045997\n",
      "epoch: 93/100, loss = 0.045866\n",
      "epoch: 94/100, loss = 0.045420\n",
      "epoch: 95/100, loss = 0.045177\n",
      "epoch: 96/100, loss = 0.045558\n",
      "epoch: 97/100, loss = 0.044410\n",
      "epoch: 98/100, loss = 0.044330\n",
      "epoch: 99/100, loss = 0.044153\n",
      "epoch: 100/100, loss = 0.043585\n"
     ]
    }
   ],
   "source": [
    "class OnlyCategorialAE(nn.Module):\n",
    "    def __init__(self):\n",
    "        super().__init__()\n",
    "        self.encoder = torch.nn.Sequential(\n",
    "            torch.nn.Linear(len(categorial_columns), 4),\n",
    "            torch.nn.BatchNorm1d(4),\n",
    "            torch.nn.Sigmoid(),\n",
    "        )\n",
    "        self.decoder = torch.nn.Sequential(\n",
    "            torch.nn.Linear(4, len(categorial_columns)),\n",
    "            torch.nn.BatchNorm1d(len(categorial_columns)),\n",
    "            torch.nn.Sigmoid()\n",
    "        )\n",
    "\n",
    "\n",
    "    def forward(self, x):\n",
    "        encoded = self.encoder(x)\n",
    "        decoded = self.decoder(encoded)\n",
    "        return decoded\n",
    "\n",
    "\n",
    "epochs = 100\n",
    "lr = 0.001\n",
    "\n",
    "cat_to_cat_model = OnlyCategorialAE()\n",
    "\n",
    "criterion = nn.MSELoss()\n",
    "optimizer = torch.optim.Adam(cat_to_cat_model.parameters(), lr=lr)\n",
    "\n",
    "for epoch in range(epochs):\n",
    "    cat_to_cat_model.train()\n",
    "    loss = 0\n",
    "\n",
    "    for cat, cont in dataloader:\n",
    "        optimizer.zero_grad()\n",
    "        outputs = cat_to_cat_model(cat)\n",
    "        train_loss = criterion(outputs,  cat)\n",
    "        train_loss.backward()\n",
    "        optimizer.step()\n",
    "        loss += train_loss.item()\n",
    "\n",
    "    loss = loss / len(dataloader)\n",
    "    print(\"epoch: {}/{}, loss = {:.6f}\".format(epoch + 1, epochs, loss))"
   ],
   "metadata": {
    "collapsed": false,
    "ExecuteTime": {
     "end_time": "2023-06-19T16:21:32.605593300Z",
     "start_time": "2023-06-19T16:21:30.707426500Z"
    }
   }
  },
  {
   "cell_type": "code",
   "execution_count": 67,
   "outputs": [
    {
     "data": {
      "text/plain": "0.3864491844416562"
     },
     "execution_count": 67,
     "metadata": {},
     "output_type": "execute_result"
    }
   ],
   "source": [
    "cat_features = cat_to_cat_model.encoder(torch.tensor(df_min_max[categorial_columns].values, dtype=torch.float)).detach().numpy()\n",
    "features = np.concatenate((cat_features, df_min_max[cont_columns].values), 1)\n",
    "kmeans = KMeans(n_clusters=5, n_init=\"auto\", random_state=0).fit(features)\n",
    "cat_to_cat_acc = cluster_accuracy(kmeans.labels_, og_df[\"num\"].to_numpy())\n",
    "cat_to_cat_acc"
   ],
   "metadata": {
    "collapsed": false,
    "ExecuteTime": {
     "end_time": "2023-06-19T16:21:32.624884500Z",
     "start_time": "2023-06-19T16:21:32.606621300Z"
    }
   }
  },
  {
   "cell_type": "code",
   "execution_count": 68,
   "outputs": [
    {
     "data": {
      "text/plain": "     age  sex  cp  trestbps   chol  fbs  restecg  thalch  exang  oldpeak   \n0     63    1   3     145.0  233.0    1        0   150.0      0      2.3  \\\n1     67    1   0     160.0  286.0    0        0   108.0      1      1.5   \n2     67    1   0     120.0  229.0    0        0   129.0      1      2.6   \n3     37    1   2     130.0  250.0    0        1   187.0      0      3.5   \n4     41    0   1     130.0  204.0    0        0   172.0      0      1.4   \n..   ...  ...  ..       ...    ...  ...      ...     ...    ...      ...   \n913   62    1   0     158.0  170.0    0        2   138.0      1      0.0   \n914   46    1   0     134.0  310.0    0        1   126.0      0      0.0   \n915   54    0   0     127.0  333.0    1        2   154.0      0      0.0   \n917   55    1   0     122.0  223.0    1        2   100.0      0      0.0   \n919   62    1   1     120.0  254.0    0        0    93.0      1      0.0   \n\n     slope        ca  thal  \n0        0  0.000000     0  \n1        1  3.000000     1  \n2        1  2.000000     2  \n3        0  0.000000     1  \n4        2  0.000000     1  \n..     ...       ...   ...  \n913      3  0.773077     3  \n914      3  0.773077     1  \n915      3  0.773077     3  \n917      3  0.773077     0  \n919      3  0.773077     3  \n\n[797 rows x 13 columns]",
      "text/html": "<div>\n<style scoped>\n    .dataframe tbody tr th:only-of-type {\n        vertical-align: middle;\n    }\n\n    .dataframe tbody tr th {\n        vertical-align: top;\n    }\n\n    .dataframe thead th {\n        text-align: right;\n    }\n</style>\n<table border=\"1\" class=\"dataframe\">\n  <thead>\n    <tr style=\"text-align: right;\">\n      <th></th>\n      <th>age</th>\n      <th>sex</th>\n      <th>cp</th>\n      <th>trestbps</th>\n      <th>chol</th>\n      <th>fbs</th>\n      <th>restecg</th>\n      <th>thalch</th>\n      <th>exang</th>\n      <th>oldpeak</th>\n      <th>slope</th>\n      <th>ca</th>\n      <th>thal</th>\n    </tr>\n  </thead>\n  <tbody>\n    <tr>\n      <th>0</th>\n      <td>63</td>\n      <td>1</td>\n      <td>3</td>\n      <td>145.0</td>\n      <td>233.0</td>\n      <td>1</td>\n      <td>0</td>\n      <td>150.0</td>\n      <td>0</td>\n      <td>2.3</td>\n      <td>0</td>\n      <td>0.000000</td>\n      <td>0</td>\n    </tr>\n    <tr>\n      <th>1</th>\n      <td>67</td>\n      <td>1</td>\n      <td>0</td>\n      <td>160.0</td>\n      <td>286.0</td>\n      <td>0</td>\n      <td>0</td>\n      <td>108.0</td>\n      <td>1</td>\n      <td>1.5</td>\n      <td>1</td>\n      <td>3.000000</td>\n      <td>1</td>\n    </tr>\n    <tr>\n      <th>2</th>\n      <td>67</td>\n      <td>1</td>\n      <td>0</td>\n      <td>120.0</td>\n      <td>229.0</td>\n      <td>0</td>\n      <td>0</td>\n      <td>129.0</td>\n      <td>1</td>\n      <td>2.6</td>\n      <td>1</td>\n      <td>2.000000</td>\n      <td>2</td>\n    </tr>\n    <tr>\n      <th>3</th>\n      <td>37</td>\n      <td>1</td>\n      <td>2</td>\n      <td>130.0</td>\n      <td>250.0</td>\n      <td>0</td>\n      <td>1</td>\n      <td>187.0</td>\n      <td>0</td>\n      <td>3.5</td>\n      <td>0</td>\n      <td>0.000000</td>\n      <td>1</td>\n    </tr>\n    <tr>\n      <th>4</th>\n      <td>41</td>\n      <td>0</td>\n      <td>1</td>\n      <td>130.0</td>\n      <td>204.0</td>\n      <td>0</td>\n      <td>0</td>\n      <td>172.0</td>\n      <td>0</td>\n      <td>1.4</td>\n      <td>2</td>\n      <td>0.000000</td>\n      <td>1</td>\n    </tr>\n    <tr>\n      <th>...</th>\n      <td>...</td>\n      <td>...</td>\n      <td>...</td>\n      <td>...</td>\n      <td>...</td>\n      <td>...</td>\n      <td>...</td>\n      <td>...</td>\n      <td>...</td>\n      <td>...</td>\n      <td>...</td>\n      <td>...</td>\n      <td>...</td>\n    </tr>\n    <tr>\n      <th>913</th>\n      <td>62</td>\n      <td>1</td>\n      <td>0</td>\n      <td>158.0</td>\n      <td>170.0</td>\n      <td>0</td>\n      <td>2</td>\n      <td>138.0</td>\n      <td>1</td>\n      <td>0.0</td>\n      <td>3</td>\n      <td>0.773077</td>\n      <td>3</td>\n    </tr>\n    <tr>\n      <th>914</th>\n      <td>46</td>\n      <td>1</td>\n      <td>0</td>\n      <td>134.0</td>\n      <td>310.0</td>\n      <td>0</td>\n      <td>1</td>\n      <td>126.0</td>\n      <td>0</td>\n      <td>0.0</td>\n      <td>3</td>\n      <td>0.773077</td>\n      <td>1</td>\n    </tr>\n    <tr>\n      <th>915</th>\n      <td>54</td>\n      <td>0</td>\n      <td>0</td>\n      <td>127.0</td>\n      <td>333.0</td>\n      <td>1</td>\n      <td>2</td>\n      <td>154.0</td>\n      <td>0</td>\n      <td>0.0</td>\n      <td>3</td>\n      <td>0.773077</td>\n      <td>3</td>\n    </tr>\n    <tr>\n      <th>917</th>\n      <td>55</td>\n      <td>1</td>\n      <td>0</td>\n      <td>122.0</td>\n      <td>223.0</td>\n      <td>1</td>\n      <td>2</td>\n      <td>100.0</td>\n      <td>0</td>\n      <td>0.0</td>\n      <td>3</td>\n      <td>0.773077</td>\n      <td>0</td>\n    </tr>\n    <tr>\n      <th>919</th>\n      <td>62</td>\n      <td>1</td>\n      <td>1</td>\n      <td>120.0</td>\n      <td>254.0</td>\n      <td>0</td>\n      <td>0</td>\n      <td>93.0</td>\n      <td>1</td>\n      <td>0.0</td>\n      <td>3</td>\n      <td>0.773077</td>\n      <td>3</td>\n    </tr>\n  </tbody>\n</table>\n<p>797 rows × 13 columns</p>\n</div>"
     },
     "execution_count": 68,
     "metadata": {},
     "output_type": "execute_result"
    }
   ],
   "source": [
    "df_no_min_max = og_df.copy()\n",
    "df_no_min_max.drop(columns=\"num\", inplace=True)\n",
    "df_no_min_max[categorial_columns] = df_no_min_max[categorial_columns].apply(LabelEncoder().fit_transform)\n",
    "df_no_min_max = df_no_min_max.fillna(df_no_min_max.mean())\n",
    "df_no_min_max"
   ],
   "metadata": {
    "collapsed": false,
    "ExecuteTime": {
     "end_time": "2023-06-19T16:21:32.682306600Z",
     "start_time": "2023-06-19T16:21:32.625886700Z"
    }
   }
  },
  {
   "cell_type": "code",
   "execution_count": 69,
   "outputs": [
    {
     "data": {
      "text/plain": "797"
     },
     "execution_count": 69,
     "metadata": {},
     "output_type": "execute_result"
    }
   ],
   "source": [
    "no_min_max_dataset = HeartDiseaseDataset(df_no_min_max)\n",
    "no_min_max_dataloader = DataLoader(no_min_max_dataset, batch_size=100, shuffle=True)\n",
    "len(dataset)"
   ],
   "metadata": {
    "collapsed": false,
    "ExecuteTime": {
     "end_time": "2023-06-19T16:21:32.683308700Z",
     "start_time": "2023-06-19T16:21:32.650690300Z"
    }
   }
  },
  {
   "cell_type": "code",
   "execution_count": 70,
   "outputs": [
    {
     "name": "stdout",
     "output_type": "stream",
     "text": [
      "epoch: 1/100, loss = 1.393570\n",
      "epoch: 2/100, loss = 1.378754\n",
      "epoch: 3/100, loss = 1.360934\n",
      "epoch: 4/100, loss = 1.344735\n",
      "epoch: 5/100, loss = 1.327510\n",
      "epoch: 6/100, loss = 1.308347\n",
      "epoch: 7/100, loss = 1.290211\n",
      "epoch: 8/100, loss = 1.271844\n",
      "epoch: 9/100, loss = 1.255405\n",
      "epoch: 10/100, loss = 1.238767\n",
      "epoch: 11/100, loss = 1.220706\n",
      "epoch: 12/100, loss = 1.205071\n",
      "epoch: 13/100, loss = 1.191720\n",
      "epoch: 14/100, loss = 1.176893\n",
      "epoch: 15/100, loss = 1.162826\n",
      "epoch: 16/100, loss = 1.150756\n",
      "epoch: 17/100, loss = 1.139157\n",
      "epoch: 18/100, loss = 1.127496\n",
      "epoch: 19/100, loss = 1.116440\n",
      "epoch: 20/100, loss = 1.106147\n",
      "epoch: 21/100, loss = 1.096981\n",
      "epoch: 22/100, loss = 1.086606\n",
      "epoch: 23/100, loss = 1.079098\n",
      "epoch: 24/100, loss = 1.070676\n",
      "epoch: 25/100, loss = 1.063154\n",
      "epoch: 26/100, loss = 1.057193\n",
      "epoch: 27/100, loss = 1.051342\n",
      "epoch: 28/100, loss = 1.046333\n",
      "epoch: 29/100, loss = 1.040838\n",
      "epoch: 30/100, loss = 1.036871\n",
      "epoch: 31/100, loss = 1.032345\n",
      "epoch: 32/100, loss = 1.029247\n",
      "epoch: 33/100, loss = 1.023831\n",
      "epoch: 34/100, loss = 1.019492\n",
      "epoch: 35/100, loss = 1.017240\n",
      "epoch: 36/100, loss = 1.013118\n",
      "epoch: 37/100, loss = 1.009795\n",
      "epoch: 38/100, loss = 1.006039\n",
      "epoch: 39/100, loss = 1.002827\n",
      "epoch: 40/100, loss = 1.000004\n",
      "epoch: 41/100, loss = 0.996160\n",
      "epoch: 42/100, loss = 0.992672\n",
      "epoch: 43/100, loss = 0.990692\n",
      "epoch: 44/100, loss = 0.987010\n",
      "epoch: 45/100, loss = 0.984687\n",
      "epoch: 46/100, loss = 0.982918\n",
      "epoch: 47/100, loss = 0.979639\n",
      "epoch: 48/100, loss = 0.976187\n",
      "epoch: 49/100, loss = 0.974893\n",
      "epoch: 50/100, loss = 0.972591\n",
      "epoch: 51/100, loss = 0.969392\n",
      "epoch: 52/100, loss = 0.967868\n",
      "epoch: 53/100, loss = 0.964682\n",
      "epoch: 54/100, loss = 0.962364\n",
      "epoch: 55/100, loss = 0.961276\n",
      "epoch: 56/100, loss = 0.959650\n",
      "epoch: 57/100, loss = 0.957390\n",
      "epoch: 58/100, loss = 0.955359\n",
      "epoch: 59/100, loss = 0.953376\n",
      "epoch: 60/100, loss = 0.952183\n",
      "epoch: 61/100, loss = 0.949150\n",
      "epoch: 62/100, loss = 0.947959\n",
      "epoch: 63/100, loss = 0.946415\n",
      "epoch: 64/100, loss = 0.946693\n",
      "epoch: 65/100, loss = 0.942786\n",
      "epoch: 66/100, loss = 0.941093\n",
      "epoch: 67/100, loss = 0.939988\n",
      "epoch: 68/100, loss = 0.937721\n",
      "epoch: 69/100, loss = 0.937710\n",
      "epoch: 70/100, loss = 0.935049\n",
      "epoch: 71/100, loss = 0.932860\n",
      "epoch: 72/100, loss = 0.930953\n",
      "epoch: 73/100, loss = 0.931103\n",
      "epoch: 74/100, loss = 0.928290\n",
      "epoch: 75/100, loss = 0.927725\n",
      "epoch: 76/100, loss = 0.926287\n",
      "epoch: 77/100, loss = 0.924567\n",
      "epoch: 78/100, loss = 0.923063\n",
      "epoch: 79/100, loss = 0.921188\n",
      "epoch: 80/100, loss = 0.919693\n",
      "epoch: 81/100, loss = 0.918978\n",
      "epoch: 82/100, loss = 0.917551\n",
      "epoch: 83/100, loss = 0.916717\n",
      "epoch: 84/100, loss = 0.914732\n",
      "epoch: 85/100, loss = 0.913442\n",
      "epoch: 86/100, loss = 0.912215\n",
      "epoch: 87/100, loss = 0.912405\n",
      "epoch: 88/100, loss = 0.910147\n",
      "epoch: 89/100, loss = 0.908031\n",
      "epoch: 90/100, loss = 0.906578\n",
      "epoch: 91/100, loss = 0.905170\n",
      "epoch: 92/100, loss = 0.904626\n",
      "epoch: 93/100, loss = 0.903236\n",
      "epoch: 94/100, loss = 0.901821\n",
      "epoch: 95/100, loss = 0.900644\n",
      "epoch: 96/100, loss = 0.899958\n",
      "epoch: 97/100, loss = 0.898500\n",
      "epoch: 98/100, loss = 0.897670\n",
      "epoch: 99/100, loss = 0.896222\n",
      "epoch: 100/100, loss = 0.895824\n"
     ]
    }
   ],
   "source": [
    "epochs = 100\n",
    "lr = 0.001\n",
    "\n",
    "no_min_max_cat_to_cat_model = OnlyCategorialAE()\n",
    "\n",
    "criterion = nn.MSELoss()\n",
    "optimizer = torch.optim.Adam(no_min_max_cat_to_cat_model.parameters(), lr=lr)\n",
    "\n",
    "for epoch in range(epochs):\n",
    "    no_min_max_cat_to_cat_model.train()\n",
    "    loss = 0\n",
    "\n",
    "    for cat, cont in no_min_max_dataloader:\n",
    "        optimizer.zero_grad()\n",
    "        outputs = no_min_max_cat_to_cat_model(cat)\n",
    "        train_loss = criterion(outputs,  cat)\n",
    "        train_loss.backward()\n",
    "        optimizer.step()\n",
    "        loss += train_loss.item()\n",
    "\n",
    "    loss = loss / len(dataloader)\n",
    "    print(\"epoch: {}/{}, loss = {:.6f}\".format(epoch + 1, epochs, loss))"
   ],
   "metadata": {
    "collapsed": false,
    "ExecuteTime": {
     "end_time": "2023-06-19T16:21:34.547255400Z",
     "start_time": "2023-06-19T16:21:32.673304900Z"
    }
   }
  },
  {
   "cell_type": "code",
   "execution_count": 71,
   "outputs": [
    {
     "data": {
      "text/plain": "array([[0.32349589, 0.07337263, 0.63071227, ..., 0.63380282, 0.55681818,\n        0.        ],\n       [0.36416116, 0.55075395, 0.5547595 , ..., 0.33802817, 0.46590909,\n        1.        ],\n       [0.26801246, 0.59528887, 0.38193089, ..., 0.48591549, 0.59090909,\n        0.66666667],\n       ...,\n       [0.89896572, 0.63097548, 0.24113217, ..., 0.66197183, 0.29545455,\n        0.25769231],\n       [0.96516722, 0.56497169, 0.66133946, ..., 0.28169014, 0.29545455,\n        0.25769231],\n       [0.42713028, 0.33807147, 0.29711917, ..., 0.23239437, 0.29545455,\n        0.25769231]])"
     },
     "execution_count": 71,
     "metadata": {},
     "output_type": "execute_result"
    }
   ],
   "source": [
    "cat_features = no_min_max_cat_to_cat_model.encoder(torch.tensor(df_no_min_max[categorial_columns].values, dtype=torch.float)).detach().numpy()\n",
    "features = np.concatenate((cat_features, df_min_max[cont_columns].values), 1)\n",
    "features"
   ],
   "metadata": {
    "collapsed": false,
    "ExecuteTime": {
     "end_time": "2023-06-19T16:21:34.559928100Z",
     "start_time": "2023-06-19T16:21:34.551761800Z"
    }
   }
  },
  {
   "cell_type": "code",
   "execution_count": 72,
   "outputs": [
    {
     "data": {
      "text/plain": "0.39648682559598497"
     },
     "execution_count": 72,
     "metadata": {},
     "output_type": "execute_result"
    }
   ],
   "source": [
    "kmeans = KMeans(n_clusters=5, n_init=\"auto\", random_state=0).fit(features)\n",
    "no_min_max_acc = cluster_accuracy(kmeans.labels_, og_df[\"num\"].to_numpy())\n",
    "no_min_max_acc"
   ],
   "metadata": {
    "collapsed": false,
    "ExecuteTime": {
     "end_time": "2023-06-19T16:21:34.607583100Z",
     "start_time": "2023-06-19T16:21:34.562981900Z"
    }
   }
  },
  {
   "cell_type": "code",
   "execution_count": 73,
   "outputs": [
    {
     "name": "stdout",
     "output_type": "stream",
     "text": [
      "All Cols to Categorial Cols AE: 0.36888331242158096\n",
      "Categorial Cols to Categorial Cols AE: 0.3864491844416562\n",
      "Categorial Cols to Categorial Cols AE, No MinMax Norm: 0.39648682559598497\n"
     ]
    }
   ],
   "source": [
    "print(f\"All Cols to Categorial Cols AE: {all_to_cat_acc}\")\n",
    "print(f\"Categorial Cols to Categorial Cols AE: {cat_to_cat_acc}\")\n",
    "print(f\"Categorial Cols to Categorial Cols AE, No MinMax Norm: {no_min_max_acc}\")"
   ],
   "metadata": {
    "collapsed": false,
    "ExecuteTime": {
     "end_time": "2023-06-19T16:21:34.608579500Z",
     "start_time": "2023-06-19T16:21:34.597555300Z"
    }
   }
  },
  {
   "cell_type": "code",
   "execution_count": 73,
   "outputs": [],
   "source": [],
   "metadata": {
    "collapsed": false,
    "ExecuteTime": {
     "end_time": "2023-06-19T16:21:34.609579900Z",
     "start_time": "2023-06-19T16:21:34.606593700Z"
    }
   }
  }
 ],
 "metadata": {
  "kernelspec": {
   "display_name": "Python 3",
   "language": "python",
   "name": "python3"
  },
  "language_info": {
   "codemirror_mode": {
    "name": "ipython",
    "version": 2
   },
   "file_extension": ".py",
   "mimetype": "text/x-python",
   "name": "python",
   "nbconvert_exporter": "python",
   "pygments_lexer": "ipython2",
   "version": "2.7.6"
  }
 },
 "nbformat": 4,
 "nbformat_minor": 0
}
