{
 "cells": [
  {
   "cell_type": "code",
   "execution_count": 1,
   "metadata": {
    "collapsed": true,
    "ExecuteTime": {
     "start_time": "2023-06-17T15:44:34.085168Z",
     "end_time": "2023-06-17T15:44:36.238420Z"
    }
   },
   "outputs": [],
   "source": [
    "import gower\n",
    "import numpy as np\n",
    "import pandas as pd\n",
    "from sklearn.cluster import KMeans, AgglomerativeClustering\n",
    "from sklearn.preprocessing import LabelEncoder, MinMaxScaler\n",
    "from torch.utils.data import Dataset, DataLoader\n",
    "import torch\n",
    "import torch.nn as nn\n",
    "from scipy.optimize import linear_sum_assignment"
   ]
  },
  {
   "cell_type": "code",
   "execution_count": 2,
   "outputs": [
    {
     "data": {
      "text/plain": "     age     sex               cp  trestbps   chol    fbs           restecg   \n1     67    Male     asymptomatic     160.0  286.0  False    lv hypertrophy  \\\n2     67    Male     asymptomatic     120.0  229.0  False    lv hypertrophy   \n3     37    Male      non-anginal     130.0  250.0  False            normal   \n4     41  Female  atypical angina     130.0  204.0  False    lv hypertrophy   \n5     56    Male  atypical angina     120.0  236.0  False            normal   \n..   ...     ...              ...       ...    ...    ...               ...   \n914   46    Male     asymptomatic     134.0  310.0  False            normal   \n915   54  Female     asymptomatic     127.0  333.0   True  st-t abnormality   \n916   62    Male   typical angina       NaN  139.0  False  st-t abnormality   \n917   55    Male     asymptomatic     122.0  223.0   True  st-t abnormality   \n919   62    Male  atypical angina     120.0  254.0  False    lv hypertrophy   \n\n     thalch  exang  oldpeak        slope   ca               thal  num  \n1     108.0   True      1.5         flat  3.0             normal    2  \n2     129.0   True      2.6         flat  2.0  reversable defect    1  \n3     187.0  False      3.5  downsloping  0.0             normal    0  \n4     172.0  False      1.4    upsloping  0.0             normal    0  \n5     178.0  False      0.8    upsloping  0.0             normal    0  \n..      ...    ...      ...          ...  ...                ...  ...  \n914   126.0  False      0.0          NaN  NaN             normal    2  \n915   154.0  False      0.0          NaN  NaN                NaN    1  \n916     NaN    NaN      NaN          NaN  NaN                NaN    0  \n917   100.0  False      0.0          NaN  NaN       fixed defect    2  \n919    93.0   True      0.0          NaN  NaN                NaN    1  \n\n[797 rows x 14 columns]",
      "text/html": "<div>\n<style scoped>\n    .dataframe tbody tr th:only-of-type {\n        vertical-align: middle;\n    }\n\n    .dataframe tbody tr th {\n        vertical-align: top;\n    }\n\n    .dataframe thead th {\n        text-align: right;\n    }\n</style>\n<table border=\"1\" class=\"dataframe\">\n  <thead>\n    <tr style=\"text-align: right;\">\n      <th></th>\n      <th>age</th>\n      <th>sex</th>\n      <th>cp</th>\n      <th>trestbps</th>\n      <th>chol</th>\n      <th>fbs</th>\n      <th>restecg</th>\n      <th>thalch</th>\n      <th>exang</th>\n      <th>oldpeak</th>\n      <th>slope</th>\n      <th>ca</th>\n      <th>thal</th>\n      <th>num</th>\n    </tr>\n  </thead>\n  <tbody>\n    <tr>\n      <th>1</th>\n      <td>67</td>\n      <td>Male</td>\n      <td>asymptomatic</td>\n      <td>160.0</td>\n      <td>286.0</td>\n      <td>False</td>\n      <td>lv hypertrophy</td>\n      <td>108.0</td>\n      <td>True</td>\n      <td>1.5</td>\n      <td>flat</td>\n      <td>3.0</td>\n      <td>normal</td>\n      <td>2</td>\n    </tr>\n    <tr>\n      <th>2</th>\n      <td>67</td>\n      <td>Male</td>\n      <td>asymptomatic</td>\n      <td>120.0</td>\n      <td>229.0</td>\n      <td>False</td>\n      <td>lv hypertrophy</td>\n      <td>129.0</td>\n      <td>True</td>\n      <td>2.6</td>\n      <td>flat</td>\n      <td>2.0</td>\n      <td>reversable defect</td>\n      <td>1</td>\n    </tr>\n    <tr>\n      <th>3</th>\n      <td>37</td>\n      <td>Male</td>\n      <td>non-anginal</td>\n      <td>130.0</td>\n      <td>250.0</td>\n      <td>False</td>\n      <td>normal</td>\n      <td>187.0</td>\n      <td>False</td>\n      <td>3.5</td>\n      <td>downsloping</td>\n      <td>0.0</td>\n      <td>normal</td>\n      <td>0</td>\n    </tr>\n    <tr>\n      <th>4</th>\n      <td>41</td>\n      <td>Female</td>\n      <td>atypical angina</td>\n      <td>130.0</td>\n      <td>204.0</td>\n      <td>False</td>\n      <td>lv hypertrophy</td>\n      <td>172.0</td>\n      <td>False</td>\n      <td>1.4</td>\n      <td>upsloping</td>\n      <td>0.0</td>\n      <td>normal</td>\n      <td>0</td>\n    </tr>\n    <tr>\n      <th>5</th>\n      <td>56</td>\n      <td>Male</td>\n      <td>atypical angina</td>\n      <td>120.0</td>\n      <td>236.0</td>\n      <td>False</td>\n      <td>normal</td>\n      <td>178.0</td>\n      <td>False</td>\n      <td>0.8</td>\n      <td>upsloping</td>\n      <td>0.0</td>\n      <td>normal</td>\n      <td>0</td>\n    </tr>\n    <tr>\n      <th>...</th>\n      <td>...</td>\n      <td>...</td>\n      <td>...</td>\n      <td>...</td>\n      <td>...</td>\n      <td>...</td>\n      <td>...</td>\n      <td>...</td>\n      <td>...</td>\n      <td>...</td>\n      <td>...</td>\n      <td>...</td>\n      <td>...</td>\n      <td>...</td>\n    </tr>\n    <tr>\n      <th>914</th>\n      <td>46</td>\n      <td>Male</td>\n      <td>asymptomatic</td>\n      <td>134.0</td>\n      <td>310.0</td>\n      <td>False</td>\n      <td>normal</td>\n      <td>126.0</td>\n      <td>False</td>\n      <td>0.0</td>\n      <td>NaN</td>\n      <td>NaN</td>\n      <td>normal</td>\n      <td>2</td>\n    </tr>\n    <tr>\n      <th>915</th>\n      <td>54</td>\n      <td>Female</td>\n      <td>asymptomatic</td>\n      <td>127.0</td>\n      <td>333.0</td>\n      <td>True</td>\n      <td>st-t abnormality</td>\n      <td>154.0</td>\n      <td>False</td>\n      <td>0.0</td>\n      <td>NaN</td>\n      <td>NaN</td>\n      <td>NaN</td>\n      <td>1</td>\n    </tr>\n    <tr>\n      <th>916</th>\n      <td>62</td>\n      <td>Male</td>\n      <td>typical angina</td>\n      <td>NaN</td>\n      <td>139.0</td>\n      <td>False</td>\n      <td>st-t abnormality</td>\n      <td>NaN</td>\n      <td>NaN</td>\n      <td>NaN</td>\n      <td>NaN</td>\n      <td>NaN</td>\n      <td>NaN</td>\n      <td>0</td>\n    </tr>\n    <tr>\n      <th>917</th>\n      <td>55</td>\n      <td>Male</td>\n      <td>asymptomatic</td>\n      <td>122.0</td>\n      <td>223.0</td>\n      <td>True</td>\n      <td>st-t abnormality</td>\n      <td>100.0</td>\n      <td>False</td>\n      <td>0.0</td>\n      <td>NaN</td>\n      <td>NaN</td>\n      <td>fixed defect</td>\n      <td>2</td>\n    </tr>\n    <tr>\n      <th>919</th>\n      <td>62</td>\n      <td>Male</td>\n      <td>atypical angina</td>\n      <td>120.0</td>\n      <td>254.0</td>\n      <td>False</td>\n      <td>lv hypertrophy</td>\n      <td>93.0</td>\n      <td>True</td>\n      <td>0.0</td>\n      <td>NaN</td>\n      <td>NaN</td>\n      <td>NaN</td>\n      <td>1</td>\n    </tr>\n  </tbody>\n</table>\n<p>797 rows × 14 columns</p>\n</div>"
     },
     "execution_count": 2,
     "metadata": {},
     "output_type": "execute_result"
    }
   ],
   "source": [
    "og_df = pd.read_csv(\"datasets/heart_disease_uci.csv\")\n",
    "og_df.drop(columns=[\"id\", \"dataset\"], inplace=True)\n",
    "og_df = og_df.drop(og_df[og_df[\"num\"] == 0].sample(frac=0.3).index)\n",
    "og_df # this df still has \"num\" -> the target"
   ],
   "metadata": {
    "collapsed": false,
    "ExecuteTime": {
     "start_time": "2023-06-17T15:44:36.239421Z",
     "end_time": "2023-06-17T15:44:36.260310Z"
    }
   }
  },
  {
   "cell_type": "code",
   "execution_count": 3,
   "outputs": [],
   "source": [
    "categorial_columns = [\"sex\", \"cp\", \"fbs\", \"restecg\", \"exang\", \"slope\", \"thal\"]\n",
    "cont_columns = [\"age\", \"trestbps\", \"chol\", \"thalch\", \"oldpeak\", \"ca\"]"
   ],
   "metadata": {
    "collapsed": false,
    "ExecuteTime": {
     "start_time": "2023-06-17T15:44:36.262221Z",
     "end_time": "2023-06-17T15:44:36.275146Z"
    }
   }
  },
  {
   "cell_type": "code",
   "execution_count": 4,
   "outputs": [
    {
     "data": {
      "text/plain": "          age  sex        cp  trestbps      chol  fbs   restecg    thalch   \n1    0.795918  1.0  0.000000  0.800000  0.474295  0.0  0.000000  0.338028  \\\n2    0.795918  1.0  0.000000  0.600000  0.379768  0.0  0.000000  0.485915   \n3    0.183673  1.0  0.666667  0.650000  0.414594  0.0  0.333333  0.894366   \n4    0.265306  0.0  0.333333  0.650000  0.338308  0.0  0.000000  0.788732   \n5    0.571429  1.0  0.333333  0.600000  0.391376  0.0  0.333333  0.830986   \n..        ...  ...       ...       ...       ...  ...       ...       ...   \n914  0.367347  1.0  0.000000  0.670000  0.514096  0.0  0.333333  0.464789   \n915  0.530612  0.0  0.000000  0.635000  0.552239  0.5  0.666667  0.661972   \n916  0.693878  1.0  1.000000  0.661499  0.230514  0.0  0.666667  0.533786   \n917  0.551020  1.0  0.000000  0.610000  0.369818  0.5  0.666667  0.281690   \n919  0.693878  1.0  0.333333  0.600000  0.421227  0.0  0.000000  0.232394   \n\n     exang   oldpeak     slope        ca      thal  \n1      0.5  0.465909  0.333333  1.000000  0.333333  \n2      0.5  0.590909  0.333333  0.666667  0.666667  \n3      0.0  0.693182  0.000000  0.000000  0.333333  \n4      0.0  0.454545  0.666667  0.000000  0.333333  \n5      0.0  0.386364  0.666667  0.000000  0.333333  \n..     ...       ...       ...       ...       ...  \n914    0.0  0.295455  1.000000  0.247831  0.333333  \n915    0.0  0.295455  1.000000  0.247831  1.000000  \n916    1.0  0.405095  1.000000  0.247831  1.000000  \n917    0.0  0.295455  1.000000  0.247831  0.000000  \n919    0.5  0.295455  1.000000  0.247831  1.000000  \n\n[797 rows x 13 columns]",
      "text/html": "<div>\n<style scoped>\n    .dataframe tbody tr th:only-of-type {\n        vertical-align: middle;\n    }\n\n    .dataframe tbody tr th {\n        vertical-align: top;\n    }\n\n    .dataframe thead th {\n        text-align: right;\n    }\n</style>\n<table border=\"1\" class=\"dataframe\">\n  <thead>\n    <tr style=\"text-align: right;\">\n      <th></th>\n      <th>age</th>\n      <th>sex</th>\n      <th>cp</th>\n      <th>trestbps</th>\n      <th>chol</th>\n      <th>fbs</th>\n      <th>restecg</th>\n      <th>thalch</th>\n      <th>exang</th>\n      <th>oldpeak</th>\n      <th>slope</th>\n      <th>ca</th>\n      <th>thal</th>\n    </tr>\n  </thead>\n  <tbody>\n    <tr>\n      <th>1</th>\n      <td>0.795918</td>\n      <td>1.0</td>\n      <td>0.000000</td>\n      <td>0.800000</td>\n      <td>0.474295</td>\n      <td>0.0</td>\n      <td>0.000000</td>\n      <td>0.338028</td>\n      <td>0.5</td>\n      <td>0.465909</td>\n      <td>0.333333</td>\n      <td>1.000000</td>\n      <td>0.333333</td>\n    </tr>\n    <tr>\n      <th>2</th>\n      <td>0.795918</td>\n      <td>1.0</td>\n      <td>0.000000</td>\n      <td>0.600000</td>\n      <td>0.379768</td>\n      <td>0.0</td>\n      <td>0.000000</td>\n      <td>0.485915</td>\n      <td>0.5</td>\n      <td>0.590909</td>\n      <td>0.333333</td>\n      <td>0.666667</td>\n      <td>0.666667</td>\n    </tr>\n    <tr>\n      <th>3</th>\n      <td>0.183673</td>\n      <td>1.0</td>\n      <td>0.666667</td>\n      <td>0.650000</td>\n      <td>0.414594</td>\n      <td>0.0</td>\n      <td>0.333333</td>\n      <td>0.894366</td>\n      <td>0.0</td>\n      <td>0.693182</td>\n      <td>0.000000</td>\n      <td>0.000000</td>\n      <td>0.333333</td>\n    </tr>\n    <tr>\n      <th>4</th>\n      <td>0.265306</td>\n      <td>0.0</td>\n      <td>0.333333</td>\n      <td>0.650000</td>\n      <td>0.338308</td>\n      <td>0.0</td>\n      <td>0.000000</td>\n      <td>0.788732</td>\n      <td>0.0</td>\n      <td>0.454545</td>\n      <td>0.666667</td>\n      <td>0.000000</td>\n      <td>0.333333</td>\n    </tr>\n    <tr>\n      <th>5</th>\n      <td>0.571429</td>\n      <td>1.0</td>\n      <td>0.333333</td>\n      <td>0.600000</td>\n      <td>0.391376</td>\n      <td>0.0</td>\n      <td>0.333333</td>\n      <td>0.830986</td>\n      <td>0.0</td>\n      <td>0.386364</td>\n      <td>0.666667</td>\n      <td>0.000000</td>\n      <td>0.333333</td>\n    </tr>\n    <tr>\n      <th>...</th>\n      <td>...</td>\n      <td>...</td>\n      <td>...</td>\n      <td>...</td>\n      <td>...</td>\n      <td>...</td>\n      <td>...</td>\n      <td>...</td>\n      <td>...</td>\n      <td>...</td>\n      <td>...</td>\n      <td>...</td>\n      <td>...</td>\n    </tr>\n    <tr>\n      <th>914</th>\n      <td>0.367347</td>\n      <td>1.0</td>\n      <td>0.000000</td>\n      <td>0.670000</td>\n      <td>0.514096</td>\n      <td>0.0</td>\n      <td>0.333333</td>\n      <td>0.464789</td>\n      <td>0.0</td>\n      <td>0.295455</td>\n      <td>1.000000</td>\n      <td>0.247831</td>\n      <td>0.333333</td>\n    </tr>\n    <tr>\n      <th>915</th>\n      <td>0.530612</td>\n      <td>0.0</td>\n      <td>0.000000</td>\n      <td>0.635000</td>\n      <td>0.552239</td>\n      <td>0.5</td>\n      <td>0.666667</td>\n      <td>0.661972</td>\n      <td>0.0</td>\n      <td>0.295455</td>\n      <td>1.000000</td>\n      <td>0.247831</td>\n      <td>1.000000</td>\n    </tr>\n    <tr>\n      <th>916</th>\n      <td>0.693878</td>\n      <td>1.0</td>\n      <td>1.000000</td>\n      <td>0.661499</td>\n      <td>0.230514</td>\n      <td>0.0</td>\n      <td>0.666667</td>\n      <td>0.533786</td>\n      <td>1.0</td>\n      <td>0.405095</td>\n      <td>1.000000</td>\n      <td>0.247831</td>\n      <td>1.000000</td>\n    </tr>\n    <tr>\n      <th>917</th>\n      <td>0.551020</td>\n      <td>1.0</td>\n      <td>0.000000</td>\n      <td>0.610000</td>\n      <td>0.369818</td>\n      <td>0.5</td>\n      <td>0.666667</td>\n      <td>0.281690</td>\n      <td>0.0</td>\n      <td>0.295455</td>\n      <td>1.000000</td>\n      <td>0.247831</td>\n      <td>0.000000</td>\n    </tr>\n    <tr>\n      <th>919</th>\n      <td>0.693878</td>\n      <td>1.0</td>\n      <td>0.333333</td>\n      <td>0.600000</td>\n      <td>0.421227</td>\n      <td>0.0</td>\n      <td>0.000000</td>\n      <td>0.232394</td>\n      <td>0.5</td>\n      <td>0.295455</td>\n      <td>1.000000</td>\n      <td>0.247831</td>\n      <td>1.000000</td>\n    </tr>\n  </tbody>\n</table>\n<p>797 rows × 13 columns</p>\n</div>"
     },
     "execution_count": 4,
     "metadata": {},
     "output_type": "execute_result"
    }
   ],
   "source": [
    "df_min_max = og_df.copy()\n",
    "df_min_max.drop(columns=\"num\", inplace=True)\n",
    "df_min_max[categorial_columns] = df_min_max[categorial_columns].apply(LabelEncoder().fit_transform)\n",
    "df_min_max[categorial_columns] = MinMaxScaler().fit_transform(df_min_max[categorial_columns])\n",
    "\n",
    "df_min_max[cont_columns] = MinMaxScaler().fit_transform(df_min_max[cont_columns])\n",
    "df_min_max = df_min_max.fillna(df_min_max.mean())\n",
    "df_min_max"
   ],
   "metadata": {
    "collapsed": false,
    "ExecuteTime": {
     "start_time": "2023-06-17T15:44:36.264731Z",
     "end_time": "2023-06-17T15:44:36.332881Z"
    }
   }
  },
  {
   "cell_type": "code",
   "execution_count": 5,
   "outputs": [],
   "source": [
    "class HeartDiseaseDataset(Dataset):\n",
    "    def __init__(self, df):\n",
    "        self.cat = torch.tensor(df[categorial_columns].values, dtype=torch.float)\n",
    "        self.cont = torch.tensor(df[cont_columns].values, dtype=torch.float)\n",
    "\n",
    "    def __getitem__(self, idx):\n",
    "        return self.cat[idx], self.cont[idx]\n",
    "\n",
    "    def __len__(self):\n",
    "        return self.cat.shape[0]"
   ],
   "metadata": {
    "collapsed": false,
    "ExecuteTime": {
     "start_time": "2023-06-17T15:44:36.295137Z",
     "end_time": "2023-06-17T15:44:36.333889Z"
    }
   }
  },
  {
   "cell_type": "code",
   "execution_count": 6,
   "outputs": [
    {
     "data": {
      "text/plain": "797"
     },
     "execution_count": 6,
     "metadata": {},
     "output_type": "execute_result"
    }
   ],
   "source": [
    "dataset = HeartDiseaseDataset(df_min_max)\n",
    "dataloader = DataLoader(dataset, batch_size=100, shuffle=True)\n",
    "len(dataset)"
   ],
   "metadata": {
    "collapsed": false,
    "ExecuteTime": {
     "start_time": "2023-06-17T15:44:36.299113Z",
     "end_time": "2023-06-17T15:44:36.362622Z"
    }
   }
  },
  {
   "cell_type": "code",
   "execution_count": 7,
   "outputs": [
    {
     "name": "stdout",
     "output_type": "stream",
     "text": [
      "epoch: 1/100, loss = 0.207867\n",
      "epoch: 2/100, loss = 0.196106\n",
      "epoch: 3/100, loss = 0.185192\n",
      "epoch: 4/100, loss = 0.174876\n",
      "epoch: 5/100, loss = 0.165151\n",
      "epoch: 6/100, loss = 0.156160\n",
      "epoch: 7/100, loss = 0.148030\n",
      "epoch: 8/100, loss = 0.140446\n",
      "epoch: 9/100, loss = 0.133694\n",
      "epoch: 10/100, loss = 0.127757\n",
      "epoch: 11/100, loss = 0.122640\n",
      "epoch: 12/100, loss = 0.118013\n",
      "epoch: 13/100, loss = 0.114996\n",
      "epoch: 14/100, loss = 0.111006\n",
      "epoch: 15/100, loss = 0.108755\n",
      "epoch: 16/100, loss = 0.106082\n",
      "epoch: 17/100, loss = 0.103761\n",
      "epoch: 18/100, loss = 0.102000\n",
      "epoch: 19/100, loss = 0.099423\n",
      "epoch: 20/100, loss = 0.097690\n",
      "epoch: 21/100, loss = 0.096030\n",
      "epoch: 22/100, loss = 0.094571\n",
      "epoch: 23/100, loss = 0.093022\n",
      "epoch: 24/100, loss = 0.091855\n",
      "epoch: 25/100, loss = 0.090509\n",
      "epoch: 26/100, loss = 0.089028\n",
      "epoch: 27/100, loss = 0.087954\n",
      "epoch: 28/100, loss = 0.086970\n",
      "epoch: 29/100, loss = 0.085777\n",
      "epoch: 30/100, loss = 0.085383\n",
      "epoch: 31/100, loss = 0.083622\n",
      "epoch: 32/100, loss = 0.082818\n",
      "epoch: 33/100, loss = 0.082217\n",
      "epoch: 34/100, loss = 0.080789\n",
      "epoch: 35/100, loss = 0.080100\n",
      "epoch: 36/100, loss = 0.079138\n",
      "epoch: 37/100, loss = 0.078258\n",
      "epoch: 38/100, loss = 0.077026\n",
      "epoch: 39/100, loss = 0.076380\n",
      "epoch: 40/100, loss = 0.075593\n",
      "epoch: 41/100, loss = 0.074548\n",
      "epoch: 42/100, loss = 0.074097\n",
      "epoch: 43/100, loss = 0.073386\n",
      "epoch: 44/100, loss = 0.072292\n",
      "epoch: 45/100, loss = 0.071821\n",
      "epoch: 46/100, loss = 0.070709\n",
      "epoch: 47/100, loss = 0.070223\n",
      "epoch: 48/100, loss = 0.069477\n",
      "epoch: 49/100, loss = 0.068760\n",
      "epoch: 50/100, loss = 0.067875\n",
      "epoch: 51/100, loss = 0.067513\n",
      "epoch: 52/100, loss = 0.066914\n",
      "epoch: 53/100, loss = 0.066052\n",
      "epoch: 54/100, loss = 0.064978\n",
      "epoch: 55/100, loss = 0.065130\n",
      "epoch: 56/100, loss = 0.064502\n",
      "epoch: 57/100, loss = 0.063997\n",
      "epoch: 58/100, loss = 0.063065\n",
      "epoch: 59/100, loss = 0.062564\n",
      "epoch: 60/100, loss = 0.061641\n",
      "epoch: 61/100, loss = 0.061306\n",
      "epoch: 62/100, loss = 0.060662\n",
      "epoch: 63/100, loss = 0.060290\n",
      "epoch: 64/100, loss = 0.060112\n",
      "epoch: 65/100, loss = 0.059168\n",
      "epoch: 66/100, loss = 0.058636\n",
      "epoch: 67/100, loss = 0.058456\n",
      "epoch: 68/100, loss = 0.057907\n",
      "epoch: 69/100, loss = 0.057320\n",
      "epoch: 70/100, loss = 0.057113\n",
      "epoch: 71/100, loss = 0.056830\n",
      "epoch: 72/100, loss = 0.056053\n",
      "epoch: 73/100, loss = 0.055792\n",
      "epoch: 74/100, loss = 0.055491\n",
      "epoch: 75/100, loss = 0.055188\n",
      "epoch: 76/100, loss = 0.055014\n",
      "epoch: 77/100, loss = 0.054547\n",
      "epoch: 78/100, loss = 0.053833\n",
      "epoch: 79/100, loss = 0.053534\n",
      "epoch: 80/100, loss = 0.053188\n",
      "epoch: 81/100, loss = 0.053106\n",
      "epoch: 82/100, loss = 0.052458\n",
      "epoch: 83/100, loss = 0.051852\n",
      "epoch: 84/100, loss = 0.051877\n",
      "epoch: 85/100, loss = 0.051498\n",
      "epoch: 86/100, loss = 0.051162\n",
      "epoch: 87/100, loss = 0.051275\n",
      "epoch: 88/100, loss = 0.050784\n",
      "epoch: 89/100, loss = 0.049982\n",
      "epoch: 90/100, loss = 0.050018\n",
      "epoch: 91/100, loss = 0.049595\n",
      "epoch: 92/100, loss = 0.049177\n",
      "epoch: 93/100, loss = 0.049065\n",
      "epoch: 94/100, loss = 0.048761\n",
      "epoch: 95/100, loss = 0.048140\n",
      "epoch: 96/100, loss = 0.048155\n",
      "epoch: 97/100, loss = 0.048001\n",
      "epoch: 98/100, loss = 0.047950\n",
      "epoch: 99/100, loss = 0.047348\n",
      "epoch: 100/100, loss = 0.047129\n"
     ]
    }
   ],
   "source": [
    "class AllToCategorialAE(nn.Module):\n",
    "    def __init__(self):\n",
    "        super().__init__()\n",
    "        self.encoder = torch.nn.Sequential(\n",
    "            torch.nn.Linear(len(df_min_max.columns), 9),\n",
    "            torch.nn.BatchNorm1d(9),\n",
    "            torch.nn.ReLU(),\n",
    "            torch.nn.Linear(9, 4),\n",
    "            torch.nn.BatchNorm1d(4),\n",
    "            torch.nn.Sigmoid(),\n",
    "        )\n",
    "        self.decoder = torch.nn.Sequential(\n",
    "            torch.nn.Linear(4, len(categorial_columns)),\n",
    "            torch.nn.BatchNorm1d(len(categorial_columns)),\n",
    "            torch.nn.Sigmoid()\n",
    "        )\n",
    "\n",
    "\n",
    "    def forward(self, x):\n",
    "        encoded = self.encoder(x)\n",
    "        decoded = self.decoder(encoded)\n",
    "        return decoded\n",
    "\n",
    "\n",
    "epochs = 100\n",
    "lr = 0.001\n",
    "\n",
    "all_to_cat_model = AllToCategorialAE()\n",
    "\n",
    "criterion = nn.MSELoss()\n",
    "optimizer = torch.optim.Adam(all_to_cat_model.parameters(), lr=lr)\n",
    "\n",
    "for epoch in range(epochs):\n",
    "    all_to_cat_model.train()\n",
    "    loss = 0\n",
    "\n",
    "    for cat, cont in dataloader:\n",
    "        optimizer.zero_grad()\n",
    "        outputs = all_to_cat_model(torch.cat((cat, cont), 1))\n",
    "        train_loss = criterion(outputs,  cat)\n",
    "        train_loss.backward()\n",
    "        optimizer.step()\n",
    "        loss += train_loss.item()\n",
    "\n",
    "    loss = loss / len(dataloader)\n",
    "    print(\"epoch: {}/{}, loss = {:.6f}\".format(epoch + 1, epochs, loss))"
   ],
   "metadata": {
    "collapsed": false,
    "ExecuteTime": {
     "start_time": "2023-06-17T15:44:36.316349Z",
     "end_time": "2023-06-17T15:44:37.494417Z"
    }
   }
  },
  {
   "cell_type": "code",
   "execution_count": 8,
   "outputs": [
    {
     "data": {
      "text/plain": "array([[0.35617447, 0.13337889, 0.29803568, ..., 0.33802817, 0.46590909,\n        1.        ],\n       [0.38131493, 0.25230283, 0.17939673, ..., 0.48591549, 0.59090909,\n        0.66666667],\n       [0.45592242, 0.64279503, 0.60783374, ..., 0.8943662 , 0.69318182,\n        0.        ],\n       ...,\n       [0.30887136, 0.34223068, 0.719006  , ..., 0.53378594, 0.40509457,\n        0.24783147],\n       [0.72626001, 0.41355437, 0.7283901 , ..., 0.28169014, 0.29545455,\n        0.24783147],\n       [0.30457729, 0.27561513, 0.25782847, ..., 0.23239437, 0.29545455,\n        0.24783147]])"
     },
     "execution_count": 8,
     "metadata": {},
     "output_type": "execute_result"
    }
   ],
   "source": [
    "cat_features = all_to_cat_model.encoder(torch.tensor(df_min_max.values, dtype=torch.float)).detach().numpy()\n",
    "features = np.concatenate((cat_features, df_min_max[cont_columns].values), 1)\n",
    "features"
   ],
   "metadata": {
    "collapsed": false,
    "ExecuteTime": {
     "start_time": "2023-06-17T15:44:37.496417Z",
     "end_time": "2023-06-17T15:44:37.501714Z"
    }
   }
  },
  {
   "cell_type": "code",
   "execution_count": 9,
   "outputs": [],
   "source": [
    "def cluster_accuracy(y_pred, y_true):\n",
    "    # We need to map the labels to our cluster labels\n",
    "    # This is a linear assignment problem on a bipartite graph\n",
    "    k = max(len(np.unique(y_pred)), len(np.unique(y_pred)))\n",
    "    cost_matrix = np.zeros((k, k))\n",
    "    for i in range(y_pred.size):\n",
    "        cost_matrix[y_pred[i], y_true[i]] += 1\n",
    "    row_ind, col_ind = linear_sum_assignment(cost_matrix.max() - cost_matrix)\n",
    "    return cost_matrix[row_ind, col_ind].sum() / y_pred.size"
   ],
   "metadata": {
    "collapsed": false,
    "ExecuteTime": {
     "start_time": "2023-06-17T15:44:37.502720Z",
     "end_time": "2023-06-17T15:44:37.510650Z"
    }
   }
  },
  {
   "cell_type": "code",
   "execution_count": 10,
   "outputs": [
    {
     "data": {
      "text/plain": "0.32622333751568383"
     },
     "execution_count": 10,
     "metadata": {},
     "output_type": "execute_result"
    }
   ],
   "source": [
    "kmeans = KMeans(n_clusters=5, n_init=\"auto\", random_state=0).fit(features)\n",
    "all_to_cat_acc = cluster_accuracy(kmeans.labels_, og_df[\"num\"].to_numpy())\n",
    "all_to_cat_acc"
   ],
   "metadata": {
    "collapsed": false,
    "ExecuteTime": {
     "start_time": "2023-06-17T15:44:37.511652Z",
     "end_time": "2023-06-17T15:44:37.568527Z"
    }
   }
  },
  {
   "cell_type": "code",
   "execution_count": 11,
   "outputs": [
    {
     "name": "stdout",
     "output_type": "stream",
     "text": [
      "epoch: 1/100, loss = 0.181782\n",
      "epoch: 2/100, loss = 0.176070\n",
      "epoch: 3/100, loss = 0.170642\n",
      "epoch: 4/100, loss = 0.165406\n",
      "epoch: 5/100, loss = 0.160215\n",
      "epoch: 6/100, loss = 0.154988\n",
      "epoch: 7/100, loss = 0.150458\n",
      "epoch: 8/100, loss = 0.145371\n",
      "epoch: 9/100, loss = 0.140710\n",
      "epoch: 10/100, loss = 0.135677\n",
      "epoch: 11/100, loss = 0.131461\n",
      "epoch: 12/100, loss = 0.126702\n",
      "epoch: 13/100, loss = 0.122717\n",
      "epoch: 14/100, loss = 0.118969\n",
      "epoch: 15/100, loss = 0.115589\n",
      "epoch: 16/100, loss = 0.112219\n",
      "epoch: 17/100, loss = 0.109572\n",
      "epoch: 18/100, loss = 0.107365\n",
      "epoch: 19/100, loss = 0.104841\n",
      "epoch: 20/100, loss = 0.101919\n",
      "epoch: 21/100, loss = 0.099854\n",
      "epoch: 22/100, loss = 0.097579\n",
      "epoch: 23/100, loss = 0.095773\n",
      "epoch: 24/100, loss = 0.093674\n",
      "epoch: 25/100, loss = 0.092164\n",
      "epoch: 26/100, loss = 0.089863\n",
      "epoch: 27/100, loss = 0.088528\n",
      "epoch: 28/100, loss = 0.086744\n",
      "epoch: 29/100, loss = 0.085380\n",
      "epoch: 30/100, loss = 0.084247\n",
      "epoch: 31/100, loss = 0.082936\n",
      "epoch: 32/100, loss = 0.081474\n",
      "epoch: 33/100, loss = 0.080484\n",
      "epoch: 34/100, loss = 0.079400\n",
      "epoch: 35/100, loss = 0.078639\n",
      "epoch: 36/100, loss = 0.077408\n",
      "epoch: 37/100, loss = 0.076364\n",
      "epoch: 38/100, loss = 0.075720\n",
      "epoch: 39/100, loss = 0.074936\n",
      "epoch: 40/100, loss = 0.073893\n",
      "epoch: 41/100, loss = 0.072610\n",
      "epoch: 42/100, loss = 0.071781\n",
      "epoch: 43/100, loss = 0.071228\n",
      "epoch: 44/100, loss = 0.070386\n",
      "epoch: 45/100, loss = 0.069711\n",
      "epoch: 46/100, loss = 0.068689\n",
      "epoch: 47/100, loss = 0.068202\n",
      "epoch: 48/100, loss = 0.067347\n",
      "epoch: 49/100, loss = 0.066870\n",
      "epoch: 50/100, loss = 0.065846\n",
      "epoch: 51/100, loss = 0.065464\n",
      "epoch: 52/100, loss = 0.064514\n",
      "epoch: 53/100, loss = 0.063798\n",
      "epoch: 54/100, loss = 0.063211\n",
      "epoch: 55/100, loss = 0.063091\n",
      "epoch: 56/100, loss = 0.062087\n",
      "epoch: 57/100, loss = 0.061248\n",
      "epoch: 58/100, loss = 0.060663\n",
      "epoch: 59/100, loss = 0.059980\n",
      "epoch: 60/100, loss = 0.059799\n",
      "epoch: 61/100, loss = 0.059215\n",
      "epoch: 62/100, loss = 0.058240\n",
      "epoch: 63/100, loss = 0.057944\n",
      "epoch: 64/100, loss = 0.057045\n",
      "epoch: 65/100, loss = 0.056578\n",
      "epoch: 66/100, loss = 0.056241\n",
      "epoch: 67/100, loss = 0.055604\n",
      "epoch: 68/100, loss = 0.055186\n",
      "epoch: 69/100, loss = 0.054652\n",
      "epoch: 70/100, loss = 0.054143\n",
      "epoch: 71/100, loss = 0.053748\n",
      "epoch: 72/100, loss = 0.053167\n",
      "epoch: 73/100, loss = 0.053220\n",
      "epoch: 74/100, loss = 0.052327\n",
      "epoch: 75/100, loss = 0.052005\n",
      "epoch: 76/100, loss = 0.051405\n",
      "epoch: 77/100, loss = 0.051094\n",
      "epoch: 78/100, loss = 0.050407\n",
      "epoch: 79/100, loss = 0.050272\n",
      "epoch: 80/100, loss = 0.049673\n",
      "epoch: 81/100, loss = 0.049682\n",
      "epoch: 82/100, loss = 0.049214\n",
      "epoch: 83/100, loss = 0.048603\n",
      "epoch: 84/100, loss = 0.048529\n",
      "epoch: 85/100, loss = 0.047793\n",
      "epoch: 86/100, loss = 0.047717\n",
      "epoch: 87/100, loss = 0.047146\n",
      "epoch: 88/100, loss = 0.046687\n",
      "epoch: 89/100, loss = 0.046294\n",
      "epoch: 90/100, loss = 0.045985\n",
      "epoch: 91/100, loss = 0.045786\n",
      "epoch: 92/100, loss = 0.045742\n",
      "epoch: 93/100, loss = 0.045497\n",
      "epoch: 94/100, loss = 0.044857\n",
      "epoch: 95/100, loss = 0.044605\n",
      "epoch: 96/100, loss = 0.044213\n",
      "epoch: 97/100, loss = 0.043876\n",
      "epoch: 98/100, loss = 0.043976\n",
      "epoch: 99/100, loss = 0.043309\n",
      "epoch: 100/100, loss = 0.042987\n"
     ]
    }
   ],
   "source": [
    "class OnlyCategorialAE(nn.Module):\n",
    "    def __init__(self):\n",
    "        super().__init__()\n",
    "        self.encoder = torch.nn.Sequential(\n",
    "            torch.nn.Linear(len(categorial_columns), 4),\n",
    "            torch.nn.BatchNorm1d(4),\n",
    "            torch.nn.Sigmoid(),\n",
    "        )\n",
    "        self.decoder = torch.nn.Sequential(\n",
    "            torch.nn.Linear(4, len(categorial_columns)),\n",
    "            torch.nn.BatchNorm1d(len(categorial_columns)),\n",
    "            torch.nn.Sigmoid()\n",
    "        )\n",
    "\n",
    "\n",
    "    def forward(self, x):\n",
    "        encoded = self.encoder(x)\n",
    "        decoded = self.decoder(encoded)\n",
    "        return decoded\n",
    "\n",
    "\n",
    "epochs = 100\n",
    "lr = 0.001\n",
    "\n",
    "cat_to_cat_model = OnlyCategorialAE()\n",
    "\n",
    "criterion = nn.MSELoss()\n",
    "optimizer = torch.optim.Adam(cat_to_cat_model.parameters(), lr=lr)\n",
    "\n",
    "for epoch in range(epochs):\n",
    "    cat_to_cat_model.train()\n",
    "    loss = 0\n",
    "\n",
    "    for cat, cont in dataloader:\n",
    "        optimizer.zero_grad()\n",
    "        outputs = cat_to_cat_model(cat)\n",
    "        train_loss = criterion(outputs,  cat)\n",
    "        train_loss.backward()\n",
    "        optimizer.step()\n",
    "        loss += train_loss.item()\n",
    "\n",
    "    loss = loss / len(dataloader)\n",
    "    print(\"epoch: {}/{}, loss = {:.6f}\".format(epoch + 1, epochs, loss))"
   ],
   "metadata": {
    "collapsed": false,
    "ExecuteTime": {
     "start_time": "2023-06-17T15:44:37.569581Z",
     "end_time": "2023-06-17T15:44:38.490217Z"
    }
   }
  },
  {
   "cell_type": "code",
   "execution_count": 12,
   "outputs": [
    {
     "data": {
      "text/plain": "0.3601003764115433"
     },
     "execution_count": 12,
     "metadata": {},
     "output_type": "execute_result"
    }
   ],
   "source": [
    "cat_features = cat_to_cat_model.encoder(torch.tensor(df_min_max[categorial_columns].values, dtype=torch.float)).detach().numpy()\n",
    "features = np.concatenate((cat_features, df_min_max[cont_columns].values), 1)\n",
    "kmeans = KMeans(n_clusters=5, n_init=\"auto\", random_state=0).fit(features)\n",
    "cat_to_cat_acc = cluster_accuracy(kmeans.labels_, og_df[\"num\"].to_numpy())\n",
    "cat_to_cat_acc"
   ],
   "metadata": {
    "collapsed": false,
    "ExecuteTime": {
     "start_time": "2023-06-17T15:44:38.490217Z",
     "end_time": "2023-06-17T15:44:38.503739Z"
    }
   }
  },
  {
   "cell_type": "code",
   "execution_count": 13,
   "outputs": [
    {
     "name": "stdout",
     "output_type": "stream",
     "text": [
      "All Cols to Categorial Cols AE: 0.32622333751568383\n",
      "Categorial Cols to Categorial Cols AE: 0.3601003764115433\n"
     ]
    }
   ],
   "source": [
    "print(f\"All Cols to Categorial Cols AE: {all_to_cat_acc}\")\n",
    "print(f\"Categorial Cols to Categorial Cols AE: {cat_to_cat_acc}\")"
   ],
   "metadata": {
    "collapsed": false,
    "ExecuteTime": {
     "start_time": "2023-06-17T15:44:38.504742Z",
     "end_time": "2023-06-17T15:44:38.507455Z"
    }
   }
  },
  {
   "cell_type": "code",
   "execution_count": 14,
   "outputs": [
    {
     "data": {
      "text/plain": "     age  sex  cp    trestbps   chol  fbs  restecg      thalch  exang   \n1     67    1   0  160.000000  286.0    0        0  108.000000      1  \\\n2     67    1   0  120.000000  229.0    0        0  129.000000      1   \n3     37    1   2  130.000000  250.0    0        1  187.000000      0   \n4     41    0   1  130.000000  204.0    0        0  172.000000      0   \n5     56    1   1  120.000000  236.0    0        1  178.000000      0   \n..   ...  ...  ..         ...    ...  ...      ...         ...    ...   \n914   46    1   0  134.000000  310.0    0        1  126.000000      0   \n915   54    0   0  127.000000  333.0    1        2  154.000000      0   \n916   62    1   3  132.299866  139.0    0        2  135.797603      2   \n917   55    1   0  122.000000  223.0    1        2  100.000000      0   \n919   62    1   1  120.000000  254.0    0        0   93.000000      1   \n\n      oldpeak  slope        ca  thal  \n1    1.500000      1  3.000000     1  \n2    2.600000      1  2.000000     2  \n3    3.500000      0  0.000000     1  \n4    1.400000      2  0.000000     1  \n5    0.800000      2  0.000000     1  \n..        ...    ...       ...   ...  \n914  0.000000      3  0.743494     1  \n915  0.000000      3  0.743494     3  \n916  0.964832      3  0.743494     3  \n917  0.000000      3  0.743494     0  \n919  0.000000      3  0.743494     3  \n\n[797 rows x 13 columns]",
      "text/html": "<div>\n<style scoped>\n    .dataframe tbody tr th:only-of-type {\n        vertical-align: middle;\n    }\n\n    .dataframe tbody tr th {\n        vertical-align: top;\n    }\n\n    .dataframe thead th {\n        text-align: right;\n    }\n</style>\n<table border=\"1\" class=\"dataframe\">\n  <thead>\n    <tr style=\"text-align: right;\">\n      <th></th>\n      <th>age</th>\n      <th>sex</th>\n      <th>cp</th>\n      <th>trestbps</th>\n      <th>chol</th>\n      <th>fbs</th>\n      <th>restecg</th>\n      <th>thalch</th>\n      <th>exang</th>\n      <th>oldpeak</th>\n      <th>slope</th>\n      <th>ca</th>\n      <th>thal</th>\n    </tr>\n  </thead>\n  <tbody>\n    <tr>\n      <th>1</th>\n      <td>67</td>\n      <td>1</td>\n      <td>0</td>\n      <td>160.000000</td>\n      <td>286.0</td>\n      <td>0</td>\n      <td>0</td>\n      <td>108.000000</td>\n      <td>1</td>\n      <td>1.500000</td>\n      <td>1</td>\n      <td>3.000000</td>\n      <td>1</td>\n    </tr>\n    <tr>\n      <th>2</th>\n      <td>67</td>\n      <td>1</td>\n      <td>0</td>\n      <td>120.000000</td>\n      <td>229.0</td>\n      <td>0</td>\n      <td>0</td>\n      <td>129.000000</td>\n      <td>1</td>\n      <td>2.600000</td>\n      <td>1</td>\n      <td>2.000000</td>\n      <td>2</td>\n    </tr>\n    <tr>\n      <th>3</th>\n      <td>37</td>\n      <td>1</td>\n      <td>2</td>\n      <td>130.000000</td>\n      <td>250.0</td>\n      <td>0</td>\n      <td>1</td>\n      <td>187.000000</td>\n      <td>0</td>\n      <td>3.500000</td>\n      <td>0</td>\n      <td>0.000000</td>\n      <td>1</td>\n    </tr>\n    <tr>\n      <th>4</th>\n      <td>41</td>\n      <td>0</td>\n      <td>1</td>\n      <td>130.000000</td>\n      <td>204.0</td>\n      <td>0</td>\n      <td>0</td>\n      <td>172.000000</td>\n      <td>0</td>\n      <td>1.400000</td>\n      <td>2</td>\n      <td>0.000000</td>\n      <td>1</td>\n    </tr>\n    <tr>\n      <th>5</th>\n      <td>56</td>\n      <td>1</td>\n      <td>1</td>\n      <td>120.000000</td>\n      <td>236.0</td>\n      <td>0</td>\n      <td>1</td>\n      <td>178.000000</td>\n      <td>0</td>\n      <td>0.800000</td>\n      <td>2</td>\n      <td>0.000000</td>\n      <td>1</td>\n    </tr>\n    <tr>\n      <th>...</th>\n      <td>...</td>\n      <td>...</td>\n      <td>...</td>\n      <td>...</td>\n      <td>...</td>\n      <td>...</td>\n      <td>...</td>\n      <td>...</td>\n      <td>...</td>\n      <td>...</td>\n      <td>...</td>\n      <td>...</td>\n      <td>...</td>\n    </tr>\n    <tr>\n      <th>914</th>\n      <td>46</td>\n      <td>1</td>\n      <td>0</td>\n      <td>134.000000</td>\n      <td>310.0</td>\n      <td>0</td>\n      <td>1</td>\n      <td>126.000000</td>\n      <td>0</td>\n      <td>0.000000</td>\n      <td>3</td>\n      <td>0.743494</td>\n      <td>1</td>\n    </tr>\n    <tr>\n      <th>915</th>\n      <td>54</td>\n      <td>0</td>\n      <td>0</td>\n      <td>127.000000</td>\n      <td>333.0</td>\n      <td>1</td>\n      <td>2</td>\n      <td>154.000000</td>\n      <td>0</td>\n      <td>0.000000</td>\n      <td>3</td>\n      <td>0.743494</td>\n      <td>3</td>\n    </tr>\n    <tr>\n      <th>916</th>\n      <td>62</td>\n      <td>1</td>\n      <td>3</td>\n      <td>132.299866</td>\n      <td>139.0</td>\n      <td>0</td>\n      <td>2</td>\n      <td>135.797603</td>\n      <td>2</td>\n      <td>0.964832</td>\n      <td>3</td>\n      <td>0.743494</td>\n      <td>3</td>\n    </tr>\n    <tr>\n      <th>917</th>\n      <td>55</td>\n      <td>1</td>\n      <td>0</td>\n      <td>122.000000</td>\n      <td>223.0</td>\n      <td>1</td>\n      <td>2</td>\n      <td>100.000000</td>\n      <td>0</td>\n      <td>0.000000</td>\n      <td>3</td>\n      <td>0.743494</td>\n      <td>0</td>\n    </tr>\n    <tr>\n      <th>919</th>\n      <td>62</td>\n      <td>1</td>\n      <td>1</td>\n      <td>120.000000</td>\n      <td>254.0</td>\n      <td>0</td>\n      <td>0</td>\n      <td>93.000000</td>\n      <td>1</td>\n      <td>0.000000</td>\n      <td>3</td>\n      <td>0.743494</td>\n      <td>3</td>\n    </tr>\n  </tbody>\n</table>\n<p>797 rows × 13 columns</p>\n</div>"
     },
     "execution_count": 14,
     "metadata": {},
     "output_type": "execute_result"
    }
   ],
   "source": [
    "df_no_min_max = og_df.copy()\n",
    "df_no_min_max.drop(columns=\"num\", inplace=True)\n",
    "df_no_min_max[categorial_columns] = df_no_min_max[categorial_columns].apply(LabelEncoder().fit_transform)\n",
    "df_no_min_max = df_no_min_max.fillna(df_no_min_max.mean())\n",
    "df_no_min_max"
   ],
   "metadata": {
    "collapsed": false,
    "ExecuteTime": {
     "start_time": "2023-06-17T15:44:38.508454Z",
     "end_time": "2023-06-17T15:44:38.553888Z"
    }
   }
  },
  {
   "cell_type": "code",
   "execution_count": 15,
   "outputs": [
    {
     "data": {
      "text/plain": "797"
     },
     "execution_count": 15,
     "metadata": {},
     "output_type": "execute_result"
    }
   ],
   "source": [
    "no_min_max_dataset = HeartDiseaseDataset(df_no_min_max)\n",
    "no_min_max_dataloader = DataLoader(no_min_max_dataset, batch_size=100, shuffle=True)\n",
    "len(dataset)"
   ],
   "metadata": {
    "collapsed": false,
    "ExecuteTime": {
     "start_time": "2023-06-17T15:44:38.532014Z",
     "end_time": "2023-06-17T15:44:38.554888Z"
    }
   }
  },
  {
   "cell_type": "code",
   "execution_count": 16,
   "outputs": [
    {
     "name": "stdout",
     "output_type": "stream",
     "text": [
      "epoch: 1/100, loss = 1.323721\n",
      "epoch: 2/100, loss = 1.313531\n",
      "epoch: 3/100, loss = 1.302672\n",
      "epoch: 4/100, loss = 1.291262\n",
      "epoch: 5/100, loss = 1.278423\n",
      "epoch: 6/100, loss = 1.266150\n",
      "epoch: 7/100, loss = 1.251593\n",
      "epoch: 8/100, loss = 1.235791\n",
      "epoch: 9/100, loss = 1.218073\n",
      "epoch: 10/100, loss = 1.199752\n",
      "epoch: 11/100, loss = 1.183890\n",
      "epoch: 12/100, loss = 1.170153\n",
      "epoch: 13/100, loss = 1.160314\n",
      "epoch: 14/100, loss = 1.150356\n",
      "epoch: 15/100, loss = 1.141636\n",
      "epoch: 16/100, loss = 1.132371\n",
      "epoch: 17/100, loss = 1.123561\n",
      "epoch: 18/100, loss = 1.114459\n",
      "epoch: 19/100, loss = 1.105261\n",
      "epoch: 20/100, loss = 1.098103\n",
      "epoch: 21/100, loss = 1.091650\n",
      "epoch: 22/100, loss = 1.085226\n",
      "epoch: 23/100, loss = 1.080605\n",
      "epoch: 24/100, loss = 1.074548\n",
      "epoch: 25/100, loss = 1.069233\n",
      "epoch: 26/100, loss = 1.063841\n",
      "epoch: 27/100, loss = 1.059591\n",
      "epoch: 28/100, loss = 1.054830\n",
      "epoch: 29/100, loss = 1.049923\n",
      "epoch: 30/100, loss = 1.044210\n",
      "epoch: 31/100, loss = 1.039806\n",
      "epoch: 32/100, loss = 1.035593\n",
      "epoch: 33/100, loss = 1.030968\n",
      "epoch: 34/100, loss = 1.026794\n",
      "epoch: 35/100, loss = 1.023035\n",
      "epoch: 36/100, loss = 1.017953\n",
      "epoch: 37/100, loss = 1.013796\n",
      "epoch: 38/100, loss = 1.010029\n",
      "epoch: 39/100, loss = 1.006550\n",
      "epoch: 40/100, loss = 1.002021\n",
      "epoch: 41/100, loss = 0.999187\n",
      "epoch: 42/100, loss = 0.994536\n",
      "epoch: 43/100, loss = 0.990942\n",
      "epoch: 44/100, loss = 0.988614\n",
      "epoch: 45/100, loss = 0.985109\n",
      "epoch: 46/100, loss = 0.981211\n",
      "epoch: 47/100, loss = 0.978652\n",
      "epoch: 48/100, loss = 0.976530\n",
      "epoch: 49/100, loss = 0.972837\n",
      "epoch: 50/100, loss = 0.971242\n",
      "epoch: 51/100, loss = 0.967364\n",
      "epoch: 52/100, loss = 0.966180\n",
      "epoch: 53/100, loss = 0.962781\n",
      "epoch: 54/100, loss = 0.960353\n",
      "epoch: 55/100, loss = 0.958799\n",
      "epoch: 56/100, loss = 0.955238\n",
      "epoch: 57/100, loss = 0.953885\n",
      "epoch: 58/100, loss = 0.951691\n",
      "epoch: 59/100, loss = 0.949254\n",
      "epoch: 60/100, loss = 0.947139\n",
      "epoch: 61/100, loss = 0.946701\n",
      "epoch: 62/100, loss = 0.944369\n",
      "epoch: 63/100, loss = 0.941722\n",
      "epoch: 64/100, loss = 0.941051\n",
      "epoch: 65/100, loss = 0.938160\n",
      "epoch: 66/100, loss = 0.937160\n",
      "epoch: 67/100, loss = 0.934514\n",
      "epoch: 68/100, loss = 0.933728\n",
      "epoch: 69/100, loss = 0.931868\n",
      "epoch: 70/100, loss = 0.930355\n",
      "epoch: 71/100, loss = 0.927760\n",
      "epoch: 72/100, loss = 0.927064\n",
      "epoch: 73/100, loss = 0.924871\n",
      "epoch: 74/100, loss = 0.924545\n",
      "epoch: 75/100, loss = 0.921855\n",
      "epoch: 76/100, loss = 0.920642\n",
      "epoch: 77/100, loss = 0.918058\n",
      "epoch: 78/100, loss = 0.917383\n",
      "epoch: 79/100, loss = 0.917080\n",
      "epoch: 80/100, loss = 0.913993\n",
      "epoch: 81/100, loss = 0.912626\n",
      "epoch: 82/100, loss = 0.911665\n",
      "epoch: 83/100, loss = 0.909805\n",
      "epoch: 84/100, loss = 0.908573\n",
      "epoch: 85/100, loss = 0.907579\n",
      "epoch: 86/100, loss = 0.906292\n",
      "epoch: 87/100, loss = 0.904349\n",
      "epoch: 88/100, loss = 0.902492\n",
      "epoch: 89/100, loss = 0.901991\n",
      "epoch: 90/100, loss = 0.900897\n",
      "epoch: 91/100, loss = 0.900643\n",
      "epoch: 92/100, loss = 0.897812\n",
      "epoch: 93/100, loss = 0.896564\n",
      "epoch: 94/100, loss = 0.894480\n",
      "epoch: 95/100, loss = 0.893971\n",
      "epoch: 96/100, loss = 0.892913\n",
      "epoch: 97/100, loss = 0.891632\n",
      "epoch: 98/100, loss = 0.890667\n",
      "epoch: 99/100, loss = 0.889278\n",
      "epoch: 100/100, loss = 0.889827\n"
     ]
    }
   ],
   "source": [
    "epochs = 100\n",
    "lr = 0.001\n",
    "\n",
    "no_min_max_cat_to_cat_model = OnlyCategorialAE()\n",
    "\n",
    "criterion = nn.MSELoss()\n",
    "optimizer = torch.optim.Adam(no_min_max_cat_to_cat_model.parameters(), lr=lr)\n",
    "\n",
    "for epoch in range(epochs):\n",
    "    no_min_max_cat_to_cat_model.train()\n",
    "    loss = 0\n",
    "\n",
    "    for cat, cont in no_min_max_dataloader:\n",
    "        optimizer.zero_grad()\n",
    "        outputs = no_min_max_cat_to_cat_model(cat)\n",
    "        train_loss = criterion(outputs,  cat)\n",
    "        train_loss.backward()\n",
    "        optimizer.step()\n",
    "        loss += train_loss.item()\n",
    "\n",
    "    loss = loss / len(dataloader)\n",
    "    print(\"epoch: {}/{}, loss = {:.6f}\".format(epoch + 1, epochs, loss))"
   ],
   "metadata": {
    "collapsed": false,
    "ExecuteTime": {
     "start_time": "2023-06-17T15:44:38.538535Z",
     "end_time": "2023-06-17T15:44:39.488349Z"
    }
   }
  },
  {
   "cell_type": "code",
   "execution_count": 17,
   "outputs": [
    {
     "data": {
      "text/plain": "array([[  0.57635373,   0.238298  ,   0.58382416, ..., 108.        ,\n          1.5       ,   3.        ],\n       [  0.58219784,   0.32884163,   0.72077841, ..., 129.        ,\n          2.6       ,   2.        ],\n       [  0.27503547,   0.27279717,   0.39024404, ..., 187.        ,\n          3.5       ,   0.        ],\n       ...,\n       [  0.54734182,   0.7800532 ,   0.50838709, ..., 135.7976032 ,\n          0.96483221,   0.74349442],\n       [  0.635939  ,   0.79851639,   0.28082404, ..., 100.        ,\n          0.        ,   0.74349442],\n       [  0.46205655,   0.63187206,   0.62006289, ...,  93.        ,\n          0.        ,   0.74349442]])"
     },
     "execution_count": 17,
     "metadata": {},
     "output_type": "execute_result"
    }
   ],
   "source": [
    "cat_features = no_min_max_cat_to_cat_model.encoder(torch.tensor(df_no_min_max[categorial_columns].values, dtype=torch.float)).detach().numpy()\n",
    "features = np.concatenate((cat_features, df_no_min_max[cont_columns].values), 1)\n",
    "features"
   ],
   "metadata": {
    "collapsed": false,
    "ExecuteTime": {
     "start_time": "2023-06-17T15:44:39.489391Z",
     "end_time": "2023-06-17T15:44:39.495436Z"
    }
   }
  },
  {
   "cell_type": "code",
   "execution_count": 18,
   "outputs": [
    {
     "data": {
      "text/plain": "0.3462986198243413"
     },
     "execution_count": 18,
     "metadata": {},
     "output_type": "execute_result"
    }
   ],
   "source": [
    "kmeans = KMeans(n_clusters=5, n_init=\"auto\", random_state=0).fit(features)\n",
    "no_min_max_acc = cluster_accuracy(kmeans.labels_, og_df[\"num\"].to_numpy())\n",
    "no_min_max_acc"
   ],
   "metadata": {
    "collapsed": false,
    "ExecuteTime": {
     "start_time": "2023-06-17T15:44:39.496437Z",
     "end_time": "2023-06-17T15:44:39.509167Z"
    }
   }
  },
  {
   "cell_type": "code",
   "execution_count": 18,
   "outputs": [],
   "source": [],
   "metadata": {
    "collapsed": false,
    "ExecuteTime": {
     "start_time": "2023-06-17T15:44:39.510167Z",
     "end_time": "2023-06-17T15:44:39.527263Z"
    }
   }
  }
 ],
 "metadata": {
  "kernelspec": {
   "display_name": "Python 3",
   "language": "python",
   "name": "python3"
  },
  "language_info": {
   "codemirror_mode": {
    "name": "ipython",
    "version": 2
   },
   "file_extension": ".py",
   "mimetype": "text/x-python",
   "name": "python",
   "nbconvert_exporter": "python",
   "pygments_lexer": "ipython2",
   "version": "2.7.6"
  }
 },
 "nbformat": 4,
 "nbformat_minor": 0
}
