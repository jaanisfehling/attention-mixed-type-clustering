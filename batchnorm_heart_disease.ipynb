{
 "cells": [
  {
   "cell_type": "code",
   "execution_count": 28,
   "metadata": {
    "collapsed": true,
    "ExecuteTime": {
     "end_time": "2023-06-13T16:27:45.421886800Z",
     "start_time": "2023-06-13T16:27:45.419366900Z"
    }
   },
   "outputs": [],
   "source": [
    "import gower\n",
    "import numpy as np\n",
    "import pandas as pd\n",
    "from sklearn.cluster import KMeans, AgglomerativeClustering\n",
    "from sklearn.preprocessing import LabelEncoder, MinMaxScaler\n",
    "from torch.utils.data import Dataset, DataLoader\n",
    "import torch\n",
    "import torch.nn as nn\n",
    "from scipy.optimize import linear_sum_assignment"
   ]
  },
  {
   "cell_type": "code",
   "execution_count": 29,
   "outputs": [
    {
     "data": {
      "text/plain": "     age     sex               cp  trestbps   chol    fbs           restecg   \n0     63    Male   typical angina     145.0  233.0   True    lv hypertrophy  \\\n1     67    Male     asymptomatic     160.0  286.0  False    lv hypertrophy   \n2     67    Male     asymptomatic     120.0  229.0  False    lv hypertrophy   \n3     37    Male      non-anginal     130.0  250.0  False            normal   \n4     41  Female  atypical angina     130.0  204.0  False    lv hypertrophy   \n..   ...     ...              ...       ...    ...    ...               ...   \n914   46    Male     asymptomatic     134.0  310.0  False            normal   \n915   54  Female     asymptomatic     127.0  333.0   True  st-t abnormality   \n917   55    Male     asymptomatic     122.0  223.0   True  st-t abnormality   \n918   58    Male     asymptomatic       NaN  385.0   True    lv hypertrophy   \n919   62    Male  atypical angina     120.0  254.0  False    lv hypertrophy   \n\n     thalch  exang  oldpeak        slope   ca               thal  num  \n0     150.0  False      2.3  downsloping  0.0       fixed defect    0  \n1     108.0   True      1.5         flat  3.0             normal    2  \n2     129.0   True      2.6         flat  2.0  reversable defect    1  \n3     187.0  False      3.5  downsloping  0.0             normal    0  \n4     172.0  False      1.4    upsloping  0.0             normal    0  \n..      ...    ...      ...          ...  ...                ...  ...  \n914   126.0  False      0.0          NaN  NaN             normal    2  \n915   154.0  False      0.0          NaN  NaN                NaN    1  \n917   100.0  False      0.0          NaN  NaN       fixed defect    2  \n918     NaN    NaN      NaN          NaN  NaN                NaN    0  \n919    93.0   True      0.0          NaN  NaN                NaN    1  \n\n[797 rows x 14 columns]",
      "text/html": "<div>\n<style scoped>\n    .dataframe tbody tr th:only-of-type {\n        vertical-align: middle;\n    }\n\n    .dataframe tbody tr th {\n        vertical-align: top;\n    }\n\n    .dataframe thead th {\n        text-align: right;\n    }\n</style>\n<table border=\"1\" class=\"dataframe\">\n  <thead>\n    <tr style=\"text-align: right;\">\n      <th></th>\n      <th>age</th>\n      <th>sex</th>\n      <th>cp</th>\n      <th>trestbps</th>\n      <th>chol</th>\n      <th>fbs</th>\n      <th>restecg</th>\n      <th>thalch</th>\n      <th>exang</th>\n      <th>oldpeak</th>\n      <th>slope</th>\n      <th>ca</th>\n      <th>thal</th>\n      <th>num</th>\n    </tr>\n  </thead>\n  <tbody>\n    <tr>\n      <th>0</th>\n      <td>63</td>\n      <td>Male</td>\n      <td>typical angina</td>\n      <td>145.0</td>\n      <td>233.0</td>\n      <td>True</td>\n      <td>lv hypertrophy</td>\n      <td>150.0</td>\n      <td>False</td>\n      <td>2.3</td>\n      <td>downsloping</td>\n      <td>0.0</td>\n      <td>fixed defect</td>\n      <td>0</td>\n    </tr>\n    <tr>\n      <th>1</th>\n      <td>67</td>\n      <td>Male</td>\n      <td>asymptomatic</td>\n      <td>160.0</td>\n      <td>286.0</td>\n      <td>False</td>\n      <td>lv hypertrophy</td>\n      <td>108.0</td>\n      <td>True</td>\n      <td>1.5</td>\n      <td>flat</td>\n      <td>3.0</td>\n      <td>normal</td>\n      <td>2</td>\n    </tr>\n    <tr>\n      <th>2</th>\n      <td>67</td>\n      <td>Male</td>\n      <td>asymptomatic</td>\n      <td>120.0</td>\n      <td>229.0</td>\n      <td>False</td>\n      <td>lv hypertrophy</td>\n      <td>129.0</td>\n      <td>True</td>\n      <td>2.6</td>\n      <td>flat</td>\n      <td>2.0</td>\n      <td>reversable defect</td>\n      <td>1</td>\n    </tr>\n    <tr>\n      <th>3</th>\n      <td>37</td>\n      <td>Male</td>\n      <td>non-anginal</td>\n      <td>130.0</td>\n      <td>250.0</td>\n      <td>False</td>\n      <td>normal</td>\n      <td>187.0</td>\n      <td>False</td>\n      <td>3.5</td>\n      <td>downsloping</td>\n      <td>0.0</td>\n      <td>normal</td>\n      <td>0</td>\n    </tr>\n    <tr>\n      <th>4</th>\n      <td>41</td>\n      <td>Female</td>\n      <td>atypical angina</td>\n      <td>130.0</td>\n      <td>204.0</td>\n      <td>False</td>\n      <td>lv hypertrophy</td>\n      <td>172.0</td>\n      <td>False</td>\n      <td>1.4</td>\n      <td>upsloping</td>\n      <td>0.0</td>\n      <td>normal</td>\n      <td>0</td>\n    </tr>\n    <tr>\n      <th>...</th>\n      <td>...</td>\n      <td>...</td>\n      <td>...</td>\n      <td>...</td>\n      <td>...</td>\n      <td>...</td>\n      <td>...</td>\n      <td>...</td>\n      <td>...</td>\n      <td>...</td>\n      <td>...</td>\n      <td>...</td>\n      <td>...</td>\n      <td>...</td>\n    </tr>\n    <tr>\n      <th>914</th>\n      <td>46</td>\n      <td>Male</td>\n      <td>asymptomatic</td>\n      <td>134.0</td>\n      <td>310.0</td>\n      <td>False</td>\n      <td>normal</td>\n      <td>126.0</td>\n      <td>False</td>\n      <td>0.0</td>\n      <td>NaN</td>\n      <td>NaN</td>\n      <td>normal</td>\n      <td>2</td>\n    </tr>\n    <tr>\n      <th>915</th>\n      <td>54</td>\n      <td>Female</td>\n      <td>asymptomatic</td>\n      <td>127.0</td>\n      <td>333.0</td>\n      <td>True</td>\n      <td>st-t abnormality</td>\n      <td>154.0</td>\n      <td>False</td>\n      <td>0.0</td>\n      <td>NaN</td>\n      <td>NaN</td>\n      <td>NaN</td>\n      <td>1</td>\n    </tr>\n    <tr>\n      <th>917</th>\n      <td>55</td>\n      <td>Male</td>\n      <td>asymptomatic</td>\n      <td>122.0</td>\n      <td>223.0</td>\n      <td>True</td>\n      <td>st-t abnormality</td>\n      <td>100.0</td>\n      <td>False</td>\n      <td>0.0</td>\n      <td>NaN</td>\n      <td>NaN</td>\n      <td>fixed defect</td>\n      <td>2</td>\n    </tr>\n    <tr>\n      <th>918</th>\n      <td>58</td>\n      <td>Male</td>\n      <td>asymptomatic</td>\n      <td>NaN</td>\n      <td>385.0</td>\n      <td>True</td>\n      <td>lv hypertrophy</td>\n      <td>NaN</td>\n      <td>NaN</td>\n      <td>NaN</td>\n      <td>NaN</td>\n      <td>NaN</td>\n      <td>NaN</td>\n      <td>0</td>\n    </tr>\n    <tr>\n      <th>919</th>\n      <td>62</td>\n      <td>Male</td>\n      <td>atypical angina</td>\n      <td>120.0</td>\n      <td>254.0</td>\n      <td>False</td>\n      <td>lv hypertrophy</td>\n      <td>93.0</td>\n      <td>True</td>\n      <td>0.0</td>\n      <td>NaN</td>\n      <td>NaN</td>\n      <td>NaN</td>\n      <td>1</td>\n    </tr>\n  </tbody>\n</table>\n<p>797 rows × 14 columns</p>\n</div>"
     },
     "execution_count": 29,
     "metadata": {},
     "output_type": "execute_result"
    }
   ],
   "source": [
    "og_df = pd.read_csv(\"datasets/heart_disease_uci.csv\")\n",
    "og_df.drop(columns=[\"id\", \"dataset\"], inplace=True)\n",
    "og_df = og_df.drop(og_df[og_df[\"num\"] == 0].sample(frac=0.3).index)\n",
    "og_df # this df still has \"num\" -> the target"
   ],
   "metadata": {
    "collapsed": false,
    "ExecuteTime": {
     "end_time": "2023-06-13T16:27:45.442943200Z",
     "start_time": "2023-06-13T16:27:45.423885300Z"
    }
   }
  },
  {
   "cell_type": "code",
   "execution_count": 30,
   "outputs": [],
   "source": [
    "categorial_columns = [\"sex\", \"cp\", \"fbs\", \"restecg\", \"exang\", \"slope\", \"thal\"]\n",
    "cont_columns = [\"age\", \"trestbps\", \"chol\", \"thalch\", \"oldpeak\", \"ca\"]"
   ],
   "metadata": {
    "collapsed": false,
    "ExecuteTime": {
     "end_time": "2023-06-13T16:27:45.466756800Z",
     "start_time": "2023-06-13T16:27:45.443948700Z"
    }
   }
  },
  {
   "cell_type": "code",
   "execution_count": 31,
   "outputs": [
    {
     "data": {
      "text/plain": "          age  sex        cp  trestbps      chol  fbs   restecg    thalch   \n0    0.714286  1.0  1.000000  0.725000  0.386401  0.5  0.000000  0.633803  \\\n1    0.795918  1.0  0.000000  0.800000  0.474295  0.0  0.000000  0.338028   \n2    0.795918  1.0  0.000000  0.600000  0.379768  0.0  0.000000  0.485915   \n3    0.183673  1.0  0.666667  0.650000  0.414594  0.0  0.333333  0.894366   \n4    0.265306  0.0  0.333333  0.650000  0.338308  0.0  0.000000  0.788732   \n..        ...  ...       ...       ...       ...  ...       ...       ...   \n914  0.367347  1.0  0.000000  0.670000  0.514096  0.0  0.333333  0.464789   \n915  0.530612  0.0  0.000000  0.635000  0.552239  0.5  0.666667  0.661972   \n917  0.551020  1.0  0.000000  0.610000  0.369818  0.5  0.666667  0.281690   \n918  0.612245  1.0  0.000000  0.663273  0.638474  0.5  0.000000  0.532914   \n919  0.693878  1.0  0.333333  0.600000  0.421227  0.0  0.000000  0.232394   \n\n     exang   oldpeak     slope        ca      thal  \n0      0.0  0.556818  0.000000  0.000000  0.000000  \n1      0.5  0.465909  0.333333  1.000000  0.333333  \n2      0.5  0.590909  0.333333  0.666667  0.666667  \n3      0.0  0.693182  0.000000  0.000000  0.333333  \n4      0.0  0.454545  0.666667  0.000000  0.333333  \n..     ...       ...       ...       ...       ...  \n914    0.0  0.295455  1.000000  0.252604  0.333333  \n915    0.0  0.295455  1.000000  0.252604  1.000000  \n917    0.0  0.295455  1.000000  0.252604  0.000000  \n918    1.0  0.402948  1.000000  0.252604  1.000000  \n919    0.5  0.295455  1.000000  0.252604  1.000000  \n\n[797 rows x 13 columns]",
      "text/html": "<div>\n<style scoped>\n    .dataframe tbody tr th:only-of-type {\n        vertical-align: middle;\n    }\n\n    .dataframe tbody tr th {\n        vertical-align: top;\n    }\n\n    .dataframe thead th {\n        text-align: right;\n    }\n</style>\n<table border=\"1\" class=\"dataframe\">\n  <thead>\n    <tr style=\"text-align: right;\">\n      <th></th>\n      <th>age</th>\n      <th>sex</th>\n      <th>cp</th>\n      <th>trestbps</th>\n      <th>chol</th>\n      <th>fbs</th>\n      <th>restecg</th>\n      <th>thalch</th>\n      <th>exang</th>\n      <th>oldpeak</th>\n      <th>slope</th>\n      <th>ca</th>\n      <th>thal</th>\n    </tr>\n  </thead>\n  <tbody>\n    <tr>\n      <th>0</th>\n      <td>0.714286</td>\n      <td>1.0</td>\n      <td>1.000000</td>\n      <td>0.725000</td>\n      <td>0.386401</td>\n      <td>0.5</td>\n      <td>0.000000</td>\n      <td>0.633803</td>\n      <td>0.0</td>\n      <td>0.556818</td>\n      <td>0.000000</td>\n      <td>0.000000</td>\n      <td>0.000000</td>\n    </tr>\n    <tr>\n      <th>1</th>\n      <td>0.795918</td>\n      <td>1.0</td>\n      <td>0.000000</td>\n      <td>0.800000</td>\n      <td>0.474295</td>\n      <td>0.0</td>\n      <td>0.000000</td>\n      <td>0.338028</td>\n      <td>0.5</td>\n      <td>0.465909</td>\n      <td>0.333333</td>\n      <td>1.000000</td>\n      <td>0.333333</td>\n    </tr>\n    <tr>\n      <th>2</th>\n      <td>0.795918</td>\n      <td>1.0</td>\n      <td>0.000000</td>\n      <td>0.600000</td>\n      <td>0.379768</td>\n      <td>0.0</td>\n      <td>0.000000</td>\n      <td>0.485915</td>\n      <td>0.5</td>\n      <td>0.590909</td>\n      <td>0.333333</td>\n      <td>0.666667</td>\n      <td>0.666667</td>\n    </tr>\n    <tr>\n      <th>3</th>\n      <td>0.183673</td>\n      <td>1.0</td>\n      <td>0.666667</td>\n      <td>0.650000</td>\n      <td>0.414594</td>\n      <td>0.0</td>\n      <td>0.333333</td>\n      <td>0.894366</td>\n      <td>0.0</td>\n      <td>0.693182</td>\n      <td>0.000000</td>\n      <td>0.000000</td>\n      <td>0.333333</td>\n    </tr>\n    <tr>\n      <th>4</th>\n      <td>0.265306</td>\n      <td>0.0</td>\n      <td>0.333333</td>\n      <td>0.650000</td>\n      <td>0.338308</td>\n      <td>0.0</td>\n      <td>0.000000</td>\n      <td>0.788732</td>\n      <td>0.0</td>\n      <td>0.454545</td>\n      <td>0.666667</td>\n      <td>0.000000</td>\n      <td>0.333333</td>\n    </tr>\n    <tr>\n      <th>...</th>\n      <td>...</td>\n      <td>...</td>\n      <td>...</td>\n      <td>...</td>\n      <td>...</td>\n      <td>...</td>\n      <td>...</td>\n      <td>...</td>\n      <td>...</td>\n      <td>...</td>\n      <td>...</td>\n      <td>...</td>\n      <td>...</td>\n    </tr>\n    <tr>\n      <th>914</th>\n      <td>0.367347</td>\n      <td>1.0</td>\n      <td>0.000000</td>\n      <td>0.670000</td>\n      <td>0.514096</td>\n      <td>0.0</td>\n      <td>0.333333</td>\n      <td>0.464789</td>\n      <td>0.0</td>\n      <td>0.295455</td>\n      <td>1.000000</td>\n      <td>0.252604</td>\n      <td>0.333333</td>\n    </tr>\n    <tr>\n      <th>915</th>\n      <td>0.530612</td>\n      <td>0.0</td>\n      <td>0.000000</td>\n      <td>0.635000</td>\n      <td>0.552239</td>\n      <td>0.5</td>\n      <td>0.666667</td>\n      <td>0.661972</td>\n      <td>0.0</td>\n      <td>0.295455</td>\n      <td>1.000000</td>\n      <td>0.252604</td>\n      <td>1.000000</td>\n    </tr>\n    <tr>\n      <th>917</th>\n      <td>0.551020</td>\n      <td>1.0</td>\n      <td>0.000000</td>\n      <td>0.610000</td>\n      <td>0.369818</td>\n      <td>0.5</td>\n      <td>0.666667</td>\n      <td>0.281690</td>\n      <td>0.0</td>\n      <td>0.295455</td>\n      <td>1.000000</td>\n      <td>0.252604</td>\n      <td>0.000000</td>\n    </tr>\n    <tr>\n      <th>918</th>\n      <td>0.612245</td>\n      <td>1.0</td>\n      <td>0.000000</td>\n      <td>0.663273</td>\n      <td>0.638474</td>\n      <td>0.5</td>\n      <td>0.000000</td>\n      <td>0.532914</td>\n      <td>1.0</td>\n      <td>0.402948</td>\n      <td>1.000000</td>\n      <td>0.252604</td>\n      <td>1.000000</td>\n    </tr>\n    <tr>\n      <th>919</th>\n      <td>0.693878</td>\n      <td>1.0</td>\n      <td>0.333333</td>\n      <td>0.600000</td>\n      <td>0.421227</td>\n      <td>0.0</td>\n      <td>0.000000</td>\n      <td>0.232394</td>\n      <td>0.5</td>\n      <td>0.295455</td>\n      <td>1.000000</td>\n      <td>0.252604</td>\n      <td>1.000000</td>\n    </tr>\n  </tbody>\n</table>\n<p>797 rows × 13 columns</p>\n</div>"
     },
     "execution_count": 31,
     "metadata": {},
     "output_type": "execute_result"
    }
   ],
   "source": [
    "df = og_df.copy()\n",
    "df.drop(columns=\"num\", inplace=True)\n",
    "df[categorial_columns] = df[categorial_columns].apply(LabelEncoder().fit_transform)\n",
    "df[categorial_columns] = MinMaxScaler().fit_transform(df[categorial_columns])\n",
    "\n",
    "df[cont_columns] = MinMaxScaler().fit_transform(df[cont_columns])\n",
    "df = df.fillna(df.mean())\n",
    "df"
   ],
   "metadata": {
    "collapsed": false,
    "ExecuteTime": {
     "end_time": "2023-06-13T16:27:45.533355200Z",
     "start_time": "2023-06-13T16:27:45.456756700Z"
    }
   }
  },
  {
   "cell_type": "code",
   "execution_count": 32,
   "outputs": [],
   "source": [
    "class HeartDiseaseDataset(Dataset):\n",
    "    def __init__(self, df):\n",
    "        self.cat = torch.tensor(df[categorial_columns].values, dtype=torch.float)\n",
    "        self.cont = torch.tensor(df[cont_columns].values, dtype=torch.float)\n",
    "\n",
    "    def __getitem__(self, idx):\n",
    "        return self.cat[idx], self.cont[idx]\n",
    "\n",
    "    def __len__(self):\n",
    "        return self.cat.shape[0]"
   ],
   "metadata": {
    "collapsed": false,
    "ExecuteTime": {
     "end_time": "2023-06-13T16:27:45.556854Z",
     "start_time": "2023-06-13T16:27:45.486253500Z"
    }
   }
  },
  {
   "cell_type": "code",
   "execution_count": 33,
   "outputs": [
    {
     "data": {
      "text/plain": "797"
     },
     "execution_count": 33,
     "metadata": {},
     "output_type": "execute_result"
    }
   ],
   "source": [
    "dataset = HeartDiseaseDataset(df)\n",
    "dataloader = DataLoader(dataset, batch_size=100, shuffle=True)\n",
    "len(dataset)"
   ],
   "metadata": {
    "collapsed": false,
    "ExecuteTime": {
     "end_time": "2023-06-13T16:27:45.587539700Z",
     "start_time": "2023-06-13T16:27:45.517156800Z"
    }
   }
  },
  {
   "cell_type": "code",
   "execution_count": 34,
   "outputs": [
    {
     "name": "stdout",
     "output_type": "stream",
     "text": [
      "epoch: 57/100, loss = 1.039339\n",
      "epoch: 58/100, loss = 1.036968\n",
      "epoch: 59/100, loss = 1.035883\n",
      "epoch: 60/100, loss = 1.031903\n",
      "epoch: 61/100, loss = 1.028870\n",
      "epoch: 62/100, loss = 1.026232\n",
      "epoch: 63/100, loss = 1.023949\n",
      "epoch: 64/100, loss = 1.022062\n",
      "epoch: 65/100, loss = 1.020966\n",
      "epoch: 66/100, loss = 1.015880\n",
      "epoch: 67/100, loss = 1.015913\n",
      "epoch: 68/100, loss = 1.013344\n",
      "epoch: 69/100, loss = 1.011728\n",
      "epoch: 70/100, loss = 1.008114\n",
      "epoch: 71/100, loss = 1.006217\n",
      "epoch: 72/100, loss = 1.005574\n",
      "epoch: 73/100, loss = 1.002250\n",
      "epoch: 74/100, loss = 1.000485\n",
      "epoch: 75/100, loss = 1.001087\n",
      "epoch: 76/100, loss = 0.998410\n",
      "epoch: 77/100, loss = 0.997608\n",
      "epoch: 78/100, loss = 0.993816\n",
      "epoch: 79/100, loss = 0.992859\n",
      "epoch: 80/100, loss = 0.989349\n",
      "epoch: 81/100, loss = 0.988354\n",
      "epoch: 82/100, loss = 0.988317\n",
      "epoch: 83/100, loss = 0.985568\n",
      "epoch: 84/100, loss = 0.983415\n",
      "epoch: 85/100, loss = 0.982239\n",
      "epoch: 86/100, loss = 0.982819\n",
      "epoch: 87/100, loss = 0.978529\n",
      "epoch: 88/100, loss = 0.977759\n",
      "epoch: 89/100, loss = 0.978061\n",
      "epoch: 90/100, loss = 0.975260\n",
      "epoch: 91/100, loss = 0.974933\n",
      "epoch: 92/100, loss = 0.972987\n",
      "epoch: 93/100, loss = 0.970924\n",
      "epoch: 94/100, loss = 0.969657\n",
      "epoch: 95/100, loss = 0.967613\n",
      "epoch: 96/100, loss = 0.967218\n",
      "epoch: 97/100, loss = 0.964196\n",
      "epoch: 98/100, loss = 0.964268\n",
      "epoch: 99/100, loss = 0.964098\n",
      "epoch: 100/100, loss = 0.960696\n",
      "epoch: 1/100, loss = 0.168237\n",
      "epoch: 2/100, loss = 0.160256\n",
      "epoch: 3/100, loss = 0.154948\n",
      "epoch: 4/100, loss = 0.149939\n",
      "epoch: 5/100, loss = 0.144229\n",
      "epoch: 6/100, loss = 0.139530\n",
      "epoch: 7/100, loss = 0.135834\n",
      "epoch: 8/100, loss = 0.131784\n",
      "epoch: 9/100, loss = 0.128358\n",
      "epoch: 10/100, loss = 0.125578\n",
      "epoch: 11/100, loss = 0.123302\n",
      "epoch: 12/100, loss = 0.120986\n",
      "epoch: 13/100, loss = 0.118828\n",
      "epoch: 14/100, loss = 0.116351\n",
      "epoch: 15/100, loss = 0.114628\n",
      "epoch: 16/100, loss = 0.112614\n",
      "epoch: 17/100, loss = 0.109981\n",
      "epoch: 18/100, loss = 0.107865\n",
      "epoch: 19/100, loss = 0.106588\n",
      "epoch: 20/100, loss = 0.104546\n",
      "epoch: 21/100, loss = 0.102670\n",
      "epoch: 22/100, loss = 0.100856\n",
      "epoch: 23/100, loss = 0.099401\n",
      "epoch: 24/100, loss = 0.097871\n",
      "epoch: 25/100, loss = 0.096699\n",
      "epoch: 26/100, loss = 0.095347\n",
      "epoch: 27/100, loss = 0.094048\n",
      "epoch: 28/100, loss = 0.092713\n",
      "epoch: 29/100, loss = 0.091560\n",
      "epoch: 30/100, loss = 0.089926\n",
      "epoch: 31/100, loss = 0.089127\n",
      "epoch: 32/100, loss = 0.088180\n",
      "epoch: 33/100, loss = 0.087029\n",
      "epoch: 34/100, loss = 0.085304\n",
      "epoch: 35/100, loss = 0.085643\n",
      "epoch: 36/100, loss = 0.083979\n",
      "epoch: 37/100, loss = 0.082557\n",
      "epoch: 38/100, loss = 0.081569\n",
      "epoch: 39/100, loss = 0.080532\n",
      "epoch: 40/100, loss = 0.079432\n",
      "epoch: 41/100, loss = 0.078150\n",
      "epoch: 42/100, loss = 0.076876\n",
      "epoch: 43/100, loss = 0.075974\n",
      "epoch: 44/100, loss = 0.074869\n",
      "epoch: 45/100, loss = 0.074064\n",
      "epoch: 46/100, loss = 0.072880\n",
      "epoch: 47/100, loss = 0.072399\n",
      "epoch: 48/100, loss = 0.071035\n",
      "epoch: 49/100, loss = 0.070066\n",
      "epoch: 50/100, loss = 0.068913\n",
      "epoch: 51/100, loss = 0.068212\n",
      "epoch: 52/100, loss = 0.067635\n",
      "epoch: 53/100, loss = 0.066258\n",
      "epoch: 54/100, loss = 0.066828\n",
      "epoch: 55/100, loss = 0.064981\n",
      "epoch: 56/100, loss = 0.064750\n",
      "epoch: 57/100, loss = 0.063465\n",
      "epoch: 58/100, loss = 0.062998\n",
      "epoch: 59/100, loss = 0.062557\n",
      "epoch: 60/100, loss = 0.061777\n",
      "epoch: 61/100, loss = 0.060951\n",
      "epoch: 62/100, loss = 0.060221\n",
      "epoch: 63/100, loss = 0.059620\n",
      "epoch: 64/100, loss = 0.059524\n",
      "epoch: 65/100, loss = 0.058346\n",
      "epoch: 66/100, loss = 0.057434\n",
      "epoch: 67/100, loss = 0.057121\n",
      "epoch: 68/100, loss = 0.057052\n",
      "epoch: 69/100, loss = 0.055792\n",
      "epoch: 70/100, loss = 0.054694\n",
      "epoch: 71/100, loss = 0.055143\n",
      "epoch: 72/100, loss = 0.053906\n",
      "epoch: 73/100, loss = 0.053778\n",
      "epoch: 74/100, loss = 0.053674\n",
      "epoch: 75/100, loss = 0.053096\n",
      "epoch: 76/100, loss = 0.051713\n",
      "epoch: 77/100, loss = 0.051057\n",
      "epoch: 78/100, loss = 0.051123\n",
      "epoch: 79/100, loss = 0.050876\n",
      "epoch: 80/100, loss = 0.050319\n",
      "epoch: 81/100, loss = 0.049679\n",
      "epoch: 82/100, loss = 0.049101\n",
      "epoch: 83/100, loss = 0.048486\n",
      "epoch: 84/100, loss = 0.048449\n",
      "epoch: 85/100, loss = 0.047729\n",
      "epoch: 86/100, loss = 0.047374\n",
      "epoch: 87/100, loss = 0.047520\n",
      "epoch: 88/100, loss = 0.046030\n",
      "epoch: 89/100, loss = 0.045899\n",
      "epoch: 90/100, loss = 0.045481\n",
      "epoch: 91/100, loss = 0.045072\n",
      "epoch: 92/100, loss = 0.044606\n",
      "epoch: 93/100, loss = 0.044813\n",
      "epoch: 94/100, loss = 0.044148\n",
      "epoch: 95/100, loss = 0.043478\n",
      "epoch: 96/100, loss = 0.043348\n",
      "epoch: 97/100, loss = 0.042956\n",
      "epoch: 98/100, loss = 0.043115\n",
      "epoch: 99/100, loss = 0.042826\n",
      "epoch: 100/100, loss = 0.041978\n"
     ]
    }
   ],
   "source": [
    "class MixedTypeClusteringModel(nn.Module):\n",
    "    def __init__(self):\n",
    "        super().__init__()\n",
    "        self.encoder = torch.nn.Sequential(\n",
    "            torch.nn.Linear(len(df.columns), 9),\n",
    "            torch.nn.BatchNorm1d(9),\n",
    "            torch.nn.ReLU(),\n",
    "            torch.nn.Linear(9, 5),\n",
    "            torch.nn.BatchNorm1d(5),\n",
    "            torch.nn.ReLU(),\n",
    "        )\n",
    "        self.decoder = torch.nn.Sequential(\n",
    "            torch.nn.Linear(5, 5),\n",
    "            torch.nn.BatchNorm1d(5),\n",
    "            torch.nn.ReLU(),\n",
    "            torch.nn.Linear(5, len(categorial_columns)),\n",
    "            torch.nn.BatchNorm1d(len(categorial_columns)),\n",
    "            torch.nn.Sigmoid()\n",
    "        )\n",
    "\n",
    "\n",
    "    def forward(self, x):\n",
    "        encoded = self.encoder(x)\n",
    "        decoded = self.decoder(encoded)\n",
    "        return decoded\n",
    "\n",
    "\n",
    "epochs = 100\n",
    "lr = 0.001\n",
    "\n",
    "model = MixedTypeClusteringModel()\n",
    "\n",
    "criterion = nn.MSELoss()\n",
    "optimizer = torch.optim.Adam(model.parameters(), lr=lr)\n",
    "\n",
    "for epoch in range(epochs):\n",
    "    model.train()\n",
    "    loss = 0\n",
    "\n",
    "    for cat, cont in dataloader:\n",
    "        optimizer.zero_grad()\n",
    "        outputs = model(torch.cat((cat, cont), 1))\n",
    "        train_loss = criterion(outputs,  cat)\n",
    "        train_loss.backward()\n",
    "        optimizer.step()\n",
    "        loss += train_loss.item()\n",
    "\n",
    "    loss = loss / len(dataloader)\n",
    "    print(\"epoch: {}/{}, loss = {:.6f}\".format(epoch + 1, epochs, loss))"
   ],
   "metadata": {
    "collapsed": false
   }
  },
  {
   "cell_type": "code",
   "execution_count": 34,
   "outputs": [],
   "source": [],
   "metadata": {
    "collapsed": false,
    "ExecuteTime": {
     "end_time": "2023-06-13T16:27:48.473146900Z",
     "start_time": "2023-06-13T16:27:48.470595700Z"
    }
   }
  }
 ],
 "metadata": {
  "kernelspec": {
   "display_name": "Python 3",
   "language": "python",
   "name": "python3"
  },
  "language_info": {
   "codemirror_mode": {
    "name": "ipython",
    "version": 2
   },
   "file_extension": ".py",
   "mimetype": "text/x-python",
   "name": "python",
   "nbconvert_exporter": "python",
   "pygments_lexer": "ipython2",
   "version": "2.7.6"
  }
 },
 "nbformat": 4,
 "nbformat_minor": 0
}
