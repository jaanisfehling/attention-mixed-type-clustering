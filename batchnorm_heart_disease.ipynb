{
 "cells": [
  {
   "cell_type": "code",
   "execution_count": 1,
   "metadata": {
    "collapsed": true,
    "ExecuteTime": {
     "start_time": "2023-06-19T17:29:18.595847Z",
     "end_time": "2023-06-19T17:29:26.866783Z"
    }
   },
   "outputs": [],
   "source": [
    "import gower\n",
    "import numpy as np\n",
    "import pandas as pd\n",
    "from sklearn.cluster import KMeans, AgglomerativeClustering\n",
    "from sklearn.preprocessing import LabelEncoder, MinMaxScaler\n",
    "from torch.utils.data import Dataset, DataLoader\n",
    "import torch\n",
    "import torch.nn as nn\n",
    "from scipy.optimize import linear_sum_assignment"
   ]
  },
  {
   "cell_type": "code",
   "execution_count": 2,
   "outputs": [
    {
     "data": {
      "text/plain": "     age     sex               cp  trestbps   chol    fbs           restecg   \n1     67    Male     asymptomatic     160.0  286.0  False    lv hypertrophy  \\\n2     67    Male     asymptomatic     120.0  229.0  False    lv hypertrophy   \n4     41  Female  atypical angina     130.0  204.0  False    lv hypertrophy   \n6     62  Female     asymptomatic     140.0  268.0  False    lv hypertrophy   \n8     63    Male     asymptomatic     130.0  254.0  False    lv hypertrophy   \n..   ...     ...              ...       ...    ...    ...               ...   \n915   54  Female     asymptomatic     127.0  333.0   True  st-t abnormality   \n916   62    Male   typical angina       NaN  139.0  False  st-t abnormality   \n917   55    Male     asymptomatic     122.0  223.0   True  st-t abnormality   \n918   58    Male     asymptomatic       NaN  385.0   True    lv hypertrophy   \n919   62    Male  atypical angina     120.0  254.0  False    lv hypertrophy   \n\n     thalch  exang  oldpeak        slope   ca               thal  num  \n1     108.0   True      1.5         flat  3.0             normal    2  \n2     129.0   True      2.6         flat  2.0  reversable defect    1  \n4     172.0  False      1.4    upsloping  0.0             normal    0  \n6     160.0  False      3.6  downsloping  2.0             normal    3  \n8     147.0  False      1.4         flat  1.0  reversable defect    2  \n..      ...    ...      ...          ...  ...                ...  ...  \n915   154.0  False      0.0          NaN  NaN                NaN    1  \n916     NaN    NaN      NaN          NaN  NaN                NaN    0  \n917   100.0  False      0.0          NaN  NaN       fixed defect    2  \n918     NaN    NaN      NaN          NaN  NaN                NaN    0  \n919    93.0   True      0.0          NaN  NaN                NaN    1  \n\n[797 rows x 14 columns]",
      "text/html": "<div>\n<style scoped>\n    .dataframe tbody tr th:only-of-type {\n        vertical-align: middle;\n    }\n\n    .dataframe tbody tr th {\n        vertical-align: top;\n    }\n\n    .dataframe thead th {\n        text-align: right;\n    }\n</style>\n<table border=\"1\" class=\"dataframe\">\n  <thead>\n    <tr style=\"text-align: right;\">\n      <th></th>\n      <th>age</th>\n      <th>sex</th>\n      <th>cp</th>\n      <th>trestbps</th>\n      <th>chol</th>\n      <th>fbs</th>\n      <th>restecg</th>\n      <th>thalch</th>\n      <th>exang</th>\n      <th>oldpeak</th>\n      <th>slope</th>\n      <th>ca</th>\n      <th>thal</th>\n      <th>num</th>\n    </tr>\n  </thead>\n  <tbody>\n    <tr>\n      <th>1</th>\n      <td>67</td>\n      <td>Male</td>\n      <td>asymptomatic</td>\n      <td>160.0</td>\n      <td>286.0</td>\n      <td>False</td>\n      <td>lv hypertrophy</td>\n      <td>108.0</td>\n      <td>True</td>\n      <td>1.5</td>\n      <td>flat</td>\n      <td>3.0</td>\n      <td>normal</td>\n      <td>2</td>\n    </tr>\n    <tr>\n      <th>2</th>\n      <td>67</td>\n      <td>Male</td>\n      <td>asymptomatic</td>\n      <td>120.0</td>\n      <td>229.0</td>\n      <td>False</td>\n      <td>lv hypertrophy</td>\n      <td>129.0</td>\n      <td>True</td>\n      <td>2.6</td>\n      <td>flat</td>\n      <td>2.0</td>\n      <td>reversable defect</td>\n      <td>1</td>\n    </tr>\n    <tr>\n      <th>4</th>\n      <td>41</td>\n      <td>Female</td>\n      <td>atypical angina</td>\n      <td>130.0</td>\n      <td>204.0</td>\n      <td>False</td>\n      <td>lv hypertrophy</td>\n      <td>172.0</td>\n      <td>False</td>\n      <td>1.4</td>\n      <td>upsloping</td>\n      <td>0.0</td>\n      <td>normal</td>\n      <td>0</td>\n    </tr>\n    <tr>\n      <th>6</th>\n      <td>62</td>\n      <td>Female</td>\n      <td>asymptomatic</td>\n      <td>140.0</td>\n      <td>268.0</td>\n      <td>False</td>\n      <td>lv hypertrophy</td>\n      <td>160.0</td>\n      <td>False</td>\n      <td>3.6</td>\n      <td>downsloping</td>\n      <td>2.0</td>\n      <td>normal</td>\n      <td>3</td>\n    </tr>\n    <tr>\n      <th>8</th>\n      <td>63</td>\n      <td>Male</td>\n      <td>asymptomatic</td>\n      <td>130.0</td>\n      <td>254.0</td>\n      <td>False</td>\n      <td>lv hypertrophy</td>\n      <td>147.0</td>\n      <td>False</td>\n      <td>1.4</td>\n      <td>flat</td>\n      <td>1.0</td>\n      <td>reversable defect</td>\n      <td>2</td>\n    </tr>\n    <tr>\n      <th>...</th>\n      <td>...</td>\n      <td>...</td>\n      <td>...</td>\n      <td>...</td>\n      <td>...</td>\n      <td>...</td>\n      <td>...</td>\n      <td>...</td>\n      <td>...</td>\n      <td>...</td>\n      <td>...</td>\n      <td>...</td>\n      <td>...</td>\n      <td>...</td>\n    </tr>\n    <tr>\n      <th>915</th>\n      <td>54</td>\n      <td>Female</td>\n      <td>asymptomatic</td>\n      <td>127.0</td>\n      <td>333.0</td>\n      <td>True</td>\n      <td>st-t abnormality</td>\n      <td>154.0</td>\n      <td>False</td>\n      <td>0.0</td>\n      <td>NaN</td>\n      <td>NaN</td>\n      <td>NaN</td>\n      <td>1</td>\n    </tr>\n    <tr>\n      <th>916</th>\n      <td>62</td>\n      <td>Male</td>\n      <td>typical angina</td>\n      <td>NaN</td>\n      <td>139.0</td>\n      <td>False</td>\n      <td>st-t abnormality</td>\n      <td>NaN</td>\n      <td>NaN</td>\n      <td>NaN</td>\n      <td>NaN</td>\n      <td>NaN</td>\n      <td>NaN</td>\n      <td>0</td>\n    </tr>\n    <tr>\n      <th>917</th>\n      <td>55</td>\n      <td>Male</td>\n      <td>asymptomatic</td>\n      <td>122.0</td>\n      <td>223.0</td>\n      <td>True</td>\n      <td>st-t abnormality</td>\n      <td>100.0</td>\n      <td>False</td>\n      <td>0.0</td>\n      <td>NaN</td>\n      <td>NaN</td>\n      <td>fixed defect</td>\n      <td>2</td>\n    </tr>\n    <tr>\n      <th>918</th>\n      <td>58</td>\n      <td>Male</td>\n      <td>asymptomatic</td>\n      <td>NaN</td>\n      <td>385.0</td>\n      <td>True</td>\n      <td>lv hypertrophy</td>\n      <td>NaN</td>\n      <td>NaN</td>\n      <td>NaN</td>\n      <td>NaN</td>\n      <td>NaN</td>\n      <td>NaN</td>\n      <td>0</td>\n    </tr>\n    <tr>\n      <th>919</th>\n      <td>62</td>\n      <td>Male</td>\n      <td>atypical angina</td>\n      <td>120.0</td>\n      <td>254.0</td>\n      <td>False</td>\n      <td>lv hypertrophy</td>\n      <td>93.0</td>\n      <td>True</td>\n      <td>0.0</td>\n      <td>NaN</td>\n      <td>NaN</td>\n      <td>NaN</td>\n      <td>1</td>\n    </tr>\n  </tbody>\n</table>\n<p>797 rows × 14 columns</p>\n</div>"
     },
     "execution_count": 2,
     "metadata": {},
     "output_type": "execute_result"
    }
   ],
   "source": [
    "og_df = pd.read_csv(\"datasets/heart_disease_uci.csv\")\n",
    "og_df.drop(columns=[\"id\", \"dataset\"], inplace=True)\n",
    "og_df = og_df.drop(og_df[og_df[\"num\"] == 0].sample(frac=0.3).index)\n",
    "og_df # this df still has \"num\" -> the target"
   ],
   "metadata": {
    "collapsed": false,
    "ExecuteTime": {
     "start_time": "2023-06-19T17:29:26.861602Z",
     "end_time": "2023-06-19T17:29:26.926716Z"
    }
   }
  },
  {
   "cell_type": "code",
   "execution_count": 3,
   "outputs": [],
   "source": [
    "categorial_columns = [\"sex\", \"cp\", \"fbs\", \"restecg\", \"exang\", \"slope\", \"thal\"]\n",
    "cont_columns = [\"age\", \"trestbps\", \"chol\", \"thalch\", \"oldpeak\", \"ca\"]"
   ],
   "metadata": {
    "collapsed": false,
    "ExecuteTime": {
     "start_time": "2023-06-19T17:29:26.907527Z",
     "end_time": "2023-06-19T17:29:26.927714Z"
    }
   }
  },
  {
   "cell_type": "code",
   "execution_count": 4,
   "outputs": [
    {
     "data": {
      "text/plain": "          age  sex        cp  trestbps      chol  fbs   restecg    thalch   \n1    0.795918  1.0  0.000000  0.800000  0.474295  0.0  0.000000  0.338028  \\\n2    0.795918  1.0  0.000000  0.600000  0.379768  0.0  0.000000  0.485915   \n4    0.265306  0.0  0.333333  0.650000  0.338308  0.0  0.000000  0.788732   \n6    0.693878  0.0  0.000000  0.700000  0.444444  0.0  0.000000  0.704225   \n8    0.714286  1.0  0.000000  0.650000  0.421227  0.0  0.000000  0.612676   \n..        ...  ...       ...       ...       ...  ...       ...       ...   \n915  0.530612  0.0  0.000000  0.635000  0.552239  0.5  0.666667  0.661972   \n916  0.693878  1.0  1.000000  0.662547  0.230514  0.0  0.666667  0.537019   \n917  0.551020  1.0  0.000000  0.610000  0.369818  0.5  0.666667  0.281690   \n918  0.612245  1.0  0.000000  0.662547  0.638474  0.5  0.000000  0.537019   \n919  0.693878  1.0  0.333333  0.600000  0.421227  0.0  0.000000  0.232394   \n\n     exang   oldpeak     slope        ca      thal  \n1      0.5  0.465909  0.333333  1.000000  0.333333  \n2      0.5  0.590909  0.333333  0.666667  0.666667  \n4      0.0  0.454545  0.666667  0.000000  0.333333  \n6      0.0  0.704545  0.000000  0.666667  0.333333  \n8      0.0  0.454545  0.333333  0.333333  0.666667  \n..     ...       ...       ...       ...       ...  \n915    0.0  0.295455  1.000000  0.259705  1.000000  \n916    1.0  0.400641  1.000000  0.259705  1.000000  \n917    0.0  0.295455  1.000000  0.259705  0.000000  \n918    1.0  0.400641  1.000000  0.259705  1.000000  \n919    0.5  0.295455  1.000000  0.259705  1.000000  \n\n[797 rows x 13 columns]",
      "text/html": "<div>\n<style scoped>\n    .dataframe tbody tr th:only-of-type {\n        vertical-align: middle;\n    }\n\n    .dataframe tbody tr th {\n        vertical-align: top;\n    }\n\n    .dataframe thead th {\n        text-align: right;\n    }\n</style>\n<table border=\"1\" class=\"dataframe\">\n  <thead>\n    <tr style=\"text-align: right;\">\n      <th></th>\n      <th>age</th>\n      <th>sex</th>\n      <th>cp</th>\n      <th>trestbps</th>\n      <th>chol</th>\n      <th>fbs</th>\n      <th>restecg</th>\n      <th>thalch</th>\n      <th>exang</th>\n      <th>oldpeak</th>\n      <th>slope</th>\n      <th>ca</th>\n      <th>thal</th>\n    </tr>\n  </thead>\n  <tbody>\n    <tr>\n      <th>1</th>\n      <td>0.795918</td>\n      <td>1.0</td>\n      <td>0.000000</td>\n      <td>0.800000</td>\n      <td>0.474295</td>\n      <td>0.0</td>\n      <td>0.000000</td>\n      <td>0.338028</td>\n      <td>0.5</td>\n      <td>0.465909</td>\n      <td>0.333333</td>\n      <td>1.000000</td>\n      <td>0.333333</td>\n    </tr>\n    <tr>\n      <th>2</th>\n      <td>0.795918</td>\n      <td>1.0</td>\n      <td>0.000000</td>\n      <td>0.600000</td>\n      <td>0.379768</td>\n      <td>0.0</td>\n      <td>0.000000</td>\n      <td>0.485915</td>\n      <td>0.5</td>\n      <td>0.590909</td>\n      <td>0.333333</td>\n      <td>0.666667</td>\n      <td>0.666667</td>\n    </tr>\n    <tr>\n      <th>4</th>\n      <td>0.265306</td>\n      <td>0.0</td>\n      <td>0.333333</td>\n      <td>0.650000</td>\n      <td>0.338308</td>\n      <td>0.0</td>\n      <td>0.000000</td>\n      <td>0.788732</td>\n      <td>0.0</td>\n      <td>0.454545</td>\n      <td>0.666667</td>\n      <td>0.000000</td>\n      <td>0.333333</td>\n    </tr>\n    <tr>\n      <th>6</th>\n      <td>0.693878</td>\n      <td>0.0</td>\n      <td>0.000000</td>\n      <td>0.700000</td>\n      <td>0.444444</td>\n      <td>0.0</td>\n      <td>0.000000</td>\n      <td>0.704225</td>\n      <td>0.0</td>\n      <td>0.704545</td>\n      <td>0.000000</td>\n      <td>0.666667</td>\n      <td>0.333333</td>\n    </tr>\n    <tr>\n      <th>8</th>\n      <td>0.714286</td>\n      <td>1.0</td>\n      <td>0.000000</td>\n      <td>0.650000</td>\n      <td>0.421227</td>\n      <td>0.0</td>\n      <td>0.000000</td>\n      <td>0.612676</td>\n      <td>0.0</td>\n      <td>0.454545</td>\n      <td>0.333333</td>\n      <td>0.333333</td>\n      <td>0.666667</td>\n    </tr>\n    <tr>\n      <th>...</th>\n      <td>...</td>\n      <td>...</td>\n      <td>...</td>\n      <td>...</td>\n      <td>...</td>\n      <td>...</td>\n      <td>...</td>\n      <td>...</td>\n      <td>...</td>\n      <td>...</td>\n      <td>...</td>\n      <td>...</td>\n      <td>...</td>\n    </tr>\n    <tr>\n      <th>915</th>\n      <td>0.530612</td>\n      <td>0.0</td>\n      <td>0.000000</td>\n      <td>0.635000</td>\n      <td>0.552239</td>\n      <td>0.5</td>\n      <td>0.666667</td>\n      <td>0.661972</td>\n      <td>0.0</td>\n      <td>0.295455</td>\n      <td>1.000000</td>\n      <td>0.259705</td>\n      <td>1.000000</td>\n    </tr>\n    <tr>\n      <th>916</th>\n      <td>0.693878</td>\n      <td>1.0</td>\n      <td>1.000000</td>\n      <td>0.662547</td>\n      <td>0.230514</td>\n      <td>0.0</td>\n      <td>0.666667</td>\n      <td>0.537019</td>\n      <td>1.0</td>\n      <td>0.400641</td>\n      <td>1.000000</td>\n      <td>0.259705</td>\n      <td>1.000000</td>\n    </tr>\n    <tr>\n      <th>917</th>\n      <td>0.551020</td>\n      <td>1.0</td>\n      <td>0.000000</td>\n      <td>0.610000</td>\n      <td>0.369818</td>\n      <td>0.5</td>\n      <td>0.666667</td>\n      <td>0.281690</td>\n      <td>0.0</td>\n      <td>0.295455</td>\n      <td>1.000000</td>\n      <td>0.259705</td>\n      <td>0.000000</td>\n    </tr>\n    <tr>\n      <th>918</th>\n      <td>0.612245</td>\n      <td>1.0</td>\n      <td>0.000000</td>\n      <td>0.662547</td>\n      <td>0.638474</td>\n      <td>0.5</td>\n      <td>0.000000</td>\n      <td>0.537019</td>\n      <td>1.0</td>\n      <td>0.400641</td>\n      <td>1.000000</td>\n      <td>0.259705</td>\n      <td>1.000000</td>\n    </tr>\n    <tr>\n      <th>919</th>\n      <td>0.693878</td>\n      <td>1.0</td>\n      <td>0.333333</td>\n      <td>0.600000</td>\n      <td>0.421227</td>\n      <td>0.0</td>\n      <td>0.000000</td>\n      <td>0.232394</td>\n      <td>0.5</td>\n      <td>0.295455</td>\n      <td>1.000000</td>\n      <td>0.259705</td>\n      <td>1.000000</td>\n    </tr>\n  </tbody>\n</table>\n<p>797 rows × 13 columns</p>\n</div>"
     },
     "execution_count": 4,
     "metadata": {},
     "output_type": "execute_result"
    }
   ],
   "source": [
    "df_min_max = og_df.copy()\n",
    "df_min_max.drop(columns=\"num\", inplace=True)\n",
    "df_min_max[categorial_columns] = df_min_max[categorial_columns].apply(LabelEncoder().fit_transform)\n",
    "df_min_max[categorial_columns] = MinMaxScaler().fit_transform(df_min_max[categorial_columns])\n",
    "\n",
    "df_min_max[cont_columns] = MinMaxScaler().fit_transform(df_min_max[cont_columns])\n",
    "df_min_max = df_min_max.fillna(df_min_max.mean())\n",
    "df_min_max"
   ],
   "metadata": {
    "collapsed": false,
    "ExecuteTime": {
     "start_time": "2023-06-19T17:29:26.913690Z",
     "end_time": "2023-06-19T17:29:26.946248Z"
    }
   }
  },
  {
   "cell_type": "code",
   "execution_count": 5,
   "outputs": [],
   "source": [
    "class HeartDiseaseDataset(Dataset):\n",
    "    def __init__(self, df):\n",
    "        self.cat = torch.tensor(df[categorial_columns].values, dtype=torch.float)\n",
    "        self.cont = torch.tensor(df[cont_columns].values, dtype=torch.float)\n",
    "\n",
    "    def __getitem__(self, idx):\n",
    "        return self.cat[idx], self.cont[idx]\n",
    "\n",
    "    def __len__(self):\n",
    "        return self.cat.shape[0]"
   ],
   "metadata": {
    "collapsed": false,
    "ExecuteTime": {
     "start_time": "2023-06-19T17:29:26.947029Z",
     "end_time": "2023-06-19T17:29:26.977428Z"
    }
   }
  },
  {
   "cell_type": "code",
   "execution_count": 6,
   "outputs": [
    {
     "data": {
      "text/plain": "797"
     },
     "execution_count": 6,
     "metadata": {},
     "output_type": "execute_result"
    }
   ],
   "source": [
    "dataset = HeartDiseaseDataset(df_min_max)\n",
    "dataloader = DataLoader(dataset, batch_size=100, shuffle=True)\n",
    "len(dataset)"
   ],
   "metadata": {
    "collapsed": false,
    "ExecuteTime": {
     "start_time": "2023-06-19T17:29:26.950544Z",
     "end_time": "2023-06-19T17:29:27.091997Z"
    }
   }
  },
  {
   "cell_type": "code",
   "execution_count": 7,
   "outputs": [
    {
     "name": "stdout",
     "output_type": "stream",
     "text": [
      "epoch: 1/100, loss = 0.179693\n",
      "epoch: 2/100, loss = 0.168194\n",
      "epoch: 3/100, loss = 0.158236\n",
      "epoch: 4/100, loss = 0.149866\n",
      "epoch: 5/100, loss = 0.142515\n",
      "epoch: 6/100, loss = 0.135928\n",
      "epoch: 7/100, loss = 0.129806\n",
      "epoch: 8/100, loss = 0.124608\n",
      "epoch: 9/100, loss = 0.120505\n",
      "epoch: 10/100, loss = 0.116494\n",
      "epoch: 11/100, loss = 0.113239\n",
      "epoch: 12/100, loss = 0.109927\n",
      "epoch: 13/100, loss = 0.107870\n",
      "epoch: 14/100, loss = 0.105018\n",
      "epoch: 15/100, loss = 0.102948\n",
      "epoch: 16/100, loss = 0.101318\n",
      "epoch: 17/100, loss = 0.099815\n",
      "epoch: 18/100, loss = 0.097617\n",
      "epoch: 19/100, loss = 0.095997\n",
      "epoch: 20/100, loss = 0.094674\n",
      "epoch: 21/100, loss = 0.093409\n",
      "epoch: 22/100, loss = 0.092065\n",
      "epoch: 23/100, loss = 0.090290\n",
      "epoch: 24/100, loss = 0.089864\n",
      "epoch: 25/100, loss = 0.088100\n",
      "epoch: 26/100, loss = 0.086997\n",
      "epoch: 27/100, loss = 0.086163\n",
      "epoch: 28/100, loss = 0.084693\n",
      "epoch: 29/100, loss = 0.083503\n",
      "epoch: 30/100, loss = 0.082367\n",
      "epoch: 31/100, loss = 0.081174\n",
      "epoch: 32/100, loss = 0.080297\n",
      "epoch: 33/100, loss = 0.079128\n",
      "epoch: 34/100, loss = 0.077933\n",
      "epoch: 35/100, loss = 0.076831\n",
      "epoch: 36/100, loss = 0.076159\n",
      "epoch: 37/100, loss = 0.075243\n",
      "epoch: 38/100, loss = 0.074028\n",
      "epoch: 39/100, loss = 0.072980\n",
      "epoch: 40/100, loss = 0.071682\n",
      "epoch: 41/100, loss = 0.070813\n",
      "epoch: 42/100, loss = 0.069770\n",
      "epoch: 43/100, loss = 0.068444\n",
      "epoch: 44/100, loss = 0.068194\n",
      "epoch: 45/100, loss = 0.067158\n",
      "epoch: 46/100, loss = 0.066312\n",
      "epoch: 47/100, loss = 0.065455\n",
      "epoch: 48/100, loss = 0.064382\n",
      "epoch: 49/100, loss = 0.063937\n",
      "epoch: 50/100, loss = 0.063191\n",
      "epoch: 51/100, loss = 0.062435\n",
      "epoch: 52/100, loss = 0.061449\n",
      "epoch: 53/100, loss = 0.060362\n",
      "epoch: 54/100, loss = 0.059775\n",
      "epoch: 55/100, loss = 0.059535\n",
      "epoch: 56/100, loss = 0.058517\n",
      "epoch: 57/100, loss = 0.057619\n",
      "epoch: 58/100, loss = 0.057095\n",
      "epoch: 59/100, loss = 0.056508\n",
      "epoch: 60/100, loss = 0.055721\n",
      "epoch: 61/100, loss = 0.055375\n",
      "epoch: 62/100, loss = 0.054502\n",
      "epoch: 63/100, loss = 0.053775\n",
      "epoch: 64/100, loss = 0.053466\n",
      "epoch: 65/100, loss = 0.053335\n",
      "epoch: 66/100, loss = 0.052885\n",
      "epoch: 67/100, loss = 0.051869\n",
      "epoch: 68/100, loss = 0.051283\n",
      "epoch: 69/100, loss = 0.051218\n",
      "epoch: 70/100, loss = 0.051154\n",
      "epoch: 71/100, loss = 0.050461\n",
      "epoch: 72/100, loss = 0.049436\n",
      "epoch: 73/100, loss = 0.049245\n",
      "epoch: 74/100, loss = 0.048753\n",
      "epoch: 75/100, loss = 0.048353\n",
      "epoch: 76/100, loss = 0.048407\n",
      "epoch: 77/100, loss = 0.047799\n",
      "epoch: 78/100, loss = 0.047255\n",
      "epoch: 79/100, loss = 0.047139\n",
      "epoch: 80/100, loss = 0.046712\n",
      "epoch: 81/100, loss = 0.045988\n",
      "epoch: 82/100, loss = 0.045901\n",
      "epoch: 83/100, loss = 0.045295\n",
      "epoch: 84/100, loss = 0.045089\n",
      "epoch: 85/100, loss = 0.045445\n",
      "epoch: 86/100, loss = 0.044419\n",
      "epoch: 87/100, loss = 0.044296\n",
      "epoch: 88/100, loss = 0.044124\n",
      "epoch: 89/100, loss = 0.043726\n",
      "epoch: 90/100, loss = 0.043532\n",
      "epoch: 91/100, loss = 0.042943\n",
      "epoch: 92/100, loss = 0.043106\n",
      "epoch: 93/100, loss = 0.042298\n",
      "epoch: 94/100, loss = 0.041963\n",
      "epoch: 95/100, loss = 0.041791\n",
      "epoch: 96/100, loss = 0.041741\n",
      "epoch: 97/100, loss = 0.041426\n",
      "epoch: 98/100, loss = 0.041357\n",
      "epoch: 99/100, loss = 0.041099\n",
      "epoch: 100/100, loss = 0.040317\n"
     ]
    }
   ],
   "source": [
    "class AllToCategorialAE(nn.Module):\n",
    "    def __init__(self):\n",
    "        super().__init__()\n",
    "        self.encoder = torch.nn.Sequential(\n",
    "            torch.nn.Linear(len(df_min_max.columns), 9),\n",
    "            torch.nn.BatchNorm1d(9),\n",
    "            torch.nn.ReLU(),\n",
    "            torch.nn.Linear(9, 4),\n",
    "            torch.nn.BatchNorm1d(4),\n",
    "            torch.nn.Sigmoid(),\n",
    "        )\n",
    "        self.decoder = torch.nn.Sequential(\n",
    "            torch.nn.Linear(4, len(categorial_columns)),\n",
    "            torch.nn.BatchNorm1d(len(categorial_columns)),\n",
    "            torch.nn.Sigmoid()\n",
    "        )\n",
    "\n",
    "\n",
    "    def forward(self, x):\n",
    "        encoded = self.encoder(x)\n",
    "        decoded = self.decoder(encoded)\n",
    "        return decoded\n",
    "\n",
    "\n",
    "epochs = 100\n",
    "lr = 0.001\n",
    "\n",
    "all_to_cat_model = AllToCategorialAE()\n",
    "\n",
    "criterion = nn.MSELoss()\n",
    "optimizer = torch.optim.Adam(all_to_cat_model.parameters(), lr=lr)\n",
    "\n",
    "for epoch in range(epochs):\n",
    "    all_to_cat_model.train()\n",
    "    loss = 0\n",
    "\n",
    "    for cat, cont in dataloader:\n",
    "        optimizer.zero_grad()\n",
    "        outputs = all_to_cat_model(torch.cat((cat, cont), 1))\n",
    "        train_loss = criterion(outputs,  cat)\n",
    "        train_loss.backward()\n",
    "        optimizer.step()\n",
    "        loss += train_loss.item()\n",
    "\n",
    "    loss = loss / len(dataloader)\n",
    "    print(\"epoch: {}/{}, loss = {:.6f}\".format(epoch + 1, epochs, loss))"
   ],
   "metadata": {
    "collapsed": false,
    "ExecuteTime": {
     "start_time": "2023-06-19T17:29:26.999919Z",
     "end_time": "2023-06-19T17:29:28.626969Z"
    }
   }
  },
  {
   "cell_type": "code",
   "execution_count": 8,
   "outputs": [
    {
     "data": {
      "text/plain": "array([[0.73297334, 0.30357751, 0.66529679, ..., 0.33802817, 0.46590909,\n        1.        ],\n       [0.6026926 , 0.27165443, 0.70617265, ..., 0.48591549, 0.59090909,\n        0.66666667],\n       [0.72208458, 0.30373308, 0.2358558 , ..., 0.78873239, 0.45454545,\n        0.        ],\n       ...,\n       [0.57018661, 0.77334017, 0.78965718, ..., 0.28169014, 0.29545455,\n        0.25970549],\n       [0.4054088 , 0.54068351, 0.71624714, ..., 0.53701916, 0.40064142,\n        0.25970549],\n       [0.44339585, 0.23012984, 0.61549181, ..., 0.23239437, 0.29545455,\n        0.25970549]])"
     },
     "execution_count": 8,
     "metadata": {},
     "output_type": "execute_result"
    }
   ],
   "source": [
    "cat_features = all_to_cat_model.encoder(torch.tensor(df_min_max.values, dtype=torch.float)).detach().numpy()\n",
    "features = np.concatenate((cat_features, df_min_max[cont_columns].values), 1)\n",
    "features"
   ],
   "metadata": {
    "collapsed": false,
    "ExecuteTime": {
     "start_time": "2023-06-19T17:29:28.626969Z",
     "end_time": "2023-06-19T17:29:28.641891Z"
    }
   }
  },
  {
   "cell_type": "code",
   "execution_count": 9,
   "outputs": [],
   "source": [
    "def cluster_accuracy(y_pred, y_true):\n",
    "    # We need to map the labels to our cluster labels\n",
    "    # This is a linear assignment problem on a bipartite graph\n",
    "    k = max(len(np.unique(y_pred)), len(np.unique(y_pred)))\n",
    "    cost_matrix = np.zeros((k, k))\n",
    "    for i in range(y_pred.size):\n",
    "        cost_matrix[y_pred[i], y_true[i]] += 1\n",
    "    row_ind, col_ind = linear_sum_assignment(cost_matrix.max() - cost_matrix)\n",
    "    return cost_matrix[row_ind, col_ind].sum() / y_pred.size"
   ],
   "metadata": {
    "collapsed": false,
    "ExecuteTime": {
     "start_time": "2023-06-19T17:29:28.641891Z",
     "end_time": "2023-06-19T17:29:28.646887Z"
    }
   }
  },
  {
   "cell_type": "code",
   "execution_count": 10,
   "outputs": [
    {
     "data": {
      "text/plain": "0.40401505646173147"
     },
     "execution_count": 10,
     "metadata": {},
     "output_type": "execute_result"
    }
   ],
   "source": [
    "kmeans = KMeans(n_clusters=5, n_init=\"auto\", random_state=0).fit(features)\n",
    "all_to_cat_acc = cluster_accuracy(kmeans.labels_, og_df[\"num\"].to_numpy())\n",
    "all_to_cat_acc"
   ],
   "metadata": {
    "collapsed": false,
    "ExecuteTime": {
     "start_time": "2023-06-19T17:29:28.646887Z",
     "end_time": "2023-06-19T17:29:28.725669Z"
    }
   }
  },
  {
   "cell_type": "code",
   "execution_count": 11,
   "outputs": [
    {
     "name": "stdout",
     "output_type": "stream",
     "text": [
      "epoch: 1/100, loss = 0.200821\n",
      "epoch: 2/100, loss = 0.193351\n",
      "epoch: 3/100, loss = 0.185992\n",
      "epoch: 4/100, loss = 0.178450\n",
      "epoch: 5/100, loss = 0.170593\n",
      "epoch: 6/100, loss = 0.163130\n",
      "epoch: 7/100, loss = 0.155509\n",
      "epoch: 8/100, loss = 0.148344\n",
      "epoch: 9/100, loss = 0.141795\n",
      "epoch: 10/100, loss = 0.136214\n",
      "epoch: 11/100, loss = 0.131714\n",
      "epoch: 12/100, loss = 0.126966\n",
      "epoch: 13/100, loss = 0.123176\n",
      "epoch: 14/100, loss = 0.119354\n",
      "epoch: 15/100, loss = 0.116115\n",
      "epoch: 16/100, loss = 0.113346\n",
      "epoch: 17/100, loss = 0.110176\n",
      "epoch: 18/100, loss = 0.107350\n",
      "epoch: 19/100, loss = 0.104243\n",
      "epoch: 20/100, loss = 0.101859\n",
      "epoch: 21/100, loss = 0.099119\n",
      "epoch: 22/100, loss = 0.096463\n",
      "epoch: 23/100, loss = 0.094632\n",
      "epoch: 24/100, loss = 0.091887\n",
      "epoch: 25/100, loss = 0.089452\n",
      "epoch: 26/100, loss = 0.087276\n",
      "epoch: 27/100, loss = 0.085254\n",
      "epoch: 28/100, loss = 0.082768\n",
      "epoch: 29/100, loss = 0.081009\n",
      "epoch: 30/100, loss = 0.079760\n",
      "epoch: 31/100, loss = 0.077687\n",
      "epoch: 32/100, loss = 0.076930\n",
      "epoch: 33/100, loss = 0.075189\n",
      "epoch: 34/100, loss = 0.073786\n",
      "epoch: 35/100, loss = 0.072725\n",
      "epoch: 36/100, loss = 0.071740\n",
      "epoch: 37/100, loss = 0.070575\n",
      "epoch: 38/100, loss = 0.069502\n",
      "epoch: 39/100, loss = 0.068627\n",
      "epoch: 40/100, loss = 0.067725\n",
      "epoch: 41/100, loss = 0.066626\n",
      "epoch: 42/100, loss = 0.065572\n",
      "epoch: 43/100, loss = 0.065046\n",
      "epoch: 44/100, loss = 0.064102\n",
      "epoch: 45/100, loss = 0.063589\n",
      "epoch: 46/100, loss = 0.062741\n",
      "epoch: 47/100, loss = 0.062025\n",
      "epoch: 48/100, loss = 0.061249\n",
      "epoch: 49/100, loss = 0.060526\n",
      "epoch: 50/100, loss = 0.059717\n",
      "epoch: 51/100, loss = 0.059221\n",
      "epoch: 52/100, loss = 0.058561\n",
      "epoch: 53/100, loss = 0.058434\n",
      "epoch: 54/100, loss = 0.057542\n",
      "epoch: 55/100, loss = 0.057278\n",
      "epoch: 56/100, loss = 0.056290\n",
      "epoch: 57/100, loss = 0.055708\n",
      "epoch: 58/100, loss = 0.055398\n",
      "epoch: 59/100, loss = 0.054972\n",
      "epoch: 60/100, loss = 0.054404\n",
      "epoch: 61/100, loss = 0.053830\n",
      "epoch: 62/100, loss = 0.053321\n",
      "epoch: 63/100, loss = 0.052594\n",
      "epoch: 64/100, loss = 0.052513\n",
      "epoch: 65/100, loss = 0.051703\n",
      "epoch: 66/100, loss = 0.051776\n",
      "epoch: 67/100, loss = 0.051008\n",
      "epoch: 68/100, loss = 0.050396\n",
      "epoch: 69/100, loss = 0.049865\n",
      "epoch: 70/100, loss = 0.049549\n",
      "epoch: 71/100, loss = 0.049533\n",
      "epoch: 72/100, loss = 0.048904\n",
      "epoch: 73/100, loss = 0.048312\n",
      "epoch: 74/100, loss = 0.047699\n",
      "epoch: 75/100, loss = 0.047946\n",
      "epoch: 76/100, loss = 0.047349\n",
      "epoch: 77/100, loss = 0.046863\n",
      "epoch: 78/100, loss = 0.046952\n",
      "epoch: 79/100, loss = 0.046239\n",
      "epoch: 80/100, loss = 0.045727\n",
      "epoch: 81/100, loss = 0.045443\n",
      "epoch: 82/100, loss = 0.044924\n",
      "epoch: 83/100, loss = 0.045458\n",
      "epoch: 84/100, loss = 0.044332\n",
      "epoch: 85/100, loss = 0.044250\n",
      "epoch: 86/100, loss = 0.044041\n",
      "epoch: 87/100, loss = 0.043550\n",
      "epoch: 88/100, loss = 0.043284\n",
      "epoch: 89/100, loss = 0.042685\n",
      "epoch: 90/100, loss = 0.042704\n",
      "epoch: 91/100, loss = 0.042446\n",
      "epoch: 92/100, loss = 0.042272\n",
      "epoch: 93/100, loss = 0.041752\n",
      "epoch: 94/100, loss = 0.041423\n",
      "epoch: 95/100, loss = 0.041307\n",
      "epoch: 96/100, loss = 0.041240\n",
      "epoch: 97/100, loss = 0.040744\n",
      "epoch: 98/100, loss = 0.040609\n",
      "epoch: 99/100, loss = 0.040274\n",
      "epoch: 100/100, loss = 0.040281\n"
     ]
    }
   ],
   "source": [
    "class OnlyCategorialAE(nn.Module):\n",
    "    def __init__(self):\n",
    "        super().__init__()\n",
    "        self.encoder = torch.nn.Sequential(\n",
    "            torch.nn.Linear(len(categorial_columns), 4),\n",
    "            torch.nn.BatchNorm1d(4),\n",
    "            torch.nn.Sigmoid(),\n",
    "        )\n",
    "        self.decoder = torch.nn.Sequential(\n",
    "            torch.nn.Linear(4, len(categorial_columns)),\n",
    "            torch.nn.BatchNorm1d(len(categorial_columns)),\n",
    "            torch.nn.Sigmoid()\n",
    "        )\n",
    "\n",
    "\n",
    "    def forward(self, x):\n",
    "        encoded = self.encoder(x)\n",
    "        decoded = self.decoder(encoded)\n",
    "        return decoded\n",
    "\n",
    "\n",
    "epochs = 100\n",
    "lr = 0.001\n",
    "\n",
    "cat_to_cat_model = OnlyCategorialAE()\n",
    "\n",
    "criterion = nn.MSELoss()\n",
    "optimizer = torch.optim.Adam(cat_to_cat_model.parameters(), lr=lr)\n",
    "\n",
    "for epoch in range(epochs):\n",
    "    cat_to_cat_model.train()\n",
    "    loss = 0\n",
    "\n",
    "    for cat, cont in dataloader:\n",
    "        optimizer.zero_grad()\n",
    "        outputs = cat_to_cat_model(cat)\n",
    "        train_loss = criterion(outputs,  cat)\n",
    "        train_loss.backward()\n",
    "        optimizer.step()\n",
    "        loss += train_loss.item()\n",
    "\n",
    "    loss = loss / len(dataloader)\n",
    "    print(\"epoch: {}/{}, loss = {:.6f}\".format(epoch + 1, epochs, loss))"
   ],
   "metadata": {
    "collapsed": false,
    "ExecuteTime": {
     "start_time": "2023-06-19T17:29:28.727675Z",
     "end_time": "2023-06-19T17:29:29.796612Z"
    }
   }
  },
  {
   "cell_type": "code",
   "execution_count": 12,
   "outputs": [
    {
     "data": {
      "text/plain": "0.3713927227101631"
     },
     "execution_count": 12,
     "metadata": {},
     "output_type": "execute_result"
    }
   ],
   "source": [
    "cat_features = cat_to_cat_model.encoder(torch.tensor(df_min_max[categorial_columns].values, dtype=torch.float)).detach().numpy()\n",
    "features = np.concatenate((cat_features, df_min_max[cont_columns].values), 1)\n",
    "kmeans = KMeans(n_clusters=5, n_init=\"auto\", random_state=0).fit(features)\n",
    "cat_to_cat_acc = cluster_accuracy(kmeans.labels_, og_df[\"num\"].to_numpy())\n",
    "cat_to_cat_acc"
   ],
   "metadata": {
    "collapsed": false,
    "ExecuteTime": {
     "start_time": "2023-06-19T17:29:29.797615Z",
     "end_time": "2023-06-19T17:29:29.815473Z"
    }
   }
  },
  {
   "cell_type": "code",
   "execution_count": 13,
   "outputs": [
    {
     "name": "stdout",
     "output_type": "stream",
     "text": [
      "All Cols to Categorial Cols AE: 0.40401505646173147\n",
      "Categorial Cols to Categorial Cols AE: 0.3713927227101631\n"
     ]
    }
   ],
   "source": [
    "print(f\"All Cols to Categorial Cols AE: {all_to_cat_acc}\")\n",
    "print(f\"Categorial Cols to Categorial Cols AE: {cat_to_cat_acc}\")"
   ],
   "metadata": {
    "collapsed": false,
    "ExecuteTime": {
     "start_time": "2023-06-19T17:29:29.815473Z",
     "end_time": "2023-06-19T17:29:29.876721Z"
    }
   }
  },
  {
   "cell_type": "code",
   "execution_count": 14,
   "outputs": [
    {
     "data": {
      "text/plain": "     age  sex  cp    trestbps   chol  fbs  restecg     thalch  exang   \n1     67    1   0  160.000000  286.0    0        0  108.00000      1  \\\n2     67    1   0  120.000000  229.0    0        0  129.00000      1   \n4     41    0   1  130.000000  204.0    0        0  172.00000      0   \n6     62    0   0  140.000000  268.0    0        0  160.00000      0   \n8     63    1   0  130.000000  254.0    0        0  147.00000      0   \n..   ...  ...  ..         ...    ...  ...      ...        ...    ...   \n915   54    0   0  127.000000  333.0    1        2  154.00000      0   \n916   62    1   3  132.509459  139.0    0        2  136.25672      2   \n917   55    1   0  122.000000  223.0    1        2  100.00000      0   \n918   58    1   0  132.509459  385.0    1        0  136.25672      2   \n919   62    1   1  120.000000  254.0    0        0   93.00000      1   \n\n      oldpeak  slope        ca  thal  \n1    1.500000      1  3.000000     1  \n2    2.600000      1  2.000000     2  \n4    1.400000      2  0.000000     1  \n6    3.600000      0  2.000000     1  \n8    1.400000      1  1.000000     2  \n..        ...    ...       ...   ...  \n915  0.000000      3  0.779116     3  \n916  0.925645      3  0.779116     3  \n917  0.000000      3  0.779116     0  \n918  0.925645      3  0.779116     3  \n919  0.000000      3  0.779116     3  \n\n[797 rows x 13 columns]",
      "text/html": "<div>\n<style scoped>\n    .dataframe tbody tr th:only-of-type {\n        vertical-align: middle;\n    }\n\n    .dataframe tbody tr th {\n        vertical-align: top;\n    }\n\n    .dataframe thead th {\n        text-align: right;\n    }\n</style>\n<table border=\"1\" class=\"dataframe\">\n  <thead>\n    <tr style=\"text-align: right;\">\n      <th></th>\n      <th>age</th>\n      <th>sex</th>\n      <th>cp</th>\n      <th>trestbps</th>\n      <th>chol</th>\n      <th>fbs</th>\n      <th>restecg</th>\n      <th>thalch</th>\n      <th>exang</th>\n      <th>oldpeak</th>\n      <th>slope</th>\n      <th>ca</th>\n      <th>thal</th>\n    </tr>\n  </thead>\n  <tbody>\n    <tr>\n      <th>1</th>\n      <td>67</td>\n      <td>1</td>\n      <td>0</td>\n      <td>160.000000</td>\n      <td>286.0</td>\n      <td>0</td>\n      <td>0</td>\n      <td>108.00000</td>\n      <td>1</td>\n      <td>1.500000</td>\n      <td>1</td>\n      <td>3.000000</td>\n      <td>1</td>\n    </tr>\n    <tr>\n      <th>2</th>\n      <td>67</td>\n      <td>1</td>\n      <td>0</td>\n      <td>120.000000</td>\n      <td>229.0</td>\n      <td>0</td>\n      <td>0</td>\n      <td>129.00000</td>\n      <td>1</td>\n      <td>2.600000</td>\n      <td>1</td>\n      <td>2.000000</td>\n      <td>2</td>\n    </tr>\n    <tr>\n      <th>4</th>\n      <td>41</td>\n      <td>0</td>\n      <td>1</td>\n      <td>130.000000</td>\n      <td>204.0</td>\n      <td>0</td>\n      <td>0</td>\n      <td>172.00000</td>\n      <td>0</td>\n      <td>1.400000</td>\n      <td>2</td>\n      <td>0.000000</td>\n      <td>1</td>\n    </tr>\n    <tr>\n      <th>6</th>\n      <td>62</td>\n      <td>0</td>\n      <td>0</td>\n      <td>140.000000</td>\n      <td>268.0</td>\n      <td>0</td>\n      <td>0</td>\n      <td>160.00000</td>\n      <td>0</td>\n      <td>3.600000</td>\n      <td>0</td>\n      <td>2.000000</td>\n      <td>1</td>\n    </tr>\n    <tr>\n      <th>8</th>\n      <td>63</td>\n      <td>1</td>\n      <td>0</td>\n      <td>130.000000</td>\n      <td>254.0</td>\n      <td>0</td>\n      <td>0</td>\n      <td>147.00000</td>\n      <td>0</td>\n      <td>1.400000</td>\n      <td>1</td>\n      <td>1.000000</td>\n      <td>2</td>\n    </tr>\n    <tr>\n      <th>...</th>\n      <td>...</td>\n      <td>...</td>\n      <td>...</td>\n      <td>...</td>\n      <td>...</td>\n      <td>...</td>\n      <td>...</td>\n      <td>...</td>\n      <td>...</td>\n      <td>...</td>\n      <td>...</td>\n      <td>...</td>\n      <td>...</td>\n    </tr>\n    <tr>\n      <th>915</th>\n      <td>54</td>\n      <td>0</td>\n      <td>0</td>\n      <td>127.000000</td>\n      <td>333.0</td>\n      <td>1</td>\n      <td>2</td>\n      <td>154.00000</td>\n      <td>0</td>\n      <td>0.000000</td>\n      <td>3</td>\n      <td>0.779116</td>\n      <td>3</td>\n    </tr>\n    <tr>\n      <th>916</th>\n      <td>62</td>\n      <td>1</td>\n      <td>3</td>\n      <td>132.509459</td>\n      <td>139.0</td>\n      <td>0</td>\n      <td>2</td>\n      <td>136.25672</td>\n      <td>2</td>\n      <td>0.925645</td>\n      <td>3</td>\n      <td>0.779116</td>\n      <td>3</td>\n    </tr>\n    <tr>\n      <th>917</th>\n      <td>55</td>\n      <td>1</td>\n      <td>0</td>\n      <td>122.000000</td>\n      <td>223.0</td>\n      <td>1</td>\n      <td>2</td>\n      <td>100.00000</td>\n      <td>0</td>\n      <td>0.000000</td>\n      <td>3</td>\n      <td>0.779116</td>\n      <td>0</td>\n    </tr>\n    <tr>\n      <th>918</th>\n      <td>58</td>\n      <td>1</td>\n      <td>0</td>\n      <td>132.509459</td>\n      <td>385.0</td>\n      <td>1</td>\n      <td>0</td>\n      <td>136.25672</td>\n      <td>2</td>\n      <td>0.925645</td>\n      <td>3</td>\n      <td>0.779116</td>\n      <td>3</td>\n    </tr>\n    <tr>\n      <th>919</th>\n      <td>62</td>\n      <td>1</td>\n      <td>1</td>\n      <td>120.000000</td>\n      <td>254.0</td>\n      <td>0</td>\n      <td>0</td>\n      <td>93.00000</td>\n      <td>1</td>\n      <td>0.000000</td>\n      <td>3</td>\n      <td>0.779116</td>\n      <td>3</td>\n    </tr>\n  </tbody>\n</table>\n<p>797 rows × 13 columns</p>\n</div>"
     },
     "execution_count": 14,
     "metadata": {},
     "output_type": "execute_result"
    }
   ],
   "source": [
    "df_no_min_max = og_df.copy()\n",
    "df_no_min_max.drop(columns=\"num\", inplace=True)\n",
    "df_no_min_max[categorial_columns] = df_no_min_max[categorial_columns].apply(LabelEncoder().fit_transform)\n",
    "df_no_min_max = df_no_min_max.fillna(df_no_min_max.mean())\n",
    "df_no_min_max"
   ],
   "metadata": {
    "collapsed": false,
    "ExecuteTime": {
     "start_time": "2023-06-19T17:29:29.818774Z",
     "end_time": "2023-06-19T17:29:29.877722Z"
    }
   }
  },
  {
   "cell_type": "code",
   "execution_count": 15,
   "outputs": [
    {
     "data": {
      "text/plain": "797"
     },
     "execution_count": 15,
     "metadata": {},
     "output_type": "execute_result"
    }
   ],
   "source": [
    "no_min_max_dataset = HeartDiseaseDataset(df_no_min_max)\n",
    "no_min_max_dataloader = DataLoader(no_min_max_dataset, batch_size=100, shuffle=True)\n",
    "len(dataset)"
   ],
   "metadata": {
    "collapsed": false,
    "ExecuteTime": {
     "start_time": "2023-06-19T17:29:29.853367Z",
     "end_time": "2023-06-19T17:29:29.878727Z"
    }
   }
  },
  {
   "cell_type": "code",
   "execution_count": 16,
   "outputs": [
    {
     "name": "stdout",
     "output_type": "stream",
     "text": [
      "epoch: 1/100, loss = 1.367521\n",
      "epoch: 2/100, loss = 1.347952\n",
      "epoch: 3/100, loss = 1.330685\n",
      "epoch: 4/100, loss = 1.312321\n",
      "epoch: 5/100, loss = 1.294633\n",
      "epoch: 6/100, loss = 1.277788\n",
      "epoch: 7/100, loss = 1.259671\n",
      "epoch: 8/100, loss = 1.245125\n",
      "epoch: 9/100, loss = 1.229399\n",
      "epoch: 10/100, loss = 1.216415\n",
      "epoch: 11/100, loss = 1.202995\n",
      "epoch: 12/100, loss = 1.192759\n",
      "epoch: 13/100, loss = 1.183159\n",
      "epoch: 14/100, loss = 1.174424\n",
      "epoch: 15/100, loss = 1.166045\n",
      "epoch: 16/100, loss = 1.158894\n",
      "epoch: 17/100, loss = 1.153262\n",
      "epoch: 18/100, loss = 1.146329\n",
      "epoch: 19/100, loss = 1.139419\n",
      "epoch: 20/100, loss = 1.133875\n",
      "epoch: 21/100, loss = 1.127841\n",
      "epoch: 22/100, loss = 1.123741\n",
      "epoch: 23/100, loss = 1.117929\n",
      "epoch: 24/100, loss = 1.112150\n",
      "epoch: 25/100, loss = 1.107021\n",
      "epoch: 26/100, loss = 1.102660\n",
      "epoch: 27/100, loss = 1.097601\n",
      "epoch: 28/100, loss = 1.094280\n",
      "epoch: 29/100, loss = 1.089013\n",
      "epoch: 30/100, loss = 1.084149\n",
      "epoch: 31/100, loss = 1.080871\n",
      "epoch: 32/100, loss = 1.075743\n",
      "epoch: 33/100, loss = 1.072912\n",
      "epoch: 34/100, loss = 1.068558\n",
      "epoch: 35/100, loss = 1.064998\n",
      "epoch: 36/100, loss = 1.062801\n",
      "epoch: 37/100, loss = 1.058742\n",
      "epoch: 38/100, loss = 1.055078\n",
      "epoch: 39/100, loss = 1.050763\n",
      "epoch: 40/100, loss = 1.048085\n",
      "epoch: 41/100, loss = 1.045121\n",
      "epoch: 42/100, loss = 1.041977\n",
      "epoch: 43/100, loss = 1.038408\n",
      "epoch: 44/100, loss = 1.036358\n",
      "epoch: 45/100, loss = 1.031702\n",
      "epoch: 46/100, loss = 1.027557\n",
      "epoch: 47/100, loss = 1.025918\n",
      "epoch: 48/100, loss = 1.021599\n",
      "epoch: 49/100, loss = 1.018355\n",
      "epoch: 50/100, loss = 1.014233\n",
      "epoch: 51/100, loss = 1.011807\n",
      "epoch: 52/100, loss = 1.008136\n",
      "epoch: 53/100, loss = 1.006254\n",
      "epoch: 54/100, loss = 1.001628\n",
      "epoch: 55/100, loss = 0.999609\n",
      "epoch: 56/100, loss = 0.996847\n",
      "epoch: 57/100, loss = 0.995992\n",
      "epoch: 58/100, loss = 0.992942\n",
      "epoch: 59/100, loss = 0.990985\n",
      "epoch: 60/100, loss = 0.988339\n",
      "epoch: 61/100, loss = 0.986061\n",
      "epoch: 62/100, loss = 0.985070\n",
      "epoch: 63/100, loss = 0.984491\n",
      "epoch: 64/100, loss = 0.981421\n",
      "epoch: 65/100, loss = 0.979228\n",
      "epoch: 66/100, loss = 0.978175\n",
      "epoch: 67/100, loss = 0.976395\n",
      "epoch: 68/100, loss = 0.974720\n",
      "epoch: 69/100, loss = 0.973215\n",
      "epoch: 70/100, loss = 0.971529\n",
      "epoch: 71/100, loss = 0.969636\n",
      "epoch: 72/100, loss = 0.969298\n",
      "epoch: 73/100, loss = 0.968370\n",
      "epoch: 74/100, loss = 0.966424\n",
      "epoch: 75/100, loss = 0.964136\n",
      "epoch: 76/100, loss = 0.962574\n",
      "epoch: 77/100, loss = 0.961854\n",
      "epoch: 78/100, loss = 0.959717\n",
      "epoch: 79/100, loss = 0.958460\n",
      "epoch: 80/100, loss = 0.957203\n",
      "epoch: 81/100, loss = 0.956502\n",
      "epoch: 82/100, loss = 0.954165\n",
      "epoch: 83/100, loss = 0.952502\n",
      "epoch: 84/100, loss = 0.952732\n",
      "epoch: 85/100, loss = 0.950468\n",
      "epoch: 86/100, loss = 0.950450\n",
      "epoch: 87/100, loss = 0.948167\n",
      "epoch: 88/100, loss = 0.945963\n",
      "epoch: 89/100, loss = 0.944847\n",
      "epoch: 90/100, loss = 0.944478\n",
      "epoch: 91/100, loss = 0.944838\n",
      "epoch: 92/100, loss = 0.942661\n",
      "epoch: 93/100, loss = 0.940594\n",
      "epoch: 94/100, loss = 0.939326\n",
      "epoch: 95/100, loss = 0.937733\n",
      "epoch: 96/100, loss = 0.938136\n",
      "epoch: 97/100, loss = 0.935630\n",
      "epoch: 98/100, loss = 0.935134\n",
      "epoch: 99/100, loss = 0.933975\n",
      "epoch: 100/100, loss = 0.932881\n"
     ]
    }
   ],
   "source": [
    "epochs = 100\n",
    "lr = 0.001\n",
    "\n",
    "no_min_max_cat_to_cat_model = OnlyCategorialAE()\n",
    "\n",
    "criterion = nn.MSELoss()\n",
    "optimizer = torch.optim.Adam(no_min_max_cat_to_cat_model.parameters(), lr=lr)\n",
    "\n",
    "for epoch in range(epochs):\n",
    "    no_min_max_cat_to_cat_model.train()\n",
    "    loss = 0\n",
    "\n",
    "    for cat, cont in no_min_max_dataloader:\n",
    "        optimizer.zero_grad()\n",
    "        outputs = no_min_max_cat_to_cat_model(cat)\n",
    "        train_loss = criterion(outputs,  cat)\n",
    "        train_loss.backward()\n",
    "        optimizer.step()\n",
    "        loss += train_loss.item()\n",
    "\n",
    "    loss = loss / len(dataloader)\n",
    "    print(\"epoch: {}/{}, loss = {:.6f}\".format(epoch + 1, epochs, loss))"
   ],
   "metadata": {
    "collapsed": false,
    "ExecuteTime": {
     "start_time": "2023-06-19T17:29:29.862157Z",
     "end_time": "2023-06-19T17:29:31.070701Z"
    }
   }
  },
  {
   "cell_type": "code",
   "execution_count": 17,
   "outputs": [
    {
     "data": {
      "text/plain": "array([[3.55217725e-01, 2.63153046e-01, 1.58569843e-01, ...,\n        1.08000000e+02, 1.50000000e+00, 3.00000000e+00],\n       [3.61713827e-01, 2.23063543e-01, 1.80463716e-01, ...,\n        1.29000000e+02, 2.60000000e+00, 2.00000000e+00],\n       [2.10512206e-01, 6.13534153e-01, 4.82439518e-01, ...,\n        1.72000000e+02, 1.40000000e+00, 0.00000000e+00],\n       ...,\n       [7.55723298e-01, 8.07533562e-01, 5.72365463e-01, ...,\n        1.00000000e+02, 0.00000000e+00, 7.79116466e-01],\n       [2.56014436e-01, 2.29596570e-01, 1.89873055e-01, ...,\n        1.36256720e+02, 9.25644505e-01, 7.79116466e-01],\n       [1.91442490e-01, 4.55426991e-01, 4.54688102e-01, ...,\n        9.30000000e+01, 0.00000000e+00, 7.79116466e-01]])"
     },
     "execution_count": 17,
     "metadata": {},
     "output_type": "execute_result"
    }
   ],
   "source": [
    "cat_features = no_min_max_cat_to_cat_model.encoder(torch.tensor(df_no_min_max[categorial_columns].values, dtype=torch.float)).detach().numpy()\n",
    "features = np.concatenate((cat_features, df_no_min_max[cont_columns].values), 1)\n",
    "features"
   ],
   "metadata": {
    "collapsed": false,
    "ExecuteTime": {
     "start_time": "2023-06-19T17:29:31.072820Z",
     "end_time": "2023-06-19T17:29:31.078603Z"
    }
   }
  },
  {
   "cell_type": "code",
   "execution_count": 18,
   "outputs": [
    {
     "data": {
      "text/plain": "0.3751568381430364"
     },
     "execution_count": 18,
     "metadata": {},
     "output_type": "execute_result"
    }
   ],
   "source": [
    "kmeans = KMeans(n_clusters=5, n_init=\"auto\", random_state=0).fit(features)\n",
    "no_min_max_acc = cluster_accuracy(kmeans.labels_, og_df[\"num\"].to_numpy())\n",
    "no_min_max_acc"
   ],
   "metadata": {
    "collapsed": false,
    "ExecuteTime": {
     "start_time": "2023-06-19T17:29:31.078603Z",
     "end_time": "2023-06-19T17:29:31.131264Z"
    }
   }
  },
  {
   "cell_type": "code",
   "execution_count": 18,
   "outputs": [],
   "source": [],
   "metadata": {
    "collapsed": false,
    "ExecuteTime": {
     "start_time": "2023-06-19T17:29:31.092682Z",
     "end_time": "2023-06-19T17:29:31.131264Z"
    }
   }
  }
 ],
 "metadata": {
  "kernelspec": {
   "display_name": "Python 3",
   "language": "python",
   "name": "python3"
  },
  "language_info": {
   "codemirror_mode": {
    "name": "ipython",
    "version": 2
   },
   "file_extension": ".py",
   "mimetype": "text/x-python",
   "name": "python",
   "nbconvert_exporter": "python",
   "pygments_lexer": "ipython2",
   "version": "2.7.6"
  }
 },
 "nbformat": 4,
 "nbformat_minor": 0
}
