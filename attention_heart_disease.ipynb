{
 "cells": [
  {
   "cell_type": "code",
   "execution_count": 11,
   "metadata": {
    "collapsed": true,
    "ExecuteTime": {
     "start_time": "2023-06-25T15:45:58.087741Z",
     "end_time": "2023-06-25T15:45:58.093255Z"
    }
   },
   "outputs": [],
   "source": [
    "import numpy as np\n",
    "import pandas as pd\n",
    "from sklearn.cluster import KMeans\n",
    "from sklearn.preprocessing import LabelEncoder, MinMaxScaler\n",
    "from torch.utils.data import Dataset, DataLoader\n",
    "import torch\n",
    "import torch.nn as nn\n",
    "from scipy.optimize import linear_sum_assignment"
   ]
  },
  {
   "cell_type": "code",
   "execution_count": 12,
   "outputs": [],
   "source": [
    "def cluster_accuracy(y_pred, y_true):\n",
    "    # We need to map the labels to our cluster labels\n",
    "    # This is a linear assignment problem on a bipartite graph\n",
    "    k = max(len(np.unique(y_pred)), len(np.unique(y_pred)))\n",
    "    cost_matrix = np.zeros((k, k))\n",
    "    for i in range(y_pred.size):\n",
    "        cost_matrix[y_pred[i], y_true[i]] += 1\n",
    "    row_ind, col_ind = linear_sum_assignment(cost_matrix.max() - cost_matrix)\n",
    "    return cost_matrix[row_ind, col_ind].sum() / y_pred.size"
   ],
   "metadata": {
    "collapsed": false,
    "ExecuteTime": {
     "start_time": "2023-06-25T15:45:58.091253Z",
     "end_time": "2023-06-25T15:45:58.099819Z"
    }
   }
  },
  {
   "cell_type": "code",
   "execution_count": 13,
   "outputs": [
    {
     "data": {
      "text/plain": "     age     sex               cp  trestbps   chol    fbs           restecg   \n0     63    Male   typical angina     145.0  233.0   True    lv hypertrophy  \\\n1     67    Male     asymptomatic     160.0  286.0  False    lv hypertrophy   \n2     67    Male     asymptomatic     120.0  229.0  False    lv hypertrophy   \n4     41  Female  atypical angina     130.0  204.0  False    lv hypertrophy   \n5     56    Male  atypical angina     120.0  236.0  False            normal   \n..   ...     ...              ...       ...    ...    ...               ...   \n915   54  Female     asymptomatic     127.0  333.0   True  st-t abnormality   \n916   62    Male   typical angina       NaN  139.0  False  st-t abnormality   \n917   55    Male     asymptomatic     122.0  223.0   True  st-t abnormality   \n918   58    Male     asymptomatic       NaN  385.0   True    lv hypertrophy   \n919   62    Male  atypical angina     120.0  254.0  False    lv hypertrophy   \n\n     thalch  exang  oldpeak        slope   ca               thal  num  \n0     150.0  False      2.3  downsloping  0.0       fixed defect    0  \n1     108.0   True      1.5         flat  3.0             normal    2  \n2     129.0   True      2.6         flat  2.0  reversable defect    1  \n4     172.0  False      1.4    upsloping  0.0             normal    0  \n5     178.0  False      0.8    upsloping  0.0             normal    0  \n..      ...    ...      ...          ...  ...                ...  ...  \n915   154.0  False      0.0          NaN  NaN                NaN    1  \n916     NaN    NaN      NaN          NaN  NaN                NaN    0  \n917   100.0  False      0.0          NaN  NaN       fixed defect    2  \n918     NaN    NaN      NaN          NaN  NaN                NaN    0  \n919    93.0   True      0.0          NaN  NaN                NaN    1  \n\n[797 rows x 14 columns]",
      "text/html": "<div>\n<style scoped>\n    .dataframe tbody tr th:only-of-type {\n        vertical-align: middle;\n    }\n\n    .dataframe tbody tr th {\n        vertical-align: top;\n    }\n\n    .dataframe thead th {\n        text-align: right;\n    }\n</style>\n<table border=\"1\" class=\"dataframe\">\n  <thead>\n    <tr style=\"text-align: right;\">\n      <th></th>\n      <th>age</th>\n      <th>sex</th>\n      <th>cp</th>\n      <th>trestbps</th>\n      <th>chol</th>\n      <th>fbs</th>\n      <th>restecg</th>\n      <th>thalch</th>\n      <th>exang</th>\n      <th>oldpeak</th>\n      <th>slope</th>\n      <th>ca</th>\n      <th>thal</th>\n      <th>num</th>\n    </tr>\n  </thead>\n  <tbody>\n    <tr>\n      <th>0</th>\n      <td>63</td>\n      <td>Male</td>\n      <td>typical angina</td>\n      <td>145.0</td>\n      <td>233.0</td>\n      <td>True</td>\n      <td>lv hypertrophy</td>\n      <td>150.0</td>\n      <td>False</td>\n      <td>2.3</td>\n      <td>downsloping</td>\n      <td>0.0</td>\n      <td>fixed defect</td>\n      <td>0</td>\n    </tr>\n    <tr>\n      <th>1</th>\n      <td>67</td>\n      <td>Male</td>\n      <td>asymptomatic</td>\n      <td>160.0</td>\n      <td>286.0</td>\n      <td>False</td>\n      <td>lv hypertrophy</td>\n      <td>108.0</td>\n      <td>True</td>\n      <td>1.5</td>\n      <td>flat</td>\n      <td>3.0</td>\n      <td>normal</td>\n      <td>2</td>\n    </tr>\n    <tr>\n      <th>2</th>\n      <td>67</td>\n      <td>Male</td>\n      <td>asymptomatic</td>\n      <td>120.0</td>\n      <td>229.0</td>\n      <td>False</td>\n      <td>lv hypertrophy</td>\n      <td>129.0</td>\n      <td>True</td>\n      <td>2.6</td>\n      <td>flat</td>\n      <td>2.0</td>\n      <td>reversable defect</td>\n      <td>1</td>\n    </tr>\n    <tr>\n      <th>4</th>\n      <td>41</td>\n      <td>Female</td>\n      <td>atypical angina</td>\n      <td>130.0</td>\n      <td>204.0</td>\n      <td>False</td>\n      <td>lv hypertrophy</td>\n      <td>172.0</td>\n      <td>False</td>\n      <td>1.4</td>\n      <td>upsloping</td>\n      <td>0.0</td>\n      <td>normal</td>\n      <td>0</td>\n    </tr>\n    <tr>\n      <th>5</th>\n      <td>56</td>\n      <td>Male</td>\n      <td>atypical angina</td>\n      <td>120.0</td>\n      <td>236.0</td>\n      <td>False</td>\n      <td>normal</td>\n      <td>178.0</td>\n      <td>False</td>\n      <td>0.8</td>\n      <td>upsloping</td>\n      <td>0.0</td>\n      <td>normal</td>\n      <td>0</td>\n    </tr>\n    <tr>\n      <th>...</th>\n      <td>...</td>\n      <td>...</td>\n      <td>...</td>\n      <td>...</td>\n      <td>...</td>\n      <td>...</td>\n      <td>...</td>\n      <td>...</td>\n      <td>...</td>\n      <td>...</td>\n      <td>...</td>\n      <td>...</td>\n      <td>...</td>\n      <td>...</td>\n    </tr>\n    <tr>\n      <th>915</th>\n      <td>54</td>\n      <td>Female</td>\n      <td>asymptomatic</td>\n      <td>127.0</td>\n      <td>333.0</td>\n      <td>True</td>\n      <td>st-t abnormality</td>\n      <td>154.0</td>\n      <td>False</td>\n      <td>0.0</td>\n      <td>NaN</td>\n      <td>NaN</td>\n      <td>NaN</td>\n      <td>1</td>\n    </tr>\n    <tr>\n      <th>916</th>\n      <td>62</td>\n      <td>Male</td>\n      <td>typical angina</td>\n      <td>NaN</td>\n      <td>139.0</td>\n      <td>False</td>\n      <td>st-t abnormality</td>\n      <td>NaN</td>\n      <td>NaN</td>\n      <td>NaN</td>\n      <td>NaN</td>\n      <td>NaN</td>\n      <td>NaN</td>\n      <td>0</td>\n    </tr>\n    <tr>\n      <th>917</th>\n      <td>55</td>\n      <td>Male</td>\n      <td>asymptomatic</td>\n      <td>122.0</td>\n      <td>223.0</td>\n      <td>True</td>\n      <td>st-t abnormality</td>\n      <td>100.0</td>\n      <td>False</td>\n      <td>0.0</td>\n      <td>NaN</td>\n      <td>NaN</td>\n      <td>fixed defect</td>\n      <td>2</td>\n    </tr>\n    <tr>\n      <th>918</th>\n      <td>58</td>\n      <td>Male</td>\n      <td>asymptomatic</td>\n      <td>NaN</td>\n      <td>385.0</td>\n      <td>True</td>\n      <td>lv hypertrophy</td>\n      <td>NaN</td>\n      <td>NaN</td>\n      <td>NaN</td>\n      <td>NaN</td>\n      <td>NaN</td>\n      <td>NaN</td>\n      <td>0</td>\n    </tr>\n    <tr>\n      <th>919</th>\n      <td>62</td>\n      <td>Male</td>\n      <td>atypical angina</td>\n      <td>120.0</td>\n      <td>254.0</td>\n      <td>False</td>\n      <td>lv hypertrophy</td>\n      <td>93.0</td>\n      <td>True</td>\n      <td>0.0</td>\n      <td>NaN</td>\n      <td>NaN</td>\n      <td>NaN</td>\n      <td>1</td>\n    </tr>\n  </tbody>\n</table>\n<p>797 rows × 14 columns</p>\n</div>"
     },
     "execution_count": 13,
     "metadata": {},
     "output_type": "execute_result"
    }
   ],
   "source": [
    "og_df = pd.read_csv(\"datasets/heart_disease_uci.csv\")\n",
    "og_df.drop(columns=[\"id\", \"dataset\"], inplace=True)\n",
    "og_df = og_df.drop(og_df[og_df[\"num\"] == 0].sample(frac=0.3).index)\n",
    "og_df # this df still has \"num\" -> the target"
   ],
   "metadata": {
    "collapsed": false,
    "ExecuteTime": {
     "start_time": "2023-06-25T15:45:58.100819Z",
     "end_time": "2023-06-25T15:45:58.125159Z"
    }
   }
  },
  {
   "cell_type": "code",
   "execution_count": 14,
   "outputs": [],
   "source": [
    "categorial_columns = [\"sex\", \"cp\", \"fbs\", \"restecg\", \"exang\", \"slope\", \"thal\"]\n",
    "cont_columns = [\"age\", \"trestbps\", \"chol\", \"thalch\", \"oldpeak\", \"ca\"]"
   ],
   "metadata": {
    "collapsed": false,
    "ExecuteTime": {
     "start_time": "2023-06-25T15:45:58.124635Z",
     "end_time": "2023-06-25T15:45:58.129681Z"
    }
   }
  },
  {
   "cell_type": "code",
   "execution_count": 15,
   "outputs": [
    {
     "data": {
      "text/plain": "          age  sex        cp  trestbps      chol  fbs   restecg    thalch   \n0    0.714286  1.0  1.000000  0.725000  0.386401  0.5  0.000000  0.633803  \\\n1    0.795918  1.0  0.000000  0.800000  0.474295  0.0  0.000000  0.338028   \n2    0.795918  1.0  0.000000  0.600000  0.379768  0.0  0.000000  0.485915   \n4    0.265306  0.0  0.333333  0.650000  0.338308  0.0  0.000000  0.788732   \n5    0.571429  1.0  0.333333  0.600000  0.391376  0.0  0.333333  0.830986   \n..        ...  ...       ...       ...       ...  ...       ...       ...   \n915  0.530612  0.0  0.000000  0.635000  0.552239  0.5  0.666667  0.661972   \n916  0.693878  1.0  1.000000  0.662167  0.230514  0.0  0.666667  0.534976   \n917  0.551020  1.0  0.000000  0.610000  0.369818  0.5  0.666667  0.281690   \n918  0.612245  1.0  0.000000  0.662167  0.638474  0.5  0.000000  0.534976   \n919  0.693878  1.0  0.333333  0.600000  0.421227  0.0  0.000000  0.232394   \n\n     exang   oldpeak     slope        ca      thal  \n0      0.0  0.556818  0.000000  0.000000  0.000000  \n1      0.5  0.465909  0.333333  1.000000  0.333333  \n2      0.5  0.590909  0.333333  0.666667  0.666667  \n4      0.0  0.454545  0.666667  0.000000  0.333333  \n5      0.0  0.386364  0.666667  0.000000  0.333333  \n..     ...       ...       ...       ...       ...  \n915    0.0  0.295455  1.000000  0.250965  1.000000  \n916    1.0  0.401954  1.000000  0.250965  1.000000  \n917    0.0  0.295455  1.000000  0.250965  0.000000  \n918    1.0  0.401954  1.000000  0.250965  1.000000  \n919    0.5  0.295455  1.000000  0.250965  1.000000  \n\n[797 rows x 13 columns]",
      "text/html": "<div>\n<style scoped>\n    .dataframe tbody tr th:only-of-type {\n        vertical-align: middle;\n    }\n\n    .dataframe tbody tr th {\n        vertical-align: top;\n    }\n\n    .dataframe thead th {\n        text-align: right;\n    }\n</style>\n<table border=\"1\" class=\"dataframe\">\n  <thead>\n    <tr style=\"text-align: right;\">\n      <th></th>\n      <th>age</th>\n      <th>sex</th>\n      <th>cp</th>\n      <th>trestbps</th>\n      <th>chol</th>\n      <th>fbs</th>\n      <th>restecg</th>\n      <th>thalch</th>\n      <th>exang</th>\n      <th>oldpeak</th>\n      <th>slope</th>\n      <th>ca</th>\n      <th>thal</th>\n    </tr>\n  </thead>\n  <tbody>\n    <tr>\n      <th>0</th>\n      <td>0.714286</td>\n      <td>1.0</td>\n      <td>1.000000</td>\n      <td>0.725000</td>\n      <td>0.386401</td>\n      <td>0.5</td>\n      <td>0.000000</td>\n      <td>0.633803</td>\n      <td>0.0</td>\n      <td>0.556818</td>\n      <td>0.000000</td>\n      <td>0.000000</td>\n      <td>0.000000</td>\n    </tr>\n    <tr>\n      <th>1</th>\n      <td>0.795918</td>\n      <td>1.0</td>\n      <td>0.000000</td>\n      <td>0.800000</td>\n      <td>0.474295</td>\n      <td>0.0</td>\n      <td>0.000000</td>\n      <td>0.338028</td>\n      <td>0.5</td>\n      <td>0.465909</td>\n      <td>0.333333</td>\n      <td>1.000000</td>\n      <td>0.333333</td>\n    </tr>\n    <tr>\n      <th>2</th>\n      <td>0.795918</td>\n      <td>1.0</td>\n      <td>0.000000</td>\n      <td>0.600000</td>\n      <td>0.379768</td>\n      <td>0.0</td>\n      <td>0.000000</td>\n      <td>0.485915</td>\n      <td>0.5</td>\n      <td>0.590909</td>\n      <td>0.333333</td>\n      <td>0.666667</td>\n      <td>0.666667</td>\n    </tr>\n    <tr>\n      <th>4</th>\n      <td>0.265306</td>\n      <td>0.0</td>\n      <td>0.333333</td>\n      <td>0.650000</td>\n      <td>0.338308</td>\n      <td>0.0</td>\n      <td>0.000000</td>\n      <td>0.788732</td>\n      <td>0.0</td>\n      <td>0.454545</td>\n      <td>0.666667</td>\n      <td>0.000000</td>\n      <td>0.333333</td>\n    </tr>\n    <tr>\n      <th>5</th>\n      <td>0.571429</td>\n      <td>1.0</td>\n      <td>0.333333</td>\n      <td>0.600000</td>\n      <td>0.391376</td>\n      <td>0.0</td>\n      <td>0.333333</td>\n      <td>0.830986</td>\n      <td>0.0</td>\n      <td>0.386364</td>\n      <td>0.666667</td>\n      <td>0.000000</td>\n      <td>0.333333</td>\n    </tr>\n    <tr>\n      <th>...</th>\n      <td>...</td>\n      <td>...</td>\n      <td>...</td>\n      <td>...</td>\n      <td>...</td>\n      <td>...</td>\n      <td>...</td>\n      <td>...</td>\n      <td>...</td>\n      <td>...</td>\n      <td>...</td>\n      <td>...</td>\n      <td>...</td>\n    </tr>\n    <tr>\n      <th>915</th>\n      <td>0.530612</td>\n      <td>0.0</td>\n      <td>0.000000</td>\n      <td>0.635000</td>\n      <td>0.552239</td>\n      <td>0.5</td>\n      <td>0.666667</td>\n      <td>0.661972</td>\n      <td>0.0</td>\n      <td>0.295455</td>\n      <td>1.000000</td>\n      <td>0.250965</td>\n      <td>1.000000</td>\n    </tr>\n    <tr>\n      <th>916</th>\n      <td>0.693878</td>\n      <td>1.0</td>\n      <td>1.000000</td>\n      <td>0.662167</td>\n      <td>0.230514</td>\n      <td>0.0</td>\n      <td>0.666667</td>\n      <td>0.534976</td>\n      <td>1.0</td>\n      <td>0.401954</td>\n      <td>1.000000</td>\n      <td>0.250965</td>\n      <td>1.000000</td>\n    </tr>\n    <tr>\n      <th>917</th>\n      <td>0.551020</td>\n      <td>1.0</td>\n      <td>0.000000</td>\n      <td>0.610000</td>\n      <td>0.369818</td>\n      <td>0.5</td>\n      <td>0.666667</td>\n      <td>0.281690</td>\n      <td>0.0</td>\n      <td>0.295455</td>\n      <td>1.000000</td>\n      <td>0.250965</td>\n      <td>0.000000</td>\n    </tr>\n    <tr>\n      <th>918</th>\n      <td>0.612245</td>\n      <td>1.0</td>\n      <td>0.000000</td>\n      <td>0.662167</td>\n      <td>0.638474</td>\n      <td>0.5</td>\n      <td>0.000000</td>\n      <td>0.534976</td>\n      <td>1.0</td>\n      <td>0.401954</td>\n      <td>1.000000</td>\n      <td>0.250965</td>\n      <td>1.000000</td>\n    </tr>\n    <tr>\n      <th>919</th>\n      <td>0.693878</td>\n      <td>1.0</td>\n      <td>0.333333</td>\n      <td>0.600000</td>\n      <td>0.421227</td>\n      <td>0.0</td>\n      <td>0.000000</td>\n      <td>0.232394</td>\n      <td>0.5</td>\n      <td>0.295455</td>\n      <td>1.000000</td>\n      <td>0.250965</td>\n      <td>1.000000</td>\n    </tr>\n  </tbody>\n</table>\n<p>797 rows × 13 columns</p>\n</div>"
     },
     "execution_count": 15,
     "metadata": {},
     "output_type": "execute_result"
    }
   ],
   "source": [
    "df_min_max = og_df.copy()\n",
    "df_min_max.drop(columns=\"num\", inplace=True)\n",
    "df_min_max[categorial_columns] = df_min_max[categorial_columns].apply(LabelEncoder().fit_transform)\n",
    "df_min_max[categorial_columns] = MinMaxScaler().fit_transform(df_min_max[categorial_columns])\n",
    "df_min_max[cont_columns] = MinMaxScaler().fit_transform(df_min_max[cont_columns])\n",
    "df_min_max = df_min_max.fillna(df_min_max.mean())\n",
    "df_min_max"
   ],
   "metadata": {
    "collapsed": false,
    "ExecuteTime": {
     "start_time": "2023-06-25T15:45:58.128682Z",
     "end_time": "2023-06-25T15:45:58.152919Z"
    }
   }
  },
  {
   "cell_type": "code",
   "execution_count": 16,
   "outputs": [
    {
     "data": {
      "text/plain": "     age  sex  cp    trestbps   chol  fbs  restecg      thalch  exang   \n0     63    1   3  145.000000  233.0    1        0  150.000000      0  \\\n1     67    1   0  160.000000  286.0    0        0  108.000000      1   \n2     67    1   0  120.000000  229.0    0        0  129.000000      1   \n4     41    0   1  130.000000  204.0    0        0  172.000000      0   \n5     56    1   1  120.000000  236.0    0        1  178.000000      0   \n..   ...  ...  ..         ...    ...  ...      ...         ...    ...   \n915   54    0   0  127.000000  333.0    1        2  154.000000      0   \n916   62    1   3  132.433378  139.0    0        2  135.966533      2   \n917   55    1   0  122.000000  223.0    1        2  100.000000      0   \n918   58    1   0  132.433378  385.0    1        0  135.966533      2   \n919   62    1   1  120.000000  254.0    0        0   93.000000      1   \n\n      oldpeak  slope        ca  thal  \n0    2.300000      0  0.000000     0  \n1    1.500000      1  3.000000     1  \n2    2.600000      1  2.000000     2  \n4    1.400000      2  0.000000     1  \n5    0.800000      2  0.000000     1  \n..        ...    ...       ...   ...  \n915  0.000000      3  0.752896     3  \n916  0.937197      3  0.752896     3  \n917  0.000000      3  0.752896     0  \n918  0.937197      3  0.752896     3  \n919  0.000000      3  0.752896     3  \n\n[797 rows x 13 columns]",
      "text/html": "<div>\n<style scoped>\n    .dataframe tbody tr th:only-of-type {\n        vertical-align: middle;\n    }\n\n    .dataframe tbody tr th {\n        vertical-align: top;\n    }\n\n    .dataframe thead th {\n        text-align: right;\n    }\n</style>\n<table border=\"1\" class=\"dataframe\">\n  <thead>\n    <tr style=\"text-align: right;\">\n      <th></th>\n      <th>age</th>\n      <th>sex</th>\n      <th>cp</th>\n      <th>trestbps</th>\n      <th>chol</th>\n      <th>fbs</th>\n      <th>restecg</th>\n      <th>thalch</th>\n      <th>exang</th>\n      <th>oldpeak</th>\n      <th>slope</th>\n      <th>ca</th>\n      <th>thal</th>\n    </tr>\n  </thead>\n  <tbody>\n    <tr>\n      <th>0</th>\n      <td>63</td>\n      <td>1</td>\n      <td>3</td>\n      <td>145.000000</td>\n      <td>233.0</td>\n      <td>1</td>\n      <td>0</td>\n      <td>150.000000</td>\n      <td>0</td>\n      <td>2.300000</td>\n      <td>0</td>\n      <td>0.000000</td>\n      <td>0</td>\n    </tr>\n    <tr>\n      <th>1</th>\n      <td>67</td>\n      <td>1</td>\n      <td>0</td>\n      <td>160.000000</td>\n      <td>286.0</td>\n      <td>0</td>\n      <td>0</td>\n      <td>108.000000</td>\n      <td>1</td>\n      <td>1.500000</td>\n      <td>1</td>\n      <td>3.000000</td>\n      <td>1</td>\n    </tr>\n    <tr>\n      <th>2</th>\n      <td>67</td>\n      <td>1</td>\n      <td>0</td>\n      <td>120.000000</td>\n      <td>229.0</td>\n      <td>0</td>\n      <td>0</td>\n      <td>129.000000</td>\n      <td>1</td>\n      <td>2.600000</td>\n      <td>1</td>\n      <td>2.000000</td>\n      <td>2</td>\n    </tr>\n    <tr>\n      <th>4</th>\n      <td>41</td>\n      <td>0</td>\n      <td>1</td>\n      <td>130.000000</td>\n      <td>204.0</td>\n      <td>0</td>\n      <td>0</td>\n      <td>172.000000</td>\n      <td>0</td>\n      <td>1.400000</td>\n      <td>2</td>\n      <td>0.000000</td>\n      <td>1</td>\n    </tr>\n    <tr>\n      <th>5</th>\n      <td>56</td>\n      <td>1</td>\n      <td>1</td>\n      <td>120.000000</td>\n      <td>236.0</td>\n      <td>0</td>\n      <td>1</td>\n      <td>178.000000</td>\n      <td>0</td>\n      <td>0.800000</td>\n      <td>2</td>\n      <td>0.000000</td>\n      <td>1</td>\n    </tr>\n    <tr>\n      <th>...</th>\n      <td>...</td>\n      <td>...</td>\n      <td>...</td>\n      <td>...</td>\n      <td>...</td>\n      <td>...</td>\n      <td>...</td>\n      <td>...</td>\n      <td>...</td>\n      <td>...</td>\n      <td>...</td>\n      <td>...</td>\n      <td>...</td>\n    </tr>\n    <tr>\n      <th>915</th>\n      <td>54</td>\n      <td>0</td>\n      <td>0</td>\n      <td>127.000000</td>\n      <td>333.0</td>\n      <td>1</td>\n      <td>2</td>\n      <td>154.000000</td>\n      <td>0</td>\n      <td>0.000000</td>\n      <td>3</td>\n      <td>0.752896</td>\n      <td>3</td>\n    </tr>\n    <tr>\n      <th>916</th>\n      <td>62</td>\n      <td>1</td>\n      <td>3</td>\n      <td>132.433378</td>\n      <td>139.0</td>\n      <td>0</td>\n      <td>2</td>\n      <td>135.966533</td>\n      <td>2</td>\n      <td>0.937197</td>\n      <td>3</td>\n      <td>0.752896</td>\n      <td>3</td>\n    </tr>\n    <tr>\n      <th>917</th>\n      <td>55</td>\n      <td>1</td>\n      <td>0</td>\n      <td>122.000000</td>\n      <td>223.0</td>\n      <td>1</td>\n      <td>2</td>\n      <td>100.000000</td>\n      <td>0</td>\n      <td>0.000000</td>\n      <td>3</td>\n      <td>0.752896</td>\n      <td>0</td>\n    </tr>\n    <tr>\n      <th>918</th>\n      <td>58</td>\n      <td>1</td>\n      <td>0</td>\n      <td>132.433378</td>\n      <td>385.0</td>\n      <td>1</td>\n      <td>0</td>\n      <td>135.966533</td>\n      <td>2</td>\n      <td>0.937197</td>\n      <td>3</td>\n      <td>0.752896</td>\n      <td>3</td>\n    </tr>\n    <tr>\n      <th>919</th>\n      <td>62</td>\n      <td>1</td>\n      <td>1</td>\n      <td>120.000000</td>\n      <td>254.0</td>\n      <td>0</td>\n      <td>0</td>\n      <td>93.000000</td>\n      <td>1</td>\n      <td>0.000000</td>\n      <td>3</td>\n      <td>0.752896</td>\n      <td>3</td>\n    </tr>\n  </tbody>\n</table>\n<p>797 rows × 13 columns</p>\n</div>"
     },
     "execution_count": 16,
     "metadata": {},
     "output_type": "execute_result"
    }
   ],
   "source": [
    "df_no_min_max = og_df.copy()\n",
    "df_no_min_max.drop(columns=\"num\", inplace=True)\n",
    "df_no_min_max[categorial_columns] = df_no_min_max[categorial_columns].apply(LabelEncoder().fit_transform)\n",
    "df_no_min_max = df_no_min_max.fillna(df_no_min_max.mean())\n",
    "df_no_min_max"
   ],
   "metadata": {
    "collapsed": false,
    "ExecuteTime": {
     "start_time": "2023-06-25T15:45:58.153923Z",
     "end_time": "2023-06-25T15:45:58.202854Z"
    }
   }
  },
  {
   "cell_type": "code",
   "execution_count": 17,
   "outputs": [],
   "source": [
    "class HeartDiseaseDataset(Dataset):\n",
    "    def __init__(self, df):\n",
    "        self.cat = torch.tensor(df[categorial_columns].values, dtype=torch.float)\n",
    "        self.cont = torch.tensor(df[cont_columns].values, dtype=torch.float)\n",
    "\n",
    "    def __getitem__(self, idx):\n",
    "        return self.cat[idx], self.cont[idx]\n",
    "\n",
    "    def __len__(self):\n",
    "        return self.cat.shape[0]"
   ],
   "metadata": {
    "collapsed": false,
    "ExecuteTime": {
     "start_time": "2023-06-25T15:45:58.169574Z",
     "end_time": "2023-06-25T15:45:58.210374Z"
    }
   }
  },
  {
   "cell_type": "code",
   "execution_count": 18,
   "outputs": [
    {
     "data": {
      "text/plain": "797"
     },
     "execution_count": 18,
     "metadata": {},
     "output_type": "execute_result"
    }
   ],
   "source": [
    "dataset = HeartDiseaseDataset(df_min_max)\n",
    "dataloader = DataLoader(dataset, batch_size=100, shuffle=True)\n",
    "len(dataset)"
   ],
   "metadata": {
    "collapsed": false,
    "ExecuteTime": {
     "start_time": "2023-06-25T15:45:58.173233Z",
     "end_time": "2023-06-25T15:45:58.221891Z"
    }
   }
  },
  {
   "cell_type": "code",
   "execution_count": 19,
   "outputs": [
    {
     "name": "stdout",
     "output_type": "stream",
     "text": [
      "epoch: 1/100, loss = 0.231357\n",
      "epoch: 2/100, loss = 0.225349\n",
      "epoch: 3/100, loss = 0.219602\n",
      "epoch: 4/100, loss = 0.213550\n",
      "epoch: 5/100, loss = 0.207836\n",
      "epoch: 6/100, loss = 0.201204\n",
      "epoch: 7/100, loss = 0.195041\n",
      "epoch: 8/100, loss = 0.189490\n",
      "epoch: 9/100, loss = 0.183136\n",
      "epoch: 10/100, loss = 0.176824\n",
      "epoch: 11/100, loss = 0.171027\n",
      "epoch: 12/100, loss = 0.165380\n",
      "epoch: 13/100, loss = 0.159775\n",
      "epoch: 14/100, loss = 0.153783\n",
      "epoch: 15/100, loss = 0.148985\n",
      "epoch: 16/100, loss = 0.144423\n",
      "epoch: 17/100, loss = 0.139752\n",
      "epoch: 18/100, loss = 0.135295\n",
      "epoch: 19/100, loss = 0.131508\n",
      "epoch: 20/100, loss = 0.128018\n",
      "epoch: 21/100, loss = 0.124904\n",
      "epoch: 22/100, loss = 0.121903\n",
      "epoch: 23/100, loss = 0.120029\n",
      "epoch: 24/100, loss = 0.116785\n",
      "epoch: 25/100, loss = 0.114716\n",
      "epoch: 26/100, loss = 0.112960\n",
      "epoch: 27/100, loss = 0.110561\n",
      "epoch: 28/100, loss = 0.108649\n",
      "epoch: 29/100, loss = 0.106696\n",
      "epoch: 30/100, loss = 0.105089\n",
      "epoch: 31/100, loss = 0.103834\n",
      "epoch: 32/100, loss = 0.102069\n",
      "epoch: 33/100, loss = 0.100736\n",
      "epoch: 34/100, loss = 0.099083\n",
      "epoch: 35/100, loss = 0.097566\n",
      "epoch: 36/100, loss = 0.096508\n",
      "epoch: 37/100, loss = 0.095200\n",
      "epoch: 38/100, loss = 0.094329\n",
      "epoch: 39/100, loss = 0.092679\n",
      "epoch: 40/100, loss = 0.091542\n",
      "epoch: 41/100, loss = 0.090408\n",
      "epoch: 42/100, loss = 0.089346\n",
      "epoch: 43/100, loss = 0.088320\n",
      "epoch: 44/100, loss = 0.087555\n",
      "epoch: 45/100, loss = 0.086188\n",
      "epoch: 46/100, loss = 0.085045\n",
      "epoch: 47/100, loss = 0.084180\n",
      "epoch: 48/100, loss = 0.083210\n",
      "epoch: 49/100, loss = 0.082337\n",
      "epoch: 50/100, loss = 0.081793\n",
      "epoch: 51/100, loss = 0.080494\n",
      "epoch: 52/100, loss = 0.079796\n",
      "epoch: 53/100, loss = 0.079073\n",
      "epoch: 54/100, loss = 0.078461\n",
      "epoch: 55/100, loss = 0.077838\n",
      "epoch: 56/100, loss = 0.076979\n",
      "epoch: 57/100, loss = 0.076165\n",
      "epoch: 58/100, loss = 0.075273\n",
      "epoch: 59/100, loss = 0.074707\n",
      "epoch: 60/100, loss = 0.074358\n",
      "epoch: 61/100, loss = 0.073600\n",
      "epoch: 62/100, loss = 0.072825\n",
      "epoch: 63/100, loss = 0.072364\n",
      "epoch: 64/100, loss = 0.072076\n",
      "epoch: 65/100, loss = 0.071426\n",
      "epoch: 66/100, loss = 0.070541\n",
      "epoch: 67/100, loss = 0.070033\n",
      "epoch: 68/100, loss = 0.069178\n",
      "epoch: 69/100, loss = 0.068752\n",
      "epoch: 70/100, loss = 0.068514\n",
      "epoch: 71/100, loss = 0.068008\n",
      "epoch: 72/100, loss = 0.067365\n",
      "epoch: 73/100, loss = 0.066842\n",
      "epoch: 74/100, loss = 0.066240\n",
      "epoch: 75/100, loss = 0.066091\n",
      "epoch: 76/100, loss = 0.065478\n",
      "epoch: 77/100, loss = 0.064716\n",
      "epoch: 78/100, loss = 0.064345\n",
      "epoch: 79/100, loss = 0.064062\n",
      "epoch: 80/100, loss = 0.063591\n",
      "epoch: 81/100, loss = 0.063056\n",
      "epoch: 82/100, loss = 0.062425\n",
      "epoch: 83/100, loss = 0.062328\n",
      "epoch: 84/100, loss = 0.061995\n",
      "epoch: 85/100, loss = 0.061400\n",
      "epoch: 86/100, loss = 0.060906\n",
      "epoch: 87/100, loss = 0.060662\n",
      "epoch: 88/100, loss = 0.060335\n",
      "epoch: 89/100, loss = 0.059573\n",
      "epoch: 90/100, loss = 0.058944\n",
      "epoch: 91/100, loss = 0.058239\n",
      "epoch: 92/100, loss = 0.058105\n",
      "epoch: 93/100, loss = 0.057676\n",
      "epoch: 94/100, loss = 0.057506\n",
      "epoch: 95/100, loss = 0.056709\n",
      "epoch: 96/100, loss = 0.056532\n",
      "epoch: 97/100, loss = 0.055725\n",
      "epoch: 98/100, loss = 0.055470\n",
      "epoch: 99/100, loss = 0.054998\n",
      "epoch: 100/100, loss = 0.054369\n"
     ]
    }
   ],
   "source": [
    "class AttentionModel(nn.Module):\n",
    "    def __init__(self):\n",
    "        super().__init__()\n",
    "        self.encoder = torch.nn.Sequential(\n",
    "            torch.nn.Linear(len(categorial_columns), 4),\n",
    "            torch.nn.BatchNorm1d(4),\n",
    "            torch.nn.Sigmoid(),\n",
    "        )\n",
    "        self.decoder = torch.nn.Sequential(\n",
    "            torch.nn.Linear(4, len(categorial_columns)),\n",
    "            torch.nn.BatchNorm1d(len(categorial_columns)),\n",
    "            torch.nn.Sigmoid()\n",
    "        )\n",
    "\n",
    "\n",
    "    def forward(self, x):\n",
    "        encoded = self.encoder(x)\n",
    "        decoded = self.decoder(encoded)\n",
    "        return decoded\n",
    "\n",
    "\n",
    "epochs = 100\n",
    "lr = 0.001\n",
    "\n",
    "cat_to_cat_model = AttentionModel()\n",
    "\n",
    "criterion = nn.MSELoss()\n",
    "optimizer = torch.optim.Adam(cat_to_cat_model.parameters(), lr=lr)\n",
    "\n",
    "for epoch in range(epochs):\n",
    "    cat_to_cat_model.train()\n",
    "    loss = 0\n",
    "\n",
    "    for x_cat, x_cont in dataloader:\n",
    "        optimizer.zero_grad()\n",
    "        outputs = cat_to_cat_model(x_cat)\n",
    "        train_loss = criterion(outputs,  x_cat)\n",
    "        train_loss.backward()\n",
    "        optimizer.step()\n",
    "        loss += train_loss.item()\n",
    "\n",
    "    loss = loss / len(dataloader)\n",
    "    print(\"epoch: {}/{}, loss = {:.6f}\".format(epoch + 1, epochs, loss))"
   ],
   "metadata": {
    "collapsed": false,
    "ExecuteTime": {
     "start_time": "2023-06-25T15:45:58.185464Z",
     "end_time": "2023-06-25T15:45:59.137049Z"
    }
   }
  }
 ],
 "metadata": {
  "kernelspec": {
   "display_name": "Python 3",
   "language": "python",
   "name": "python3"
  },
  "language_info": {
   "codemirror_mode": {
    "name": "ipython",
    "version": 2
   },
   "file_extension": ".py",
   "mimetype": "text/x-python",
   "name": "python",
   "nbconvert_exporter": "python",
   "pygments_lexer": "ipython2",
   "version": "2.7.6"
  }
 },
 "nbformat": 4,
 "nbformat_minor": 0
}
