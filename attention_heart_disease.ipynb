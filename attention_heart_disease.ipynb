{
 "cells": [
  {
   "cell_type": "code",
   "execution_count": 43,
   "metadata": {
    "collapsed": true,
    "ExecuteTime": {
     "start_time": "2023-06-26T17:09:41.172643Z",
     "end_time": "2023-06-26T17:09:41.180255Z"
    }
   },
   "outputs": [],
   "source": [
    "import numpy as np\n",
    "import pandas as pd\n",
    "from sklearn.cluster import KMeans\n",
    "from sklearn.metrics import normalized_mutual_info_score\n",
    "from sklearn.preprocessing import LabelEncoder, MinMaxScaler\n",
    "from torch.utils.data import Dataset, DataLoader\n",
    "import torch\n",
    "import torch.nn as nn\n",
    "import torch.nn.functional as F\n",
    "from scipy.optimize import linear_sum_assignment"
   ]
  },
  {
   "cell_type": "code",
   "execution_count": 44,
   "outputs": [],
   "source": [
    "def cluster_accuracy(y_pred, y_true):\n",
    "    # We need to map the labels to our cluster labels\n",
    "    # This is a linear assignment problem on a bipartite graph\n",
    "    k = max(len(np.unique(y_pred)), len(np.unique(y_pred)))\n",
    "    cost_matrix = np.zeros((k, k))\n",
    "    for i in range(y_pred.size):\n",
    "        cost_matrix[y_pred[i], y_true[i]] += 1\n",
    "    row_ind, col_ind = linear_sum_assignment(cost_matrix.max() - cost_matrix)\n",
    "    return cost_matrix[row_ind, col_ind].sum() / y_pred.size"
   ],
   "metadata": {
    "collapsed": false,
    "ExecuteTime": {
     "start_time": "2023-06-26T17:09:41.175195Z",
     "end_time": "2023-06-26T17:09:41.183829Z"
    }
   }
  },
  {
   "cell_type": "code",
   "execution_count": 45,
   "outputs": [
    {
     "data": {
      "text/plain": "     age     sex               cp  trestbps   chol    fbs           restecg   \n0     63    Male   typical angina     145.0  233.0   True    lv hypertrophy  \\\n1     67    Male     asymptomatic     160.0  286.0  False    lv hypertrophy   \n2     67    Male     asymptomatic     120.0  229.0  False    lv hypertrophy   \n3     37    Male      non-anginal     130.0  250.0  False            normal   \n4     41  Female  atypical angina     130.0  204.0  False    lv hypertrophy   \n..   ...     ...              ...       ...    ...    ...               ...   \n915   54  Female     asymptomatic     127.0  333.0   True  st-t abnormality   \n916   62    Male   typical angina       NaN  139.0  False  st-t abnormality   \n917   55    Male     asymptomatic     122.0  223.0   True  st-t abnormality   \n918   58    Male     asymptomatic       NaN  385.0   True    lv hypertrophy   \n919   62    Male  atypical angina     120.0  254.0  False    lv hypertrophy   \n\n     thalch  exang  oldpeak        slope   ca               thal  num  \n0     150.0  False      2.3  downsloping  0.0       fixed defect    0  \n1     108.0   True      1.5         flat  3.0             normal    2  \n2     129.0   True      2.6         flat  2.0  reversable defect    1  \n3     187.0  False      3.5  downsloping  0.0             normal    0  \n4     172.0  False      1.4    upsloping  0.0             normal    0  \n..      ...    ...      ...          ...  ...                ...  ...  \n915   154.0  False      0.0          NaN  NaN                NaN    1  \n916     NaN    NaN      NaN          NaN  NaN                NaN    0  \n917   100.0  False      0.0          NaN  NaN       fixed defect    2  \n918     NaN    NaN      NaN          NaN  NaN                NaN    0  \n919    93.0   True      0.0          NaN  NaN                NaN    1  \n\n[797 rows x 14 columns]",
      "text/html": "<div>\n<style scoped>\n    .dataframe tbody tr th:only-of-type {\n        vertical-align: middle;\n    }\n\n    .dataframe tbody tr th {\n        vertical-align: top;\n    }\n\n    .dataframe thead th {\n        text-align: right;\n    }\n</style>\n<table border=\"1\" class=\"dataframe\">\n  <thead>\n    <tr style=\"text-align: right;\">\n      <th></th>\n      <th>age</th>\n      <th>sex</th>\n      <th>cp</th>\n      <th>trestbps</th>\n      <th>chol</th>\n      <th>fbs</th>\n      <th>restecg</th>\n      <th>thalch</th>\n      <th>exang</th>\n      <th>oldpeak</th>\n      <th>slope</th>\n      <th>ca</th>\n      <th>thal</th>\n      <th>num</th>\n    </tr>\n  </thead>\n  <tbody>\n    <tr>\n      <th>0</th>\n      <td>63</td>\n      <td>Male</td>\n      <td>typical angina</td>\n      <td>145.0</td>\n      <td>233.0</td>\n      <td>True</td>\n      <td>lv hypertrophy</td>\n      <td>150.0</td>\n      <td>False</td>\n      <td>2.3</td>\n      <td>downsloping</td>\n      <td>0.0</td>\n      <td>fixed defect</td>\n      <td>0</td>\n    </tr>\n    <tr>\n      <th>1</th>\n      <td>67</td>\n      <td>Male</td>\n      <td>asymptomatic</td>\n      <td>160.0</td>\n      <td>286.0</td>\n      <td>False</td>\n      <td>lv hypertrophy</td>\n      <td>108.0</td>\n      <td>True</td>\n      <td>1.5</td>\n      <td>flat</td>\n      <td>3.0</td>\n      <td>normal</td>\n      <td>2</td>\n    </tr>\n    <tr>\n      <th>2</th>\n      <td>67</td>\n      <td>Male</td>\n      <td>asymptomatic</td>\n      <td>120.0</td>\n      <td>229.0</td>\n      <td>False</td>\n      <td>lv hypertrophy</td>\n      <td>129.0</td>\n      <td>True</td>\n      <td>2.6</td>\n      <td>flat</td>\n      <td>2.0</td>\n      <td>reversable defect</td>\n      <td>1</td>\n    </tr>\n    <tr>\n      <th>3</th>\n      <td>37</td>\n      <td>Male</td>\n      <td>non-anginal</td>\n      <td>130.0</td>\n      <td>250.0</td>\n      <td>False</td>\n      <td>normal</td>\n      <td>187.0</td>\n      <td>False</td>\n      <td>3.5</td>\n      <td>downsloping</td>\n      <td>0.0</td>\n      <td>normal</td>\n      <td>0</td>\n    </tr>\n    <tr>\n      <th>4</th>\n      <td>41</td>\n      <td>Female</td>\n      <td>atypical angina</td>\n      <td>130.0</td>\n      <td>204.0</td>\n      <td>False</td>\n      <td>lv hypertrophy</td>\n      <td>172.0</td>\n      <td>False</td>\n      <td>1.4</td>\n      <td>upsloping</td>\n      <td>0.0</td>\n      <td>normal</td>\n      <td>0</td>\n    </tr>\n    <tr>\n      <th>...</th>\n      <td>...</td>\n      <td>...</td>\n      <td>...</td>\n      <td>...</td>\n      <td>...</td>\n      <td>...</td>\n      <td>...</td>\n      <td>...</td>\n      <td>...</td>\n      <td>...</td>\n      <td>...</td>\n      <td>...</td>\n      <td>...</td>\n      <td>...</td>\n    </tr>\n    <tr>\n      <th>915</th>\n      <td>54</td>\n      <td>Female</td>\n      <td>asymptomatic</td>\n      <td>127.0</td>\n      <td>333.0</td>\n      <td>True</td>\n      <td>st-t abnormality</td>\n      <td>154.0</td>\n      <td>False</td>\n      <td>0.0</td>\n      <td>NaN</td>\n      <td>NaN</td>\n      <td>NaN</td>\n      <td>1</td>\n    </tr>\n    <tr>\n      <th>916</th>\n      <td>62</td>\n      <td>Male</td>\n      <td>typical angina</td>\n      <td>NaN</td>\n      <td>139.0</td>\n      <td>False</td>\n      <td>st-t abnormality</td>\n      <td>NaN</td>\n      <td>NaN</td>\n      <td>NaN</td>\n      <td>NaN</td>\n      <td>NaN</td>\n      <td>NaN</td>\n      <td>0</td>\n    </tr>\n    <tr>\n      <th>917</th>\n      <td>55</td>\n      <td>Male</td>\n      <td>asymptomatic</td>\n      <td>122.0</td>\n      <td>223.0</td>\n      <td>True</td>\n      <td>st-t abnormality</td>\n      <td>100.0</td>\n      <td>False</td>\n      <td>0.0</td>\n      <td>NaN</td>\n      <td>NaN</td>\n      <td>fixed defect</td>\n      <td>2</td>\n    </tr>\n    <tr>\n      <th>918</th>\n      <td>58</td>\n      <td>Male</td>\n      <td>asymptomatic</td>\n      <td>NaN</td>\n      <td>385.0</td>\n      <td>True</td>\n      <td>lv hypertrophy</td>\n      <td>NaN</td>\n      <td>NaN</td>\n      <td>NaN</td>\n      <td>NaN</td>\n      <td>NaN</td>\n      <td>NaN</td>\n      <td>0</td>\n    </tr>\n    <tr>\n      <th>919</th>\n      <td>62</td>\n      <td>Male</td>\n      <td>atypical angina</td>\n      <td>120.0</td>\n      <td>254.0</td>\n      <td>False</td>\n      <td>lv hypertrophy</td>\n      <td>93.0</td>\n      <td>True</td>\n      <td>0.0</td>\n      <td>NaN</td>\n      <td>NaN</td>\n      <td>NaN</td>\n      <td>1</td>\n    </tr>\n  </tbody>\n</table>\n<p>797 rows × 14 columns</p>\n</div>"
     },
     "execution_count": 45,
     "metadata": {},
     "output_type": "execute_result"
    }
   ],
   "source": [
    "og_df = pd.read_csv(\"datasets/heart_disease_uci.csv\")\n",
    "og_df.drop(columns=[\"id\", \"dataset\"], inplace=True)\n",
    "og_df = og_df.drop(og_df[og_df[\"num\"] == 0].sample(frac=0.3).index)\n",
    "og_df # this df still has \"num\" -> the target"
   ],
   "metadata": {
    "collapsed": false,
    "ExecuteTime": {
     "start_time": "2023-06-26T17:09:41.185333Z",
     "end_time": "2023-06-26T17:09:41.205269Z"
    }
   }
  },
  {
   "cell_type": "code",
   "execution_count": 46,
   "outputs": [],
   "source": [
    "categorial_columns = [\"sex\", \"cp\", \"fbs\", \"restecg\", \"exang\", \"slope\", \"thal\", \"ca\"]\n",
    "cont_columns = [\"age\", \"trestbps\", \"chol\", \"thalch\", \"oldpeak\"]"
   ],
   "metadata": {
    "collapsed": false,
    "ExecuteTime": {
     "start_time": "2023-06-26T17:09:41.206786Z",
     "end_time": "2023-06-26T17:09:41.211297Z"
    }
   }
  },
  {
   "cell_type": "code",
   "execution_count": 47,
   "outputs": [
    {
     "data": {
      "text/plain": "          age  sex        cp  trestbps      chol  fbs   restecg    thalch   \n0    0.714286  1.0  1.000000  0.725000  0.386401  0.5  0.000000  0.633803  \\\n1    0.795918  1.0  0.000000  0.800000  0.474295  0.0  0.000000  0.338028   \n2    0.795918  1.0  0.000000  0.600000  0.379768  0.0  0.000000  0.485915   \n3    0.183673  1.0  0.666667  0.650000  0.414594  0.0  0.333333  0.894366   \n4    0.265306  0.0  0.333333  0.650000  0.338308  0.0  0.000000  0.788732   \n..        ...  ...       ...       ...       ...  ...       ...       ...   \n915  0.530612  0.0  0.000000  0.635000  0.552239  0.5  0.666667  0.661972   \n916  0.693878  1.0  1.000000  0.663163  0.230514  0.0  0.666667  0.535145   \n917  0.551020  1.0  0.000000  0.610000  0.369818  0.5  0.666667  0.281690   \n918  0.612245  1.0  0.000000  0.663163  0.638474  0.5  0.000000  0.535145   \n919  0.693878  1.0  0.333333  0.600000  0.421227  0.0  0.000000  0.232394   \n\n     exang   oldpeak     slope    ca      thal  \n0      0.0  0.556818  0.000000  0.00  0.000000  \n1      0.5  0.465909  0.333333  0.75  0.333333  \n2      0.5  0.590909  0.333333  0.50  0.666667  \n3      0.0  0.693182  0.000000  0.00  0.333333  \n4      0.0  0.454545  0.666667  0.00  0.333333  \n..     ...       ...       ...   ...       ...  \n915    0.0  0.295455  1.000000  1.00  1.000000  \n916    1.0  0.403923  1.000000  1.00  1.000000  \n917    0.0  0.295455  1.000000  1.00  0.000000  \n918    1.0  0.403923  1.000000  1.00  1.000000  \n919    0.5  0.295455  1.000000  1.00  1.000000  \n\n[797 rows x 13 columns]",
      "text/html": "<div>\n<style scoped>\n    .dataframe tbody tr th:only-of-type {\n        vertical-align: middle;\n    }\n\n    .dataframe tbody tr th {\n        vertical-align: top;\n    }\n\n    .dataframe thead th {\n        text-align: right;\n    }\n</style>\n<table border=\"1\" class=\"dataframe\">\n  <thead>\n    <tr style=\"text-align: right;\">\n      <th></th>\n      <th>age</th>\n      <th>sex</th>\n      <th>cp</th>\n      <th>trestbps</th>\n      <th>chol</th>\n      <th>fbs</th>\n      <th>restecg</th>\n      <th>thalch</th>\n      <th>exang</th>\n      <th>oldpeak</th>\n      <th>slope</th>\n      <th>ca</th>\n      <th>thal</th>\n    </tr>\n  </thead>\n  <tbody>\n    <tr>\n      <th>0</th>\n      <td>0.714286</td>\n      <td>1.0</td>\n      <td>1.000000</td>\n      <td>0.725000</td>\n      <td>0.386401</td>\n      <td>0.5</td>\n      <td>0.000000</td>\n      <td>0.633803</td>\n      <td>0.0</td>\n      <td>0.556818</td>\n      <td>0.000000</td>\n      <td>0.00</td>\n      <td>0.000000</td>\n    </tr>\n    <tr>\n      <th>1</th>\n      <td>0.795918</td>\n      <td>1.0</td>\n      <td>0.000000</td>\n      <td>0.800000</td>\n      <td>0.474295</td>\n      <td>0.0</td>\n      <td>0.000000</td>\n      <td>0.338028</td>\n      <td>0.5</td>\n      <td>0.465909</td>\n      <td>0.333333</td>\n      <td>0.75</td>\n      <td>0.333333</td>\n    </tr>\n    <tr>\n      <th>2</th>\n      <td>0.795918</td>\n      <td>1.0</td>\n      <td>0.000000</td>\n      <td>0.600000</td>\n      <td>0.379768</td>\n      <td>0.0</td>\n      <td>0.000000</td>\n      <td>0.485915</td>\n      <td>0.5</td>\n      <td>0.590909</td>\n      <td>0.333333</td>\n      <td>0.50</td>\n      <td>0.666667</td>\n    </tr>\n    <tr>\n      <th>3</th>\n      <td>0.183673</td>\n      <td>1.0</td>\n      <td>0.666667</td>\n      <td>0.650000</td>\n      <td>0.414594</td>\n      <td>0.0</td>\n      <td>0.333333</td>\n      <td>0.894366</td>\n      <td>0.0</td>\n      <td>0.693182</td>\n      <td>0.000000</td>\n      <td>0.00</td>\n      <td>0.333333</td>\n    </tr>\n    <tr>\n      <th>4</th>\n      <td>0.265306</td>\n      <td>0.0</td>\n      <td>0.333333</td>\n      <td>0.650000</td>\n      <td>0.338308</td>\n      <td>0.0</td>\n      <td>0.000000</td>\n      <td>0.788732</td>\n      <td>0.0</td>\n      <td>0.454545</td>\n      <td>0.666667</td>\n      <td>0.00</td>\n      <td>0.333333</td>\n    </tr>\n    <tr>\n      <th>...</th>\n      <td>...</td>\n      <td>...</td>\n      <td>...</td>\n      <td>...</td>\n      <td>...</td>\n      <td>...</td>\n      <td>...</td>\n      <td>...</td>\n      <td>...</td>\n      <td>...</td>\n      <td>...</td>\n      <td>...</td>\n      <td>...</td>\n    </tr>\n    <tr>\n      <th>915</th>\n      <td>0.530612</td>\n      <td>0.0</td>\n      <td>0.000000</td>\n      <td>0.635000</td>\n      <td>0.552239</td>\n      <td>0.5</td>\n      <td>0.666667</td>\n      <td>0.661972</td>\n      <td>0.0</td>\n      <td>0.295455</td>\n      <td>1.000000</td>\n      <td>1.00</td>\n      <td>1.000000</td>\n    </tr>\n    <tr>\n      <th>916</th>\n      <td>0.693878</td>\n      <td>1.0</td>\n      <td>1.000000</td>\n      <td>0.663163</td>\n      <td>0.230514</td>\n      <td>0.0</td>\n      <td>0.666667</td>\n      <td>0.535145</td>\n      <td>1.0</td>\n      <td>0.403923</td>\n      <td>1.000000</td>\n      <td>1.00</td>\n      <td>1.000000</td>\n    </tr>\n    <tr>\n      <th>917</th>\n      <td>0.551020</td>\n      <td>1.0</td>\n      <td>0.000000</td>\n      <td>0.610000</td>\n      <td>0.369818</td>\n      <td>0.5</td>\n      <td>0.666667</td>\n      <td>0.281690</td>\n      <td>0.0</td>\n      <td>0.295455</td>\n      <td>1.000000</td>\n      <td>1.00</td>\n      <td>0.000000</td>\n    </tr>\n    <tr>\n      <th>918</th>\n      <td>0.612245</td>\n      <td>1.0</td>\n      <td>0.000000</td>\n      <td>0.663163</td>\n      <td>0.638474</td>\n      <td>0.5</td>\n      <td>0.000000</td>\n      <td>0.535145</td>\n      <td>1.0</td>\n      <td>0.403923</td>\n      <td>1.000000</td>\n      <td>1.00</td>\n      <td>1.000000</td>\n    </tr>\n    <tr>\n      <th>919</th>\n      <td>0.693878</td>\n      <td>1.0</td>\n      <td>0.333333</td>\n      <td>0.600000</td>\n      <td>0.421227</td>\n      <td>0.0</td>\n      <td>0.000000</td>\n      <td>0.232394</td>\n      <td>0.5</td>\n      <td>0.295455</td>\n      <td>1.000000</td>\n      <td>1.00</td>\n      <td>1.000000</td>\n    </tr>\n  </tbody>\n</table>\n<p>797 rows × 13 columns</p>\n</div>"
     },
     "execution_count": 47,
     "metadata": {},
     "output_type": "execute_result"
    }
   ],
   "source": [
    "df_min_max = og_df.copy()\n",
    "df_min_max.drop(columns=\"num\", inplace=True)\n",
    "df_min_max[categorial_columns] = df_min_max[categorial_columns].apply(LabelEncoder().fit_transform)\n",
    "df_min_max[categorial_columns] = MinMaxScaler().fit_transform(df_min_max[categorial_columns])\n",
    "df_min_max[cont_columns] = MinMaxScaler().fit_transform(df_min_max[cont_columns])\n",
    "df_min_max = df_min_max.fillna(df_min_max.mean())\n",
    "df_min_max"
   ],
   "metadata": {
    "collapsed": false,
    "ExecuteTime": {
     "start_time": "2023-06-26T17:09:41.210297Z",
     "end_time": "2023-06-26T17:09:41.234031Z"
    }
   }
  },
  {
   "cell_type": "code",
   "execution_count": 48,
   "outputs": [
    {
     "data": {
      "text/plain": "     age  sex  cp    trestbps   chol  fbs  restecg      thalch  exang   \n0     63    1   3  145.000000  233.0    1        0  150.000000      0  \\\n1     67    1   0  160.000000  286.0    0        0  108.000000      1   \n2     67    1   0  120.000000  229.0    0        0  129.000000      1   \n3     37    1   2  130.000000  250.0    0        1  187.000000      0   \n4     41    0   1  130.000000  204.0    0        0  172.000000      0   \n..   ...  ...  ..         ...    ...  ...      ...         ...    ...   \n915   54    0   0  127.000000  333.0    1        2  154.000000      0   \n916   62    1   3  132.632571  139.0    0        2  135.990629      2   \n917   55    1   0  122.000000  223.0    1        2  100.000000      0   \n918   58    1   0  132.632571  385.0    1        0  135.990629      2   \n919   62    1   1  120.000000  254.0    0        0   93.000000      1   \n\n      oldpeak  slope  ca  thal  \n0    2.300000      0   0     0  \n1    1.500000      1   3     1  \n2    2.600000      1   2     2  \n3    3.500000      0   0     1  \n4    1.400000      2   0     1  \n..        ...    ...  ..   ...  \n915  0.000000      3   4     3  \n916  0.954521      3   4     3  \n917  0.000000      3   4     0  \n918  0.954521      3   4     3  \n919  0.000000      3   4     3  \n\n[797 rows x 13 columns]",
      "text/html": "<div>\n<style scoped>\n    .dataframe tbody tr th:only-of-type {\n        vertical-align: middle;\n    }\n\n    .dataframe tbody tr th {\n        vertical-align: top;\n    }\n\n    .dataframe thead th {\n        text-align: right;\n    }\n</style>\n<table border=\"1\" class=\"dataframe\">\n  <thead>\n    <tr style=\"text-align: right;\">\n      <th></th>\n      <th>age</th>\n      <th>sex</th>\n      <th>cp</th>\n      <th>trestbps</th>\n      <th>chol</th>\n      <th>fbs</th>\n      <th>restecg</th>\n      <th>thalch</th>\n      <th>exang</th>\n      <th>oldpeak</th>\n      <th>slope</th>\n      <th>ca</th>\n      <th>thal</th>\n    </tr>\n  </thead>\n  <tbody>\n    <tr>\n      <th>0</th>\n      <td>63</td>\n      <td>1</td>\n      <td>3</td>\n      <td>145.000000</td>\n      <td>233.0</td>\n      <td>1</td>\n      <td>0</td>\n      <td>150.000000</td>\n      <td>0</td>\n      <td>2.300000</td>\n      <td>0</td>\n      <td>0</td>\n      <td>0</td>\n    </tr>\n    <tr>\n      <th>1</th>\n      <td>67</td>\n      <td>1</td>\n      <td>0</td>\n      <td>160.000000</td>\n      <td>286.0</td>\n      <td>0</td>\n      <td>0</td>\n      <td>108.000000</td>\n      <td>1</td>\n      <td>1.500000</td>\n      <td>1</td>\n      <td>3</td>\n      <td>1</td>\n    </tr>\n    <tr>\n      <th>2</th>\n      <td>67</td>\n      <td>1</td>\n      <td>0</td>\n      <td>120.000000</td>\n      <td>229.0</td>\n      <td>0</td>\n      <td>0</td>\n      <td>129.000000</td>\n      <td>1</td>\n      <td>2.600000</td>\n      <td>1</td>\n      <td>2</td>\n      <td>2</td>\n    </tr>\n    <tr>\n      <th>3</th>\n      <td>37</td>\n      <td>1</td>\n      <td>2</td>\n      <td>130.000000</td>\n      <td>250.0</td>\n      <td>0</td>\n      <td>1</td>\n      <td>187.000000</td>\n      <td>0</td>\n      <td>3.500000</td>\n      <td>0</td>\n      <td>0</td>\n      <td>1</td>\n    </tr>\n    <tr>\n      <th>4</th>\n      <td>41</td>\n      <td>0</td>\n      <td>1</td>\n      <td>130.000000</td>\n      <td>204.0</td>\n      <td>0</td>\n      <td>0</td>\n      <td>172.000000</td>\n      <td>0</td>\n      <td>1.400000</td>\n      <td>2</td>\n      <td>0</td>\n      <td>1</td>\n    </tr>\n    <tr>\n      <th>...</th>\n      <td>...</td>\n      <td>...</td>\n      <td>...</td>\n      <td>...</td>\n      <td>...</td>\n      <td>...</td>\n      <td>...</td>\n      <td>...</td>\n      <td>...</td>\n      <td>...</td>\n      <td>...</td>\n      <td>...</td>\n      <td>...</td>\n    </tr>\n    <tr>\n      <th>915</th>\n      <td>54</td>\n      <td>0</td>\n      <td>0</td>\n      <td>127.000000</td>\n      <td>333.0</td>\n      <td>1</td>\n      <td>2</td>\n      <td>154.000000</td>\n      <td>0</td>\n      <td>0.000000</td>\n      <td>3</td>\n      <td>4</td>\n      <td>3</td>\n    </tr>\n    <tr>\n      <th>916</th>\n      <td>62</td>\n      <td>1</td>\n      <td>3</td>\n      <td>132.632571</td>\n      <td>139.0</td>\n      <td>0</td>\n      <td>2</td>\n      <td>135.990629</td>\n      <td>2</td>\n      <td>0.954521</td>\n      <td>3</td>\n      <td>4</td>\n      <td>3</td>\n    </tr>\n    <tr>\n      <th>917</th>\n      <td>55</td>\n      <td>1</td>\n      <td>0</td>\n      <td>122.000000</td>\n      <td>223.0</td>\n      <td>1</td>\n      <td>2</td>\n      <td>100.000000</td>\n      <td>0</td>\n      <td>0.000000</td>\n      <td>3</td>\n      <td>4</td>\n      <td>0</td>\n    </tr>\n    <tr>\n      <th>918</th>\n      <td>58</td>\n      <td>1</td>\n      <td>0</td>\n      <td>132.632571</td>\n      <td>385.0</td>\n      <td>1</td>\n      <td>0</td>\n      <td>135.990629</td>\n      <td>2</td>\n      <td>0.954521</td>\n      <td>3</td>\n      <td>4</td>\n      <td>3</td>\n    </tr>\n    <tr>\n      <th>919</th>\n      <td>62</td>\n      <td>1</td>\n      <td>1</td>\n      <td>120.000000</td>\n      <td>254.0</td>\n      <td>0</td>\n      <td>0</td>\n      <td>93.000000</td>\n      <td>1</td>\n      <td>0.000000</td>\n      <td>3</td>\n      <td>4</td>\n      <td>3</td>\n    </tr>\n  </tbody>\n</table>\n<p>797 rows × 13 columns</p>\n</div>"
     },
     "execution_count": 48,
     "metadata": {},
     "output_type": "execute_result"
    }
   ],
   "source": [
    "df_no_min_max = og_df.copy()\n",
    "df_no_min_max.drop(columns=\"num\", inplace=True)\n",
    "df_no_min_max[categorial_columns] = df_no_min_max[categorial_columns].apply(LabelEncoder().fit_transform)\n",
    "df_no_min_max = df_no_min_max.fillna(df_no_min_max.mean())\n",
    "df_no_min_max"
   ],
   "metadata": {
    "collapsed": false,
    "ExecuteTime": {
     "start_time": "2023-06-26T17:09:41.235031Z",
     "end_time": "2023-06-26T17:09:41.293965Z"
    }
   }
  },
  {
   "cell_type": "code",
   "execution_count": 49,
   "outputs": [
    {
     "data": {
      "text/plain": "     sex  cp  fbs  restecg  exang  slope  thal  ca       age  trestbps   \n0      1   3    1        0      0      0     0   0  0.714286  0.725000  \\\n1      1   0    0        0      1      1     1   3  0.795918  0.800000   \n2      1   0    0        0      1      1     2   2  0.795918  0.600000   \n3      1   2    0        1      0      0     1   0  0.183673  0.650000   \n4      0   1    0        0      0      2     1   0  0.265306  0.650000   \n..   ...  ..  ...      ...    ...    ...   ...  ..       ...       ...   \n915    0   0    1        2      0      3     3   4  0.530612  0.635000   \n916    1   3    0        2      2      3     3   4  0.693878  0.663163   \n917    1   0    1        2      0      3     0   4  0.551020  0.610000   \n918    1   0    1        0      2      3     3   4  0.612245  0.663163   \n919    1   1    0        0      1      3     3   4  0.693878  0.600000   \n\n         chol    thalch   oldpeak  \n0    0.386401  0.633803  0.556818  \n1    0.474295  0.338028  0.465909  \n2    0.379768  0.485915  0.590909  \n3    0.414594  0.894366  0.693182  \n4    0.338308  0.788732  0.454545  \n..        ...       ...       ...  \n915  0.552239  0.661972  0.295455  \n916  0.230514  0.535145  0.403923  \n917  0.369818  0.281690  0.295455  \n918  0.638474  0.535145  0.403923  \n919  0.421227  0.232394  0.295455  \n\n[797 rows x 13 columns]",
      "text/html": "<div>\n<style scoped>\n    .dataframe tbody tr th:only-of-type {\n        vertical-align: middle;\n    }\n\n    .dataframe tbody tr th {\n        vertical-align: top;\n    }\n\n    .dataframe thead th {\n        text-align: right;\n    }\n</style>\n<table border=\"1\" class=\"dataframe\">\n  <thead>\n    <tr style=\"text-align: right;\">\n      <th></th>\n      <th>sex</th>\n      <th>cp</th>\n      <th>fbs</th>\n      <th>restecg</th>\n      <th>exang</th>\n      <th>slope</th>\n      <th>thal</th>\n      <th>ca</th>\n      <th>age</th>\n      <th>trestbps</th>\n      <th>chol</th>\n      <th>thalch</th>\n      <th>oldpeak</th>\n    </tr>\n  </thead>\n  <tbody>\n    <tr>\n      <th>0</th>\n      <td>1</td>\n      <td>3</td>\n      <td>1</td>\n      <td>0</td>\n      <td>0</td>\n      <td>0</td>\n      <td>0</td>\n      <td>0</td>\n      <td>0.714286</td>\n      <td>0.725000</td>\n      <td>0.386401</td>\n      <td>0.633803</td>\n      <td>0.556818</td>\n    </tr>\n    <tr>\n      <th>1</th>\n      <td>1</td>\n      <td>0</td>\n      <td>0</td>\n      <td>0</td>\n      <td>1</td>\n      <td>1</td>\n      <td>1</td>\n      <td>3</td>\n      <td>0.795918</td>\n      <td>0.800000</td>\n      <td>0.474295</td>\n      <td>0.338028</td>\n      <td>0.465909</td>\n    </tr>\n    <tr>\n      <th>2</th>\n      <td>1</td>\n      <td>0</td>\n      <td>0</td>\n      <td>0</td>\n      <td>1</td>\n      <td>1</td>\n      <td>2</td>\n      <td>2</td>\n      <td>0.795918</td>\n      <td>0.600000</td>\n      <td>0.379768</td>\n      <td>0.485915</td>\n      <td>0.590909</td>\n    </tr>\n    <tr>\n      <th>3</th>\n      <td>1</td>\n      <td>2</td>\n      <td>0</td>\n      <td>1</td>\n      <td>0</td>\n      <td>0</td>\n      <td>1</td>\n      <td>0</td>\n      <td>0.183673</td>\n      <td>0.650000</td>\n      <td>0.414594</td>\n      <td>0.894366</td>\n      <td>0.693182</td>\n    </tr>\n    <tr>\n      <th>4</th>\n      <td>0</td>\n      <td>1</td>\n      <td>0</td>\n      <td>0</td>\n      <td>0</td>\n      <td>2</td>\n      <td>1</td>\n      <td>0</td>\n      <td>0.265306</td>\n      <td>0.650000</td>\n      <td>0.338308</td>\n      <td>0.788732</td>\n      <td>0.454545</td>\n    </tr>\n    <tr>\n      <th>...</th>\n      <td>...</td>\n      <td>...</td>\n      <td>...</td>\n      <td>...</td>\n      <td>...</td>\n      <td>...</td>\n      <td>...</td>\n      <td>...</td>\n      <td>...</td>\n      <td>...</td>\n      <td>...</td>\n      <td>...</td>\n      <td>...</td>\n    </tr>\n    <tr>\n      <th>915</th>\n      <td>0</td>\n      <td>0</td>\n      <td>1</td>\n      <td>2</td>\n      <td>0</td>\n      <td>3</td>\n      <td>3</td>\n      <td>4</td>\n      <td>0.530612</td>\n      <td>0.635000</td>\n      <td>0.552239</td>\n      <td>0.661972</td>\n      <td>0.295455</td>\n    </tr>\n    <tr>\n      <th>916</th>\n      <td>1</td>\n      <td>3</td>\n      <td>0</td>\n      <td>2</td>\n      <td>2</td>\n      <td>3</td>\n      <td>3</td>\n      <td>4</td>\n      <td>0.693878</td>\n      <td>0.663163</td>\n      <td>0.230514</td>\n      <td>0.535145</td>\n      <td>0.403923</td>\n    </tr>\n    <tr>\n      <th>917</th>\n      <td>1</td>\n      <td>0</td>\n      <td>1</td>\n      <td>2</td>\n      <td>0</td>\n      <td>3</td>\n      <td>0</td>\n      <td>4</td>\n      <td>0.551020</td>\n      <td>0.610000</td>\n      <td>0.369818</td>\n      <td>0.281690</td>\n      <td>0.295455</td>\n    </tr>\n    <tr>\n      <th>918</th>\n      <td>1</td>\n      <td>0</td>\n      <td>1</td>\n      <td>0</td>\n      <td>2</td>\n      <td>3</td>\n      <td>3</td>\n      <td>4</td>\n      <td>0.612245</td>\n      <td>0.663163</td>\n      <td>0.638474</td>\n      <td>0.535145</td>\n      <td>0.403923</td>\n    </tr>\n    <tr>\n      <th>919</th>\n      <td>1</td>\n      <td>1</td>\n      <td>0</td>\n      <td>0</td>\n      <td>1</td>\n      <td>3</td>\n      <td>3</td>\n      <td>4</td>\n      <td>0.693878</td>\n      <td>0.600000</td>\n      <td>0.421227</td>\n      <td>0.232394</td>\n      <td>0.295455</td>\n    </tr>\n  </tbody>\n</table>\n<p>797 rows × 13 columns</p>\n</div>"
     },
     "execution_count": 49,
     "metadata": {},
     "output_type": "execute_result"
    }
   ],
   "source": [
    "# Use MinMax scaled continous cols but unscaled categorial cols\n",
    "df = pd.concat((df_no_min_max[categorial_columns], df_min_max[cont_columns]), axis=1)\n",
    "df"
   ],
   "metadata": {
    "collapsed": false,
    "ExecuteTime": {
     "start_time": "2023-06-26T17:09:41.256412Z",
     "end_time": "2023-06-26T17:09:41.305127Z"
    }
   }
  },
  {
   "cell_type": "code",
   "execution_count": 50,
   "outputs": [],
   "source": [
    "class HeartDiseaseDataset(Dataset):\n",
    "    def __init__(self, df):\n",
    "        self.cat = torch.tensor(df[categorial_columns].values, dtype=torch.float)\n",
    "        self.cont = torch.tensor(df[cont_columns].values, dtype=torch.float)\n",
    "\n",
    "    def __getitem__(self, idx):\n",
    "        return self.cat[idx], self.cont[idx]\n",
    "\n",
    "    def __len__(self):\n",
    "        return self.cat.shape[0]"
   ],
   "metadata": {
    "collapsed": false,
    "ExecuteTime": {
     "start_time": "2023-06-26T17:09:41.258922Z",
     "end_time": "2023-06-26T17:09:41.308132Z"
    }
   }
  },
  {
   "cell_type": "code",
   "execution_count": 51,
   "outputs": [
    {
     "data": {
      "text/plain": "797"
     },
     "execution_count": 51,
     "metadata": {},
     "output_type": "execute_result"
    }
   ],
   "source": [
    "dataset = HeartDiseaseDataset(df)\n",
    "dataloader = DataLoader(dataset, batch_size=50, shuffle=True)\n",
    "len(dataset)"
   ],
   "metadata": {
    "collapsed": false,
    "ExecuteTime": {
     "start_time": "2023-06-26T17:09:41.264001Z",
     "end_time": "2023-06-26T17:09:41.309132Z"
    }
   }
  },
  {
   "cell_type": "code",
   "execution_count": 52,
   "outputs": [
    {
     "data": {
      "text/plain": "[(2, 2), (4, 2), (3, 2), (4, 2), (3, 2), (4, 2), (4, 2), (5, 3)]"
     },
     "execution_count": 52,
     "metadata": {},
     "output_type": "execute_result"
    }
   ],
   "source": [
    "embedding_sizes = [(df_no_min_max[col].nunique(), min(50, max(2, (df_no_min_max[col].nunique()+1) // 2))) for col in df_no_min_max[categorial_columns]]\n",
    "embedding_sizes"
   ],
   "metadata": {
    "collapsed": false,
    "ExecuteTime": {
     "start_time": "2023-06-26T17:09:41.276199Z",
     "end_time": "2023-06-26T17:09:41.309132Z"
    }
   }
  },
  {
   "cell_type": "code",
   "execution_count": 53,
   "outputs": [
    {
     "name": "stdout",
     "output_type": "stream",
     "text": [
      "epoch: 1/100, loss = 1.435361\n",
      "epoch: 2/100, loss = 1.403086\n",
      "epoch: 3/100, loss = 1.372033\n",
      "epoch: 4/100, loss = 1.332375\n",
      "epoch: 5/100, loss = 1.287610\n",
      "epoch: 6/100, loss = 1.237064\n",
      "epoch: 7/100, loss = 1.181460\n",
      "epoch: 8/100, loss = 1.123768\n",
      "epoch: 9/100, loss = 1.067587\n",
      "epoch: 10/100, loss = 1.012729\n",
      "epoch: 11/100, loss = 0.971805\n",
      "epoch: 12/100, loss = 0.940858\n",
      "epoch: 13/100, loss = 0.916396\n",
      "epoch: 14/100, loss = 0.897999\n",
      "epoch: 15/100, loss = 0.883998\n",
      "epoch: 16/100, loss = 0.874184\n",
      "epoch: 17/100, loss = 0.866332\n",
      "epoch: 18/100, loss = 0.858599\n",
      "epoch: 19/100, loss = 0.855145\n",
      "epoch: 20/100, loss = 0.850323\n",
      "epoch: 21/100, loss = 0.847999\n",
      "epoch: 22/100, loss = 0.842868\n",
      "epoch: 23/100, loss = 0.839551\n",
      "epoch: 24/100, loss = 0.835683\n",
      "epoch: 25/100, loss = 0.833257\n",
      "epoch: 26/100, loss = 0.830347\n",
      "epoch: 27/100, loss = 0.826573\n",
      "epoch: 28/100, loss = 0.824857\n",
      "epoch: 29/100, loss = 0.821157\n",
      "epoch: 30/100, loss = 0.819237\n",
      "epoch: 31/100, loss = 0.816199\n",
      "epoch: 32/100, loss = 0.812990\n",
      "epoch: 33/100, loss = 0.811037\n",
      "epoch: 34/100, loss = 0.807408\n",
      "epoch: 35/100, loss = 0.805402\n",
      "epoch: 36/100, loss = 0.801891\n",
      "epoch: 37/100, loss = 0.798828\n",
      "epoch: 38/100, loss = 0.795618\n",
      "epoch: 39/100, loss = 0.793618\n",
      "epoch: 40/100, loss = 0.791804\n",
      "epoch: 41/100, loss = 0.790245\n",
      "epoch: 42/100, loss = 0.787839\n",
      "epoch: 43/100, loss = 0.785819\n",
      "epoch: 44/100, loss = 0.783254\n",
      "epoch: 45/100, loss = 0.780717\n",
      "epoch: 46/100, loss = 0.780243\n",
      "epoch: 47/100, loss = 0.776865\n",
      "epoch: 48/100, loss = 0.774325\n",
      "epoch: 49/100, loss = 0.773037\n",
      "epoch: 50/100, loss = 0.771554\n",
      "epoch: 51/100, loss = 0.769265\n",
      "epoch: 52/100, loss = 0.767978\n",
      "epoch: 53/100, loss = 0.765728\n",
      "epoch: 54/100, loss = 0.763897\n",
      "epoch: 55/100, loss = 0.762896\n",
      "epoch: 56/100, loss = 0.761484\n",
      "epoch: 57/100, loss = 0.759829\n",
      "epoch: 58/100, loss = 0.759223\n",
      "epoch: 59/100, loss = 0.758390\n",
      "epoch: 60/100, loss = 0.758809\n",
      "epoch: 61/100, loss = 0.757975\n",
      "epoch: 62/100, loss = 0.755889\n",
      "epoch: 63/100, loss = 0.755168\n",
      "epoch: 64/100, loss = 0.754128\n",
      "epoch: 65/100, loss = 0.753643\n",
      "epoch: 66/100, loss = 0.751463\n",
      "epoch: 67/100, loss = 0.750856\n",
      "epoch: 68/100, loss = 0.748836\n",
      "epoch: 69/100, loss = 0.748176\n",
      "epoch: 70/100, loss = 0.746950\n",
      "epoch: 71/100, loss = 0.746493\n",
      "epoch: 72/100, loss = 0.746229\n",
      "epoch: 73/100, loss = 0.744240\n",
      "epoch: 74/100, loss = 0.744611\n",
      "epoch: 75/100, loss = 0.743156\n",
      "epoch: 76/100, loss = 0.743444\n",
      "epoch: 77/100, loss = 0.741923\n",
      "epoch: 78/100, loss = 0.741394\n",
      "epoch: 79/100, loss = 0.740250\n",
      "epoch: 80/100, loss = 0.740492\n",
      "epoch: 81/100, loss = 0.738937\n",
      "epoch: 82/100, loss = 0.738157\n",
      "epoch: 83/100, loss = 0.737007\n",
      "epoch: 84/100, loss = 0.737775\n",
      "epoch: 85/100, loss = 0.737411\n",
      "epoch: 86/100, loss = 0.736135\n",
      "epoch: 87/100, loss = 0.736484\n",
      "epoch: 88/100, loss = 0.735759\n",
      "epoch: 89/100, loss = 0.734171\n",
      "epoch: 90/100, loss = 0.735217\n",
      "epoch: 91/100, loss = 0.735022\n",
      "epoch: 92/100, loss = 0.735493\n",
      "epoch: 93/100, loss = 0.734766\n",
      "epoch: 94/100, loss = 0.734844\n",
      "epoch: 95/100, loss = 0.735397\n",
      "epoch: 96/100, loss = 0.732969\n",
      "epoch: 97/100, loss = 0.733917\n",
      "epoch: 98/100, loss = 0.732977\n",
      "epoch: 99/100, loss = 0.733766\n",
      "epoch: 100/100, loss = 0.731411\n"
     ]
    }
   ],
   "source": [
    "class AttentionModel(nn.Module):\n",
    "    def __init__(self):\n",
    "        super().__init__()\n",
    "        self.embeddings = nn.ModuleList([nn.Embedding(num, dim) for num, dim in embedding_sizes])\n",
    "        self.encoder = torch.nn.Sequential(\n",
    "            torch.nn.Linear(22, 12),\n",
    "            torch.nn.ReLU(),\n",
    "            torch.nn.BatchNorm1d(12),\n",
    "            torch.nn.Linear(12, 4),\n",
    "            torch.nn.Sigmoid(),\n",
    "            torch.nn.BatchNorm1d(4),\n",
    "        )\n",
    "        self.decoder = torch.nn.Sequential(\n",
    "            torch.nn.Linear(4, 12),\n",
    "            torch.nn.ReLU(),\n",
    "            torch.nn.Linear(12, 22),\n",
    "            torch.nn.Sigmoid()\n",
    "        )\n",
    "\n",
    "\n",
    "    def encode(self, x_cat, x_cont):\n",
    "        x_cat = x_cat.to(torch.long)\n",
    "        embedded = torch.cat([e(x_cat[:, i]) for i, e in enumerate(self.embeddings)], 1)\n",
    "        self.last_target = embedded.clone().detach()\n",
    "\n",
    "        qkv = torch.cat((embedded, x_cont), 1)\n",
    "        x = F.scaled_dot_product_attention(qkv, qkv, qkv)\n",
    "        encoded = self.encoder(x)\n",
    "        return encoded\n",
    "\n",
    "    def forward(self, x_cat, x_cont):\n",
    "        encoded = self.encode(x_cat, x_cont)\n",
    "        decoded = self.decoder(encoded)\n",
    "        return decoded\n",
    "\n",
    "\n",
    "epochs = 100\n",
    "lr = 0.001\n",
    "\n",
    "model = AttentionModel()\n",
    "\n",
    "criterion = nn.MSELoss()\n",
    "optimizer = torch.optim.Adam(model.parameters(), lr=lr)\n",
    "\n",
    "for epoch in range(epochs):\n",
    "    model.train()\n",
    "    loss = 0\n",
    "\n",
    "    for x_cat, x_cont in dataloader:\n",
    "        optimizer.zero_grad()\n",
    "        outputs = model(x_cat, x_cont)\n",
    "        train_loss = criterion(outputs, torch.cat((model.last_target, x_cont), 1))\n",
    "        train_loss.backward()\n",
    "        optimizer.step()\n",
    "        loss += train_loss.item()\n",
    "\n",
    "    loss = loss / len(dataloader)\n",
    "    print(\"epoch: {}/{}, loss = {:.6f}\".format(epoch + 1, epochs, loss))"
   ],
   "metadata": {
    "collapsed": false,
    "ExecuteTime": {
     "start_time": "2023-06-26T17:09:41.287966Z",
     "end_time": "2023-06-26T17:09:44.324317Z"
    }
   }
  },
  {
   "cell_type": "code",
   "execution_count": 54,
   "outputs": [
    {
     "data": {
      "text/plain": "array([[-2.072072  ,  2.0037766 , -2.282617  ,  0.6113448 ],\n       [ 2.6194017 ,  1.7707806 , -2.935399  , -2.0586138 ],\n       [ 2.7764227 ,  1.9022388 , -3.3638659 , -1.909287  ],\n       ...,\n       [-1.4609582 , -3.097196  ,  1.6889324 , -0.24767065],\n       [ 1.1134369 , -0.9239545 ,  2.317791  , -2.6867628 ],\n       [ 1.7341254 ,  1.1403885 ,  1.4136276 , -1.2475533 ]],\n      dtype=float32)"
     },
     "execution_count": 54,
     "metadata": {},
     "output_type": "execute_result"
    }
   ],
   "source": [
    "cat = torch.tensor(df[categorial_columns].values, dtype=torch.float)\n",
    "cont = torch.tensor(df[cont_columns].values, dtype=torch.float)\n",
    "features = model.encode(cat, cont).detach().numpy()\n",
    "features"
   ],
   "metadata": {
    "collapsed": false,
    "ExecuteTime": {
     "start_time": "2023-06-26T17:09:44.326829Z",
     "end_time": "2023-06-26T17:09:44.334392Z"
    }
   }
  },
  {
   "cell_type": "code",
   "execution_count": 55,
   "outputs": [
    {
     "data": {
      "text/plain": "0.36762860727728985"
     },
     "execution_count": 55,
     "metadata": {},
     "output_type": "execute_result"
    }
   ],
   "source": [
    "kmeans = KMeans(n_clusters=5, n_init=\"auto\", random_state=0).fit(features)\n",
    "acc = cluster_accuracy(kmeans.labels_, og_df[\"num\"].to_numpy())\n",
    "acc"
   ],
   "metadata": {
    "collapsed": false,
    "ExecuteTime": {
     "start_time": "2023-06-26T17:09:44.335897Z",
     "end_time": "2023-06-26T17:09:44.364031Z"
    }
   }
  },
  {
   "cell_type": "code",
   "execution_count": 56,
   "outputs": [
    {
     "data": {
      "text/plain": "0.08463476235458506"
     },
     "execution_count": 56,
     "metadata": {},
     "output_type": "execute_result"
    }
   ],
   "source": [
    "nmi = normalized_mutual_info_score(og_df[\"num\"].to_numpy(), kmeans.labels_)\n",
    "nmi"
   ],
   "metadata": {
    "collapsed": false,
    "ExecuteTime": {
     "start_time": "2023-06-26T17:09:44.346696Z",
     "end_time": "2023-06-26T17:09:44.365031Z"
    }
   }
  }
 ],
 "metadata": {
  "kernelspec": {
   "display_name": "Python 3",
   "language": "python",
   "name": "python3"
  },
  "language_info": {
   "codemirror_mode": {
    "name": "ipython",
    "version": 2
   },
   "file_extension": ".py",
   "mimetype": "text/x-python",
   "name": "python",
   "nbconvert_exporter": "python",
   "pygments_lexer": "ipython2",
   "version": "2.7.6"
  }
 },
 "nbformat": 4,
 "nbformat_minor": 0
}
