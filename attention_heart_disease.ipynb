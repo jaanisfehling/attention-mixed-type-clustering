{
 "cells": [
  {
   "cell_type": "code",
   "execution_count": 105,
   "metadata": {
    "collapsed": true,
    "ExecuteTime": {
     "start_time": "2023-06-26T15:53:32.628533Z",
     "end_time": "2023-06-26T15:53:32.633889Z"
    }
   },
   "outputs": [],
   "source": [
    "import numpy as np\n",
    "import pandas as pd\n",
    "from sklearn.cluster import KMeans\n",
    "from sklearn.metrics import normalized_mutual_info_score\n",
    "from sklearn.preprocessing import LabelEncoder, MinMaxScaler\n",
    "from torch.utils.data import Dataset, DataLoader\n",
    "import torch\n",
    "import torch.nn as nn\n",
    "import torch.nn.functional as F\n",
    "from scipy.optimize import linear_sum_assignment"
   ]
  },
  {
   "cell_type": "code",
   "execution_count": 106,
   "outputs": [],
   "source": [
    "def cluster_accuracy(y_pred, y_true):\n",
    "    # We need to map the labels to our cluster labels\n",
    "    # This is a linear assignment problem on a bipartite graph\n",
    "    k = max(len(np.unique(y_pred)), len(np.unique(y_pred)))\n",
    "    cost_matrix = np.zeros((k, k))\n",
    "    for i in range(y_pred.size):\n",
    "        cost_matrix[y_pred[i], y_true[i]] += 1\n",
    "    row_ind, col_ind = linear_sum_assignment(cost_matrix.max() - cost_matrix)\n",
    "    return cost_matrix[row_ind, col_ind].sum() / y_pred.size"
   ],
   "metadata": {
    "collapsed": false,
    "ExecuteTime": {
     "start_time": "2023-06-26T15:53:32.631434Z",
     "end_time": "2023-06-26T15:53:32.641324Z"
    }
   }
  },
  {
   "cell_type": "code",
   "execution_count": 107,
   "outputs": [
    {
     "data": {
      "text/plain": "     age     sex               cp  trestbps   chol    fbs           restecg   \n1     67    Male     asymptomatic     160.0  286.0  False    lv hypertrophy  \\\n2     67    Male     asymptomatic     120.0  229.0  False    lv hypertrophy   \n3     37    Male      non-anginal     130.0  250.0  False            normal   \n5     56    Male  atypical angina     120.0  236.0  False            normal   \n6     62  Female     asymptomatic     140.0  268.0  False    lv hypertrophy   \n..   ...     ...              ...       ...    ...    ...               ...   \n915   54  Female     asymptomatic     127.0  333.0   True  st-t abnormality   \n916   62    Male   typical angina       NaN  139.0  False  st-t abnormality   \n917   55    Male     asymptomatic     122.0  223.0   True  st-t abnormality   \n918   58    Male     asymptomatic       NaN  385.0   True    lv hypertrophy   \n919   62    Male  atypical angina     120.0  254.0  False    lv hypertrophy   \n\n     thalch  exang  oldpeak        slope   ca               thal  num  \n1     108.0   True      1.5         flat  3.0             normal    2  \n2     129.0   True      2.6         flat  2.0  reversable defect    1  \n3     187.0  False      3.5  downsloping  0.0             normal    0  \n5     178.0  False      0.8    upsloping  0.0             normal    0  \n6     160.0  False      3.6  downsloping  2.0             normal    3  \n..      ...    ...      ...          ...  ...                ...  ...  \n915   154.0  False      0.0          NaN  NaN                NaN    1  \n916     NaN    NaN      NaN          NaN  NaN                NaN    0  \n917   100.0  False      0.0          NaN  NaN       fixed defect    2  \n918     NaN    NaN      NaN          NaN  NaN                NaN    0  \n919    93.0   True      0.0          NaN  NaN                NaN    1  \n\n[797 rows x 14 columns]",
      "text/html": "<div>\n<style scoped>\n    .dataframe tbody tr th:only-of-type {\n        vertical-align: middle;\n    }\n\n    .dataframe tbody tr th {\n        vertical-align: top;\n    }\n\n    .dataframe thead th {\n        text-align: right;\n    }\n</style>\n<table border=\"1\" class=\"dataframe\">\n  <thead>\n    <tr style=\"text-align: right;\">\n      <th></th>\n      <th>age</th>\n      <th>sex</th>\n      <th>cp</th>\n      <th>trestbps</th>\n      <th>chol</th>\n      <th>fbs</th>\n      <th>restecg</th>\n      <th>thalch</th>\n      <th>exang</th>\n      <th>oldpeak</th>\n      <th>slope</th>\n      <th>ca</th>\n      <th>thal</th>\n      <th>num</th>\n    </tr>\n  </thead>\n  <tbody>\n    <tr>\n      <th>1</th>\n      <td>67</td>\n      <td>Male</td>\n      <td>asymptomatic</td>\n      <td>160.0</td>\n      <td>286.0</td>\n      <td>False</td>\n      <td>lv hypertrophy</td>\n      <td>108.0</td>\n      <td>True</td>\n      <td>1.5</td>\n      <td>flat</td>\n      <td>3.0</td>\n      <td>normal</td>\n      <td>2</td>\n    </tr>\n    <tr>\n      <th>2</th>\n      <td>67</td>\n      <td>Male</td>\n      <td>asymptomatic</td>\n      <td>120.0</td>\n      <td>229.0</td>\n      <td>False</td>\n      <td>lv hypertrophy</td>\n      <td>129.0</td>\n      <td>True</td>\n      <td>2.6</td>\n      <td>flat</td>\n      <td>2.0</td>\n      <td>reversable defect</td>\n      <td>1</td>\n    </tr>\n    <tr>\n      <th>3</th>\n      <td>37</td>\n      <td>Male</td>\n      <td>non-anginal</td>\n      <td>130.0</td>\n      <td>250.0</td>\n      <td>False</td>\n      <td>normal</td>\n      <td>187.0</td>\n      <td>False</td>\n      <td>3.5</td>\n      <td>downsloping</td>\n      <td>0.0</td>\n      <td>normal</td>\n      <td>0</td>\n    </tr>\n    <tr>\n      <th>5</th>\n      <td>56</td>\n      <td>Male</td>\n      <td>atypical angina</td>\n      <td>120.0</td>\n      <td>236.0</td>\n      <td>False</td>\n      <td>normal</td>\n      <td>178.0</td>\n      <td>False</td>\n      <td>0.8</td>\n      <td>upsloping</td>\n      <td>0.0</td>\n      <td>normal</td>\n      <td>0</td>\n    </tr>\n    <tr>\n      <th>6</th>\n      <td>62</td>\n      <td>Female</td>\n      <td>asymptomatic</td>\n      <td>140.0</td>\n      <td>268.0</td>\n      <td>False</td>\n      <td>lv hypertrophy</td>\n      <td>160.0</td>\n      <td>False</td>\n      <td>3.6</td>\n      <td>downsloping</td>\n      <td>2.0</td>\n      <td>normal</td>\n      <td>3</td>\n    </tr>\n    <tr>\n      <th>...</th>\n      <td>...</td>\n      <td>...</td>\n      <td>...</td>\n      <td>...</td>\n      <td>...</td>\n      <td>...</td>\n      <td>...</td>\n      <td>...</td>\n      <td>...</td>\n      <td>...</td>\n      <td>...</td>\n      <td>...</td>\n      <td>...</td>\n      <td>...</td>\n    </tr>\n    <tr>\n      <th>915</th>\n      <td>54</td>\n      <td>Female</td>\n      <td>asymptomatic</td>\n      <td>127.0</td>\n      <td>333.0</td>\n      <td>True</td>\n      <td>st-t abnormality</td>\n      <td>154.0</td>\n      <td>False</td>\n      <td>0.0</td>\n      <td>NaN</td>\n      <td>NaN</td>\n      <td>NaN</td>\n      <td>1</td>\n    </tr>\n    <tr>\n      <th>916</th>\n      <td>62</td>\n      <td>Male</td>\n      <td>typical angina</td>\n      <td>NaN</td>\n      <td>139.0</td>\n      <td>False</td>\n      <td>st-t abnormality</td>\n      <td>NaN</td>\n      <td>NaN</td>\n      <td>NaN</td>\n      <td>NaN</td>\n      <td>NaN</td>\n      <td>NaN</td>\n      <td>0</td>\n    </tr>\n    <tr>\n      <th>917</th>\n      <td>55</td>\n      <td>Male</td>\n      <td>asymptomatic</td>\n      <td>122.0</td>\n      <td>223.0</td>\n      <td>True</td>\n      <td>st-t abnormality</td>\n      <td>100.0</td>\n      <td>False</td>\n      <td>0.0</td>\n      <td>NaN</td>\n      <td>NaN</td>\n      <td>fixed defect</td>\n      <td>2</td>\n    </tr>\n    <tr>\n      <th>918</th>\n      <td>58</td>\n      <td>Male</td>\n      <td>asymptomatic</td>\n      <td>NaN</td>\n      <td>385.0</td>\n      <td>True</td>\n      <td>lv hypertrophy</td>\n      <td>NaN</td>\n      <td>NaN</td>\n      <td>NaN</td>\n      <td>NaN</td>\n      <td>NaN</td>\n      <td>NaN</td>\n      <td>0</td>\n    </tr>\n    <tr>\n      <th>919</th>\n      <td>62</td>\n      <td>Male</td>\n      <td>atypical angina</td>\n      <td>120.0</td>\n      <td>254.0</td>\n      <td>False</td>\n      <td>lv hypertrophy</td>\n      <td>93.0</td>\n      <td>True</td>\n      <td>0.0</td>\n      <td>NaN</td>\n      <td>NaN</td>\n      <td>NaN</td>\n      <td>1</td>\n    </tr>\n  </tbody>\n</table>\n<p>797 rows × 14 columns</p>\n</div>"
     },
     "execution_count": 107,
     "metadata": {},
     "output_type": "execute_result"
    }
   ],
   "source": [
    "og_df = pd.read_csv(\"datasets/heart_disease_uci.csv\")\n",
    "og_df.drop(columns=[\"id\", \"dataset\"], inplace=True)\n",
    "og_df = og_df.drop(og_df[og_df[\"num\"] == 0].sample(frac=0.3).index)\n",
    "og_df # this df still has \"num\" -> the target"
   ],
   "metadata": {
    "collapsed": false,
    "ExecuteTime": {
     "start_time": "2023-06-26T15:53:32.642324Z",
     "end_time": "2023-06-26T15:53:32.683059Z"
    }
   }
  },
  {
   "cell_type": "code",
   "execution_count": 108,
   "outputs": [],
   "source": [
    "categorial_columns = [\"sex\", \"cp\", \"fbs\", \"restecg\", \"exang\", \"slope\", \"thal\"]\n",
    "cont_columns = [\"age\", \"trestbps\", \"chol\", \"thalch\", \"oldpeak\", \"ca\"]"
   ],
   "metadata": {
    "collapsed": false,
    "ExecuteTime": {
     "start_time": "2023-06-26T15:53:32.668521Z",
     "end_time": "2023-06-26T15:53:32.683059Z"
    }
   }
  },
  {
   "cell_type": "code",
   "execution_count": 109,
   "outputs": [
    {
     "data": {
      "text/plain": "          age  sex        cp  trestbps      chol  fbs   restecg    thalch   \n1    0.795918  1.0  0.000000  0.800000  0.474295  0.0  0.000000  0.338028  \\\n2    0.795918  1.0  0.000000  0.600000  0.379768  0.0  0.000000  0.485915   \n3    0.183673  1.0  0.666667  0.650000  0.414594  0.0  0.333333  0.894366   \n5    0.571429  1.0  0.333333  0.600000  0.391376  0.0  0.333333  0.830986   \n6    0.693878  0.0  0.000000  0.700000  0.444444  0.0  0.000000  0.704225   \n..        ...  ...       ...       ...       ...  ...       ...       ...   \n915  0.530612  0.0  0.000000  0.635000  0.552239  0.5  0.666667  0.661972   \n916  0.693878  1.0  1.000000  0.661537  0.230514  0.0  0.666667  0.534600   \n917  0.551020  1.0  0.000000  0.610000  0.369818  0.5  0.666667  0.281690   \n918  0.612245  1.0  0.000000  0.661537  0.638474  0.5  0.000000  0.534600   \n919  0.693878  1.0  0.333333  0.600000  0.421227  0.0  0.000000  0.232394   \n\n     exang   oldpeak     slope        ca      thal  \n1      0.5  0.465909  0.333333  1.000000  0.333333  \n2      0.5  0.590909  0.333333  0.666667  0.666667  \n3      0.0  0.693182  0.000000  0.000000  0.333333  \n5      0.0  0.386364  0.666667  0.000000  0.333333  \n6      0.0  0.704545  0.000000  0.666667  0.333333  \n..     ...       ...       ...       ...       ...  \n915    0.0  0.295455  1.000000  0.244613  1.000000  \n916    1.0  0.402460  1.000000  0.244613  1.000000  \n917    0.0  0.295455  1.000000  0.244613  0.000000  \n918    1.0  0.402460  1.000000  0.244613  1.000000  \n919    0.5  0.295455  1.000000  0.244613  1.000000  \n\n[797 rows x 13 columns]",
      "text/html": "<div>\n<style scoped>\n    .dataframe tbody tr th:only-of-type {\n        vertical-align: middle;\n    }\n\n    .dataframe tbody tr th {\n        vertical-align: top;\n    }\n\n    .dataframe thead th {\n        text-align: right;\n    }\n</style>\n<table border=\"1\" class=\"dataframe\">\n  <thead>\n    <tr style=\"text-align: right;\">\n      <th></th>\n      <th>age</th>\n      <th>sex</th>\n      <th>cp</th>\n      <th>trestbps</th>\n      <th>chol</th>\n      <th>fbs</th>\n      <th>restecg</th>\n      <th>thalch</th>\n      <th>exang</th>\n      <th>oldpeak</th>\n      <th>slope</th>\n      <th>ca</th>\n      <th>thal</th>\n    </tr>\n  </thead>\n  <tbody>\n    <tr>\n      <th>1</th>\n      <td>0.795918</td>\n      <td>1.0</td>\n      <td>0.000000</td>\n      <td>0.800000</td>\n      <td>0.474295</td>\n      <td>0.0</td>\n      <td>0.000000</td>\n      <td>0.338028</td>\n      <td>0.5</td>\n      <td>0.465909</td>\n      <td>0.333333</td>\n      <td>1.000000</td>\n      <td>0.333333</td>\n    </tr>\n    <tr>\n      <th>2</th>\n      <td>0.795918</td>\n      <td>1.0</td>\n      <td>0.000000</td>\n      <td>0.600000</td>\n      <td>0.379768</td>\n      <td>0.0</td>\n      <td>0.000000</td>\n      <td>0.485915</td>\n      <td>0.5</td>\n      <td>0.590909</td>\n      <td>0.333333</td>\n      <td>0.666667</td>\n      <td>0.666667</td>\n    </tr>\n    <tr>\n      <th>3</th>\n      <td>0.183673</td>\n      <td>1.0</td>\n      <td>0.666667</td>\n      <td>0.650000</td>\n      <td>0.414594</td>\n      <td>0.0</td>\n      <td>0.333333</td>\n      <td>0.894366</td>\n      <td>0.0</td>\n      <td>0.693182</td>\n      <td>0.000000</td>\n      <td>0.000000</td>\n      <td>0.333333</td>\n    </tr>\n    <tr>\n      <th>5</th>\n      <td>0.571429</td>\n      <td>1.0</td>\n      <td>0.333333</td>\n      <td>0.600000</td>\n      <td>0.391376</td>\n      <td>0.0</td>\n      <td>0.333333</td>\n      <td>0.830986</td>\n      <td>0.0</td>\n      <td>0.386364</td>\n      <td>0.666667</td>\n      <td>0.000000</td>\n      <td>0.333333</td>\n    </tr>\n    <tr>\n      <th>6</th>\n      <td>0.693878</td>\n      <td>0.0</td>\n      <td>0.000000</td>\n      <td>0.700000</td>\n      <td>0.444444</td>\n      <td>0.0</td>\n      <td>0.000000</td>\n      <td>0.704225</td>\n      <td>0.0</td>\n      <td>0.704545</td>\n      <td>0.000000</td>\n      <td>0.666667</td>\n      <td>0.333333</td>\n    </tr>\n    <tr>\n      <th>...</th>\n      <td>...</td>\n      <td>...</td>\n      <td>...</td>\n      <td>...</td>\n      <td>...</td>\n      <td>...</td>\n      <td>...</td>\n      <td>...</td>\n      <td>...</td>\n      <td>...</td>\n      <td>...</td>\n      <td>...</td>\n      <td>...</td>\n    </tr>\n    <tr>\n      <th>915</th>\n      <td>0.530612</td>\n      <td>0.0</td>\n      <td>0.000000</td>\n      <td>0.635000</td>\n      <td>0.552239</td>\n      <td>0.5</td>\n      <td>0.666667</td>\n      <td>0.661972</td>\n      <td>0.0</td>\n      <td>0.295455</td>\n      <td>1.000000</td>\n      <td>0.244613</td>\n      <td>1.000000</td>\n    </tr>\n    <tr>\n      <th>916</th>\n      <td>0.693878</td>\n      <td>1.0</td>\n      <td>1.000000</td>\n      <td>0.661537</td>\n      <td>0.230514</td>\n      <td>0.0</td>\n      <td>0.666667</td>\n      <td>0.534600</td>\n      <td>1.0</td>\n      <td>0.402460</td>\n      <td>1.000000</td>\n      <td>0.244613</td>\n      <td>1.000000</td>\n    </tr>\n    <tr>\n      <th>917</th>\n      <td>0.551020</td>\n      <td>1.0</td>\n      <td>0.000000</td>\n      <td>0.610000</td>\n      <td>0.369818</td>\n      <td>0.5</td>\n      <td>0.666667</td>\n      <td>0.281690</td>\n      <td>0.0</td>\n      <td>0.295455</td>\n      <td>1.000000</td>\n      <td>0.244613</td>\n      <td>0.000000</td>\n    </tr>\n    <tr>\n      <th>918</th>\n      <td>0.612245</td>\n      <td>1.0</td>\n      <td>0.000000</td>\n      <td>0.661537</td>\n      <td>0.638474</td>\n      <td>0.5</td>\n      <td>0.000000</td>\n      <td>0.534600</td>\n      <td>1.0</td>\n      <td>0.402460</td>\n      <td>1.000000</td>\n      <td>0.244613</td>\n      <td>1.000000</td>\n    </tr>\n    <tr>\n      <th>919</th>\n      <td>0.693878</td>\n      <td>1.0</td>\n      <td>0.333333</td>\n      <td>0.600000</td>\n      <td>0.421227</td>\n      <td>0.0</td>\n      <td>0.000000</td>\n      <td>0.232394</td>\n      <td>0.5</td>\n      <td>0.295455</td>\n      <td>1.000000</td>\n      <td>0.244613</td>\n      <td>1.000000</td>\n    </tr>\n  </tbody>\n</table>\n<p>797 rows × 13 columns</p>\n</div>"
     },
     "execution_count": 109,
     "metadata": {},
     "output_type": "execute_result"
    }
   ],
   "source": [
    "df_min_max = og_df.copy()\n",
    "df_min_max.drop(columns=\"num\", inplace=True)\n",
    "df_min_max[categorial_columns] = df_min_max[categorial_columns].apply(LabelEncoder().fit_transform)\n",
    "df_min_max[categorial_columns] = MinMaxScaler().fit_transform(df_min_max[categorial_columns])\n",
    "df_min_max[cont_columns] = MinMaxScaler().fit_transform(df_min_max[cont_columns])\n",
    "df_min_max = df_min_max.fillna(df_min_max.mean())\n",
    "df_min_max"
   ],
   "metadata": {
    "collapsed": false,
    "ExecuteTime": {
     "start_time": "2023-06-26T15:53:32.671544Z",
     "end_time": "2023-06-26T15:53:32.695929Z"
    }
   }
  },
  {
   "cell_type": "code",
   "execution_count": 110,
   "outputs": [
    {
     "data": {
      "text/plain": "     age  sex  cp    trestbps   chol  fbs  restecg      thalch  exang   \n1     67    1   0  160.000000  286.0    0        0  108.000000      1  \\\n2     67    1   0  120.000000  229.0    0        0  129.000000      1   \n3     37    1   2  130.000000  250.0    0        1  187.000000      0   \n5     56    1   1  120.000000  236.0    0        1  178.000000      0   \n6     62    0   0  140.000000  268.0    0        0  160.000000      0   \n..   ...  ...  ..         ...    ...  ...      ...         ...    ...   \n915   54    0   0  127.000000  333.0    1        2  154.000000      0   \n916   62    1   3  132.307383  139.0    0        2  135.913218      2   \n917   55    1   0  122.000000  223.0    1        2  100.000000      0   \n918   58    1   0  132.307383  385.0    1        0  135.913218      2   \n919   62    1   1  120.000000  254.0    0        0   93.000000      1   \n\n      oldpeak  slope       ca  thal  \n1    1.500000      1  3.00000     1  \n2    2.600000      1  2.00000     2  \n3    3.500000      0  0.00000     1  \n5    0.800000      2  0.00000     1  \n6    3.600000      0  2.00000     1  \n..        ...    ...      ...   ...  \n915  0.000000      3  0.73384     3  \n916  0.941644      3  0.73384     3  \n917  0.000000      3  0.73384     0  \n918  0.941644      3  0.73384     3  \n919  0.000000      3  0.73384     3  \n\n[797 rows x 13 columns]",
      "text/html": "<div>\n<style scoped>\n    .dataframe tbody tr th:only-of-type {\n        vertical-align: middle;\n    }\n\n    .dataframe tbody tr th {\n        vertical-align: top;\n    }\n\n    .dataframe thead th {\n        text-align: right;\n    }\n</style>\n<table border=\"1\" class=\"dataframe\">\n  <thead>\n    <tr style=\"text-align: right;\">\n      <th></th>\n      <th>age</th>\n      <th>sex</th>\n      <th>cp</th>\n      <th>trestbps</th>\n      <th>chol</th>\n      <th>fbs</th>\n      <th>restecg</th>\n      <th>thalch</th>\n      <th>exang</th>\n      <th>oldpeak</th>\n      <th>slope</th>\n      <th>ca</th>\n      <th>thal</th>\n    </tr>\n  </thead>\n  <tbody>\n    <tr>\n      <th>1</th>\n      <td>67</td>\n      <td>1</td>\n      <td>0</td>\n      <td>160.000000</td>\n      <td>286.0</td>\n      <td>0</td>\n      <td>0</td>\n      <td>108.000000</td>\n      <td>1</td>\n      <td>1.500000</td>\n      <td>1</td>\n      <td>3.00000</td>\n      <td>1</td>\n    </tr>\n    <tr>\n      <th>2</th>\n      <td>67</td>\n      <td>1</td>\n      <td>0</td>\n      <td>120.000000</td>\n      <td>229.0</td>\n      <td>0</td>\n      <td>0</td>\n      <td>129.000000</td>\n      <td>1</td>\n      <td>2.600000</td>\n      <td>1</td>\n      <td>2.00000</td>\n      <td>2</td>\n    </tr>\n    <tr>\n      <th>3</th>\n      <td>37</td>\n      <td>1</td>\n      <td>2</td>\n      <td>130.000000</td>\n      <td>250.0</td>\n      <td>0</td>\n      <td>1</td>\n      <td>187.000000</td>\n      <td>0</td>\n      <td>3.500000</td>\n      <td>0</td>\n      <td>0.00000</td>\n      <td>1</td>\n    </tr>\n    <tr>\n      <th>5</th>\n      <td>56</td>\n      <td>1</td>\n      <td>1</td>\n      <td>120.000000</td>\n      <td>236.0</td>\n      <td>0</td>\n      <td>1</td>\n      <td>178.000000</td>\n      <td>0</td>\n      <td>0.800000</td>\n      <td>2</td>\n      <td>0.00000</td>\n      <td>1</td>\n    </tr>\n    <tr>\n      <th>6</th>\n      <td>62</td>\n      <td>0</td>\n      <td>0</td>\n      <td>140.000000</td>\n      <td>268.0</td>\n      <td>0</td>\n      <td>0</td>\n      <td>160.000000</td>\n      <td>0</td>\n      <td>3.600000</td>\n      <td>0</td>\n      <td>2.00000</td>\n      <td>1</td>\n    </tr>\n    <tr>\n      <th>...</th>\n      <td>...</td>\n      <td>...</td>\n      <td>...</td>\n      <td>...</td>\n      <td>...</td>\n      <td>...</td>\n      <td>...</td>\n      <td>...</td>\n      <td>...</td>\n      <td>...</td>\n      <td>...</td>\n      <td>...</td>\n      <td>...</td>\n    </tr>\n    <tr>\n      <th>915</th>\n      <td>54</td>\n      <td>0</td>\n      <td>0</td>\n      <td>127.000000</td>\n      <td>333.0</td>\n      <td>1</td>\n      <td>2</td>\n      <td>154.000000</td>\n      <td>0</td>\n      <td>0.000000</td>\n      <td>3</td>\n      <td>0.73384</td>\n      <td>3</td>\n    </tr>\n    <tr>\n      <th>916</th>\n      <td>62</td>\n      <td>1</td>\n      <td>3</td>\n      <td>132.307383</td>\n      <td>139.0</td>\n      <td>0</td>\n      <td>2</td>\n      <td>135.913218</td>\n      <td>2</td>\n      <td>0.941644</td>\n      <td>3</td>\n      <td>0.73384</td>\n      <td>3</td>\n    </tr>\n    <tr>\n      <th>917</th>\n      <td>55</td>\n      <td>1</td>\n      <td>0</td>\n      <td>122.000000</td>\n      <td>223.0</td>\n      <td>1</td>\n      <td>2</td>\n      <td>100.000000</td>\n      <td>0</td>\n      <td>0.000000</td>\n      <td>3</td>\n      <td>0.73384</td>\n      <td>0</td>\n    </tr>\n    <tr>\n      <th>918</th>\n      <td>58</td>\n      <td>1</td>\n      <td>0</td>\n      <td>132.307383</td>\n      <td>385.0</td>\n      <td>1</td>\n      <td>0</td>\n      <td>135.913218</td>\n      <td>2</td>\n      <td>0.941644</td>\n      <td>3</td>\n      <td>0.73384</td>\n      <td>3</td>\n    </tr>\n    <tr>\n      <th>919</th>\n      <td>62</td>\n      <td>1</td>\n      <td>1</td>\n      <td>120.000000</td>\n      <td>254.0</td>\n      <td>0</td>\n      <td>0</td>\n      <td>93.000000</td>\n      <td>1</td>\n      <td>0.000000</td>\n      <td>3</td>\n      <td>0.73384</td>\n      <td>3</td>\n    </tr>\n  </tbody>\n</table>\n<p>797 rows × 13 columns</p>\n</div>"
     },
     "execution_count": 110,
     "metadata": {},
     "output_type": "execute_result"
    }
   ],
   "source": [
    "df_no_min_max = og_df.copy()\n",
    "df_no_min_max.drop(columns=\"num\", inplace=True)\n",
    "df_no_min_max[categorial_columns] = df_no_min_max[categorial_columns].apply(LabelEncoder().fit_transform)\n",
    "df_no_min_max = df_no_min_max.fillna(df_no_min_max.mean())\n",
    "df_no_min_max"
   ],
   "metadata": {
    "collapsed": false,
    "ExecuteTime": {
     "start_time": "2023-06-26T15:53:32.697929Z",
     "end_time": "2023-06-26T15:53:32.711292Z"
    }
   }
  },
  {
   "cell_type": "code",
   "execution_count": 111,
   "outputs": [],
   "source": [
    "class HeartDiseaseDataset(Dataset):\n",
    "    def __init__(self, df):\n",
    "        self.cat = torch.tensor(df[categorial_columns].values, dtype=torch.float)\n",
    "        self.cont = torch.tensor(df[cont_columns].values, dtype=torch.float)\n",
    "\n",
    "    def __getitem__(self, idx):\n",
    "        return self.cat[idx], self.cont[idx]\n",
    "\n",
    "    def __len__(self):\n",
    "        return self.cat.shape[0]"
   ],
   "metadata": {
    "collapsed": false,
    "ExecuteTime": {
     "start_time": "2023-06-26T15:53:32.714396Z",
     "end_time": "2023-06-26T15:53:32.715402Z"
    }
   }
  },
  {
   "cell_type": "code",
   "execution_count": 112,
   "outputs": [
    {
     "data": {
      "text/plain": "797"
     },
     "execution_count": 112,
     "metadata": {},
     "output_type": "execute_result"
    }
   ],
   "source": [
    "dataset = HeartDiseaseDataset(df_no_min_max)\n",
    "dataloader = DataLoader(dataset, batch_size=50, shuffle=True)\n",
    "len(dataset)"
   ],
   "metadata": {
    "collapsed": false,
    "ExecuteTime": {
     "start_time": "2023-06-26T15:53:32.715402Z",
     "end_time": "2023-06-26T15:53:32.779036Z"
    }
   }
  },
  {
   "cell_type": "code",
   "execution_count": 113,
   "outputs": [
    {
     "data": {
      "text/plain": "[(2, 2), (4, 2), (3, 2), (4, 2), (3, 2), (4, 2), (4, 2)]"
     },
     "execution_count": 113,
     "metadata": {},
     "output_type": "execute_result"
    }
   ],
   "source": [
    "embedding_sizes = [(df_no_min_max[col].nunique(), min(50, max(2, (df_no_min_max[col].nunique()+1) // 2))) for col in df_no_min_max[categorial_columns]]\n",
    "embedding_sizes"
   ],
   "metadata": {
    "collapsed": false,
    "ExecuteTime": {
     "start_time": "2023-06-26T15:53:32.728259Z",
     "end_time": "2023-06-26T15:53:32.794056Z"
    }
   }
  },
  {
   "cell_type": "code",
   "execution_count": 114,
   "outputs": [
    {
     "name": "stdout",
     "output_type": "stream",
     "text": [
      "epoch: 1/100, loss = 1.412345\n",
      "epoch: 2/100, loss = 1.383591\n",
      "epoch: 3/100, loss = 1.354771\n",
      "epoch: 4/100, loss = 1.322858\n",
      "epoch: 5/100, loss = 1.290178\n",
      "epoch: 6/100, loss = 1.248358\n",
      "epoch: 7/100, loss = 1.206301\n",
      "epoch: 8/100, loss = 1.161156\n",
      "epoch: 9/100, loss = 1.113331\n",
      "epoch: 10/100, loss = 1.068228\n",
      "epoch: 11/100, loss = 1.019751\n",
      "epoch: 12/100, loss = 0.981947\n",
      "epoch: 13/100, loss = 0.943967\n",
      "epoch: 14/100, loss = 0.916913\n",
      "epoch: 15/100, loss = 0.892518\n",
      "epoch: 16/100, loss = 0.875607\n",
      "epoch: 17/100, loss = 0.863432\n",
      "epoch: 18/100, loss = 0.853090\n",
      "epoch: 19/100, loss = 0.841149\n",
      "epoch: 20/100, loss = 0.831749\n",
      "epoch: 21/100, loss = 0.827493\n",
      "epoch: 22/100, loss = 0.821125\n",
      "epoch: 23/100, loss = 0.817037\n",
      "epoch: 24/100, loss = 0.812074\n",
      "epoch: 25/100, loss = 0.809025\n",
      "epoch: 26/100, loss = 0.805565\n",
      "epoch: 27/100, loss = 0.803348\n",
      "epoch: 28/100, loss = 0.800373\n",
      "epoch: 29/100, loss = 0.795954\n",
      "epoch: 30/100, loss = 0.793020\n",
      "epoch: 31/100, loss = 0.792297\n",
      "epoch: 32/100, loss = 0.789918\n",
      "epoch: 33/100, loss = 0.786507\n",
      "epoch: 34/100, loss = 0.783383\n",
      "epoch: 35/100, loss = 0.782456\n",
      "epoch: 36/100, loss = 0.778836\n",
      "epoch: 37/100, loss = 0.777092\n",
      "epoch: 38/100, loss = 0.776123\n",
      "epoch: 39/100, loss = 0.775316\n",
      "epoch: 40/100, loss = 0.772571\n",
      "epoch: 41/100, loss = 0.773353\n",
      "epoch: 42/100, loss = 0.771308\n",
      "epoch: 43/100, loss = 0.768164\n",
      "epoch: 44/100, loss = 0.769172\n",
      "epoch: 45/100, loss = 0.768491\n",
      "epoch: 46/100, loss = 0.766708\n",
      "epoch: 47/100, loss = 0.766178\n",
      "epoch: 48/100, loss = 0.767188\n",
      "epoch: 49/100, loss = 0.767531\n",
      "epoch: 50/100, loss = 0.769473\n",
      "epoch: 51/100, loss = 0.769102\n",
      "epoch: 52/100, loss = 0.769758\n",
      "epoch: 53/100, loss = 0.770769\n",
      "epoch: 54/100, loss = 0.771210\n",
      "epoch: 55/100, loss = 0.772906\n",
      "epoch: 56/100, loss = 0.775544\n",
      "epoch: 57/100, loss = 0.777004\n",
      "epoch: 58/100, loss = 0.777022\n",
      "epoch: 59/100, loss = 0.779401\n",
      "epoch: 60/100, loss = 0.778913\n",
      "epoch: 61/100, loss = 0.780493\n",
      "epoch: 62/100, loss = 0.781492\n",
      "epoch: 63/100, loss = 0.779168\n",
      "epoch: 64/100, loss = 0.778653\n",
      "epoch: 65/100, loss = 0.776924\n",
      "epoch: 66/100, loss = 0.775935\n",
      "epoch: 67/100, loss = 0.773453\n",
      "epoch: 68/100, loss = 0.773461\n",
      "epoch: 69/100, loss = 0.770972\n",
      "epoch: 70/100, loss = 0.769142\n",
      "epoch: 71/100, loss = 0.769083\n",
      "epoch: 72/100, loss = 0.766747\n",
      "epoch: 73/100, loss = 0.766067\n",
      "epoch: 74/100, loss = 0.764971\n",
      "epoch: 75/100, loss = 0.761694\n",
      "epoch: 76/100, loss = 0.760926\n",
      "epoch: 77/100, loss = 0.761168\n",
      "epoch: 78/100, loss = 0.761140\n",
      "epoch: 79/100, loss = 0.760218\n",
      "epoch: 80/100, loss = 0.758025\n",
      "epoch: 81/100, loss = 0.757951\n",
      "epoch: 82/100, loss = 0.757564\n",
      "epoch: 83/100, loss = 0.756524\n",
      "epoch: 84/100, loss = 0.755064\n",
      "epoch: 85/100, loss = 0.754283\n",
      "epoch: 86/100, loss = 0.753496\n",
      "epoch: 87/100, loss = 0.754663\n",
      "epoch: 88/100, loss = 0.753182\n",
      "epoch: 89/100, loss = 0.753415\n",
      "epoch: 90/100, loss = 0.753103\n",
      "epoch: 91/100, loss = 0.753053\n",
      "epoch: 92/100, loss = 0.753432\n",
      "epoch: 93/100, loss = 0.751748\n",
      "epoch: 94/100, loss = 0.752591\n",
      "epoch: 95/100, loss = 0.752579\n",
      "epoch: 96/100, loss = 0.752590\n",
      "epoch: 97/100, loss = 0.751794\n",
      "epoch: 98/100, loss = 0.752447\n",
      "epoch: 99/100, loss = 0.750689\n",
      "epoch: 100/100, loss = 0.749175\n"
     ]
    }
   ],
   "source": [
    "class AttentionModel(nn.Module):\n",
    "    def __init__(self):\n",
    "        super().__init__()\n",
    "        self.embeddings = nn.ModuleList([nn.Embedding(num, dim) for num, dim in embedding_sizes])\n",
    "        n_emb = sum(e.embedding_dim for e in self.embeddings)\n",
    "        self.encoder = torch.nn.Sequential(\n",
    "            torch.nn.Linear(n_emb, 10),\n",
    "            torch.nn.ReLU(),\n",
    "            torch.nn.BatchNorm1d(10),\n",
    "            torch.nn.Linear(10, 4),\n",
    "            torch.nn.Sigmoid(),\n",
    "            torch.nn.BatchNorm1d(4),\n",
    "        )\n",
    "        self.decoder = torch.nn.Sequential(\n",
    "            torch.nn.Linear(4, 10),\n",
    "            torch.nn.ReLU(),\n",
    "            torch.nn.Linear(10, n_emb),\n",
    "            torch.nn.Sigmoid()\n",
    "        )\n",
    "\n",
    "    def _embed(self, x_cat):\n",
    "        x_cat = x_cat.to(torch.long)\n",
    "        x = [e(x_cat[:, i]) for i, e in enumerate(self.embeddings)]\n",
    "        x = torch.cat(x, 1)\n",
    "        self.last_target = x.clone().detach()\n",
    "        return x\n",
    "\n",
    "    def encode(self, x_cat):\n",
    "        embedded = self._embed(x_cat)\n",
    "        x = F.scaled_dot_product_attention(embedded, embedded, embedded)\n",
    "        encoded = self.encoder(x)\n",
    "        return encoded\n",
    "\n",
    "    def forward(self, x_cat):\n",
    "        encoded = self.encode(x_cat)\n",
    "        decoded = self.decoder(encoded)\n",
    "        return decoded\n",
    "\n",
    "\n",
    "epochs = 100\n",
    "lr = 0.001\n",
    "\n",
    "model = AttentionModel()\n",
    "\n",
    "criterion = nn.MSELoss()\n",
    "optimizer = torch.optim.Adam(model.parameters(), lr=lr)\n",
    "\n",
    "for epoch in range(epochs):\n",
    "    model.train()\n",
    "    loss = 0\n",
    "\n",
    "    for x_cat, x_cont in dataloader:\n",
    "        optimizer.zero_grad()\n",
    "        outputs = model(x_cat)\n",
    "        train_loss = criterion(outputs, model.last_target)\n",
    "        train_loss.backward()\n",
    "        optimizer.step()\n",
    "        loss += train_loss.item()\n",
    "\n",
    "    loss = loss / len(dataloader)\n",
    "    print(\"epoch: {}/{}, loss = {:.6f}\".format(epoch + 1, epochs, loss))"
   ],
   "metadata": {
    "collapsed": false,
    "ExecuteTime": {
     "start_time": "2023-06-26T15:53:32.741991Z",
     "end_time": "2023-06-26T15:53:35.528166Z"
    }
   }
  },
  {
   "cell_type": "code",
   "execution_count": 115,
   "outputs": [
    {
     "data": {
      "text/plain": "array([[-1.9597683 ,  3.35041714, -1.38300228, ...,  0.33802817,\n         0.46590909,  1.        ],\n       [ 0.07113981,  1.15076637, -2.48257351, ...,  0.48591549,\n         0.59090909,  0.66666667],\n       [-1.62013996,  2.52418423,  3.25058198, ...,  0.8943662 ,\n         0.69318182,  0.        ],\n       ...,\n       [-1.1900239 ,  2.65318871,  1.204849  , ...,  0.28169014,\n         0.29545455,  0.24461343],\n       [ 1.48048615, -0.55837202, -0.92211556, ...,  0.53460012,\n         0.40245957,  0.24461343],\n       [ 0.62465882,  0.70401144, -1.90707278, ...,  0.23239437,\n         0.29545455,  0.24461343]])"
     },
     "execution_count": 115,
     "metadata": {},
     "output_type": "execute_result"
    }
   ],
   "source": [
    "cat_features = model.encode(torch.tensor(df_no_min_max[categorial_columns].values, dtype=torch.float)).detach().numpy()\n",
    "features = np.concatenate((cat_features, df_min_max[cont_columns].values), 1)\n",
    "features"
   ],
   "metadata": {
    "collapsed": false,
    "ExecuteTime": {
     "start_time": "2023-06-26T15:53:35.528166Z",
     "end_time": "2023-06-26T15:53:35.536723Z"
    }
   }
  },
  {
   "cell_type": "code",
   "execution_count": 116,
   "outputs": [
    {
     "data": {
      "text/plain": "0.39146800501882056"
     },
     "execution_count": 116,
     "metadata": {},
     "output_type": "execute_result"
    }
   ],
   "source": [
    "kmeans = KMeans(n_clusters=5, n_init=\"auto\", random_state=0).fit(features)\n",
    "\n",
    "acc = cluster_accuracy(kmeans.labels_, og_df[\"num\"].to_numpy())\n",
    "acc"
   ],
   "metadata": {
    "collapsed": false,
    "ExecuteTime": {
     "start_time": "2023-06-26T15:53:35.538722Z",
     "end_time": "2023-06-26T15:53:35.548453Z"
    }
   }
  },
  {
   "cell_type": "code",
   "execution_count": 117,
   "outputs": [
    {
     "data": {
      "text/plain": "0.08879818589706295"
     },
     "execution_count": 117,
     "metadata": {},
     "output_type": "execute_result"
    }
   ],
   "source": [
    "nmi = normalized_mutual_info_score(og_df[\"num\"].to_numpy(), kmeans.labels_)\n",
    "nmi"
   ],
   "metadata": {
    "collapsed": false,
    "ExecuteTime": {
     "start_time": "2023-06-26T15:53:35.548453Z",
     "end_time": "2023-06-26T15:53:35.572015Z"
    }
   }
  }
 ],
 "metadata": {
  "kernelspec": {
   "display_name": "Python 3",
   "language": "python",
   "name": "python3"
  },
  "language_info": {
   "codemirror_mode": {
    "name": "ipython",
    "version": 2
   },
   "file_extension": ".py",
   "mimetype": "text/x-python",
   "name": "python",
   "nbconvert_exporter": "python",
   "pygments_lexer": "ipython2",
   "version": "2.7.6"
  }
 },
 "nbformat": 4,
 "nbformat_minor": 0
}
