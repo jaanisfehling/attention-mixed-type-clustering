{
 "cells": [
  {
   "cell_type": "code",
   "execution_count": 1,
   "metadata": {
    "collapsed": true,
    "ExecuteTime": {
     "end_time": "2023-07-13T21:13:06.736240175Z",
     "start_time": "2023-07-13T21:13:05.467224318Z"
    }
   },
   "outputs": [],
   "source": [
    "from copy import deepcopy\n",
    "\n",
    "import numpy as np\n",
    "import pandas as pd\n",
    "from sklearn.cluster import KMeans\n",
    "from sklearn.metrics import normalized_mutual_info_score\n",
    "from sklearn.preprocessing import LabelEncoder, StandardScaler\n",
    "from torch.utils.data import Dataset, DataLoader\n",
    "import torch\n",
    "import torch.nn as nn\n",
    "\n",
    "from duped_modules.dcn_duped import DCNDuped\n",
    "from duped_modules.dec_duped import DECDuped, IDECDuped\n",
    "from duped_modules.embeddings_autoencoder import EmbeddingsAutoencoder"
   ]
  },
  {
   "cell_type": "code",
   "execution_count": 2,
   "metadata": {
    "collapsed": false,
    "ExecuteTime": {
     "end_time": "2023-07-13T21:13:06.840906743Z",
     "start_time": "2023-07-13T21:13:06.736591110Z"
    }
   },
   "outputs": [
    {
     "data": {
      "text/plain": "     A1        A2        A3  A4  A5  A6  A7        A8  A9  A10       A11  A12  \\\n0     1 -0.056962 -0.961440   1   0  12   7 -0.295171   1    1 -0.302596    0   \n1     0  2.296536 -0.073565   1   0  10   3  0.236217   1    1  0.704516    0   \n2     0 -0.592078 -0.861903   1   0  10   3 -0.220955   1    0 -0.504019    0   \n3     1 -0.310572 -0.654865   1   0  12   7  0.446990   1    1  0.503093    1   \n4     1 -0.958122  0.158358   1   0  12   7 -0.158613   1    0 -0.504019    0   \n..   ..       ...       ...  ..  ..  ..  ..       ...  ..  ...       ...  ...   \n685   1 -0.881193  1.046233   2   2   4   3 -0.295171   0    0 -0.504019    0   \n686   0 -0.746780 -0.812134   1   0   1   7 -0.072523   0    1 -0.101174    1   \n687   0 -0.528676  1.726075   2   2   5   2 -0.072523   0    1 -0.302596    1   \n688   1 -1.148329 -0.920630   1   0   0   7 -0.654378   0    0 -0.504019    0   \n689   1  0.295556 -0.289561   1   0   1   3  1.794756   0    0 -0.504019    1   \n\n     A13       A14       A15  \n0      0  0.128682 -0.193125  \n1      0 -0.816802 -0.086443  \n2      0  0.592504 -0.036150  \n3      0 -0.477855 -0.192553  \n4      2 -0.358926 -0.193125  \n..   ...       ...       ...  \n685    0  0.473575 -0.193125  \n686    0  0.116789 -0.118066  \n687    0  0.116789 -0.192934  \n688    0  0.592504 -0.050247  \n689    0 -1.072499 -0.193125  \n\n[653 rows x 15 columns]",
      "text/html": "<div>\n<style scoped>\n    .dataframe tbody tr th:only-of-type {\n        vertical-align: middle;\n    }\n\n    .dataframe tbody tr th {\n        vertical-align: top;\n    }\n\n    .dataframe thead th {\n        text-align: right;\n    }\n</style>\n<table border=\"1\" class=\"dataframe\">\n  <thead>\n    <tr style=\"text-align: right;\">\n      <th></th>\n      <th>A1</th>\n      <th>A2</th>\n      <th>A3</th>\n      <th>A4</th>\n      <th>A5</th>\n      <th>A6</th>\n      <th>A7</th>\n      <th>A8</th>\n      <th>A9</th>\n      <th>A10</th>\n      <th>A11</th>\n      <th>A12</th>\n      <th>A13</th>\n      <th>A14</th>\n      <th>A15</th>\n    </tr>\n  </thead>\n  <tbody>\n    <tr>\n      <th>0</th>\n      <td>1</td>\n      <td>-0.056962</td>\n      <td>-0.961440</td>\n      <td>1</td>\n      <td>0</td>\n      <td>12</td>\n      <td>7</td>\n      <td>-0.295171</td>\n      <td>1</td>\n      <td>1</td>\n      <td>-0.302596</td>\n      <td>0</td>\n      <td>0</td>\n      <td>0.128682</td>\n      <td>-0.193125</td>\n    </tr>\n    <tr>\n      <th>1</th>\n      <td>0</td>\n      <td>2.296536</td>\n      <td>-0.073565</td>\n      <td>1</td>\n      <td>0</td>\n      <td>10</td>\n      <td>3</td>\n      <td>0.236217</td>\n      <td>1</td>\n      <td>1</td>\n      <td>0.704516</td>\n      <td>0</td>\n      <td>0</td>\n      <td>-0.816802</td>\n      <td>-0.086443</td>\n    </tr>\n    <tr>\n      <th>2</th>\n      <td>0</td>\n      <td>-0.592078</td>\n      <td>-0.861903</td>\n      <td>1</td>\n      <td>0</td>\n      <td>10</td>\n      <td>3</td>\n      <td>-0.220955</td>\n      <td>1</td>\n      <td>0</td>\n      <td>-0.504019</td>\n      <td>0</td>\n      <td>0</td>\n      <td>0.592504</td>\n      <td>-0.036150</td>\n    </tr>\n    <tr>\n      <th>3</th>\n      <td>1</td>\n      <td>-0.310572</td>\n      <td>-0.654865</td>\n      <td>1</td>\n      <td>0</td>\n      <td>12</td>\n      <td>7</td>\n      <td>0.446990</td>\n      <td>1</td>\n      <td>1</td>\n      <td>0.503093</td>\n      <td>1</td>\n      <td>0</td>\n      <td>-0.477855</td>\n      <td>-0.192553</td>\n    </tr>\n    <tr>\n      <th>4</th>\n      <td>1</td>\n      <td>-0.958122</td>\n      <td>0.158358</td>\n      <td>1</td>\n      <td>0</td>\n      <td>12</td>\n      <td>7</td>\n      <td>-0.158613</td>\n      <td>1</td>\n      <td>0</td>\n      <td>-0.504019</td>\n      <td>0</td>\n      <td>2</td>\n      <td>-0.358926</td>\n      <td>-0.193125</td>\n    </tr>\n    <tr>\n      <th>...</th>\n      <td>...</td>\n      <td>...</td>\n      <td>...</td>\n      <td>...</td>\n      <td>...</td>\n      <td>...</td>\n      <td>...</td>\n      <td>...</td>\n      <td>...</td>\n      <td>...</td>\n      <td>...</td>\n      <td>...</td>\n      <td>...</td>\n      <td>...</td>\n      <td>...</td>\n    </tr>\n    <tr>\n      <th>685</th>\n      <td>1</td>\n      <td>-0.881193</td>\n      <td>1.046233</td>\n      <td>2</td>\n      <td>2</td>\n      <td>4</td>\n      <td>3</td>\n      <td>-0.295171</td>\n      <td>0</td>\n      <td>0</td>\n      <td>-0.504019</td>\n      <td>0</td>\n      <td>0</td>\n      <td>0.473575</td>\n      <td>-0.193125</td>\n    </tr>\n    <tr>\n      <th>686</th>\n      <td>0</td>\n      <td>-0.746780</td>\n      <td>-0.812134</td>\n      <td>1</td>\n      <td>0</td>\n      <td>1</td>\n      <td>7</td>\n      <td>-0.072523</td>\n      <td>0</td>\n      <td>1</td>\n      <td>-0.101174</td>\n      <td>1</td>\n      <td>0</td>\n      <td>0.116789</td>\n      <td>-0.118066</td>\n    </tr>\n    <tr>\n      <th>687</th>\n      <td>0</td>\n      <td>-0.528676</td>\n      <td>1.726075</td>\n      <td>2</td>\n      <td>2</td>\n      <td>5</td>\n      <td>2</td>\n      <td>-0.072523</td>\n      <td>0</td>\n      <td>1</td>\n      <td>-0.302596</td>\n      <td>1</td>\n      <td>0</td>\n      <td>0.116789</td>\n      <td>-0.192934</td>\n    </tr>\n    <tr>\n      <th>688</th>\n      <td>1</td>\n      <td>-1.148329</td>\n      <td>-0.920630</td>\n      <td>1</td>\n      <td>0</td>\n      <td>0</td>\n      <td>7</td>\n      <td>-0.654378</td>\n      <td>0</td>\n      <td>0</td>\n      <td>-0.504019</td>\n      <td>0</td>\n      <td>0</td>\n      <td>0.592504</td>\n      <td>-0.050247</td>\n    </tr>\n    <tr>\n      <th>689</th>\n      <td>1</td>\n      <td>0.295556</td>\n      <td>-0.289561</td>\n      <td>1</td>\n      <td>0</td>\n      <td>1</td>\n      <td>3</td>\n      <td>1.794756</td>\n      <td>0</td>\n      <td>0</td>\n      <td>-0.504019</td>\n      <td>1</td>\n      <td>0</td>\n      <td>-1.072499</td>\n      <td>-0.193125</td>\n    </tr>\n  </tbody>\n</table>\n<p>653 rows × 15 columns</p>\n</div>"
     },
     "execution_count": 2,
     "metadata": {},
     "output_type": "execute_result"
    },
    {
     "data": {
      "text/plain": "<Figure size 640x480 with 1 Axes>",
      "image/png": "[encoded data removed]"
     },
     "metadata": {},
     "output_type": "display_data"
    }
   ],
   "source": [
    "credit_df = pd.read_csv(\"datasets/credit_approval.csv\")\n",
    "credit_df.replace(\"?\", pd.NA, inplace=True)\n",
    "credit_df.dropna(inplace=True)\n",
    "credit_df.drop_duplicates(inplace=True)\n",
    "\n",
    "credit_y = credit_df[\"A16\"]\n",
    "credit_y.hist()\n",
    "credit_y = LabelEncoder().fit_transform(credit_y)\n",
    "\n",
    "credit_cat_cols = [\"A1\", \"A4\", \"A5\", \"A6\", \"A7\", \"A9\", \"A10\", \"A12\", \"A13\"]\n",
    "credit_cont_cols = [\"A2\", \"A3\", \"A8\", \"A11\", \"A14\", \"A15\"]\n",
    "\n",
    "credit_df.drop(columns=\"A16\", inplace=True)\n",
    "credit_df[credit_cat_cols] = credit_df[credit_cat_cols].apply(LabelEncoder().fit_transform)\n",
    "credit_df[credit_cont_cols] = StandardScaler().fit_transform(credit_df[credit_cont_cols])\n",
    "credit_df"
   ]
  },
  {
   "cell_type": "code",
   "execution_count": 3,
   "metadata": {
    "collapsed": false,
    "ExecuteTime": {
     "end_time": "2023-07-13T21:13:06.973745026Z",
     "start_time": "2023-07-13T21:13:06.839673285Z"
    }
   },
   "outputs": [
    {
     "data": {
      "text/plain": "          age  sex  cp  trestbps      chol  fbs  restecg    thalch  exang  \\\n0    0.940446    1   3  0.749760 -0.262867    1        0  0.029124      0   \n1    1.384143    1   0  1.596354  0.747722    0        0 -1.790447      1   \n2    1.384143    1   0 -0.661231 -0.339138    0        0 -0.880662      1   \n3   -1.943588    1   2 -0.096835  0.061285    0        1  1.632079      0   \n4   -1.499891    0   1 -0.096835 -0.815830    0        0  0.982232      0   \n..        ...  ...  ..       ...       ...  ...      ...       ...    ...   \n299  1.495068    1   0  0.693320 -1.025575    1        1 -0.360784      0   \n300  0.274900    1   0 -0.096835 -2.207774    0        1 -1.487186      1   \n301  0.274900    0   1 -0.096835 -0.205664    0        0  1.068878      0   \n508 -0.834344    1   0  1.031958 -0.396341    0        1 -2.223678      1   \n748  0.163975    1   0 -0.661231 -2.798873    0        1 -1.270570      1   \n\n      oldpeak  slope        ca  thal  \n0    1.069475      0 -0.718306     0  \n1    0.380309      1  2.487269     1  \n2    1.327912      1  1.418744     2  \n3    2.103224      0 -0.718306     1  \n4    0.294163      2 -0.718306     1  \n..        ...    ...       ...   ...  \n299  2.017078      1  1.418744     2  \n300  0.121872      1  0.350219     2  \n301 -0.911877      1  0.350219     1  \n508  0.380309      1 -0.718306     2  \n748  0.380309      1 -0.718306     2  \n\n[299 rows x 13 columns]",
      "text/html": "<div>\n<style scoped>\n    .dataframe tbody tr th:only-of-type {\n        vertical-align: middle;\n    }\n\n    .dataframe tbody tr th {\n        vertical-align: top;\n    }\n\n    .dataframe thead th {\n        text-align: right;\n    }\n</style>\n<table border=\"1\" class=\"dataframe\">\n  <thead>\n    <tr style=\"text-align: right;\">\n      <th></th>\n      <th>age</th>\n      <th>sex</th>\n      <th>cp</th>\n      <th>trestbps</th>\n      <th>chol</th>\n      <th>fbs</th>\n      <th>restecg</th>\n      <th>thalch</th>\n      <th>exang</th>\n      <th>oldpeak</th>\n      <th>slope</th>\n      <th>ca</th>\n      <th>thal</th>\n    </tr>\n  </thead>\n  <tbody>\n    <tr>\n      <th>0</th>\n      <td>0.940446</td>\n      <td>1</td>\n      <td>3</td>\n      <td>0.749760</td>\n      <td>-0.262867</td>\n      <td>1</td>\n      <td>0</td>\n      <td>0.029124</td>\n      <td>0</td>\n      <td>1.069475</td>\n      <td>0</td>\n      <td>-0.718306</td>\n      <td>0</td>\n    </tr>\n    <tr>\n      <th>1</th>\n      <td>1.384143</td>\n      <td>1</td>\n      <td>0</td>\n      <td>1.596354</td>\n      <td>0.747722</td>\n      <td>0</td>\n      <td>0</td>\n      <td>-1.790447</td>\n      <td>1</td>\n      <td>0.380309</td>\n      <td>1</td>\n      <td>2.487269</td>\n      <td>1</td>\n    </tr>\n    <tr>\n      <th>2</th>\n      <td>1.384143</td>\n      <td>1</td>\n      <td>0</td>\n      <td>-0.661231</td>\n      <td>-0.339138</td>\n      <td>0</td>\n      <td>0</td>\n      <td>-0.880662</td>\n      <td>1</td>\n      <td>1.327912</td>\n      <td>1</td>\n      <td>1.418744</td>\n      <td>2</td>\n    </tr>\n    <tr>\n      <th>3</th>\n      <td>-1.943588</td>\n      <td>1</td>\n      <td>2</td>\n      <td>-0.096835</td>\n      <td>0.061285</td>\n      <td>0</td>\n      <td>1</td>\n      <td>1.632079</td>\n      <td>0</td>\n      <td>2.103224</td>\n      <td>0</td>\n      <td>-0.718306</td>\n      <td>1</td>\n    </tr>\n    <tr>\n      <th>4</th>\n      <td>-1.499891</td>\n      <td>0</td>\n      <td>1</td>\n      <td>-0.096835</td>\n      <td>-0.815830</td>\n      <td>0</td>\n      <td>0</td>\n      <td>0.982232</td>\n      <td>0</td>\n      <td>0.294163</td>\n      <td>2</td>\n      <td>-0.718306</td>\n      <td>1</td>\n    </tr>\n    <tr>\n      <th>...</th>\n      <td>...</td>\n      <td>...</td>\n      <td>...</td>\n      <td>...</td>\n      <td>...</td>\n      <td>...</td>\n      <td>...</td>\n      <td>...</td>\n      <td>...</td>\n      <td>...</td>\n      <td>...</td>\n      <td>...</td>\n      <td>...</td>\n    </tr>\n    <tr>\n      <th>299</th>\n      <td>1.495068</td>\n      <td>1</td>\n      <td>0</td>\n      <td>0.693320</td>\n      <td>-1.025575</td>\n      <td>1</td>\n      <td>1</td>\n      <td>-0.360784</td>\n      <td>0</td>\n      <td>2.017078</td>\n      <td>1</td>\n      <td>1.418744</td>\n      <td>2</td>\n    </tr>\n    <tr>\n      <th>300</th>\n      <td>0.274900</td>\n      <td>1</td>\n      <td>0</td>\n      <td>-0.096835</td>\n      <td>-2.207774</td>\n      <td>0</td>\n      <td>1</td>\n      <td>-1.487186</td>\n      <td>1</td>\n      <td>0.121872</td>\n      <td>1</td>\n      <td>0.350219</td>\n      <td>2</td>\n    </tr>\n    <tr>\n      <th>301</th>\n      <td>0.274900</td>\n      <td>0</td>\n      <td>1</td>\n      <td>-0.096835</td>\n      <td>-0.205664</td>\n      <td>0</td>\n      <td>0</td>\n      <td>1.068878</td>\n      <td>0</td>\n      <td>-0.911877</td>\n      <td>1</td>\n      <td>0.350219</td>\n      <td>1</td>\n    </tr>\n    <tr>\n      <th>508</th>\n      <td>-0.834344</td>\n      <td>1</td>\n      <td>0</td>\n      <td>1.031958</td>\n      <td>-0.396341</td>\n      <td>0</td>\n      <td>1</td>\n      <td>-2.223678</td>\n      <td>1</td>\n      <td>0.380309</td>\n      <td>1</td>\n      <td>-0.718306</td>\n      <td>2</td>\n    </tr>\n    <tr>\n      <th>748</th>\n      <td>0.163975</td>\n      <td>1</td>\n      <td>0</td>\n      <td>-0.661231</td>\n      <td>-2.798873</td>\n      <td>0</td>\n      <td>1</td>\n      <td>-1.270570</td>\n      <td>1</td>\n      <td>0.380309</td>\n      <td>1</td>\n      <td>-0.718306</td>\n      <td>2</td>\n    </tr>\n  </tbody>\n</table>\n<p>299 rows × 13 columns</p>\n</div>"
     },
     "execution_count": 3,
     "metadata": {},
     "output_type": "execute_result"
    },
    {
     "data": {
      "text/plain": "<Figure size 640x480 with 1 Axes>",
      "image/png": "[encoded data removed]"
     },
     "metadata": {},
     "output_type": "display_data"
    }
   ],
   "source": [
    "heart_df = pd.read_csv(\"datasets/heart_disease.csv\")\n",
    "heart_df.dropna(inplace=True)\n",
    "heart_df.drop_duplicates(inplace=True)\n",
    "\n",
    "heart_df[\"num\"].hist()\n",
    "heart_y = heart_df[\"num\"].to_numpy()\n",
    "\n",
    "heart_cat_cols = [\"sex\", \"cp\", \"fbs\", \"restecg\", \"exang\", \"slope\", \"thal\"]\n",
    "heart_cont_cols = [\"age\", \"trestbps\", \"chol\", \"thalch\", \"oldpeak\", \"ca\"]\n",
    "\n",
    "heart_df.drop(columns=[\"id\", \"dataset\", \"num\"], inplace=True)\n",
    "heart_df.dropna(inplace=True)\n",
    "\n",
    "heart_df[heart_cat_cols] = heart_df[heart_cat_cols].apply(LabelEncoder().fit_transform)\n",
    "heart_df[heart_cont_cols] = StandardScaler().fit_transform(heart_df[heart_cont_cols])\n",
    "heart_df"
   ]
  },
  {
   "cell_type": "code",
   "execution_count": 4,
   "metadata": {
    "collapsed": false,
    "ExecuteTime": {
     "end_time": "2023-07-13T21:13:07.036465387Z",
     "start_time": "2023-07-13T21:13:06.960610861Z"
    }
   },
   "outputs": [
    {
     "name": "stdout",
     "output_type": "stream",
     "text": [
      "Cat dim: 22, Input dim: 28\n",
      "Embeddings: [(2, 1), (3, 2), (3, 2), (14, 7), (9, 5), (2, 1), (2, 1), (2, 1), (3, 2)]\n"
     ]
    }
   ],
   "source": [
    "class CreditDataset(Dataset):\n",
    "    def __init__(self, df):\n",
    "        self.cat = torch.tensor(df[credit_cat_cols].values, dtype=torch.int)\n",
    "        self.cont = torch.tensor(df[credit_cont_cols].values, dtype=torch.float)\n",
    "    def __getitem__(self, idx):\n",
    "        return self.cat[idx], self.cont[idx]\n",
    "    def __len__(self):\n",
    "        return self.cat.shape[0]\n",
    "\n",
    "credit_dataloader = DataLoader(CreditDataset(credit_df), batch_size=32, shuffle=True)\n",
    "\n",
    "credit_emb_sizes = [(credit_df[col].nunique(), min(50, credit_df[col].nunique() + 1) // 2) for col in credit_df[credit_cat_cols]]\n",
    "credit_cat_dim = sum(d for _, d in credit_emb_sizes)\n",
    "credit_cont_dim = len(credit_cont_cols)\n",
    "credit_input_dim = credit_cat_dim + credit_cont_dim\n",
    "\n",
    "print(f\"Cat dim: {credit_cat_dim}, Input dim: {credit_input_dim}\")\n",
    "print(f\"Embeddings: {credit_emb_sizes}\")"
   ]
  },
  {
   "cell_type": "code",
   "execution_count": 5,
   "metadata": {
    "collapsed": false,
    "ExecuteTime": {
     "end_time": "2023-07-13T21:13:07.036655906Z",
     "start_time": "2023-07-13T21:13:07.001728413Z"
    }
   },
   "outputs": [
    {
     "name": "stdout",
     "output_type": "stream",
     "text": [
      "Cat dim: 11, Input dim: 17\n",
      "Embeddings: [(2, 1), (4, 2), (2, 1), (3, 2), (2, 1), (3, 2), (3, 2)]\n"
     ]
    }
   ],
   "source": [
    "class HeartDataset(Dataset):\n",
    "    def __init__(self, df):\n",
    "        self.cat = torch.tensor(df[heart_cat_cols].values, dtype=torch.int)\n",
    "        self.cont = torch.tensor(df[heart_cont_cols].values, dtype=torch.float)\n",
    "    def __getitem__(self, idx):\n",
    "        return self.cat[idx], self.cont[idx]\n",
    "    def __len__(self):\n",
    "        return self.cat.shape[0]\n",
    "\n",
    "heart_dataloader = DataLoader(HeartDataset(heart_df), batch_size=16, shuffle=True)\n",
    "\n",
    "heart_emb_sizes = [(heart_df[col].nunique(), min(50, heart_df[col].nunique() + 1) // 2) for col in heart_df[heart_cat_cols]]\n",
    "heart_cat_dim = sum(d for n, d in heart_emb_sizes)\n",
    "heart_cont_dim = len(heart_cont_cols)\n",
    "heart_input_dim = heart_cat_dim + heart_cont_dim\n",
    "\n",
    "print(f\"Cat dim: {heart_cat_dim}, Input dim: {heart_input_dim}\")\n",
    "print(f\"Embeddings: {heart_emb_sizes}\")"
   ]
  },
  {
   "cell_type": "code",
   "execution_count": 6,
   "metadata": {
    "collapsed": false,
    "ExecuteTime": {
     "end_time": "2023-07-13T21:13:13.562409702Z",
     "start_time": "2023-07-13T21:13:07.001877043Z"
    }
   },
   "outputs": [
    {
     "name": "stdout",
     "output_type": "stream",
     "text": [
      "Epoch 25/100 - Batch Reconstruction loss: 0.576437\n",
      "Epoch 50/100 - Batch Reconstruction loss: 0.602047\n",
      "Epoch 75/100 - Batch Reconstruction loss: 0.540391\n",
      "Epoch 100/100 - Batch Reconstruction loss: 0.533555\n",
      "Epoch 25/100 - Batch Reconstruction loss: 0.692244\n",
      "Epoch 50/100 - Batch Reconstruction loss: 0.669816\n",
      "Epoch 75/100 - Batch Reconstruction loss: 0.593816\n",
      "Epoch 100/100 - Batch Reconstruction loss: 0.523216\n",
      "0.08584599468164314\n",
      "0.07883828809409929\n"
     ]
    }
   ],
   "source": [
    "# Cat dim: 22, Input dim: 28\n",
    "# credit_cat_encoder = nn.Sequential(\n",
    "#     nn.Linear(credit_cat_dim, 18),\n",
    "#     nn.BatchNorm1d(18),\n",
    "#     nn.ReLU(),\n",
    "#     nn.Linear(18, 10),\n",
    "#     nn.BatchNorm1d(10),\n",
    "#     nn.ReLU(),\n",
    "#     nn.Linear(10, 6),\n",
    "#     nn.BatchNorm1d(6),\n",
    "#     nn.ReLU(),\n",
    "# )\n",
    "# credit_cont_encoder = nn.Sequential(\n",
    "#     nn.Linear(credit_cont_dim, 5),\n",
    "#     nn.BatchNorm1d(5),\n",
    "#     nn.ReLU(),\n",
    "#     nn.Linear(5, 4),\n",
    "#     nn.BatchNorm1d(4),\n",
    "#     nn.ReLU(),\n",
    "# )\n",
    "credit_encoder = torch.nn.Sequential(\n",
    "    torch.nn.Linear(credit_input_dim, 20),\n",
    "    torch.nn.BatchNorm1d(20),\n",
    "    torch.nn.ReLU(),\n",
    "    torch.nn.Linear(20, 14),\n",
    "    torch.nn.BatchNorm1d(14),\n",
    "    torch.nn.Sigmoid(),\n",
    "    torch.nn.Linear(14, 8),\n",
    "    torch.nn.BatchNorm1d(8),\n",
    "    torch.nn.Sigmoid(),\n",
    ")\n",
    "credit_decoder = nn.Sequential(\n",
    "    nn.Linear(8, 14),\n",
    "    nn.ReLU(),\n",
    "    nn.Linear(14, 20),\n",
    "    nn.ReLU(),\n",
    "    nn.Linear(20, credit_input_dim),\n",
    "    nn.ReLU()\n",
    ")\n",
    "credit_ae = EmbeddingsAutoencoder(deepcopy(credit_encoder), deepcopy(credit_decoder), credit_input_dim, credit_cat_dim, credit_emb_sizes, attention=False)\n",
    "credit_ae.fit(n_epochs=100, lr=0.001, dataloader=credit_dataloader)\n",
    "\n",
    "credit_attention_ae = EmbeddingsAutoencoder(deepcopy(credit_encoder), deepcopy(credit_decoder), credit_input_dim, credit_cat_dim, credit_emb_sizes, attention=True)\n",
    "credit_attention_ae.fit(n_epochs=100, lr=0.001, dataloader=credit_dataloader)\n",
    "\n",
    "cat = torch.tensor(credit_df[credit_cat_cols].values, dtype=torch.int)\n",
    "cont = torch.tensor(credit_df[credit_cont_cols].values, dtype=torch.float)\n",
    "cat_features = credit_ae.encode(cat, cont).detach().numpy()\n",
    "features = np.concatenate((cat_features, credit_df[credit_cont_cols].values), 1)\n",
    "credit_ae_kmeans = KMeans(n_clusters=2, n_init=\"auto\", random_state=0).fit(features)\n",
    "credit_ae_nmi = normalized_mutual_info_score(credit_y, credit_ae_kmeans.labels_)\n",
    "print(credit_ae_nmi)\n",
    "\n",
    "cat = torch.tensor(credit_df[credit_cat_cols].values, dtype=torch.int)\n",
    "cont = torch.tensor(credit_df[credit_cont_cols].values, dtype=torch.float)\n",
    "cat_features = credit_attention_ae.encode(cat, cont).detach().numpy()\n",
    "features = np.concatenate((cat_features, credit_df[credit_cont_cols].values), 1)\n",
    "credit_attention_ae_kmeans = KMeans(n_clusters=2, n_init=\"auto\", random_state=0).fit(features)\n",
    "credit_attention_ae_nmi = normalized_mutual_info_score(credit_y, credit_attention_ae_kmeans.labels_)\n",
    "print(credit_attention_ae_nmi)"
   ]
  },
  {
   "cell_type": "code",
   "execution_count": 7,
   "metadata": {
    "collapsed": false,
    "ExecuteTime": {
     "end_time": "2023-07-13T21:13:18.826318459Z",
     "start_time": "2023-07-13T21:13:13.562166379Z"
    }
   },
   "outputs": [
    {
     "name": "stdout",
     "output_type": "stream",
     "text": [
      "Epoch 25/100 - Batch Reconstruction loss: 0.987267\n",
      "Epoch 50/100 - Batch Reconstruction loss: 0.747781\n",
      "Epoch 75/100 - Batch Reconstruction loss: 0.816373\n",
      "Epoch 100/100 - Batch Reconstruction loss: 0.797824\n",
      "Epoch 25/100 - Batch Reconstruction loss: 0.695475\n",
      "Epoch 50/100 - Batch Reconstruction loss: 0.761902\n",
      "Epoch 75/100 - Batch Reconstruction loss: 0.757677\n",
      "Epoch 100/100 - Batch Reconstruction loss: 0.690426\n",
      "0.15541706672119207\n",
      "0.138790976672472\n"
     ]
    }
   ],
   "source": [
    "# Cat dim: 11, Input dim: 17\n",
    "# heart_cat_encoder = nn.Sequential(\n",
    "#     nn.Linear(heart_cat_dim, 7),\n",
    "#     nn.BatchNorm1d(7),\n",
    "#     nn.ReLU(),\n",
    "#     nn.Linear(7, 4),\n",
    "#     nn.BatchNorm1d(4),\n",
    "#     nn.ReLU(),\n",
    "# )\n",
    "# heart_cont_encoder = nn.Sequential(\n",
    "#     nn.Linear(heart_cont_dim, 5),\n",
    "#     nn.BatchNorm1d(5),\n",
    "#     nn.ReLU(),\n",
    "#     nn.Linear(5, 4),\n",
    "#     nn.BatchNorm1d(4),\n",
    "#     nn.ReLU(),\n",
    "# )\n",
    "heart_encoder = torch.nn.Sequential(\n",
    "    torch.nn.Linear(heart_input_dim, 13),\n",
    "    torch.nn.BatchNorm1d(13),\n",
    "    torch.nn.ReLU(),\n",
    "    torch.nn.Linear(13, 9),\n",
    "    torch.nn.BatchNorm1d(9),\n",
    "    torch.nn.Sigmoid(),\n",
    "    torch.nn.Linear(9, 6),\n",
    "    torch.nn.BatchNorm1d(6),\n",
    "    torch.nn.Sigmoid(),\n",
    ")\n",
    "heart_decoder = nn.Sequential(\n",
    "    nn.Linear(6, 9),\n",
    "    nn.ReLU(),\n",
    "    nn.Linear(9, 13),\n",
    "    nn.ReLU(),\n",
    "    nn.Linear(13, heart_input_dim),\n",
    "    nn.ReLU()\n",
    ")\n",
    "heart_ae = EmbeddingsAutoencoder(deepcopy(heart_encoder), deepcopy(heart_decoder), heart_input_dim, heart_cat_dim, heart_emb_sizes, attention=False)\n",
    "heart_ae.fit(n_epochs=100, lr=0.001, dataloader=heart_dataloader)\n",
    "\n",
    "heart_attention_ae = EmbeddingsAutoencoder(deepcopy(heart_encoder), deepcopy(heart_decoder), heart_input_dim, heart_cat_dim, heart_emb_sizes, attention=True)\n",
    "heart_attention_ae.fit(n_epochs=100, lr=0.001, dataloader=heart_dataloader)\n",
    "\n",
    "cat = torch.tensor(heart_df[heart_cat_cols].values, dtype=torch.int)\n",
    "cont = torch.tensor(heart_df[heart_cont_cols].values, dtype=torch.float)\n",
    "cat_features = heart_ae.encode(cat, cont).detach().numpy()\n",
    "features = np.concatenate((cat_features, heart_df[heart_cont_cols].values), 1)\n",
    "heart_ae_kmeans = KMeans(n_clusters=5, n_init=\"auto\", random_state=0).fit(features)\n",
    "heart_ae_nmi = normalized_mutual_info_score(heart_y, heart_ae_kmeans.labels_)\n",
    "print(heart_ae_nmi)\n",
    "\n",
    "cat = torch.tensor(heart_df[heart_cat_cols].values, dtype=torch.int)\n",
    "cont = torch.tensor(heart_df[heart_cont_cols].values, dtype=torch.float)\n",
    "cat_features = heart_attention_ae.encode(cat, cont).detach().numpy()\n",
    "features = np.concatenate((cat_features, heart_df[heart_cont_cols].values), 1)\n",
    "heart_attention_ae_kmeans = KMeans(n_clusters=5, n_init=\"auto\", random_state=0).fit(features)\n",
    "heart_attention_ae_nmi = normalized_mutual_info_score(heart_y, heart_attention_ae_kmeans.labels_)\n",
    "print(heart_attention_ae_nmi)"
   ]
  },
  {
   "cell_type": "code",
   "execution_count": 8,
   "metadata": {
    "collapsed": false,
    "ExecuteTime": {
     "end_time": "2023-07-13T21:13:33.589753Z",
     "start_time": "2023-07-13T21:13:18.828049135Z"
    }
   },
   "outputs": [
    {
     "name": "stderr",
     "output_type": "stream",
     "text": [
      "/home/jaanis/repos/attention-mixed-type-clustering/venv/lib/python3.10/site-packages/sklearn/cluster/_kmeans.py:1412: FutureWarning: The default value of `n_init` will change from 10 to 'auto' in 1.4. Set the value of `n_init` explicitly to suppress the warning\n",
      "  super()._check_params_vs_input(X, default_n_init=10)\n",
      "/home/jaanis/repos/attention-mixed-type-clustering/venv/lib/python3.10/site-packages/sklearn/cluster/_kmeans.py:1412: FutureWarning: The default value of `n_init` will change from 10 to 'auto' in 1.4. Set the value of `n_init` explicitly to suppress the warning\n",
      "  super()._check_params_vs_input(X, default_n_init=10)\n",
      "/home/jaanis/repos/attention-mixed-type-clustering/venv/lib/python3.10/site-packages/sklearn/cluster/_kmeans.py:1412: FutureWarning: The default value of `n_init` will change from 10 to 'auto' in 1.4. Set the value of `n_init` explicitly to suppress the warning\n",
      "  super()._check_params_vs_input(X, default_n_init=10)\n"
     ]
    },
    {
     "name": "stdout",
     "output_type": "stream",
     "text": [
      "0.0010289046130760638\n",
      "0.0035725157072828842\n"
     ]
    },
    {
     "name": "stderr",
     "output_type": "stream",
     "text": [
      "/home/jaanis/repos/attention-mixed-type-clustering/venv/lib/python3.10/site-packages/sklearn/cluster/_kmeans.py:1412: FutureWarning: The default value of `n_init` will change from 10 to 'auto' in 1.4. Set the value of `n_init` explicitly to suppress the warning\n",
      "  super()._check_params_vs_input(X, default_n_init=10)\n"
     ]
    }
   ],
   "source": [
    "credit_dcn = DCNDuped(n_clusters=2, pretrain_epochs=100, clustering_epochs=100, autoencoder=credit_ae, random_state=np.random.RandomState(0))\n",
    "credit_dcn.fit(credit_dataloader)\n",
    "credit_dcn_nmi = normalized_mutual_info_score(credit_y, credit_dcn.labels_)\n",
    "print(credit_dcn_nmi)\n",
    "\n",
    "credit_attention_dcn = DCNDuped(n_clusters=2, pretrain_epochs=100, clustering_epochs=100, autoencoder=credit_attention_ae, random_state=np.random.RandomState(0))\n",
    "credit_attention_dcn.fit(credit_dataloader)\n",
    "credit_attention_dcn_nmi = normalized_mutual_info_score(credit_y, credit_attention_dcn.labels_)\n",
    "print(credit_attention_dcn_nmi)"
   ]
  },
  {
   "cell_type": "code",
   "execution_count": 9,
   "metadata": {
    "collapsed": false,
    "ExecuteTime": {
     "end_time": "2023-07-13T21:13:43.922888292Z",
     "start_time": "2023-07-13T21:13:33.591503551Z"
    }
   },
   "outputs": [
    {
     "name": "stderr",
     "output_type": "stream",
     "text": [
      "/home/jaanis/repos/attention-mixed-type-clustering/venv/lib/python3.10/site-packages/sklearn/cluster/_kmeans.py:1412: FutureWarning: The default value of `n_init` will change from 10 to 'auto' in 1.4. Set the value of `n_init` explicitly to suppress the warning\n",
      "  super()._check_params_vs_input(X, default_n_init=10)\n",
      "/home/jaanis/repos/attention-mixed-type-clustering/venv/lib/python3.10/site-packages/sklearn/cluster/_kmeans.py:1412: FutureWarning: The default value of `n_init` will change from 10 to 'auto' in 1.4. Set the value of `n_init` explicitly to suppress the warning\n",
      "  super()._check_params_vs_input(X, default_n_init=10)\n",
      "/home/jaanis/repos/attention-mixed-type-clustering/venv/lib/python3.10/site-packages/sklearn/cluster/_kmeans.py:1412: FutureWarning: The default value of `n_init` will change from 10 to 'auto' in 1.4. Set the value of `n_init` explicitly to suppress the warning\n",
      "  super()._check_params_vs_input(X, default_n_init=10)\n"
     ]
    },
    {
     "name": "stdout",
     "output_type": "stream",
     "text": [
      "0.04463190171244836\n",
      "0.024457733325903695\n"
     ]
    },
    {
     "name": "stderr",
     "output_type": "stream",
     "text": [
      "/home/jaanis/repos/attention-mixed-type-clustering/venv/lib/python3.10/site-packages/sklearn/cluster/_kmeans.py:1412: FutureWarning: The default value of `n_init` will change from 10 to 'auto' in 1.4. Set the value of `n_init` explicitly to suppress the warning\n",
      "  super()._check_params_vs_input(X, default_n_init=10)\n"
     ]
    }
   ],
   "source": [
    "heart_dcn = DCNDuped(n_clusters=5, pretrain_epochs=100, clustering_epochs=100, autoencoder=heart_ae, random_state=np.random.RandomState(0))\n",
    "heart_dcn.fit(heart_dataloader)\n",
    "heart_dcn_nmi = normalized_mutual_info_score(heart_y, heart_dcn.labels_)\n",
    "print(heart_dcn_nmi)\n",
    "\n",
    "heart_attention_dcn = DCNDuped(n_clusters=5, pretrain_epochs=100, clustering_epochs=100, autoencoder=heart_attention_ae, random_state=np.random.RandomState(0))\n",
    "heart_attention_dcn.fit(heart_dataloader)\n",
    "heart_attention_dcn_nmi = normalized_mutual_info_score(heart_y, heart_attention_dcn.labels_)\n",
    "print(heart_attention_dcn_nmi)"
   ]
  },
  {
   "cell_type": "code",
   "execution_count": 10,
   "metadata": {
    "collapsed": false,
    "ExecuteTime": {
     "end_time": "2023-07-13T21:13:50.508743132Z",
     "start_time": "2023-07-13T21:13:43.924294624Z"
    }
   },
   "outputs": [
    {
     "name": "stderr",
     "output_type": "stream",
     "text": [
      "/home/jaanis/repos/attention-mixed-type-clustering/venv/lib/python3.10/site-packages/sklearn/cluster/_kmeans.py:1412: FutureWarning: The default value of `n_init` will change from 10 to 'auto' in 1.4. Set the value of `n_init` explicitly to suppress the warning\n",
      "  super()._check_params_vs_input(X, default_n_init=10)\n",
      "/home/jaanis/repos/attention-mixed-type-clustering/venv/lib/python3.10/site-packages/sklearn/cluster/_kmeans.py:1412: FutureWarning: The default value of `n_init` will change from 10 to 'auto' in 1.4. Set the value of `n_init` explicitly to suppress the warning\n",
      "  super()._check_params_vs_input(X, default_n_init=10)\n",
      "/home/jaanis/repos/attention-mixed-type-clustering/venv/lib/python3.10/site-packages/sklearn/cluster/_kmeans.py:1412: FutureWarning: The default value of `n_init` will change from 10 to 'auto' in 1.4. Set the value of `n_init` explicitly to suppress the warning\n",
      "  super()._check_params_vs_input(X, default_n_init=10)\n"
     ]
    },
    {
     "name": "stdout",
     "output_type": "stream",
     "text": [
      "0.00044816304963971954\n",
      "0.0007509657068353008\n"
     ]
    },
    {
     "name": "stderr",
     "output_type": "stream",
     "text": [
      "/home/jaanis/repos/attention-mixed-type-clustering/venv/lib/python3.10/site-packages/sklearn/cluster/_kmeans.py:1412: FutureWarning: The default value of `n_init` will change from 10 to 'auto' in 1.4. Set the value of `n_init` explicitly to suppress the warning\n",
      "  super()._check_params_vs_input(X, default_n_init=10)\n"
     ]
    }
   ],
   "source": [
    "credit_dec = DECDuped(n_clusters=2, pretrain_epochs=100, clustering_epochs=100, autoencoder=credit_ae, random_state=np.random.RandomState(0))\n",
    "credit_dec.fit(credit_dataloader)\n",
    "credit_dec_nmi = normalized_mutual_info_score(credit_y, credit_dec.labels_)\n",
    "print(credit_dec_nmi)\n",
    "\n",
    "credit_attention_dec = DECDuped(n_clusters=2, pretrain_epochs=100, clustering_epochs=100, autoencoder=credit_attention_ae, random_state=np.random.RandomState(0))\n",
    "credit_attention_dec.fit(credit_dataloader)\n",
    "credit_attention_dec_nmi = normalized_mutual_info_score(credit_y, credit_attention_dec.labels_)\n",
    "print(credit_attention_dec_nmi)"
   ]
  },
  {
   "cell_type": "code",
   "execution_count": 11,
   "metadata": {
    "collapsed": false,
    "ExecuteTime": {
     "end_time": "2023-07-13T21:13:55.791142853Z",
     "start_time": "2023-07-13T21:13:50.509922248Z"
    }
   },
   "outputs": [
    {
     "name": "stderr",
     "output_type": "stream",
     "text": [
      "/home/jaanis/repos/attention-mixed-type-clustering/venv/lib/python3.10/site-packages/sklearn/cluster/_kmeans.py:1412: FutureWarning: The default value of `n_init` will change from 10 to 'auto' in 1.4. Set the value of `n_init` explicitly to suppress the warning\n",
      "  super()._check_params_vs_input(X, default_n_init=10)\n",
      "/home/jaanis/repos/attention-mixed-type-clustering/venv/lib/python3.10/site-packages/sklearn/cluster/_kmeans.py:1412: FutureWarning: The default value of `n_init` will change from 10 to 'auto' in 1.4. Set the value of `n_init` explicitly to suppress the warning\n",
      "  super()._check_params_vs_input(X, default_n_init=10)\n",
      "/home/jaanis/repos/attention-mixed-type-clustering/venv/lib/python3.10/site-packages/sklearn/cluster/_kmeans.py:1412: FutureWarning: The default value of `n_init` will change from 10 to 'auto' in 1.4. Set the value of `n_init` explicitly to suppress the warning\n",
      "  super()._check_params_vs_input(X, default_n_init=10)\n"
     ]
    },
    {
     "name": "stdout",
     "output_type": "stream",
     "text": [
      "0.015326658800477885\n",
      "0.02336400220745042\n"
     ]
    },
    {
     "name": "stderr",
     "output_type": "stream",
     "text": [
      "/home/jaanis/repos/attention-mixed-type-clustering/venv/lib/python3.10/site-packages/sklearn/cluster/_kmeans.py:1412: FutureWarning: The default value of `n_init` will change from 10 to 'auto' in 1.4. Set the value of `n_init` explicitly to suppress the warning\n",
      "  super()._check_params_vs_input(X, default_n_init=10)\n"
     ]
    }
   ],
   "source": [
    "heart_dec = DECDuped(n_clusters=5, pretrain_epochs=100, clustering_epochs=100, autoencoder=heart_ae, random_state=np.random.RandomState(0))\n",
    "heart_dec.fit(heart_dataloader)\n",
    "heart_dec_nmi = normalized_mutual_info_score(heart_y, heart_dec.labels_)\n",
    "print(heart_dec_nmi)\n",
    "\n",
    "heart_attention_dec = DECDuped(n_clusters=5, pretrain_epochs=100, clustering_epochs=100, autoencoder=heart_attention_ae, random_state=np.random.RandomState(0))\n",
    "heart_attention_dec.fit(heart_dataloader)\n",
    "heart_attention_dec_nmi = normalized_mutual_info_score(heart_y, heart_attention_dec.labels_)\n",
    "print(heart_attention_dec_nmi)"
   ]
  },
  {
   "cell_type": "code",
   "execution_count": 12,
   "metadata": {
    "collapsed": false,
    "ExecuteTime": {
     "end_time": "2023-07-13T21:14:03.709797138Z",
     "start_time": "2023-07-13T21:13:55.793243185Z"
    }
   },
   "outputs": [
    {
     "name": "stderr",
     "output_type": "stream",
     "text": [
      "/home/jaanis/repos/attention-mixed-type-clustering/venv/lib/python3.10/site-packages/sklearn/cluster/_kmeans.py:1412: FutureWarning: The default value of `n_init` will change from 10 to 'auto' in 1.4. Set the value of `n_init` explicitly to suppress the warning\n",
      "  super()._check_params_vs_input(X, default_n_init=10)\n",
      "/home/jaanis/repos/attention-mixed-type-clustering/venv/lib/python3.10/site-packages/sklearn/cluster/_kmeans.py:1412: FutureWarning: The default value of `n_init` will change from 10 to 'auto' in 1.4. Set the value of `n_init` explicitly to suppress the warning\n",
      "  super()._check_params_vs_input(X, default_n_init=10)\n",
      "/home/jaanis/repos/attention-mixed-type-clustering/venv/lib/python3.10/site-packages/sklearn/cluster/_kmeans.py:1412: FutureWarning: The default value of `n_init` will change from 10 to 'auto' in 1.4. Set the value of `n_init` explicitly to suppress the warning\n",
      "  super()._check_params_vs_input(X, default_n_init=10)\n"
     ]
    },
    {
     "name": "stdout",
     "output_type": "stream",
     "text": [
      "0.00022213321091800602\n",
      "0.0017572320790356325\n"
     ]
    },
    {
     "name": "stderr",
     "output_type": "stream",
     "text": [
      "/home/jaanis/repos/attention-mixed-type-clustering/venv/lib/python3.10/site-packages/sklearn/cluster/_kmeans.py:1412: FutureWarning: The default value of `n_init` will change from 10 to 'auto' in 1.4. Set the value of `n_init` explicitly to suppress the warning\n",
      "  super()._check_params_vs_input(X, default_n_init=10)\n"
     ]
    }
   ],
   "source": [
    "credit_idec = IDECDuped(n_clusters=2, pretrain_epochs=100, clustering_epochs=100, autoencoder=credit_ae, random_state=np.random.RandomState(0))\n",
    "credit_idec.fit(credit_dataloader)\n",
    "credit_idec_nmi = normalized_mutual_info_score(credit_y, credit_idec.labels_)\n",
    "print(credit_idec_nmi)\n",
    "\n",
    "credit_attention_idec = IDECDuped(n_clusters=2, pretrain_epochs=100, clustering_epochs=100, autoencoder=credit_attention_ae, random_state=np.random.RandomState(0))\n",
    "credit_attention_idec.fit(credit_dataloader)\n",
    "credit_attention_idec_nmi = normalized_mutual_info_score(credit_y, credit_attention_idec.labels_)\n",
    "print(credit_attention_idec_nmi)"
   ]
  },
  {
   "cell_type": "code",
   "execution_count": 13,
   "metadata": {
    "collapsed": false,
    "ExecuteTime": {
     "end_time": "2023-07-13T21:14:10.483393347Z",
     "start_time": "2023-07-13T21:14:03.712219414Z"
    }
   },
   "outputs": [
    {
     "name": "stderr",
     "output_type": "stream",
     "text": [
      "/home/jaanis/repos/attention-mixed-type-clustering/venv/lib/python3.10/site-packages/sklearn/cluster/_kmeans.py:1412: FutureWarning: The default value of `n_init` will change from 10 to 'auto' in 1.4. Set the value of `n_init` explicitly to suppress the warning\n",
      "  super()._check_params_vs_input(X, default_n_init=10)\n",
      "/home/jaanis/repos/attention-mixed-type-clustering/venv/lib/python3.10/site-packages/sklearn/cluster/_kmeans.py:1412: FutureWarning: The default value of `n_init` will change from 10 to 'auto' in 1.4. Set the value of `n_init` explicitly to suppress the warning\n",
      "  super()._check_params_vs_input(X, default_n_init=10)\n",
      "/home/jaanis/repos/attention-mixed-type-clustering/venv/lib/python3.10/site-packages/sklearn/cluster/_kmeans.py:1412: FutureWarning: The default value of `n_init` will change from 10 to 'auto' in 1.4. Set the value of `n_init` explicitly to suppress the warning\n",
      "  super()._check_params_vs_input(X, default_n_init=10)\n"
     ]
    },
    {
     "name": "stdout",
     "output_type": "stream",
     "text": [
      "0.010213086317213675\n",
      "0.013596745716791996\n"
     ]
    },
    {
     "name": "stderr",
     "output_type": "stream",
     "text": [
      "/home/jaanis/repos/attention-mixed-type-clustering/venv/lib/python3.10/site-packages/sklearn/cluster/_kmeans.py:1412: FutureWarning: The default value of `n_init` will change from 10 to 'auto' in 1.4. Set the value of `n_init` explicitly to suppress the warning\n",
      "  super()._check_params_vs_input(X, default_n_init=10)\n"
     ]
    }
   ],
   "source": [
    "heart_idec = IDECDuped(n_clusters=2, pretrain_epochs=100, clustering_epochs=100, autoencoder=heart_ae, random_state=np.random.RandomState(0))\n",
    "heart_idec.fit(heart_dataloader)\n",
    "heart_idec_nmi = normalized_mutual_info_score(heart_y, heart_idec.labels_)\n",
    "print(heart_idec_nmi)\n",
    "\n",
    "heart_attention_idec = IDECDuped(n_clusters=2, pretrain_epochs=100, clustering_epochs=100, autoencoder=heart_attention_ae, random_state=np.random.RandomState(0))\n",
    "heart_attention_idec.fit(heart_dataloader)\n",
    "heart_attention_idec_nmi = normalized_mutual_info_score(heart_y, heart_attention_idec.labels_)\n",
    "print(heart_attention_idec_nmi)"
   ]
  }
 ],
 "metadata": {
  "kernelspec": {
   "display_name": "Python 3",
   "language": "python",
   "name": "python3"
  },
  "language_info": {
   "codemirror_mode": {
    "name": "ipython",
    "version": 3
   },
   "file_extension": ".py",
   "mimetype": "text/x-python",
   "name": "python",
   "nbconvert_exporter": "python",
   "pygments_lexer": "ipython3",
   "version": "3.11.2"
  }
 },
 "nbformat": 4,
 "nbformat_minor": 0
}
