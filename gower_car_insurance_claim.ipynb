{
 "cells": [
  {
   "cell_type": "code",
   "execution_count": 11,
   "metadata": {
    "collapsed": true,
    "ExecuteTime": {
     "start_time": "2023-05-11T21:43:05.723922Z",
     "end_time": "2023-05-11T21:43:05.729164Z"
    }
   },
   "outputs": [],
   "source": [
    "import gower\n",
    "from sklearn.cluster import AgglomerativeClustering\n",
    "import pandas as pd\n",
    "import matplotlib.pyplot as plt\n",
    "import seaborn as sns\n",
    "from collections import Counter"
   ]
  },
  {
   "cell_type": "code",
   "execution_count": 12,
   "outputs": [
    {
     "data": {
      "text/plain": "              ID  KIDSDRIV BIRTH   AGE  HOMEKIDS   YOJ    INCOME PARENT1   \n0       63581743         0   MAR  60.0         0  11.0   67349.0      NO  \\\n1      132761049         0   JAN  43.0         0  11.0   91449.0      NO   \n2      921317019         0   NOV  48.0         0  11.0   52881.0      NO   \n3      727598473         0   MAR  35.0         1  10.0   16039.0      NO   \n4      450221861         0   JUN  51.0         0  14.0       0.0      NO   \n...          ...       ...   ...   ...       ...   ...       ...     ...   \n10297   67790126         1   AUG  45.0         2   9.0  164669.0      NO   \n10298   61970712         0   JUN  46.0         0   9.0  107204.0      NO   \n10299  849208064         0   JUN  48.0         0  15.0   39837.0      NO   \n10300  627828331         0   DEC  50.0         0   7.0   43445.0      NO   \n10301  680381960         0   FEB  52.0         0  11.0   53235.0      NO   \n\n       HOME_VAL MSTATUS  ...    CAR_TYPE RED_CAR OLDCLAIM  CLM_FREQ REVOKED   \n0           0.0      NO  ...     MINIVAN     YES   4461.0         2      NO  \\\n1      257252.0      NO  ...     MINIVAN     YES      0.0         0      NO   \n2           0.0      NO  ...         VAN     YES      0.0         0      NO   \n3      124191.0     YES  ...         SUV      NO  38690.0         2      NO   \n4      306251.0     YES  ...     MINIVAN     YES      0.0         0      NO   \n...         ...     ...  ...         ...     ...      ...       ...     ...   \n10297  386273.0     YES  ...     MINIVAN      NO      0.0         0      NO   \n10298  332591.0     YES  ...  PANELTRUCK      NO      0.0         0      NO   \n10299  170611.0     YES  ...         SUV      NO      0.0         0      NO   \n10300  149248.0     YES  ...     MINIVAN      NO      0.0         0      NO   \n10301  197017.0     YES  ...     MINIVAN      NO      0.0         0      NO   \n\n       MVR_PTS  CLM_AMT CAR_AGE CLAIM_FLAG        URBANICITY  \n0            3      0.0    18.0          0  HIGHLYURBANURBAN  \n1            0      0.0     1.0          0  HIGHLYURBANURBAN  \n2            2      0.0    10.0          0  HIGHLYURBANURBAN  \n3            3      0.0    10.0          0  HIGHLYURBANURBAN  \n4            0      0.0     6.0          0  HIGHLYURBANURBAN  \n...        ...      ...     ...        ...               ...  \n10297        2      0.0    17.0          0  HIGHLYURBANURBAN  \n10298        0      0.0     1.0          0  HIGHLYURBANURBAN  \n10299        0      0.0     1.0          0  HIGHLYURBANURBAN  \n10300        0      0.0    11.0          0  HIGHLYURBANURBAN  \n10301        0      0.0     9.0          0  HIGHLYRURALRURAL  \n\n[10302 rows x 27 columns]",
      "text/html": "<div>\n<style scoped>\n    .dataframe tbody tr th:only-of-type {\n        vertical-align: middle;\n    }\n\n    .dataframe tbody tr th {\n        vertical-align: top;\n    }\n\n    .dataframe thead th {\n        text-align: right;\n    }\n</style>\n<table border=\"1\" class=\"dataframe\">\n  <thead>\n    <tr style=\"text-align: right;\">\n      <th></th>\n      <th>ID</th>\n      <th>KIDSDRIV</th>\n      <th>BIRTH</th>\n      <th>AGE</th>\n      <th>HOMEKIDS</th>\n      <th>YOJ</th>\n      <th>INCOME</th>\n      <th>PARENT1</th>\n      <th>HOME_VAL</th>\n      <th>MSTATUS</th>\n      <th>...</th>\n      <th>CAR_TYPE</th>\n      <th>RED_CAR</th>\n      <th>OLDCLAIM</th>\n      <th>CLM_FREQ</th>\n      <th>REVOKED</th>\n      <th>MVR_PTS</th>\n      <th>CLM_AMT</th>\n      <th>CAR_AGE</th>\n      <th>CLAIM_FLAG</th>\n      <th>URBANICITY</th>\n    </tr>\n  </thead>\n  <tbody>\n    <tr>\n      <th>0</th>\n      <td>63581743</td>\n      <td>0</td>\n      <td>MAR</td>\n      <td>60.0</td>\n      <td>0</td>\n      <td>11.0</td>\n      <td>67349.0</td>\n      <td>NO</td>\n      <td>0.0</td>\n      <td>NO</td>\n      <td>...</td>\n      <td>MINIVAN</td>\n      <td>YES</td>\n      <td>4461.0</td>\n      <td>2</td>\n      <td>NO</td>\n      <td>3</td>\n      <td>0.0</td>\n      <td>18.0</td>\n      <td>0</td>\n      <td>HIGHLYURBANURBAN</td>\n    </tr>\n    <tr>\n      <th>1</th>\n      <td>132761049</td>\n      <td>0</td>\n      <td>JAN</td>\n      <td>43.0</td>\n      <td>0</td>\n      <td>11.0</td>\n      <td>91449.0</td>\n      <td>NO</td>\n      <td>257252.0</td>\n      <td>NO</td>\n      <td>...</td>\n      <td>MINIVAN</td>\n      <td>YES</td>\n      <td>0.0</td>\n      <td>0</td>\n      <td>NO</td>\n      <td>0</td>\n      <td>0.0</td>\n      <td>1.0</td>\n      <td>0</td>\n      <td>HIGHLYURBANURBAN</td>\n    </tr>\n    <tr>\n      <th>2</th>\n      <td>921317019</td>\n      <td>0</td>\n      <td>NOV</td>\n      <td>48.0</td>\n      <td>0</td>\n      <td>11.0</td>\n      <td>52881.0</td>\n      <td>NO</td>\n      <td>0.0</td>\n      <td>NO</td>\n      <td>...</td>\n      <td>VAN</td>\n      <td>YES</td>\n      <td>0.0</td>\n      <td>0</td>\n      <td>NO</td>\n      <td>2</td>\n      <td>0.0</td>\n      <td>10.0</td>\n      <td>0</td>\n      <td>HIGHLYURBANURBAN</td>\n    </tr>\n    <tr>\n      <th>3</th>\n      <td>727598473</td>\n      <td>0</td>\n      <td>MAR</td>\n      <td>35.0</td>\n      <td>1</td>\n      <td>10.0</td>\n      <td>16039.0</td>\n      <td>NO</td>\n      <td>124191.0</td>\n      <td>YES</td>\n      <td>...</td>\n      <td>SUV</td>\n      <td>NO</td>\n      <td>38690.0</td>\n      <td>2</td>\n      <td>NO</td>\n      <td>3</td>\n      <td>0.0</td>\n      <td>10.0</td>\n      <td>0</td>\n      <td>HIGHLYURBANURBAN</td>\n    </tr>\n    <tr>\n      <th>4</th>\n      <td>450221861</td>\n      <td>0</td>\n      <td>JUN</td>\n      <td>51.0</td>\n      <td>0</td>\n      <td>14.0</td>\n      <td>0.0</td>\n      <td>NO</td>\n      <td>306251.0</td>\n      <td>YES</td>\n      <td>...</td>\n      <td>MINIVAN</td>\n      <td>YES</td>\n      <td>0.0</td>\n      <td>0</td>\n      <td>NO</td>\n      <td>0</td>\n      <td>0.0</td>\n      <td>6.0</td>\n      <td>0</td>\n      <td>HIGHLYURBANURBAN</td>\n    </tr>\n    <tr>\n      <th>...</th>\n      <td>...</td>\n      <td>...</td>\n      <td>...</td>\n      <td>...</td>\n      <td>...</td>\n      <td>...</td>\n      <td>...</td>\n      <td>...</td>\n      <td>...</td>\n      <td>...</td>\n      <td>...</td>\n      <td>...</td>\n      <td>...</td>\n      <td>...</td>\n      <td>...</td>\n      <td>...</td>\n      <td>...</td>\n      <td>...</td>\n      <td>...</td>\n      <td>...</td>\n      <td>...</td>\n    </tr>\n    <tr>\n      <th>10297</th>\n      <td>67790126</td>\n      <td>1</td>\n      <td>AUG</td>\n      <td>45.0</td>\n      <td>2</td>\n      <td>9.0</td>\n      <td>164669.0</td>\n      <td>NO</td>\n      <td>386273.0</td>\n      <td>YES</td>\n      <td>...</td>\n      <td>MINIVAN</td>\n      <td>NO</td>\n      <td>0.0</td>\n      <td>0</td>\n      <td>NO</td>\n      <td>2</td>\n      <td>0.0</td>\n      <td>17.0</td>\n      <td>0</td>\n      <td>HIGHLYURBANURBAN</td>\n    </tr>\n    <tr>\n      <th>10298</th>\n      <td>61970712</td>\n      <td>0</td>\n      <td>JUN</td>\n      <td>46.0</td>\n      <td>0</td>\n      <td>9.0</td>\n      <td>107204.0</td>\n      <td>NO</td>\n      <td>332591.0</td>\n      <td>YES</td>\n      <td>...</td>\n      <td>PANELTRUCK</td>\n      <td>NO</td>\n      <td>0.0</td>\n      <td>0</td>\n      <td>NO</td>\n      <td>0</td>\n      <td>0.0</td>\n      <td>1.0</td>\n      <td>0</td>\n      <td>HIGHLYURBANURBAN</td>\n    </tr>\n    <tr>\n      <th>10299</th>\n      <td>849208064</td>\n      <td>0</td>\n      <td>JUN</td>\n      <td>48.0</td>\n      <td>0</td>\n      <td>15.0</td>\n      <td>39837.0</td>\n      <td>NO</td>\n      <td>170611.0</td>\n      <td>YES</td>\n      <td>...</td>\n      <td>SUV</td>\n      <td>NO</td>\n      <td>0.0</td>\n      <td>0</td>\n      <td>NO</td>\n      <td>0</td>\n      <td>0.0</td>\n      <td>1.0</td>\n      <td>0</td>\n      <td>HIGHLYURBANURBAN</td>\n    </tr>\n    <tr>\n      <th>10300</th>\n      <td>627828331</td>\n      <td>0</td>\n      <td>DEC</td>\n      <td>50.0</td>\n      <td>0</td>\n      <td>7.0</td>\n      <td>43445.0</td>\n      <td>NO</td>\n      <td>149248.0</td>\n      <td>YES</td>\n      <td>...</td>\n      <td>MINIVAN</td>\n      <td>NO</td>\n      <td>0.0</td>\n      <td>0</td>\n      <td>NO</td>\n      <td>0</td>\n      <td>0.0</td>\n      <td>11.0</td>\n      <td>0</td>\n      <td>HIGHLYURBANURBAN</td>\n    </tr>\n    <tr>\n      <th>10301</th>\n      <td>680381960</td>\n      <td>0</td>\n      <td>FEB</td>\n      <td>52.0</td>\n      <td>0</td>\n      <td>11.0</td>\n      <td>53235.0</td>\n      <td>NO</td>\n      <td>197017.0</td>\n      <td>YES</td>\n      <td>...</td>\n      <td>MINIVAN</td>\n      <td>NO</td>\n      <td>0.0</td>\n      <td>0</td>\n      <td>NO</td>\n      <td>0</td>\n      <td>0.0</td>\n      <td>9.0</td>\n      <td>0</td>\n      <td>HIGHLYRURALRURAL</td>\n    </tr>\n  </tbody>\n</table>\n<p>10302 rows × 27 columns</p>\n</div>"
     },
     "execution_count": 12,
     "metadata": {},
     "output_type": "execute_result"
    }
   ],
   "source": [
    "df = pd.read_csv(\"datasets/car_insurance_claim.csv\")\n",
    "\n",
    "# convert numerical-object to numericals\n",
    "for col in ['INCOME','HOME_VAL','BLUEBOOK','OLDCLAIM', 'CLM_AMT',]:\n",
    "    df[col] = df[col].replace(\"[^.0-9]\", \"\", regex=True).astype(float).fillna(0.0)\n",
    "\n",
    "# clean textual classes\n",
    "for col in df.select_dtypes(include='object').columns:\n",
    "    df[col] = df[col].str.upper().replace(\"Z_\", \"\", regex=True).replace(\"[^A-Z]\", \"\", regex=True)\n",
    "\n",
    "data_types = {f:t for f,t in zip(df.columns,df.dtypes)}\n",
    "df"
   ],
   "metadata": {
    "collapsed": false,
    "ExecuteTime": {
     "start_time": "2023-05-11T21:43:05.726927Z",
     "end_time": "2023-05-11T21:43:05.962937Z"
    }
   }
  },
  {
   "cell_type": "code",
   "execution_count": 12,
   "outputs": [],
   "source": [],
   "metadata": {
    "collapsed": false,
    "ExecuteTime": {
     "start_time": "2023-05-11T21:43:05.963443Z",
     "end_time": "2023-05-11T21:43:05.965447Z"
    }
   }
  }
 ],
 "metadata": {
  "kernelspec": {
   "display_name": "Python 3",
   "language": "python",
   "name": "python3"
  },
  "language_info": {
   "codemirror_mode": {
    "name": "ipython",
    "version": 2
   },
   "file_extension": ".py",
   "mimetype": "text/x-python",
   "name": "python",
   "nbconvert_exporter": "python",
   "pygments_lexer": "ipython2",
   "version": "2.7.6"
  }
 },
 "nbformat": 4,
 "nbformat_minor": 0
}
