{
 "cells": [
  {
   "cell_type": "code",
   "execution_count": 267,
   "metadata": {
    "collapsed": true,
    "ExecuteTime": {
     "end_time": "2023-06-19T16:28:35.946650200Z",
     "start_time": "2023-06-19T16:28:35.869311500Z"
    }
   },
   "outputs": [],
   "source": [
    "import gower\n",
    "import numpy as np\n",
    "import pandas as pd\n",
    "from sklearn.cluster import KMeans, AgglomerativeClustering\n",
    "from sklearn.preprocessing import LabelEncoder, MinMaxScaler\n",
    "from torch.utils.data import Dataset, DataLoader\n",
    "import torch\n",
    "import torch.nn as nn\n",
    "from scipy.optimize import linear_sum_assignment"
   ]
  },
  {
   "cell_type": "code",
   "execution_count": 268,
   "metadata": {
    "collapsed": false,
    "ExecuteTime": {
     "end_time": "2023-06-19T16:28:35.946650200Z",
     "start_time": "2023-06-19T16:28:35.873468200Z"
    }
   },
   "outputs": [
    {
     "data": {
      "text/plain": "     age     sex               cp  trestbps   chol    fbs           restecg   \n0     63    Male   typical angina     145.0  233.0   True    lv hypertrophy  \\\n1     67    Male     asymptomatic     160.0  286.0  False    lv hypertrophy   \n2     67    Male     asymptomatic     120.0  229.0  False    lv hypertrophy   \n3     37    Male      non-anginal     130.0  250.0  False            normal   \n4     41  Female  atypical angina     130.0  204.0  False    lv hypertrophy   \n..   ...     ...              ...       ...    ...    ...               ...   \n914   46    Male     asymptomatic     134.0  310.0  False            normal   \n915   54  Female     asymptomatic     127.0  333.0   True  st-t abnormality   \n917   55    Male     asymptomatic     122.0  223.0   True  st-t abnormality   \n918   58    Male     asymptomatic       NaN  385.0   True    lv hypertrophy   \n919   62    Male  atypical angina     120.0  254.0  False    lv hypertrophy   \n\n     thalch  exang  oldpeak        slope   ca               thal  num  \n0     150.0  False      2.3  downsloping  0.0       fixed defect    0  \n1     108.0   True      1.5         flat  3.0             normal    2  \n2     129.0   True      2.6         flat  2.0  reversable defect    1  \n3     187.0  False      3.5  downsloping  0.0             normal    0  \n4     172.0  False      1.4    upsloping  0.0             normal    0  \n..      ...    ...      ...          ...  ...                ...  ...  \n914   126.0  False      0.0          NaN  NaN             normal    2  \n915   154.0  False      0.0          NaN  NaN                NaN    1  \n917   100.0  False      0.0          NaN  NaN       fixed defect    2  \n918     NaN    NaN      NaN          NaN  NaN                NaN    0  \n919    93.0   True      0.0          NaN  NaN                NaN    1  \n\n[797 rows x 14 columns]",
      "text/html": "<div>\n<style scoped>\n    .dataframe tbody tr th:only-of-type {\n        vertical-align: middle;\n    }\n\n    .dataframe tbody tr th {\n        vertical-align: top;\n    }\n\n    .dataframe thead th {\n        text-align: right;\n    }\n</style>\n<table border=\"1\" class=\"dataframe\">\n  <thead>\n    <tr style=\"text-align: right;\">\n      <th></th>\n      <th>age</th>\n      <th>sex</th>\n      <th>cp</th>\n      <th>trestbps</th>\n      <th>chol</th>\n      <th>fbs</th>\n      <th>restecg</th>\n      <th>thalch</th>\n      <th>exang</th>\n      <th>oldpeak</th>\n      <th>slope</th>\n      <th>ca</th>\n      <th>thal</th>\n      <th>num</th>\n    </tr>\n  </thead>\n  <tbody>\n    <tr>\n      <th>0</th>\n      <td>63</td>\n      <td>Male</td>\n      <td>typical angina</td>\n      <td>145.0</td>\n      <td>233.0</td>\n      <td>True</td>\n      <td>lv hypertrophy</td>\n      <td>150.0</td>\n      <td>False</td>\n      <td>2.3</td>\n      <td>downsloping</td>\n      <td>0.0</td>\n      <td>fixed defect</td>\n      <td>0</td>\n    </tr>\n    <tr>\n      <th>1</th>\n      <td>67</td>\n      <td>Male</td>\n      <td>asymptomatic</td>\n      <td>160.0</td>\n      <td>286.0</td>\n      <td>False</td>\n      <td>lv hypertrophy</td>\n      <td>108.0</td>\n      <td>True</td>\n      <td>1.5</td>\n      <td>flat</td>\n      <td>3.0</td>\n      <td>normal</td>\n      <td>2</td>\n    </tr>\n    <tr>\n      <th>2</th>\n      <td>67</td>\n      <td>Male</td>\n      <td>asymptomatic</td>\n      <td>120.0</td>\n      <td>229.0</td>\n      <td>False</td>\n      <td>lv hypertrophy</td>\n      <td>129.0</td>\n      <td>True</td>\n      <td>2.6</td>\n      <td>flat</td>\n      <td>2.0</td>\n      <td>reversable defect</td>\n      <td>1</td>\n    </tr>\n    <tr>\n      <th>3</th>\n      <td>37</td>\n      <td>Male</td>\n      <td>non-anginal</td>\n      <td>130.0</td>\n      <td>250.0</td>\n      <td>False</td>\n      <td>normal</td>\n      <td>187.0</td>\n      <td>False</td>\n      <td>3.5</td>\n      <td>downsloping</td>\n      <td>0.0</td>\n      <td>normal</td>\n      <td>0</td>\n    </tr>\n    <tr>\n      <th>4</th>\n      <td>41</td>\n      <td>Female</td>\n      <td>atypical angina</td>\n      <td>130.0</td>\n      <td>204.0</td>\n      <td>False</td>\n      <td>lv hypertrophy</td>\n      <td>172.0</td>\n      <td>False</td>\n      <td>1.4</td>\n      <td>upsloping</td>\n      <td>0.0</td>\n      <td>normal</td>\n      <td>0</td>\n    </tr>\n    <tr>\n      <th>...</th>\n      <td>...</td>\n      <td>...</td>\n      <td>...</td>\n      <td>...</td>\n      <td>...</td>\n      <td>...</td>\n      <td>...</td>\n      <td>...</td>\n      <td>...</td>\n      <td>...</td>\n      <td>...</td>\n      <td>...</td>\n      <td>...</td>\n      <td>...</td>\n    </tr>\n    <tr>\n      <th>914</th>\n      <td>46</td>\n      <td>Male</td>\n      <td>asymptomatic</td>\n      <td>134.0</td>\n      <td>310.0</td>\n      <td>False</td>\n      <td>normal</td>\n      <td>126.0</td>\n      <td>False</td>\n      <td>0.0</td>\n      <td>NaN</td>\n      <td>NaN</td>\n      <td>normal</td>\n      <td>2</td>\n    </tr>\n    <tr>\n      <th>915</th>\n      <td>54</td>\n      <td>Female</td>\n      <td>asymptomatic</td>\n      <td>127.0</td>\n      <td>333.0</td>\n      <td>True</td>\n      <td>st-t abnormality</td>\n      <td>154.0</td>\n      <td>False</td>\n      <td>0.0</td>\n      <td>NaN</td>\n      <td>NaN</td>\n      <td>NaN</td>\n      <td>1</td>\n    </tr>\n    <tr>\n      <th>917</th>\n      <td>55</td>\n      <td>Male</td>\n      <td>asymptomatic</td>\n      <td>122.0</td>\n      <td>223.0</td>\n      <td>True</td>\n      <td>st-t abnormality</td>\n      <td>100.0</td>\n      <td>False</td>\n      <td>0.0</td>\n      <td>NaN</td>\n      <td>NaN</td>\n      <td>fixed defect</td>\n      <td>2</td>\n    </tr>\n    <tr>\n      <th>918</th>\n      <td>58</td>\n      <td>Male</td>\n      <td>asymptomatic</td>\n      <td>NaN</td>\n      <td>385.0</td>\n      <td>True</td>\n      <td>lv hypertrophy</td>\n      <td>NaN</td>\n      <td>NaN</td>\n      <td>NaN</td>\n      <td>NaN</td>\n      <td>NaN</td>\n      <td>NaN</td>\n      <td>0</td>\n    </tr>\n    <tr>\n      <th>919</th>\n      <td>62</td>\n      <td>Male</td>\n      <td>atypical angina</td>\n      <td>120.0</td>\n      <td>254.0</td>\n      <td>False</td>\n      <td>lv hypertrophy</td>\n      <td>93.0</td>\n      <td>True</td>\n      <td>0.0</td>\n      <td>NaN</td>\n      <td>NaN</td>\n      <td>NaN</td>\n      <td>1</td>\n    </tr>\n  </tbody>\n</table>\n<p>797 rows × 14 columns</p>\n</div>"
     },
     "execution_count": 268,
     "metadata": {},
     "output_type": "execute_result"
    }
   ],
   "source": [
    "og_df = pd.read_csv(\"datasets/heart_disease_uci.csv\")\n",
    "og_df.drop(columns=[\"id\", \"dataset\"], inplace=True)\n",
    "og_df = og_df.drop(og_df[og_df[\"num\"] == 0].sample(frac=0.3).index)\n",
    "og_df"
   ]
  },
  {
   "cell_type": "code",
   "execution_count": 269,
   "metadata": {
    "collapsed": false,
    "ExecuteTime": {
     "end_time": "2023-06-19T16:28:35.946650200Z",
     "start_time": "2023-06-19T16:28:35.905316400Z"
    }
   },
   "outputs": [],
   "source": [
    "categorial_columns = [\"sex\", \"cp\", \"fbs\", \"restecg\", \"exang\", \"slope\", \"thal\"]\n",
    "cont_columns = [\"age\", \"trestbps\", \"chol\", \"thalch\", \"oldpeak\", \"ca\"]"
   ]
  },
  {
   "cell_type": "code",
   "execution_count": 270,
   "metadata": {
    "collapsed": false,
    "ExecuteTime": {
     "end_time": "2023-06-19T16:28:35.947658900Z",
     "start_time": "2023-06-19T16:28:35.910668500Z"
    }
   },
   "outputs": [
    {
     "data": {
      "text/plain": "          age  sex        cp  trestbps      chol  fbs   restecg    thalch   \n0    0.714286  1.0  1.000000  0.725000  0.386401  0.5  0.000000  0.666667  \\\n1    0.795918  1.0  0.000000  0.800000  0.474295  0.0  0.000000  0.355556   \n2    0.795918  1.0  0.000000  0.600000  0.379768  0.0  0.000000  0.511111   \n3    0.183673  1.0  0.666667  0.650000  0.414594  0.0  0.333333  0.940741   \n4    0.265306  0.0  0.333333  0.650000  0.338308  0.0  0.000000  0.829630   \n..        ...  ...       ...       ...       ...  ...       ...       ...   \n914  0.367347  1.0  0.000000  0.670000  0.514096  0.0  0.333333  0.488889   \n915  0.530612  0.0  0.000000  0.635000  0.552239  0.5  0.666667  0.696296   \n917  0.551020  1.0  0.000000  0.610000  0.369818  0.5  0.666667  0.296296   \n918  0.612245  1.0  0.000000  0.663922  0.638474  0.5  0.000000  0.562705   \n919  0.693878  1.0  0.333333  0.600000  0.421227  0.0  0.000000  0.244444   \n\n     exang   oldpeak     slope        ca      thal  \n0      0.0  0.556818  0.000000  0.000000  0.000000  \n1      0.5  0.465909  0.333333  1.000000  0.333333  \n2      0.5  0.590909  0.333333  0.666667  0.666667  \n3      0.0  0.693182  0.000000  0.000000  0.333333  \n4      0.0  0.454545  0.666667  0.000000  0.333333  \n..     ...       ...       ...       ...       ...  \n914    0.0  0.295455  1.000000  0.245817  0.333333  \n915    0.0  0.295455  1.000000  0.245817  1.000000  \n917    0.0  0.295455  1.000000  0.245817  0.000000  \n918    1.0  0.403102  1.000000  0.245817  1.000000  \n919    0.5  0.295455  1.000000  0.245817  1.000000  \n\n[797 rows x 13 columns]",
      "text/html": "<div>\n<style scoped>\n    .dataframe tbody tr th:only-of-type {\n        vertical-align: middle;\n    }\n\n    .dataframe tbody tr th {\n        vertical-align: top;\n    }\n\n    .dataframe thead th {\n        text-align: right;\n    }\n</style>\n<table border=\"1\" class=\"dataframe\">\n  <thead>\n    <tr style=\"text-align: right;\">\n      <th></th>\n      <th>age</th>\n      <th>sex</th>\n      <th>cp</th>\n      <th>trestbps</th>\n      <th>chol</th>\n      <th>fbs</th>\n      <th>restecg</th>\n      <th>thalch</th>\n      <th>exang</th>\n      <th>oldpeak</th>\n      <th>slope</th>\n      <th>ca</th>\n      <th>thal</th>\n    </tr>\n  </thead>\n  <tbody>\n    <tr>\n      <th>0</th>\n      <td>0.714286</td>\n      <td>1.0</td>\n      <td>1.000000</td>\n      <td>0.725000</td>\n      <td>0.386401</td>\n      <td>0.5</td>\n      <td>0.000000</td>\n      <td>0.666667</td>\n      <td>0.0</td>\n      <td>0.556818</td>\n      <td>0.000000</td>\n      <td>0.000000</td>\n      <td>0.000000</td>\n    </tr>\n    <tr>\n      <th>1</th>\n      <td>0.795918</td>\n      <td>1.0</td>\n      <td>0.000000</td>\n      <td>0.800000</td>\n      <td>0.474295</td>\n      <td>0.0</td>\n      <td>0.000000</td>\n      <td>0.355556</td>\n      <td>0.5</td>\n      <td>0.465909</td>\n      <td>0.333333</td>\n      <td>1.000000</td>\n      <td>0.333333</td>\n    </tr>\n    <tr>\n      <th>2</th>\n      <td>0.795918</td>\n      <td>1.0</td>\n      <td>0.000000</td>\n      <td>0.600000</td>\n      <td>0.379768</td>\n      <td>0.0</td>\n      <td>0.000000</td>\n      <td>0.511111</td>\n      <td>0.5</td>\n      <td>0.590909</td>\n      <td>0.333333</td>\n      <td>0.666667</td>\n      <td>0.666667</td>\n    </tr>\n    <tr>\n      <th>3</th>\n      <td>0.183673</td>\n      <td>1.0</td>\n      <td>0.666667</td>\n      <td>0.650000</td>\n      <td>0.414594</td>\n      <td>0.0</td>\n      <td>0.333333</td>\n      <td>0.940741</td>\n      <td>0.0</td>\n      <td>0.693182</td>\n      <td>0.000000</td>\n      <td>0.000000</td>\n      <td>0.333333</td>\n    </tr>\n    <tr>\n      <th>4</th>\n      <td>0.265306</td>\n      <td>0.0</td>\n      <td>0.333333</td>\n      <td>0.650000</td>\n      <td>0.338308</td>\n      <td>0.0</td>\n      <td>0.000000</td>\n      <td>0.829630</td>\n      <td>0.0</td>\n      <td>0.454545</td>\n      <td>0.666667</td>\n      <td>0.000000</td>\n      <td>0.333333</td>\n    </tr>\n    <tr>\n      <th>...</th>\n      <td>...</td>\n      <td>...</td>\n      <td>...</td>\n      <td>...</td>\n      <td>...</td>\n      <td>...</td>\n      <td>...</td>\n      <td>...</td>\n      <td>...</td>\n      <td>...</td>\n      <td>...</td>\n      <td>...</td>\n      <td>...</td>\n    </tr>\n    <tr>\n      <th>914</th>\n      <td>0.367347</td>\n      <td>1.0</td>\n      <td>0.000000</td>\n      <td>0.670000</td>\n      <td>0.514096</td>\n      <td>0.0</td>\n      <td>0.333333</td>\n      <td>0.488889</td>\n      <td>0.0</td>\n      <td>0.295455</td>\n      <td>1.000000</td>\n      <td>0.245817</td>\n      <td>0.333333</td>\n    </tr>\n    <tr>\n      <th>915</th>\n      <td>0.530612</td>\n      <td>0.0</td>\n      <td>0.000000</td>\n      <td>0.635000</td>\n      <td>0.552239</td>\n      <td>0.5</td>\n      <td>0.666667</td>\n      <td>0.696296</td>\n      <td>0.0</td>\n      <td>0.295455</td>\n      <td>1.000000</td>\n      <td>0.245817</td>\n      <td>1.000000</td>\n    </tr>\n    <tr>\n      <th>917</th>\n      <td>0.551020</td>\n      <td>1.0</td>\n      <td>0.000000</td>\n      <td>0.610000</td>\n      <td>0.369818</td>\n      <td>0.5</td>\n      <td>0.666667</td>\n      <td>0.296296</td>\n      <td>0.0</td>\n      <td>0.295455</td>\n      <td>1.000000</td>\n      <td>0.245817</td>\n      <td>0.000000</td>\n    </tr>\n    <tr>\n      <th>918</th>\n      <td>0.612245</td>\n      <td>1.0</td>\n      <td>0.000000</td>\n      <td>0.663922</td>\n      <td>0.638474</td>\n      <td>0.5</td>\n      <td>0.000000</td>\n      <td>0.562705</td>\n      <td>1.0</td>\n      <td>0.403102</td>\n      <td>1.000000</td>\n      <td>0.245817</td>\n      <td>1.000000</td>\n    </tr>\n    <tr>\n      <th>919</th>\n      <td>0.693878</td>\n      <td>1.0</td>\n      <td>0.333333</td>\n      <td>0.600000</td>\n      <td>0.421227</td>\n      <td>0.0</td>\n      <td>0.000000</td>\n      <td>0.244444</td>\n      <td>0.5</td>\n      <td>0.295455</td>\n      <td>1.000000</td>\n      <td>0.245817</td>\n      <td>1.000000</td>\n    </tr>\n  </tbody>\n</table>\n<p>797 rows × 13 columns</p>\n</div>"
     },
     "execution_count": 270,
     "metadata": {},
     "output_type": "execute_result"
    }
   ],
   "source": [
    "df = og_df.copy()\n",
    "df.drop(columns=\"num\", inplace=True)\n",
    "df[categorial_columns] = df[categorial_columns].apply(LabelEncoder().fit_transform)\n",
    "df[categorial_columns] = MinMaxScaler().fit_transform(df[categorial_columns])\n",
    "\n",
    "df[cont_columns] = MinMaxScaler().fit_transform(df[cont_columns])\n",
    "df = df.fillna(df.mean())\n",
    "df"
   ]
  },
  {
   "cell_type": "code",
   "execution_count": 271,
   "metadata": {
    "collapsed": false,
    "ExecuteTime": {
     "end_time": "2023-06-19T16:28:35.947658900Z",
     "start_time": "2023-06-19T16:28:35.938225200Z"
    }
   },
   "outputs": [],
   "source": [
    "class HeartDiseaseDataset(Dataset):\n",
    "    def __init__(self, df):\n",
    "        self.x = torch.tensor(df.values, dtype=torch.float)\n",
    "\n",
    "    def __getitem__(self, idx):\n",
    "        return self.x[idx]\n",
    "\n",
    "    def __len__(self):\n",
    "        return self.x.shape[0]"
   ]
  },
  {
   "cell_type": "code",
   "execution_count": 272,
   "metadata": {
    "collapsed": false,
    "ExecuteTime": {
     "end_time": "2023-06-19T16:28:35.955662600Z",
     "start_time": "2023-06-19T16:28:35.944000200Z"
    }
   },
   "outputs": [
    {
     "data": {
      "text/plain": "797"
     },
     "execution_count": 272,
     "metadata": {},
     "output_type": "execute_result"
    }
   ],
   "source": [
    "dataset = HeartDiseaseDataset(df)\n",
    "dataloader = DataLoader(dataset, batch_size=100, shuffle=True)\n",
    "len(dataset)"
   ]
  },
  {
   "cell_type": "code",
   "execution_count": 273,
   "metadata": {
    "collapsed": false,
    "ExecuteTime": {
     "end_time": "2023-06-19T16:28:36.877086100Z",
     "start_time": "2023-06-19T16:28:35.952657600Z"
    }
   },
   "outputs": [
    {
     "name": "stdout",
     "output_type": "stream",
     "text": [
      "epoch: 1/100, loss = 0.098612\n",
      "epoch: 2/100, loss = 0.094864\n",
      "epoch: 3/100, loss = 0.091407\n",
      "epoch: 4/100, loss = 0.088339\n",
      "epoch: 5/100, loss = 0.085565\n",
      "epoch: 6/100, loss = 0.083068\n",
      "epoch: 7/100, loss = 0.080904\n",
      "epoch: 8/100, loss = 0.078959\n",
      "epoch: 9/100, loss = 0.077272\n",
      "epoch: 10/100, loss = 0.075813\n",
      "epoch: 11/100, loss = 0.074563\n",
      "epoch: 12/100, loss = 0.073421\n",
      "epoch: 13/100, loss = 0.072487\n",
      "epoch: 14/100, loss = 0.071674\n",
      "epoch: 15/100, loss = 0.070974\n",
      "epoch: 16/100, loss = 0.070347\n",
      "epoch: 17/100, loss = 0.069903\n",
      "epoch: 18/100, loss = 0.069470\n",
      "epoch: 19/100, loss = 0.069092\n",
      "epoch: 20/100, loss = 0.068812\n",
      "epoch: 21/100, loss = 0.068552\n",
      "epoch: 22/100, loss = 0.068382\n",
      "epoch: 23/100, loss = 0.068183\n",
      "epoch: 24/100, loss = 0.068071\n",
      "epoch: 25/100, loss = 0.067944\n",
      "epoch: 26/100, loss = 0.067855\n",
      "epoch: 27/100, loss = 0.067769\n",
      "epoch: 28/100, loss = 0.067715\n",
      "epoch: 29/100, loss = 0.067637\n",
      "epoch: 30/100, loss = 0.067596\n",
      "epoch: 31/100, loss = 0.067557\n",
      "epoch: 32/100, loss = 0.067524\n",
      "epoch: 33/100, loss = 0.067516\n",
      "epoch: 34/100, loss = 0.067483\n",
      "epoch: 35/100, loss = 0.067478\n",
      "epoch: 36/100, loss = 0.067464\n",
      "epoch: 37/100, loss = 0.067439\n",
      "epoch: 38/100, loss = 0.067424\n",
      "epoch: 39/100, loss = 0.067419\n",
      "epoch: 40/100, loss = 0.067412\n",
      "epoch: 41/100, loss = 0.067439\n",
      "epoch: 42/100, loss = 0.067405\n",
      "epoch: 43/100, loss = 0.067420\n",
      "epoch: 44/100, loss = 0.067429\n",
      "epoch: 45/100, loss = 0.067387\n",
      "epoch: 46/100, loss = 0.067395\n",
      "epoch: 47/100, loss = 0.067391\n",
      "epoch: 48/100, loss = 0.067391\n",
      "epoch: 49/100, loss = 0.067379\n",
      "epoch: 50/100, loss = 0.067380\n",
      "epoch: 51/100, loss = 0.067363\n",
      "epoch: 52/100, loss = 0.067360\n",
      "epoch: 53/100, loss = 0.067362\n",
      "epoch: 54/100, loss = 0.067357\n",
      "epoch: 55/100, loss = 0.067338\n",
      "epoch: 56/100, loss = 0.067349\n",
      "epoch: 57/100, loss = 0.067335\n",
      "epoch: 58/100, loss = 0.067334\n",
      "epoch: 59/100, loss = 0.067339\n",
      "epoch: 60/100, loss = 0.067333\n",
      "epoch: 61/100, loss = 0.067338\n",
      "epoch: 62/100, loss = 0.067336\n",
      "epoch: 63/100, loss = 0.067307\n",
      "epoch: 64/100, loss = 0.067324\n",
      "epoch: 65/100, loss = 0.067320\n",
      "epoch: 66/100, loss = 0.067317\n",
      "epoch: 67/100, loss = 0.067293\n",
      "epoch: 68/100, loss = 0.067312\n",
      "epoch: 69/100, loss = 0.067298\n",
      "epoch: 70/100, loss = 0.067301\n",
      "epoch: 71/100, loss = 0.067289\n",
      "epoch: 72/100, loss = 0.067265\n",
      "epoch: 73/100, loss = 0.067252\n",
      "epoch: 74/100, loss = 0.067271\n",
      "epoch: 75/100, loss = 0.067294\n",
      "epoch: 76/100, loss = 0.067243\n",
      "epoch: 77/100, loss = 0.067265\n",
      "epoch: 78/100, loss = 0.067233\n",
      "epoch: 79/100, loss = 0.067231\n",
      "epoch: 80/100, loss = 0.067230\n",
      "epoch: 81/100, loss = 0.067211\n",
      "epoch: 82/100, loss = 0.067219\n",
      "epoch: 83/100, loss = 0.067187\n",
      "epoch: 84/100, loss = 0.067196\n",
      "epoch: 85/100, loss = 0.067176\n",
      "epoch: 86/100, loss = 0.067174\n",
      "epoch: 87/100, loss = 0.067161\n",
      "epoch: 88/100, loss = 0.067144\n",
      "epoch: 89/100, loss = 0.067139\n",
      "epoch: 90/100, loss = 0.067136\n",
      "epoch: 91/100, loss = 0.067127\n",
      "epoch: 92/100, loss = 0.067098\n",
      "epoch: 93/100, loss = 0.067096\n",
      "epoch: 94/100, loss = 0.067077\n",
      "epoch: 95/100, loss = 0.067062\n",
      "epoch: 96/100, loss = 0.067080\n",
      "epoch: 97/100, loss = 0.067034\n",
      "epoch: 98/100, loss = 0.067002\n",
      "epoch: 99/100, loss = 0.067008\n",
      "epoch: 100/100, loss = 0.066995\n"
     ]
    }
   ],
   "source": [
    "class MixedTypeClusteringModel(nn.Module):\n",
    "    def __init__(self):\n",
    "        super().__init__()\n",
    "        self.encoder = torch.nn.Sequential(\n",
    "            torch.nn.Linear(13, 10),\n",
    "            torch.nn.Sigmoid(),\n",
    "            torch.nn.Linear(10, 7),\n",
    "            torch.nn.Sigmoid(),\n",
    "        )\n",
    "        self.decoder = torch.nn.Sequential(\n",
    "            torch.nn.Linear(7, 10),\n",
    "            torch.nn.Sigmoid(),\n",
    "            torch.nn.Linear(10, 13),\n",
    "            torch.nn.Sigmoid()\n",
    "        )\n",
    "\n",
    "\n",
    "    def forward(self, x):\n",
    "        encoded = self.encoder(x)\n",
    "        decoded = self.decoder(encoded)\n",
    "        return decoded\n",
    "\n",
    "\n",
    "epochs = 100\n",
    "lr = 0.001\n",
    "\n",
    "model = MixedTypeClusteringModel()\n",
    "\n",
    "criterion = nn.MSELoss()\n",
    "optimizer = torch.optim.Adam(model.parameters(), lr=lr)\n",
    "\n",
    "for epoch in range(epochs):\n",
    "    model.train()\n",
    "    loss = 0\n",
    "\n",
    "    for x in dataloader:\n",
    "        optimizer.zero_grad()\n",
    "        outputs = model(x)\n",
    "        train_loss = criterion(outputs,  x)\n",
    "        train_loss.backward()\n",
    "        optimizer.step()\n",
    "        loss += train_loss.item()\n",
    "\n",
    "    loss = loss / len(dataloader)\n",
    "    print(\"epoch: {}/{}, loss = {:.6f}\".format(epoch + 1, epochs, loss))"
   ]
  },
  {
   "cell_type": "code",
   "execution_count": 274,
   "metadata": {
    "collapsed": false,
    "ExecuteTime": {
     "end_time": "2023-06-19T16:28:36.885315Z",
     "start_time": "2023-06-19T16:28:36.879084500Z"
    }
   },
   "outputs": [
    {
     "data": {
      "text/plain": "array([[0.4713189 , 0.29803056, 0.59656966, ..., 0.6355037 , 0.67216265,\n        0.6367057 ],\n       [0.6291724 , 0.61243176, 0.75167215, ..., 0.71006423, 0.70599765,\n        0.74522585],\n       [0.65096515, 0.64482576, 0.7707643 , ..., 0.7344547 , 0.7220793 ,\n        0.7579216 ],\n       ...,\n       [0.67673606, 0.6157858 , 0.7634119 , ..., 0.75283396, 0.74586445,\n        0.73613477],\n       [0.64057565, 0.6349557 , 0.74803025, ..., 0.7275955 , 0.7060832 ,\n        0.7374441 ],\n       [0.7143505 , 0.7162428 , 0.80405056, ..., 0.78806376, 0.7606204 ,\n        0.77459884]], dtype=float32)"
     },
     "execution_count": 274,
     "metadata": {},
     "output_type": "execute_result"
    }
   ],
   "source": [
    "features = model.encoder(torch.tensor(df.values, dtype=torch.float)).detach().numpy()\n",
    "features"
   ]
  },
  {
   "cell_type": "code",
   "execution_count": 275,
   "metadata": {
    "collapsed": false,
    "ExecuteTime": {
     "end_time": "2023-06-19T16:28:36.895547200Z",
     "start_time": "2023-06-19T16:28:36.887341300Z"
    }
   },
   "outputs": [],
   "source": [
    "def cluster_accuracy(y_pred, y_true):\n",
    "    # We need to map the labels to our cluster labels\n",
    "    # This is a linear assignment problem on a bipartite graph\n",
    "    k = max(len(np.unique(y_pred)), len(np.unique(y_pred)))\n",
    "    cost_matrix = np.zeros((k, k))\n",
    "    for i in range(y_pred.size):\n",
    "        cost_matrix[y_pred[i], y_true[i]] += 1\n",
    "    row_ind, col_ind = linear_sum_assignment(cost_matrix.max() - cost_matrix)\n",
    "    return cost_matrix[row_ind, col_ind].sum() / y_pred.size"
   ]
  },
  {
   "cell_type": "code",
   "execution_count": 276,
   "metadata": {
    "collapsed": false,
    "ExecuteTime": {
     "end_time": "2023-06-19T16:28:36.923517900Z",
     "start_time": "2023-06-19T16:28:36.896549Z"
    }
   },
   "outputs": [
    {
     "data": {
      "text/plain": "0.27728983688833125"
     },
     "execution_count": 276,
     "metadata": {},
     "output_type": "execute_result"
    }
   ],
   "source": [
    "autoencoder_kmeans = KMeans(n_clusters=5, n_init=\"auto\", random_state=0).fit(features)\n",
    "autoencoder_acc = cluster_accuracy(autoencoder_kmeans.labels_, og_df[\"num\"].to_numpy())\n",
    "autoencoder_acc"
   ]
  },
  {
   "cell_type": "code",
   "execution_count": 277,
   "metadata": {
    "collapsed": false,
    "ExecuteTime": {
     "end_time": "2023-06-19T16:28:36.926068Z",
     "start_time": "2023-06-19T16:28:36.921518400Z"
    }
   },
   "outputs": [],
   "source": [
    "def encode_feature(df, feature_to_encode):\n",
    "    dummies = pd.get_dummies(df[[feature_to_encode]])\n",
    "    result_df = pd.concat([df, dummies], axis=1)\n",
    "    result_df.drop(columns=feature_to_encode, inplace=True)\n",
    "    return result_df"
   ]
  },
  {
   "cell_type": "code",
   "execution_count": 278,
   "metadata": {
    "collapsed": false,
    "ExecuteTime": {
     "end_time": "2023-06-19T16:28:36.977169500Z",
     "start_time": "2023-06-19T16:28:36.927586600Z"
    }
   },
   "outputs": [
    {
     "data": {
      "text/plain": "     age    trestbps   chol      thalch   oldpeak        ca  sex_Female   \n0     63  145.000000  233.0  150.000000  2.300000  0.000000           0  \\\n1     67  160.000000  286.0  108.000000  1.500000  3.000000           0   \n2     67  120.000000  229.0  129.000000  2.600000  2.000000           0   \n3     37  130.000000  250.0  187.000000  3.500000  0.000000           0   \n4     41  130.000000  204.0  172.000000  1.400000  0.000000           1   \n..   ...         ...    ...         ...       ...       ...         ...   \n914   46  134.000000  310.0  126.000000  0.000000  0.737452           0   \n915   54  127.000000  333.0  154.000000  0.000000  0.737452           1   \n917   55  122.000000  223.0  100.000000  0.000000  0.737452           0   \n918   58  132.784367  385.0  135.965147  0.947297  0.737452           0   \n919   62  120.000000  254.0   93.000000  0.000000  0.737452           0   \n\n     sex_Male  cp_asymptomatic  cp_atypical angina  ...  restecg_normal   \n0           1                0                   0  ...               0  \\\n1           1                1                   0  ...               0   \n2           1                1                   0  ...               0   \n3           1                0                   0  ...               1   \n4           0                0                   1  ...               0   \n..        ...              ...                 ...  ...             ...   \n914         1                1                   0  ...               1   \n915         0                1                   0  ...               0   \n917         1                1                   0  ...               0   \n918         1                1                   0  ...               0   \n919         1                0                   1  ...               0   \n\n     restecg_st-t abnormality  exang_False  exang_True  slope_downsloping   \n0                           0            1           0                  1  \\\n1                           0            0           1                  0   \n2                           0            0           1                  0   \n3                           0            1           0                  1   \n4                           0            1           0                  0   \n..                        ...          ...         ...                ...   \n914                         0            1           0                  0   \n915                         1            1           0                  0   \n917                         1            1           0                  0   \n918                         0            0           0                  0   \n919                         0            0           1                  0   \n\n     slope_flat  slope_upsloping  thal_fixed defect  thal_normal   \n0             0                0                  1            0  \\\n1             1                0                  0            1   \n2             1                0                  0            0   \n3             0                0                  0            1   \n4             0                1                  0            1   \n..          ...              ...                ...          ...   \n914           0                0                  0            1   \n915           0                0                  0            0   \n917           0                0                  1            0   \n918           0                0                  0            0   \n919           0                0                  0            0   \n\n     thal_reversable defect  \n0                         0  \n1                         0  \n2                         1  \n3                         0  \n4                         0  \n..                      ...  \n914                       0  \n915                       0  \n917                       0  \n918                       0  \n919                       0  \n\n[797 rows x 25 columns]",
      "text/html": "<div>\n<style scoped>\n    .dataframe tbody tr th:only-of-type {\n        vertical-align: middle;\n    }\n\n    .dataframe tbody tr th {\n        vertical-align: top;\n    }\n\n    .dataframe thead th {\n        text-align: right;\n    }\n</style>\n<table border=\"1\" class=\"dataframe\">\n  <thead>\n    <tr style=\"text-align: right;\">\n      <th></th>\n      <th>age</th>\n      <th>trestbps</th>\n      <th>chol</th>\n      <th>thalch</th>\n      <th>oldpeak</th>\n      <th>ca</th>\n      <th>sex_Female</th>\n      <th>sex_Male</th>\n      <th>cp_asymptomatic</th>\n      <th>cp_atypical angina</th>\n      <th>...</th>\n      <th>restecg_normal</th>\n      <th>restecg_st-t abnormality</th>\n      <th>exang_False</th>\n      <th>exang_True</th>\n      <th>slope_downsloping</th>\n      <th>slope_flat</th>\n      <th>slope_upsloping</th>\n      <th>thal_fixed defect</th>\n      <th>thal_normal</th>\n      <th>thal_reversable defect</th>\n    </tr>\n  </thead>\n  <tbody>\n    <tr>\n      <th>0</th>\n      <td>63</td>\n      <td>145.000000</td>\n      <td>233.0</td>\n      <td>150.000000</td>\n      <td>2.300000</td>\n      <td>0.000000</td>\n      <td>0</td>\n      <td>1</td>\n      <td>0</td>\n      <td>0</td>\n      <td>...</td>\n      <td>0</td>\n      <td>0</td>\n      <td>1</td>\n      <td>0</td>\n      <td>1</td>\n      <td>0</td>\n      <td>0</td>\n      <td>1</td>\n      <td>0</td>\n      <td>0</td>\n    </tr>\n    <tr>\n      <th>1</th>\n      <td>67</td>\n      <td>160.000000</td>\n      <td>286.0</td>\n      <td>108.000000</td>\n      <td>1.500000</td>\n      <td>3.000000</td>\n      <td>0</td>\n      <td>1</td>\n      <td>1</td>\n      <td>0</td>\n      <td>...</td>\n      <td>0</td>\n      <td>0</td>\n      <td>0</td>\n      <td>1</td>\n      <td>0</td>\n      <td>1</td>\n      <td>0</td>\n      <td>0</td>\n      <td>1</td>\n      <td>0</td>\n    </tr>\n    <tr>\n      <th>2</th>\n      <td>67</td>\n      <td>120.000000</td>\n      <td>229.0</td>\n      <td>129.000000</td>\n      <td>2.600000</td>\n      <td>2.000000</td>\n      <td>0</td>\n      <td>1</td>\n      <td>1</td>\n      <td>0</td>\n      <td>...</td>\n      <td>0</td>\n      <td>0</td>\n      <td>0</td>\n      <td>1</td>\n      <td>0</td>\n      <td>1</td>\n      <td>0</td>\n      <td>0</td>\n      <td>0</td>\n      <td>1</td>\n    </tr>\n    <tr>\n      <th>3</th>\n      <td>37</td>\n      <td>130.000000</td>\n      <td>250.0</td>\n      <td>187.000000</td>\n      <td>3.500000</td>\n      <td>0.000000</td>\n      <td>0</td>\n      <td>1</td>\n      <td>0</td>\n      <td>0</td>\n      <td>...</td>\n      <td>1</td>\n      <td>0</td>\n      <td>1</td>\n      <td>0</td>\n      <td>1</td>\n      <td>0</td>\n      <td>0</td>\n      <td>0</td>\n      <td>1</td>\n      <td>0</td>\n    </tr>\n    <tr>\n      <th>4</th>\n      <td>41</td>\n      <td>130.000000</td>\n      <td>204.0</td>\n      <td>172.000000</td>\n      <td>1.400000</td>\n      <td>0.000000</td>\n      <td>1</td>\n      <td>0</td>\n      <td>0</td>\n      <td>1</td>\n      <td>...</td>\n      <td>0</td>\n      <td>0</td>\n      <td>1</td>\n      <td>0</td>\n      <td>0</td>\n      <td>0</td>\n      <td>1</td>\n      <td>0</td>\n      <td>1</td>\n      <td>0</td>\n    </tr>\n    <tr>\n      <th>...</th>\n      <td>...</td>\n      <td>...</td>\n      <td>...</td>\n      <td>...</td>\n      <td>...</td>\n      <td>...</td>\n      <td>...</td>\n      <td>...</td>\n      <td>...</td>\n      <td>...</td>\n      <td>...</td>\n      <td>...</td>\n      <td>...</td>\n      <td>...</td>\n      <td>...</td>\n      <td>...</td>\n      <td>...</td>\n      <td>...</td>\n      <td>...</td>\n      <td>...</td>\n      <td>...</td>\n    </tr>\n    <tr>\n      <th>914</th>\n      <td>46</td>\n      <td>134.000000</td>\n      <td>310.0</td>\n      <td>126.000000</td>\n      <td>0.000000</td>\n      <td>0.737452</td>\n      <td>0</td>\n      <td>1</td>\n      <td>1</td>\n      <td>0</td>\n      <td>...</td>\n      <td>1</td>\n      <td>0</td>\n      <td>1</td>\n      <td>0</td>\n      <td>0</td>\n      <td>0</td>\n      <td>0</td>\n      <td>0</td>\n      <td>1</td>\n      <td>0</td>\n    </tr>\n    <tr>\n      <th>915</th>\n      <td>54</td>\n      <td>127.000000</td>\n      <td>333.0</td>\n      <td>154.000000</td>\n      <td>0.000000</td>\n      <td>0.737452</td>\n      <td>1</td>\n      <td>0</td>\n      <td>1</td>\n      <td>0</td>\n      <td>...</td>\n      <td>0</td>\n      <td>1</td>\n      <td>1</td>\n      <td>0</td>\n      <td>0</td>\n      <td>0</td>\n      <td>0</td>\n      <td>0</td>\n      <td>0</td>\n      <td>0</td>\n    </tr>\n    <tr>\n      <th>917</th>\n      <td>55</td>\n      <td>122.000000</td>\n      <td>223.0</td>\n      <td>100.000000</td>\n      <td>0.000000</td>\n      <td>0.737452</td>\n      <td>0</td>\n      <td>1</td>\n      <td>1</td>\n      <td>0</td>\n      <td>...</td>\n      <td>0</td>\n      <td>1</td>\n      <td>1</td>\n      <td>0</td>\n      <td>0</td>\n      <td>0</td>\n      <td>0</td>\n      <td>1</td>\n      <td>0</td>\n      <td>0</td>\n    </tr>\n    <tr>\n      <th>918</th>\n      <td>58</td>\n      <td>132.784367</td>\n      <td>385.0</td>\n      <td>135.965147</td>\n      <td>0.947297</td>\n      <td>0.737452</td>\n      <td>0</td>\n      <td>1</td>\n      <td>1</td>\n      <td>0</td>\n      <td>...</td>\n      <td>0</td>\n      <td>0</td>\n      <td>0</td>\n      <td>0</td>\n      <td>0</td>\n      <td>0</td>\n      <td>0</td>\n      <td>0</td>\n      <td>0</td>\n      <td>0</td>\n    </tr>\n    <tr>\n      <th>919</th>\n      <td>62</td>\n      <td>120.000000</td>\n      <td>254.0</td>\n      <td>93.000000</td>\n      <td>0.000000</td>\n      <td>0.737452</td>\n      <td>0</td>\n      <td>1</td>\n      <td>0</td>\n      <td>1</td>\n      <td>...</td>\n      <td>0</td>\n      <td>0</td>\n      <td>0</td>\n      <td>1</td>\n      <td>0</td>\n      <td>0</td>\n      <td>0</td>\n      <td>0</td>\n      <td>0</td>\n      <td>0</td>\n    </tr>\n  </tbody>\n</table>\n<p>797 rows × 25 columns</p>\n</div>"
     },
     "execution_count": 278,
     "metadata": {},
     "output_type": "execute_result"
    }
   ],
   "source": [
    "df_one_hot = og_df.copy()\n",
    "df_one_hot.drop(columns=\"num\", inplace=True)\n",
    "\n",
    "for col in categorial_columns:\n",
    "    df_one_hot = encode_feature(df_one_hot, col)\n",
    "df_one_hot.loc[:, ~df_one_hot.columns.isin(cont_columns)] = df_one_hot.loc[:, ~df_one_hot.columns.isin(cont_columns)].apply(LabelEncoder().fit_transform)\n",
    "df_one_hot = df_one_hot.fillna(df_one_hot.mean())\n",
    "df_one_hot"
   ]
  },
  {
   "cell_type": "code",
   "execution_count": 279,
   "metadata": {
    "collapsed": false,
    "ExecuteTime": {
     "end_time": "2023-06-19T16:28:36.994386600Z",
     "start_time": "2023-06-19T16:28:36.978171400Z"
    }
   },
   "outputs": [
    {
     "data": {
      "text/plain": "0.3212045169385194"
     },
     "execution_count": 279,
     "metadata": {},
     "output_type": "execute_result"
    }
   ],
   "source": [
    "classic_one_hot_kmeans = KMeans(n_clusters=5, n_init=\"auto\", random_state=0).fit(df_one_hot)\n",
    "classic_one_hot_acc = cluster_accuracy(classic_one_hot_kmeans.labels_, og_df[\"num\"].to_numpy())\n",
    "classic_one_hot_acc"
   ]
  },
  {
   "cell_type": "code",
   "execution_count": 280,
   "metadata": {
    "collapsed": false,
    "ExecuteTime": {
     "end_time": "2023-06-19T16:28:37.003093300Z",
     "start_time": "2023-06-19T16:28:36.997386Z"
    }
   },
   "outputs": [
    {
     "data": {
      "text/plain": "797"
     },
     "execution_count": 280,
     "metadata": {},
     "output_type": "execute_result"
    }
   ],
   "source": [
    "one_hot_dataset = HeartDiseaseDataset(df_one_hot)\n",
    "one_hot_dataloader = DataLoader(one_hot_dataset, batch_size=100, shuffle=True)\n",
    "len(one_hot_dataset)"
   ]
  },
  {
   "cell_type": "code",
   "execution_count": 281,
   "metadata": {
    "ExecuteTime": {
     "end_time": "2023-06-19T16:28:37.658159400Z",
     "start_time": "2023-06-19T16:28:37.007095Z"
    }
   },
   "outputs": [
    {
     "name": "stdout",
     "output_type": "stream",
     "text": [
      "epoch: 1/100, loss = 3605.605865\n",
      "epoch: 2/100, loss = 3605.329834\n",
      "epoch: 3/100, loss = 3605.631378\n",
      "epoch: 4/100, loss = 3606.084595\n",
      "epoch: 5/100, loss = 3606.034424\n",
      "epoch: 6/100, loss = 3605.661835\n",
      "epoch: 7/100, loss = 3606.110718\n",
      "epoch: 8/100, loss = 3606.574829\n",
      "epoch: 9/100, loss = 3605.508484\n",
      "epoch: 10/100, loss = 3605.243744\n",
      "epoch: 11/100, loss = 3605.396210\n",
      "epoch: 12/100, loss = 3606.119995\n",
      "epoch: 13/100, loss = 3605.160065\n",
      "epoch: 14/100, loss = 3606.717682\n",
      "epoch: 15/100, loss = 3604.892731\n",
      "epoch: 16/100, loss = 3605.514618\n",
      "epoch: 17/100, loss = 3605.757874\n",
      "epoch: 18/100, loss = 3605.231720\n",
      "epoch: 19/100, loss = 3605.142975\n",
      "epoch: 20/100, loss = 3605.568939\n",
      "epoch: 21/100, loss = 3604.393311\n",
      "epoch: 22/100, loss = 3604.985809\n",
      "epoch: 23/100, loss = 3605.339447\n",
      "epoch: 24/100, loss = 3604.686340\n",
      "epoch: 25/100, loss = 3606.357391\n",
      "epoch: 26/100, loss = 3605.285583\n",
      "epoch: 27/100, loss = 3605.327728\n",
      "epoch: 28/100, loss = 3605.530548\n",
      "epoch: 29/100, loss = 3605.497742\n",
      "epoch: 30/100, loss = 3606.115753\n",
      "epoch: 31/100, loss = 3605.489288\n",
      "epoch: 32/100, loss = 3605.488342\n",
      "epoch: 33/100, loss = 3606.102844\n",
      "epoch: 34/100, loss = 3606.073975\n",
      "epoch: 35/100, loss = 3606.364441\n",
      "epoch: 36/100, loss = 3604.859589\n",
      "epoch: 37/100, loss = 3605.747406\n",
      "epoch: 38/100, loss = 3605.041656\n",
      "epoch: 39/100, loss = 3605.715698\n",
      "epoch: 40/100, loss = 3605.217651\n",
      "epoch: 41/100, loss = 3606.528839\n",
      "epoch: 42/100, loss = 3605.267059\n",
      "epoch: 43/100, loss = 3604.873657\n",
      "epoch: 44/100, loss = 3605.272980\n",
      "epoch: 45/100, loss = 3605.559814\n",
      "epoch: 46/100, loss = 3604.533295\n",
      "epoch: 47/100, loss = 3604.790253\n",
      "epoch: 48/100, loss = 3606.325989\n",
      "epoch: 49/100, loss = 3606.707672\n",
      "epoch: 50/100, loss = 3604.645416\n",
      "epoch: 51/100, loss = 3605.566315\n",
      "epoch: 52/100, loss = 3605.033966\n",
      "epoch: 53/100, loss = 3606.471985\n",
      "epoch: 54/100, loss = 3605.646790\n",
      "epoch: 55/100, loss = 3605.757751\n",
      "epoch: 56/100, loss = 3605.101929\n",
      "epoch: 57/100, loss = 3605.574341\n",
      "epoch: 58/100, loss = 3606.091064\n",
      "epoch: 59/100, loss = 3605.088196\n",
      "epoch: 60/100, loss = 3604.927887\n",
      "epoch: 61/100, loss = 3605.871735\n",
      "epoch: 62/100, loss = 3606.557251\n",
      "epoch: 63/100, loss = 3606.646362\n",
      "epoch: 64/100, loss = 3604.667633\n",
      "epoch: 65/100, loss = 3606.015015\n",
      "epoch: 66/100, loss = 3606.258118\n",
      "epoch: 67/100, loss = 3605.710663\n",
      "epoch: 68/100, loss = 3606.048553\n",
      "epoch: 69/100, loss = 3606.082672\n",
      "epoch: 70/100, loss = 3605.501404\n",
      "epoch: 71/100, loss = 3605.858093\n",
      "epoch: 72/100, loss = 3606.309570\n",
      "epoch: 73/100, loss = 3605.014862\n",
      "epoch: 74/100, loss = 3606.097198\n",
      "epoch: 75/100, loss = 3605.848785\n",
      "epoch: 76/100, loss = 3606.794525\n",
      "epoch: 77/100, loss = 3605.100677\n",
      "epoch: 78/100, loss = 3606.414734\n",
      "epoch: 79/100, loss = 3605.746399\n",
      "epoch: 80/100, loss = 3605.146027\n",
      "epoch: 81/100, loss = 3605.147888\n",
      "epoch: 82/100, loss = 3605.048767\n",
      "epoch: 83/100, loss = 3605.587799\n",
      "epoch: 84/100, loss = 3605.271484\n",
      "epoch: 85/100, loss = 3605.632172\n",
      "epoch: 86/100, loss = 3605.463409\n",
      "epoch: 87/100, loss = 3605.137787\n",
      "epoch: 88/100, loss = 3606.422546\n",
      "epoch: 89/100, loss = 3604.857849\n",
      "epoch: 90/100, loss = 3606.053711\n",
      "epoch: 91/100, loss = 3605.238251\n",
      "epoch: 92/100, loss = 3606.552063\n",
      "epoch: 93/100, loss = 3605.454834\n",
      "epoch: 94/100, loss = 3604.735809\n",
      "epoch: 95/100, loss = 3605.452698\n",
      "epoch: 96/100, loss = 3605.846039\n",
      "epoch: 97/100, loss = 3604.809113\n",
      "epoch: 98/100, loss = 3605.863831\n",
      "epoch: 99/100, loss = 3606.301300\n",
      "epoch: 100/100, loss = 3606.347137\n"
     ]
    }
   ],
   "source": [
    "class OneHotMixedTypeClusteringModel(nn.Module):\n",
    "    def __init__(self):\n",
    "        super().__init__()\n",
    "        self.encoder = torch.nn.Sequential(\n",
    "            torch.nn.Linear(25, 18),\n",
    "            torch.nn.Sigmoid(),\n",
    "            torch.nn.Linear(18, 12),\n",
    "            torch.nn.Sigmoid(),\n",
    "        )\n",
    "        self.decoder = torch.nn.Sequential(\n",
    "            torch.nn.Linear(12, 18),\n",
    "            torch.nn.Sigmoid(),\n",
    "            torch.nn.Linear(18, 25),\n",
    "            torch.nn.Sigmoid()\n",
    "        )\n",
    "\n",
    "\n",
    "    def forward(self, x):\n",
    "        encoded = self.encoder(x)\n",
    "        decoded = self.decoder(encoded)\n",
    "        return decoded\n",
    "\n",
    "\n",
    "epochs = 100\n",
    "lr = 0.001\n",
    "\n",
    "one_hot_model = OneHotMixedTypeClusteringModel()\n",
    "\n",
    "criterion = nn.MSELoss()\n",
    "optimizer = torch.optim.Adam(model.parameters(), lr=lr)\n",
    "\n",
    "for epoch in range(epochs):\n",
    "    model.train()\n",
    "    loss = 0\n",
    "\n",
    "    for x in one_hot_dataloader:\n",
    "        optimizer.zero_grad()\n",
    "        outputs = one_hot_model(x)\n",
    "        train_loss = criterion(outputs,  x)\n",
    "        train_loss.backward()\n",
    "        optimizer.step()\n",
    "        loss += train_loss.item()\n",
    "\n",
    "    loss = loss / len(dataloader)\n",
    "    print(\"epoch: {}/{}, loss = {:.6f}\".format(epoch + 1, epochs, loss))"
   ]
  },
  {
   "cell_type": "code",
   "execution_count": 282,
   "metadata": {
    "ExecuteTime": {
     "end_time": "2023-06-19T16:28:37.673739200Z",
     "start_time": "2023-06-19T16:28:37.659158300Z"
    }
   },
   "outputs": [
    {
     "data": {
      "text/plain": "0.3312421580928482"
     },
     "execution_count": 282,
     "metadata": {},
     "output_type": "execute_result"
    }
   ],
   "source": [
    "one_hot_features = one_hot_model.encoder(torch.tensor(df_one_hot.values, dtype=torch.float)).detach().numpy()\n",
    "one_hot_autoencoder_kmeans = KMeans(n_clusters=5, n_init=\"auto\", random_state=0).fit(one_hot_features)\n",
    "one_hot_autoencoder_acc = cluster_accuracy(one_hot_autoencoder_kmeans.labels_, og_df[\"num\"].to_numpy())\n",
    "one_hot_autoencoder_acc"
   ]
  },
  {
   "cell_type": "code",
   "execution_count": 283,
   "outputs": [
    {
     "data": {
      "text/plain": "array([1, 0, 0, 4, 2, 1, 0, 2, 1, 0, 2, 1, 1, 4, 4, 1, 3, 1, 1, 2, 2, 1,\n       0, 2, 2, 0, 0, 4, 4, 3, 0, 0, 0, 4, 0, 4, 4, 2, 1, 4, 1, 2, 1, 2,\n       1, 3, 0, 0, 1, 2, 0, 4, 0, 0, 1, 1, 0, 1, 4, 0, 0, 1, 1, 2, 0, 2,\n       2, 0, 1, 2, 1, 1, 1, 2, 2, 2, 0, 2, 2, 3, 0, 0, 1, 1, 1, 1, 2, 2,\n       1, 3, 1, 0, 0, 0, 0, 1, 0, 0, 4, 2, 0, 1, 0, 0, 0, 0, 1, 0, 0, 1,\n       2, 1, 4, 1, 2, 2, 0, 1, 0, 1, 1, 4, 1, 1, 4, 0, 4, 1, 4, 1, 1, 0,\n       0, 0, 3, 1, 1, 0, 2, 2, 4, 3, 4, 2, 0, 1, 0, 2, 2, 0, 0, 0, 4, 1,\n       0, 1, 2, 2, 4, 0, 1, 1, 4, 0, 0, 2, 2, 0, 1, 2, 1, 2, 2, 4, 4, 3,\n       0, 0, 0, 2, 0, 1, 0, 3, 1, 2, 2, 1, 2, 4, 0, 2, 4, 0, 0, 0, 0, 2,\n       4, 0, 0, 1, 2, 2, 2, 2, 4, 3, 3, 0, 3, 4, 0, 0, 2, 2, 1, 1, 2, 2,\n       4, 0, 0, 0, 4, 3, 0, 1, 0, 2, 1, 2, 2, 1, 0, 4, 0, 1, 3, 0, 0, 1,\n       0, 0, 2, 1, 0, 2, 0, 0, 0, 2, 4, 1, 1, 2, 2, 2, 1, 1, 4, 2, 3, 2,\n       2, 1, 1, 4, 2, 3, 2, 1, 4, 2, 3, 0, 1, 1, 4, 3, 3, 4, 4, 4, 2, 2,\n       2, 1, 2, 1, 1, 1, 0, 4, 3, 2, 2, 2, 2, 4, 2, 1, 1, 2, 2, 4, 4, 3,\n       3, 2, 4, 4, 3, 2, 1, 1, 2, 2, 4, 2, 2, 1, 1, 4, 2, 2, 2, 2, 1, 4,\n       3, 2, 1, 1, 3, 2, 4, 4, 4, 1, 1, 3, 2, 2, 4, 1, 2, 4, 4, 1, 3, 3,\n       2, 2, 2, 2, 1, 1, 1, 3, 1, 4, 1, 3, 2, 4, 1, 4, 1, 3, 0, 1, 3, 2,\n       4, 1, 1, 4, 3, 2, 1, 1, 3, 1, 0, 2, 0, 2, 1, 1, 1, 0, 3, 3, 0, 0,\n       3, 0, 0, 0, 3, 0, 0, 0, 4, 0, 0, 1, 4, 3, 4, 3, 2, 0, 3, 0, 0, 0,\n       3, 0, 0, 3, 0, 3, 0, 3, 2, 1, 0, 0, 3, 3, 0, 0, 0, 0, 3, 0, 0, 4,\n       0, 0, 0, 0, 0, 0, 0, 3, 0, 3, 0, 0, 0, 1, 4, 2, 0, 0, 1, 0, 0, 0,\n       0, 1, 0, 0, 1, 0, 0, 2, 0, 0, 0, 3, 0, 0, 0, 0, 0, 3, 2, 0, 0, 0,\n       0, 0, 0, 0, 0, 0, 4, 0, 3, 3, 3, 0, 2, 2, 1, 3, 3, 3, 3, 3, 0, 3,\n       0, 0, 1, 3, 0, 3, 1, 3, 0, 3, 2, 0, 0, 0, 2, 3, 3, 3, 3, 3, 3, 0,\n       0, 3, 3, 3, 3, 0, 1, 0, 3, 0, 0, 0, 0, 3, 3, 3, 0, 0, 0, 1, 3, 0,\n       1, 0, 3, 1, 3, 0, 0, 0, 3, 3, 0, 0, 1, 3, 3, 3, 0, 1, 3, 0, 3, 0,\n       3, 1, 3, 3, 0, 1, 3, 0, 0, 3, 2, 0, 1, 1, 3, 0, 3, 3, 3, 0, 3, 3,\n       2, 2, 3, 0, 3, 3, 2, 0, 1, 0, 3, 3, 0, 0, 0, 1, 1, 3, 0, 3, 3, 1,\n       3, 1, 1, 3, 3, 0, 0, 1, 0, 0, 0, 3, 0, 3, 3, 1, 1, 1, 3, 3, 0, 0,\n       3, 3, 3, 0, 1, 1, 0, 3, 3, 0, 1, 4, 3, 3, 0, 0, 3, 1, 4, 1, 4, 0,\n       4, 3, 0, 0, 3, 4, 0, 0, 0, 1, 0, 3, 3, 0, 0, 3, 3, 0, 4, 0, 1, 3,\n       1, 1, 0, 2, 4, 0, 3, 0, 0, 0, 3, 3, 0, 3, 0, 4, 3, 3, 0, 3, 3, 4,\n       3, 4, 0, 3, 3, 3, 3, 0, 0, 3, 1, 1, 4, 1, 0, 0, 3, 3, 0, 0, 1, 3,\n       3, 0, 1, 3, 1, 2, 3, 4, 3, 3, 3, 3, 0, 1, 3, 1, 3, 3, 0, 3, 3, 3,\n       3, 0, 3, 0, 0, 3, 0, 0, 3, 3, 0, 3, 0, 0, 3, 3, 3, 0, 1, 3, 3, 0,\n       0, 4, 3, 3, 0, 3, 0, 0, 1, 3, 0, 0, 0, 1, 1, 1, 0, 4, 3, 3, 3, 3,\n       3, 3, 3, 3, 1], dtype=int64)"
     },
     "execution_count": 283,
     "metadata": {},
     "output_type": "execute_result"
    }
   ],
   "source": [
    "no_nan_df = og_df.interpolate()\n",
    "distance_matrix = gower.gower_matrix(no_nan_df)\n",
    "gower_agglo = AgglomerativeClustering(n_clusters=5, metric=\"precomputed\", linkage=\"complete\").fit_predict(distance_matrix)\n",
    "gower_agglo"
   ],
   "metadata": {
    "collapsed": false,
    "ExecuteTime": {
     "end_time": "2023-06-19T16:28:38.394917300Z",
     "start_time": "2023-06-19T16:28:37.674737900Z"
    }
   }
  },
  {
   "cell_type": "code",
   "execution_count": 284,
   "outputs": [
    {
     "data": {
      "text/plain": "0.34002509410288584"
     },
     "execution_count": 284,
     "metadata": {},
     "output_type": "execute_result"
    }
   ],
   "source": [
    "gower_agglo_acc = cluster_accuracy(gower_agglo, og_df[\"num\"].to_numpy())\n",
    "gower_agglo_acc"
   ],
   "metadata": {
    "collapsed": false,
    "ExecuteTime": {
     "end_time": "2023-06-19T16:28:38.401523200Z",
     "start_time": "2023-06-19T16:28:38.394917300Z"
    }
   }
  },
  {
   "cell_type": "code",
   "execution_count": 285,
   "outputs": [
    {
     "name": "stdout",
     "output_type": "stream",
     "text": [
      "Naively choose most frequent label: 0.3613550815558344\n",
      "Classic Kmeans with OneHot: 0.3212045169385194\n",
      "Gower Distance Agglomerative: 0.34002509410288584\n",
      "Autoencoder Kmeans: 0.27728983688833125\n",
      "Autoencoder Kmeans and OneHot: 0.3312421580928482\n"
     ]
    }
   ],
   "source": [
    "print(f\"Naively choose most frequent label: {og_df['num'].value_counts().max()/og_df['num'].count()}\")\n",
    "print(f\"Classic Kmeans with OneHot: {classic_one_hot_acc}\")\n",
    "print(f\"Gower Distance Agglomerative: {gower_agglo_acc}\")\n",
    "print(f\"Autoencoder Kmeans: {autoencoder_acc}\")\n",
    "print(f\"Autoencoder Kmeans and OneHot: {one_hot_autoencoder_acc}\")"
   ],
   "metadata": {
    "collapsed": false,
    "ExecuteTime": {
     "end_time": "2023-06-19T16:28:38.408503300Z",
     "start_time": "2023-06-19T16:28:38.402523300Z"
    }
   }
  },
  {
   "cell_type": "code",
   "execution_count": 285,
   "outputs": [],
   "source": [],
   "metadata": {
    "collapsed": false,
    "ExecuteTime": {
     "end_time": "2023-06-19T16:28:38.411244500Z",
     "start_time": "2023-06-19T16:28:38.408503300Z"
    }
   }
  }
 ],
 "metadata": {
  "kernelspec": {
   "display_name": "Python 3",
   "language": "python",
   "name": "python3"
  },
  "language_info": {
   "codemirror_mode": {
    "name": "ipython",
    "version": 3
   },
   "file_extension": ".py",
   "mimetype": "text/x-python",
   "name": "python",
   "nbconvert_exporter": "python",
   "pygments_lexer": "ipython3",
   "version": "3.11.2"
  }
 },
 "nbformat": 4,
 "nbformat_minor": 0
}
