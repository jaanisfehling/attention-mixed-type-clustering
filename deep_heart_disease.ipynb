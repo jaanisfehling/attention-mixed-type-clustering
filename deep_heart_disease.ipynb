{
 "cells": [
  {
   "cell_type": "code",
   "execution_count": 1,
   "metadata": {
    "collapsed": true,
    "ExecuteTime": {
     "end_time": "2023-06-19T16:21:53.368464900Z",
     "start_time": "2023-06-19T16:21:50.033316500Z"
    }
   },
   "outputs": [],
   "source": [
    "import gower\n",
    "import numpy as np\n",
    "import pandas as pd\n",
    "from sklearn.cluster import KMeans, AgglomerativeClustering\n",
    "from sklearn.preprocessing import LabelEncoder, MinMaxScaler\n",
    "from torch.utils.data import Dataset, DataLoader\n",
    "import torch\n",
    "import torch.nn as nn\n",
    "from scipy.optimize import linear_sum_assignment"
   ]
  },
  {
   "cell_type": "code",
   "execution_count": 2,
   "metadata": {
    "collapsed": false,
    "ExecuteTime": {
     "end_time": "2023-06-19T16:21:53.404507300Z",
     "start_time": "2023-06-19T16:21:53.371466400Z"
    }
   },
   "outputs": [
    {
     "data": {
      "text/plain": "     age     sex               cp  trestbps   chol    fbs           restecg   \n0     63    Male   typical angina     145.0  233.0   True    lv hypertrophy  \\\n1     67    Male     asymptomatic     160.0  286.0  False    lv hypertrophy   \n2     67    Male     asymptomatic     120.0  229.0  False    lv hypertrophy   \n3     37    Male      non-anginal     130.0  250.0  False            normal   \n6     62  Female     asymptomatic     140.0  268.0  False    lv hypertrophy   \n..   ...     ...              ...       ...    ...    ...               ...   \n915   54  Female     asymptomatic     127.0  333.0   True  st-t abnormality   \n916   62    Male   typical angina       NaN  139.0  False  st-t abnormality   \n917   55    Male     asymptomatic     122.0  223.0   True  st-t abnormality   \n918   58    Male     asymptomatic       NaN  385.0   True    lv hypertrophy   \n919   62    Male  atypical angina     120.0  254.0  False    lv hypertrophy   \n\n     thalch  exang  oldpeak        slope   ca               thal  num  \n0     150.0  False      2.3  downsloping  0.0       fixed defect    0  \n1     108.0   True      1.5         flat  3.0             normal    2  \n2     129.0   True      2.6         flat  2.0  reversable defect    1  \n3     187.0  False      3.5  downsloping  0.0             normal    0  \n6     160.0  False      3.6  downsloping  2.0             normal    3  \n..      ...    ...      ...          ...  ...                ...  ...  \n915   154.0  False      0.0          NaN  NaN                NaN    1  \n916     NaN    NaN      NaN          NaN  NaN                NaN    0  \n917   100.0  False      0.0          NaN  NaN       fixed defect    2  \n918     NaN    NaN      NaN          NaN  NaN                NaN    0  \n919    93.0   True      0.0          NaN  NaN                NaN    1  \n\n[797 rows x 14 columns]",
      "text/html": "<div>\n<style scoped>\n    .dataframe tbody tr th:only-of-type {\n        vertical-align: middle;\n    }\n\n    .dataframe tbody tr th {\n        vertical-align: top;\n    }\n\n    .dataframe thead th {\n        text-align: right;\n    }\n</style>\n<table border=\"1\" class=\"dataframe\">\n  <thead>\n    <tr style=\"text-align: right;\">\n      <th></th>\n      <th>age</th>\n      <th>sex</th>\n      <th>cp</th>\n      <th>trestbps</th>\n      <th>chol</th>\n      <th>fbs</th>\n      <th>restecg</th>\n      <th>thalch</th>\n      <th>exang</th>\n      <th>oldpeak</th>\n      <th>slope</th>\n      <th>ca</th>\n      <th>thal</th>\n      <th>num</th>\n    </tr>\n  </thead>\n  <tbody>\n    <tr>\n      <th>0</th>\n      <td>63</td>\n      <td>Male</td>\n      <td>typical angina</td>\n      <td>145.0</td>\n      <td>233.0</td>\n      <td>True</td>\n      <td>lv hypertrophy</td>\n      <td>150.0</td>\n      <td>False</td>\n      <td>2.3</td>\n      <td>downsloping</td>\n      <td>0.0</td>\n      <td>fixed defect</td>\n      <td>0</td>\n    </tr>\n    <tr>\n      <th>1</th>\n      <td>67</td>\n      <td>Male</td>\n      <td>asymptomatic</td>\n      <td>160.0</td>\n      <td>286.0</td>\n      <td>False</td>\n      <td>lv hypertrophy</td>\n      <td>108.0</td>\n      <td>True</td>\n      <td>1.5</td>\n      <td>flat</td>\n      <td>3.0</td>\n      <td>normal</td>\n      <td>2</td>\n    </tr>\n    <tr>\n      <th>2</th>\n      <td>67</td>\n      <td>Male</td>\n      <td>asymptomatic</td>\n      <td>120.0</td>\n      <td>229.0</td>\n      <td>False</td>\n      <td>lv hypertrophy</td>\n      <td>129.0</td>\n      <td>True</td>\n      <td>2.6</td>\n      <td>flat</td>\n      <td>2.0</td>\n      <td>reversable defect</td>\n      <td>1</td>\n    </tr>\n    <tr>\n      <th>3</th>\n      <td>37</td>\n      <td>Male</td>\n      <td>non-anginal</td>\n      <td>130.0</td>\n      <td>250.0</td>\n      <td>False</td>\n      <td>normal</td>\n      <td>187.0</td>\n      <td>False</td>\n      <td>3.5</td>\n      <td>downsloping</td>\n      <td>0.0</td>\n      <td>normal</td>\n      <td>0</td>\n    </tr>\n    <tr>\n      <th>6</th>\n      <td>62</td>\n      <td>Female</td>\n      <td>asymptomatic</td>\n      <td>140.0</td>\n      <td>268.0</td>\n      <td>False</td>\n      <td>lv hypertrophy</td>\n      <td>160.0</td>\n      <td>False</td>\n      <td>3.6</td>\n      <td>downsloping</td>\n      <td>2.0</td>\n      <td>normal</td>\n      <td>3</td>\n    </tr>\n    <tr>\n      <th>...</th>\n      <td>...</td>\n      <td>...</td>\n      <td>...</td>\n      <td>...</td>\n      <td>...</td>\n      <td>...</td>\n      <td>...</td>\n      <td>...</td>\n      <td>...</td>\n      <td>...</td>\n      <td>...</td>\n      <td>...</td>\n      <td>...</td>\n      <td>...</td>\n    </tr>\n    <tr>\n      <th>915</th>\n      <td>54</td>\n      <td>Female</td>\n      <td>asymptomatic</td>\n      <td>127.0</td>\n      <td>333.0</td>\n      <td>True</td>\n      <td>st-t abnormality</td>\n      <td>154.0</td>\n      <td>False</td>\n      <td>0.0</td>\n      <td>NaN</td>\n      <td>NaN</td>\n      <td>NaN</td>\n      <td>1</td>\n    </tr>\n    <tr>\n      <th>916</th>\n      <td>62</td>\n      <td>Male</td>\n      <td>typical angina</td>\n      <td>NaN</td>\n      <td>139.0</td>\n      <td>False</td>\n      <td>st-t abnormality</td>\n      <td>NaN</td>\n      <td>NaN</td>\n      <td>NaN</td>\n      <td>NaN</td>\n      <td>NaN</td>\n      <td>NaN</td>\n      <td>0</td>\n    </tr>\n    <tr>\n      <th>917</th>\n      <td>55</td>\n      <td>Male</td>\n      <td>asymptomatic</td>\n      <td>122.0</td>\n      <td>223.0</td>\n      <td>True</td>\n      <td>st-t abnormality</td>\n      <td>100.0</td>\n      <td>False</td>\n      <td>0.0</td>\n      <td>NaN</td>\n      <td>NaN</td>\n      <td>fixed defect</td>\n      <td>2</td>\n    </tr>\n    <tr>\n      <th>918</th>\n      <td>58</td>\n      <td>Male</td>\n      <td>asymptomatic</td>\n      <td>NaN</td>\n      <td>385.0</td>\n      <td>True</td>\n      <td>lv hypertrophy</td>\n      <td>NaN</td>\n      <td>NaN</td>\n      <td>NaN</td>\n      <td>NaN</td>\n      <td>NaN</td>\n      <td>NaN</td>\n      <td>0</td>\n    </tr>\n    <tr>\n      <th>919</th>\n      <td>62</td>\n      <td>Male</td>\n      <td>atypical angina</td>\n      <td>120.0</td>\n      <td>254.0</td>\n      <td>False</td>\n      <td>lv hypertrophy</td>\n      <td>93.0</td>\n      <td>True</td>\n      <td>0.0</td>\n      <td>NaN</td>\n      <td>NaN</td>\n      <td>NaN</td>\n      <td>1</td>\n    </tr>\n  </tbody>\n</table>\n<p>797 rows × 14 columns</p>\n</div>"
     },
     "execution_count": 2,
     "metadata": {},
     "output_type": "execute_result"
    }
   ],
   "source": [
    "og_df = pd.read_csv(\"datasets/heart_disease_uci.csv\")\n",
    "og_df.drop(columns=[\"id\", \"dataset\"], inplace=True)\n",
    "og_df = og_df.drop(og_df[og_df[\"num\"] == 0].sample(frac=0.3).index)\n",
    "og_df"
   ]
  },
  {
   "cell_type": "code",
   "execution_count": 3,
   "metadata": {
    "collapsed": false,
    "ExecuteTime": {
     "end_time": "2023-06-19T16:21:53.411663200Z",
     "start_time": "2023-06-19T16:21:53.406509100Z"
    }
   },
   "outputs": [],
   "source": [
    "categorial_columns = [\"sex\", \"cp\", \"fbs\", \"restecg\", \"exang\", \"slope\", \"thal\"]\n",
    "cont_columns = [\"age\", \"trestbps\", \"chol\", \"thalch\", \"oldpeak\", \"ca\"]"
   ]
  },
  {
   "cell_type": "code",
   "execution_count": 4,
   "metadata": {
    "collapsed": false,
    "ExecuteTime": {
     "end_time": "2023-06-19T16:21:53.500941100Z",
     "start_time": "2023-06-19T16:21:53.412664100Z"
    }
   },
   "outputs": [
    {
     "data": {
      "text/plain": "          age  sex        cp  trestbps      chol  fbs   restecg    thalch   \n0    0.714286  1.0  1.000000  0.725000  0.386401  0.5  0.000000  0.633803  \\\n1    0.795918  1.0  0.000000  0.800000  0.474295  0.0  0.000000  0.338028   \n2    0.795918  1.0  0.000000  0.600000  0.379768  0.0  0.000000  0.485915   \n3    0.183673  1.0  0.666667  0.650000  0.414594  0.0  0.333333  0.894366   \n6    0.693878  0.0  0.000000  0.700000  0.444444  0.0  0.000000  0.704225   \n..        ...  ...       ...       ...       ...  ...       ...       ...   \n915  0.530612  0.0  0.000000  0.635000  0.552239  0.5  0.666667  0.661972   \n916  0.693878  1.0  1.000000  0.661976  0.230514  0.0  0.666667  0.535258   \n917  0.551020  1.0  0.000000  0.610000  0.369818  0.5  0.666667  0.281690   \n918  0.612245  1.0  0.000000  0.661976  0.638474  0.5  0.000000  0.535258   \n919  0.693878  1.0  0.333333  0.600000  0.421227  0.0  0.000000  0.232394   \n\n     exang   oldpeak     slope        ca      thal  \n0      0.0  0.556818  0.000000  0.000000  0.000000  \n1      0.5  0.465909  0.333333  1.000000  0.333333  \n2      0.5  0.590909  0.333333  0.666667  0.666667  \n3      0.0  0.693182  0.000000  0.000000  0.333333  \n6      0.0  0.704545  0.000000  0.666667  0.333333  \n..     ...       ...       ...       ...       ...  \n915    0.0  0.295455  1.000000  0.254088  1.000000  \n916    1.0  0.404359  1.000000  0.254088  1.000000  \n917    0.0  0.295455  1.000000  0.254088  0.000000  \n918    1.0  0.404359  1.000000  0.254088  1.000000  \n919    0.5  0.295455  1.000000  0.254088  1.000000  \n\n[797 rows x 13 columns]",
      "text/html": "<div>\n<style scoped>\n    .dataframe tbody tr th:only-of-type {\n        vertical-align: middle;\n    }\n\n    .dataframe tbody tr th {\n        vertical-align: top;\n    }\n\n    .dataframe thead th {\n        text-align: right;\n    }\n</style>\n<table border=\"1\" class=\"dataframe\">\n  <thead>\n    <tr style=\"text-align: right;\">\n      <th></th>\n      <th>age</th>\n      <th>sex</th>\n      <th>cp</th>\n      <th>trestbps</th>\n      <th>chol</th>\n      <th>fbs</th>\n      <th>restecg</th>\n      <th>thalch</th>\n      <th>exang</th>\n      <th>oldpeak</th>\n      <th>slope</th>\n      <th>ca</th>\n      <th>thal</th>\n    </tr>\n  </thead>\n  <tbody>\n    <tr>\n      <th>0</th>\n      <td>0.714286</td>\n      <td>1.0</td>\n      <td>1.000000</td>\n      <td>0.725000</td>\n      <td>0.386401</td>\n      <td>0.5</td>\n      <td>0.000000</td>\n      <td>0.633803</td>\n      <td>0.0</td>\n      <td>0.556818</td>\n      <td>0.000000</td>\n      <td>0.000000</td>\n      <td>0.000000</td>\n    </tr>\n    <tr>\n      <th>1</th>\n      <td>0.795918</td>\n      <td>1.0</td>\n      <td>0.000000</td>\n      <td>0.800000</td>\n      <td>0.474295</td>\n      <td>0.0</td>\n      <td>0.000000</td>\n      <td>0.338028</td>\n      <td>0.5</td>\n      <td>0.465909</td>\n      <td>0.333333</td>\n      <td>1.000000</td>\n      <td>0.333333</td>\n    </tr>\n    <tr>\n      <th>2</th>\n      <td>0.795918</td>\n      <td>1.0</td>\n      <td>0.000000</td>\n      <td>0.600000</td>\n      <td>0.379768</td>\n      <td>0.0</td>\n      <td>0.000000</td>\n      <td>0.485915</td>\n      <td>0.5</td>\n      <td>0.590909</td>\n      <td>0.333333</td>\n      <td>0.666667</td>\n      <td>0.666667</td>\n    </tr>\n    <tr>\n      <th>3</th>\n      <td>0.183673</td>\n      <td>1.0</td>\n      <td>0.666667</td>\n      <td>0.650000</td>\n      <td>0.414594</td>\n      <td>0.0</td>\n      <td>0.333333</td>\n      <td>0.894366</td>\n      <td>0.0</td>\n      <td>0.693182</td>\n      <td>0.000000</td>\n      <td>0.000000</td>\n      <td>0.333333</td>\n    </tr>\n    <tr>\n      <th>6</th>\n      <td>0.693878</td>\n      <td>0.0</td>\n      <td>0.000000</td>\n      <td>0.700000</td>\n      <td>0.444444</td>\n      <td>0.0</td>\n      <td>0.000000</td>\n      <td>0.704225</td>\n      <td>0.0</td>\n      <td>0.704545</td>\n      <td>0.000000</td>\n      <td>0.666667</td>\n      <td>0.333333</td>\n    </tr>\n    <tr>\n      <th>...</th>\n      <td>...</td>\n      <td>...</td>\n      <td>...</td>\n      <td>...</td>\n      <td>...</td>\n      <td>...</td>\n      <td>...</td>\n      <td>...</td>\n      <td>...</td>\n      <td>...</td>\n      <td>...</td>\n      <td>...</td>\n      <td>...</td>\n    </tr>\n    <tr>\n      <th>915</th>\n      <td>0.530612</td>\n      <td>0.0</td>\n      <td>0.000000</td>\n      <td>0.635000</td>\n      <td>0.552239</td>\n      <td>0.5</td>\n      <td>0.666667</td>\n      <td>0.661972</td>\n      <td>0.0</td>\n      <td>0.295455</td>\n      <td>1.000000</td>\n      <td>0.254088</td>\n      <td>1.000000</td>\n    </tr>\n    <tr>\n      <th>916</th>\n      <td>0.693878</td>\n      <td>1.0</td>\n      <td>1.000000</td>\n      <td>0.661976</td>\n      <td>0.230514</td>\n      <td>0.0</td>\n      <td>0.666667</td>\n      <td>0.535258</td>\n      <td>1.0</td>\n      <td>0.404359</td>\n      <td>1.000000</td>\n      <td>0.254088</td>\n      <td>1.000000</td>\n    </tr>\n    <tr>\n      <th>917</th>\n      <td>0.551020</td>\n      <td>1.0</td>\n      <td>0.000000</td>\n      <td>0.610000</td>\n      <td>0.369818</td>\n      <td>0.5</td>\n      <td>0.666667</td>\n      <td>0.281690</td>\n      <td>0.0</td>\n      <td>0.295455</td>\n      <td>1.000000</td>\n      <td>0.254088</td>\n      <td>0.000000</td>\n    </tr>\n    <tr>\n      <th>918</th>\n      <td>0.612245</td>\n      <td>1.0</td>\n      <td>0.000000</td>\n      <td>0.661976</td>\n      <td>0.638474</td>\n      <td>0.5</td>\n      <td>0.000000</td>\n      <td>0.535258</td>\n      <td>1.0</td>\n      <td>0.404359</td>\n      <td>1.000000</td>\n      <td>0.254088</td>\n      <td>1.000000</td>\n    </tr>\n    <tr>\n      <th>919</th>\n      <td>0.693878</td>\n      <td>1.0</td>\n      <td>0.333333</td>\n      <td>0.600000</td>\n      <td>0.421227</td>\n      <td>0.0</td>\n      <td>0.000000</td>\n      <td>0.232394</td>\n      <td>0.5</td>\n      <td>0.295455</td>\n      <td>1.000000</td>\n      <td>0.254088</td>\n      <td>1.000000</td>\n    </tr>\n  </tbody>\n</table>\n<p>797 rows × 13 columns</p>\n</div>"
     },
     "execution_count": 4,
     "metadata": {},
     "output_type": "execute_result"
    }
   ],
   "source": [
    "df = og_df.copy()\n",
    "df.drop(columns=\"num\", inplace=True)\n",
    "df[categorial_columns] = df[categorial_columns].apply(LabelEncoder().fit_transform)\n",
    "df[categorial_columns] = MinMaxScaler().fit_transform(df[categorial_columns])\n",
    "\n",
    "df[cont_columns] = MinMaxScaler().fit_transform(df[cont_columns])\n",
    "df = df.fillna(df.mean())\n",
    "df"
   ]
  },
  {
   "cell_type": "code",
   "execution_count": 5,
   "metadata": {
    "collapsed": false,
    "ExecuteTime": {
     "end_time": "2023-06-19T16:21:53.500941100Z",
     "start_time": "2023-06-19T16:21:53.458872800Z"
    }
   },
   "outputs": [],
   "source": [
    "class HeartDiseaseDataset(Dataset):\n",
    "    def __init__(self, df):\n",
    "        self.x = torch.tensor(df.values, dtype=torch.float)\n",
    "\n",
    "    def __getitem__(self, idx):\n",
    "        return self.x[idx]\n",
    "\n",
    "    def __len__(self):\n",
    "        return self.x.shape[0]"
   ]
  },
  {
   "cell_type": "code",
   "execution_count": 6,
   "metadata": {
    "collapsed": false,
    "ExecuteTime": {
     "end_time": "2023-06-19T16:21:53.500941100Z",
     "start_time": "2023-06-19T16:21:53.478461800Z"
    }
   },
   "outputs": [
    {
     "data": {
      "text/plain": "797"
     },
     "execution_count": 6,
     "metadata": {},
     "output_type": "execute_result"
    }
   ],
   "source": [
    "dataset = HeartDiseaseDataset(df)\n",
    "dataloader = DataLoader(dataset, batch_size=100, shuffle=True)\n",
    "len(dataset)"
   ]
  },
  {
   "cell_type": "code",
   "execution_count": 7,
   "metadata": {
    "collapsed": false,
    "ExecuteTime": {
     "end_time": "2023-06-19T16:21:54.518438900Z",
     "start_time": "2023-06-19T16:21:53.478461800Z"
    }
   },
   "outputs": [
    {
     "name": "stdout",
     "output_type": "stream",
     "text": [
      "epoch: 1/100, loss = 0.110827\n",
      "epoch: 2/100, loss = 0.106579\n",
      "epoch: 3/100, loss = 0.102622\n",
      "epoch: 4/100, loss = 0.098990\n",
      "epoch: 5/100, loss = 0.095648\n",
      "epoch: 6/100, loss = 0.092632\n",
      "epoch: 7/100, loss = 0.089865\n",
      "epoch: 8/100, loss = 0.087325\n",
      "epoch: 9/100, loss = 0.085004\n",
      "epoch: 10/100, loss = 0.082926\n",
      "epoch: 11/100, loss = 0.081002\n",
      "epoch: 12/100, loss = 0.079316\n",
      "epoch: 13/100, loss = 0.077754\n",
      "epoch: 14/100, loss = 0.076350\n",
      "epoch: 15/100, loss = 0.075137\n",
      "epoch: 16/100, loss = 0.074010\n",
      "epoch: 17/100, loss = 0.073058\n",
      "epoch: 18/100, loss = 0.072218\n",
      "epoch: 19/100, loss = 0.071497\n",
      "epoch: 20/100, loss = 0.070845\n",
      "epoch: 21/100, loss = 0.070297\n",
      "epoch: 22/100, loss = 0.069852\n",
      "epoch: 23/100, loss = 0.069463\n",
      "epoch: 24/100, loss = 0.069098\n",
      "epoch: 25/100, loss = 0.068842\n",
      "epoch: 26/100, loss = 0.068552\n",
      "epoch: 27/100, loss = 0.068358\n",
      "epoch: 28/100, loss = 0.068203\n",
      "epoch: 29/100, loss = 0.068050\n",
      "epoch: 30/100, loss = 0.067912\n",
      "epoch: 31/100, loss = 0.067856\n",
      "epoch: 32/100, loss = 0.067731\n",
      "epoch: 33/100, loss = 0.067661\n",
      "epoch: 34/100, loss = 0.067589\n",
      "epoch: 35/100, loss = 0.067532\n",
      "epoch: 36/100, loss = 0.067505\n",
      "epoch: 37/100, loss = 0.067454\n",
      "epoch: 38/100, loss = 0.067429\n",
      "epoch: 39/100, loss = 0.067423\n",
      "epoch: 40/100, loss = 0.067386\n",
      "epoch: 41/100, loss = 0.067384\n",
      "epoch: 42/100, loss = 0.067361\n",
      "epoch: 43/100, loss = 0.067326\n",
      "epoch: 44/100, loss = 0.067320\n",
      "epoch: 45/100, loss = 0.067291\n",
      "epoch: 46/100, loss = 0.067325\n",
      "epoch: 47/100, loss = 0.067301\n",
      "epoch: 48/100, loss = 0.067290\n",
      "epoch: 49/100, loss = 0.067270\n",
      "epoch: 50/100, loss = 0.067257\n",
      "epoch: 51/100, loss = 0.067254\n",
      "epoch: 52/100, loss = 0.067245\n",
      "epoch: 53/100, loss = 0.067266\n",
      "epoch: 54/100, loss = 0.067239\n",
      "epoch: 55/100, loss = 0.067244\n",
      "epoch: 56/100, loss = 0.067227\n",
      "epoch: 57/100, loss = 0.067236\n",
      "epoch: 58/100, loss = 0.067212\n",
      "epoch: 59/100, loss = 0.067230\n",
      "epoch: 60/100, loss = 0.067220\n",
      "epoch: 61/100, loss = 0.067226\n",
      "epoch: 62/100, loss = 0.067210\n",
      "epoch: 63/100, loss = 0.067228\n",
      "epoch: 64/100, loss = 0.067210\n",
      "epoch: 65/100, loss = 0.067193\n",
      "epoch: 66/100, loss = 0.067210\n",
      "epoch: 67/100, loss = 0.067181\n",
      "epoch: 68/100, loss = 0.067190\n",
      "epoch: 69/100, loss = 0.067192\n",
      "epoch: 70/100, loss = 0.067181\n",
      "epoch: 71/100, loss = 0.067174\n",
      "epoch: 72/100, loss = 0.067180\n",
      "epoch: 73/100, loss = 0.067174\n",
      "epoch: 74/100, loss = 0.067152\n",
      "epoch: 75/100, loss = 0.067145\n",
      "epoch: 76/100, loss = 0.067152\n",
      "epoch: 77/100, loss = 0.067135\n",
      "epoch: 78/100, loss = 0.067122\n",
      "epoch: 79/100, loss = 0.067112\n",
      "epoch: 80/100, loss = 0.067117\n",
      "epoch: 81/100, loss = 0.067136\n",
      "epoch: 82/100, loss = 0.067104\n",
      "epoch: 83/100, loss = 0.067104\n",
      "epoch: 84/100, loss = 0.067072\n",
      "epoch: 85/100, loss = 0.067092\n",
      "epoch: 86/100, loss = 0.067079\n",
      "epoch: 87/100, loss = 0.067081\n",
      "epoch: 88/100, loss = 0.067063\n",
      "epoch: 89/100, loss = 0.067053\n",
      "epoch: 90/100, loss = 0.067024\n",
      "epoch: 91/100, loss = 0.067022\n",
      "epoch: 92/100, loss = 0.067033\n",
      "epoch: 93/100, loss = 0.067025\n",
      "epoch: 94/100, loss = 0.066994\n",
      "epoch: 95/100, loss = 0.066984\n",
      "epoch: 96/100, loss = 0.066983\n",
      "epoch: 97/100, loss = 0.066950\n",
      "epoch: 98/100, loss = 0.066948\n",
      "epoch: 99/100, loss = 0.066942\n",
      "epoch: 100/100, loss = 0.066909\n"
     ]
    }
   ],
   "source": [
    "class MixedTypeClusteringModel(nn.Module):\n",
    "    def __init__(self):\n",
    "        super().__init__()\n",
    "        self.encoder = torch.nn.Sequential(\n",
    "            torch.nn.Linear(13, 10),\n",
    "            torch.nn.Sigmoid(),\n",
    "            torch.nn.Linear(10, 7),\n",
    "            torch.nn.Sigmoid(),\n",
    "        )\n",
    "        self.decoder = torch.nn.Sequential(\n",
    "            torch.nn.Linear(7, 10),\n",
    "            torch.nn.Sigmoid(),\n",
    "            torch.nn.Linear(10, 13),\n",
    "            torch.nn.Sigmoid()\n",
    "        )\n",
    "\n",
    "\n",
    "    def forward(self, x):\n",
    "        encoded = self.encoder(x)\n",
    "        decoded = self.decoder(encoded)\n",
    "        return decoded\n",
    "\n",
    "\n",
    "epochs = 100\n",
    "lr = 0.001\n",
    "\n",
    "model = MixedTypeClusteringModel()\n",
    "\n",
    "criterion = nn.MSELoss()\n",
    "optimizer = torch.optim.Adam(model.parameters(), lr=lr)\n",
    "\n",
    "for epoch in range(epochs):\n",
    "    model.train()\n",
    "    loss = 0\n",
    "\n",
    "    for x in dataloader:\n",
    "        optimizer.zero_grad()\n",
    "        outputs = model(x)\n",
    "        train_loss = criterion(outputs,  x)\n",
    "        train_loss.backward()\n",
    "        optimizer.step()\n",
    "        loss += train_loss.item()\n",
    "\n",
    "    loss = loss / len(dataloader)\n",
    "    print(\"epoch: {}/{}, loss = {:.6f}\".format(epoch + 1, epochs, loss))"
   ]
  },
  {
   "cell_type": "code",
   "execution_count": 8,
   "metadata": {
    "collapsed": false,
    "ExecuteTime": {
     "end_time": "2023-06-19T16:21:54.527062600Z",
     "start_time": "2023-06-19T16:21:54.519438700Z"
    }
   },
   "outputs": [
    {
     "data": {
      "text/plain": "array([[0.7384497 , 0.80147445, 0.7270733 , ..., 0.57350755, 0.5622038 ,\n        0.5905046 ],\n       [0.7620603 , 0.8037559 , 0.8195917 , ..., 0.50657797, 0.6793048 ,\n        0.5390647 ],\n       [0.7617321 , 0.80132955, 0.8048098 , ..., 0.52465683, 0.6497073 ,\n        0.5562443 ],\n       ...,\n       [0.7229362 , 0.7695522 , 0.6895884 , ..., 0.5734773 , 0.51163906,\n        0.62139714],\n       [0.6831347 , 0.7255636 , 0.7642904 , ..., 0.46241686, 0.61892873,\n        0.49990717],\n       [0.7491404 , 0.78529394, 0.7193781 , ..., 0.5869002 , 0.5157275 ,\n        0.62380904]], dtype=float32)"
     },
     "execution_count": 8,
     "metadata": {},
     "output_type": "execute_result"
    }
   ],
   "source": [
    "features = model.encoder(torch.tensor(df.values, dtype=torch.float)).detach().numpy()\n",
    "features"
   ]
  },
  {
   "cell_type": "code",
   "execution_count": 9,
   "metadata": {
    "collapsed": false,
    "ExecuteTime": {
     "end_time": "2023-06-19T16:21:54.537584900Z",
     "start_time": "2023-06-19T16:21:54.527062600Z"
    }
   },
   "outputs": [],
   "source": [
    "def cluster_accuracy(y_pred, y_true):\n",
    "    # We need to map the labels to our cluster labels\n",
    "    # This is a linear assignment problem on a bipartite graph\n",
    "    k = max(len(np.unique(y_pred)), len(np.unique(y_pred)))\n",
    "    cost_matrix = np.zeros((k, k))\n",
    "    for i in range(y_pred.size):\n",
    "        cost_matrix[y_pred[i], y_true[i]] += 1\n",
    "    row_ind, col_ind = linear_sum_assignment(cost_matrix.max() - cost_matrix)\n",
    "    return cost_matrix[row_ind, col_ind].sum() / y_pred.size"
   ]
  },
  {
   "cell_type": "code",
   "execution_count": 10,
   "metadata": {
    "collapsed": false,
    "ExecuteTime": {
     "end_time": "2023-06-19T16:21:54.608731500Z",
     "start_time": "2023-06-19T16:21:54.538584600Z"
    }
   },
   "outputs": [
    {
     "data": {
      "text/plain": "0.30614805520702637"
     },
     "execution_count": 10,
     "metadata": {},
     "output_type": "execute_result"
    }
   ],
   "source": [
    "autoencoder_kmeans = KMeans(n_clusters=5, n_init=\"auto\", random_state=0).fit(features)\n",
    "autoencoder_acc = cluster_accuracy(autoencoder_kmeans.labels_, og_df[\"num\"].to_numpy())\n",
    "autoencoder_acc"
   ]
  },
  {
   "cell_type": "code",
   "execution_count": 11,
   "metadata": {
    "collapsed": false,
    "ExecuteTime": {
     "end_time": "2023-06-19T16:21:54.613564200Z",
     "start_time": "2023-06-19T16:21:54.609732600Z"
    }
   },
   "outputs": [],
   "source": [
    "def encode_feature(df, feature_to_encode):\n",
    "    dummies = pd.get_dummies(df[[feature_to_encode]])\n",
    "    result_df = pd.concat([df, dummies], axis=1)\n",
    "    result_df.drop(columns=feature_to_encode, inplace=True)\n",
    "    return result_df"
   ]
  },
  {
   "cell_type": "code",
   "execution_count": 12,
   "metadata": {
    "collapsed": false,
    "ExecuteTime": {
     "end_time": "2023-06-19T16:21:54.665063800Z",
     "start_time": "2023-06-19T16:21:54.615565Z"
    }
   },
   "outputs": [
    {
     "data": {
      "text/plain": "     age    trestbps   chol      thalch   oldpeak        ca  sex_Female   \n0     63  145.000000  233.0  150.000000  2.300000  0.000000           0  \\\n1     67  160.000000  286.0  108.000000  1.500000  3.000000           0   \n2     67  120.000000  229.0  129.000000  2.600000  2.000000           0   \n3     37  130.000000  250.0  187.000000  3.500000  0.000000           0   \n6     62  140.000000  268.0  160.000000  3.600000  2.000000           1   \n..   ...         ...    ...         ...       ...       ...         ...   \n915   54  127.000000  333.0  154.000000  0.000000  0.762264           1   \n916   62  132.395161  139.0  136.006684  0.958356  0.762264           0   \n917   55  122.000000  223.0  100.000000  0.000000  0.762264           0   \n918   58  132.395161  385.0  136.006684  0.958356  0.762264           0   \n919   62  120.000000  254.0   93.000000  0.000000  0.762264           0   \n\n     sex_Male  cp_asymptomatic  cp_atypical angina  ...  restecg_normal   \n0           1                0                   0  ...               0  \\\n1           1                1                   0  ...               0   \n2           1                1                   0  ...               0   \n3           1                0                   0  ...               1   \n6           0                1                   0  ...               0   \n..        ...              ...                 ...  ...             ...   \n915         0                1                   0  ...               0   \n916         1                0                   0  ...               0   \n917         1                1                   0  ...               0   \n918         1                1                   0  ...               0   \n919         1                0                   1  ...               0   \n\n     restecg_st-t abnormality  exang_False  exang_True  slope_downsloping   \n0                           0            1           0                  1  \\\n1                           0            0           1                  0   \n2                           0            0           1                  0   \n3                           0            1           0                  1   \n6                           0            1           0                  1   \n..                        ...          ...         ...                ...   \n915                         1            1           0                  0   \n916                         1            0           0                  0   \n917                         1            1           0                  0   \n918                         0            0           0                  0   \n919                         0            0           1                  0   \n\n     slope_flat  slope_upsloping  thal_fixed defect  thal_normal   \n0             0                0                  1            0  \\\n1             1                0                  0            1   \n2             1                0                  0            0   \n3             0                0                  0            1   \n6             0                0                  0            1   \n..          ...              ...                ...          ...   \n915           0                0                  0            0   \n916           0                0                  0            0   \n917           0                0                  1            0   \n918           0                0                  0            0   \n919           0                0                  0            0   \n\n     thal_reversable defect  \n0                         0  \n1                         0  \n2                         1  \n3                         0  \n6                         0  \n..                      ...  \n915                       0  \n916                       0  \n917                       0  \n918                       0  \n919                       0  \n\n[797 rows x 25 columns]",
      "text/html": "<div>\n<style scoped>\n    .dataframe tbody tr th:only-of-type {\n        vertical-align: middle;\n    }\n\n    .dataframe tbody tr th {\n        vertical-align: top;\n    }\n\n    .dataframe thead th {\n        text-align: right;\n    }\n</style>\n<table border=\"1\" class=\"dataframe\">\n  <thead>\n    <tr style=\"text-align: right;\">\n      <th></th>\n      <th>age</th>\n      <th>trestbps</th>\n      <th>chol</th>\n      <th>thalch</th>\n      <th>oldpeak</th>\n      <th>ca</th>\n      <th>sex_Female</th>\n      <th>sex_Male</th>\n      <th>cp_asymptomatic</th>\n      <th>cp_atypical angina</th>\n      <th>...</th>\n      <th>restecg_normal</th>\n      <th>restecg_st-t abnormality</th>\n      <th>exang_False</th>\n      <th>exang_True</th>\n      <th>slope_downsloping</th>\n      <th>slope_flat</th>\n      <th>slope_upsloping</th>\n      <th>thal_fixed defect</th>\n      <th>thal_normal</th>\n      <th>thal_reversable defect</th>\n    </tr>\n  </thead>\n  <tbody>\n    <tr>\n      <th>0</th>\n      <td>63</td>\n      <td>145.000000</td>\n      <td>233.0</td>\n      <td>150.000000</td>\n      <td>2.300000</td>\n      <td>0.000000</td>\n      <td>0</td>\n      <td>1</td>\n      <td>0</td>\n      <td>0</td>\n      <td>...</td>\n      <td>0</td>\n      <td>0</td>\n      <td>1</td>\n      <td>0</td>\n      <td>1</td>\n      <td>0</td>\n      <td>0</td>\n      <td>1</td>\n      <td>0</td>\n      <td>0</td>\n    </tr>\n    <tr>\n      <th>1</th>\n      <td>67</td>\n      <td>160.000000</td>\n      <td>286.0</td>\n      <td>108.000000</td>\n      <td>1.500000</td>\n      <td>3.000000</td>\n      <td>0</td>\n      <td>1</td>\n      <td>1</td>\n      <td>0</td>\n      <td>...</td>\n      <td>0</td>\n      <td>0</td>\n      <td>0</td>\n      <td>1</td>\n      <td>0</td>\n      <td>1</td>\n      <td>0</td>\n      <td>0</td>\n      <td>1</td>\n      <td>0</td>\n    </tr>\n    <tr>\n      <th>2</th>\n      <td>67</td>\n      <td>120.000000</td>\n      <td>229.0</td>\n      <td>129.000000</td>\n      <td>2.600000</td>\n      <td>2.000000</td>\n      <td>0</td>\n      <td>1</td>\n      <td>1</td>\n      <td>0</td>\n      <td>...</td>\n      <td>0</td>\n      <td>0</td>\n      <td>0</td>\n      <td>1</td>\n      <td>0</td>\n      <td>1</td>\n      <td>0</td>\n      <td>0</td>\n      <td>0</td>\n      <td>1</td>\n    </tr>\n    <tr>\n      <th>3</th>\n      <td>37</td>\n      <td>130.000000</td>\n      <td>250.0</td>\n      <td>187.000000</td>\n      <td>3.500000</td>\n      <td>0.000000</td>\n      <td>0</td>\n      <td>1</td>\n      <td>0</td>\n      <td>0</td>\n      <td>...</td>\n      <td>1</td>\n      <td>0</td>\n      <td>1</td>\n      <td>0</td>\n      <td>1</td>\n      <td>0</td>\n      <td>0</td>\n      <td>0</td>\n      <td>1</td>\n      <td>0</td>\n    </tr>\n    <tr>\n      <th>6</th>\n      <td>62</td>\n      <td>140.000000</td>\n      <td>268.0</td>\n      <td>160.000000</td>\n      <td>3.600000</td>\n      <td>2.000000</td>\n      <td>1</td>\n      <td>0</td>\n      <td>1</td>\n      <td>0</td>\n      <td>...</td>\n      <td>0</td>\n      <td>0</td>\n      <td>1</td>\n      <td>0</td>\n      <td>1</td>\n      <td>0</td>\n      <td>0</td>\n      <td>0</td>\n      <td>1</td>\n      <td>0</td>\n    </tr>\n    <tr>\n      <th>...</th>\n      <td>...</td>\n      <td>...</td>\n      <td>...</td>\n      <td>...</td>\n      <td>...</td>\n      <td>...</td>\n      <td>...</td>\n      <td>...</td>\n      <td>...</td>\n      <td>...</td>\n      <td>...</td>\n      <td>...</td>\n      <td>...</td>\n      <td>...</td>\n      <td>...</td>\n      <td>...</td>\n      <td>...</td>\n      <td>...</td>\n      <td>...</td>\n      <td>...</td>\n      <td>...</td>\n    </tr>\n    <tr>\n      <th>915</th>\n      <td>54</td>\n      <td>127.000000</td>\n      <td>333.0</td>\n      <td>154.000000</td>\n      <td>0.000000</td>\n      <td>0.762264</td>\n      <td>1</td>\n      <td>0</td>\n      <td>1</td>\n      <td>0</td>\n      <td>...</td>\n      <td>0</td>\n      <td>1</td>\n      <td>1</td>\n      <td>0</td>\n      <td>0</td>\n      <td>0</td>\n      <td>0</td>\n      <td>0</td>\n      <td>0</td>\n      <td>0</td>\n    </tr>\n    <tr>\n      <th>916</th>\n      <td>62</td>\n      <td>132.395161</td>\n      <td>139.0</td>\n      <td>136.006684</td>\n      <td>0.958356</td>\n      <td>0.762264</td>\n      <td>0</td>\n      <td>1</td>\n      <td>0</td>\n      <td>0</td>\n      <td>...</td>\n      <td>0</td>\n      <td>1</td>\n      <td>0</td>\n      <td>0</td>\n      <td>0</td>\n      <td>0</td>\n      <td>0</td>\n      <td>0</td>\n      <td>0</td>\n      <td>0</td>\n    </tr>\n    <tr>\n      <th>917</th>\n      <td>55</td>\n      <td>122.000000</td>\n      <td>223.0</td>\n      <td>100.000000</td>\n      <td>0.000000</td>\n      <td>0.762264</td>\n      <td>0</td>\n      <td>1</td>\n      <td>1</td>\n      <td>0</td>\n      <td>...</td>\n      <td>0</td>\n      <td>1</td>\n      <td>1</td>\n      <td>0</td>\n      <td>0</td>\n      <td>0</td>\n      <td>0</td>\n      <td>1</td>\n      <td>0</td>\n      <td>0</td>\n    </tr>\n    <tr>\n      <th>918</th>\n      <td>58</td>\n      <td>132.395161</td>\n      <td>385.0</td>\n      <td>136.006684</td>\n      <td>0.958356</td>\n      <td>0.762264</td>\n      <td>0</td>\n      <td>1</td>\n      <td>1</td>\n      <td>0</td>\n      <td>...</td>\n      <td>0</td>\n      <td>0</td>\n      <td>0</td>\n      <td>0</td>\n      <td>0</td>\n      <td>0</td>\n      <td>0</td>\n      <td>0</td>\n      <td>0</td>\n      <td>0</td>\n    </tr>\n    <tr>\n      <th>919</th>\n      <td>62</td>\n      <td>120.000000</td>\n      <td>254.0</td>\n      <td>93.000000</td>\n      <td>0.000000</td>\n      <td>0.762264</td>\n      <td>0</td>\n      <td>1</td>\n      <td>0</td>\n      <td>1</td>\n      <td>...</td>\n      <td>0</td>\n      <td>0</td>\n      <td>0</td>\n      <td>1</td>\n      <td>0</td>\n      <td>0</td>\n      <td>0</td>\n      <td>0</td>\n      <td>0</td>\n      <td>0</td>\n    </tr>\n  </tbody>\n</table>\n<p>797 rows × 25 columns</p>\n</div>"
     },
     "execution_count": 12,
     "metadata": {},
     "output_type": "execute_result"
    }
   ],
   "source": [
    "df_one_hot = og_df.copy()\n",
    "df_one_hot.drop(columns=\"num\", inplace=True)\n",
    "\n",
    "for col in categorial_columns:\n",
    "    df_one_hot = encode_feature(df_one_hot, col)\n",
    "df_one_hot.loc[:, ~df_one_hot.columns.isin(cont_columns)] = df_one_hot.loc[:, ~df_one_hot.columns.isin(cont_columns)].apply(LabelEncoder().fit_transform)\n",
    "df_one_hot = df_one_hot.fillna(df_one_hot.mean())\n",
    "df_one_hot"
   ]
  },
  {
   "cell_type": "code",
   "execution_count": 13,
   "metadata": {
    "collapsed": false,
    "ExecuteTime": {
     "end_time": "2023-06-19T16:21:54.680572300Z",
     "start_time": "2023-06-19T16:21:54.661866300Z"
    }
   },
   "outputs": [
    {
     "data": {
      "text/plain": "0.3199498117942284"
     },
     "execution_count": 13,
     "metadata": {},
     "output_type": "execute_result"
    }
   ],
   "source": [
    "classic_one_hot_kmeans = KMeans(n_clusters=5, n_init=\"auto\", random_state=0).fit(df_one_hot)\n",
    "classic_one_hot_acc = cluster_accuracy(classic_one_hot_kmeans.labels_, og_df[\"num\"].to_numpy())\n",
    "classic_one_hot_acc"
   ]
  },
  {
   "cell_type": "code",
   "execution_count": 14,
   "metadata": {
    "collapsed": false,
    "ExecuteTime": {
     "end_time": "2023-06-19T16:21:54.704249Z",
     "start_time": "2023-06-19T16:21:54.682580400Z"
    }
   },
   "outputs": [
    {
     "data": {
      "text/plain": "797"
     },
     "execution_count": 14,
     "metadata": {},
     "output_type": "execute_result"
    }
   ],
   "source": [
    "one_hot_dataset = HeartDiseaseDataset(df_one_hot)\n",
    "one_hot_dataloader = DataLoader(one_hot_dataset, batch_size=100, shuffle=True)\n",
    "len(one_hot_dataset)"
   ]
  },
  {
   "cell_type": "code",
   "execution_count": 15,
   "metadata": {
    "ExecuteTime": {
     "end_time": "2023-06-19T16:21:55.400749500Z",
     "start_time": "2023-06-19T16:21:54.688674200Z"
    }
   },
   "outputs": [
    {
     "name": "stdout",
     "output_type": "stream",
     "text": [
      "epoch: 1/100, loss = 3606.196747\n",
      "epoch: 2/100, loss = 3605.447144\n",
      "epoch: 3/100, loss = 3606.473877\n",
      "epoch: 4/100, loss = 3604.447327\n",
      "epoch: 5/100, loss = 3606.070312\n",
      "epoch: 6/100, loss = 3605.413422\n",
      "epoch: 7/100, loss = 3605.102844\n",
      "epoch: 8/100, loss = 3605.680267\n",
      "epoch: 9/100, loss = 3605.875061\n",
      "epoch: 10/100, loss = 3606.041290\n",
      "epoch: 11/100, loss = 3605.817169\n",
      "epoch: 12/100, loss = 3606.568115\n",
      "epoch: 13/100, loss = 3606.928345\n",
      "epoch: 14/100, loss = 3604.754028\n",
      "epoch: 15/100, loss = 3606.672485\n",
      "epoch: 16/100, loss = 3604.506104\n",
      "epoch: 17/100, loss = 3605.466583\n",
      "epoch: 18/100, loss = 3605.334656\n",
      "epoch: 19/100, loss = 3606.126770\n",
      "epoch: 20/100, loss = 3606.189545\n",
      "epoch: 21/100, loss = 3606.709290\n",
      "epoch: 22/100, loss = 3605.392303\n",
      "epoch: 23/100, loss = 3605.308258\n",
      "epoch: 24/100, loss = 3605.677368\n",
      "epoch: 25/100, loss = 3605.926208\n",
      "epoch: 26/100, loss = 3605.187103\n",
      "epoch: 27/100, loss = 3606.428406\n",
      "epoch: 28/100, loss = 3605.001465\n",
      "epoch: 29/100, loss = 3605.046570\n",
      "epoch: 30/100, loss = 3605.397522\n",
      "epoch: 31/100, loss = 3605.352020\n",
      "epoch: 32/100, loss = 3605.244171\n",
      "epoch: 33/100, loss = 3605.075134\n",
      "epoch: 34/100, loss = 3604.837036\n",
      "epoch: 35/100, loss = 3605.478088\n",
      "epoch: 36/100, loss = 3605.456512\n",
      "epoch: 37/100, loss = 3604.769714\n",
      "epoch: 38/100, loss = 3605.088867\n",
      "epoch: 39/100, loss = 3606.068665\n",
      "epoch: 40/100, loss = 3606.193909\n",
      "epoch: 41/100, loss = 3605.904388\n",
      "epoch: 42/100, loss = 3605.774933\n",
      "epoch: 43/100, loss = 3605.292969\n",
      "epoch: 44/100, loss = 3605.698181\n",
      "epoch: 45/100, loss = 3605.901428\n",
      "epoch: 46/100, loss = 3605.017303\n",
      "epoch: 47/100, loss = 3606.193054\n",
      "epoch: 48/100, loss = 3606.273987\n",
      "epoch: 49/100, loss = 3605.768311\n",
      "epoch: 50/100, loss = 3605.506073\n",
      "epoch: 51/100, loss = 3605.165436\n",
      "epoch: 52/100, loss = 3604.731750\n",
      "epoch: 53/100, loss = 3606.720825\n",
      "epoch: 54/100, loss = 3606.108337\n",
      "epoch: 55/100, loss = 3605.818481\n",
      "epoch: 56/100, loss = 3605.724518\n",
      "epoch: 57/100, loss = 3605.100677\n",
      "epoch: 58/100, loss = 3605.427155\n",
      "epoch: 59/100, loss = 3604.817505\n",
      "epoch: 60/100, loss = 3604.530304\n",
      "epoch: 61/100, loss = 3606.742279\n",
      "epoch: 62/100, loss = 3605.652802\n",
      "epoch: 63/100, loss = 3605.137146\n",
      "epoch: 64/100, loss = 3605.065613\n",
      "epoch: 65/100, loss = 3605.554932\n",
      "epoch: 66/100, loss = 3604.781952\n",
      "epoch: 67/100, loss = 3605.333099\n",
      "epoch: 68/100, loss = 3605.722412\n",
      "epoch: 69/100, loss = 3605.816132\n",
      "epoch: 70/100, loss = 3605.152405\n",
      "epoch: 71/100, loss = 3606.649689\n",
      "epoch: 72/100, loss = 3605.710907\n",
      "epoch: 73/100, loss = 3605.830933\n",
      "epoch: 74/100, loss = 3606.403076\n",
      "epoch: 75/100, loss = 3605.889404\n",
      "epoch: 76/100, loss = 3605.865234\n",
      "epoch: 77/100, loss = 3604.948242\n",
      "epoch: 78/100, loss = 3603.928558\n",
      "epoch: 79/100, loss = 3604.336609\n",
      "epoch: 80/100, loss = 3606.108124\n",
      "epoch: 81/100, loss = 3606.909088\n",
      "epoch: 82/100, loss = 3605.191406\n",
      "epoch: 83/100, loss = 3605.738037\n",
      "epoch: 84/100, loss = 3605.207550\n",
      "epoch: 85/100, loss = 3605.589233\n",
      "epoch: 86/100, loss = 3605.272919\n",
      "epoch: 87/100, loss = 3605.238403\n",
      "epoch: 88/100, loss = 3606.063721\n",
      "epoch: 89/100, loss = 3605.887878\n",
      "epoch: 90/100, loss = 3605.672058\n",
      "epoch: 91/100, loss = 3605.698669\n",
      "epoch: 92/100, loss = 3604.796570\n",
      "epoch: 93/100, loss = 3604.810760\n",
      "epoch: 94/100, loss = 3605.903473\n",
      "epoch: 95/100, loss = 3604.897125\n",
      "epoch: 96/100, loss = 3605.221985\n",
      "epoch: 97/100, loss = 3606.183990\n",
      "epoch: 98/100, loss = 3604.713776\n",
      "epoch: 99/100, loss = 3605.020386\n",
      "epoch: 100/100, loss = 3606.580536\n"
     ]
    }
   ],
   "source": [
    "class OneHotMixedTypeClusteringModel(nn.Module):\n",
    "    def __init__(self):\n",
    "        super().__init__()\n",
    "        self.encoder = torch.nn.Sequential(\n",
    "            torch.nn.Linear(25, 18),\n",
    "            torch.nn.Sigmoid(),\n",
    "            torch.nn.Linear(18, 12),\n",
    "            torch.nn.Sigmoid(),\n",
    "        )\n",
    "        self.decoder = torch.nn.Sequential(\n",
    "            torch.nn.Linear(12, 18),\n",
    "            torch.nn.Sigmoid(),\n",
    "            torch.nn.Linear(18, 25),\n",
    "            torch.nn.Sigmoid()\n",
    "        )\n",
    "\n",
    "\n",
    "    def forward(self, x):\n",
    "        encoded = self.encoder(x)\n",
    "        decoded = self.decoder(encoded)\n",
    "        return decoded\n",
    "\n",
    "\n",
    "epochs = 100\n",
    "lr = 0.001\n",
    "\n",
    "one_hot_model = OneHotMixedTypeClusteringModel()\n",
    "\n",
    "criterion = nn.MSELoss()\n",
    "optimizer = torch.optim.Adam(model.parameters(), lr=lr)\n",
    "\n",
    "for epoch in range(epochs):\n",
    "    model.train()\n",
    "    loss = 0\n",
    "\n",
    "    for x in one_hot_dataloader:\n",
    "        optimizer.zero_grad()\n",
    "        outputs = one_hot_model(x)\n",
    "        train_loss = criterion(outputs,  x)\n",
    "        train_loss.backward()\n",
    "        optimizer.step()\n",
    "        loss += train_loss.item()\n",
    "\n",
    "    loss = loss / len(dataloader)\n",
    "    print(\"epoch: {}/{}, loss = {:.6f}\".format(epoch + 1, epochs, loss))"
   ]
  },
  {
   "cell_type": "code",
   "execution_count": 16,
   "metadata": {
    "ExecuteTime": {
     "end_time": "2023-06-19T16:21:55.432823400Z",
     "start_time": "2023-06-19T16:21:55.401749100Z"
    }
   },
   "outputs": [
    {
     "data": {
      "text/plain": "0.3462986198243413"
     },
     "execution_count": 16,
     "metadata": {},
     "output_type": "execute_result"
    }
   ],
   "source": [
    "one_hot_features = one_hot_model.encoder(torch.tensor(df_one_hot.values, dtype=torch.float)).detach().numpy()\n",
    "one_hot_autoencoder_kmeans = KMeans(n_clusters=5, n_init=\"auto\", random_state=0).fit(one_hot_features)\n",
    "one_hot_autoencoder_acc = cluster_accuracy(one_hot_autoencoder_kmeans.labels_, og_df[\"num\"].to_numpy())\n",
    "one_hot_autoencoder_acc"
   ]
  },
  {
   "cell_type": "code",
   "execution_count": 17,
   "outputs": [
    {
     "data": {
      "text/plain": "array([1, 0, 0, 0, 0, 0, 0, 0, 0, 0, 0, 0, 0, 0, 0, 0, 0, 0, 0, 0, 0, 0,\n       0, 0, 0, 0, 0, 0, 0, 0, 0, 0, 0, 0, 0, 0, 0, 0, 0, 0, 0, 0, 0, 0,\n       0, 0, 0, 0, 0, 0, 0, 0, 0, 0, 0, 0, 0, 0, 0, 0, 0, 0, 0, 0, 0, 0,\n       0, 0, 0, 0, 0, 0, 0, 0, 0, 0, 0, 0, 0, 0, 0, 0, 0, 0, 0, 0, 0, 0,\n       0, 0, 0, 0, 0, 0, 0, 0, 0, 0, 0, 0, 0, 0, 0, 2, 0, 0, 0, 0, 0, 0,\n       0, 0, 0, 0, 0, 0, 0, 0, 0, 0, 0, 0, 0, 0, 0, 0, 0, 0, 0, 0, 0, 0,\n       0, 0, 0, 0, 0, 0, 0, 0, 0, 0, 3, 0, 0, 0, 0, 0, 0, 0, 0, 0, 0, 0,\n       0, 0, 0, 0, 0, 0, 0, 0, 0, 0, 0, 0, 0, 0, 0, 0, 2, 0, 0, 0, 0, 0,\n       0, 0, 0, 0, 0, 0, 0, 0, 0, 0, 0, 0, 0, 0, 0, 0, 0, 0, 0, 0, 0, 0,\n       0, 0, 0, 3, 0, 0, 0, 0, 0, 0, 0, 0, 0, 0, 0, 0, 0, 0, 0, 0, 0, 0,\n       0, 0, 0, 3, 0, 0, 0, 0, 1, 0, 0, 0, 0, 0, 0, 0, 0, 0, 0, 0, 0, 0,\n       0, 0, 0, 0, 0, 0, 0, 0, 0, 0, 0, 0, 0, 0, 0, 0, 0, 0, 0, 0, 0, 0,\n       0, 0, 0, 0, 0, 0, 0, 0, 0, 0, 0, 0, 0, 0, 0, 0, 0, 0, 0, 0, 0, 0,\n       0, 0, 0, 0, 0, 0, 0, 0, 0, 0, 0, 0, 0, 0, 0, 0, 0, 0, 0, 0, 0, 0,\n       0, 0, 0, 0, 0, 0, 0, 0, 0, 0, 0, 0, 0, 0, 0, 0, 0, 0, 0, 0, 0, 0,\n       0, 0, 0, 0, 0, 0, 0, 0, 0, 0, 0, 0, 0, 0, 0, 0, 0, 0, 0, 0, 0, 0,\n       0, 0, 0, 0, 0, 0, 0, 0, 0, 0, 0, 0, 0, 0, 0, 0, 0, 0, 0, 0, 0, 0,\n       0, 0, 0, 0, 0, 0, 0, 0, 0, 0, 0, 0, 0, 0, 0, 0, 0, 0, 0, 0, 0, 0,\n       0, 0, 0, 0, 0, 0, 0, 0, 0, 0, 0, 0, 0, 0, 0, 0, 0, 0, 0, 0, 0, 0,\n       0, 0, 1, 0, 0, 0, 0, 0, 0, 0, 0, 0, 0, 0, 0, 1, 0, 0, 0, 0, 0, 0,\n       0, 0, 0, 0, 0, 0, 0, 0, 0, 1, 0, 0, 0, 0, 0, 0, 1, 0, 0, 0, 0, 0,\n       0, 0, 0, 0, 0, 0, 0, 0, 0, 0, 0, 0, 0, 0, 0, 0, 0, 0, 0, 0, 0, 0,\n       0, 0, 0, 0, 0, 0, 0, 0, 0, 0, 0, 0, 0, 0, 0, 0, 0, 0, 0, 0, 0, 0,\n       0, 0, 0, 0, 0, 0, 0, 0, 0, 0, 0, 0, 0, 0, 0, 0, 0, 0, 0, 0, 0, 0,\n       0, 0, 0, 0, 0, 0, 0, 0, 0, 0, 0, 0, 0, 0, 0, 0, 0, 0, 0, 0, 0, 0,\n       0, 0, 0, 0, 0, 0, 0, 0, 0, 0, 0, 0, 0, 0, 0, 0, 0, 0, 0, 0, 0, 0,\n       0, 0, 0, 0, 2, 0, 0, 0, 0, 0, 0, 0, 1, 0, 0, 2, 0, 0, 0, 1, 0, 0,\n       0, 0, 0, 0, 0, 0, 0, 1, 1, 0, 0, 2, 0, 0, 0, 0, 0, 0, 2, 0, 0, 0,\n       0, 0, 0, 0, 1, 0, 1, 0, 0, 0, 0, 0, 0, 0, 0, 0, 0, 0, 1, 0, 0, 0,\n       1, 1, 0, 0, 0, 0, 0, 0, 0, 0, 0, 0, 1, 0, 0, 0, 1, 1, 0, 0, 0, 0,\n       0, 0, 4, 0, 0, 0, 0, 0, 1, 4, 0, 1, 0, 0, 0, 0, 0, 1, 0, 0, 1, 1,\n       0, 0, 0, 1, 0, 0, 0, 0, 0, 0, 0, 0, 0, 0, 0, 1, 0, 0, 0, 0, 1, 0,\n       0, 1, 1, 0, 0, 0, 0, 0, 0, 0, 0, 0, 0, 0, 0, 1, 1, 0, 0, 0, 1, 1,\n       0, 0, 0, 0, 0, 0, 1, 1, 0, 1, 0, 0, 0, 1, 0, 0, 1, 0, 0, 0, 0, 0,\n       1, 0, 0, 0, 0, 0, 0, 0, 1, 0, 1, 1, 1, 0, 0, 0, 1, 0, 0, 0, 0, 1,\n       1, 0, 0, 1, 0, 0, 1, 0, 0, 0, 0, 0, 0, 0, 0, 0, 0, 0, 0, 0, 0, 0,\n       0, 0, 1, 1, 0], dtype=int64)"
     },
     "execution_count": 17,
     "metadata": {},
     "output_type": "execute_result"
    }
   ],
   "source": [
    "no_nan_df = og_df.interpolate()\n",
    "distance_matrix = gower.gower_matrix(no_nan_df)\n",
    "gower_agglo = AgglomerativeClustering(n_clusters=5, metric=\"precomputed\", linkage=\"average\").fit_predict(distance_matrix)\n",
    "gower_agglo"
   ],
   "metadata": {
    "collapsed": false,
    "ExecuteTime": {
     "end_time": "2023-06-19T16:21:56.083421300Z",
     "start_time": "2023-06-19T16:21:55.434822900Z"
    }
   }
  },
  {
   "cell_type": "code",
   "execution_count": 18,
   "outputs": [
    {
     "data": {
      "text/plain": "0.36888331242158096"
     },
     "execution_count": 18,
     "metadata": {},
     "output_type": "execute_result"
    }
   ],
   "source": [
    "gower_agglo_acc = cluster_accuracy(gower_agglo, og_df[\"num\"].to_numpy())\n",
    "gower_agglo_acc"
   ],
   "metadata": {
    "collapsed": false,
    "ExecuteTime": {
     "end_time": "2023-06-19T16:21:56.094028900Z",
     "start_time": "2023-06-19T16:21:56.082421600Z"
    }
   }
  },
  {
   "cell_type": "code",
   "execution_count": 19,
   "outputs": [
    {
     "name": "stdout",
     "output_type": "stream",
     "text": [
      "Naively choose most frequent label: 0.3613550815558344\n",
      "Classic Kmeans with OneHot: 0.3199498117942284\n",
      "Gower Distance Agglomerative: 0.36888331242158096\n",
      "Autoencoder Kmeans: 0.30614805520702637\n",
      "Autoencoder Kmeans and OneHot: 0.3462986198243413\n"
     ]
    }
   ],
   "source": [
    "print(f\"Naively choose most frequent label: {og_df['num'].value_counts().max()/og_df['num'].count()}\")\n",
    "print(f\"Classic Kmeans with OneHot: {classic_one_hot_acc}\")\n",
    "print(f\"Gower Distance Agglomerative: {gower_agglo_acc}\")\n",
    "print(f\"Autoencoder Kmeans: {autoencoder_acc}\")\n",
    "print(f\"Autoencoder Kmeans and OneHot: {one_hot_autoencoder_acc}\")"
   ],
   "metadata": {
    "collapsed": false,
    "ExecuteTime": {
     "end_time": "2023-06-19T16:21:56.108306Z",
     "start_time": "2023-06-19T16:21:56.096029300Z"
    }
   }
  },
  {
   "cell_type": "code",
   "execution_count": 19,
   "outputs": [],
   "source": [],
   "metadata": {
    "collapsed": false,
    "ExecuteTime": {
     "end_time": "2023-06-19T16:21:56.108306Z",
     "start_time": "2023-06-19T16:21:56.102677100Z"
    }
   }
  }
 ],
 "metadata": {
  "kernelspec": {
   "display_name": "Python 3",
   "language": "python",
   "name": "python3"
  },
  "language_info": {
   "codemirror_mode": {
    "name": "ipython",
    "version": 3
   },
   "file_extension": ".py",
   "mimetype": "text/x-python",
   "name": "python",
   "nbconvert_exporter": "python",
   "pygments_lexer": "ipython3",
   "version": "3.11.2"
  }
 },
 "nbformat": 4,
 "nbformat_minor": 0
}
