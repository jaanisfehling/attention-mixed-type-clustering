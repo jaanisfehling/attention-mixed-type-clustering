{
 "cells": [
  {
   "cell_type": "code",
   "execution_count": 720,
   "metadata": {
    "ExecuteTime": {
     "start_time": "2023-06-03T17:34:47.652099Z",
     "end_time": "2023-06-03T17:34:47.661624Z"
    },
    "collapsed": true
   },
   "outputs": [],
   "source": [
    "import gower\n",
    "import numpy as np\n",
    "import pandas as pd\n",
    "from sklearn.cluster import KMeans, AgglomerativeClustering\n",
    "from sklearn.preprocessing import LabelEncoder, MinMaxScaler\n",
    "from torch.utils.data import Dataset, DataLoader\n",
    "import torch\n",
    "import torch.nn as nn\n",
    "from scipy.optimize import linear_sum_assignment"
   ]
  },
  {
   "cell_type": "code",
   "execution_count": 721,
   "metadata": {
    "ExecuteTime": {
     "start_time": "2023-06-03T17:34:47.654621Z",
     "end_time": "2023-06-03T17:34:47.676075Z"
    },
    "collapsed": false
   },
   "outputs": [
    {
     "data": {
      "text/plain": "     age     sex               cp  trestbps   chol    fbs           restecg   \n0     63    Male   typical angina     145.0  233.0   True    lv hypertrophy  \\\n1     67    Male     asymptomatic     160.0  286.0  False    lv hypertrophy   \n2     67    Male     asymptomatic     120.0  229.0  False    lv hypertrophy   \n4     41  Female  atypical angina     130.0  204.0  False    lv hypertrophy   \n6     62  Female     asymptomatic     140.0  268.0  False    lv hypertrophy   \n..   ...     ...              ...       ...    ...    ...               ...   \n914   46    Male     asymptomatic     134.0  310.0  False            normal   \n915   54  Female     asymptomatic     127.0  333.0   True  st-t abnormality   \n916   62    Male   typical angina       NaN  139.0  False  st-t abnormality   \n917   55    Male     asymptomatic     122.0  223.0   True  st-t abnormality   \n919   62    Male  atypical angina     120.0  254.0  False    lv hypertrophy   \n\n     thalch  exang  oldpeak        slope   ca               thal  num  \n0     150.0  False      2.3  downsloping  0.0       fixed defect    0  \n1     108.0   True      1.5         flat  3.0             normal    2  \n2     129.0   True      2.6         flat  2.0  reversable defect    1  \n4     172.0  False      1.4    upsloping  0.0             normal    0  \n6     160.0  False      3.6  downsloping  2.0             normal    3  \n..      ...    ...      ...          ...  ...                ...  ...  \n914   126.0  False      0.0          NaN  NaN             normal    2  \n915   154.0  False      0.0          NaN  NaN                NaN    1  \n916     NaN    NaN      NaN          NaN  NaN                NaN    0  \n917   100.0  False      0.0          NaN  NaN       fixed defect    2  \n919    93.0   True      0.0          NaN  NaN                NaN    1  \n\n[797 rows x 14 columns]",
      "text/html": "<div>\n<style scoped>\n    .dataframe tbody tr th:only-of-type {\n        vertical-align: middle;\n    }\n\n    .dataframe tbody tr th {\n        vertical-align: top;\n    }\n\n    .dataframe thead th {\n        text-align: right;\n    }\n</style>\n<table border=\"1\" class=\"dataframe\">\n  <thead>\n    <tr style=\"text-align: right;\">\n      <th></th>\n      <th>age</th>\n      <th>sex</th>\n      <th>cp</th>\n      <th>trestbps</th>\n      <th>chol</th>\n      <th>fbs</th>\n      <th>restecg</th>\n      <th>thalch</th>\n      <th>exang</th>\n      <th>oldpeak</th>\n      <th>slope</th>\n      <th>ca</th>\n      <th>thal</th>\n      <th>num</th>\n    </tr>\n  </thead>\n  <tbody>\n    <tr>\n      <th>0</th>\n      <td>63</td>\n      <td>Male</td>\n      <td>typical angina</td>\n      <td>145.0</td>\n      <td>233.0</td>\n      <td>True</td>\n      <td>lv hypertrophy</td>\n      <td>150.0</td>\n      <td>False</td>\n      <td>2.3</td>\n      <td>downsloping</td>\n      <td>0.0</td>\n      <td>fixed defect</td>\n      <td>0</td>\n    </tr>\n    <tr>\n      <th>1</th>\n      <td>67</td>\n      <td>Male</td>\n      <td>asymptomatic</td>\n      <td>160.0</td>\n      <td>286.0</td>\n      <td>False</td>\n      <td>lv hypertrophy</td>\n      <td>108.0</td>\n      <td>True</td>\n      <td>1.5</td>\n      <td>flat</td>\n      <td>3.0</td>\n      <td>normal</td>\n      <td>2</td>\n    </tr>\n    <tr>\n      <th>2</th>\n      <td>67</td>\n      <td>Male</td>\n      <td>asymptomatic</td>\n      <td>120.0</td>\n      <td>229.0</td>\n      <td>False</td>\n      <td>lv hypertrophy</td>\n      <td>129.0</td>\n      <td>True</td>\n      <td>2.6</td>\n      <td>flat</td>\n      <td>2.0</td>\n      <td>reversable defect</td>\n      <td>1</td>\n    </tr>\n    <tr>\n      <th>4</th>\n      <td>41</td>\n      <td>Female</td>\n      <td>atypical angina</td>\n      <td>130.0</td>\n      <td>204.0</td>\n      <td>False</td>\n      <td>lv hypertrophy</td>\n      <td>172.0</td>\n      <td>False</td>\n      <td>1.4</td>\n      <td>upsloping</td>\n      <td>0.0</td>\n      <td>normal</td>\n      <td>0</td>\n    </tr>\n    <tr>\n      <th>6</th>\n      <td>62</td>\n      <td>Female</td>\n      <td>asymptomatic</td>\n      <td>140.0</td>\n      <td>268.0</td>\n      <td>False</td>\n      <td>lv hypertrophy</td>\n      <td>160.0</td>\n      <td>False</td>\n      <td>3.6</td>\n      <td>downsloping</td>\n      <td>2.0</td>\n      <td>normal</td>\n      <td>3</td>\n    </tr>\n    <tr>\n      <th>...</th>\n      <td>...</td>\n      <td>...</td>\n      <td>...</td>\n      <td>...</td>\n      <td>...</td>\n      <td>...</td>\n      <td>...</td>\n      <td>...</td>\n      <td>...</td>\n      <td>...</td>\n      <td>...</td>\n      <td>...</td>\n      <td>...</td>\n      <td>...</td>\n    </tr>\n    <tr>\n      <th>914</th>\n      <td>46</td>\n      <td>Male</td>\n      <td>asymptomatic</td>\n      <td>134.0</td>\n      <td>310.0</td>\n      <td>False</td>\n      <td>normal</td>\n      <td>126.0</td>\n      <td>False</td>\n      <td>0.0</td>\n      <td>NaN</td>\n      <td>NaN</td>\n      <td>normal</td>\n      <td>2</td>\n    </tr>\n    <tr>\n      <th>915</th>\n      <td>54</td>\n      <td>Female</td>\n      <td>asymptomatic</td>\n      <td>127.0</td>\n      <td>333.0</td>\n      <td>True</td>\n      <td>st-t abnormality</td>\n      <td>154.0</td>\n      <td>False</td>\n      <td>0.0</td>\n      <td>NaN</td>\n      <td>NaN</td>\n      <td>NaN</td>\n      <td>1</td>\n    </tr>\n    <tr>\n      <th>916</th>\n      <td>62</td>\n      <td>Male</td>\n      <td>typical angina</td>\n      <td>NaN</td>\n      <td>139.0</td>\n      <td>False</td>\n      <td>st-t abnormality</td>\n      <td>NaN</td>\n      <td>NaN</td>\n      <td>NaN</td>\n      <td>NaN</td>\n      <td>NaN</td>\n      <td>NaN</td>\n      <td>0</td>\n    </tr>\n    <tr>\n      <th>917</th>\n      <td>55</td>\n      <td>Male</td>\n      <td>asymptomatic</td>\n      <td>122.0</td>\n      <td>223.0</td>\n      <td>True</td>\n      <td>st-t abnormality</td>\n      <td>100.0</td>\n      <td>False</td>\n      <td>0.0</td>\n      <td>NaN</td>\n      <td>NaN</td>\n      <td>fixed defect</td>\n      <td>2</td>\n    </tr>\n    <tr>\n      <th>919</th>\n      <td>62</td>\n      <td>Male</td>\n      <td>atypical angina</td>\n      <td>120.0</td>\n      <td>254.0</td>\n      <td>False</td>\n      <td>lv hypertrophy</td>\n      <td>93.0</td>\n      <td>True</td>\n      <td>0.0</td>\n      <td>NaN</td>\n      <td>NaN</td>\n      <td>NaN</td>\n      <td>1</td>\n    </tr>\n  </tbody>\n</table>\n<p>797 rows × 14 columns</p>\n</div>"
     },
     "execution_count": 721,
     "metadata": {},
     "output_type": "execute_result"
    }
   ],
   "source": [
    "og_df = pd.read_csv(\"datasets/heart_disease_uci.csv\")\n",
    "og_df.drop(columns=[\"id\", \"dataset\"], inplace=True)\n",
    "og_df = og_df.drop(og_df[og_df[\"num\"] == 0].sample(frac=0.3).index)\n",
    "og_df"
   ]
  },
  {
   "cell_type": "code",
   "execution_count": 722,
   "metadata": {
    "ExecuteTime": {
     "start_time": "2023-06-03T17:34:47.677075Z",
     "end_time": "2023-06-03T17:34:47.708724Z"
    },
    "collapsed": false
   },
   "outputs": [],
   "source": [
    "categorial_columns = [\"sex\", \"cp\", \"fbs\", \"restecg\", \"exang\", \"slope\", \"thal\"]\n",
    "cont_columns = [\"age\", \"trestbps\", \"chol\", \"thalch\", \"oldpeak\", \"ca\"]"
   ]
  },
  {
   "cell_type": "code",
   "execution_count": 723,
   "metadata": {
    "ExecuteTime": {
     "start_time": "2023-06-03T17:34:47.680599Z",
     "end_time": "2023-06-03T17:34:47.740435Z"
    },
    "collapsed": false
   },
   "outputs": [
    {
     "data": {
      "text/plain": "          age  sex        cp  trestbps      chol  fbs   restecg    thalch   \n0    0.714286  1.0  1.000000  0.725000  0.386401  0.5  0.000000  0.633803  \\\n1    0.795918  1.0  0.000000  0.800000  0.474295  0.0  0.000000  0.338028   \n2    0.795918  1.0  0.000000  0.600000  0.379768  0.0  0.000000  0.485915   \n4    0.265306  0.0  0.333333  0.650000  0.338308  0.0  0.000000  0.788732   \n6    0.693878  0.0  0.000000  0.700000  0.444444  0.0  0.000000  0.704225   \n..        ...  ...       ...       ...       ...  ...       ...       ...   \n914  0.367347  1.0  0.000000  0.670000  0.514096  0.0  0.333333  0.464789   \n915  0.530612  0.0  0.000000  0.635000  0.552239  0.5  0.666667  0.661972   \n916  0.693878  1.0  1.000000  0.660705  0.230514  0.0  0.666667  0.536471   \n917  0.551020  1.0  0.000000  0.610000  0.369818  0.5  0.666667  0.281690   \n919  0.693878  1.0  0.333333  0.600000  0.421227  0.0  0.000000  0.232394   \n\n     exang   oldpeak     slope        ca      thal  \n0      0.0  0.556818  0.000000  0.000000  0.000000  \n1      0.5  0.465909  0.333333  1.000000  0.333333  \n2      0.5  0.590909  0.333333  0.666667  0.666667  \n4      0.0  0.454545  0.666667  0.000000  0.333333  \n6      0.0  0.704545  0.000000  0.666667  0.333333  \n..     ...       ...       ...       ...       ...  \n914    0.0  0.295455  1.000000  0.245547  0.333333  \n915    0.0  0.295455  1.000000  0.245547  1.000000  \n916    1.0  0.402432  1.000000  0.245547  1.000000  \n917    0.0  0.295455  1.000000  0.245547  0.000000  \n919    0.5  0.295455  1.000000  0.245547  1.000000  \n\n[797 rows x 13 columns]",
      "text/html": "<div>\n<style scoped>\n    .dataframe tbody tr th:only-of-type {\n        vertical-align: middle;\n    }\n\n    .dataframe tbody tr th {\n        vertical-align: top;\n    }\n\n    .dataframe thead th {\n        text-align: right;\n    }\n</style>\n<table border=\"1\" class=\"dataframe\">\n  <thead>\n    <tr style=\"text-align: right;\">\n      <th></th>\n      <th>age</th>\n      <th>sex</th>\n      <th>cp</th>\n      <th>trestbps</th>\n      <th>chol</th>\n      <th>fbs</th>\n      <th>restecg</th>\n      <th>thalch</th>\n      <th>exang</th>\n      <th>oldpeak</th>\n      <th>slope</th>\n      <th>ca</th>\n      <th>thal</th>\n    </tr>\n  </thead>\n  <tbody>\n    <tr>\n      <th>0</th>\n      <td>0.714286</td>\n      <td>1.0</td>\n      <td>1.000000</td>\n      <td>0.725000</td>\n      <td>0.386401</td>\n      <td>0.5</td>\n      <td>0.000000</td>\n      <td>0.633803</td>\n      <td>0.0</td>\n      <td>0.556818</td>\n      <td>0.000000</td>\n      <td>0.000000</td>\n      <td>0.000000</td>\n    </tr>\n    <tr>\n      <th>1</th>\n      <td>0.795918</td>\n      <td>1.0</td>\n      <td>0.000000</td>\n      <td>0.800000</td>\n      <td>0.474295</td>\n      <td>0.0</td>\n      <td>0.000000</td>\n      <td>0.338028</td>\n      <td>0.5</td>\n      <td>0.465909</td>\n      <td>0.333333</td>\n      <td>1.000000</td>\n      <td>0.333333</td>\n    </tr>\n    <tr>\n      <th>2</th>\n      <td>0.795918</td>\n      <td>1.0</td>\n      <td>0.000000</td>\n      <td>0.600000</td>\n      <td>0.379768</td>\n      <td>0.0</td>\n      <td>0.000000</td>\n      <td>0.485915</td>\n      <td>0.5</td>\n      <td>0.590909</td>\n      <td>0.333333</td>\n      <td>0.666667</td>\n      <td>0.666667</td>\n    </tr>\n    <tr>\n      <th>4</th>\n      <td>0.265306</td>\n      <td>0.0</td>\n      <td>0.333333</td>\n      <td>0.650000</td>\n      <td>0.338308</td>\n      <td>0.0</td>\n      <td>0.000000</td>\n      <td>0.788732</td>\n      <td>0.0</td>\n      <td>0.454545</td>\n      <td>0.666667</td>\n      <td>0.000000</td>\n      <td>0.333333</td>\n    </tr>\n    <tr>\n      <th>6</th>\n      <td>0.693878</td>\n      <td>0.0</td>\n      <td>0.000000</td>\n      <td>0.700000</td>\n      <td>0.444444</td>\n      <td>0.0</td>\n      <td>0.000000</td>\n      <td>0.704225</td>\n      <td>0.0</td>\n      <td>0.704545</td>\n      <td>0.000000</td>\n      <td>0.666667</td>\n      <td>0.333333</td>\n    </tr>\n    <tr>\n      <th>...</th>\n      <td>...</td>\n      <td>...</td>\n      <td>...</td>\n      <td>...</td>\n      <td>...</td>\n      <td>...</td>\n      <td>...</td>\n      <td>...</td>\n      <td>...</td>\n      <td>...</td>\n      <td>...</td>\n      <td>...</td>\n      <td>...</td>\n    </tr>\n    <tr>\n      <th>914</th>\n      <td>0.367347</td>\n      <td>1.0</td>\n      <td>0.000000</td>\n      <td>0.670000</td>\n      <td>0.514096</td>\n      <td>0.0</td>\n      <td>0.333333</td>\n      <td>0.464789</td>\n      <td>0.0</td>\n      <td>0.295455</td>\n      <td>1.000000</td>\n      <td>0.245547</td>\n      <td>0.333333</td>\n    </tr>\n    <tr>\n      <th>915</th>\n      <td>0.530612</td>\n      <td>0.0</td>\n      <td>0.000000</td>\n      <td>0.635000</td>\n      <td>0.552239</td>\n      <td>0.5</td>\n      <td>0.666667</td>\n      <td>0.661972</td>\n      <td>0.0</td>\n      <td>0.295455</td>\n      <td>1.000000</td>\n      <td>0.245547</td>\n      <td>1.000000</td>\n    </tr>\n    <tr>\n      <th>916</th>\n      <td>0.693878</td>\n      <td>1.0</td>\n      <td>1.000000</td>\n      <td>0.660705</td>\n      <td>0.230514</td>\n      <td>0.0</td>\n      <td>0.666667</td>\n      <td>0.536471</td>\n      <td>1.0</td>\n      <td>0.402432</td>\n      <td>1.000000</td>\n      <td>0.245547</td>\n      <td>1.000000</td>\n    </tr>\n    <tr>\n      <th>917</th>\n      <td>0.551020</td>\n      <td>1.0</td>\n      <td>0.000000</td>\n      <td>0.610000</td>\n      <td>0.369818</td>\n      <td>0.5</td>\n      <td>0.666667</td>\n      <td>0.281690</td>\n      <td>0.0</td>\n      <td>0.295455</td>\n      <td>1.000000</td>\n      <td>0.245547</td>\n      <td>0.000000</td>\n    </tr>\n    <tr>\n      <th>919</th>\n      <td>0.693878</td>\n      <td>1.0</td>\n      <td>0.333333</td>\n      <td>0.600000</td>\n      <td>0.421227</td>\n      <td>0.0</td>\n      <td>0.000000</td>\n      <td>0.232394</td>\n      <td>0.5</td>\n      <td>0.295455</td>\n      <td>1.000000</td>\n      <td>0.245547</td>\n      <td>1.000000</td>\n    </tr>\n  </tbody>\n</table>\n<p>797 rows × 13 columns</p>\n</div>"
     },
     "execution_count": 723,
     "metadata": {},
     "output_type": "execute_result"
    }
   ],
   "source": [
    "df = og_df.copy()\n",
    "df.drop(columns=\"num\", inplace=True)\n",
    "df[categorial_columns] = df[categorial_columns].apply(LabelEncoder().fit_transform)\n",
    "df[categorial_columns] = MinMaxScaler().fit_transform(df[categorial_columns])\n",
    "\n",
    "df[cont_columns] = MinMaxScaler().fit_transform(df[cont_columns])\n",
    "df = df.fillna(df.mean())\n",
    "df"
   ]
  },
  {
   "cell_type": "code",
   "execution_count": 724,
   "metadata": {
    "ExecuteTime": {
     "start_time": "2023-06-03T17:34:47.707796Z",
     "end_time": "2023-06-03T17:34:47.741432Z"
    },
    "collapsed": false
   },
   "outputs": [],
   "source": [
    "class HeartDiseaseDataset(Dataset):\n",
    "    def __init__(self, df):\n",
    "        self.x = torch.tensor(df.values, dtype=torch.float)\n",
    "\n",
    "    def __getitem__(self, idx):\n",
    "        return self.x[idx]\n",
    "\n",
    "    def __len__(self):\n",
    "        return self.x.shape[0]"
   ]
  },
  {
   "cell_type": "code",
   "execution_count": 725,
   "metadata": {
    "ExecuteTime": {
     "start_time": "2023-06-03T17:34:47.711235Z",
     "end_time": "2023-06-03T17:34:47.751941Z"
    },
    "collapsed": false
   },
   "outputs": [
    {
     "data": {
      "text/plain": "797"
     },
     "execution_count": 725,
     "metadata": {},
     "output_type": "execute_result"
    }
   ],
   "source": [
    "dataset = HeartDiseaseDataset(df)\n",
    "dataloader = DataLoader(dataset, batch_size=100, shuffle=True)\n",
    "len(dataset)"
   ]
  },
  {
   "cell_type": "code",
   "execution_count": 726,
   "metadata": {
    "ExecuteTime": {
     "start_time": "2023-06-03T17:34:47.722275Z",
     "end_time": "2023-06-03T17:34:47.866708Z"
    },
    "collapsed": false
   },
   "outputs": [
    {
     "name": "stdout",
     "output_type": "stream",
     "text": [
      "epoch: 1/20, loss = 0.134797\n",
      "epoch: 2/20, loss = 0.129072\n",
      "epoch: 3/20, loss = 0.123741\n",
      "epoch: 4/20, loss = 0.118789\n",
      "epoch: 5/20, loss = 0.114179\n",
      "epoch: 6/20, loss = 0.109854\n",
      "epoch: 7/20, loss = 0.105825\n",
      "epoch: 8/20, loss = 0.102066\n",
      "epoch: 9/20, loss = 0.098521\n",
      "epoch: 10/20, loss = 0.095231\n",
      "epoch: 11/20, loss = 0.092142\n",
      "epoch: 12/20, loss = 0.089303\n",
      "epoch: 13/20, loss = 0.086644\n",
      "epoch: 14/20, loss = 0.084204\n",
      "epoch: 15/20, loss = 0.081990\n",
      "epoch: 16/20, loss = 0.079979\n",
      "epoch: 17/20, loss = 0.078186\n",
      "epoch: 18/20, loss = 0.076542\n",
      "epoch: 19/20, loss = 0.075132\n",
      "epoch: 20/20, loss = 0.073863\n"
     ]
    }
   ],
   "source": [
    "class MixedTypeClusteringModel(nn.Module):\n",
    "    def __init__(self):\n",
    "        super().__init__()\n",
    "        self.encoder = torch.nn.Sequential(\n",
    "            torch.nn.Linear(13, 10),\n",
    "            torch.nn.Sigmoid(),\n",
    "            torch.nn.Linear(10, 7),\n",
    "            torch.nn.Sigmoid(),\n",
    "        )\n",
    "        self.decoder = torch.nn.Sequential(\n",
    "            torch.nn.Linear(7, 10),\n",
    "            torch.nn.Sigmoid(),\n",
    "            torch.nn.Linear(10, 13),\n",
    "            torch.nn.Sigmoid()\n",
    "        )\n",
    "\n",
    "\n",
    "    def forward(self, x):\n",
    "        encoded = self.encoder(x)\n",
    "        decoded = self.decoder(encoded)\n",
    "        return decoded\n",
    "\n",
    "\n",
    "epochs = 20\n",
    "lr = 0.001\n",
    "\n",
    "model = MixedTypeClusteringModel()\n",
    "\n",
    "criterion = nn.MSELoss()\n",
    "optimizer = torch.optim.Adam(model.parameters(), lr=lr)\n",
    "\n",
    "for epoch in range(epochs):\n",
    "    model.train()\n",
    "    loss = 0\n",
    "\n",
    "    for x in dataloader:\n",
    "        optimizer.zero_grad()\n",
    "        outputs = model(x)\n",
    "        train_loss = criterion(outputs,  x)\n",
    "        train_loss.backward()\n",
    "        optimizer.step()\n",
    "        loss += train_loss.item()\n",
    "\n",
    "    loss = loss / len(dataloader)\n",
    "    print(\"epoch: {}/{}, loss = {:.6f}\".format(epoch + 1, epochs, loss))"
   ]
  },
  {
   "cell_type": "code",
   "execution_count": 727,
   "metadata": {
    "ExecuteTime": {
     "start_time": "2023-06-03T17:34:47.867709Z",
     "end_time": "2023-06-03T17:34:47.871638Z"
    },
    "collapsed": false
   },
   "outputs": [
    {
     "data": {
      "text/plain": "array([[0.33563286, 0.54785407, 0.63185495, ..., 0.45946935, 0.45043293,\n        0.7542313 ],\n       [0.34144118, 0.54714125, 0.6273945 , ..., 0.4533577 , 0.4464733 ,\n        0.76069224],\n       [0.34052342, 0.54303515, 0.625451  , ..., 0.4527891 , 0.4455814 ,\n        0.7630433 ],\n       ...,\n       [0.3248014 , 0.54966336, 0.6213418 , ..., 0.44565696, 0.44498637,\n        0.7669306 ],\n       [0.33349502, 0.5554864 , 0.6264569 , ..., 0.45651126, 0.44726452,\n        0.76197034],\n       [0.33331686, 0.55033565, 0.62223995, ..., 0.45474336, 0.4432952 ,\n        0.765264  ]], dtype=float32)"
     },
     "execution_count": 727,
     "metadata": {},
     "output_type": "execute_result"
    }
   ],
   "source": [
    "features = model.encoder(torch.tensor(df.values, dtype=torch.float)).detach().numpy()\n",
    "features"
   ]
  },
  {
   "cell_type": "code",
   "execution_count": 728,
   "metadata": {
    "ExecuteTime": {
     "start_time": "2023-06-03T17:34:47.872638Z",
     "end_time": "2023-06-03T17:34:47.880229Z"
    },
    "collapsed": false
   },
   "outputs": [],
   "source": [
    "def cluster_accuracy(y_pred, y_true):\n",
    "    # We need to map the labels to our cluster labels\n",
    "    # This is a linear assignment problem on a bipartite graph\n",
    "    k = max(len(np.unique(y_pred)), len(np.unique(y_pred)))\n",
    "    cost_matrix = np.zeros((k, k))\n",
    "    for i in range(y_pred.size):\n",
    "        cost_matrix[y_pred[i], y_true[i]] += 1\n",
    "    row_ind, col_ind = linear_sum_assignment(cost_matrix.max() - cost_matrix)\n",
    "    return cost_matrix[row_ind, col_ind].sum() / y_pred.size"
   ]
  },
  {
   "cell_type": "code",
   "execution_count": 729,
   "metadata": {
    "ExecuteTime": {
     "start_time": "2023-06-03T17:34:47.882228Z",
     "end_time": "2023-06-03T17:34:47.933794Z"
    },
    "collapsed": false
   },
   "outputs": [
    {
     "data": {
      "text/plain": "0.30363864491844417"
     },
     "execution_count": 729,
     "metadata": {},
     "output_type": "execute_result"
    }
   ],
   "source": [
    "autoencoder_kmeans = KMeans(n_clusters=5, n_init=\"auto\", random_state=0).fit(features)\n",
    "autoencoder_acc = cluster_accuracy(autoencoder_kmeans.labels_, og_df[\"num\"].to_numpy())\n",
    "autoencoder_acc"
   ]
  },
  {
   "cell_type": "code",
   "execution_count": 730,
   "metadata": {
    "ExecuteTime": {
     "start_time": "2023-06-03T17:34:47.896409Z",
     "end_time": "2023-06-03T17:34:47.933794Z"
    },
    "collapsed": false
   },
   "outputs": [],
   "source": [
    "def encode_feature(df, feature_to_encode):\n",
    "    dummies = pd.get_dummies(df[[feature_to_encode]])\n",
    "    result_df = pd.concat([df, dummies], axis=1)\n",
    "    result_df.drop(columns=feature_to_encode, inplace=True)\n",
    "    return result_df"
   ]
  },
  {
   "cell_type": "code",
   "execution_count": 731,
   "metadata": {
    "ExecuteTime": {
     "start_time": "2023-06-03T17:34:47.900732Z",
     "end_time": "2023-06-03T17:34:47.948515Z"
    },
    "collapsed": false
   },
   "outputs": [
    {
     "data": {
      "text/plain": "     age   trestbps   chol      thalch   oldpeak        ca  sex_Female   \n0     63  145.00000  233.0  150.000000  2.300000  0.000000           0  \\\n1     67  160.00000  286.0  108.000000  1.500000  3.000000           0   \n2     67  120.00000  229.0  129.000000  2.600000  2.000000           0   \n4     41  130.00000  204.0  172.000000  1.400000  0.000000           1   \n6     62  140.00000  268.0  160.000000  3.600000  2.000000           1   \n..   ...        ...    ...         ...       ...       ...         ...   \n914   46  134.00000  310.0  126.000000  0.000000  0.736641           0   \n915   54  127.00000  333.0  154.000000  0.000000  0.736641           1   \n916   62  132.14094  139.0  136.178905  0.941398  0.736641           0   \n917   55  122.00000  223.0  100.000000  0.000000  0.736641           0   \n919   62  120.00000  254.0   93.000000  0.000000  0.736641           0   \n\n     sex_Male  cp_asymptomatic  cp_atypical angina  ...  restecg_normal   \n0           1                0                   0  ...               0  \\\n1           1                1                   0  ...               0   \n2           1                1                   0  ...               0   \n4           0                0                   1  ...               0   \n6           0                1                   0  ...               0   \n..        ...              ...                 ...  ...             ...   \n914         1                1                   0  ...               1   \n915         0                1                   0  ...               0   \n916         1                0                   0  ...               0   \n917         1                1                   0  ...               0   \n919         1                0                   1  ...               0   \n\n     restecg_st-t abnormality  exang_False  exang_True  slope_downsloping   \n0                           0            1           0                  1  \\\n1                           0            0           1                  0   \n2                           0            0           1                  0   \n4                           0            1           0                  0   \n6                           0            1           0                  1   \n..                        ...          ...         ...                ...   \n914                         0            1           0                  0   \n915                         1            1           0                  0   \n916                         1            0           0                  0   \n917                         1            1           0                  0   \n919                         0            0           1                  0   \n\n     slope_flat  slope_upsloping  thal_fixed defect  thal_normal   \n0             0                0                  1            0  \\\n1             1                0                  0            1   \n2             1                0                  0            0   \n4             0                1                  0            1   \n6             0                0                  0            1   \n..          ...              ...                ...          ...   \n914           0                0                  0            1   \n915           0                0                  0            0   \n916           0                0                  0            0   \n917           0                0                  1            0   \n919           0                0                  0            0   \n\n     thal_reversable defect  \n0                         0  \n1                         0  \n2                         1  \n4                         0  \n6                         0  \n..                      ...  \n914                       0  \n915                       0  \n916                       0  \n917                       0  \n919                       0  \n\n[797 rows x 25 columns]",
      "text/html": "<div>\n<style scoped>\n    .dataframe tbody tr th:only-of-type {\n        vertical-align: middle;\n    }\n\n    .dataframe tbody tr th {\n        vertical-align: top;\n    }\n\n    .dataframe thead th {\n        text-align: right;\n    }\n</style>\n<table border=\"1\" class=\"dataframe\">\n  <thead>\n    <tr style=\"text-align: right;\">\n      <th></th>\n      <th>age</th>\n      <th>trestbps</th>\n      <th>chol</th>\n      <th>thalch</th>\n      <th>oldpeak</th>\n      <th>ca</th>\n      <th>sex_Female</th>\n      <th>sex_Male</th>\n      <th>cp_asymptomatic</th>\n      <th>cp_atypical angina</th>\n      <th>...</th>\n      <th>restecg_normal</th>\n      <th>restecg_st-t abnormality</th>\n      <th>exang_False</th>\n      <th>exang_True</th>\n      <th>slope_downsloping</th>\n      <th>slope_flat</th>\n      <th>slope_upsloping</th>\n      <th>thal_fixed defect</th>\n      <th>thal_normal</th>\n      <th>thal_reversable defect</th>\n    </tr>\n  </thead>\n  <tbody>\n    <tr>\n      <th>0</th>\n      <td>63</td>\n      <td>145.00000</td>\n      <td>233.0</td>\n      <td>150.000000</td>\n      <td>2.300000</td>\n      <td>0.000000</td>\n      <td>0</td>\n      <td>1</td>\n      <td>0</td>\n      <td>0</td>\n      <td>...</td>\n      <td>0</td>\n      <td>0</td>\n      <td>1</td>\n      <td>0</td>\n      <td>1</td>\n      <td>0</td>\n      <td>0</td>\n      <td>1</td>\n      <td>0</td>\n      <td>0</td>\n    </tr>\n    <tr>\n      <th>1</th>\n      <td>67</td>\n      <td>160.00000</td>\n      <td>286.0</td>\n      <td>108.000000</td>\n      <td>1.500000</td>\n      <td>3.000000</td>\n      <td>0</td>\n      <td>1</td>\n      <td>1</td>\n      <td>0</td>\n      <td>...</td>\n      <td>0</td>\n      <td>0</td>\n      <td>0</td>\n      <td>1</td>\n      <td>0</td>\n      <td>1</td>\n      <td>0</td>\n      <td>0</td>\n      <td>1</td>\n      <td>0</td>\n    </tr>\n    <tr>\n      <th>2</th>\n      <td>67</td>\n      <td>120.00000</td>\n      <td>229.0</td>\n      <td>129.000000</td>\n      <td>2.600000</td>\n      <td>2.000000</td>\n      <td>0</td>\n      <td>1</td>\n      <td>1</td>\n      <td>0</td>\n      <td>...</td>\n      <td>0</td>\n      <td>0</td>\n      <td>0</td>\n      <td>1</td>\n      <td>0</td>\n      <td>1</td>\n      <td>0</td>\n      <td>0</td>\n      <td>0</td>\n      <td>1</td>\n    </tr>\n    <tr>\n      <th>4</th>\n      <td>41</td>\n      <td>130.00000</td>\n      <td>204.0</td>\n      <td>172.000000</td>\n      <td>1.400000</td>\n      <td>0.000000</td>\n      <td>1</td>\n      <td>0</td>\n      <td>0</td>\n      <td>1</td>\n      <td>...</td>\n      <td>0</td>\n      <td>0</td>\n      <td>1</td>\n      <td>0</td>\n      <td>0</td>\n      <td>0</td>\n      <td>1</td>\n      <td>0</td>\n      <td>1</td>\n      <td>0</td>\n    </tr>\n    <tr>\n      <th>6</th>\n      <td>62</td>\n      <td>140.00000</td>\n      <td>268.0</td>\n      <td>160.000000</td>\n      <td>3.600000</td>\n      <td>2.000000</td>\n      <td>1</td>\n      <td>0</td>\n      <td>1</td>\n      <td>0</td>\n      <td>...</td>\n      <td>0</td>\n      <td>0</td>\n      <td>1</td>\n      <td>0</td>\n      <td>1</td>\n      <td>0</td>\n      <td>0</td>\n      <td>0</td>\n      <td>1</td>\n      <td>0</td>\n    </tr>\n    <tr>\n      <th>...</th>\n      <td>...</td>\n      <td>...</td>\n      <td>...</td>\n      <td>...</td>\n      <td>...</td>\n      <td>...</td>\n      <td>...</td>\n      <td>...</td>\n      <td>...</td>\n      <td>...</td>\n      <td>...</td>\n      <td>...</td>\n      <td>...</td>\n      <td>...</td>\n      <td>...</td>\n      <td>...</td>\n      <td>...</td>\n      <td>...</td>\n      <td>...</td>\n      <td>...</td>\n      <td>...</td>\n    </tr>\n    <tr>\n      <th>914</th>\n      <td>46</td>\n      <td>134.00000</td>\n      <td>310.0</td>\n      <td>126.000000</td>\n      <td>0.000000</td>\n      <td>0.736641</td>\n      <td>0</td>\n      <td>1</td>\n      <td>1</td>\n      <td>0</td>\n      <td>...</td>\n      <td>1</td>\n      <td>0</td>\n      <td>1</td>\n      <td>0</td>\n      <td>0</td>\n      <td>0</td>\n      <td>0</td>\n      <td>0</td>\n      <td>1</td>\n      <td>0</td>\n    </tr>\n    <tr>\n      <th>915</th>\n      <td>54</td>\n      <td>127.00000</td>\n      <td>333.0</td>\n      <td>154.000000</td>\n      <td>0.000000</td>\n      <td>0.736641</td>\n      <td>1</td>\n      <td>0</td>\n      <td>1</td>\n      <td>0</td>\n      <td>...</td>\n      <td>0</td>\n      <td>1</td>\n      <td>1</td>\n      <td>0</td>\n      <td>0</td>\n      <td>0</td>\n      <td>0</td>\n      <td>0</td>\n      <td>0</td>\n      <td>0</td>\n    </tr>\n    <tr>\n      <th>916</th>\n      <td>62</td>\n      <td>132.14094</td>\n      <td>139.0</td>\n      <td>136.178905</td>\n      <td>0.941398</td>\n      <td>0.736641</td>\n      <td>0</td>\n      <td>1</td>\n      <td>0</td>\n      <td>0</td>\n      <td>...</td>\n      <td>0</td>\n      <td>1</td>\n      <td>0</td>\n      <td>0</td>\n      <td>0</td>\n      <td>0</td>\n      <td>0</td>\n      <td>0</td>\n      <td>0</td>\n      <td>0</td>\n    </tr>\n    <tr>\n      <th>917</th>\n      <td>55</td>\n      <td>122.00000</td>\n      <td>223.0</td>\n      <td>100.000000</td>\n      <td>0.000000</td>\n      <td>0.736641</td>\n      <td>0</td>\n      <td>1</td>\n      <td>1</td>\n      <td>0</td>\n      <td>...</td>\n      <td>0</td>\n      <td>1</td>\n      <td>1</td>\n      <td>0</td>\n      <td>0</td>\n      <td>0</td>\n      <td>0</td>\n      <td>1</td>\n      <td>0</td>\n      <td>0</td>\n    </tr>\n    <tr>\n      <th>919</th>\n      <td>62</td>\n      <td>120.00000</td>\n      <td>254.0</td>\n      <td>93.000000</td>\n      <td>0.000000</td>\n      <td>0.736641</td>\n      <td>0</td>\n      <td>1</td>\n      <td>0</td>\n      <td>1</td>\n      <td>...</td>\n      <td>0</td>\n      <td>0</td>\n      <td>0</td>\n      <td>1</td>\n      <td>0</td>\n      <td>0</td>\n      <td>0</td>\n      <td>0</td>\n      <td>0</td>\n      <td>0</td>\n    </tr>\n  </tbody>\n</table>\n<p>797 rows × 25 columns</p>\n</div>"
     },
     "execution_count": 731,
     "metadata": {},
     "output_type": "execute_result"
    }
   ],
   "source": [
    "df_one_hot = og_df.copy()\n",
    "df_one_hot.drop(columns=\"num\", inplace=True)\n",
    "\n",
    "for col in categorial_columns:\n",
    "    df_one_hot = encode_feature(df_one_hot, col)\n",
    "df_one_hot.loc[:, ~df_one_hot.columns.isin(cont_columns)] = df_one_hot.loc[:, ~df_one_hot.columns.isin(cont_columns)].apply(LabelEncoder().fit_transform)\n",
    "df_one_hot = df_one_hot.fillna(df_one_hot.mean())\n",
    "df_one_hot"
   ]
  },
  {
   "cell_type": "code",
   "execution_count": 732,
   "metadata": {
    "ExecuteTime": {
     "start_time": "2023-06-03T17:34:47.948515Z",
     "end_time": "2023-06-03T17:34:48.010785Z"
    },
    "collapsed": false
   },
   "outputs": [
    {
     "data": {
      "text/plain": "0.33751568381430364"
     },
     "execution_count": 732,
     "metadata": {},
     "output_type": "execute_result"
    }
   ],
   "source": [
    "classic_one_hot_kmeans = KMeans(n_clusters=5, n_init=\"auto\", random_state=0).fit(df_one_hot)\n",
    "classic_one_hot_acc = cluster_accuracy(classic_one_hot_kmeans.labels_, og_df[\"num\"].to_numpy())\n",
    "classic_one_hot_acc"
   ]
  },
  {
   "cell_type": "code",
   "execution_count": 733,
   "metadata": {
    "ExecuteTime": {
     "start_time": "2023-06-03T17:34:47.966535Z",
     "end_time": "2023-06-03T17:34:48.045987Z"
    },
    "collapsed": false
   },
   "outputs": [
    {
     "data": {
      "text/plain": "797"
     },
     "execution_count": 733,
     "metadata": {},
     "output_type": "execute_result"
    }
   ],
   "source": [
    "one_hot_dataset = HeartDiseaseDataset(df_one_hot)\n",
    "one_hot_dataloader = DataLoader(one_hot_dataset, batch_size=100, shuffle=True)\n",
    "len(one_hot_dataset)"
   ]
  },
  {
   "cell_type": "code",
   "execution_count": 734,
   "metadata": {
    "ExecuteTime": {
     "start_time": "2023-06-03T17:34:47.972215Z",
     "end_time": "2023-06-03T17:34:48.109947Z"
    }
   },
   "outputs": [
    {
     "name": "stdout",
     "output_type": "stream",
     "text": [
      "epoch: 1/20, loss = 3609.641235\n",
      "epoch: 2/20, loss = 3609.099915\n",
      "epoch: 3/20, loss = 3609.670715\n",
      "epoch: 4/20, loss = 3608.340118\n",
      "epoch: 5/20, loss = 3609.050629\n",
      "epoch: 6/20, loss = 3608.688751\n",
      "epoch: 7/20, loss = 3609.491394\n",
      "epoch: 8/20, loss = 3608.751831\n",
      "epoch: 9/20, loss = 3610.072144\n",
      "epoch: 10/20, loss = 3608.554749\n",
      "epoch: 11/20, loss = 3609.849182\n",
      "epoch: 12/20, loss = 3609.257904\n",
      "epoch: 13/20, loss = 3609.341522\n",
      "epoch: 14/20, loss = 3609.083649\n",
      "epoch: 15/20, loss = 3609.468567\n",
      "epoch: 16/20, loss = 3609.425476\n",
      "epoch: 17/20, loss = 3609.324738\n",
      "epoch: 18/20, loss = 3609.362030\n",
      "epoch: 19/20, loss = 3609.700500\n",
      "epoch: 20/20, loss = 3609.622559\n"
     ]
    }
   ],
   "source": [
    "class OneHotMixedTypeClusteringModel(nn.Module):\n",
    "    def __init__(self):\n",
    "        super().__init__()\n",
    "        self.encoder = torch.nn.Sequential(\n",
    "            torch.nn.Linear(25, 18),\n",
    "            torch.nn.Sigmoid(),\n",
    "            torch.nn.Linear(18, 12),\n",
    "            torch.nn.Sigmoid(),\n",
    "        )\n",
    "        self.decoder = torch.nn.Sequential(\n",
    "            torch.nn.Linear(12, 18),\n",
    "            torch.nn.Sigmoid(),\n",
    "            torch.nn.Linear(18, 25),\n",
    "            torch.nn.Sigmoid()\n",
    "        )\n",
    "\n",
    "\n",
    "    def forward(self, x):\n",
    "        encoded = self.encoder(x)\n",
    "        decoded = self.decoder(encoded)\n",
    "        return decoded\n",
    "\n",
    "\n",
    "epochs = 20\n",
    "lr = 0.001\n",
    "\n",
    "one_hot_model = OneHotMixedTypeClusteringModel()\n",
    "\n",
    "criterion = nn.MSELoss()\n",
    "optimizer = torch.optim.Adam(model.parameters(), lr=lr)\n",
    "\n",
    "for epoch in range(epochs):\n",
    "    model.train()\n",
    "    loss = 0\n",
    "\n",
    "    for x in one_hot_dataloader:\n",
    "        optimizer.zero_grad()\n",
    "        outputs = one_hot_model(x)\n",
    "        train_loss = criterion(outputs,  x)\n",
    "        train_loss.backward()\n",
    "        optimizer.step()\n",
    "        loss += train_loss.item()\n",
    "\n",
    "    loss = loss / len(dataloader)\n",
    "    print(\"epoch: {}/{}, loss = {:.6f}\".format(epoch + 1, epochs, loss))"
   ]
  },
  {
   "cell_type": "code",
   "execution_count": 735,
   "metadata": {
    "ExecuteTime": {
     "start_time": "2023-06-03T17:34:48.095194Z",
     "end_time": "2023-06-03T17:34:48.111084Z"
    }
   },
   "outputs": [
    {
     "data": {
      "text/plain": "0.3739021329987453"
     },
     "execution_count": 735,
     "metadata": {},
     "output_type": "execute_result"
    }
   ],
   "source": [
    "one_hot_features = one_hot_model.encoder(torch.tensor(df_one_hot.values, dtype=torch.float)).detach().numpy()\n",
    "one_hot_autoencoder_kmeans = KMeans(n_clusters=5, n_init=\"auto\", random_state=0).fit(one_hot_features)\n",
    "one_hot_autoencoder_acc = cluster_accuracy(one_hot_autoencoder_kmeans.labels_, og_df[\"num\"].to_numpy())\n",
    "one_hot_autoencoder_acc"
   ]
  },
  {
   "cell_type": "code",
   "execution_count": 736,
   "outputs": [
    {
     "data": {
      "text/plain": "array([0, 0, 0, 0, 3, 0, 0, 0, 0, 0, 0, 0, 0, 0, 0, 0, 0, 0, 0, 0, 0, 0,\n       0, 0, 0, 0, 0, 0, 0, 0, 0, 0, 0, 0, 3, 0, 0, 0, 0, 0, 0, 0, 0, 0,\n       0, 0, 0, 0, 0, 0, 0, 0, 0, 0, 0, 0, 0, 0, 0, 0, 0, 0, 0, 0, 0, 0,\n       0, 0, 0, 0, 0, 0, 0, 0, 0, 0, 3, 0, 0, 0, 0, 0, 3, 0, 0, 0, 0, 0,\n       0, 0, 0, 0, 0, 0, 0, 0, 0, 0, 0, 0, 0, 0, 0, 0, 0, 3, 0, 0, 0, 3,\n       0, 0, 0, 0, 0, 0, 0, 0, 0, 0, 0, 0, 0, 0, 0, 0, 2, 0, 0, 0, 0, 0,\n       0, 0, 0, 0, 0, 0, 0, 0, 0, 0, 0, 0, 0, 0, 0, 0, 0, 0, 2, 0, 0, 0,\n       0, 0, 0, 0, 0, 0, 0, 0, 0, 0, 3, 0, 0, 0, 0, 0, 0, 0, 0, 0, 0, 0,\n       0, 0, 0, 0, 0, 0, 0, 3, 0, 0, 0, 0, 0, 0, 0, 0, 0, 0, 0, 0, 0, 0,\n       0, 0, 0, 0, 0, 0, 0, 0, 0, 0, 0, 0, 0, 0, 0, 0, 0, 0, 0, 0, 0, 0,\n       1, 0, 0, 0, 0, 0, 0, 0, 0, 0, 0, 0, 0, 0, 0, 0, 0, 0, 0, 0, 0, 0,\n       0, 3, 0, 0, 0, 0, 0, 0, 2, 0, 0, 0, 0, 0, 0, 0, 0, 0, 0, 0, 0, 0,\n       0, 0, 0, 0, 0, 0, 0, 0, 0, 0, 0, 0, 0, 0, 0, 0, 0, 0, 0, 0, 0, 0,\n       0, 0, 0, 0, 0, 0, 0, 0, 0, 0, 0, 0, 0, 0, 0, 0, 0, 0, 0, 0, 0, 0,\n       0, 0, 0, 0, 0, 0, 0, 0, 0, 0, 0, 0, 0, 0, 0, 0, 0, 0, 0, 0, 0, 0,\n       0, 0, 0, 0, 0, 0, 0, 0, 0, 0, 0, 0, 0, 0, 0, 0, 0, 0, 1, 0, 0, 0,\n       0, 0, 0, 0, 0, 0, 0, 0, 0, 0, 0, 0, 0, 0, 0, 0, 0, 0, 0, 0, 0, 0,\n       0, 0, 0, 0, 0, 0, 0, 0, 0, 0, 0, 0, 0, 0, 0, 0, 0, 0, 0, 0, 0, 0,\n       0, 0, 0, 0, 0, 0, 0, 0, 0, 0, 0, 0, 0, 0, 0, 0, 0, 0, 0, 0, 0, 0,\n       0, 1, 0, 0, 0, 0, 0, 0, 0, 0, 0, 0, 0, 0, 2, 0, 0, 0, 0, 0, 0, 0,\n       0, 0, 0, 0, 0, 0, 0, 0, 1, 0, 0, 0, 0, 0, 0, 0, 0, 0, 0, 0, 0, 0,\n       0, 0, 0, 0, 0, 0, 0, 0, 0, 0, 0, 0, 0, 0, 0, 0, 0, 0, 0, 0, 0, 0,\n       0, 0, 0, 0, 0, 0, 0, 0, 0, 4, 4, 0, 0, 4, 0, 4, 0, 0, 0, 4, 4, 0,\n       0, 0, 0, 0, 0, 0, 0, 0, 4, 0, 0, 3, 0, 0, 0, 0, 0, 0, 4, 4, 0, 0,\n       0, 0, 0, 0, 0, 2, 0, 1, 0, 4, 0, 0, 0, 0, 0, 2, 0, 0, 0, 0, 1, 4,\n       0, 0, 0, 0, 0, 0, 0, 0, 0, 0, 4, 0, 0, 0, 0, 0, 0, 0, 4, 4, 0, 0,\n       0, 0, 1, 0, 0, 0, 0, 0, 0, 0, 2, 3, 0, 0, 0, 0, 0, 2, 0, 4, 0, 4,\n       0, 3, 3, 0, 0, 2, 2, 3, 0, 0, 0, 4, 0, 0, 0, 0, 0, 1, 2, 0, 0, 0,\n       0, 0, 1, 2, 0, 4, 2, 0, 0, 0, 1, 0, 0, 0, 0, 0, 0, 2, 1, 1, 1, 2,\n       2, 0, 0, 1, 0, 0, 0, 0, 0, 0, 0, 0, 0, 0, 0, 2, 0, 2, 0, 0, 0, 0,\n       0, 0, 0, 0, 0, 0, 1, 0, 0, 0, 0, 0, 1, 0, 1, 0, 0, 0, 2, 0, 0, 0,\n       2, 0, 1, 0, 0, 0, 0, 0, 0, 0, 0, 0, 0, 1, 0, 0, 0, 2, 1, 0, 1, 0,\n       0, 1, 0, 0, 0, 0, 0, 0, 0, 0, 1, 0, 0, 2, 2, 0, 0, 0, 1, 2, 0, 0,\n       1, 1, 0, 0, 0, 0, 1, 0, 0, 0, 0, 1, 0, 1, 0, 1, 1, 0, 1, 0, 2, 0,\n       0, 0, 0, 0, 0, 0, 0, 0, 2, 2, 0, 0, 0, 0, 2, 0, 0, 0, 1, 2, 2, 0,\n       0, 0, 0, 1, 0, 0, 2, 0, 0, 0, 1, 0, 0, 1, 0, 1, 0, 0, 0, 0, 0, 0,\n       0, 0, 1, 2, 1], dtype=int64)"
     },
     "execution_count": 736,
     "metadata": {},
     "output_type": "execute_result"
    }
   ],
   "source": [
    "no_nan_df = og_df.interpolate()\n",
    "distance_matrix = gower.gower_matrix(no_nan_df)\n",
    "gower_agglo = AgglomerativeClustering(n_clusters=5, metric=\"precomputed\", linkage=\"average\").fit_predict(distance_matrix)\n",
    "gower_agglo"
   ],
   "metadata": {
    "collapsed": false,
    "ExecuteTime": {
     "start_time": "2023-06-03T17:34:48.106947Z",
     "end_time": "2023-06-03T17:34:48.556765Z"
    }
   }
  },
  {
   "cell_type": "code",
   "execution_count": 737,
   "outputs": [
    {
     "data": {
      "text/plain": "0.38268506900878296"
     },
     "execution_count": 737,
     "metadata": {},
     "output_type": "execute_result"
    }
   ],
   "source": [
    "gower_agglo_acc = cluster_accuracy(gower_agglo, og_df[\"num\"].to_numpy())\n",
    "gower_agglo_acc"
   ],
   "metadata": {
    "collapsed": false,
    "ExecuteTime": {
     "start_time": "2023-06-03T17:34:48.557765Z",
     "end_time": "2023-06-03T17:34:48.562222Z"
    }
   }
  },
  {
   "cell_type": "code",
   "execution_count": 738,
   "outputs": [
    {
     "name": "stdout",
     "output_type": "stream",
     "text": [
      "Naively choose most frequent label: 0.3613550815558344\n",
      "Classic Kmeans with OneHot: 0.33751568381430364\n",
      "Gower Distance Agglomerative: 0.38268506900878296\n",
      "Autoencoder Kmeans: 0.30363864491844417\n",
      "Autoencoder Kmeans and OneHot: 0.3739021329987453\n"
     ]
    }
   ],
   "source": [
    "print(f\"Naively choose most frequent label: {og_df['num'].value_counts().max()/og_df['num'].count()}\")\n",
    "print(f\"Classic Kmeans with OneHot: {classic_one_hot_acc}\")\n",
    "print(f\"Gower Distance Agglomerative: {gower_agglo_acc}\")\n",
    "print(f\"Autoencoder Kmeans: {autoencoder_acc}\")\n",
    "print(f\"Autoencoder Kmeans and OneHot: {one_hot_autoencoder_acc}\")"
   ],
   "metadata": {
    "collapsed": false,
    "ExecuteTime": {
     "start_time": "2023-06-03T17:34:48.562222Z",
     "end_time": "2023-06-03T17:34:48.572150Z"
    }
   }
  },
  {
   "cell_type": "code",
   "execution_count": 738,
   "outputs": [],
   "source": [],
   "metadata": {
    "collapsed": false,
    "ExecuteTime": {
     "start_time": "2023-06-03T17:34:48.573655Z",
     "end_time": "2023-06-03T17:34:48.575586Z"
    }
   }
  }
 ],
 "metadata": {
  "kernelspec": {
   "display_name": "Python 3",
   "language": "python",
   "name": "python3"
  },
  "language_info": {
   "codemirror_mode": {
    "name": "ipython",
    "version": 3
   },
   "file_extension": ".py",
   "mimetype": "text/x-python",
   "name": "python",
   "nbconvert_exporter": "python",
   "pygments_lexer": "ipython3",
   "version": "3.11.2"
  }
 },
 "nbformat": 4,
 "nbformat_minor": 0
}
