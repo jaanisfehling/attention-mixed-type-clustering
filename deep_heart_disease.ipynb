{
 "cells": [
  {
   "cell_type": "code",
   "execution_count": 155,
   "metadata": {
    "ExecuteTime": {
     "start_time": "2023-06-12T14:33:49.229135Z",
     "end_time": "2023-06-12T14:33:49.237143Z"
    },
    "collapsed": true
   },
   "outputs": [],
   "source": [
    "import gower\n",
    "import numpy as np\n",
    "import pandas as pd\n",
    "from sklearn.cluster import KMeans, AgglomerativeClustering\n",
    "from sklearn.preprocessing import LabelEncoder, MinMaxScaler\n",
    "from torch.utils.data import Dataset, DataLoader\n",
    "import torch\n",
    "import torch.nn as nn\n",
    "from scipy.optimize import linear_sum_assignment"
   ]
  },
  {
   "cell_type": "code",
   "execution_count": 156,
   "metadata": {
    "ExecuteTime": {
     "start_time": "2023-06-12T14:33:49.231141Z",
     "end_time": "2023-06-12T14:33:49.278998Z"
    },
    "collapsed": false
   },
   "outputs": [
    {
     "data": {
      "text/plain": "     age     sex               cp  trestbps   chol    fbs           restecg   \n0     63    Male   typical angina     145.0  233.0   True    lv hypertrophy  \\\n1     67    Male     asymptomatic     160.0  286.0  False    lv hypertrophy   \n2     67    Male     asymptomatic     120.0  229.0  False    lv hypertrophy   \n4     41  Female  atypical angina     130.0  204.0  False    lv hypertrophy   \n5     56    Male  atypical angina     120.0  236.0  False            normal   \n..   ...     ...              ...       ...    ...    ...               ...   \n914   46    Male     asymptomatic     134.0  310.0  False            normal   \n915   54  Female     asymptomatic     127.0  333.0   True  st-t abnormality   \n916   62    Male   typical angina       NaN  139.0  False  st-t abnormality   \n917   55    Male     asymptomatic     122.0  223.0   True  st-t abnormality   \n919   62    Male  atypical angina     120.0  254.0  False    lv hypertrophy   \n\n     thalch  exang  oldpeak        slope   ca               thal  num  \n0     150.0  False      2.3  downsloping  0.0       fixed defect    0  \n1     108.0   True      1.5         flat  3.0             normal    2  \n2     129.0   True      2.6         flat  2.0  reversable defect    1  \n4     172.0  False      1.4    upsloping  0.0             normal    0  \n5     178.0  False      0.8    upsloping  0.0             normal    0  \n..      ...    ...      ...          ...  ...                ...  ...  \n914   126.0  False      0.0          NaN  NaN             normal    2  \n915   154.0  False      0.0          NaN  NaN                NaN    1  \n916     NaN    NaN      NaN          NaN  NaN                NaN    0  \n917   100.0  False      0.0          NaN  NaN       fixed defect    2  \n919    93.0   True      0.0          NaN  NaN                NaN    1  \n\n[797 rows x 14 columns]",
      "text/html": "<div>\n<style scoped>\n    .dataframe tbody tr th:only-of-type {\n        vertical-align: middle;\n    }\n\n    .dataframe tbody tr th {\n        vertical-align: top;\n    }\n\n    .dataframe thead th {\n        text-align: right;\n    }\n</style>\n<table border=\"1\" class=\"dataframe\">\n  <thead>\n    <tr style=\"text-align: right;\">\n      <th></th>\n      <th>age</th>\n      <th>sex</th>\n      <th>cp</th>\n      <th>trestbps</th>\n      <th>chol</th>\n      <th>fbs</th>\n      <th>restecg</th>\n      <th>thalch</th>\n      <th>exang</th>\n      <th>oldpeak</th>\n      <th>slope</th>\n      <th>ca</th>\n      <th>thal</th>\n      <th>num</th>\n    </tr>\n  </thead>\n  <tbody>\n    <tr>\n      <th>0</th>\n      <td>63</td>\n      <td>Male</td>\n      <td>typical angina</td>\n      <td>145.0</td>\n      <td>233.0</td>\n      <td>True</td>\n      <td>lv hypertrophy</td>\n      <td>150.0</td>\n      <td>False</td>\n      <td>2.3</td>\n      <td>downsloping</td>\n      <td>0.0</td>\n      <td>fixed defect</td>\n      <td>0</td>\n    </tr>\n    <tr>\n      <th>1</th>\n      <td>67</td>\n      <td>Male</td>\n      <td>asymptomatic</td>\n      <td>160.0</td>\n      <td>286.0</td>\n      <td>False</td>\n      <td>lv hypertrophy</td>\n      <td>108.0</td>\n      <td>True</td>\n      <td>1.5</td>\n      <td>flat</td>\n      <td>3.0</td>\n      <td>normal</td>\n      <td>2</td>\n    </tr>\n    <tr>\n      <th>2</th>\n      <td>67</td>\n      <td>Male</td>\n      <td>asymptomatic</td>\n      <td>120.0</td>\n      <td>229.0</td>\n      <td>False</td>\n      <td>lv hypertrophy</td>\n      <td>129.0</td>\n      <td>True</td>\n      <td>2.6</td>\n      <td>flat</td>\n      <td>2.0</td>\n      <td>reversable defect</td>\n      <td>1</td>\n    </tr>\n    <tr>\n      <th>4</th>\n      <td>41</td>\n      <td>Female</td>\n      <td>atypical angina</td>\n      <td>130.0</td>\n      <td>204.0</td>\n      <td>False</td>\n      <td>lv hypertrophy</td>\n      <td>172.0</td>\n      <td>False</td>\n      <td>1.4</td>\n      <td>upsloping</td>\n      <td>0.0</td>\n      <td>normal</td>\n      <td>0</td>\n    </tr>\n    <tr>\n      <th>5</th>\n      <td>56</td>\n      <td>Male</td>\n      <td>atypical angina</td>\n      <td>120.0</td>\n      <td>236.0</td>\n      <td>False</td>\n      <td>normal</td>\n      <td>178.0</td>\n      <td>False</td>\n      <td>0.8</td>\n      <td>upsloping</td>\n      <td>0.0</td>\n      <td>normal</td>\n      <td>0</td>\n    </tr>\n    <tr>\n      <th>...</th>\n      <td>...</td>\n      <td>...</td>\n      <td>...</td>\n      <td>...</td>\n      <td>...</td>\n      <td>...</td>\n      <td>...</td>\n      <td>...</td>\n      <td>...</td>\n      <td>...</td>\n      <td>...</td>\n      <td>...</td>\n      <td>...</td>\n      <td>...</td>\n    </tr>\n    <tr>\n      <th>914</th>\n      <td>46</td>\n      <td>Male</td>\n      <td>asymptomatic</td>\n      <td>134.0</td>\n      <td>310.0</td>\n      <td>False</td>\n      <td>normal</td>\n      <td>126.0</td>\n      <td>False</td>\n      <td>0.0</td>\n      <td>NaN</td>\n      <td>NaN</td>\n      <td>normal</td>\n      <td>2</td>\n    </tr>\n    <tr>\n      <th>915</th>\n      <td>54</td>\n      <td>Female</td>\n      <td>asymptomatic</td>\n      <td>127.0</td>\n      <td>333.0</td>\n      <td>True</td>\n      <td>st-t abnormality</td>\n      <td>154.0</td>\n      <td>False</td>\n      <td>0.0</td>\n      <td>NaN</td>\n      <td>NaN</td>\n      <td>NaN</td>\n      <td>1</td>\n    </tr>\n    <tr>\n      <th>916</th>\n      <td>62</td>\n      <td>Male</td>\n      <td>typical angina</td>\n      <td>NaN</td>\n      <td>139.0</td>\n      <td>False</td>\n      <td>st-t abnormality</td>\n      <td>NaN</td>\n      <td>NaN</td>\n      <td>NaN</td>\n      <td>NaN</td>\n      <td>NaN</td>\n      <td>NaN</td>\n      <td>0</td>\n    </tr>\n    <tr>\n      <th>917</th>\n      <td>55</td>\n      <td>Male</td>\n      <td>asymptomatic</td>\n      <td>122.0</td>\n      <td>223.0</td>\n      <td>True</td>\n      <td>st-t abnormality</td>\n      <td>100.0</td>\n      <td>False</td>\n      <td>0.0</td>\n      <td>NaN</td>\n      <td>NaN</td>\n      <td>fixed defect</td>\n      <td>2</td>\n    </tr>\n    <tr>\n      <th>919</th>\n      <td>62</td>\n      <td>Male</td>\n      <td>atypical angina</td>\n      <td>120.0</td>\n      <td>254.0</td>\n      <td>False</td>\n      <td>lv hypertrophy</td>\n      <td>93.0</td>\n      <td>True</td>\n      <td>0.0</td>\n      <td>NaN</td>\n      <td>NaN</td>\n      <td>NaN</td>\n      <td>1</td>\n    </tr>\n  </tbody>\n</table>\n<p>797 rows × 14 columns</p>\n</div>"
     },
     "execution_count": 156,
     "metadata": {},
     "output_type": "execute_result"
    }
   ],
   "source": [
    "og_df = pd.read_csv(\"datasets/heart_disease_uci.csv\")\n",
    "og_df.drop(columns=[\"id\", \"dataset\"], inplace=True)\n",
    "og_df = og_df.drop(og_df[og_df[\"num\"] == 0].sample(frac=0.3).index)\n",
    "og_df"
   ]
  },
  {
   "cell_type": "code",
   "execution_count": 157,
   "metadata": {
    "ExecuteTime": {
     "start_time": "2023-06-12T14:33:49.253237Z",
     "end_time": "2023-06-12T14:33:49.278998Z"
    },
    "collapsed": false
   },
   "outputs": [],
   "source": [
    "categorial_columns = [\"sex\", \"cp\", \"fbs\", \"restecg\", \"exang\", \"slope\", \"thal\"]\n",
    "cont_columns = [\"age\", \"trestbps\", \"chol\", \"thalch\", \"oldpeak\", \"ca\"]"
   ]
  },
  {
   "cell_type": "code",
   "execution_count": 158,
   "metadata": {
    "ExecuteTime": {
     "start_time": "2023-06-12T14:33:49.257972Z",
     "end_time": "2023-06-12T14:33:49.287480Z"
    },
    "collapsed": false
   },
   "outputs": [
    {
     "data": {
      "text/plain": "          age  sex        cp  trestbps      chol  fbs   restecg    thalch   \n0    0.714286  1.0  1.000000  0.725000  0.386401  0.5  0.000000  0.633803  \\\n1    0.795918  1.0  0.000000  0.800000  0.474295  0.0  0.000000  0.338028   \n2    0.795918  1.0  0.000000  0.600000  0.379768  0.0  0.000000  0.485915   \n4    0.265306  0.0  0.333333  0.650000  0.338308  0.0  0.000000  0.788732   \n5    0.571429  1.0  0.333333  0.600000  0.391376  0.0  0.333333  0.830986   \n..        ...  ...       ...       ...       ...  ...       ...       ...   \n914  0.367347  1.0  0.000000  0.670000  0.514096  0.0  0.333333  0.464789   \n915  0.530612  0.0  0.000000  0.635000  0.552239  0.5  0.666667  0.661972   \n916  0.693878  1.0  1.000000  0.664569  0.230514  0.0  0.666667  0.537106   \n917  0.551020  1.0  0.000000  0.610000  0.369818  0.5  0.666667  0.281690   \n919  0.693878  1.0  0.333333  0.600000  0.421227  0.0  0.000000  0.232394   \n\n     exang   oldpeak     slope        ca      thal  \n0      0.0  0.556818  0.000000  0.000000  0.000000  \n1      0.5  0.465909  0.333333  1.000000  0.333333  \n2      0.5  0.590909  0.333333  0.666667  0.666667  \n4      0.0  0.454545  0.666667  0.000000  0.333333  \n5      0.0  0.386364  0.666667  0.000000  0.333333  \n..     ...       ...       ...       ...       ...  \n914    0.0  0.295455  1.000000  0.246488  0.333333  \n915    0.0  0.295455  1.000000  0.246488  1.000000  \n916    1.0  0.404223  1.000000  0.246488  1.000000  \n917    0.0  0.295455  1.000000  0.246488  0.000000  \n919    0.5  0.295455  1.000000  0.246488  1.000000  \n\n[797 rows x 13 columns]",
      "text/html": "<div>\n<style scoped>\n    .dataframe tbody tr th:only-of-type {\n        vertical-align: middle;\n    }\n\n    .dataframe tbody tr th {\n        vertical-align: top;\n    }\n\n    .dataframe thead th {\n        text-align: right;\n    }\n</style>\n<table border=\"1\" class=\"dataframe\">\n  <thead>\n    <tr style=\"text-align: right;\">\n      <th></th>\n      <th>age</th>\n      <th>sex</th>\n      <th>cp</th>\n      <th>trestbps</th>\n      <th>chol</th>\n      <th>fbs</th>\n      <th>restecg</th>\n      <th>thalch</th>\n      <th>exang</th>\n      <th>oldpeak</th>\n      <th>slope</th>\n      <th>ca</th>\n      <th>thal</th>\n    </tr>\n  </thead>\n  <tbody>\n    <tr>\n      <th>0</th>\n      <td>0.714286</td>\n      <td>1.0</td>\n      <td>1.000000</td>\n      <td>0.725000</td>\n      <td>0.386401</td>\n      <td>0.5</td>\n      <td>0.000000</td>\n      <td>0.633803</td>\n      <td>0.0</td>\n      <td>0.556818</td>\n      <td>0.000000</td>\n      <td>0.000000</td>\n      <td>0.000000</td>\n    </tr>\n    <tr>\n      <th>1</th>\n      <td>0.795918</td>\n      <td>1.0</td>\n      <td>0.000000</td>\n      <td>0.800000</td>\n      <td>0.474295</td>\n      <td>0.0</td>\n      <td>0.000000</td>\n      <td>0.338028</td>\n      <td>0.5</td>\n      <td>0.465909</td>\n      <td>0.333333</td>\n      <td>1.000000</td>\n      <td>0.333333</td>\n    </tr>\n    <tr>\n      <th>2</th>\n      <td>0.795918</td>\n      <td>1.0</td>\n      <td>0.000000</td>\n      <td>0.600000</td>\n      <td>0.379768</td>\n      <td>0.0</td>\n      <td>0.000000</td>\n      <td>0.485915</td>\n      <td>0.5</td>\n      <td>0.590909</td>\n      <td>0.333333</td>\n      <td>0.666667</td>\n      <td>0.666667</td>\n    </tr>\n    <tr>\n      <th>4</th>\n      <td>0.265306</td>\n      <td>0.0</td>\n      <td>0.333333</td>\n      <td>0.650000</td>\n      <td>0.338308</td>\n      <td>0.0</td>\n      <td>0.000000</td>\n      <td>0.788732</td>\n      <td>0.0</td>\n      <td>0.454545</td>\n      <td>0.666667</td>\n      <td>0.000000</td>\n      <td>0.333333</td>\n    </tr>\n    <tr>\n      <th>5</th>\n      <td>0.571429</td>\n      <td>1.0</td>\n      <td>0.333333</td>\n      <td>0.600000</td>\n      <td>0.391376</td>\n      <td>0.0</td>\n      <td>0.333333</td>\n      <td>0.830986</td>\n      <td>0.0</td>\n      <td>0.386364</td>\n      <td>0.666667</td>\n      <td>0.000000</td>\n      <td>0.333333</td>\n    </tr>\n    <tr>\n      <th>...</th>\n      <td>...</td>\n      <td>...</td>\n      <td>...</td>\n      <td>...</td>\n      <td>...</td>\n      <td>...</td>\n      <td>...</td>\n      <td>...</td>\n      <td>...</td>\n      <td>...</td>\n      <td>...</td>\n      <td>...</td>\n      <td>...</td>\n    </tr>\n    <tr>\n      <th>914</th>\n      <td>0.367347</td>\n      <td>1.0</td>\n      <td>0.000000</td>\n      <td>0.670000</td>\n      <td>0.514096</td>\n      <td>0.0</td>\n      <td>0.333333</td>\n      <td>0.464789</td>\n      <td>0.0</td>\n      <td>0.295455</td>\n      <td>1.000000</td>\n      <td>0.246488</td>\n      <td>0.333333</td>\n    </tr>\n    <tr>\n      <th>915</th>\n      <td>0.530612</td>\n      <td>0.0</td>\n      <td>0.000000</td>\n      <td>0.635000</td>\n      <td>0.552239</td>\n      <td>0.5</td>\n      <td>0.666667</td>\n      <td>0.661972</td>\n      <td>0.0</td>\n      <td>0.295455</td>\n      <td>1.000000</td>\n      <td>0.246488</td>\n      <td>1.000000</td>\n    </tr>\n    <tr>\n      <th>916</th>\n      <td>0.693878</td>\n      <td>1.0</td>\n      <td>1.000000</td>\n      <td>0.664569</td>\n      <td>0.230514</td>\n      <td>0.0</td>\n      <td>0.666667</td>\n      <td>0.537106</td>\n      <td>1.0</td>\n      <td>0.404223</td>\n      <td>1.000000</td>\n      <td>0.246488</td>\n      <td>1.000000</td>\n    </tr>\n    <tr>\n      <th>917</th>\n      <td>0.551020</td>\n      <td>1.0</td>\n      <td>0.000000</td>\n      <td>0.610000</td>\n      <td>0.369818</td>\n      <td>0.5</td>\n      <td>0.666667</td>\n      <td>0.281690</td>\n      <td>0.0</td>\n      <td>0.295455</td>\n      <td>1.000000</td>\n      <td>0.246488</td>\n      <td>0.000000</td>\n    </tr>\n    <tr>\n      <th>919</th>\n      <td>0.693878</td>\n      <td>1.0</td>\n      <td>0.333333</td>\n      <td>0.600000</td>\n      <td>0.421227</td>\n      <td>0.0</td>\n      <td>0.000000</td>\n      <td>0.232394</td>\n      <td>0.5</td>\n      <td>0.295455</td>\n      <td>1.000000</td>\n      <td>0.246488</td>\n      <td>1.000000</td>\n    </tr>\n  </tbody>\n</table>\n<p>797 rows × 13 columns</p>\n</div>"
     },
     "execution_count": 158,
     "metadata": {},
     "output_type": "execute_result"
    }
   ],
   "source": [
    "df = og_df.copy()\n",
    "df.drop(columns=\"num\", inplace=True)\n",
    "df[categorial_columns] = df[categorial_columns].apply(LabelEncoder().fit_transform)\n",
    "df[categorial_columns] = MinMaxScaler().fit_transform(df[categorial_columns])\n",
    "\n",
    "df[cont_columns] = MinMaxScaler().fit_transform(df[cont_columns])\n",
    "df = df.fillna(df.mean())\n",
    "df"
   ]
  },
  {
   "cell_type": "code",
   "execution_count": 159,
   "metadata": {
    "ExecuteTime": {
     "start_time": "2023-06-12T14:33:49.283967Z",
     "end_time": "2023-06-12T14:33:49.287480Z"
    },
    "collapsed": false
   },
   "outputs": [],
   "source": [
    "class HeartDiseaseDataset(Dataset):\n",
    "    def __init__(self, df):\n",
    "        self.x = torch.tensor(df.values, dtype=torch.float)\n",
    "\n",
    "    def __getitem__(self, idx):\n",
    "        return self.x[idx]\n",
    "\n",
    "    def __len__(self):\n",
    "        return self.x.shape[0]"
   ]
  },
  {
   "cell_type": "code",
   "execution_count": 160,
   "metadata": {
    "ExecuteTime": {
     "start_time": "2023-06-12T14:33:49.286480Z",
     "end_time": "2023-06-12T14:33:49.296550Z"
    },
    "collapsed": false
   },
   "outputs": [
    {
     "data": {
      "text/plain": "797"
     },
     "execution_count": 160,
     "metadata": {},
     "output_type": "execute_result"
    }
   ],
   "source": [
    "dataset = HeartDiseaseDataset(df)\n",
    "dataloader = DataLoader(dataset, batch_size=100, shuffle=True)\n",
    "len(dataset)"
   ]
  },
  {
   "cell_type": "code",
   "execution_count": 161,
   "metadata": {
    "ExecuteTime": {
     "start_time": "2023-06-12T14:33:49.300061Z",
     "end_time": "2023-06-12T14:33:49.938904Z"
    },
    "collapsed": false
   },
   "outputs": [
    {
     "name": "stdout",
     "output_type": "stream",
     "text": [
      "epoch: 1/100, loss = 0.108678\n",
      "epoch: 2/100, loss = 0.104393\n",
      "epoch: 3/100, loss = 0.100424\n",
      "epoch: 4/100, loss = 0.096694\n",
      "epoch: 5/100, loss = 0.093261\n",
      "epoch: 6/100, loss = 0.090059\n",
      "epoch: 7/100, loss = 0.087123\n",
      "epoch: 8/100, loss = 0.084437\n",
      "epoch: 9/100, loss = 0.082014\n",
      "epoch: 10/100, loss = 0.079788\n",
      "epoch: 11/100, loss = 0.077838\n",
      "epoch: 12/100, loss = 0.076077\n",
      "epoch: 13/100, loss = 0.074555\n",
      "epoch: 14/100, loss = 0.073228\n",
      "epoch: 15/100, loss = 0.072070\n",
      "epoch: 16/100, loss = 0.071086\n",
      "epoch: 17/100, loss = 0.070259\n",
      "epoch: 18/100, loss = 0.069599\n",
      "epoch: 19/100, loss = 0.069036\n",
      "epoch: 20/100, loss = 0.068545\n",
      "epoch: 21/100, loss = 0.068188\n",
      "epoch: 22/100, loss = 0.067868\n",
      "epoch: 23/100, loss = 0.067636\n",
      "epoch: 24/100, loss = 0.067406\n",
      "epoch: 25/100, loss = 0.067268\n",
      "epoch: 26/100, loss = 0.067144\n",
      "epoch: 27/100, loss = 0.067031\n",
      "epoch: 28/100, loss = 0.066947\n",
      "epoch: 29/100, loss = 0.066861\n",
      "epoch: 30/100, loss = 0.066809\n",
      "epoch: 31/100, loss = 0.066753\n",
      "epoch: 32/100, loss = 0.066739\n",
      "epoch: 33/100, loss = 0.066699\n",
      "epoch: 34/100, loss = 0.066664\n",
      "epoch: 35/100, loss = 0.066641\n",
      "epoch: 36/100, loss = 0.066626\n",
      "epoch: 37/100, loss = 0.066613\n",
      "epoch: 38/100, loss = 0.066593\n",
      "epoch: 39/100, loss = 0.066595\n",
      "epoch: 40/100, loss = 0.066588\n",
      "epoch: 41/100, loss = 0.066599\n",
      "epoch: 42/100, loss = 0.066562\n",
      "epoch: 43/100, loss = 0.066575\n",
      "epoch: 44/100, loss = 0.066558\n",
      "epoch: 45/100, loss = 0.066552\n",
      "epoch: 46/100, loss = 0.066553\n",
      "epoch: 47/100, loss = 0.066562\n",
      "epoch: 48/100, loss = 0.066543\n",
      "epoch: 49/100, loss = 0.066533\n",
      "epoch: 50/100, loss = 0.066546\n",
      "epoch: 51/100, loss = 0.066514\n",
      "epoch: 52/100, loss = 0.066535\n",
      "epoch: 53/100, loss = 0.066524\n",
      "epoch: 54/100, loss = 0.066534\n",
      "epoch: 55/100, loss = 0.066502\n",
      "epoch: 56/100, loss = 0.066514\n",
      "epoch: 57/100, loss = 0.066498\n",
      "epoch: 58/100, loss = 0.066522\n",
      "epoch: 59/100, loss = 0.066492\n",
      "epoch: 60/100, loss = 0.066495\n",
      "epoch: 61/100, loss = 0.066480\n",
      "epoch: 62/100, loss = 0.066473\n",
      "epoch: 63/100, loss = 0.066476\n",
      "epoch: 64/100, loss = 0.066463\n",
      "epoch: 65/100, loss = 0.066458\n",
      "epoch: 66/100, loss = 0.066425\n",
      "epoch: 67/100, loss = 0.066438\n",
      "epoch: 68/100, loss = 0.066432\n",
      "epoch: 69/100, loss = 0.066447\n",
      "epoch: 70/100, loss = 0.066437\n",
      "epoch: 71/100, loss = 0.066426\n",
      "epoch: 72/100, loss = 0.066410\n",
      "epoch: 73/100, loss = 0.066401\n",
      "epoch: 74/100, loss = 0.066403\n",
      "epoch: 75/100, loss = 0.066386\n",
      "epoch: 76/100, loss = 0.066400\n",
      "epoch: 77/100, loss = 0.066373\n",
      "epoch: 78/100, loss = 0.066360\n",
      "epoch: 79/100, loss = 0.066351\n",
      "epoch: 80/100, loss = 0.066329\n",
      "epoch: 81/100, loss = 0.066321\n",
      "epoch: 82/100, loss = 0.066318\n",
      "epoch: 83/100, loss = 0.066296\n",
      "epoch: 84/100, loss = 0.066275\n",
      "epoch: 85/100, loss = 0.066263\n",
      "epoch: 86/100, loss = 0.066249\n",
      "epoch: 87/100, loss = 0.066232\n",
      "epoch: 88/100, loss = 0.066220\n",
      "epoch: 89/100, loss = 0.066216\n",
      "epoch: 90/100, loss = 0.066189\n",
      "epoch: 91/100, loss = 0.066165\n",
      "epoch: 92/100, loss = 0.066159\n",
      "epoch: 93/100, loss = 0.066125\n",
      "epoch: 94/100, loss = 0.066117\n",
      "epoch: 95/100, loss = 0.066118\n",
      "epoch: 96/100, loss = 0.066078\n",
      "epoch: 97/100, loss = 0.066037\n",
      "epoch: 98/100, loss = 0.066022\n",
      "epoch: 99/100, loss = 0.065990\n",
      "epoch: 100/100, loss = 0.065961\n"
     ]
    }
   ],
   "source": [
    "class MixedTypeClusteringModel(nn.Module):\n",
    "    def __init__(self):\n",
    "        super().__init__()\n",
    "        self.encoder = torch.nn.Sequential(\n",
    "            torch.nn.Linear(13, 10),\n",
    "            torch.nn.Sigmoid(),\n",
    "            torch.nn.Linear(10, 7),\n",
    "            torch.nn.Sigmoid(),\n",
    "        )\n",
    "        self.decoder = torch.nn.Sequential(\n",
    "            torch.nn.Linear(7, 10),\n",
    "            torch.nn.Sigmoid(),\n",
    "            torch.nn.Linear(10, 13),\n",
    "            torch.nn.Sigmoid()\n",
    "        )\n",
    "\n",
    "\n",
    "    def forward(self, x):\n",
    "        encoded = self.encoder(x)\n",
    "        decoded = self.decoder(encoded)\n",
    "        return decoded\n",
    "\n",
    "\n",
    "epochs = 100\n",
    "lr = 0.001\n",
    "\n",
    "model = MixedTypeClusteringModel()\n",
    "\n",
    "criterion = nn.MSELoss()\n",
    "optimizer = torch.optim.Adam(model.parameters(), lr=lr)\n",
    "\n",
    "for epoch in range(epochs):\n",
    "    model.train()\n",
    "    loss = 0\n",
    "\n",
    "    for x in dataloader:\n",
    "        optimizer.zero_grad()\n",
    "        outputs = model(x)\n",
    "        train_loss = criterion(outputs,  x)\n",
    "        train_loss.backward()\n",
    "        optimizer.step()\n",
    "        loss += train_loss.item()\n",
    "\n",
    "    loss = loss / len(dataloader)\n",
    "    print(\"epoch: {}/{}, loss = {:.6f}\".format(epoch + 1, epochs, loss))"
   ]
  },
  {
   "cell_type": "code",
   "execution_count": 162,
   "metadata": {
    "ExecuteTime": {
     "start_time": "2023-06-12T14:33:49.940913Z",
     "end_time": "2023-06-12T14:33:49.944265Z"
    },
    "collapsed": false
   },
   "outputs": [
    {
     "data": {
      "text/plain": "array([[0.38873935, 0.568156  , 0.6324271 , ..., 0.45219344, 0.648023  ,\n        0.55143017],\n       [0.26643524, 0.712885  , 0.76003903, ..., 0.54008555, 0.7550563 ,\n        0.4266476 ],\n       [0.25017765, 0.74500644, 0.78310627, ..., 0.58863246, 0.7777908 ,\n        0.39654446],\n       ...,\n       [0.2134335 , 0.76809704, 0.68582743, ..., 0.6598072 , 0.722394  ,\n        0.24376276],\n       [0.25164175, 0.71169984, 0.6915861 , ..., 0.6443373 , 0.75804615,\n        0.36761266],\n       [0.19714141, 0.8151962 , 0.7924184 , ..., 0.7200219 , 0.80788034,\n        0.28709126]], dtype=float32)"
     },
     "execution_count": 162,
     "metadata": {},
     "output_type": "execute_result"
    }
   ],
   "source": [
    "features = model.encoder(torch.tensor(df.values, dtype=torch.float)).detach().numpy()\n",
    "features"
   ]
  },
  {
   "cell_type": "code",
   "execution_count": 163,
   "metadata": {
    "ExecuteTime": {
     "start_time": "2023-06-12T14:33:49.945265Z",
     "end_time": "2023-06-12T14:33:49.953434Z"
    },
    "collapsed": false
   },
   "outputs": [],
   "source": [
    "def cluster_accuracy(y_pred, y_true):\n",
    "    # We need to map the labels to our cluster labels\n",
    "    # This is a linear assignment problem on a bipartite graph\n",
    "    k = max(len(np.unique(y_pred)), len(np.unique(y_pred)))\n",
    "    cost_matrix = np.zeros((k, k))\n",
    "    for i in range(y_pred.size):\n",
    "        cost_matrix[y_pred[i], y_true[i]] += 1\n",
    "    row_ind, col_ind = linear_sum_assignment(cost_matrix.max() - cost_matrix)\n",
    "    return cost_matrix[row_ind, col_ind].sum() / y_pred.size"
   ]
  },
  {
   "cell_type": "code",
   "execution_count": 164,
   "metadata": {
    "ExecuteTime": {
     "start_time": "2023-06-12T14:33:49.955435Z",
     "end_time": "2023-06-12T14:33:49.980788Z"
    },
    "collapsed": false
   },
   "outputs": [
    {
     "data": {
      "text/plain": "0.2797992471769134"
     },
     "execution_count": 164,
     "metadata": {},
     "output_type": "execute_result"
    }
   ],
   "source": [
    "autoencoder_kmeans = KMeans(n_clusters=5, n_init=\"auto\", random_state=0).fit(features)\n",
    "autoencoder_acc = cluster_accuracy(autoencoder_kmeans.labels_, og_df[\"num\"].to_numpy())\n",
    "autoencoder_acc"
   ]
  },
  {
   "cell_type": "code",
   "execution_count": 165,
   "metadata": {
    "ExecuteTime": {
     "start_time": "2023-06-12T14:33:49.971670Z",
     "end_time": "2023-06-12T14:33:49.980788Z"
    },
    "collapsed": false
   },
   "outputs": [],
   "source": [
    "def encode_feature(df, feature_to_encode):\n",
    "    dummies = pd.get_dummies(df[[feature_to_encode]])\n",
    "    result_df = pd.concat([df, dummies], axis=1)\n",
    "    result_df.drop(columns=feature_to_encode, inplace=True)\n",
    "    return result_df"
   ]
  },
  {
   "cell_type": "code",
   "execution_count": 166,
   "metadata": {
    "ExecuteTime": {
     "start_time": "2023-06-12T14:33:49.974599Z",
     "end_time": "2023-06-12T14:33:50.047933Z"
    },
    "collapsed": false
   },
   "outputs": [
    {
     "data": {
      "text/plain": "     age    trestbps   chol      thalch   oldpeak        ca  sex_Female   \n0     63  145.000000  233.0  150.000000  2.300000  0.000000           0  \\\n1     67  160.000000  286.0  108.000000  1.500000  3.000000           0   \n2     67  120.000000  229.0  129.000000  2.600000  2.000000           0   \n4     41  130.000000  204.0  172.000000  1.400000  0.000000           1   \n5     56  120.000000  236.0  178.000000  0.800000  0.000000           0   \n..   ...         ...    ...         ...       ...       ...         ...   \n914   46  134.000000  310.0  126.000000  0.000000  0.739464           0   \n915   54  127.000000  333.0  154.000000  0.000000  0.739464           1   \n916   62  132.913863  139.0  136.269076  0.957162  0.739464           0   \n917   55  122.000000  223.0  100.000000  0.000000  0.739464           0   \n919   62  120.000000  254.0   93.000000  0.000000  0.739464           0   \n\n     sex_Male  cp_asymptomatic  cp_atypical angina  ...  restecg_normal   \n0           1                0                   0  ...               0  \\\n1           1                1                   0  ...               0   \n2           1                1                   0  ...               0   \n4           0                0                   1  ...               0   \n5           1                0                   1  ...               1   \n..        ...              ...                 ...  ...             ...   \n914         1                1                   0  ...               1   \n915         0                1                   0  ...               0   \n916         1                0                   0  ...               0   \n917         1                1                   0  ...               0   \n919         1                0                   1  ...               0   \n\n     restecg_st-t abnormality  exang_False  exang_True  slope_downsloping   \n0                           0            1           0                  1  \\\n1                           0            0           1                  0   \n2                           0            0           1                  0   \n4                           0            1           0                  0   \n5                           0            1           0                  0   \n..                        ...          ...         ...                ...   \n914                         0            1           0                  0   \n915                         1            1           0                  0   \n916                         1            0           0                  0   \n917                         1            1           0                  0   \n919                         0            0           1                  0   \n\n     slope_flat  slope_upsloping  thal_fixed defect  thal_normal   \n0             0                0                  1            0  \\\n1             1                0                  0            1   \n2             1                0                  0            0   \n4             0                1                  0            1   \n5             0                1                  0            1   \n..          ...              ...                ...          ...   \n914           0                0                  0            1   \n915           0                0                  0            0   \n916           0                0                  0            0   \n917           0                0                  1            0   \n919           0                0                  0            0   \n\n     thal_reversable defect  \n0                         0  \n1                         0  \n2                         1  \n4                         0  \n5                         0  \n..                      ...  \n914                       0  \n915                       0  \n916                       0  \n917                       0  \n919                       0  \n\n[797 rows x 25 columns]",
      "text/html": "<div>\n<style scoped>\n    .dataframe tbody tr th:only-of-type {\n        vertical-align: middle;\n    }\n\n    .dataframe tbody tr th {\n        vertical-align: top;\n    }\n\n    .dataframe thead th {\n        text-align: right;\n    }\n</style>\n<table border=\"1\" class=\"dataframe\">\n  <thead>\n    <tr style=\"text-align: right;\">\n      <th></th>\n      <th>age</th>\n      <th>trestbps</th>\n      <th>chol</th>\n      <th>thalch</th>\n      <th>oldpeak</th>\n      <th>ca</th>\n      <th>sex_Female</th>\n      <th>sex_Male</th>\n      <th>cp_asymptomatic</th>\n      <th>cp_atypical angina</th>\n      <th>...</th>\n      <th>restecg_normal</th>\n      <th>restecg_st-t abnormality</th>\n      <th>exang_False</th>\n      <th>exang_True</th>\n      <th>slope_downsloping</th>\n      <th>slope_flat</th>\n      <th>slope_upsloping</th>\n      <th>thal_fixed defect</th>\n      <th>thal_normal</th>\n      <th>thal_reversable defect</th>\n    </tr>\n  </thead>\n  <tbody>\n    <tr>\n      <th>0</th>\n      <td>63</td>\n      <td>145.000000</td>\n      <td>233.0</td>\n      <td>150.000000</td>\n      <td>2.300000</td>\n      <td>0.000000</td>\n      <td>0</td>\n      <td>1</td>\n      <td>0</td>\n      <td>0</td>\n      <td>...</td>\n      <td>0</td>\n      <td>0</td>\n      <td>1</td>\n      <td>0</td>\n      <td>1</td>\n      <td>0</td>\n      <td>0</td>\n      <td>1</td>\n      <td>0</td>\n      <td>0</td>\n    </tr>\n    <tr>\n      <th>1</th>\n      <td>67</td>\n      <td>160.000000</td>\n      <td>286.0</td>\n      <td>108.000000</td>\n      <td>1.500000</td>\n      <td>3.000000</td>\n      <td>0</td>\n      <td>1</td>\n      <td>1</td>\n      <td>0</td>\n      <td>...</td>\n      <td>0</td>\n      <td>0</td>\n      <td>0</td>\n      <td>1</td>\n      <td>0</td>\n      <td>1</td>\n      <td>0</td>\n      <td>0</td>\n      <td>1</td>\n      <td>0</td>\n    </tr>\n    <tr>\n      <th>2</th>\n      <td>67</td>\n      <td>120.000000</td>\n      <td>229.0</td>\n      <td>129.000000</td>\n      <td>2.600000</td>\n      <td>2.000000</td>\n      <td>0</td>\n      <td>1</td>\n      <td>1</td>\n      <td>0</td>\n      <td>...</td>\n      <td>0</td>\n      <td>0</td>\n      <td>0</td>\n      <td>1</td>\n      <td>0</td>\n      <td>1</td>\n      <td>0</td>\n      <td>0</td>\n      <td>0</td>\n      <td>1</td>\n    </tr>\n    <tr>\n      <th>4</th>\n      <td>41</td>\n      <td>130.000000</td>\n      <td>204.0</td>\n      <td>172.000000</td>\n      <td>1.400000</td>\n      <td>0.000000</td>\n      <td>1</td>\n      <td>0</td>\n      <td>0</td>\n      <td>1</td>\n      <td>...</td>\n      <td>0</td>\n      <td>0</td>\n      <td>1</td>\n      <td>0</td>\n      <td>0</td>\n      <td>0</td>\n      <td>1</td>\n      <td>0</td>\n      <td>1</td>\n      <td>0</td>\n    </tr>\n    <tr>\n      <th>5</th>\n      <td>56</td>\n      <td>120.000000</td>\n      <td>236.0</td>\n      <td>178.000000</td>\n      <td>0.800000</td>\n      <td>0.000000</td>\n      <td>0</td>\n      <td>1</td>\n      <td>0</td>\n      <td>1</td>\n      <td>...</td>\n      <td>1</td>\n      <td>0</td>\n      <td>1</td>\n      <td>0</td>\n      <td>0</td>\n      <td>0</td>\n      <td>1</td>\n      <td>0</td>\n      <td>1</td>\n      <td>0</td>\n    </tr>\n    <tr>\n      <th>...</th>\n      <td>...</td>\n      <td>...</td>\n      <td>...</td>\n      <td>...</td>\n      <td>...</td>\n      <td>...</td>\n      <td>...</td>\n      <td>...</td>\n      <td>...</td>\n      <td>...</td>\n      <td>...</td>\n      <td>...</td>\n      <td>...</td>\n      <td>...</td>\n      <td>...</td>\n      <td>...</td>\n      <td>...</td>\n      <td>...</td>\n      <td>...</td>\n      <td>...</td>\n      <td>...</td>\n    </tr>\n    <tr>\n      <th>914</th>\n      <td>46</td>\n      <td>134.000000</td>\n      <td>310.0</td>\n      <td>126.000000</td>\n      <td>0.000000</td>\n      <td>0.739464</td>\n      <td>0</td>\n      <td>1</td>\n      <td>1</td>\n      <td>0</td>\n      <td>...</td>\n      <td>1</td>\n      <td>0</td>\n      <td>1</td>\n      <td>0</td>\n      <td>0</td>\n      <td>0</td>\n      <td>0</td>\n      <td>0</td>\n      <td>1</td>\n      <td>0</td>\n    </tr>\n    <tr>\n      <th>915</th>\n      <td>54</td>\n      <td>127.000000</td>\n      <td>333.0</td>\n      <td>154.000000</td>\n      <td>0.000000</td>\n      <td>0.739464</td>\n      <td>1</td>\n      <td>0</td>\n      <td>1</td>\n      <td>0</td>\n      <td>...</td>\n      <td>0</td>\n      <td>1</td>\n      <td>1</td>\n      <td>0</td>\n      <td>0</td>\n      <td>0</td>\n      <td>0</td>\n      <td>0</td>\n      <td>0</td>\n      <td>0</td>\n    </tr>\n    <tr>\n      <th>916</th>\n      <td>62</td>\n      <td>132.913863</td>\n      <td>139.0</td>\n      <td>136.269076</td>\n      <td>0.957162</td>\n      <td>0.739464</td>\n      <td>0</td>\n      <td>1</td>\n      <td>0</td>\n      <td>0</td>\n      <td>...</td>\n      <td>0</td>\n      <td>1</td>\n      <td>0</td>\n      <td>0</td>\n      <td>0</td>\n      <td>0</td>\n      <td>0</td>\n      <td>0</td>\n      <td>0</td>\n      <td>0</td>\n    </tr>\n    <tr>\n      <th>917</th>\n      <td>55</td>\n      <td>122.000000</td>\n      <td>223.0</td>\n      <td>100.000000</td>\n      <td>0.000000</td>\n      <td>0.739464</td>\n      <td>0</td>\n      <td>1</td>\n      <td>1</td>\n      <td>0</td>\n      <td>...</td>\n      <td>0</td>\n      <td>1</td>\n      <td>1</td>\n      <td>0</td>\n      <td>0</td>\n      <td>0</td>\n      <td>0</td>\n      <td>1</td>\n      <td>0</td>\n      <td>0</td>\n    </tr>\n    <tr>\n      <th>919</th>\n      <td>62</td>\n      <td>120.000000</td>\n      <td>254.0</td>\n      <td>93.000000</td>\n      <td>0.000000</td>\n      <td>0.739464</td>\n      <td>0</td>\n      <td>1</td>\n      <td>0</td>\n      <td>1</td>\n      <td>...</td>\n      <td>0</td>\n      <td>0</td>\n      <td>0</td>\n      <td>1</td>\n      <td>0</td>\n      <td>0</td>\n      <td>0</td>\n      <td>0</td>\n      <td>0</td>\n      <td>0</td>\n    </tr>\n  </tbody>\n</table>\n<p>797 rows × 25 columns</p>\n</div>"
     },
     "execution_count": 166,
     "metadata": {},
     "output_type": "execute_result"
    }
   ],
   "source": [
    "df_one_hot = og_df.copy()\n",
    "df_one_hot.drop(columns=\"num\", inplace=True)\n",
    "\n",
    "for col in categorial_columns:\n",
    "    df_one_hot = encode_feature(df_one_hot, col)\n",
    "df_one_hot.loc[:, ~df_one_hot.columns.isin(cont_columns)] = df_one_hot.loc[:, ~df_one_hot.columns.isin(cont_columns)].apply(LabelEncoder().fit_transform)\n",
    "df_one_hot = df_one_hot.fillna(df_one_hot.mean())\n",
    "df_one_hot"
   ]
  },
  {
   "cell_type": "code",
   "execution_count": 167,
   "metadata": {
    "ExecuteTime": {
     "start_time": "2023-06-12T14:33:50.016804Z",
     "end_time": "2023-06-12T14:33:50.048932Z"
    },
    "collapsed": false
   },
   "outputs": [
    {
     "data": {
      "text/plain": "0.31493099121706397"
     },
     "execution_count": 167,
     "metadata": {},
     "output_type": "execute_result"
    }
   ],
   "source": [
    "classic_one_hot_kmeans = KMeans(n_clusters=5, n_init=\"auto\", random_state=0).fit(df_one_hot)\n",
    "classic_one_hot_acc = cluster_accuracy(classic_one_hot_kmeans.labels_, og_df[\"num\"].to_numpy())\n",
    "classic_one_hot_acc"
   ]
  },
  {
   "cell_type": "code",
   "execution_count": 168,
   "metadata": {
    "ExecuteTime": {
     "start_time": "2023-06-12T14:33:50.031686Z",
     "end_time": "2023-06-12T14:33:50.048932Z"
    },
    "collapsed": false
   },
   "outputs": [
    {
     "data": {
      "text/plain": "797"
     },
     "execution_count": 168,
     "metadata": {},
     "output_type": "execute_result"
    }
   ],
   "source": [
    "one_hot_dataset = HeartDiseaseDataset(df_one_hot)\n",
    "one_hot_dataloader = DataLoader(one_hot_dataset, batch_size=100, shuffle=True)\n",
    "len(one_hot_dataset)"
   ]
  },
  {
   "cell_type": "code",
   "execution_count": 169,
   "metadata": {
    "ExecuteTime": {
     "start_time": "2023-06-12T14:33:50.035427Z",
     "end_time": "2023-06-12T14:33:50.520082Z"
    }
   },
   "outputs": [
    {
     "name": "stdout",
     "output_type": "stream",
     "text": [
      "epoch: 1/100, loss = 3616.381348\n",
      "epoch: 2/100, loss = 3615.391052\n",
      "epoch: 3/100, loss = 3615.434570\n",
      "epoch: 4/100, loss = 3616.502411\n",
      "epoch: 5/100, loss = 3616.082031\n",
      "epoch: 6/100, loss = 3615.604370\n",
      "epoch: 7/100, loss = 3617.363647\n",
      "epoch: 8/100, loss = 3614.930115\n",
      "epoch: 9/100, loss = 3616.608032\n",
      "epoch: 10/100, loss = 3615.602844\n",
      "epoch: 11/100, loss = 3615.035126\n",
      "epoch: 12/100, loss = 3616.309204\n",
      "epoch: 13/100, loss = 3615.775665\n",
      "epoch: 14/100, loss = 3616.218903\n",
      "epoch: 15/100, loss = 3616.567780\n",
      "epoch: 16/100, loss = 3616.501007\n",
      "epoch: 17/100, loss = 3615.367218\n",
      "epoch: 18/100, loss = 3616.323242\n",
      "epoch: 19/100, loss = 3616.732941\n",
      "epoch: 20/100, loss = 3616.566101\n",
      "epoch: 21/100, loss = 3616.731323\n",
      "epoch: 22/100, loss = 3615.920532\n",
      "epoch: 23/100, loss = 3615.620972\n",
      "epoch: 24/100, loss = 3615.344147\n",
      "epoch: 25/100, loss = 3616.259521\n",
      "epoch: 26/100, loss = 3615.202057\n",
      "epoch: 27/100, loss = 3615.840149\n",
      "epoch: 28/100, loss = 3615.977661\n",
      "epoch: 29/100, loss = 3615.614960\n",
      "epoch: 30/100, loss = 3616.910828\n",
      "epoch: 31/100, loss = 3615.821075\n",
      "epoch: 32/100, loss = 3616.810883\n",
      "epoch: 33/100, loss = 3615.300934\n",
      "epoch: 34/100, loss = 3615.807892\n",
      "epoch: 35/100, loss = 3616.895172\n",
      "epoch: 36/100, loss = 3615.408569\n",
      "epoch: 37/100, loss = 3616.554504\n",
      "epoch: 38/100, loss = 3615.225403\n",
      "epoch: 39/100, loss = 3615.139587\n",
      "epoch: 40/100, loss = 3615.834381\n",
      "epoch: 41/100, loss = 3615.819702\n",
      "epoch: 42/100, loss = 3616.251007\n",
      "epoch: 43/100, loss = 3616.374603\n",
      "epoch: 44/100, loss = 3616.324188\n",
      "epoch: 45/100, loss = 3615.893677\n",
      "epoch: 46/100, loss = 3616.123260\n",
      "epoch: 47/100, loss = 3617.098267\n",
      "epoch: 48/100, loss = 3615.348022\n",
      "epoch: 49/100, loss = 3615.199890\n",
      "epoch: 50/100, loss = 3616.928406\n",
      "epoch: 51/100, loss = 3615.223541\n",
      "epoch: 52/100, loss = 3615.259552\n",
      "epoch: 53/100, loss = 3616.180603\n",
      "epoch: 54/100, loss = 3615.153656\n",
      "epoch: 55/100, loss = 3616.268341\n",
      "epoch: 56/100, loss = 3616.437317\n",
      "epoch: 57/100, loss = 3615.077362\n",
      "epoch: 58/100, loss = 3614.820404\n",
      "epoch: 59/100, loss = 3616.310272\n",
      "epoch: 60/100, loss = 3615.512573\n",
      "epoch: 61/100, loss = 3615.404785\n",
      "epoch: 62/100, loss = 3615.946045\n",
      "epoch: 63/100, loss = 3615.835785\n",
      "epoch: 64/100, loss = 3615.283875\n",
      "epoch: 65/100, loss = 3615.434723\n",
      "epoch: 66/100, loss = 3615.769745\n",
      "epoch: 67/100, loss = 3614.962738\n",
      "epoch: 68/100, loss = 3616.522522\n",
      "epoch: 69/100, loss = 3615.199554\n",
      "epoch: 70/100, loss = 3615.457275\n",
      "epoch: 71/100, loss = 3616.787506\n",
      "epoch: 72/100, loss = 3615.810089\n",
      "epoch: 73/100, loss = 3615.851929\n",
      "epoch: 74/100, loss = 3615.118805\n",
      "epoch: 75/100, loss = 3617.861786\n",
      "epoch: 76/100, loss = 3616.794403\n",
      "epoch: 77/100, loss = 3616.503906\n",
      "epoch: 78/100, loss = 3615.183655\n",
      "epoch: 79/100, loss = 3616.911011\n",
      "epoch: 80/100, loss = 3615.664246\n",
      "epoch: 81/100, loss = 3616.021912\n",
      "epoch: 82/100, loss = 3616.463806\n",
      "epoch: 83/100, loss = 3615.221130\n",
      "epoch: 84/100, loss = 3615.506500\n",
      "epoch: 85/100, loss = 3615.617065\n",
      "epoch: 86/100, loss = 3616.406830\n",
      "epoch: 87/100, loss = 3615.936920\n",
      "epoch: 88/100, loss = 3615.633698\n",
      "epoch: 89/100, loss = 3615.732086\n",
      "epoch: 90/100, loss = 3616.222015\n",
      "epoch: 91/100, loss = 3615.767487\n",
      "epoch: 92/100, loss = 3615.005890\n",
      "epoch: 93/100, loss = 3616.509064\n",
      "epoch: 94/100, loss = 3615.830017\n",
      "epoch: 95/100, loss = 3615.969940\n",
      "epoch: 96/100, loss = 3615.661865\n",
      "epoch: 97/100, loss = 3615.881653\n",
      "epoch: 98/100, loss = 3617.350983\n",
      "epoch: 99/100, loss = 3615.783722\n",
      "epoch: 100/100, loss = 3616.004425\n"
     ]
    }
   ],
   "source": [
    "class OneHotMixedTypeClusteringModel(nn.Module):\n",
    "    def __init__(self):\n",
    "        super().__init__()\n",
    "        self.encoder = torch.nn.Sequential(\n",
    "            torch.nn.Linear(25, 18),\n",
    "            torch.nn.Sigmoid(),\n",
    "            torch.nn.Linear(18, 12),\n",
    "            torch.nn.Sigmoid(),\n",
    "        )\n",
    "        self.decoder = torch.nn.Sequential(\n",
    "            torch.nn.Linear(12, 18),\n",
    "            torch.nn.Sigmoid(),\n",
    "            torch.nn.Linear(18, 25),\n",
    "            torch.nn.Sigmoid()\n",
    "        )\n",
    "\n",
    "\n",
    "    def forward(self, x):\n",
    "        encoded = self.encoder(x)\n",
    "        decoded = self.decoder(encoded)\n",
    "        return decoded\n",
    "\n",
    "\n",
    "epochs = 100\n",
    "lr = 0.001\n",
    "\n",
    "one_hot_model = OneHotMixedTypeClusteringModel()\n",
    "\n",
    "criterion = nn.MSELoss()\n",
    "optimizer = torch.optim.Adam(model.parameters(), lr=lr)\n",
    "\n",
    "for epoch in range(epochs):\n",
    "    model.train()\n",
    "    loss = 0\n",
    "\n",
    "    for x in one_hot_dataloader:\n",
    "        optimizer.zero_grad()\n",
    "        outputs = one_hot_model(x)\n",
    "        train_loss = criterion(outputs,  x)\n",
    "        train_loss.backward()\n",
    "        optimizer.step()\n",
    "        loss += train_loss.item()\n",
    "\n",
    "    loss = loss / len(dataloader)\n",
    "    print(\"epoch: {}/{}, loss = {:.6f}\".format(epoch + 1, epochs, loss))"
   ]
  },
  {
   "cell_type": "code",
   "execution_count": 170,
   "metadata": {
    "ExecuteTime": {
     "start_time": "2023-06-12T14:33:50.520082Z",
     "end_time": "2023-06-12T14:33:50.532098Z"
    }
   },
   "outputs": [
    {
     "data": {
      "text/plain": "0.3851944792973651"
     },
     "execution_count": 170,
     "metadata": {},
     "output_type": "execute_result"
    }
   ],
   "source": [
    "one_hot_features = one_hot_model.encoder(torch.tensor(df_one_hot.values, dtype=torch.float)).detach().numpy()\n",
    "one_hot_autoencoder_kmeans = KMeans(n_clusters=5, n_init=\"auto\", random_state=0).fit(one_hot_features)\n",
    "one_hot_autoencoder_acc = cluster_accuracy(one_hot_autoencoder_kmeans.labels_, og_df[\"num\"].to_numpy())\n",
    "one_hot_autoencoder_acc"
   ]
  },
  {
   "cell_type": "code",
   "execution_count": 171,
   "outputs": [
    {
     "data": {
      "text/plain": "array([2, 0, 0, 0, 0, 0, 0, 0, 0, 0, 0, 0, 0, 0, 0, 0, 0, 0, 0, 0, 0, 0,\n       0, 0, 0, 0, 0, 0, 0, 0, 0, 0, 0, 0, 0, 0, 0, 0, 0, 0, 0, 0, 0, 0,\n       0, 0, 0, 0, 0, 0, 0, 0, 0, 0, 0, 0, 0, 0, 0, 0, 0, 0, 0, 0, 0, 0,\n       0, 0, 0, 0, 0, 0, 0, 0, 0, 0, 0, 0, 0, 0, 0, 0, 0, 0, 0, 0, 0, 0,\n       0, 0, 0, 0, 0, 0, 0, 0, 0, 0, 0, 0, 0, 0, 0, 0, 0, 0, 0, 0, 0, 0,\n       0, 0, 0, 0, 0, 0, 0, 0, 0, 0, 0, 0, 0, 2, 0, 0, 0, 0, 0, 0, 0, 0,\n       0, 0, 0, 0, 0, 0, 0, 0, 0, 0, 0, 0, 0, 2, 0, 0, 0, 0, 0, 0, 0, 0,\n       0, 0, 0, 0, 0, 0, 0, 0, 0, 1, 0, 0, 0, 0, 0, 0, 0, 0, 0, 0, 0, 0,\n       0, 0, 0, 0, 0, 0, 0, 0, 0, 0, 0, 0, 0, 0, 0, 0, 0, 0, 0, 0, 0, 0,\n       0, 0, 0, 0, 0, 0, 0, 0, 0, 0, 0, 0, 0, 0, 0, 0, 0, 0, 0, 0, 0, 0,\n       0, 0, 0, 0, 0, 0, 0, 0, 0, 0, 0, 0, 0, 0, 0, 0, 0, 0, 0, 3, 0, 0,\n       0, 0, 0, 0, 0, 0, 2, 0, 0, 0, 0, 0, 0, 0, 0, 0, 0, 0, 0, 0, 0, 0,\n       0, 0, 0, 0, 0, 0, 0, 0, 0, 0, 0, 0, 0, 0, 0, 0, 0, 0, 0, 0, 0, 0,\n       0, 0, 0, 0, 0, 0, 0, 0, 0, 0, 0, 0, 0, 0, 0, 0, 0, 0, 0, 0, 0, 0,\n       0, 0, 0, 0, 0, 0, 0, 0, 0, 0, 0, 0, 0, 0, 0, 0, 0, 0, 0, 0, 0, 0,\n       0, 0, 0, 0, 0, 0, 0, 0, 0, 0, 0, 0, 0, 0, 0, 0, 0, 0, 0, 0, 0, 0,\n       0, 0, 0, 0, 0, 0, 0, 0, 0, 0, 0, 0, 0, 0, 0, 0, 0, 0, 0, 0, 0, 0,\n       0, 0, 0, 0, 0, 0, 0, 0, 0, 0, 0, 0, 0, 0, 0, 0, 0, 0, 0, 0, 0, 0,\n       0, 0, 0, 0, 0, 0, 0, 0, 0, 0, 0, 0, 0, 0, 0, 0, 0, 0, 0, 0, 0, 0,\n       2, 0, 0, 0, 0, 0, 0, 0, 0, 2, 0, 0, 0, 0, 0, 0, 0, 0, 0, 0, 0, 0,\n       0, 0, 0, 0, 0, 0, 0, 2, 0, 0, 0, 0, 0, 0, 0, 0, 0, 0, 0, 0, 0, 0,\n       0, 0, 0, 0, 2, 0, 0, 0, 0, 0, 0, 0, 0, 0, 0, 0, 0, 0, 0, 0, 0, 0,\n       0, 0, 0, 0, 0, 0, 0, 0, 1, 1, 0, 0, 1, 0, 0, 1, 0, 1, 1, 0, 0, 1,\n       0, 0, 1, 0, 0, 0, 1, 0, 0, 1, 0, 0, 0, 0, 0, 0, 1, 1, 0, 0, 0, 0,\n       0, 0, 0, 0, 0, 0, 1, 0, 0, 0, 0, 0, 1, 0, 0, 0, 0, 0, 1, 0, 0, 0,\n       0, 0, 0, 0, 0, 0, 1, 1, 0, 0, 0, 0, 0, 0, 0, 1, 1, 0, 0, 0, 0, 4,\n       0, 0, 0, 0, 0, 0, 0, 2, 1, 0, 0, 0, 0, 0, 2, 0, 1, 0, 1, 0, 0, 1,\n       0, 0, 2, 1, 2, 1, 0, 0, 0, 1, 0, 0, 0, 0, 0, 1, 0, 0, 0, 0, 0, 0,\n       0, 1, 2, 0, 0, 0, 0, 0, 0, 0, 0, 0, 2, 2, 0, 2, 2, 0, 0, 2, 0, 0,\n       0, 0, 0, 0, 0, 2, 0, 0, 0, 2, 0, 2, 0, 0, 0, 0, 0, 0, 0, 0, 0, 0,\n       0, 2, 0, 2, 0, 0, 0, 0, 2, 2, 0, 0, 2, 2, 0, 0, 0, 2, 0, 0, 0, 0,\n       0, 0, 0, 0, 0, 0, 2, 0, 2, 0, 1, 0, 0, 0, 2, 2, 0, 2, 0, 0, 2, 0,\n       0, 0, 0, 0, 0, 0, 0, 0, 0, 0, 0, 2, 2, 0, 0, 0, 2, 0, 0, 2, 0, 0,\n       0, 0, 0, 2, 2, 0, 2, 0, 0, 0, 2, 2, 2, 0, 2, 2, 0, 2, 2, 0, 2, 0,\n       0, 0, 0, 0, 0, 0, 2, 0, 2, 2, 2, 0, 0, 0, 2, 2, 0, 0, 0, 2, 2, 0,\n       0, 0, 0, 2, 0, 0, 2, 0, 0, 0, 2, 0, 0, 0, 0, 0, 2, 0, 0, 0, 0, 0,\n       0, 0, 2, 2, 0], dtype=int64)"
     },
     "execution_count": 171,
     "metadata": {},
     "output_type": "execute_result"
    }
   ],
   "source": [
    "no_nan_df = og_df.interpolate()\n",
    "distance_matrix = gower.gower_matrix(no_nan_df)\n",
    "gower_agglo = AgglomerativeClustering(n_clusters=5, metric=\"precomputed\", linkage=\"average\").fit_predict(distance_matrix)\n",
    "gower_agglo"
   ],
   "metadata": {
    "collapsed": false,
    "ExecuteTime": {
     "start_time": "2023-06-12T14:33:50.532098Z",
     "end_time": "2023-06-12T14:33:50.960161Z"
    }
   }
  },
  {
   "cell_type": "code",
   "execution_count": 172,
   "outputs": [
    {
     "data": {
      "text/plain": "0.38017565872020076"
     },
     "execution_count": 172,
     "metadata": {},
     "output_type": "execute_result"
    }
   ],
   "source": [
    "gower_agglo_acc = cluster_accuracy(gower_agglo, og_df[\"num\"].to_numpy())\n",
    "gower_agglo_acc"
   ],
   "metadata": {
    "collapsed": false,
    "ExecuteTime": {
     "start_time": "2023-06-12T14:33:50.964159Z",
     "end_time": "2023-06-12T14:33:50.966745Z"
    }
   }
  },
  {
   "cell_type": "code",
   "execution_count": 173,
   "outputs": [
    {
     "name": "stdout",
     "output_type": "stream",
     "text": [
      "Naively choose most frequent label: 0.3613550815558344\n",
      "Classic Kmeans with OneHot: 0.31493099121706397\n",
      "Gower Distance Agglomerative: 0.38017565872020076\n",
      "Autoencoder Kmeans: 0.2797992471769134\n",
      "Autoencoder Kmeans and OneHot: 0.3851944792973651\n"
     ]
    }
   ],
   "source": [
    "print(f\"Naively choose most frequent label: {og_df['num'].value_counts().max()/og_df['num'].count()}\")\n",
    "print(f\"Classic Kmeans with OneHot: {classic_one_hot_acc}\")\n",
    "print(f\"Gower Distance Agglomerative: {gower_agglo_acc}\")\n",
    "print(f\"Autoencoder Kmeans: {autoencoder_acc}\")\n",
    "print(f\"Autoencoder Kmeans and OneHot: {one_hot_autoencoder_acc}\")"
   ],
   "metadata": {
    "collapsed": false,
    "ExecuteTime": {
     "start_time": "2023-06-12T14:33:50.965745Z",
     "end_time": "2023-06-12T14:33:50.975262Z"
    }
   }
  },
  {
   "cell_type": "code",
   "execution_count": 173,
   "outputs": [],
   "source": [],
   "metadata": {
    "collapsed": false,
    "ExecuteTime": {
     "start_time": "2023-06-12T14:33:50.976666Z",
     "end_time": "2023-06-12T14:33:50.978184Z"
    }
   }
  }
 ],
 "metadata": {
  "kernelspec": {
   "display_name": "Python 3",
   "language": "python",
   "name": "python3"
  },
  "language_info": {
   "codemirror_mode": {
    "name": "ipython",
    "version": 3
   },
   "file_extension": ".py",
   "mimetype": "text/x-python",
   "name": "python",
   "nbconvert_exporter": "python",
   "pygments_lexer": "ipython3",
   "version": "3.11.2"
  }
 },
 "nbformat": 4,
 "nbformat_minor": 0
}
