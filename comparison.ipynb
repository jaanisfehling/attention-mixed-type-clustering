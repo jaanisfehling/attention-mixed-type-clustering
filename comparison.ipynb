{
 "cells": [
  {
   "cell_type": "code",
   "execution_count": 3,
   "metadata": {
    "collapsed": true,
    "ExecuteTime": {
     "end_time": "2023-07-10T15:05:05.307461800Z",
     "start_time": "2023-07-10T15:05:05.294442900Z"
    }
   },
   "outputs": [],
   "source": [
    "import numpy\n",
    "import numpy as np\n",
    "import pandas as pd\n",
    "from sklearn.cluster import KMeans, AgglomerativeClustering\n",
    "from sklearn.metrics import normalized_mutual_info_score\n",
    "from sklearn.preprocessing import LabelEncoder, MinMaxScaler, StandardScaler\n",
    "from torch.utils.data import Dataset, DataLoader\n",
    "import torch\n",
    "import torch.nn as nn\n",
    "import torch.nn.functional as F\n",
    "from scipy.optimize import linear_sum_assignment\n",
    "from clustpy.deep import FlexibleAutoencoder, DCN, IDEC\n",
    "from kmodes.kprototypes import KPrototypes\n",
    "\n",
    "from duped_modules.dcn_duped import DCN as DCNDuped\n",
    "from duped_modules.embeddings_autoencoder import EmbeddingsAutoencoder\n",
    "from duped_modules.gower_duped import gower_matrix as gower_matrix_duped"
   ]
  },
  {
   "cell_type": "code",
   "execution_count": 2,
   "outputs": [
    {
     "data": {
      "text/plain": "       age  job  marital  education  default   balance  housing  loan   \n0       12   10        1          0        0  0.139496        0     0  \\\n1       15    7        1          1        0  1.125461        1     1   \n2       17    4        2          2        0 -0.004031        1     0   \n3       12    4        1          2        0  0.037352        1     1   \n4       41    1        1          1        0 -0.447419        1     0   \n...    ...  ...      ...        ...      ...       ...      ...   ...   \n49727   33    9        1          2        0 -0.176460        0     0   \n49728   53    5        0          0        0  0.120447        0     0   \n49729   54    5        1          1        0  1.429593        0     0   \n49730   39    1        1          1        0 -0.228024        0     0   \n49731   19    2        1          1        0  0.528364        0     0   \n\n       contact  duration  campaign     pdays  previous  poutcome  \n0            0 -0.695712 -0.569351 -0.411453 -0.251940         3  \n1            0 -0.148192 -0.569351  2.984213  1.484611         0  \n2            0 -0.284101 -0.569351  2.894327  0.182198         0  \n3            2 -0.229737  0.399020 -0.411453 -0.251940         3  \n4            2 -0.124893 -0.569351 -0.411453 -0.251940         3  \n...        ...       ...       ...       ...       ...       ...  \n49727        0  2.791329  0.076230 -0.411453 -0.251940         3  \n49728        0  0.768224 -0.246560 -0.411453 -0.251940         3  \n49729        0  3.373797  0.721811  1.436189  1.050473         2  \n49730        1  0.970146  0.399020 -0.411453 -0.251940         3  \n49731        0  0.399328 -0.246560  1.476138  4.523577         1  \n\n[45211 rows x 14 columns]",
      "text/html": "<div>\n<style scoped>\n    .dataframe tbody tr th:only-of-type {\n        vertical-align: middle;\n    }\n\n    .dataframe tbody tr th {\n        vertical-align: top;\n    }\n\n    .dataframe thead th {\n        text-align: right;\n    }\n</style>\n<table border=\"1\" class=\"dataframe\">\n  <thead>\n    <tr style=\"text-align: right;\">\n      <th></th>\n      <th>age</th>\n      <th>job</th>\n      <th>marital</th>\n      <th>education</th>\n      <th>default</th>\n      <th>balance</th>\n      <th>housing</th>\n      <th>loan</th>\n      <th>contact</th>\n      <th>duration</th>\n      <th>campaign</th>\n      <th>pdays</th>\n      <th>previous</th>\n      <th>poutcome</th>\n    </tr>\n  </thead>\n  <tbody>\n    <tr>\n      <th>0</th>\n      <td>12</td>\n      <td>10</td>\n      <td>1</td>\n      <td>0</td>\n      <td>0</td>\n      <td>0.139496</td>\n      <td>0</td>\n      <td>0</td>\n      <td>0</td>\n      <td>-0.695712</td>\n      <td>-0.569351</td>\n      <td>-0.411453</td>\n      <td>-0.251940</td>\n      <td>3</td>\n    </tr>\n    <tr>\n      <th>1</th>\n      <td>15</td>\n      <td>7</td>\n      <td>1</td>\n      <td>1</td>\n      <td>0</td>\n      <td>1.125461</td>\n      <td>1</td>\n      <td>1</td>\n      <td>0</td>\n      <td>-0.148192</td>\n      <td>-0.569351</td>\n      <td>2.984213</td>\n      <td>1.484611</td>\n      <td>0</td>\n    </tr>\n    <tr>\n      <th>2</th>\n      <td>17</td>\n      <td>4</td>\n      <td>2</td>\n      <td>2</td>\n      <td>0</td>\n      <td>-0.004031</td>\n      <td>1</td>\n      <td>0</td>\n      <td>0</td>\n      <td>-0.284101</td>\n      <td>-0.569351</td>\n      <td>2.894327</td>\n      <td>0.182198</td>\n      <td>0</td>\n    </tr>\n    <tr>\n      <th>3</th>\n      <td>12</td>\n      <td>4</td>\n      <td>1</td>\n      <td>2</td>\n      <td>0</td>\n      <td>0.037352</td>\n      <td>1</td>\n      <td>1</td>\n      <td>2</td>\n      <td>-0.229737</td>\n      <td>0.399020</td>\n      <td>-0.411453</td>\n      <td>-0.251940</td>\n      <td>3</td>\n    </tr>\n    <tr>\n      <th>4</th>\n      <td>41</td>\n      <td>1</td>\n      <td>1</td>\n      <td>1</td>\n      <td>0</td>\n      <td>-0.447419</td>\n      <td>1</td>\n      <td>0</td>\n      <td>2</td>\n      <td>-0.124893</td>\n      <td>-0.569351</td>\n      <td>-0.411453</td>\n      <td>-0.251940</td>\n      <td>3</td>\n    </tr>\n    <tr>\n      <th>...</th>\n      <td>...</td>\n      <td>...</td>\n      <td>...</td>\n      <td>...</td>\n      <td>...</td>\n      <td>...</td>\n      <td>...</td>\n      <td>...</td>\n      <td>...</td>\n      <td>...</td>\n      <td>...</td>\n      <td>...</td>\n      <td>...</td>\n      <td>...</td>\n    </tr>\n    <tr>\n      <th>49727</th>\n      <td>33</td>\n      <td>9</td>\n      <td>1</td>\n      <td>2</td>\n      <td>0</td>\n      <td>-0.176460</td>\n      <td>0</td>\n      <td>0</td>\n      <td>0</td>\n      <td>2.791329</td>\n      <td>0.076230</td>\n      <td>-0.411453</td>\n      <td>-0.251940</td>\n      <td>3</td>\n    </tr>\n    <tr>\n      <th>49728</th>\n      <td>53</td>\n      <td>5</td>\n      <td>0</td>\n      <td>0</td>\n      <td>0</td>\n      <td>0.120447</td>\n      <td>0</td>\n      <td>0</td>\n      <td>0</td>\n      <td>0.768224</td>\n      <td>-0.246560</td>\n      <td>-0.411453</td>\n      <td>-0.251940</td>\n      <td>3</td>\n    </tr>\n    <tr>\n      <th>49729</th>\n      <td>54</td>\n      <td>5</td>\n      <td>1</td>\n      <td>1</td>\n      <td>0</td>\n      <td>1.429593</td>\n      <td>0</td>\n      <td>0</td>\n      <td>0</td>\n      <td>3.373797</td>\n      <td>0.721811</td>\n      <td>1.436189</td>\n      <td>1.050473</td>\n      <td>2</td>\n    </tr>\n    <tr>\n      <th>49730</th>\n      <td>39</td>\n      <td>1</td>\n      <td>1</td>\n      <td>1</td>\n      <td>0</td>\n      <td>-0.228024</td>\n      <td>0</td>\n      <td>0</td>\n      <td>1</td>\n      <td>0.970146</td>\n      <td>0.399020</td>\n      <td>-0.411453</td>\n      <td>-0.251940</td>\n      <td>3</td>\n    </tr>\n    <tr>\n      <th>49731</th>\n      <td>19</td>\n      <td>2</td>\n      <td>1</td>\n      <td>1</td>\n      <td>0</td>\n      <td>0.528364</td>\n      <td>0</td>\n      <td>0</td>\n      <td>0</td>\n      <td>0.399328</td>\n      <td>-0.246560</td>\n      <td>1.476138</td>\n      <td>4.523577</td>\n      <td>1</td>\n    </tr>\n  </tbody>\n</table>\n<p>45211 rows × 14 columns</p>\n</div>"
     },
     "execution_count": 2,
     "metadata": {},
     "output_type": "execute_result"
    },
    {
     "data": {
      "text/plain": "<Figure size 640x480 with 1 Axes>",
      "image/png": "[encoded data removed]"
     },
     "metadata": {},
     "output_type": "display_data"
    }
   ],
   "source": [
    "banking_df = pd.read_csv(\"datasets/banking_marketing.csv\", sep=\";\")\n",
    "banking_df.drop_duplicates(inplace=True)\n",
    "\n",
    "banking_y = banking_df[\"y\"]\n",
    "banking_y.hist()\n",
    "banking_y = LabelEncoder().fit_transform(banking_y)\n",
    "\n",
    "banking_cat_cols = [\"age\", \"job\", \"marital\", \"education\", \"default\", \"housing\", \"loan\", \"contact\", \"poutcome\"]\n",
    "banking_cont_cols = [\"balance\", \"duration\", \"campaign\", \"pdays\", \"previous\"]\n",
    "\n",
    "banking_df.drop(columns=[\"y\", \"day\", \"month\"], axis=1, inplace=True)\n",
    "banking_df[banking_cat_cols] = banking_df[banking_cat_cols].apply(LabelEncoder().fit_transform)\n",
    "banking_df[banking_cont_cols] = StandardScaler().fit_transform(banking_df[banking_cont_cols])\n",
    "banking_df"
   ],
   "metadata": {
    "collapsed": false,
    "ExecuteTime": {
     "start_time": "2023-07-09T13:56:33.052018Z",
     "end_time": "2023-07-09T13:56:33.339266Z"
    }
   }
  },
  {
   "cell_type": "code",
   "execution_count": 3,
   "outputs": [
    {
     "data": {
      "text/plain": "            age  workclass    fnlwgt  education  education-num   \n0      0.025724          7 -1.061993          9       1.136595  \\\n1      0.828125          6 -1.007118          9       1.136595   \n2     -0.047221          4  0.245993         11      -0.419685   \n3      1.046961          4  0.426618          1      -1.197826   \n4     -0.776676          4  1.408464          9       1.136595   \n...         ...        ...       ...        ...            ...   \n48837  0.025724          4  0.243843          9       1.136595   \n48838  1.849362          0  1.247430         11      -0.419685   \n48839 -0.047221          4  1.754792          9       1.136595   \n48840  0.390452          4 -1.001626          9       1.136595   \n48841 -0.266058          5 -0.071208          9       1.136595   \n\n       marital-status  occupation  relationship  race  sex  capital-gain   \n0                   4           1             1     4    1      0.146804  \\\n1                   2           4             0     4    1     -0.144847   \n2                   0           6             1     4    1     -0.144847   \n3                   2           6             0     2    1     -0.144847   \n4                   2          10             5     2    0     -0.144847   \n...               ...         ...           ...   ...  ...           ...   \n48837               0          10             1     4    0     -0.144847   \n48838               6           0             2     2    1     -0.144847   \n48839               2          10             0     4    1     -0.144847   \n48840               0           1             3     1    1      0.586964   \n48841               2           4             0     4    1     -0.144847   \n\n       capital-loss  hours-per-week  native-country  \n0         -0.217195       -0.034304              39  \n1         -0.217195       -2.213335              39  \n2         -0.217195       -0.034304              39  \n3         -0.217195       -0.034304              39  \n4         -0.217195       -0.034304               5  \n...             ...             ...             ...  \n48837     -0.217195       -0.357123              39  \n48838     -0.217195       -0.034304              39  \n48839     -0.217195        0.772745              39  \n48840     -0.217195       -0.034304              39  \n48841     -0.217195        1.579794              39  \n\n[48813 rows x 14 columns]",
      "text/html": "<div>\n<style scoped>\n    .dataframe tbody tr th:only-of-type {\n        vertical-align: middle;\n    }\n\n    .dataframe tbody tr th {\n        vertical-align: top;\n    }\n\n    .dataframe thead th {\n        text-align: right;\n    }\n</style>\n<table border=\"1\" class=\"dataframe\">\n  <thead>\n    <tr style=\"text-align: right;\">\n      <th></th>\n      <th>age</th>\n      <th>workclass</th>\n      <th>fnlwgt</th>\n      <th>education</th>\n      <th>education-num</th>\n      <th>marital-status</th>\n      <th>occupation</th>\n      <th>relationship</th>\n      <th>race</th>\n      <th>sex</th>\n      <th>capital-gain</th>\n      <th>capital-loss</th>\n      <th>hours-per-week</th>\n      <th>native-country</th>\n    </tr>\n  </thead>\n  <tbody>\n    <tr>\n      <th>0</th>\n      <td>0.025724</td>\n      <td>7</td>\n      <td>-1.061993</td>\n      <td>9</td>\n      <td>1.136595</td>\n      <td>4</td>\n      <td>1</td>\n      <td>1</td>\n      <td>4</td>\n      <td>1</td>\n      <td>0.146804</td>\n      <td>-0.217195</td>\n      <td>-0.034304</td>\n      <td>39</td>\n    </tr>\n    <tr>\n      <th>1</th>\n      <td>0.828125</td>\n      <td>6</td>\n      <td>-1.007118</td>\n      <td>9</td>\n      <td>1.136595</td>\n      <td>2</td>\n      <td>4</td>\n      <td>0</td>\n      <td>4</td>\n      <td>1</td>\n      <td>-0.144847</td>\n      <td>-0.217195</td>\n      <td>-2.213335</td>\n      <td>39</td>\n    </tr>\n    <tr>\n      <th>2</th>\n      <td>-0.047221</td>\n      <td>4</td>\n      <td>0.245993</td>\n      <td>11</td>\n      <td>-0.419685</td>\n      <td>0</td>\n      <td>6</td>\n      <td>1</td>\n      <td>4</td>\n      <td>1</td>\n      <td>-0.144847</td>\n      <td>-0.217195</td>\n      <td>-0.034304</td>\n      <td>39</td>\n    </tr>\n    <tr>\n      <th>3</th>\n      <td>1.046961</td>\n      <td>4</td>\n      <td>0.426618</td>\n      <td>1</td>\n      <td>-1.197826</td>\n      <td>2</td>\n      <td>6</td>\n      <td>0</td>\n      <td>2</td>\n      <td>1</td>\n      <td>-0.144847</td>\n      <td>-0.217195</td>\n      <td>-0.034304</td>\n      <td>39</td>\n    </tr>\n    <tr>\n      <th>4</th>\n      <td>-0.776676</td>\n      <td>4</td>\n      <td>1.408464</td>\n      <td>9</td>\n      <td>1.136595</td>\n      <td>2</td>\n      <td>10</td>\n      <td>5</td>\n      <td>2</td>\n      <td>0</td>\n      <td>-0.144847</td>\n      <td>-0.217195</td>\n      <td>-0.034304</td>\n      <td>5</td>\n    </tr>\n    <tr>\n      <th>...</th>\n      <td>...</td>\n      <td>...</td>\n      <td>...</td>\n      <td>...</td>\n      <td>...</td>\n      <td>...</td>\n      <td>...</td>\n      <td>...</td>\n      <td>...</td>\n      <td>...</td>\n      <td>...</td>\n      <td>...</td>\n      <td>...</td>\n      <td>...</td>\n    </tr>\n    <tr>\n      <th>48837</th>\n      <td>0.025724</td>\n      <td>4</td>\n      <td>0.243843</td>\n      <td>9</td>\n      <td>1.136595</td>\n      <td>0</td>\n      <td>10</td>\n      <td>1</td>\n      <td>4</td>\n      <td>0</td>\n      <td>-0.144847</td>\n      <td>-0.217195</td>\n      <td>-0.357123</td>\n      <td>39</td>\n    </tr>\n    <tr>\n      <th>48838</th>\n      <td>1.849362</td>\n      <td>0</td>\n      <td>1.247430</td>\n      <td>11</td>\n      <td>-0.419685</td>\n      <td>6</td>\n      <td>0</td>\n      <td>2</td>\n      <td>2</td>\n      <td>1</td>\n      <td>-0.144847</td>\n      <td>-0.217195</td>\n      <td>-0.034304</td>\n      <td>39</td>\n    </tr>\n    <tr>\n      <th>48839</th>\n      <td>-0.047221</td>\n      <td>4</td>\n      <td>1.754792</td>\n      <td>9</td>\n      <td>1.136595</td>\n      <td>2</td>\n      <td>10</td>\n      <td>0</td>\n      <td>4</td>\n      <td>1</td>\n      <td>-0.144847</td>\n      <td>-0.217195</td>\n      <td>0.772745</td>\n      <td>39</td>\n    </tr>\n    <tr>\n      <th>48840</th>\n      <td>0.390452</td>\n      <td>4</td>\n      <td>-1.001626</td>\n      <td>9</td>\n      <td>1.136595</td>\n      <td>0</td>\n      <td>1</td>\n      <td>3</td>\n      <td>1</td>\n      <td>1</td>\n      <td>0.586964</td>\n      <td>-0.217195</td>\n      <td>-0.034304</td>\n      <td>39</td>\n    </tr>\n    <tr>\n      <th>48841</th>\n      <td>-0.266058</td>\n      <td>5</td>\n      <td>-0.071208</td>\n      <td>9</td>\n      <td>1.136595</td>\n      <td>2</td>\n      <td>4</td>\n      <td>0</td>\n      <td>4</td>\n      <td>1</td>\n      <td>-0.144847</td>\n      <td>-0.217195</td>\n      <td>1.579794</td>\n      <td>39</td>\n    </tr>\n  </tbody>\n</table>\n<p>48813 rows × 14 columns</p>\n</div>"
     },
     "execution_count": 3,
     "metadata": {},
     "output_type": "execute_result"
    },
    {
     "data": {
      "text/plain": "<Figure size 640x480 with 1 Axes>",
      "image/png": "[encoded data removed]"
     },
     "metadata": {},
     "output_type": "display_data"
    }
   ],
   "source": [
    "census_df = pd.read_csv(\"datasets/census_income.csv\")\n",
    "census_df.drop_duplicates(inplace=True)\n",
    "\n",
    "census_df.loc[(census_df[\"class\"] == \" <=50K.\") | (census_df[\"class\"] == \" <=50K\"), \"class\"] = 0\n",
    "census_df.loc[(census_df[\"class\"] == \" >50K.\") | (census_df[\"class\"] == \" >50K\"), \"class\"] = 1\n",
    "census_df[\"class\"].hist()\n",
    "census_y = census_df[\"class\"].to_numpy()\n",
    "\n",
    "census_cat_cols = [\"workclass\", \"education\", \"marital-status\", \"occupation\", \"relationship\", \"race\", \"sex\", \"native-country\"]\n",
    "census_cont_cols = [\"age\", \"fnlwgt\", \"education-num\", \"capital-gain\", \"capital-loss\", \"hours-per-week\"]\n",
    "\n",
    "census_df.drop(columns=\"class\", inplace=True)\n",
    "census_df[census_cat_cols] = census_df[census_cat_cols].apply(LabelEncoder().fit_transform)\n",
    "census_df[census_cont_cols] = StandardScaler().fit_transform(census_df[census_cont_cols])\n",
    "census_df"
   ],
   "metadata": {
    "collapsed": false,
    "ExecuteTime": {
     "start_time": "2023-07-09T13:56:33.335750Z",
     "end_time": "2023-07-09T13:56:33.641754Z"
    }
   }
  },
  {
   "cell_type": "code",
   "execution_count": 4,
   "outputs": [
    {
     "data": {
      "text/plain": "     A1        A2        A3  A4  A5  A6  A7        A8  A9  A10       A11  A12   \n0     1 -0.056962 -0.961440   1   0  12   7 -0.295171   1    1 -0.302596    0  \\\n1     0  2.296536 -0.073565   1   0  10   3  0.236217   1    1  0.704516    0   \n2     0 -0.592078 -0.861903   1   0  10   3 -0.220955   1    0 -0.504019    0   \n3     1 -0.310572 -0.654865   1   0  12   7  0.446990   1    1  0.503093    1   \n4     1 -0.958122  0.158358   1   0  12   7 -0.158613   1    0 -0.504019    0   \n..   ..       ...       ...  ..  ..  ..  ..       ...  ..  ...       ...  ...   \n685   1 -0.881193  1.046233   2   2   4   3 -0.295171   0    0 -0.504019    0   \n686   0 -0.746780 -0.812134   1   0   1   7 -0.072523   0    1 -0.101174    1   \n687   0 -0.528676  1.726075   2   2   5   2 -0.072523   0    1 -0.302596    1   \n688   1 -1.148329 -0.920630   1   0   0   7 -0.654378   0    0 -0.504019    0   \n689   1  0.295556 -0.289561   1   0   1   3  1.794756   0    0 -0.504019    1   \n\n     A13       A14       A15  \n0      0  0.128682 -0.193125  \n1      0 -0.816802 -0.086443  \n2      0  0.592504 -0.036150  \n3      0 -0.477855 -0.192553  \n4      2 -0.358926 -0.193125  \n..   ...       ...       ...  \n685    0  0.473575 -0.193125  \n686    0  0.116789 -0.118066  \n687    0  0.116789 -0.192934  \n688    0  0.592504 -0.050247  \n689    0 -1.072499 -0.193125  \n\n[653 rows x 15 columns]",
      "text/html": "<div>\n<style scoped>\n    .dataframe tbody tr th:only-of-type {\n        vertical-align: middle;\n    }\n\n    .dataframe tbody tr th {\n        vertical-align: top;\n    }\n\n    .dataframe thead th {\n        text-align: right;\n    }\n</style>\n<table border=\"1\" class=\"dataframe\">\n  <thead>\n    <tr style=\"text-align: right;\">\n      <th></th>\n      <th>A1</th>\n      <th>A2</th>\n      <th>A3</th>\n      <th>A4</th>\n      <th>A5</th>\n      <th>A6</th>\n      <th>A7</th>\n      <th>A8</th>\n      <th>A9</th>\n      <th>A10</th>\n      <th>A11</th>\n      <th>A12</th>\n      <th>A13</th>\n      <th>A14</th>\n      <th>A15</th>\n    </tr>\n  </thead>\n  <tbody>\n    <tr>\n      <th>0</th>\n      <td>1</td>\n      <td>-0.056962</td>\n      <td>-0.961440</td>\n      <td>1</td>\n      <td>0</td>\n      <td>12</td>\n      <td>7</td>\n      <td>-0.295171</td>\n      <td>1</td>\n      <td>1</td>\n      <td>-0.302596</td>\n      <td>0</td>\n      <td>0</td>\n      <td>0.128682</td>\n      <td>-0.193125</td>\n    </tr>\n    <tr>\n      <th>1</th>\n      <td>0</td>\n      <td>2.296536</td>\n      <td>-0.073565</td>\n      <td>1</td>\n      <td>0</td>\n      <td>10</td>\n      <td>3</td>\n      <td>0.236217</td>\n      <td>1</td>\n      <td>1</td>\n      <td>0.704516</td>\n      <td>0</td>\n      <td>0</td>\n      <td>-0.816802</td>\n      <td>-0.086443</td>\n    </tr>\n    <tr>\n      <th>2</th>\n      <td>0</td>\n      <td>-0.592078</td>\n      <td>-0.861903</td>\n      <td>1</td>\n      <td>0</td>\n      <td>10</td>\n      <td>3</td>\n      <td>-0.220955</td>\n      <td>1</td>\n      <td>0</td>\n      <td>-0.504019</td>\n      <td>0</td>\n      <td>0</td>\n      <td>0.592504</td>\n      <td>-0.036150</td>\n    </tr>\n    <tr>\n      <th>3</th>\n      <td>1</td>\n      <td>-0.310572</td>\n      <td>-0.654865</td>\n      <td>1</td>\n      <td>0</td>\n      <td>12</td>\n      <td>7</td>\n      <td>0.446990</td>\n      <td>1</td>\n      <td>1</td>\n      <td>0.503093</td>\n      <td>1</td>\n      <td>0</td>\n      <td>-0.477855</td>\n      <td>-0.192553</td>\n    </tr>\n    <tr>\n      <th>4</th>\n      <td>1</td>\n      <td>-0.958122</td>\n      <td>0.158358</td>\n      <td>1</td>\n      <td>0</td>\n      <td>12</td>\n      <td>7</td>\n      <td>-0.158613</td>\n      <td>1</td>\n      <td>0</td>\n      <td>-0.504019</td>\n      <td>0</td>\n      <td>2</td>\n      <td>-0.358926</td>\n      <td>-0.193125</td>\n    </tr>\n    <tr>\n      <th>...</th>\n      <td>...</td>\n      <td>...</td>\n      <td>...</td>\n      <td>...</td>\n      <td>...</td>\n      <td>...</td>\n      <td>...</td>\n      <td>...</td>\n      <td>...</td>\n      <td>...</td>\n      <td>...</td>\n      <td>...</td>\n      <td>...</td>\n      <td>...</td>\n      <td>...</td>\n    </tr>\n    <tr>\n      <th>685</th>\n      <td>1</td>\n      <td>-0.881193</td>\n      <td>1.046233</td>\n      <td>2</td>\n      <td>2</td>\n      <td>4</td>\n      <td>3</td>\n      <td>-0.295171</td>\n      <td>0</td>\n      <td>0</td>\n      <td>-0.504019</td>\n      <td>0</td>\n      <td>0</td>\n      <td>0.473575</td>\n      <td>-0.193125</td>\n    </tr>\n    <tr>\n      <th>686</th>\n      <td>0</td>\n      <td>-0.746780</td>\n      <td>-0.812134</td>\n      <td>1</td>\n      <td>0</td>\n      <td>1</td>\n      <td>7</td>\n      <td>-0.072523</td>\n      <td>0</td>\n      <td>1</td>\n      <td>-0.101174</td>\n      <td>1</td>\n      <td>0</td>\n      <td>0.116789</td>\n      <td>-0.118066</td>\n    </tr>\n    <tr>\n      <th>687</th>\n      <td>0</td>\n      <td>-0.528676</td>\n      <td>1.726075</td>\n      <td>2</td>\n      <td>2</td>\n      <td>5</td>\n      <td>2</td>\n      <td>-0.072523</td>\n      <td>0</td>\n      <td>1</td>\n      <td>-0.302596</td>\n      <td>1</td>\n      <td>0</td>\n      <td>0.116789</td>\n      <td>-0.192934</td>\n    </tr>\n    <tr>\n      <th>688</th>\n      <td>1</td>\n      <td>-1.148329</td>\n      <td>-0.920630</td>\n      <td>1</td>\n      <td>0</td>\n      <td>0</td>\n      <td>7</td>\n      <td>-0.654378</td>\n      <td>0</td>\n      <td>0</td>\n      <td>-0.504019</td>\n      <td>0</td>\n      <td>0</td>\n      <td>0.592504</td>\n      <td>-0.050247</td>\n    </tr>\n    <tr>\n      <th>689</th>\n      <td>1</td>\n      <td>0.295556</td>\n      <td>-0.289561</td>\n      <td>1</td>\n      <td>0</td>\n      <td>1</td>\n      <td>3</td>\n      <td>1.794756</td>\n      <td>0</td>\n      <td>0</td>\n      <td>-0.504019</td>\n      <td>1</td>\n      <td>0</td>\n      <td>-1.072499</td>\n      <td>-0.193125</td>\n    </tr>\n  </tbody>\n</table>\n<p>653 rows × 15 columns</p>\n</div>"
     },
     "execution_count": 4,
     "metadata": {},
     "output_type": "execute_result"
    },
    {
     "data": {
      "text/plain": "<Figure size 640x480 with 1 Axes>",
      "image/png": "[encoded data removed]"
     },
     "metadata": {},
     "output_type": "display_data"
    }
   ],
   "source": [
    "credit_df = pd.read_csv(\"datasets/credit_approval.csv\")\n",
    "credit_df.replace(\"?\", pd.NA, inplace=True)\n",
    "credit_df.dropna(inplace=True)\n",
    "credit_df.drop_duplicates(inplace=True)\n",
    "\n",
    "credit_y = credit_df[\"A16\"]\n",
    "credit_y.hist()\n",
    "credit_y = LabelEncoder().fit_transform(credit_y)\n",
    "\n",
    "credit_cat_cols = [\"A1\", \"A4\", \"A5\", \"A6\", \"A7\", \"A9\", \"A10\", \"A12\", \"A13\"]\n",
    "credit_cont_cols = [\"A2\", \"A3\", \"A8\", \"A11\", \"A14\", \"A15\"]\n",
    "\n",
    "credit_df.drop(columns=\"A16\", inplace=True)\n",
    "credit_df[credit_cat_cols] = credit_df[credit_cat_cols].apply(LabelEncoder().fit_transform)\n",
    "credit_df[credit_cont_cols] = StandardScaler().fit_transform(credit_df[credit_cont_cols])\n",
    "credit_df"
   ],
   "metadata": {
    "collapsed": false,
    "ExecuteTime": {
     "start_time": "2023-07-09T13:56:33.645754Z",
     "end_time": "2023-07-09T13:56:33.801218Z"
    }
   }
  },
  {
   "cell_type": "code",
   "execution_count": 5,
   "outputs": [
    {
     "data": {
      "text/plain": "          age  sex  cp  trestbps      chol  fbs  restecg    thalch  exang   \n0    0.940446    1   3  0.749760 -0.262867    1        0  0.029124      0  \\\n1    1.384143    1   0  1.596354  0.747722    0        0 -1.790447      1   \n2    1.384143    1   0 -0.661231 -0.339138    0        0 -0.880662      1   \n3   -1.943588    1   2 -0.096835  0.061285    0        1  1.632079      0   \n4   -1.499891    0   1 -0.096835 -0.815830    0        0  0.982232      0   \n..        ...  ...  ..       ...       ...  ...      ...       ...    ...   \n299  1.495068    1   0  0.693320 -1.025575    1        1 -0.360784      0   \n300  0.274900    1   0 -0.096835 -2.207774    0        1 -1.487186      1   \n301  0.274900    0   1 -0.096835 -0.205664    0        0  1.068878      0   \n508 -0.834344    1   0  1.031958 -0.396341    0        1 -2.223678      1   \n748  0.163975    1   0 -0.661231 -2.798873    0        1 -1.270570      1   \n\n      oldpeak  slope        ca  thal  \n0    1.069475      0 -0.718306     0  \n1    0.380309      1  2.487269     1  \n2    1.327912      1  1.418744     2  \n3    2.103224      0 -0.718306     1  \n4    0.294163      2 -0.718306     1  \n..        ...    ...       ...   ...  \n299  2.017078      1  1.418744     2  \n300  0.121872      1  0.350219     2  \n301 -0.911877      1  0.350219     1  \n508  0.380309      1 -0.718306     2  \n748  0.380309      1 -0.718306     2  \n\n[299 rows x 13 columns]",
      "text/html": "<div>\n<style scoped>\n    .dataframe tbody tr th:only-of-type {\n        vertical-align: middle;\n    }\n\n    .dataframe tbody tr th {\n        vertical-align: top;\n    }\n\n    .dataframe thead th {\n        text-align: right;\n    }\n</style>\n<table border=\"1\" class=\"dataframe\">\n  <thead>\n    <tr style=\"text-align: right;\">\n      <th></th>\n      <th>age</th>\n      <th>sex</th>\n      <th>cp</th>\n      <th>trestbps</th>\n      <th>chol</th>\n      <th>fbs</th>\n      <th>restecg</th>\n      <th>thalch</th>\n      <th>exang</th>\n      <th>oldpeak</th>\n      <th>slope</th>\n      <th>ca</th>\n      <th>thal</th>\n    </tr>\n  </thead>\n  <tbody>\n    <tr>\n      <th>0</th>\n      <td>0.940446</td>\n      <td>1</td>\n      <td>3</td>\n      <td>0.749760</td>\n      <td>-0.262867</td>\n      <td>1</td>\n      <td>0</td>\n      <td>0.029124</td>\n      <td>0</td>\n      <td>1.069475</td>\n      <td>0</td>\n      <td>-0.718306</td>\n      <td>0</td>\n    </tr>\n    <tr>\n      <th>1</th>\n      <td>1.384143</td>\n      <td>1</td>\n      <td>0</td>\n      <td>1.596354</td>\n      <td>0.747722</td>\n      <td>0</td>\n      <td>0</td>\n      <td>-1.790447</td>\n      <td>1</td>\n      <td>0.380309</td>\n      <td>1</td>\n      <td>2.487269</td>\n      <td>1</td>\n    </tr>\n    <tr>\n      <th>2</th>\n      <td>1.384143</td>\n      <td>1</td>\n      <td>0</td>\n      <td>-0.661231</td>\n      <td>-0.339138</td>\n      <td>0</td>\n      <td>0</td>\n      <td>-0.880662</td>\n      <td>1</td>\n      <td>1.327912</td>\n      <td>1</td>\n      <td>1.418744</td>\n      <td>2</td>\n    </tr>\n    <tr>\n      <th>3</th>\n      <td>-1.943588</td>\n      <td>1</td>\n      <td>2</td>\n      <td>-0.096835</td>\n      <td>0.061285</td>\n      <td>0</td>\n      <td>1</td>\n      <td>1.632079</td>\n      <td>0</td>\n      <td>2.103224</td>\n      <td>0</td>\n      <td>-0.718306</td>\n      <td>1</td>\n    </tr>\n    <tr>\n      <th>4</th>\n      <td>-1.499891</td>\n      <td>0</td>\n      <td>1</td>\n      <td>-0.096835</td>\n      <td>-0.815830</td>\n      <td>0</td>\n      <td>0</td>\n      <td>0.982232</td>\n      <td>0</td>\n      <td>0.294163</td>\n      <td>2</td>\n      <td>-0.718306</td>\n      <td>1</td>\n    </tr>\n    <tr>\n      <th>...</th>\n      <td>...</td>\n      <td>...</td>\n      <td>...</td>\n      <td>...</td>\n      <td>...</td>\n      <td>...</td>\n      <td>...</td>\n      <td>...</td>\n      <td>...</td>\n      <td>...</td>\n      <td>...</td>\n      <td>...</td>\n      <td>...</td>\n    </tr>\n    <tr>\n      <th>299</th>\n      <td>1.495068</td>\n      <td>1</td>\n      <td>0</td>\n      <td>0.693320</td>\n      <td>-1.025575</td>\n      <td>1</td>\n      <td>1</td>\n      <td>-0.360784</td>\n      <td>0</td>\n      <td>2.017078</td>\n      <td>1</td>\n      <td>1.418744</td>\n      <td>2</td>\n    </tr>\n    <tr>\n      <th>300</th>\n      <td>0.274900</td>\n      <td>1</td>\n      <td>0</td>\n      <td>-0.096835</td>\n      <td>-2.207774</td>\n      <td>0</td>\n      <td>1</td>\n      <td>-1.487186</td>\n      <td>1</td>\n      <td>0.121872</td>\n      <td>1</td>\n      <td>0.350219</td>\n      <td>2</td>\n    </tr>\n    <tr>\n      <th>301</th>\n      <td>0.274900</td>\n      <td>0</td>\n      <td>1</td>\n      <td>-0.096835</td>\n      <td>-0.205664</td>\n      <td>0</td>\n      <td>0</td>\n      <td>1.068878</td>\n      <td>0</td>\n      <td>-0.911877</td>\n      <td>1</td>\n      <td>0.350219</td>\n      <td>1</td>\n    </tr>\n    <tr>\n      <th>508</th>\n      <td>-0.834344</td>\n      <td>1</td>\n      <td>0</td>\n      <td>1.031958</td>\n      <td>-0.396341</td>\n      <td>0</td>\n      <td>1</td>\n      <td>-2.223678</td>\n      <td>1</td>\n      <td>0.380309</td>\n      <td>1</td>\n      <td>-0.718306</td>\n      <td>2</td>\n    </tr>\n    <tr>\n      <th>748</th>\n      <td>0.163975</td>\n      <td>1</td>\n      <td>0</td>\n      <td>-0.661231</td>\n      <td>-2.798873</td>\n      <td>0</td>\n      <td>1</td>\n      <td>-1.270570</td>\n      <td>1</td>\n      <td>0.380309</td>\n      <td>1</td>\n      <td>-0.718306</td>\n      <td>2</td>\n    </tr>\n  </tbody>\n</table>\n<p>299 rows × 13 columns</p>\n</div>"
     },
     "execution_count": 5,
     "metadata": {},
     "output_type": "execute_result"
    },
    {
     "data": {
      "text/plain": "<Figure size 640x480 with 1 Axes>",
      "image/png": "[encoded data removed]"
     },
     "metadata": {},
     "output_type": "display_data"
    }
   ],
   "source": [
    "heart_df = pd.read_csv(\"datasets/heart_disease.csv\")\n",
    "heart_df.dropna(inplace=True)\n",
    "heart_df.drop_duplicates(inplace=True)\n",
    "\n",
    "heart_df[\"num\"].hist()\n",
    "heart_y = heart_df[\"num\"].to_numpy()\n",
    "\n",
    "heart_cat_cols = [\"sex\", \"cp\", \"fbs\", \"restecg\", \"exang\", \"slope\", \"thal\"]\n",
    "heart_cont_cols = [\"age\", \"trestbps\", \"chol\", \"thalch\", \"oldpeak\", \"ca\"]\n",
    "\n",
    "heart_df.drop(columns=[\"id\", \"dataset\", \"num\"], inplace=True)\n",
    "heart_df.dropna(inplace=True)\n",
    "\n",
    "heart_df[heart_cat_cols] = heart_df[heart_cat_cols].apply(LabelEncoder().fit_transform)\n",
    "heart_df[heart_cont_cols] = StandardScaler().fit_transform(heart_df[heart_cont_cols])\n",
    "heart_df"
   ],
   "metadata": {
    "collapsed": false,
    "ExecuteTime": {
     "start_time": "2023-07-09T13:56:33.758717Z",
     "end_time": "2023-07-09T13:56:33.914402Z"
    }
   }
  },
  {
   "cell_type": "code",
   "execution_count": 6,
   "outputs": [
    {
     "name": "stdout",
     "output_type": "stream",
     "text": [
      "Cat dim: 42, Input dim: 47\n",
      "Embeddings: [(77, 25), (12, 6), (3, 2), (4, 2), (2, 1), (2, 1), (2, 1), (3, 2), (4, 2)]\n"
     ]
    }
   ],
   "source": [
    "class BankingDataset(Dataset):\n",
    "    def __init__(self, df):\n",
    "        self.cat = torch.tensor(df[banking_cat_cols].values, dtype=torch.float)\n",
    "        self.cont = torch.tensor(df[banking_cont_cols].values, dtype=torch.float)\n",
    "    def __getitem__(self, idx):\n",
    "        return self.cat[idx], self.cont[idx]\n",
    "    def __len__(self):\n",
    "        return self.cat.shape[0]\n",
    "\n",
    "banking_dataloader = DataLoader(BankingDataset(banking_df), batch_size=512, shuffle=True)\n",
    "\n",
    "banking_emb_sizes = [(banking_df[col].nunique(), min(50, banking_df[col].nunique()+1) // 2) for col in banking_df[banking_cat_cols]]\n",
    "banking_cat_dim = sum(d for _, d in banking_emb_sizes)\n",
    "banking_input_dim = banking_cat_dim + len(banking_cont_cols)\n",
    "\n",
    "print(f\"Cat dim: {banking_cat_dim}, Input dim: {banking_input_dim}\")\n",
    "print(f\"Embeddings: {banking_emb_sizes}\")"
   ],
   "metadata": {
    "collapsed": false,
    "ExecuteTime": {
     "start_time": "2023-07-09T13:56:33.914402Z",
     "end_time": "2023-07-09T13:56:33.943166Z"
    }
   }
  },
  {
   "cell_type": "code",
   "execution_count": 7,
   "outputs": [
    {
     "name": "stdout",
     "output_type": "stream",
     "text": [
      "Cat dim: 53, Input dim: 59\n",
      "Embeddings: [(9, 5), (16, 8), (7, 4), (15, 8), (6, 3), (5, 3), (2, 1), (42, 21)]\n"
     ]
    }
   ],
   "source": [
    "class CensusDataset(Dataset):\n",
    "    def __init__(self, df):\n",
    "        self.cat = torch.tensor(df[census_cat_cols].values, dtype=torch.float)\n",
    "        self.cont = torch.tensor(df[census_cont_cols].values, dtype=torch.float)\n",
    "    def __getitem__(self, idx):\n",
    "        return self.cat[idx], self.cont[idx]\n",
    "    def __len__(self):\n",
    "        return self.cat.shape[0]\n",
    "\n",
    "census_dataloader = DataLoader(CensusDataset(census_df), batch_size=512, shuffle=True)\n",
    "\n",
    "census_emb_sizes = [(census_df[col].nunique(), min(50, census_df[col].nunique() + 1) // 2) for col in census_df[census_cat_cols]]\n",
    "census_cat_dim = sum(d for _, d in census_emb_sizes)\n",
    "census_input_dim = census_cat_dim + len(census_cont_cols)\n",
    "\n",
    "print(f\"Cat dim: {census_cat_dim}, Input dim: {census_input_dim}\")\n",
    "print(f\"Embeddings: {census_emb_sizes}\")"
   ],
   "metadata": {
    "collapsed": false,
    "ExecuteTime": {
     "start_time": "2023-07-09T13:56:33.945839Z",
     "end_time": "2023-07-09T13:56:34.012354Z"
    }
   }
  },
  {
   "cell_type": "code",
   "execution_count": 8,
   "outputs": [
    {
     "name": "stdout",
     "output_type": "stream",
     "text": [
      "Cat dim: 22, Input dim: 28\n",
      "Embeddings: [(2, 1), (3, 2), (3, 2), (14, 7), (9, 5), (2, 1), (2, 1), (2, 1), (3, 2)]\n"
     ]
    }
   ],
   "source": [
    "class CreditDataset(Dataset):\n",
    "    def __init__(self, df):\n",
    "        self.cat = torch.tensor(df[credit_cat_cols].values, dtype=torch.float)\n",
    "        self.cont = torch.tensor(df[credit_cont_cols].values, dtype=torch.float)\n",
    "    def __getitem__(self, idx):\n",
    "        return self.cat[idx], self.cont[idx]\n",
    "    def __len__(self):\n",
    "        return self.cat.shape[0]\n",
    "\n",
    "credit_dataloader = DataLoader(CreditDataset(credit_df), batch_size=32, shuffle=True)\n",
    "\n",
    "credit_emb_sizes = [(credit_df[col].nunique(), min(50, credit_df[col].nunique() + 1) // 2) for col in credit_df[credit_cat_cols]]\n",
    "credit_cat_dim = sum(d for _, d in credit_emb_sizes)\n",
    "credit_input_dim = credit_cat_dim + len(credit_cont_cols)\n",
    "\n",
    "print(f\"Cat dim: {credit_cat_dim}, Input dim: {credit_input_dim}\")\n",
    "print(f\"Embeddings: {credit_emb_sizes}\")"
   ],
   "metadata": {
    "collapsed": false,
    "ExecuteTime": {
     "start_time": "2023-07-09T13:56:33.967359Z",
     "end_time": "2023-07-09T13:56:34.012354Z"
    }
   }
  },
  {
   "cell_type": "code",
   "execution_count": 9,
   "outputs": [
    {
     "name": "stdout",
     "output_type": "stream",
     "text": [
      "Cat dim: 11, Input dim: 17\n",
      "Embeddings: [(2, 1), (4, 2), (2, 1), (3, 2), (2, 1), (3, 2), (3, 2)]\n"
     ]
    }
   ],
   "source": [
    "class HeartDataset(Dataset):\n",
    "    def __init__(self, df):\n",
    "        self.cat = torch.tensor(df[heart_cat_cols].values, dtype=torch.float)\n",
    "        self.cont = torch.tensor(df[heart_cont_cols].values, dtype=torch.float)\n",
    "    def __getitem__(self, idx):\n",
    "        return self.cat[idx], self.cont[idx]\n",
    "    def __len__(self):\n",
    "        return self.cat.shape[0]\n",
    "\n",
    "heart_dataloader = DataLoader(HeartDataset(heart_df), batch_size=64, shuffle=True)\n",
    "\n",
    "heart_emb_sizes = [(heart_df[col].nunique(), min(50, heart_df[col].nunique() + 1) // 2) for col in heart_df[heart_cat_cols]]\n",
    "heart_cat_dim = sum(d for n, d in heart_emb_sizes)\n",
    "heart_input_dim = heart_cat_dim + len(heart_cont_cols)\n",
    "\n",
    "print(f\"Cat dim: {heart_cat_dim}, Input dim: {heart_input_dim}\")\n",
    "print(f\"Embeddings: {heart_emb_sizes}\")"
   ],
   "metadata": {
    "collapsed": false,
    "ExecuteTime": {
     "start_time": "2023-07-09T13:56:33.975991Z",
     "end_time": "2023-07-09T13:56:34.013356Z"
    }
   }
  },
  {
   "cell_type": "code",
   "execution_count": 10,
   "outputs": [
    {
     "data": {
      "text/plain": "0.017825373955683156"
     },
     "execution_count": 10,
     "metadata": {},
     "output_type": "execute_result"
    }
   ],
   "source": [
    "banking_k_prototypes = KPrototypes(n_clusters=2, random_state=0)\n",
    "banking_k_prototypes.fit(banking_df.values, categorical=[banking_df.columns.get_loc(col) for col in banking_cat_cols])\n",
    "banking_k_prototypes_nmi = normalized_mutual_info_score(banking_y, banking_k_prototypes.labels_)\n",
    "banking_k_prototypes_nmi"
   ],
   "metadata": {
    "collapsed": false,
    "ExecuteTime": {
     "start_time": "2023-07-09T13:56:33.994158Z",
     "end_time": "2023-07-09T13:59:51.406102Z"
    }
   }
  },
  {
   "cell_type": "code",
   "execution_count": 11,
   "outputs": [
    {
     "data": {
      "text/plain": "0.0224625641297901"
     },
     "execution_count": 11,
     "metadata": {},
     "output_type": "execute_result"
    }
   ],
   "source": [
    "census_k_prototypes = KPrototypes(n_clusters=2, random_state=0)\n",
    "census_k_prototypes.fit(census_df.values, categorical=[census_df.columns.get_loc(col) for col in census_cat_cols])\n",
    "census_k_prototypes_nmi = normalized_mutual_info_score(census_y, census_k_prototypes.labels_)\n",
    "census_k_prototypes_nmi"
   ],
   "metadata": {
    "collapsed": false,
    "ExecuteTime": {
     "start_time": "2023-07-09T13:59:51.407102Z",
     "end_time": "2023-07-09T14:03:18.072161Z"
    }
   }
  },
  {
   "cell_type": "code",
   "execution_count": 12,
   "outputs": [
    {
     "data": {
      "text/plain": "0.10895828404430437"
     },
     "execution_count": 12,
     "metadata": {},
     "output_type": "execute_result"
    }
   ],
   "source": [
    "credit_k_prototypes = KPrototypes(n_clusters=2, random_state=0)\n",
    "credit_k_prototypes.fit(credit_df.values, categorical=[credit_df.columns.get_loc(col) for col in credit_cat_cols])\n",
    "credit_k_prototypes_nmi = normalized_mutual_info_score(credit_y, credit_k_prototypes.labels_)\n",
    "credit_k_prototypes_nmi"
   ],
   "metadata": {
    "collapsed": false,
    "ExecuteTime": {
     "start_time": "2023-07-09T14:03:18.074433Z",
     "end_time": "2023-07-09T14:03:20.223608Z"
    }
   }
  },
  {
   "cell_type": "code",
   "execution_count": 13,
   "outputs": [
    {
     "data": {
      "text/plain": "0.17059947018933327"
     },
     "execution_count": 13,
     "metadata": {},
     "output_type": "execute_result"
    }
   ],
   "source": [
    "heart_k_prototypes = KPrototypes(n_clusters=5, random_state=0)\n",
    "heart_k_prototypes.fit(heart_df.values, categorical=[heart_df.columns.get_loc(col) for col in heart_cat_cols])\n",
    "heart_k_prototypes_nmi = normalized_mutual_info_score(heart_y, heart_k_prototypes.labels_)\n",
    "heart_k_prototypes_nmi"
   ],
   "metadata": {
    "collapsed": false,
    "ExecuteTime": {
     "start_time": "2023-07-09T14:03:20.224983Z",
     "end_time": "2023-07-09T14:03:21.203985Z"
    }
   }
  },
  {
   "cell_type": "code",
   "execution_count": 14,
   "outputs": [
    {
     "name": "stdout",
     "output_type": "stream",
     "text": [
      "Epoch 1/100 - Batch Reconstruction loss: 0.930476\n",
      "Epoch 2/100 - Batch Reconstruction loss: 0.917260\n",
      "Epoch 3/100 - Batch Reconstruction loss: 0.865128\n",
      "Epoch 4/100 - Batch Reconstruction loss: 0.819690\n",
      "Epoch 5/100 - Batch Reconstruction loss: 0.826870\n",
      "Epoch 6/100 - Batch Reconstruction loss: 0.786528\n",
      "Epoch 7/100 - Batch Reconstruction loss: 0.781673\n",
      "Epoch 8/100 - Batch Reconstruction loss: 0.756404\n",
      "Epoch 9/100 - Batch Reconstruction loss: 0.753406\n",
      "Epoch 10/100 - Batch Reconstruction loss: 0.746056\n",
      "Epoch 11/100 - Batch Reconstruction loss: 0.716484\n",
      "Epoch 12/100 - Batch Reconstruction loss: 0.700198\n",
      "Epoch 13/100 - Batch Reconstruction loss: 0.680214\n",
      "Epoch 14/100 - Batch Reconstruction loss: 0.679952\n",
      "Epoch 15/100 - Batch Reconstruction loss: 0.694180\n",
      "Epoch 16/100 - Batch Reconstruction loss: 0.694416\n",
      "Epoch 17/100 - Batch Reconstruction loss: 0.676520\n",
      "Epoch 18/100 - Batch Reconstruction loss: 0.665974\n",
      "Epoch 19/100 - Batch Reconstruction loss: 0.684644\n",
      "Epoch 20/100 - Batch Reconstruction loss: 0.651391\n",
      "Epoch 21/100 - Batch Reconstruction loss: 0.666860\n",
      "Epoch 22/100 - Batch Reconstruction loss: 0.662398\n",
      "Epoch 23/100 - Batch Reconstruction loss: 0.657476\n",
      "Epoch 24/100 - Batch Reconstruction loss: 0.635306\n",
      "Epoch 25/100 - Batch Reconstruction loss: 0.639596\n",
      "Epoch 26/100 - Batch Reconstruction loss: 0.656277\n",
      "Epoch 27/100 - Batch Reconstruction loss: 0.674601\n",
      "Epoch 28/100 - Batch Reconstruction loss: 0.627097\n",
      "Epoch 29/100 - Batch Reconstruction loss: 0.645469\n",
      "Epoch 30/100 - Batch Reconstruction loss: 0.633390\n",
      "Epoch 31/100 - Batch Reconstruction loss: 0.644560\n",
      "Epoch 32/100 - Batch Reconstruction loss: 0.640374\n",
      "Epoch 33/100 - Batch Reconstruction loss: 0.613711\n",
      "Epoch 34/100 - Batch Reconstruction loss: 0.628871\n",
      "Epoch 35/100 - Batch Reconstruction loss: 0.650961\n",
      "Epoch 36/100 - Batch Reconstruction loss: 0.625713\n",
      "Epoch 37/100 - Batch Reconstruction loss: 0.625296\n",
      "Epoch 38/100 - Batch Reconstruction loss: 0.617459\n",
      "Epoch 39/100 - Batch Reconstruction loss: 0.633740\n",
      "Epoch 40/100 - Batch Reconstruction loss: 0.637641\n",
      "Epoch 41/100 - Batch Reconstruction loss: 0.617797\n",
      "Epoch 42/100 - Batch Reconstruction loss: 0.639441\n",
      "Epoch 43/100 - Batch Reconstruction loss: 0.610402\n",
      "Epoch 44/100 - Batch Reconstruction loss: 0.621978\n",
      "Epoch 45/100 - Batch Reconstruction loss: 0.610874\n",
      "Epoch 46/100 - Batch Reconstruction loss: 0.623376\n",
      "Epoch 47/100 - Batch Reconstruction loss: 0.641824\n",
      "Epoch 48/100 - Batch Reconstruction loss: 0.606449\n",
      "Epoch 49/100 - Batch Reconstruction loss: 0.616249\n",
      "Epoch 50/100 - Batch Reconstruction loss: 0.631785\n",
      "Epoch 51/100 - Batch Reconstruction loss: 0.626040\n",
      "Epoch 52/100 - Batch Reconstruction loss: 0.641917\n",
      "Epoch 53/100 - Batch Reconstruction loss: 0.629322\n",
      "Epoch 54/100 - Batch Reconstruction loss: 0.637157\n",
      "Epoch 55/100 - Batch Reconstruction loss: 0.597348\n",
      "Epoch 56/100 - Batch Reconstruction loss: 0.628097\n",
      "Epoch 57/100 - Batch Reconstruction loss: 0.608501\n",
      "Epoch 58/100 - Batch Reconstruction loss: 0.622305\n",
      "Epoch 59/100 - Batch Reconstruction loss: 0.640770\n",
      "Epoch 60/100 - Batch Reconstruction loss: 0.617852\n",
      "Epoch 61/100 - Batch Reconstruction loss: 0.654641\n",
      "Epoch 62/100 - Batch Reconstruction loss: 0.593959\n",
      "Epoch 63/100 - Batch Reconstruction loss: 0.632077\n",
      "Epoch 64/100 - Batch Reconstruction loss: 0.612417\n",
      "Epoch 65/100 - Batch Reconstruction loss: 0.647339\n",
      "Epoch 66/100 - Batch Reconstruction loss: 0.617848\n",
      "Epoch 67/100 - Batch Reconstruction loss: 0.615005\n",
      "Epoch 68/100 - Batch Reconstruction loss: 0.615173\n",
      "Epoch 69/100 - Batch Reconstruction loss: 0.606846\n",
      "Epoch 70/100 - Batch Reconstruction loss: 0.615266\n",
      "Epoch 71/100 - Batch Reconstruction loss: 0.622074\n",
      "Epoch 72/100 - Batch Reconstruction loss: 0.632322\n",
      "Epoch 73/100 - Batch Reconstruction loss: 0.621120\n",
      "Epoch 74/100 - Batch Reconstruction loss: 0.599707\n",
      "Epoch 75/100 - Batch Reconstruction loss: 0.600939\n",
      "Epoch 76/100 - Batch Reconstruction loss: 0.589475\n",
      "Epoch 77/100 - Batch Reconstruction loss: 0.623259\n",
      "Epoch 78/100 - Batch Reconstruction loss: 0.620396\n",
      "Epoch 79/100 - Batch Reconstruction loss: 0.620262\n",
      "Epoch 80/100 - Batch Reconstruction loss: 0.608754\n",
      "Epoch 81/100 - Batch Reconstruction loss: 0.576672\n",
      "Epoch 82/100 - Batch Reconstruction loss: 0.617921\n",
      "Epoch 83/100 - Batch Reconstruction loss: 0.587270\n",
      "Epoch 84/100 - Batch Reconstruction loss: 0.607886\n",
      "Epoch 85/100 - Batch Reconstruction loss: 0.613441\n",
      "Epoch 86/100 - Batch Reconstruction loss: 0.605063\n",
      "Epoch 87/100 - Batch Reconstruction loss: 0.609214\n",
      "Epoch 88/100 - Batch Reconstruction loss: 0.621740\n",
      "Epoch 89/100 - Batch Reconstruction loss: 0.610179\n",
      "Epoch 90/100 - Batch Reconstruction loss: 0.606672\n",
      "Epoch 91/100 - Batch Reconstruction loss: 0.630120\n",
      "Epoch 92/100 - Batch Reconstruction loss: 0.614033\n",
      "Epoch 93/100 - Batch Reconstruction loss: 0.607054\n",
      "Epoch 94/100 - Batch Reconstruction loss: 0.624381\n",
      "Epoch 95/100 - Batch Reconstruction loss: 0.613319\n",
      "Epoch 96/100 - Batch Reconstruction loss: 0.609548\n",
      "Epoch 97/100 - Batch Reconstruction loss: 0.619397\n",
      "Epoch 98/100 - Batch Reconstruction loss: 0.594586\n",
      "Epoch 99/100 - Batch Reconstruction loss: 0.619180\n",
      "Epoch 100/100 - Batch Reconstruction loss: 0.588322\n",
      "Epoch 1/100 - Batch Reconstruction loss: 0.923405\n",
      "Epoch 2/100 - Batch Reconstruction loss: 0.906309\n",
      "Epoch 3/100 - Batch Reconstruction loss: 0.904482\n",
      "Epoch 4/100 - Batch Reconstruction loss: 0.864772\n",
      "Epoch 5/100 - Batch Reconstruction loss: 0.866165\n",
      "Epoch 6/100 - Batch Reconstruction loss: 0.834051\n",
      "Epoch 7/100 - Batch Reconstruction loss: 0.838311\n",
      "Epoch 8/100 - Batch Reconstruction loss: 0.849689\n",
      "Epoch 9/100 - Batch Reconstruction loss: 0.864385\n",
      "Epoch 10/100 - Batch Reconstruction loss: 0.864309\n",
      "Epoch 11/100 - Batch Reconstruction loss: 0.843457\n",
      "Epoch 12/100 - Batch Reconstruction loss: 0.858145\n",
      "Epoch 13/100 - Batch Reconstruction loss: 0.813212\n",
      "Epoch 14/100 - Batch Reconstruction loss: 0.851404\n",
      "Epoch 15/100 - Batch Reconstruction loss: 0.819139\n",
      "Epoch 16/100 - Batch Reconstruction loss: 0.835080\n",
      "Epoch 17/100 - Batch Reconstruction loss: 0.847337\n",
      "Epoch 18/100 - Batch Reconstruction loss: 0.870758\n",
      "Epoch 19/100 - Batch Reconstruction loss: 0.811736\n",
      "Epoch 20/100 - Batch Reconstruction loss: 0.818716\n",
      "Epoch 21/100 - Batch Reconstruction loss: 0.843022\n",
      "Epoch 22/100 - Batch Reconstruction loss: 0.817248\n",
      "Epoch 23/100 - Batch Reconstruction loss: 0.807311\n",
      "Epoch 24/100 - Batch Reconstruction loss: 0.818455\n",
      "Epoch 25/100 - Batch Reconstruction loss: 0.823032\n",
      "Epoch 26/100 - Batch Reconstruction loss: 0.824166\n",
      "Epoch 27/100 - Batch Reconstruction loss: 0.817880\n",
      "Epoch 28/100 - Batch Reconstruction loss: 0.818029\n",
      "Epoch 29/100 - Batch Reconstruction loss: 0.853227\n",
      "Epoch 30/100 - Batch Reconstruction loss: 0.805745\n",
      "Epoch 31/100 - Batch Reconstruction loss: 0.838626\n",
      "Epoch 32/100 - Batch Reconstruction loss: 0.829693\n",
      "Epoch 33/100 - Batch Reconstruction loss: 0.784523\n",
      "Epoch 34/100 - Batch Reconstruction loss: 0.800576\n",
      "Epoch 35/100 - Batch Reconstruction loss: 0.821424\n",
      "Epoch 36/100 - Batch Reconstruction loss: 0.824752\n",
      "Epoch 37/100 - Batch Reconstruction loss: 0.819982\n",
      "Epoch 38/100 - Batch Reconstruction loss: 0.802285\n",
      "Epoch 39/100 - Batch Reconstruction loss: 0.843840\n",
      "Epoch 40/100 - Batch Reconstruction loss: 0.809619\n",
      "Epoch 41/100 - Batch Reconstruction loss: 0.796146\n",
      "Epoch 42/100 - Batch Reconstruction loss: 0.814246\n",
      "Epoch 43/100 - Batch Reconstruction loss: 0.821118\n",
      "Epoch 44/100 - Batch Reconstruction loss: 0.821014\n",
      "Epoch 45/100 - Batch Reconstruction loss: 0.822037\n",
      "Epoch 46/100 - Batch Reconstruction loss: 0.814048\n",
      "Epoch 47/100 - Batch Reconstruction loss: 0.823900\n",
      "Epoch 48/100 - Batch Reconstruction loss: 0.823311\n",
      "Epoch 49/100 - Batch Reconstruction loss: 0.815577\n",
      "Epoch 50/100 - Batch Reconstruction loss: 0.824076\n",
      "Epoch 51/100 - Batch Reconstruction loss: 0.797270\n",
      "Epoch 52/100 - Batch Reconstruction loss: 0.801672\n",
      "Epoch 53/100 - Batch Reconstruction loss: 0.809678\n",
      "Epoch 54/100 - Batch Reconstruction loss: 0.808231\n",
      "Epoch 55/100 - Batch Reconstruction loss: 0.817028\n",
      "Epoch 56/100 - Batch Reconstruction loss: 0.807316\n",
      "Epoch 57/100 - Batch Reconstruction loss: 0.812868\n",
      "Epoch 58/100 - Batch Reconstruction loss: 0.809801\n",
      "Epoch 59/100 - Batch Reconstruction loss: 0.800943\n",
      "Epoch 60/100 - Batch Reconstruction loss: 0.803804\n",
      "Epoch 61/100 - Batch Reconstruction loss: 0.792663\n",
      "Epoch 62/100 - Batch Reconstruction loss: 0.823177\n",
      "Epoch 63/100 - Batch Reconstruction loss: 0.792985\n",
      "Epoch 64/100 - Batch Reconstruction loss: 0.804850\n",
      "Epoch 65/100 - Batch Reconstruction loss: 0.797558\n",
      "Epoch 66/100 - Batch Reconstruction loss: 0.790598\n",
      "Epoch 67/100 - Batch Reconstruction loss: 0.793291\n",
      "Epoch 68/100 - Batch Reconstruction loss: 0.805594\n",
      "Epoch 69/100 - Batch Reconstruction loss: 0.811176\n",
      "Epoch 70/100 - Batch Reconstruction loss: 0.808105\n",
      "Epoch 71/100 - Batch Reconstruction loss: 0.791172\n",
      "Epoch 72/100 - Batch Reconstruction loss: 0.787287\n",
      "Epoch 73/100 - Batch Reconstruction loss: 0.799054\n",
      "Epoch 74/100 - Batch Reconstruction loss: 0.800805\n",
      "Epoch 75/100 - Batch Reconstruction loss: 0.808978\n",
      "Epoch 76/100 - Batch Reconstruction loss: 0.800531\n",
      "Epoch 77/100 - Batch Reconstruction loss: 0.804859\n",
      "Epoch 78/100 - Batch Reconstruction loss: 0.791019\n",
      "Epoch 79/100 - Batch Reconstruction loss: 0.791263\n",
      "Epoch 80/100 - Batch Reconstruction loss: 0.797431\n",
      "Epoch 81/100 - Batch Reconstruction loss: 0.805351\n",
      "Epoch 82/100 - Batch Reconstruction loss: 0.765674\n",
      "Epoch 83/100 - Batch Reconstruction loss: 0.780231\n",
      "Epoch 84/100 - Batch Reconstruction loss: 0.788891\n",
      "Epoch 85/100 - Batch Reconstruction loss: 0.804132\n",
      "Epoch 86/100 - Batch Reconstruction loss: 0.758744\n",
      "Epoch 87/100 - Batch Reconstruction loss: 0.798147\n",
      "Epoch 88/100 - Batch Reconstruction loss: 0.779079\n",
      "Epoch 89/100 - Batch Reconstruction loss: 0.768530\n",
      "Epoch 90/100 - Batch Reconstruction loss: 0.793634\n",
      "Epoch 91/100 - Batch Reconstruction loss: 0.781941\n",
      "Epoch 92/100 - Batch Reconstruction loss: 0.781905\n",
      "Epoch 93/100 - Batch Reconstruction loss: 0.795971\n",
      "Epoch 94/100 - Batch Reconstruction loss: 0.751881\n",
      "Epoch 95/100 - Batch Reconstruction loss: 0.794070\n",
      "Epoch 96/100 - Batch Reconstruction loss: 0.752974\n",
      "Epoch 97/100 - Batch Reconstruction loss: 0.766088\n",
      "Epoch 98/100 - Batch Reconstruction loss: 0.769428\n",
      "Epoch 99/100 - Batch Reconstruction loss: 0.791443\n",
      "Epoch 100/100 - Batch Reconstruction loss: 0.768902\n",
      "0.001253279252360891\n",
      "0.001253279252360891\n"
     ]
    }
   ],
   "source": [
    "banking_encoder = torch.nn.Sequential(\n",
    "    torch.nn.Linear(banking_input_dim, 32),\n",
    "    torch.nn.BatchNorm1d(32),\n",
    "    torch.nn.ReLU(),\n",
    "    torch.nn.Linear(32, 16),\n",
    "    torch.nn.BatchNorm1d(16),\n",
    "    torch.nn.ReLU(),\n",
    "    torch.nn.Linear(16, 8),\n",
    "    torch.nn.BatchNorm1d(8),\n",
    "    torch.nn.Sigmoid(),\n",
    ")\n",
    "banking_decoder = torch.nn.Sequential(\n",
    "    torch.nn.Linear(8, 16),\n",
    "    torch.nn.ReLU(),\n",
    "    torch.nn.Linear(16, 32),\n",
    "    torch.nn.ReLU(),\n",
    "    torch.nn.Linear(32, banking_cat_dim),\n",
    "    torch.nn.Sigmoid()\n",
    ")\n",
    "banking_ae = EmbeddingsAutoencoder(banking_encoder, banking_decoder, banking_input_dim, banking_cat_dim, banking_emb_sizes, attention=False)\n",
    "banking_ae.fit(n_epochs=100, lr=0.001, dataloader=banking_dataloader)\n",
    "\n",
    "banking_attention_ae = EmbeddingsAutoencoder(banking_encoder, banking_decoder, banking_input_dim, banking_cat_dim, banking_emb_sizes, attention=True)\n",
    "banking_attention_ae.fit(n_epochs=100, lr=0.001, dataloader=banking_dataloader)\n",
    "\n",
    "cat = torch.tensor(banking_df[banking_cat_cols].values, dtype=torch.float)\n",
    "cont = torch.tensor(banking_df[banking_cont_cols].values, dtype=torch.float)\n",
    "cat_features = banking_ae.encode(cat, cont).detach().numpy()\n",
    "features = np.concatenate((cat_features, banking_df[banking_cont_cols].values), 1)\n",
    "kmeans = KMeans(n_clusters=2, n_init=\"auto\", random_state=0).fit(features)\n",
    "banking_ae_nmi = normalized_mutual_info_score(banking_y, kmeans.labels_)\n",
    "print(banking_ae_nmi)\n",
    "\n",
    "cat = torch.tensor(banking_df[banking_cat_cols].values, dtype=torch.float)\n",
    "cont = torch.tensor(banking_df[banking_cont_cols].values, dtype=torch.float)\n",
    "cat_features = banking_ae.encode(cat, cont).detach().numpy()\n",
    "features = np.concatenate((cat_features, banking_df[banking_cont_cols].values), 1)\n",
    "kmeans = KMeans(n_clusters=2, n_init=\"auto\", random_state=0).fit(features)\n",
    "banking_attention_ae_nmi = normalized_mutual_info_score(banking_y, kmeans.labels_)\n",
    "print(banking_attention_ae_nmi)"
   ],
   "metadata": {
    "collapsed": false,
    "ExecuteTime": {
     "start_time": "2023-07-09T14:03:21.209495Z",
     "end_time": "2023-07-09T14:05:32.267935Z"
    }
   }
  },
  {
   "cell_type": "code",
   "execution_count": 15,
   "outputs": [
    {
     "name": "stdout",
     "output_type": "stream",
     "text": [
      "Epoch 1/100 - Batch Reconstruction loss: 0.822098\n",
      "Epoch 2/100 - Batch Reconstruction loss: 0.749731\n",
      "Epoch 3/100 - Batch Reconstruction loss: 0.694711\n",
      "Epoch 4/100 - Batch Reconstruction loss: 0.683287\n",
      "Epoch 5/100 - Batch Reconstruction loss: 0.649575\n",
      "Epoch 6/100 - Batch Reconstruction loss: 0.641546\n",
      "Epoch 7/100 - Batch Reconstruction loss: 0.628658\n",
      "Epoch 8/100 - Batch Reconstruction loss: 0.619856\n",
      "Epoch 9/100 - Batch Reconstruction loss: 0.582192\n",
      "Epoch 10/100 - Batch Reconstruction loss: 0.603957\n",
      "Epoch 11/100 - Batch Reconstruction loss: 0.583587\n",
      "Epoch 12/100 - Batch Reconstruction loss: 0.577979\n",
      "Epoch 13/100 - Batch Reconstruction loss: 0.596995\n",
      "Epoch 14/100 - Batch Reconstruction loss: 0.579653\n",
      "Epoch 15/100 - Batch Reconstruction loss: 0.568453\n",
      "Epoch 16/100 - Batch Reconstruction loss: 0.556086\n",
      "Epoch 17/100 - Batch Reconstruction loss: 0.553962\n",
      "Epoch 18/100 - Batch Reconstruction loss: 0.558708\n",
      "Epoch 19/100 - Batch Reconstruction loss: 0.544426\n",
      "Epoch 20/100 - Batch Reconstruction loss: 0.555803\n",
      "Epoch 21/100 - Batch Reconstruction loss: 0.525869\n",
      "Epoch 22/100 - Batch Reconstruction loss: 0.540545\n",
      "Epoch 23/100 - Batch Reconstruction loss: 0.537623\n",
      "Epoch 24/100 - Batch Reconstruction loss: 0.514527\n",
      "Epoch 25/100 - Batch Reconstruction loss: 0.507969\n",
      "Epoch 26/100 - Batch Reconstruction loss: 0.510571\n",
      "Epoch 27/100 - Batch Reconstruction loss: 0.520575\n",
      "Epoch 28/100 - Batch Reconstruction loss: 0.526099\n",
      "Epoch 29/100 - Batch Reconstruction loss: 0.506592\n",
      "Epoch 30/100 - Batch Reconstruction loss: 0.502881\n",
      "Epoch 31/100 - Batch Reconstruction loss: 0.501089\n",
      "Epoch 32/100 - Batch Reconstruction loss: 0.499322\n",
      "Epoch 33/100 - Batch Reconstruction loss: 0.528205\n",
      "Epoch 34/100 - Batch Reconstruction loss: 0.499864\n",
      "Epoch 35/100 - Batch Reconstruction loss: 0.501852\n",
      "Epoch 36/100 - Batch Reconstruction loss: 0.493269\n",
      "Epoch 37/100 - Batch Reconstruction loss: 0.502428\n",
      "Epoch 38/100 - Batch Reconstruction loss: 0.504989\n",
      "Epoch 39/100 - Batch Reconstruction loss: 0.498440\n",
      "Epoch 40/100 - Batch Reconstruction loss: 0.512735\n",
      "Epoch 41/100 - Batch Reconstruction loss: 0.505219\n",
      "Epoch 42/100 - Batch Reconstruction loss: 0.467049\n",
      "Epoch 43/100 - Batch Reconstruction loss: 0.496341\n",
      "Epoch 44/100 - Batch Reconstruction loss: 0.501286\n",
      "Epoch 45/100 - Batch Reconstruction loss: 0.479035\n",
      "Epoch 46/100 - Batch Reconstruction loss: 0.499834\n",
      "Epoch 47/100 - Batch Reconstruction loss: 0.479618\n",
      "Epoch 48/100 - Batch Reconstruction loss: 0.478086\n",
      "Epoch 49/100 - Batch Reconstruction loss: 0.485499\n",
      "Epoch 50/100 - Batch Reconstruction loss: 0.482176\n",
      "Epoch 51/100 - Batch Reconstruction loss: 0.494287\n",
      "Epoch 52/100 - Batch Reconstruction loss: 0.484222\n",
      "Epoch 53/100 - Batch Reconstruction loss: 0.487862\n",
      "Epoch 54/100 - Batch Reconstruction loss: 0.473523\n",
      "Epoch 55/100 - Batch Reconstruction loss: 0.485192\n",
      "Epoch 56/100 - Batch Reconstruction loss: 0.476539\n",
      "Epoch 57/100 - Batch Reconstruction loss: 0.495130\n",
      "Epoch 58/100 - Batch Reconstruction loss: 0.463587\n",
      "Epoch 59/100 - Batch Reconstruction loss: 0.481043\n",
      "Epoch 60/100 - Batch Reconstruction loss: 0.476463\n",
      "Epoch 61/100 - Batch Reconstruction loss: 0.485511\n",
      "Epoch 62/100 - Batch Reconstruction loss: 0.491541\n",
      "Epoch 63/100 - Batch Reconstruction loss: 0.470412\n",
      "Epoch 64/100 - Batch Reconstruction loss: 0.471012\n",
      "Epoch 65/100 - Batch Reconstruction loss: 0.472053\n",
      "Epoch 66/100 - Batch Reconstruction loss: 0.463268\n",
      "Epoch 67/100 - Batch Reconstruction loss: 0.465275\n",
      "Epoch 68/100 - Batch Reconstruction loss: 0.470523\n",
      "Epoch 69/100 - Batch Reconstruction loss: 0.477405\n",
      "Epoch 70/100 - Batch Reconstruction loss: 0.477488\n",
      "Epoch 71/100 - Batch Reconstruction loss: 0.472828\n",
      "Epoch 72/100 - Batch Reconstruction loss: 0.486150\n",
      "Epoch 73/100 - Batch Reconstruction loss: 0.460647\n",
      "Epoch 74/100 - Batch Reconstruction loss: 0.470988\n",
      "Epoch 75/100 - Batch Reconstruction loss: 0.468139\n",
      "Epoch 76/100 - Batch Reconstruction loss: 0.460619\n",
      "Epoch 77/100 - Batch Reconstruction loss: 0.459884\n",
      "Epoch 78/100 - Batch Reconstruction loss: 0.478538\n",
      "Epoch 79/100 - Batch Reconstruction loss: 0.482708\n",
      "Epoch 80/100 - Batch Reconstruction loss: 0.472966\n",
      "Epoch 81/100 - Batch Reconstruction loss: 0.470014\n",
      "Epoch 82/100 - Batch Reconstruction loss: 0.456763\n",
      "Epoch 83/100 - Batch Reconstruction loss: 0.466461\n",
      "Epoch 84/100 - Batch Reconstruction loss: 0.468774\n",
      "Epoch 85/100 - Batch Reconstruction loss: 0.467307\n",
      "Epoch 86/100 - Batch Reconstruction loss: 0.458600\n",
      "Epoch 87/100 - Batch Reconstruction loss: 0.464619\n",
      "Epoch 88/100 - Batch Reconstruction loss: 0.474534\n",
      "Epoch 89/100 - Batch Reconstruction loss: 0.467803\n",
      "Epoch 90/100 - Batch Reconstruction loss: 0.461983\n",
      "Epoch 91/100 - Batch Reconstruction loss: 0.458140\n",
      "Epoch 92/100 - Batch Reconstruction loss: 0.463892\n",
      "Epoch 93/100 - Batch Reconstruction loss: 0.450161\n",
      "Epoch 94/100 - Batch Reconstruction loss: 0.443254\n",
      "Epoch 95/100 - Batch Reconstruction loss: 0.461387\n",
      "Epoch 96/100 - Batch Reconstruction loss: 0.458990\n",
      "Epoch 97/100 - Batch Reconstruction loss: 0.453918\n",
      "Epoch 98/100 - Batch Reconstruction loss: 0.456985\n",
      "Epoch 99/100 - Batch Reconstruction loss: 0.458544\n",
      "Epoch 100/100 - Batch Reconstruction loss: 0.454869\n",
      "Epoch 1/100 - Batch Reconstruction loss: 0.962751\n",
      "Epoch 2/100 - Batch Reconstruction loss: 0.940771\n",
      "Epoch 3/100 - Batch Reconstruction loss: 0.891337\n",
      "Epoch 4/100 - Batch Reconstruction loss: 0.874236\n",
      "Epoch 5/100 - Batch Reconstruction loss: 0.827690\n",
      "Epoch 6/100 - Batch Reconstruction loss: 0.813777\n",
      "Epoch 7/100 - Batch Reconstruction loss: 0.815535\n",
      "Epoch 8/100 - Batch Reconstruction loss: 0.800957\n",
      "Epoch 9/100 - Batch Reconstruction loss: 0.813006\n",
      "Epoch 10/100 - Batch Reconstruction loss: 0.811703\n",
      "Epoch 11/100 - Batch Reconstruction loss: 0.803159\n",
      "Epoch 12/100 - Batch Reconstruction loss: 0.779300\n",
      "Epoch 13/100 - Batch Reconstruction loss: 0.777790\n",
      "Epoch 14/100 - Batch Reconstruction loss: 0.804752\n",
      "Epoch 15/100 - Batch Reconstruction loss: 0.801058\n",
      "Epoch 16/100 - Batch Reconstruction loss: 0.811956\n",
      "Epoch 17/100 - Batch Reconstruction loss: 0.787148\n",
      "Epoch 18/100 - Batch Reconstruction loss: 0.773258\n",
      "Epoch 19/100 - Batch Reconstruction loss: 0.772513\n",
      "Epoch 20/100 - Batch Reconstruction loss: 0.797352\n",
      "Epoch 21/100 - Batch Reconstruction loss: 0.770818\n",
      "Epoch 22/100 - Batch Reconstruction loss: 0.789244\n",
      "Epoch 23/100 - Batch Reconstruction loss: 0.790158\n",
      "Epoch 24/100 - Batch Reconstruction loss: 0.794124\n",
      "Epoch 25/100 - Batch Reconstruction loss: 0.776755\n",
      "Epoch 26/100 - Batch Reconstruction loss: 0.780772\n",
      "Epoch 27/100 - Batch Reconstruction loss: 0.777497\n",
      "Epoch 28/100 - Batch Reconstruction loss: 0.787765\n",
      "Epoch 29/100 - Batch Reconstruction loss: 0.758673\n",
      "Epoch 30/100 - Batch Reconstruction loss: 0.765340\n",
      "Epoch 31/100 - Batch Reconstruction loss: 0.772913\n",
      "Epoch 32/100 - Batch Reconstruction loss: 0.781964\n",
      "Epoch 33/100 - Batch Reconstruction loss: 0.769009\n",
      "Epoch 34/100 - Batch Reconstruction loss: 0.773365\n",
      "Epoch 35/100 - Batch Reconstruction loss: 0.768399\n",
      "Epoch 36/100 - Batch Reconstruction loss: 0.761971\n",
      "Epoch 37/100 - Batch Reconstruction loss: 0.760329\n",
      "Epoch 38/100 - Batch Reconstruction loss: 0.774512\n",
      "Epoch 39/100 - Batch Reconstruction loss: 0.754741\n",
      "Epoch 40/100 - Batch Reconstruction loss: 0.768275\n",
      "Epoch 41/100 - Batch Reconstruction loss: 0.773167\n",
      "Epoch 42/100 - Batch Reconstruction loss: 0.760244\n",
      "Epoch 43/100 - Batch Reconstruction loss: 0.742538\n",
      "Epoch 44/100 - Batch Reconstruction loss: 0.768495\n",
      "Epoch 45/100 - Batch Reconstruction loss: 0.742213\n",
      "Epoch 46/100 - Batch Reconstruction loss: 0.760264\n",
      "Epoch 47/100 - Batch Reconstruction loss: 0.777470\n",
      "Epoch 48/100 - Batch Reconstruction loss: 0.749641\n",
      "Epoch 49/100 - Batch Reconstruction loss: 0.765813\n",
      "Epoch 50/100 - Batch Reconstruction loss: 0.742234\n",
      "Epoch 51/100 - Batch Reconstruction loss: 0.739859\n",
      "Epoch 52/100 - Batch Reconstruction loss: 0.728854\n",
      "Epoch 53/100 - Batch Reconstruction loss: 0.734803\n",
      "Epoch 54/100 - Batch Reconstruction loss: 0.729891\n",
      "Epoch 55/100 - Batch Reconstruction loss: 0.725000\n",
      "Epoch 56/100 - Batch Reconstruction loss: 0.719343\n",
      "Epoch 57/100 - Batch Reconstruction loss: 0.725225\n",
      "Epoch 58/100 - Batch Reconstruction loss: 0.720863\n",
      "Epoch 59/100 - Batch Reconstruction loss: 0.724991\n",
      "Epoch 60/100 - Batch Reconstruction loss: 0.723315\n",
      "Epoch 61/100 - Batch Reconstruction loss: 0.735907\n",
      "Epoch 62/100 - Batch Reconstruction loss: 0.709662\n",
      "Epoch 63/100 - Batch Reconstruction loss: 0.701428\n",
      "Epoch 64/100 - Batch Reconstruction loss: 0.717270\n",
      "Epoch 65/100 - Batch Reconstruction loss: 0.709836\n",
      "Epoch 66/100 - Batch Reconstruction loss: 0.706910\n",
      "Epoch 67/100 - Batch Reconstruction loss: 0.709937\n",
      "Epoch 68/100 - Batch Reconstruction loss: 0.685036\n",
      "Epoch 69/100 - Batch Reconstruction loss: 0.706995\n",
      "Epoch 70/100 - Batch Reconstruction loss: 0.691000\n",
      "Epoch 71/100 - Batch Reconstruction loss: 0.700302\n",
      "Epoch 72/100 - Batch Reconstruction loss: 0.690788\n",
      "Epoch 73/100 - Batch Reconstruction loss: 0.711913\n",
      "Epoch 74/100 - Batch Reconstruction loss: 0.709262\n",
      "Epoch 75/100 - Batch Reconstruction loss: 0.681738\n",
      "Epoch 76/100 - Batch Reconstruction loss: 0.684272\n",
      "Epoch 77/100 - Batch Reconstruction loss: 0.705535\n",
      "Epoch 78/100 - Batch Reconstruction loss: 0.690789\n",
      "Epoch 79/100 - Batch Reconstruction loss: 0.688434\n",
      "Epoch 80/100 - Batch Reconstruction loss: 0.683764\n",
      "Epoch 81/100 - Batch Reconstruction loss: 0.688150\n",
      "Epoch 82/100 - Batch Reconstruction loss: 0.665602\n",
      "Epoch 83/100 - Batch Reconstruction loss: 0.665454\n",
      "Epoch 84/100 - Batch Reconstruction loss: 0.670719\n",
      "Epoch 85/100 - Batch Reconstruction loss: 0.664710\n",
      "Epoch 86/100 - Batch Reconstruction loss: 0.676478\n",
      "Epoch 87/100 - Batch Reconstruction loss: 0.652979\n",
      "Epoch 88/100 - Batch Reconstruction loss: 0.642807\n",
      "Epoch 89/100 - Batch Reconstruction loss: 0.654866\n",
      "Epoch 90/100 - Batch Reconstruction loss: 0.685875\n",
      "Epoch 91/100 - Batch Reconstruction loss: 0.666792\n",
      "Epoch 92/100 - Batch Reconstruction loss: 0.663992\n",
      "Epoch 93/100 - Batch Reconstruction loss: 0.650923\n",
      "Epoch 94/100 - Batch Reconstruction loss: 0.648396\n",
      "Epoch 95/100 - Batch Reconstruction loss: 0.650424\n",
      "Epoch 96/100 - Batch Reconstruction loss: 0.641387\n",
      "Epoch 97/100 - Batch Reconstruction loss: 0.654177\n",
      "Epoch 98/100 - Batch Reconstruction loss: 0.642405\n",
      "Epoch 99/100 - Batch Reconstruction loss: 0.648664\n",
      "Epoch 100/100 - Batch Reconstruction loss: 0.639685\n",
      "0.0224625641297901\n",
      "0.0224625641297901\n"
     ]
    }
   ],
   "source": [
    "census_encoder = torch.nn.Sequential(\n",
    "    torch.nn.Linear(census_input_dim, 32),\n",
    "    torch.nn.BatchNorm1d(32),\n",
    "    torch.nn.ReLU(),\n",
    "    torch.nn.Linear(32, 16),\n",
    "    torch.nn.BatchNorm1d(16),\n",
    "    torch.nn.ReLU(),\n",
    "    torch.nn.Linear(16, 8),\n",
    "    torch.nn.BatchNorm1d(8),\n",
    "    torch.nn.Sigmoid(),\n",
    ")\n",
    "census_decoder = torch.nn.Sequential(\n",
    "    torch.nn.Linear(8, 16),\n",
    "    torch.nn.ReLU(),\n",
    "    torch.nn.Linear(16, 32),\n",
    "    torch.nn.ReLU(),\n",
    "    torch.nn.Linear(32, census_cat_dim),\n",
    "    torch.nn.Sigmoid()\n",
    ")\n",
    "census_ae = EmbeddingsAutoencoder(census_encoder, census_decoder, census_input_dim, census_cat_dim, census_emb_sizes, attention=False)\n",
    "census_ae.fit(n_epochs=100, lr=0.001, dataloader=census_dataloader)\n",
    "\n",
    "census_attention_ae = EmbeddingsAutoencoder(census_encoder, census_decoder, census_input_dim, census_cat_dim, census_emb_sizes, attention=True)\n",
    "census_attention_ae.fit(n_epochs=100, lr=0.001, dataloader=census_dataloader)\n",
    "\n",
    "cat = torch.tensor(census_df[census_cat_cols].values, dtype=torch.float)\n",
    "cont = torch.tensor(census_df[census_cont_cols].values, dtype=torch.float)\n",
    "cat_features = census_ae.encode(cat, cont).detach().numpy()\n",
    "features = np.concatenate((cat_features, census_df[census_cont_cols].values), 1)\n",
    "kmeans = KMeans(n_clusters=2, n_init=\"auto\", random_state=0).fit(features)\n",
    "census_ae_nmi = normalized_mutual_info_score(census_y, kmeans.labels_)\n",
    "print(census_ae_nmi)\n",
    "\n",
    "cat = torch.tensor(census_df[census_cat_cols].values, dtype=torch.float)\n",
    "cont = torch.tensor(census_df[census_cont_cols].values, dtype=torch.float)\n",
    "cat_features = census_ae.encode(cat, cont).detach().numpy()\n",
    "features = np.concatenate((cat_features, census_df[census_cont_cols].values), 1)\n",
    "kmeans = KMeans(n_clusters=2, n_init=\"auto\", random_state=0).fit(features)\n",
    "census_attention_ae_nmi = normalized_mutual_info_score(census_y, kmeans.labels_)\n",
    "print(census_attention_ae_nmi)"
   ],
   "metadata": {
    "collapsed": false,
    "ExecuteTime": {
     "start_time": "2023-07-09T14:05:32.273057Z",
     "end_time": "2023-07-09T14:07:57.100304Z"
    }
   }
  },
  {
   "cell_type": "code",
   "execution_count": 16,
   "outputs": [
    {
     "name": "stdout",
     "output_type": "stream",
     "text": [
      "Epoch 1/100 - Batch Reconstruction loss: 0.693568\n",
      "Epoch 2/100 - Batch Reconstruction loss: 0.746958\n",
      "Epoch 3/100 - Batch Reconstruction loss: 0.639393\n",
      "Epoch 4/100 - Batch Reconstruction loss: 0.564254\n",
      "Epoch 5/100 - Batch Reconstruction loss: 0.605934\n",
      "Epoch 6/100 - Batch Reconstruction loss: 0.572751\n",
      "Epoch 7/100 - Batch Reconstruction loss: 0.553373\n",
      "Epoch 8/100 - Batch Reconstruction loss: 0.423068\n",
      "Epoch 9/100 - Batch Reconstruction loss: 0.446666\n",
      "Epoch 10/100 - Batch Reconstruction loss: 0.468297\n",
      "Epoch 11/100 - Batch Reconstruction loss: 0.428269\n",
      "Epoch 12/100 - Batch Reconstruction loss: 0.408460\n",
      "Epoch 13/100 - Batch Reconstruction loss: 0.451004\n",
      "Epoch 14/100 - Batch Reconstruction loss: 0.368919\n",
      "Epoch 15/100 - Batch Reconstruction loss: 0.442503\n",
      "Epoch 16/100 - Batch Reconstruction loss: 0.373074\n",
      "Epoch 17/100 - Batch Reconstruction loss: 0.439266\n",
      "Epoch 18/100 - Batch Reconstruction loss: 0.375086\n",
      "Epoch 19/100 - Batch Reconstruction loss: 0.353253\n",
      "Epoch 20/100 - Batch Reconstruction loss: 0.415751\n",
      "Epoch 21/100 - Batch Reconstruction loss: 0.363293\n",
      "Epoch 22/100 - Batch Reconstruction loss: 0.368097\n",
      "Epoch 23/100 - Batch Reconstruction loss: 0.423442\n",
      "Epoch 24/100 - Batch Reconstruction loss: 0.436929\n",
      "Epoch 25/100 - Batch Reconstruction loss: 0.356482\n",
      "Epoch 26/100 - Batch Reconstruction loss: 0.377164\n",
      "Epoch 27/100 - Batch Reconstruction loss: 0.335571\n",
      "Epoch 28/100 - Batch Reconstruction loss: 0.420491\n",
      "Epoch 29/100 - Batch Reconstruction loss: 0.356933\n",
      "Epoch 30/100 - Batch Reconstruction loss: 0.400948\n",
      "Epoch 31/100 - Batch Reconstruction loss: 0.381755\n",
      "Epoch 32/100 - Batch Reconstruction loss: 0.410671\n",
      "Epoch 33/100 - Batch Reconstruction loss: 0.329867\n",
      "Epoch 34/100 - Batch Reconstruction loss: 0.345695\n",
      "Epoch 35/100 - Batch Reconstruction loss: 0.336089\n",
      "Epoch 36/100 - Batch Reconstruction loss: 0.386027\n",
      "Epoch 37/100 - Batch Reconstruction loss: 0.363163\n",
      "Epoch 38/100 - Batch Reconstruction loss: 0.335345\n",
      "Epoch 39/100 - Batch Reconstruction loss: 0.365421\n",
      "Epoch 40/100 - Batch Reconstruction loss: 0.343259\n",
      "Epoch 41/100 - Batch Reconstruction loss: 0.380049\n",
      "Epoch 42/100 - Batch Reconstruction loss: 0.355800\n",
      "Epoch 43/100 - Batch Reconstruction loss: 0.365860\n",
      "Epoch 44/100 - Batch Reconstruction loss: 0.367911\n",
      "Epoch 45/100 - Batch Reconstruction loss: 0.362596\n",
      "Epoch 46/100 - Batch Reconstruction loss: 0.371440\n",
      "Epoch 47/100 - Batch Reconstruction loss: 0.320332\n",
      "Epoch 48/100 - Batch Reconstruction loss: 0.284140\n",
      "Epoch 49/100 - Batch Reconstruction loss: 0.316772\n",
      "Epoch 50/100 - Batch Reconstruction loss: 0.353698\n",
      "Epoch 51/100 - Batch Reconstruction loss: 0.417187\n",
      "Epoch 52/100 - Batch Reconstruction loss: 0.275209\n",
      "Epoch 53/100 - Batch Reconstruction loss: 0.323165\n",
      "Epoch 54/100 - Batch Reconstruction loss: 0.335998\n",
      "Epoch 55/100 - Batch Reconstruction loss: 0.389787\n",
      "Epoch 56/100 - Batch Reconstruction loss: 0.303107\n",
      "Epoch 57/100 - Batch Reconstruction loss: 0.360904\n",
      "Epoch 58/100 - Batch Reconstruction loss: 0.366351\n",
      "Epoch 59/100 - Batch Reconstruction loss: 0.370837\n",
      "Epoch 60/100 - Batch Reconstruction loss: 0.346742\n",
      "Epoch 61/100 - Batch Reconstruction loss: 0.343642\n",
      "Epoch 62/100 - Batch Reconstruction loss: 0.335893\n",
      "Epoch 63/100 - Batch Reconstruction loss: 0.297027\n",
      "Epoch 64/100 - Batch Reconstruction loss: 0.306762\n",
      "Epoch 65/100 - Batch Reconstruction loss: 0.378427\n",
      "Epoch 66/100 - Batch Reconstruction loss: 0.330120\n",
      "Epoch 67/100 - Batch Reconstruction loss: 0.352067\n",
      "Epoch 68/100 - Batch Reconstruction loss: 0.314844\n",
      "Epoch 69/100 - Batch Reconstruction loss: 0.312239\n",
      "Epoch 70/100 - Batch Reconstruction loss: 0.298537\n",
      "Epoch 71/100 - Batch Reconstruction loss: 0.287808\n",
      "Epoch 72/100 - Batch Reconstruction loss: 0.369352\n",
      "Epoch 73/100 - Batch Reconstruction loss: 0.367735\n",
      "Epoch 74/100 - Batch Reconstruction loss: 0.291993\n",
      "Epoch 75/100 - Batch Reconstruction loss: 0.309374\n",
      "Epoch 76/100 - Batch Reconstruction loss: 0.301242\n",
      "Epoch 77/100 - Batch Reconstruction loss: 0.338130\n",
      "Epoch 78/100 - Batch Reconstruction loss: 0.342282\n",
      "Epoch 79/100 - Batch Reconstruction loss: 0.337884\n",
      "Epoch 80/100 - Batch Reconstruction loss: 0.363594\n",
      "Epoch 81/100 - Batch Reconstruction loss: 0.308093\n",
      "Epoch 82/100 - Batch Reconstruction loss: 0.309260\n",
      "Epoch 83/100 - Batch Reconstruction loss: 0.379237\n",
      "Epoch 84/100 - Batch Reconstruction loss: 0.284456\n",
      "Epoch 85/100 - Batch Reconstruction loss: 0.270689\n",
      "Epoch 86/100 - Batch Reconstruction loss: 0.272052\n",
      "Epoch 87/100 - Batch Reconstruction loss: 0.294787\n",
      "Epoch 88/100 - Batch Reconstruction loss: 0.277576\n",
      "Epoch 89/100 - Batch Reconstruction loss: 0.325455\n",
      "Epoch 90/100 - Batch Reconstruction loss: 0.349800\n",
      "Epoch 91/100 - Batch Reconstruction loss: 0.381026\n",
      "Epoch 92/100 - Batch Reconstruction loss: 0.314715\n",
      "Epoch 93/100 - Batch Reconstruction loss: 0.305055\n",
      "Epoch 94/100 - Batch Reconstruction loss: 0.318787\n",
      "Epoch 95/100 - Batch Reconstruction loss: 0.263077\n",
      "Epoch 96/100 - Batch Reconstruction loss: 0.320243\n",
      "Epoch 97/100 - Batch Reconstruction loss: 0.344218\n",
      "Epoch 98/100 - Batch Reconstruction loss: 0.328549\n",
      "Epoch 99/100 - Batch Reconstruction loss: 0.313609\n",
      "Epoch 100/100 - Batch Reconstruction loss: 0.301358\n",
      "Epoch 1/100 - Batch Reconstruction loss: 1.308648\n",
      "Epoch 2/100 - Batch Reconstruction loss: 1.265571\n",
      "Epoch 3/100 - Batch Reconstruction loss: 1.221210\n",
      "Epoch 4/100 - Batch Reconstruction loss: 1.253168\n",
      "Epoch 5/100 - Batch Reconstruction loss: 1.370553\n",
      "Epoch 6/100 - Batch Reconstruction loss: 1.222040\n",
      "Epoch 7/100 - Batch Reconstruction loss: 1.274227\n",
      "Epoch 8/100 - Batch Reconstruction loss: 1.206478\n",
      "Epoch 9/100 - Batch Reconstruction loss: 1.170414\n",
      "Epoch 10/100 - Batch Reconstruction loss: 1.016494\n",
      "Epoch 11/100 - Batch Reconstruction loss: 1.011525\n",
      "Epoch 12/100 - Batch Reconstruction loss: 0.997429\n",
      "Epoch 13/100 - Batch Reconstruction loss: 0.923456\n",
      "Epoch 14/100 - Batch Reconstruction loss: 0.909471\n",
      "Epoch 15/100 - Batch Reconstruction loss: 0.918511\n",
      "Epoch 16/100 - Batch Reconstruction loss: 0.980070\n",
      "Epoch 17/100 - Batch Reconstruction loss: 0.985688\n",
      "Epoch 18/100 - Batch Reconstruction loss: 0.956355\n",
      "Epoch 19/100 - Batch Reconstruction loss: 0.902875\n",
      "Epoch 20/100 - Batch Reconstruction loss: 1.001792\n",
      "Epoch 21/100 - Batch Reconstruction loss: 0.968549\n",
      "Epoch 22/100 - Batch Reconstruction loss: 0.882640\n",
      "Epoch 23/100 - Batch Reconstruction loss: 0.854992\n",
      "Epoch 24/100 - Batch Reconstruction loss: 0.884522\n",
      "Epoch 25/100 - Batch Reconstruction loss: 0.970912\n",
      "Epoch 26/100 - Batch Reconstruction loss: 0.836802\n",
      "Epoch 27/100 - Batch Reconstruction loss: 0.930231\n",
      "Epoch 28/100 - Batch Reconstruction loss: 0.912788\n",
      "Epoch 29/100 - Batch Reconstruction loss: 0.993343\n",
      "Epoch 30/100 - Batch Reconstruction loss: 0.869436\n",
      "Epoch 31/100 - Batch Reconstruction loss: 0.820112\n",
      "Epoch 32/100 - Batch Reconstruction loss: 0.883616\n",
      "Epoch 33/100 - Batch Reconstruction loss: 0.863855\n",
      "Epoch 34/100 - Batch Reconstruction loss: 0.891202\n",
      "Epoch 35/100 - Batch Reconstruction loss: 0.821777\n",
      "Epoch 36/100 - Batch Reconstruction loss: 0.818222\n",
      "Epoch 37/100 - Batch Reconstruction loss: 0.848515\n",
      "Epoch 38/100 - Batch Reconstruction loss: 0.848219\n",
      "Epoch 39/100 - Batch Reconstruction loss: 0.846556\n",
      "Epoch 40/100 - Batch Reconstruction loss: 0.853365\n",
      "Epoch 41/100 - Batch Reconstruction loss: 0.943496\n",
      "Epoch 42/100 - Batch Reconstruction loss: 0.794878\n",
      "Epoch 43/100 - Batch Reconstruction loss: 0.778417\n",
      "Epoch 44/100 - Batch Reconstruction loss: 0.860730\n",
      "Epoch 45/100 - Batch Reconstruction loss: 0.763093\n",
      "Epoch 46/100 - Batch Reconstruction loss: 0.798140\n",
      "Epoch 47/100 - Batch Reconstruction loss: 0.835920\n",
      "Epoch 48/100 - Batch Reconstruction loss: 0.711757\n",
      "Epoch 49/100 - Batch Reconstruction loss: 0.779849\n",
      "Epoch 50/100 - Batch Reconstruction loss: 0.890541\n",
      "Epoch 51/100 - Batch Reconstruction loss: 0.911026\n",
      "Epoch 52/100 - Batch Reconstruction loss: 0.730609\n",
      "Epoch 53/100 - Batch Reconstruction loss: 0.782369\n",
      "Epoch 54/100 - Batch Reconstruction loss: 0.846127\n",
      "Epoch 55/100 - Batch Reconstruction loss: 0.927471\n",
      "Epoch 56/100 - Batch Reconstruction loss: 0.866817\n",
      "Epoch 57/100 - Batch Reconstruction loss: 0.845647\n",
      "Epoch 58/100 - Batch Reconstruction loss: 0.854299\n",
      "Epoch 59/100 - Batch Reconstruction loss: 0.819125\n",
      "Epoch 60/100 - Batch Reconstruction loss: 0.782788\n",
      "Epoch 61/100 - Batch Reconstruction loss: 0.852913\n",
      "Epoch 62/100 - Batch Reconstruction loss: 0.800167\n",
      "Epoch 63/100 - Batch Reconstruction loss: 0.801199\n",
      "Epoch 64/100 - Batch Reconstruction loss: 0.807690\n",
      "Epoch 65/100 - Batch Reconstruction loss: 0.896858\n",
      "Epoch 66/100 - Batch Reconstruction loss: 0.850407\n",
      "Epoch 67/100 - Batch Reconstruction loss: 0.775097\n",
      "Epoch 68/100 - Batch Reconstruction loss: 0.795784\n",
      "Epoch 69/100 - Batch Reconstruction loss: 0.875284\n",
      "Epoch 70/100 - Batch Reconstruction loss: 0.875875\n",
      "Epoch 71/100 - Batch Reconstruction loss: 0.821087\n",
      "Epoch 72/100 - Batch Reconstruction loss: 0.858342\n",
      "Epoch 73/100 - Batch Reconstruction loss: 0.819979\n",
      "Epoch 74/100 - Batch Reconstruction loss: 0.769788\n",
      "Epoch 75/100 - Batch Reconstruction loss: 0.809512\n",
      "Epoch 76/100 - Batch Reconstruction loss: 0.888952\n",
      "Epoch 77/100 - Batch Reconstruction loss: 0.893328\n",
      "Epoch 78/100 - Batch Reconstruction loss: 0.820120\n",
      "Epoch 79/100 - Batch Reconstruction loss: 0.836901\n",
      "Epoch 80/100 - Batch Reconstruction loss: 0.821387\n",
      "Epoch 81/100 - Batch Reconstruction loss: 0.785664\n",
      "Epoch 82/100 - Batch Reconstruction loss: 0.819956\n",
      "Epoch 83/100 - Batch Reconstruction loss: 0.973424\n",
      "Epoch 84/100 - Batch Reconstruction loss: 0.820297\n",
      "Epoch 85/100 - Batch Reconstruction loss: 0.788885\n",
      "Epoch 86/100 - Batch Reconstruction loss: 0.801465\n",
      "Epoch 87/100 - Batch Reconstruction loss: 0.754682\n",
      "Epoch 88/100 - Batch Reconstruction loss: 0.841964\n",
      "Epoch 89/100 - Batch Reconstruction loss: 0.763259\n",
      "Epoch 90/100 - Batch Reconstruction loss: 0.906761\n",
      "Epoch 91/100 - Batch Reconstruction loss: 0.763288\n",
      "Epoch 92/100 - Batch Reconstruction loss: 0.845152\n",
      "Epoch 93/100 - Batch Reconstruction loss: 0.812503\n",
      "Epoch 94/100 - Batch Reconstruction loss: 0.806314\n",
      "Epoch 95/100 - Batch Reconstruction loss: 0.812685\n",
      "Epoch 96/100 - Batch Reconstruction loss: 0.885605\n",
      "Epoch 97/100 - Batch Reconstruction loss: 0.793859\n",
      "Epoch 98/100 - Batch Reconstruction loss: 0.788011\n",
      "Epoch 99/100 - Batch Reconstruction loss: 0.823896\n",
      "Epoch 100/100 - Batch Reconstruction loss: 0.766472\n",
      "0.08232618795780637\n",
      "0.08232618795780637\n"
     ]
    }
   ],
   "source": [
    "credit_encoder = torch.nn.Sequential(\n",
    "    torch.nn.Linear(credit_input_dim, 16),\n",
    "    torch.nn.BatchNorm1d(16),\n",
    "    torch.nn.ReLU(),\n",
    "    torch.nn.Linear(16, 8),\n",
    "    torch.nn.BatchNorm1d(8),\n",
    "    torch.nn.Sigmoid(),\n",
    "    torch.nn.Linear(8, 4),\n",
    "    torch.nn.BatchNorm1d(4),\n",
    "    torch.nn.Sigmoid(),\n",
    ")\n",
    "credit_decoder = torch.nn.Sequential(\n",
    "    torch.nn.Linear(4, 8),\n",
    "    torch.nn.ReLU(),\n",
    "    torch.nn.Linear(8, 16),\n",
    "    torch.nn.ReLU(),\n",
    "    torch.nn.Linear(16, credit_cat_dim),\n",
    "    torch.nn.Sigmoid()\n",
    ")\n",
    "credit_ae = EmbeddingsAutoencoder(credit_encoder, credit_decoder, credit_input_dim, credit_cat_dim, credit_emb_sizes, attention=False)\n",
    "credit_ae.fit(n_epochs=100, lr=0.001, dataloader=credit_dataloader)\n",
    "\n",
    "credit_attention_ae = EmbeddingsAutoencoder(credit_encoder, credit_decoder, credit_input_dim, credit_cat_dim, credit_emb_sizes, attention=True)\n",
    "credit_attention_ae.fit(n_epochs=100, lr=0.001, dataloader=credit_dataloader)\n",
    "\n",
    "cat = torch.tensor(credit_df[credit_cat_cols].values, dtype=torch.float)\n",
    "cont = torch.tensor(credit_df[credit_cont_cols].values, dtype=torch.float)\n",
    "cat_features = credit_ae.encode(cat, cont).detach().numpy()\n",
    "features = np.concatenate((cat_features, credit_df[credit_cont_cols].values), 1)\n",
    "kmeans = KMeans(n_clusters=2, n_init=\"auto\", random_state=0).fit(features)\n",
    "credit_ae_nmi = normalized_mutual_info_score(credit_y, kmeans.labels_)\n",
    "print(credit_ae_nmi)\n",
    "\n",
    "cat = torch.tensor(credit_df[credit_cat_cols].values, dtype=torch.float)\n",
    "cont = torch.tensor(credit_df[credit_cont_cols].values, dtype=torch.float)\n",
    "cat_features = credit_ae.encode(cat, cont).detach().numpy()\n",
    "features = np.concatenate((cat_features, credit_df[credit_cont_cols].values), 1)\n",
    "kmeans = KMeans(n_clusters=2, n_init=\"auto\", random_state=0).fit(features)\n",
    "credit_attention_ae_nmi = normalized_mutual_info_score(credit_y, kmeans.labels_)\n",
    "print(credit_attention_ae_nmi)"
   ],
   "metadata": {
    "collapsed": false,
    "ExecuteTime": {
     "start_time": "2023-07-09T14:07:57.101307Z",
     "end_time": "2023-07-09T14:08:06.636171Z"
    }
   }
  },
  {
   "cell_type": "code",
   "execution_count": 17,
   "outputs": [
    {
     "name": "stdout",
     "output_type": "stream",
     "text": [
      "Epoch 1/100 - Batch Reconstruction loss: 1.004110\n",
      "Epoch 2/100 - Batch Reconstruction loss: 1.011177\n",
      "Epoch 3/100 - Batch Reconstruction loss: 1.067677\n",
      "Epoch 4/100 - Batch Reconstruction loss: 1.072329\n",
      "Epoch 5/100 - Batch Reconstruction loss: 1.029546\n",
      "Epoch 6/100 - Batch Reconstruction loss: 1.024902\n",
      "Epoch 7/100 - Batch Reconstruction loss: 1.060408\n",
      "Epoch 8/100 - Batch Reconstruction loss: 1.033805\n",
      "Epoch 9/100 - Batch Reconstruction loss: 1.005136\n",
      "Epoch 10/100 - Batch Reconstruction loss: 1.024001\n",
      "Epoch 11/100 - Batch Reconstruction loss: 1.050861\n",
      "Epoch 12/100 - Batch Reconstruction loss: 0.971308\n",
      "Epoch 13/100 - Batch Reconstruction loss: 1.049785\n",
      "Epoch 14/100 - Batch Reconstruction loss: 0.910415\n",
      "Epoch 15/100 - Batch Reconstruction loss: 1.016182\n",
      "Epoch 16/100 - Batch Reconstruction loss: 0.991272\n",
      "Epoch 17/100 - Batch Reconstruction loss: 0.998470\n",
      "Epoch 18/100 - Batch Reconstruction loss: 1.053283\n",
      "Epoch 19/100 - Batch Reconstruction loss: 1.017823\n",
      "Epoch 20/100 - Batch Reconstruction loss: 0.946021\n",
      "Epoch 21/100 - Batch Reconstruction loss: 1.005201\n",
      "Epoch 22/100 - Batch Reconstruction loss: 0.987607\n",
      "Epoch 23/100 - Batch Reconstruction loss: 0.975053\n",
      "Epoch 24/100 - Batch Reconstruction loss: 0.953479\n",
      "Epoch 25/100 - Batch Reconstruction loss: 0.893641\n",
      "Epoch 26/100 - Batch Reconstruction loss: 0.986566\n",
      "Epoch 27/100 - Batch Reconstruction loss: 0.938940\n",
      "Epoch 28/100 - Batch Reconstruction loss: 0.951411\n",
      "Epoch 29/100 - Batch Reconstruction loss: 0.916733\n",
      "Epoch 30/100 - Batch Reconstruction loss: 0.929289\n",
      "Epoch 31/100 - Batch Reconstruction loss: 0.980915\n",
      "Epoch 32/100 - Batch Reconstruction loss: 0.894357\n",
      "Epoch 33/100 - Batch Reconstruction loss: 0.970277\n",
      "Epoch 34/100 - Batch Reconstruction loss: 0.914095\n",
      "Epoch 35/100 - Batch Reconstruction loss: 0.913554\n",
      "Epoch 36/100 - Batch Reconstruction loss: 0.858526\n",
      "Epoch 37/100 - Batch Reconstruction loss: 0.866836\n",
      "Epoch 38/100 - Batch Reconstruction loss: 0.892407\n",
      "Epoch 39/100 - Batch Reconstruction loss: 0.887626\n",
      "Epoch 40/100 - Batch Reconstruction loss: 0.843524\n",
      "Epoch 41/100 - Batch Reconstruction loss: 0.843438\n",
      "Epoch 42/100 - Batch Reconstruction loss: 0.815205\n",
      "Epoch 43/100 - Batch Reconstruction loss: 0.769035\n",
      "Epoch 44/100 - Batch Reconstruction loss: 0.811362\n",
      "Epoch 45/100 - Batch Reconstruction loss: 0.825196\n",
      "Epoch 46/100 - Batch Reconstruction loss: 0.796435\n",
      "Epoch 47/100 - Batch Reconstruction loss: 0.815791\n",
      "Epoch 48/100 - Batch Reconstruction loss: 0.773302\n",
      "Epoch 49/100 - Batch Reconstruction loss: 0.854002\n",
      "Epoch 50/100 - Batch Reconstruction loss: 0.785771\n",
      "Epoch 51/100 - Batch Reconstruction loss: 0.818188\n",
      "Epoch 52/100 - Batch Reconstruction loss: 0.801088\n",
      "Epoch 53/100 - Batch Reconstruction loss: 0.728222\n",
      "Epoch 54/100 - Batch Reconstruction loss: 0.774041\n",
      "Epoch 55/100 - Batch Reconstruction loss: 0.736757\n",
      "Epoch 56/100 - Batch Reconstruction loss: 0.752641\n",
      "Epoch 57/100 - Batch Reconstruction loss: 0.794873\n",
      "Epoch 58/100 - Batch Reconstruction loss: 0.736049\n",
      "Epoch 59/100 - Batch Reconstruction loss: 0.766780\n",
      "Epoch 60/100 - Batch Reconstruction loss: 0.723898\n",
      "Epoch 61/100 - Batch Reconstruction loss: 0.748539\n",
      "Epoch 62/100 - Batch Reconstruction loss: 0.787385\n",
      "Epoch 63/100 - Batch Reconstruction loss: 0.740869\n",
      "Epoch 64/100 - Batch Reconstruction loss: 0.755247\n",
      "Epoch 65/100 - Batch Reconstruction loss: 0.730132\n",
      "Epoch 66/100 - Batch Reconstruction loss: 0.758170\n",
      "Epoch 67/100 - Batch Reconstruction loss: 0.679192\n",
      "Epoch 68/100 - Batch Reconstruction loss: 0.706626\n",
      "Epoch 69/100 - Batch Reconstruction loss: 0.694421\n",
      "Epoch 70/100 - Batch Reconstruction loss: 0.745121\n",
      "Epoch 71/100 - Batch Reconstruction loss: 0.704326\n",
      "Epoch 72/100 - Batch Reconstruction loss: 0.783821\n",
      "Epoch 73/100 - Batch Reconstruction loss: 0.732775\n",
      "Epoch 74/100 - Batch Reconstruction loss: 0.697844\n",
      "Epoch 75/100 - Batch Reconstruction loss: 0.736219\n",
      "Epoch 76/100 - Batch Reconstruction loss: 0.680704\n",
      "Epoch 77/100 - Batch Reconstruction loss: 0.715098\n",
      "Epoch 78/100 - Batch Reconstruction loss: 0.660257\n",
      "Epoch 79/100 - Batch Reconstruction loss: 0.698968\n",
      "Epoch 80/100 - Batch Reconstruction loss: 0.667691\n",
      "Epoch 81/100 - Batch Reconstruction loss: 0.704902\n",
      "Epoch 82/100 - Batch Reconstruction loss: 0.676524\n",
      "Epoch 83/100 - Batch Reconstruction loss: 0.700665\n",
      "Epoch 84/100 - Batch Reconstruction loss: 0.708383\n",
      "Epoch 85/100 - Batch Reconstruction loss: 0.699644\n",
      "Epoch 86/100 - Batch Reconstruction loss: 0.707517\n",
      "Epoch 87/100 - Batch Reconstruction loss: 0.727074\n",
      "Epoch 88/100 - Batch Reconstruction loss: 0.691913\n",
      "Epoch 89/100 - Batch Reconstruction loss: 0.661207\n",
      "Epoch 90/100 - Batch Reconstruction loss: 0.686974\n",
      "Epoch 91/100 - Batch Reconstruction loss: 0.709310\n",
      "Epoch 92/100 - Batch Reconstruction loss: 0.714862\n",
      "Epoch 93/100 - Batch Reconstruction loss: 0.714603\n",
      "Epoch 94/100 - Batch Reconstruction loss: 0.663357\n",
      "Epoch 95/100 - Batch Reconstruction loss: 0.711000\n",
      "Epoch 96/100 - Batch Reconstruction loss: 0.620571\n",
      "Epoch 97/100 - Batch Reconstruction loss: 0.685110\n",
      "Epoch 98/100 - Batch Reconstruction loss: 0.729033\n",
      "Epoch 99/100 - Batch Reconstruction loss: 0.680975\n",
      "Epoch 100/100 - Batch Reconstruction loss: 0.671618\n",
      "Epoch 1/100 - Batch Reconstruction loss: 1.126663\n",
      "Epoch 2/100 - Batch Reconstruction loss: 1.162929\n",
      "Epoch 3/100 - Batch Reconstruction loss: 1.205335\n",
      "Epoch 4/100 - Batch Reconstruction loss: 1.105151\n",
      "Epoch 5/100 - Batch Reconstruction loss: 1.136813\n",
      "Epoch 6/100 - Batch Reconstruction loss: 1.204169\n",
      "Epoch 7/100 - Batch Reconstruction loss: 1.124248\n",
      "Epoch 8/100 - Batch Reconstruction loss: 1.174871\n",
      "Epoch 9/100 - Batch Reconstruction loss: 1.122537\n",
      "Epoch 10/100 - Batch Reconstruction loss: 1.143470\n",
      "Epoch 11/100 - Batch Reconstruction loss: 1.180835\n",
      "Epoch 12/100 - Batch Reconstruction loss: 1.214476\n",
      "Epoch 13/100 - Batch Reconstruction loss: 1.147879\n",
      "Epoch 14/100 - Batch Reconstruction loss: 1.142506\n",
      "Epoch 15/100 - Batch Reconstruction loss: 1.081397\n",
      "Epoch 16/100 - Batch Reconstruction loss: 1.065711\n",
      "Epoch 17/100 - Batch Reconstruction loss: 1.140079\n",
      "Epoch 18/100 - Batch Reconstruction loss: 1.102354\n",
      "Epoch 19/100 - Batch Reconstruction loss: 1.088421\n",
      "Epoch 20/100 - Batch Reconstruction loss: 0.989024\n",
      "Epoch 21/100 - Batch Reconstruction loss: 1.125093\n",
      "Epoch 22/100 - Batch Reconstruction loss: 1.102841\n",
      "Epoch 23/100 - Batch Reconstruction loss: 0.997387\n",
      "Epoch 24/100 - Batch Reconstruction loss: 1.083081\n",
      "Epoch 25/100 - Batch Reconstruction loss: 0.987326\n",
      "Epoch 26/100 - Batch Reconstruction loss: 1.044296\n",
      "Epoch 27/100 - Batch Reconstruction loss: 1.024369\n",
      "Epoch 28/100 - Batch Reconstruction loss: 0.905588\n",
      "Epoch 29/100 - Batch Reconstruction loss: 0.968282\n",
      "Epoch 30/100 - Batch Reconstruction loss: 1.039917\n",
      "Epoch 31/100 - Batch Reconstruction loss: 0.940866\n",
      "Epoch 32/100 - Batch Reconstruction loss: 0.948294\n",
      "Epoch 33/100 - Batch Reconstruction loss: 0.948404\n",
      "Epoch 34/100 - Batch Reconstruction loss: 0.928132\n",
      "Epoch 35/100 - Batch Reconstruction loss: 0.886365\n",
      "Epoch 36/100 - Batch Reconstruction loss: 0.848464\n",
      "Epoch 37/100 - Batch Reconstruction loss: 0.906496\n",
      "Epoch 38/100 - Batch Reconstruction loss: 0.895574\n",
      "Epoch 39/100 - Batch Reconstruction loss: 0.862987\n",
      "Epoch 40/100 - Batch Reconstruction loss: 0.898127\n",
      "Epoch 41/100 - Batch Reconstruction loss: 0.866853\n",
      "Epoch 42/100 - Batch Reconstruction loss: 0.863353\n",
      "Epoch 43/100 - Batch Reconstruction loss: 0.868295\n",
      "Epoch 44/100 - Batch Reconstruction loss: 0.868086\n",
      "Epoch 45/100 - Batch Reconstruction loss: 0.883397\n",
      "Epoch 46/100 - Batch Reconstruction loss: 0.819357\n",
      "Epoch 47/100 - Batch Reconstruction loss: 0.936470\n",
      "Epoch 48/100 - Batch Reconstruction loss: 0.798466\n",
      "Epoch 49/100 - Batch Reconstruction loss: 0.839721\n",
      "Epoch 50/100 - Batch Reconstruction loss: 0.869359\n",
      "Epoch 51/100 - Batch Reconstruction loss: 0.874796\n",
      "Epoch 52/100 - Batch Reconstruction loss: 0.802008\n",
      "Epoch 53/100 - Batch Reconstruction loss: 0.855846\n",
      "Epoch 54/100 - Batch Reconstruction loss: 0.859387\n",
      "Epoch 55/100 - Batch Reconstruction loss: 0.810048\n",
      "Epoch 56/100 - Batch Reconstruction loss: 0.841217\n",
      "Epoch 57/100 - Batch Reconstruction loss: 0.787363\n",
      "Epoch 58/100 - Batch Reconstruction loss: 0.825638\n",
      "Epoch 59/100 - Batch Reconstruction loss: 0.835248\n",
      "Epoch 60/100 - Batch Reconstruction loss: 0.816107\n",
      "Epoch 61/100 - Batch Reconstruction loss: 0.820457\n",
      "Epoch 62/100 - Batch Reconstruction loss: 0.810440\n",
      "Epoch 63/100 - Batch Reconstruction loss: 0.831688\n",
      "Epoch 64/100 - Batch Reconstruction loss: 0.821824\n",
      "Epoch 65/100 - Batch Reconstruction loss: 0.825033\n",
      "Epoch 66/100 - Batch Reconstruction loss: 0.893084\n",
      "Epoch 67/100 - Batch Reconstruction loss: 0.890833\n",
      "Epoch 68/100 - Batch Reconstruction loss: 0.800221\n",
      "Epoch 69/100 - Batch Reconstruction loss: 0.826630\n",
      "Epoch 70/100 - Batch Reconstruction loss: 0.901483\n",
      "Epoch 71/100 - Batch Reconstruction loss: 0.842532\n",
      "Epoch 72/100 - Batch Reconstruction loss: 0.795714\n",
      "Epoch 73/100 - Batch Reconstruction loss: 0.799665\n",
      "Epoch 74/100 - Batch Reconstruction loss: 0.829631\n",
      "Epoch 75/100 - Batch Reconstruction loss: 0.794432\n",
      "Epoch 76/100 - Batch Reconstruction loss: 0.829804\n",
      "Epoch 77/100 - Batch Reconstruction loss: 0.829686\n",
      "Epoch 78/100 - Batch Reconstruction loss: 0.760129\n",
      "Epoch 79/100 - Batch Reconstruction loss: 0.862263\n",
      "Epoch 80/100 - Batch Reconstruction loss: 0.773006\n",
      "Epoch 81/100 - Batch Reconstruction loss: 0.770168\n",
      "Epoch 82/100 - Batch Reconstruction loss: 0.785205\n",
      "Epoch 83/100 - Batch Reconstruction loss: 0.783366\n",
      "Epoch 84/100 - Batch Reconstruction loss: 0.859206\n",
      "Epoch 85/100 - Batch Reconstruction loss: 0.838954\n",
      "Epoch 86/100 - Batch Reconstruction loss: 0.728916\n",
      "Epoch 87/100 - Batch Reconstruction loss: 0.841639\n",
      "Epoch 88/100 - Batch Reconstruction loss: 0.781413\n",
      "Epoch 89/100 - Batch Reconstruction loss: 0.875487\n",
      "Epoch 90/100 - Batch Reconstruction loss: 0.837877\n",
      "Epoch 91/100 - Batch Reconstruction loss: 0.788036\n",
      "Epoch 92/100 - Batch Reconstruction loss: 0.870620\n",
      "Epoch 93/100 - Batch Reconstruction loss: 0.869511\n",
      "Epoch 94/100 - Batch Reconstruction loss: 0.793336\n",
      "Epoch 95/100 - Batch Reconstruction loss: 0.773912\n",
      "Epoch 96/100 - Batch Reconstruction loss: 0.877860\n",
      "Epoch 97/100 - Batch Reconstruction loss: 0.837592\n",
      "Epoch 98/100 - Batch Reconstruction loss: 0.798772\n",
      "Epoch 99/100 - Batch Reconstruction loss: 0.837819\n",
      "Epoch 100/100 - Batch Reconstruction loss: 0.815536\n",
      "0.14598684326235373\n",
      "0.14598684326235373\n"
     ]
    }
   ],
   "source": [
    "heart_encoder = torch.nn.Sequential(\n",
    "    torch.nn.Linear(heart_input_dim, 8),\n",
    "    torch.nn.BatchNorm1d(8),\n",
    "    torch.nn.ReLU(),\n",
    "    torch.nn.Linear(8, 5),\n",
    "    torch.nn.BatchNorm1d(5),\n",
    "    torch.nn.Sigmoid(),\n",
    "    torch.nn.Linear(5, 3),\n",
    "    torch.nn.BatchNorm1d(3),\n",
    "    torch.nn.Sigmoid(),\n",
    ")\n",
    "heart_decoder = torch.nn.Sequential(\n",
    "    torch.nn.Linear(3, 5),\n",
    "    torch.nn.ReLU(),\n",
    "    torch.nn.Linear(5, 8),\n",
    "    torch.nn.ReLU(),\n",
    "    torch.nn.Linear(8, heart_cat_dim),\n",
    "    torch.nn.Sigmoid()\n",
    ")\n",
    "heart_ae = EmbeddingsAutoencoder(heart_encoder, heart_decoder, heart_input_dim, heart_cat_dim, heart_emb_sizes, attention=False)\n",
    "heart_ae.fit(n_epochs=100, lr=0.001, dataloader=heart_dataloader)\n",
    "\n",
    "heart_attention_ae = EmbeddingsAutoencoder(heart_encoder, heart_decoder, heart_input_dim, heart_cat_dim, heart_emb_sizes, attention=True)\n",
    "heart_attention_ae.fit(n_epochs=100, lr=0.001, dataloader=heart_dataloader)\n",
    "\n",
    "cat = torch.tensor(heart_df[heart_cat_cols].values, dtype=torch.float)\n",
    "cont = torch.tensor(heart_df[heart_cont_cols].values, dtype=torch.float)\n",
    "cat_features = heart_ae.encode(cat, cont).detach().numpy()\n",
    "features = np.concatenate((cat_features, heart_df[heart_cont_cols].values), 1)\n",
    "kmeans = KMeans(n_clusters=5, n_init=\"auto\", random_state=0).fit(features)\n",
    "heart_ae_nmi = normalized_mutual_info_score(heart_y, kmeans.labels_)\n",
    "print(heart_ae_nmi)\n",
    "\n",
    "cat = torch.tensor(heart_df[heart_cat_cols].values, dtype=torch.float)\n",
    "cont = torch.tensor(heart_df[heart_cont_cols].values, dtype=torch.float)\n",
    "cat_features = heart_ae.encode(cat, cont).detach().numpy()\n",
    "features = np.concatenate((cat_features, heart_df[heart_cont_cols].values), 1)\n",
    "kmeans = KMeans(n_clusters=5, n_init=\"auto\", random_state=0).fit(features)\n",
    "heart_attention_ae_nmi = normalized_mutual_info_score(heart_y, kmeans.labels_)\n",
    "print(heart_attention_ae_nmi)"
   ],
   "metadata": {
    "collapsed": false,
    "ExecuteTime": {
     "start_time": "2023-07-09T14:08:06.637172Z",
     "end_time": "2023-07-09T14:08:09.030977Z"
    }
   }
  },
  {
   "cell_type": "code",
   "execution_count": 18,
   "outputs": [
    {
     "name": "stderr",
     "output_type": "stream",
     "text": [
      "C:\\Users\\jaani\\repos\\attention-mixed-type-clustering\\venv\\Lib\\site-packages\\sklearn\\cluster\\_kmeans.py:870: FutureWarning: The default value of `n_init` will change from 10 to 'auto' in 1.4. Set the value of `n_init` explicitly to suppress the warning\n",
      "  warnings.warn(\n",
      "C:\\Users\\jaani\\repos\\attention-mixed-type-clustering\\venv\\Lib\\site-packages\\sklearn\\cluster\\_kmeans.py:870: FutureWarning: The default value of `n_init` will change from 10 to 'auto' in 1.4. Set the value of `n_init` explicitly to suppress the warning\n",
      "  warnings.warn(\n",
      "C:\\Users\\jaani\\repos\\attention-mixed-type-clustering\\venv\\Lib\\site-packages\\sklearn\\cluster\\_kmeans.py:870: FutureWarning: The default value of `n_init` will change from 10 to 'auto' in 1.4. Set the value of `n_init` explicitly to suppress the warning\n",
      "  warnings.warn(\n"
     ]
    },
    {
     "name": "stdout",
     "output_type": "stream",
     "text": [
      "1.1183896255679725e-07\n",
      "1.1183896255679725e-07\n"
     ]
    },
    {
     "name": "stderr",
     "output_type": "stream",
     "text": [
      "C:\\Users\\jaani\\repos\\attention-mixed-type-clustering\\venv\\Lib\\site-packages\\sklearn\\cluster\\_kmeans.py:870: FutureWarning: The default value of `n_init` will change from 10 to 'auto' in 1.4. Set the value of `n_init` explicitly to suppress the warning\n",
      "  warnings.warn(\n"
     ]
    }
   ],
   "source": [
    "banking_dcn = DCNDuped(n_clusters=2, pretrain_epochs=100, clustering_epochs=100, autoencoder=banking_ae, random_state=np.random.RandomState(0))\n",
    "banking_dcn.fit(banking_dataloader)\n",
    "\n",
    "banking_attention_dcn = DCNDuped(n_clusters=2, pretrain_epochs=100, clustering_epochs=100, autoencoder=banking_attention_ae, random_state=np.random.RandomState(0))\n",
    "banking_attention_dcn.fit(banking_dataloader)\n",
    "\n",
    "banking_dcn_nmi = normalized_mutual_info_score(banking_y, banking_dcn.labels_)\n",
    "print(banking_dcn_nmi)\n",
    "\n",
    "banking_attention_dcn_nmi = normalized_mutual_info_score(banking_y, banking_dcn.labels_)\n",
    "print(banking_attention_dcn_nmi)"
   ],
   "metadata": {
    "collapsed": false,
    "ExecuteTime": {
     "start_time": "2023-07-09T14:08:09.031979Z",
     "end_time": "2023-07-09T14:16:04.002995Z"
    }
   }
  },
  {
   "cell_type": "code",
   "execution_count": 19,
   "outputs": [
    {
     "name": "stderr",
     "output_type": "stream",
     "text": [
      "C:\\Users\\jaani\\repos\\attention-mixed-type-clustering\\venv\\Lib\\site-packages\\sklearn\\cluster\\_kmeans.py:870: FutureWarning: The default value of `n_init` will change from 10 to 'auto' in 1.4. Set the value of `n_init` explicitly to suppress the warning\n",
      "  warnings.warn(\n",
      "C:\\Users\\jaani\\repos\\attention-mixed-type-clustering\\venv\\Lib\\site-packages\\sklearn\\cluster\\_kmeans.py:870: FutureWarning: The default value of `n_init` will change from 10 to 'auto' in 1.4. Set the value of `n_init` explicitly to suppress the warning\n",
      "  warnings.warn(\n",
      "C:\\Users\\jaani\\repos\\attention-mixed-type-clustering\\venv\\Lib\\site-packages\\sklearn\\cluster\\_kmeans.py:870: FutureWarning: The default value of `n_init` will change from 10 to 'auto' in 1.4. Set the value of `n_init` explicitly to suppress the warning\n",
      "  warnings.warn(\n"
     ]
    },
    {
     "name": "stdout",
     "output_type": "stream",
     "text": [
      "1.647201780093125e-05\n",
      "1.647201780093125e-05\n"
     ]
    },
    {
     "name": "stderr",
     "output_type": "stream",
     "text": [
      "C:\\Users\\jaani\\repos\\attention-mixed-type-clustering\\venv\\Lib\\site-packages\\sklearn\\cluster\\_kmeans.py:870: FutureWarning: The default value of `n_init` will change from 10 to 'auto' in 1.4. Set the value of `n_init` explicitly to suppress the warning\n",
      "  warnings.warn(\n"
     ]
    }
   ],
   "source": [
    "census_dcn = DCNDuped(n_clusters=2, pretrain_epochs=100, clustering_epochs=100, autoencoder=census_ae, random_state=np.random.RandomState(0))\n",
    "census_dcn.fit(census_dataloader)\n",
    "\n",
    "census_attention_dcn = DCNDuped(n_clusters=2, pretrain_epochs=100, clustering_epochs=100, autoencoder=census_attention_ae, random_state=np.random.RandomState(0))\n",
    "census_attention_dcn.fit(census_dataloader)\n",
    "\n",
    "census_dcn_nmi = normalized_mutual_info_score(census_y, census_dcn.labels_)\n",
    "print(census_dcn_nmi)\n",
    "\n",
    "census_attention_dcn_nmi = normalized_mutual_info_score(census_y, census_dcn.labels_)\n",
    "print(census_attention_dcn_nmi)"
   ],
   "metadata": {
    "collapsed": false,
    "ExecuteTime": {
     "start_time": "2023-07-09T14:16:04.004501Z",
     "end_time": "2023-07-09T14:24:41.085467Z"
    }
   }
  },
  {
   "cell_type": "code",
   "execution_count": 20,
   "outputs": [
    {
     "name": "stderr",
     "output_type": "stream",
     "text": [
      "C:\\Users\\jaani\\repos\\attention-mixed-type-clustering\\venv\\Lib\\site-packages\\sklearn\\cluster\\_kmeans.py:870: FutureWarning: The default value of `n_init` will change from 10 to 'auto' in 1.4. Set the value of `n_init` explicitly to suppress the warning\n",
      "  warnings.warn(\n",
      "C:\\Users\\jaani\\repos\\attention-mixed-type-clustering\\venv\\Lib\\site-packages\\sklearn\\cluster\\_kmeans.py:870: FutureWarning: The default value of `n_init` will change from 10 to 'auto' in 1.4. Set the value of `n_init` explicitly to suppress the warning\n",
      "  warnings.warn(\n",
      "C:\\Users\\jaani\\repos\\attention-mixed-type-clustering\\venv\\Lib\\site-packages\\sklearn\\cluster\\_kmeans.py:870: FutureWarning: The default value of `n_init` will change from 10 to 'auto' in 1.4. Set the value of `n_init` explicitly to suppress the warning\n",
      "  warnings.warn(\n"
     ]
    },
    {
     "name": "stdout",
     "output_type": "stream",
     "text": [
      "0.001381049255537564\n",
      "0.001381049255537564\n"
     ]
    },
    {
     "name": "stderr",
     "output_type": "stream",
     "text": [
      "C:\\Users\\jaani\\repos\\attention-mixed-type-clustering\\venv\\Lib\\site-packages\\sklearn\\cluster\\_kmeans.py:870: FutureWarning: The default value of `n_init` will change from 10 to 'auto' in 1.4. Set the value of `n_init` explicitly to suppress the warning\n",
      "  warnings.warn(\n"
     ]
    }
   ],
   "source": [
    "credit_dcn = DCNDuped(n_clusters=2, pretrain_epochs=100, clustering_epochs=100, autoencoder=credit_ae, random_state=np.random.RandomState(0))\n",
    "credit_dcn.fit(credit_dataloader)\n",
    "\n",
    "credit_attention_dcn = DCNDuped(n_clusters=2, pretrain_epochs=100, clustering_epochs=100, autoencoder=credit_attention_ae, random_state=np.random.RandomState(0))\n",
    "credit_attention_dcn.fit(credit_dataloader)\n",
    "\n",
    "credit_dcn_nmi = normalized_mutual_info_score(credit_y, credit_dcn.labels_)\n",
    "print(credit_dcn_nmi)\n",
    "\n",
    "credit_attention_dcn_nmi = normalized_mutual_info_score(credit_y, credit_dcn.labels_)\n",
    "print(credit_attention_dcn_nmi)"
   ],
   "metadata": {
    "collapsed": false,
    "ExecuteTime": {
     "start_time": "2023-07-09T14:24:41.087905Z",
     "end_time": "2023-07-09T14:24:57.822819Z"
    }
   }
  },
  {
   "cell_type": "code",
   "execution_count": 21,
   "outputs": [
    {
     "name": "stderr",
     "output_type": "stream",
     "text": [
      "C:\\Users\\jaani\\repos\\attention-mixed-type-clustering\\venv\\Lib\\site-packages\\sklearn\\cluster\\_kmeans.py:870: FutureWarning: The default value of `n_init` will change from 10 to 'auto' in 1.4. Set the value of `n_init` explicitly to suppress the warning\n",
      "  warnings.warn(\n",
      "C:\\Users\\jaani\\repos\\attention-mixed-type-clustering\\venv\\Lib\\site-packages\\sklearn\\cluster\\_kmeans.py:870: FutureWarning: The default value of `n_init` will change from 10 to 'auto' in 1.4. Set the value of `n_init` explicitly to suppress the warning\n",
      "  warnings.warn(\n",
      "C:\\Users\\jaani\\repos\\attention-mixed-type-clustering\\venv\\Lib\\site-packages\\sklearn\\cluster\\_kmeans.py:870: FutureWarning: The default value of `n_init` will change from 10 to 'auto' in 1.4. Set the value of `n_init` explicitly to suppress the warning\n",
      "  warnings.warn(\n"
     ]
    },
    {
     "name": "stdout",
     "output_type": "stream",
     "text": [
      "0.017189361046518893\n",
      "0.017189361046518893\n"
     ]
    },
    {
     "name": "stderr",
     "output_type": "stream",
     "text": [
      "C:\\Users\\jaani\\repos\\attention-mixed-type-clustering\\venv\\Lib\\site-packages\\sklearn\\cluster\\_kmeans.py:870: FutureWarning: The default value of `n_init` will change from 10 to 'auto' in 1.4. Set the value of `n_init` explicitly to suppress the warning\n",
      "  warnings.warn(\n"
     ]
    }
   ],
   "source": [
    "heart_dcn = DCNDuped(n_clusters=5, pretrain_epochs=100, clustering_epochs=100, autoencoder=heart_ae, random_state=np.random.RandomState(0))\n",
    "heart_dcn.fit(heart_dataloader)\n",
    "\n",
    "heart_attention_dcn = DCNDuped(n_clusters=5, pretrain_epochs=100, clustering_epochs=100, autoencoder=heart_attention_ae, random_state=np.random.RandomState(0))\n",
    "heart_attention_dcn.fit(heart_dataloader)\n",
    "\n",
    "heart_dcn_nmi = normalized_mutual_info_score(heart_y, heart_dcn.labels_)\n",
    "print(heart_dcn_nmi)\n",
    "\n",
    "heart_attention_dcn_nmi = normalized_mutual_info_score(heart_y, heart_dcn.labels_)\n",
    "print(heart_attention_dcn_nmi)"
   ],
   "metadata": {
    "collapsed": false,
    "ExecuteTime": {
     "start_time": "2023-07-09T14:24:57.823820Z",
     "end_time": "2023-07-09T14:25:03.039011Z"
    }
   }
  },
  {
   "cell_type": "code",
   "execution_count": 23,
   "outputs": [
    {
     "data": {
      "text/plain": "                       Banking Marketing  Adult/Census Income Credit Approval   \nK-Prototypes                    0.017825             0.022463        0.108958  \\\nGower + Agglomerative               <NA>             0.000023            <NA>   \nAE + k-means                    0.001253             0.022463        0.082326   \nAttention AE + k-means          0.001253             0.022463        0.082326   \nDCN                                  0.0             0.000016        0.001381   \nAttention DCN                        0.0             0.000016        0.001381   \n\n                       Heart Disease  \nK-Prototypes                0.170599  \nGower + Agglomerative           <NA>  \nAE + k-means                0.145987  \nAttention AE + k-means      0.145987  \nDCN                         0.017189  \nAttention DCN               0.017189  ",
      "text/html": "<div>\n<style scoped>\n    .dataframe tbody tr th:only-of-type {\n        vertical-align: middle;\n    }\n\n    .dataframe tbody tr th {\n        vertical-align: top;\n    }\n\n    .dataframe thead th {\n        text-align: right;\n    }\n</style>\n<table border=\"1\" class=\"dataframe\">\n  <thead>\n    <tr style=\"text-align: right;\">\n      <th></th>\n      <th>Banking Marketing</th>\n      <th>Adult/Census Income</th>\n      <th>Credit Approval</th>\n      <th>Heart Disease</th>\n    </tr>\n  </thead>\n  <tbody>\n    <tr>\n      <th>K-Prototypes</th>\n      <td>0.017825</td>\n      <td>0.022463</td>\n      <td>0.108958</td>\n      <td>0.170599</td>\n    </tr>\n    <tr>\n      <th>Gower + Agglomerative</th>\n      <td>&lt;NA&gt;</td>\n      <td>0.000023</td>\n      <td>&lt;NA&gt;</td>\n      <td>&lt;NA&gt;</td>\n    </tr>\n    <tr>\n      <th>AE + k-means</th>\n      <td>0.001253</td>\n      <td>0.022463</td>\n      <td>0.082326</td>\n      <td>0.145987</td>\n    </tr>\n    <tr>\n      <th>Attention AE + k-means</th>\n      <td>0.001253</td>\n      <td>0.022463</td>\n      <td>0.082326</td>\n      <td>0.145987</td>\n    </tr>\n    <tr>\n      <th>DCN</th>\n      <td>0.0</td>\n      <td>0.000016</td>\n      <td>0.001381</td>\n      <td>0.017189</td>\n    </tr>\n    <tr>\n      <th>Attention DCN</th>\n      <td>0.0</td>\n      <td>0.000016</td>\n      <td>0.001381</td>\n      <td>0.017189</td>\n    </tr>\n  </tbody>\n</table>\n</div>"
     },
     "execution_count": 23,
     "metadata": {},
     "output_type": "execute_result"
    }
   ],
   "source": [
    "pd.DataFrame([\n",
    "    [banking_k_prototypes_nmi, census_k_prototypes_nmi, credit_k_prototypes_nmi, heart_k_prototypes_nmi],\n",
    "    [pd.NA, 0.000023, pd.NA, pd.NA],\n",
    "    [banking_ae_nmi, census_ae_nmi, credit_ae_nmi, heart_ae_nmi],\n",
    "    [banking_attention_ae_nmi, census_attention_ae_nmi, credit_attention_ae_nmi, heart_attention_ae_nmi],\n",
    "    [banking_dcn_nmi, census_dcn_nmi, credit_dcn_nmi, heart_dcn_nmi],\n",
    "    [banking_attention_dcn_nmi, census_attention_dcn_nmi, credit_attention_dcn_nmi, heart_attention_dcn_nmi]],\n",
    "    index=[\n",
    "        \"K-Prototypes\",\n",
    "        \"Gower + Agglomerative\",\n",
    "        \"AE + k-means\",\n",
    "        \"Attention AE + k-means\",\n",
    "        \"DCN\",\n",
    "        \"Attention DCN\"],\n",
    "    columns=[\"Banking Marketing\", \"Adult/Census Income\", \"Credit Approval\", \"Heart Disease\"])"
   ],
   "metadata": {
    "collapsed": false,
    "ExecuteTime": {
     "start_time": "2023-07-09T14:34:56.915362Z",
     "end_time": "2023-07-09T14:34:56.943901Z"
    }
   }
  },
  {
   "cell_type": "code",
   "execution_count": null,
   "outputs": [],
   "source": [],
   "metadata": {
    "collapsed": false
   }
  }
 ],
 "metadata": {
  "kernelspec": {
   "display_name": "Python 3",
   "language": "python",
   "name": "python3"
  },
  "language_info": {
   "codemirror_mode": {
    "name": "ipython",
    "version": 2
   },
   "file_extension": ".py",
   "mimetype": "text/x-python",
   "name": "python",
   "nbconvert_exporter": "python",
   "pygments_lexer": "ipython2",
   "version": "2.7.6"
  }
 },
 "nbformat": 4,
 "nbformat_minor": 0
}
