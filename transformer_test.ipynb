{
 "cells": [
  {
   "cell_type": "code",
   "execution_count": null,
   "metadata": {},
   "outputs": [],
   "source": [
    "import os\n",
    "from copy import deepcopy\n",
    "import pandas as pd\n",
    "import numpy as np\n",
    "import math\n",
    "from sklearn.cluster import KMeans\n",
    "from sklearn.metrics import normalized_mutual_info_score\n",
    "from sklearn.preprocessing import StandardScaler\n",
    "from scipy.optimize import linear_sum_assignment\n",
    "import torch\n",
    "import torch.nn as nn\n",
    "\n",
    "from autoencoders.transformer_autoencoder import TransformerAutoencoder\n",
    "from load_datasets import load_all_datasets"
   ]
  },
  {
   "cell_type": "code",
   "execution_count": null,
   "metadata": {},
   "outputs": [],
   "source": [
    "device = \"cpu\"\n",
    "os.environ[\"CUBLAS_WORKSPACE_CONFIG\"] = \":4096:8\"\n",
    "torch.manual_seed(0)\n",
    "torch.use_deterministic_algorithms(True)\n",
    "np.random.seed(0)"
   ]
  },
  {
   "cell_type": "code",
   "execution_count": null,
   "metadata": {},
   "outputs": [],
   "source": [
    "def cluster_accuracy(labels_true, labels_pred):\n",
    "    # We need to map the labels to our cluster labels\n",
    "    # This is a linear assignment problem on a bipartite graph\n",
    "    k = max(len(np.unique(labels_true)), len(np.unique(labels_pred)))\n",
    "    cost_matrix = np.zeros((k, k))\n",
    "    for i in range(labels_true.shape[0]):\n",
    "        cost_matrix[labels_true[i], labels_pred[i]] += 1\n",
    "    inverted_cost_matrix = cost_matrix.max() - cost_matrix\n",
    "    row_ind, col_ind = linear_sum_assignment(inverted_cost_matrix)\n",
    "    return cost_matrix[row_ind, col_ind].sum() / labels_pred.size"
   ]
  },
  {
   "cell_type": "code",
   "execution_count": null,
   "metadata": {},
   "outputs": [],
   "source": [
    "def build_block(layers: list, activation_fn: torch.nn.Module = nn.LeakyReLU, output_fn: torch.nn.Module = nn.LeakyReLU, \n",
    "                bias: bool = True, batch_norm: bool = False, dropout: float = None):\n",
    "    block_list = []\n",
    "    for i in range(len(layers) - 1):\n",
    "        block_list.append(torch.nn.Linear(layers[i], layers[i + 1], bias=bias))\n",
    "        if batch_norm:\n",
    "            block_list.append(torch.nn.BatchNorm1d(layers[i + 1]))\n",
    "        if dropout is not None:\n",
    "            block_list.append(torch.nn.Dropout(dropout))\n",
    "        if activation_fn is not None:\n",
    "            if (i != len(layers) - 2):\n",
    "                block_list.append(activation_fn())\n",
    "            else:\n",
    "                if output_fn is not None:\n",
    "                    block_list.append(output_fn())\n",
    "    return torch.nn.Sequential(*block_list)\n",
    "\n",
    "def build_autoencoder(input_dim: int, output_dim: int, layer_per_block: int, activation_fn: torch.nn.Module = nn.LeakyReLU, \n",
    "                      output_fn: torch.nn.Module = nn.LeakyReLU, bias: bool = True, batch_norm: bool = False, dropout: float = None):\n",
    "    hidden_dim = max(1, min(round(input_dim/4), round(output_dim/4)))\n",
    "\n",
    "    encoder_layer_list = list(range(input_dim, hidden_dim - 1, min(-1, -round((input_dim - hidden_dim) / layer_per_block))))\n",
    "    encoder_layer_list[-1] = hidden_dim\n",
    "    encoder = build_block(encoder_layer_list, activation_fn, output_fn, bias, batch_norm, dropout)\n",
    "\n",
    "    decoder_layer_list = list(range(hidden_dim, output_dim + 1, max(1, round((output_dim - hidden_dim) / layer_per_block))))\n",
    "    decoder_layer_list[-1] = output_dim\n",
    "    decoder = build_block(decoder_layer_list, activation_fn, output_fn, bias, batch_norm, dropout)\n",
    "\n",
    "    return encoder, decoder"
   ]
  },
  {
   "cell_type": "code",
   "execution_count": null,
   "metadata": {},
   "outputs": [],
   "source": [
    "datasets = load_all_datasets(max_rows=5000)\n",
    "\n",
    "accuracies = {d.name: {} for d in datasets}\n",
    "nmis = {d.name: {} for d in datasets}\n",
    "\n",
    "for d in datasets:\n",
    "    print(f\"{d.name}: Input dim: {d.input_dim}; Cat dim: {d.cat_dim}; Cont dim: {d.cont_dim}\")"
   ]
  }
 ],
 "metadata": {
  "language_info": {
   "name": "python"
  },
  "orig_nbformat": 4
 },
 "nbformat": 4,
 "nbformat_minor": 2
}
