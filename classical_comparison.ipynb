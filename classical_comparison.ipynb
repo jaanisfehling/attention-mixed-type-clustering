{
 "cells": [
  {
   "cell_type": "code",
   "execution_count": 1,
   "metadata": {
    "ExecuteTime": {
     "end_time": "2023-07-17T17:33:25.753560971Z",
     "start_time": "2023-07-17T17:33:25.368253252Z"
    }
   },
   "outputs": [],
   "source": [
    "import pandas as pd\n",
    "import numpy as np\n",
    "from sklearn.cluster import KMeans\n",
    "from sklearn.metrics import normalized_mutual_info_score\n",
    "from sklearn.preprocessing import StandardScaler\n",
    "from kmodes.kprototypes import KPrototypes\n",
    "from kmodes.kmodes import KModes\n",
    "from sklearn.cluster import AgglomerativeClustering\n",
    "from scipy.optimize import linear_sum_assignment\n",
    "import gc\n",
    "\n",
    "from load_datasets import load_all_datasets\n",
    "from duped_modules.gower_duped import gower_matrix as gower_matrix_duped"
   ]
  },
  {
   "cell_type": "code",
   "execution_count": 2,
   "metadata": {},
   "outputs": [],
   "source": [
    "def cluster_accuracy(y_true, y_pred):\n",
    "    # We need to map the labels to our cluster labels\n",
    "    # This is a linear assignment problem on a bipartite graph\n",
    "    k = max(len(np.unique(y_true)), len(np.unique(y_pred)))\n",
    "    cost_matrix = np.zeros((k, k))\n",
    "    for i in range(y_true.shape[0]):\n",
    "        cost_matrix[y_true[i], y_pred[i]] += 1\n",
    "    inverted_cost_matrix = cost_matrix.max() - cost_matrix\n",
    "    row_ind, col_ind = linear_sum_assignment(inverted_cost_matrix)\n",
    "    return cost_matrix[row_ind, col_ind].sum() / y_pred.size"
   ]
  },
  {
   "cell_type": "code",
   "execution_count": 3,
   "metadata": {
    "ExecuteTime": {
     "end_time": "2023-07-17T17:33:25.976221740Z",
     "start_time": "2023-07-17T17:33:25.754594716Z"
    }
   },
   "outputs": [],
   "source": [
    "datasets = load_all_datasets(max_rows=5000)\n",
    "\n",
    "accuracies = {d.name: {} for d in datasets}\n",
    "nmis = {d.name: {} for d in datasets}"
   ]
  },
  {
   "cell_type": "code",
   "execution_count": 4,
   "metadata": {
    "ExecuteTime": {
     "end_time": "2023-07-17T17:34:08.602925927Z",
     "start_time": "2023-07-17T17:33:25.977449654Z"
    }
   },
   "outputs": [
    {
     "name": "stdout",
     "output_type": "stream",
     "text": [
      "Calculating for Abalone...\n",
      "Calculating for Auction Verification...\n",
      "Calculating for Bank Marketing...\n",
      "Calculating for Breast Cancer...\n",
      "Calculating for Census Income...\n",
      "Calculating for Credit Approval...\n",
      "Calculating for Heart Disease...\n",
      "Calculating for Soybean Disease...\n"
     ]
    }
   ],
   "source": [
    "# Naive KMeans\n",
    "for d in datasets:\n",
    "    print(f\"Calculating for {d.name}...\")\n",
    "\n",
    "    df = d.df.copy(deep=True)\n",
    "    df[d.cat_cols] = StandardScaler().fit_transform(df[d.cat_cols])\n",
    "\n",
    "    kmeans = KMeans(n_clusters=d.n_targets, init=\"random\", max_iter=300, n_init=1, random_state=0, algorithm=\"lloyd\").fit(df.values)\n",
    "    nmis[d.name][\"Naive k-means\"] = normalized_mutual_info_score(d.y, kmeans.labels_)\n",
    "    accuracies[d.name][\"Naive k-means\"] = cluster_accuracy(d.y, kmeans.labels_)"
   ]
  },
  {
   "cell_type": "code",
   "execution_count": 5,
   "metadata": {
    "ExecuteTime": {
     "end_time": "2023-07-17T17:35:05.333256687Z",
     "start_time": "2023-07-17T17:34:08.610244031Z"
    }
   },
   "outputs": [
    {
     "name": "stdout",
     "output_type": "stream",
     "text": [
      "Calculating for Abalone...\n",
      "Calculating for Auction Verification...\n",
      "Calculating for Bank Marketing...\n",
      "Calculating for Breast Cancer...\n",
      "Calculating for Census Income...\n",
      "Calculating for Credit Approval...\n",
      "Calculating for Heart Disease...\n",
      "Calculating for Soybean Disease...\n"
     ]
    }
   ],
   "source": [
    "# KMeans with One-Hot Encoding\n",
    "def encode_feature(df, feature_to_encode):\n",
    "    dummies = pd.get_dummies(df[feature_to_encode].astype(str), dtype=float, prefix=feature_to_encode)\n",
    "    result_df = pd.concat([df, dummies], axis=1)\n",
    "    result_df.drop(columns=feature_to_encode, inplace=True)\n",
    "    return result_df\n",
    "\n",
    "for d in datasets:\n",
    "    print(f\"Calculating for {d.name}...\")\n",
    "    df = d.df.copy(deep=True)\n",
    "\n",
    "    for col in d.cat_cols:\n",
    "        df = encode_feature(df, col)\n",
    "\n",
    "    kmeans = KMeans(n_clusters=d.n_targets, init=\"random\", max_iter=300, n_init=1, random_state=0, algorithm=\"lloyd\").fit(df.values)\n",
    "    nmis[d.name][\"k-means one-hot\"] = normalized_mutual_info_score(d.y, kmeans.labels_)\n",
    "    accuracies[d.name][\"k-means one-hot\"] = cluster_accuracy(d.y, kmeans.labels_)"
   ]
  },
  {
   "cell_type": "code",
   "execution_count": 6,
   "metadata": {
    "ExecuteTime": {
     "end_time": "2023-07-17T17:38:19.508910941Z",
     "start_time": "2023-07-17T17:35:05.333051177Z"
    },
    "collapsed": false
   },
   "outputs": [
    {
     "name": "stdout",
     "output_type": "stream",
     "text": [
      "Calculating for Abalone...\n",
      "Calculating for Auction Verification...\n",
      "Calculating for Bank Marketing...\n",
      "Calculating for Breast Cancer...\n",
      "Calculating for Census Income...\n",
      "Calculating for Credit Approval...\n",
      "Calculating for Heart Disease...\n",
      "Calculating for Soybean Disease...\n"
     ]
    }
   ],
   "source": [
    "# KPrototypes\n",
    "for d in datasets:\n",
    "    print(f\"Calculating for {d.name}...\")\n",
    "    df = d.df.copy(deep=True)\n",
    "\n",
    "    n_clusters = len(np.unique(d.y))\n",
    "    if not d.cont_cols:\n",
    "        clust = KModes(init=\"Huang\", n_init=1, n_clusters=n_clusters, verbose=None, n_jobs=-1, random_state=0).fit(df.values)\n",
    "    else:\n",
    "        cat_cols_indices = [df.columns.get_loc(col) for col in d.cat_cols]\n",
    "        cont_cols_indices = [df.columns.get_loc(col) for col in d.cont_cols]\n",
    "        try:\n",
    "            clust = KPrototypes(init=\"Huang\", n_init=1, n_clusters=n_clusters, verbose=None, n_jobs=-1, random_state=0, max_iter=300).fit(df.values, categorical=cat_cols_indices)\n",
    "        # The initilization can go wrong for big k values, so we can initialize ourselfs\n",
    "        except ValueError:\n",
    "            init_centroids = [df.values[:, cont_cols_indices][:n_clusters], df.values[:, cat_cols_indices][:n_clusters]]\n",
    "            clust = KPrototypes(init=init_centroids, n_init=1, n_clusters=n_clusters, verbose=None, n_jobs=-1, random_state=0, max_iter=300).fit(df.values, categorical=cat_cols_indices)\n",
    "\n",
    "    nmis[d.name][\"k-prototypes\"] = normalized_mutual_info_score(d.y, clust.labels_)\n",
    "    accuracies[d.name][\"k-prototypes\"] = cluster_accuracy(d.y, clust.labels_)"
   ]
  },
  {
   "cell_type": "code",
   "execution_count": 7,
   "metadata": {
    "ExecuteTime": {
     "end_time": "2023-07-17T17:47:47.156444278Z",
     "start_time": "2023-07-17T17:47:46.399768986Z"
    },
    "collapsed": false
   },
   "outputs": [
    {
     "name": "stdout",
     "output_type": "stream",
     "text": [
      "Calculating for Abalone...\n"
     ]
    },
    {
     "name": "stderr",
     "output_type": "stream",
     "text": [
      "100%|██████████| 4177/4177 [00:00<00:00, 4920.31it/s]\n"
     ]
    },
    {
     "name": "stdout",
     "output_type": "stream",
     "text": [
      "Calculating for Auction Verification...\n"
     ]
    },
    {
     "name": "stderr",
     "output_type": "stream",
     "text": [
      "100%|██████████| 2043/2043 [00:00<00:00, 9395.54it/s]\n"
     ]
    },
    {
     "name": "stdout",
     "output_type": "stream",
     "text": [
      "Calculating for Bank Marketing...\n"
     ]
    },
    {
     "name": "stderr",
     "output_type": "stream",
     "text": [
      "100%|██████████| 5000/5000 [00:01<00:00, 3469.95it/s]\n"
     ]
    },
    {
     "name": "stdout",
     "output_type": "stream",
     "text": [
      "Calculating for Breast Cancer...\n"
     ]
    },
    {
     "name": "stderr",
     "output_type": "stream",
     "text": [
      "100%|██████████| 683/683 [00:00<00:00, 17804.40it/s]\n"
     ]
    },
    {
     "name": "stdout",
     "output_type": "stream",
     "text": [
      "Calculating for Census Income...\n"
     ]
    },
    {
     "name": "stderr",
     "output_type": "stream",
     "text": [
      "100%|██████████| 5000/5000 [00:01<00:00, 3460.61it/s]\n"
     ]
    },
    {
     "name": "stdout",
     "output_type": "stream",
     "text": [
      "Calculating for Credit Approval...\n"
     ]
    },
    {
     "name": "stderr",
     "output_type": "stream",
     "text": [
      "100%|██████████| 653/653 [00:00<00:00, 16614.98it/s]\n"
     ]
    },
    {
     "name": "stdout",
     "output_type": "stream",
     "text": [
      "Calculating for Heart Disease...\n"
     ]
    },
    {
     "name": "stderr",
     "output_type": "stream",
     "text": [
      "100%|██████████| 299/299 [00:00<00:00, 22067.13it/s]"
     ]
    },
    {
     "name": "stdout",
     "output_type": "stream",
     "text": [
      "Calculating for Soybean Disease...\n"
     ]
    },
    {
     "name": "stderr",
     "output_type": "stream",
     "text": [
      "\n",
      "100%|██████████| 562/562 [00:00<00:00, 13283.96it/s]\n"
     ]
    }
   ],
   "source": [
    "# Gower Distance + Agglomerative Clustering\n",
    "for d in datasets:\n",
    "    print(f\"Calculating for {d.name}...\")\n",
    "    df = d.df.copy(deep=True)\n",
    "\n",
    "    distance_matrix = gower_matrix_duped(df.astype(float))\n",
    "    clust = AgglomerativeClustering(n_clusters=d.n_targets, metric=\"precomputed\", linkage=\"average\").fit_predict(distance_matrix)\n",
    "    nmis[d.name][\"Gower distance\"] = normalized_mutual_info_score(d.y, clust)\n",
    "    accuracies[d.name][\"Gower distance\"] = cluster_accuracy(d.y, clust)\n",
    "    del distance_matrix, clust\n",
    "    gc.collect()"
   ]
  },
  {
   "cell_type": "code",
   "execution_count": 8,
   "metadata": {
    "ExecuteTime": {
     "end_time": "2023-07-17T17:47:49.670687692Z",
     "start_time": "2023-07-17T17:47:49.667632749Z"
    },
    "collapsed": false
   },
   "outputs": [
    {
     "data": {
      "text/html": [
       "<div>\n",
       "<style scoped>\n",
       "    .dataframe tbody tr th:only-of-type {\n",
       "        vertical-align: middle;\n",
       "    }\n",
       "\n",
       "    .dataframe tbody tr th {\n",
       "        vertical-align: top;\n",
       "    }\n",
       "\n",
       "    .dataframe thead th {\n",
       "        text-align: right;\n",
       "    }\n",
       "</style>\n",
       "<table border=\"1\" class=\"dataframe\">\n",
       "  <thead>\n",
       "    <tr style=\"text-align: right;\">\n",
       "      <th></th>\n",
       "      <th>Naive k-means</th>\n",
       "      <th>k-means one-hot</th>\n",
       "      <th>k-prototypes</th>\n",
       "      <th>Gower distance</th>\n",
       "    </tr>\n",
       "  </thead>\n",
       "  <tbody>\n",
       "    <tr>\n",
       "      <th>Abalone</th>\n",
       "      <td>0.171795</td>\n",
       "      <td>0.173982</td>\n",
       "      <td>0.171639</td>\n",
       "      <td>0.161416</td>\n",
       "    </tr>\n",
       "    <tr>\n",
       "      <th>Auction Verification</th>\n",
       "      <td>0.016172</td>\n",
       "      <td>0.007087</td>\n",
       "      <td>0.007667</td>\n",
       "      <td>0.006170</td>\n",
       "    </tr>\n",
       "    <tr>\n",
       "      <th>Bank Marketing</th>\n",
       "      <td>0.019781</td>\n",
       "      <td>0.026060</td>\n",
       "      <td>0.019522</td>\n",
       "      <td>0.001334</td>\n",
       "    </tr>\n",
       "    <tr>\n",
       "      <th>Breast Cancer</th>\n",
       "      <td>0.746818</td>\n",
       "      <td>0.736310</td>\n",
       "      <td>0.592480</td>\n",
       "      <td>0.553707</td>\n",
       "    </tr>\n",
       "    <tr>\n",
       "      <th>Census Income</th>\n",
       "      <td>0.108029</td>\n",
       "      <td>0.184979</td>\n",
       "      <td>0.141737</td>\n",
       "      <td>0.004259</td>\n",
       "    </tr>\n",
       "    <tr>\n",
       "      <th>Credit Approval</th>\n",
       "      <td>0.313076</td>\n",
       "      <td>0.171038</td>\n",
       "      <td>0.116579</td>\n",
       "      <td>0.003465</td>\n",
       "    </tr>\n",
       "    <tr>\n",
       "      <th>Heart Disease</th>\n",
       "      <td>0.204577</td>\n",
       "      <td>0.164486</td>\n",
       "      <td>0.189264</td>\n",
       "      <td>0.140792</td>\n",
       "    </tr>\n",
       "    <tr>\n",
       "      <th>Soybean Disease</th>\n",
       "      <td>0.672229</td>\n",
       "      <td>0.710164</td>\n",
       "      <td>0.567635</td>\n",
       "      <td>0.669526</td>\n",
       "    </tr>\n",
       "  </tbody>\n",
       "</table>\n",
       "</div>"
      ],
      "text/plain": [
       "                      Naive k-means  k-means one-hot  k-prototypes   \n",
       "Abalone                    0.171795         0.173982      0.171639  \\\n",
       "Auction Verification       0.016172         0.007087      0.007667   \n",
       "Bank Marketing             0.019781         0.026060      0.019522   \n",
       "Breast Cancer              0.746818         0.736310      0.592480   \n",
       "Census Income              0.108029         0.184979      0.141737   \n",
       "Credit Approval            0.313076         0.171038      0.116579   \n",
       "Heart Disease              0.204577         0.164486      0.189264   \n",
       "Soybean Disease            0.672229         0.710164      0.567635   \n",
       "\n",
       "                      Gower distance  \n",
       "Abalone                     0.161416  \n",
       "Auction Verification        0.006170  \n",
       "Bank Marketing              0.001334  \n",
       "Breast Cancer               0.553707  \n",
       "Census Income               0.004259  \n",
       "Credit Approval             0.003465  \n",
       "Heart Disease               0.140792  \n",
       "Soybean Disease             0.669526  "
      ]
     },
     "execution_count": 8,
     "metadata": {},
     "output_type": "execute_result"
    }
   ],
   "source": [
    "pd.DataFrame(nmis.values(), index=nmis.keys()).round(4)"
   ]
  },
  {
   "cell_type": "code",
   "execution_count": 9,
   "metadata": {
    "collapsed": false
   },
   "outputs": [
    {
     "data": {
      "text/html": [
       "<div>\n",
       "<style scoped>\n",
       "    .dataframe tbody tr th:only-of-type {\n",
       "        vertical-align: middle;\n",
       "    }\n",
       "\n",
       "    .dataframe tbody tr th {\n",
       "        vertical-align: top;\n",
       "    }\n",
       "\n",
       "    .dataframe thead th {\n",
       "        text-align: right;\n",
       "    }\n",
       "</style>\n",
       "<table border=\"1\" class=\"dataframe\">\n",
       "  <thead>\n",
       "    <tr style=\"text-align: right;\">\n",
       "      <th></th>\n",
       "      <th>Naive k-means</th>\n",
       "      <th>k-means one-hot</th>\n",
       "      <th>k-prototypes</th>\n",
       "      <th>Gower distance</th>\n",
       "    </tr>\n",
       "  </thead>\n",
       "  <tbody>\n",
       "    <tr>\n",
       "      <th>Abalone</th>\n",
       "      <td>0.135265</td>\n",
       "      <td>0.131434</td>\n",
       "      <td>0.134307</td>\n",
       "      <td>0.195356</td>\n",
       "    </tr>\n",
       "    <tr>\n",
       "      <th>Auction Verification</th>\n",
       "      <td>0.664709</td>\n",
       "      <td>0.576114</td>\n",
       "      <td>0.580519</td>\n",
       "      <td>0.800783</td>\n",
       "    </tr>\n",
       "    <tr>\n",
       "      <th>Bank Marketing</th>\n",
       "      <td>0.779600</td>\n",
       "      <td>0.786600</td>\n",
       "      <td>0.787200</td>\n",
       "      <td>0.884200</td>\n",
       "    </tr>\n",
       "    <tr>\n",
       "      <th>Breast Cancer</th>\n",
       "      <td>0.960469</td>\n",
       "      <td>0.950220</td>\n",
       "      <td>0.915081</td>\n",
       "      <td>0.900439</td>\n",
       "    </tr>\n",
       "    <tr>\n",
       "      <th>Census Income</th>\n",
       "      <td>0.608200</td>\n",
       "      <td>0.697600</td>\n",
       "      <td>0.625600</td>\n",
       "      <td>0.768400</td>\n",
       "    </tr>\n",
       "    <tr>\n",
       "      <th>Credit Approval</th>\n",
       "      <td>0.808576</td>\n",
       "      <td>0.705972</td>\n",
       "      <td>0.666156</td>\n",
       "      <td>0.548239</td>\n",
       "    </tr>\n",
       "    <tr>\n",
       "      <th>Heart Disease</th>\n",
       "      <td>0.334448</td>\n",
       "      <td>0.321070</td>\n",
       "      <td>0.424749</td>\n",
       "      <td>0.565217</td>\n",
       "    </tr>\n",
       "    <tr>\n",
       "      <th>Soybean Disease</th>\n",
       "      <td>0.576512</td>\n",
       "      <td>0.599644</td>\n",
       "      <td>0.471530</td>\n",
       "      <td>0.501779</td>\n",
       "    </tr>\n",
       "  </tbody>\n",
       "</table>\n",
       "</div>"
      ],
      "text/plain": [
       "                      Naive k-means  k-means one-hot  k-prototypes   \n",
       "Abalone                    0.135265         0.131434      0.134307  \\\n",
       "Auction Verification       0.664709         0.576114      0.580519   \n",
       "Bank Marketing             0.779600         0.786600      0.787200   \n",
       "Breast Cancer              0.960469         0.950220      0.915081   \n",
       "Census Income              0.608200         0.697600      0.625600   \n",
       "Credit Approval            0.808576         0.705972      0.666156   \n",
       "Heart Disease              0.334448         0.321070      0.424749   \n",
       "Soybean Disease            0.576512         0.599644      0.471530   \n",
       "\n",
       "                      Gower distance  \n",
       "Abalone                     0.195356  \n",
       "Auction Verification        0.800783  \n",
       "Bank Marketing              0.884200  \n",
       "Breast Cancer               0.900439  \n",
       "Census Income               0.768400  \n",
       "Credit Approval             0.548239  \n",
       "Heart Disease               0.565217  \n",
       "Soybean Disease             0.501779  "
      ]
     },
     "execution_count": 9,
     "metadata": {},
     "output_type": "execute_result"
    }
   ],
   "source": [
    "pd.DataFrame(accuracies.values(), index=accuracies.keys()).round(4)"
   ]
  },
  {
   "cell_type": "code",
   "execution_count": null,
   "metadata": {},
   "outputs": [],
   "source": []
  }
 ],
 "metadata": {
  "kernelspec": {
   "display_name": "venv",
   "language": "python",
   "name": "python3"
  },
  "language_info": {
   "codemirror_mode": {
    "name": "ipython",
    "version": 3
   },
   "file_extension": ".py",
   "mimetype": "text/x-python",
   "name": "python",
   "nbconvert_exporter": "python",
   "pygments_lexer": "ipython3",
   "version": "3.11.2"
  },
  "orig_nbformat": 4
 },
 "nbformat": 4,
 "nbformat_minor": 2
}
