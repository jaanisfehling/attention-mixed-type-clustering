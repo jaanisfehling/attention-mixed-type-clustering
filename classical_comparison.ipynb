{
 "cells": [
  {
   "cell_type": "code",
   "execution_count": 1,
   "metadata": {
    "ExecuteTime": {
     "end_time": "2023-07-17T17:33:25.753560971Z",
     "start_time": "2023-07-17T17:33:25.368253252Z"
    }
   },
   "outputs": [],
   "source": [
    "import pandas as pd\n",
    "import numpy as np\n",
    "from sklearn.cluster import KMeans\n",
    "from sklearn.metrics import normalized_mutual_info_score\n",
    "from sklearn.preprocessing import StandardScaler\n",
    "from kmodes.kprototypes import KPrototypes\n",
    "from kmodes.kmodes import KModes\n",
    "from sklearn.cluster import AgglomerativeClustering\n",
    "from scipy.optimize import linear_sum_assignment\n",
    "import gc\n",
    "\n",
    "from load_datasets import load_all_datasets\n",
    "from duped_modules.kprototypes_duped import KPrototypesDuped\n",
    "from duped_modules.gower_duped import gower_matrix as gower_matrix_duped"
   ]
  },
  {
   "cell_type": "code",
   "execution_count": 2,
   "metadata": {},
   "outputs": [],
   "source": [
    "def cluster_accuracy(y_true, y_pred):\n",
    "    # We need to map the labels to our cluster labels\n",
    "    # This is a linear assignment problem on a bipartite graph\n",
    "    k = max(len(np.unique(y_true)), len(np.unique(y_pred)))\n",
    "    cost_matrix = np.zeros((k, k))\n",
    "    for i in range(y_true.shape[0]):\n",
    "        cost_matrix[y_true[i], y_pred[i]] += 1\n",
    "    inverted_cost_matrix = cost_matrix.max() - cost_matrix\n",
    "    row_ind, col_ind = linear_sum_assignment(inverted_cost_matrix)\n",
    "    return cost_matrix[row_ind, col_ind].sum() / y_pred.size"
   ]
  },
  {
   "cell_type": "code",
   "execution_count": 3,
   "metadata": {
    "ExecuteTime": {
     "end_time": "2023-07-17T17:33:25.976221740Z",
     "start_time": "2023-07-17T17:33:25.754594716Z"
    }
   },
   "outputs": [],
   "source": [
    "datasets = load_all_datasets(max_rows=5000)\n",
    "\n",
    "accuracies = {d.name: {} for d in datasets}\n",
    "nmis = {d.name: {} for d in datasets}"
   ]
  },
  {
   "cell_type": "code",
   "execution_count": 4,
   "metadata": {
    "ExecuteTime": {
     "end_time": "2023-07-17T17:34:08.602925927Z",
     "start_time": "2023-07-17T17:33:25.977449654Z"
    }
   },
   "outputs": [
    {
     "name": "stdout",
     "output_type": "stream",
     "text": [
      "Calculating for Abalone Age...\n",
      "Calculating for Auction Verification...\n",
      "Calculating for Bank Marketing...\n",
      "Calculating for Breast Cancer...\n",
      "Calculating for Census Income...\n",
      "Calculating for Credit Approval...\n",
      "Calculating for Heart Disease...\n",
      "Calculating for Soybean Disease...\n"
     ]
    }
   ],
   "source": [
    "# Naive KMeans\n",
    "for d in datasets:\n",
    "    print(f\"Calculating for {d.name}...\")\n",
    "\n",
    "    df = d.df.copy(deep=True)\n",
    "    df[d.cat_cols] = StandardScaler().fit_transform(df[d.cat_cols])\n",
    "\n",
    "    kmeans = KMeans(init=\"random\", n_init=1, n_clusters=len(np.unique(d.y)), random_state=0).fit(df.values)\n",
    "    nmis[d.name][\"Naive k-means\"] = normalized_mutual_info_score(d.y, kmeans.labels_)\n",
    "    accuracies[d.name][\"Naive k-means\"] = cluster_accuracy(d.y, kmeans.labels_)"
   ]
  },
  {
   "cell_type": "code",
   "execution_count": 5,
   "metadata": {
    "ExecuteTime": {
     "end_time": "2023-07-17T17:35:05.333256687Z",
     "start_time": "2023-07-17T17:34:08.610244031Z"
    }
   },
   "outputs": [
    {
     "name": "stdout",
     "output_type": "stream",
     "text": [
      "Calculating for Abalone Age...\n",
      "Calculating for Auction Verification...\n",
      "Calculating for Bank Marketing...\n",
      "Calculating for Breast Cancer...\n",
      "Calculating for Census Income...\n",
      "Calculating for Credit Approval...\n",
      "Calculating for Heart Disease...\n",
      "Calculating for Soybean Disease...\n"
     ]
    }
   ],
   "source": [
    "# KMeans with One-Hot Encoding\n",
    "def encode_feature(df, feature_to_encode):\n",
    "    dummies = pd.get_dummies(df[feature_to_encode].astype(str), dtype=float, prefix=feature_to_encode)\n",
    "    result_df = pd.concat([df, dummies], axis=1)\n",
    "    result_df.drop(columns=feature_to_encode, inplace=True)\n",
    "    return result_df\n",
    "\n",
    "for d in datasets:\n",
    "    print(f\"Calculating for {d.name}...\")\n",
    "    df = d.df.copy(deep=True)\n",
    "\n",
    "    for col in d.cat_cols:\n",
    "        df = encode_feature(df, col)\n",
    "\n",
    "    kmeans = KMeans(init=\"random\", n_init=1, n_clusters=len(np.unique(d.y)), random_state=0).fit(df.values)\n",
    "    nmis[d.name][\"k-means one-hot\"] = normalized_mutual_info_score(d.y, kmeans.labels_)\n",
    "    accuracies[d.name][\"k-means one-hot\"] = cluster_accuracy(d.y, kmeans.labels_)"
   ]
  },
  {
   "cell_type": "code",
   "execution_count": 6,
   "metadata": {
    "ExecuteTime": {
     "end_time": "2023-07-17T17:38:19.508910941Z",
     "start_time": "2023-07-17T17:35:05.333051177Z"
    },
    "collapsed": false
   },
   "outputs": [
    {
     "name": "stdout",
     "output_type": "stream",
     "text": [
      "Calculating for Abalone Age...\n"
     ]
    },
    {
     "ename": "ValueError",
     "evalue": "Missing values detected in numerical columns.",
     "output_type": "error",
     "traceback": [
      "\u001b[1;31m---------------------------------------------------------------------------\u001b[0m",
      "\u001b[1;31m_RemoteTraceback\u001b[0m                          Traceback (most recent call last)",
      "\u001b[1;31m_RemoteTraceback\u001b[0m: \n\"\"\"\nTraceback (most recent call last):\n  File \"c:\\Users\\jaani\\repos\\attention-mixed-type-clustering\\venv\\Lib\\site-packages\\joblib\\externals\\loky\\process_executor.py\", line 428, in _process_worker\n    r = call_item()\n        ^^^^^^^^^^^\n  File \"c:\\Users\\jaani\\repos\\attention-mixed-type-clustering\\venv\\Lib\\site-packages\\joblib\\externals\\loky\\process_executor.py\", line 275, in __call__\n    return self.fn(*self.args, **self.kwargs)\n           ^^^^^^^^^^^^^^^^^^^^^^^^^^^^^^^^^^\n  File \"c:\\Users\\jaani\\repos\\attention-mixed-type-clustering\\venv\\Lib\\site-packages\\joblib\\_parallel_backends.py\", line 620, in __call__\n    return self.func(*args, **kwargs)\n           ^^^^^^^^^^^^^^^^^^^^^^^^^^\n  File \"c:\\Users\\jaani\\repos\\attention-mixed-type-clustering\\venv\\Lib\\site-packages\\joblib\\parallel.py\", line 288, in __call__\n    return [func(*args, **kwargs)\n           ^^^^^^^^^^^^^^^^^^^^^^\n  File \"c:\\Users\\jaani\\repos\\attention-mixed-type-clustering\\venv\\Lib\\site-packages\\joblib\\parallel.py\", line 288, in <listcomp>\n    return [func(*args, **kwargs)\n            ^^^^^^^^^^^^^^^^^^^^^\n  File \"c:\\Users\\jaani\\repos\\attention-mixed-type-clustering\\duped_modules\\kprototypes_duped.py\", line 437, in _k_prototypes_single\n    _, cost = labels_cost(Xnum, Xcat, centroids,\n              ^^^^^^^^^^^^^^^^^^^^^^^^^^^^^^^^^^\n  File \"c:\\Users\\jaani\\repos\\attention-mixed-type-clustering\\duped_modules\\kprototypes_duped.py\", line 232, in labels_cost\n    num_costs = num_dissim(centroids[0], Xnum[ipoint])\n                ^^^^^^^^^^^^^^^^^^^^^^^^^^^^^^^^^^^^^^\n  File \"c:\\Users\\jaani\\repos\\attention-mixed-type-clustering\\venv\\Lib\\site-packages\\kmodes\\util\\dissim.py\", line 43, in euclidean_dissim\n    raise ValueError(\"Missing values detected in numerical columns.\")\nValueError: Missing values detected in numerical columns.\n\"\"\"",
      "\nThe above exception was the direct cause of the following exception:\n",
      "\u001b[1;31mValueError\u001b[0m                                Traceback (most recent call last)",
      "Cell \u001b[1;32mIn[6], line 9\u001b[0m\n\u001b[0;32m      7\u001b[0m     clust \u001b[39m=\u001b[39m KModes(init\u001b[39m=\u001b[39m\u001b[39m\"\u001b[39m\u001b[39mHuang\u001b[39m\u001b[39m\"\u001b[39m, n_init\u001b[39m=\u001b[39m\u001b[39m1\u001b[39m, n_clusters\u001b[39m=\u001b[39m\u001b[39mlen\u001b[39m(np\u001b[39m.\u001b[39munique(d\u001b[39m.\u001b[39my)), verbose\u001b[39m=\u001b[39m\u001b[39mNone\u001b[39;00m, n_jobs\u001b[39m=\u001b[39m\u001b[39m-\u001b[39m\u001b[39m1\u001b[39m, random_state\u001b[39m=\u001b[39m\u001b[39m0\u001b[39m)\u001b[39m.\u001b[39mfit(df\u001b[39m.\u001b[39mvalues)\n\u001b[0;32m      8\u001b[0m \u001b[39melse\u001b[39;00m:\n\u001b[1;32m----> 9\u001b[0m     clust \u001b[39m=\u001b[39m KPrototypesDuped(init\u001b[39m=\u001b[39;49m\u001b[39m\"\u001b[39;49m\u001b[39mHuang\u001b[39;49m\u001b[39m\"\u001b[39;49m, n_init\u001b[39m=\u001b[39;49m\u001b[39m1\u001b[39;49m, n_clusters\u001b[39m=\u001b[39;49m\u001b[39mlen\u001b[39;49m(np\u001b[39m.\u001b[39;49munique(d\u001b[39m.\u001b[39;49my)), verbose\u001b[39m=\u001b[39;49m\u001b[39mNone\u001b[39;49;00m, n_jobs\u001b[39m=\u001b[39;49m\u001b[39m-\u001b[39;49m\u001b[39m1\u001b[39;49m, random_state\u001b[39m=\u001b[39;49m\u001b[39m0\u001b[39;49m)\u001b[39m.\u001b[39;49mfit(df\u001b[39m.\u001b[39;49mvalues, categorical\u001b[39m=\u001b[39;49m[df\u001b[39m.\u001b[39;49mcolumns\u001b[39m.\u001b[39;49mget_loc(col) \u001b[39mfor\u001b[39;49;00m col \u001b[39min\u001b[39;49;00m d\u001b[39m.\u001b[39;49mcat_cols])\n\u001b[0;32m     11\u001b[0m nmis[d\u001b[39m.\u001b[39mname][\u001b[39m\"\u001b[39m\u001b[39mk-prototypes\u001b[39m\u001b[39m\"\u001b[39m] \u001b[39m=\u001b[39m normalized_mutual_info_score(d\u001b[39m.\u001b[39my, clust\u001b[39m.\u001b[39mlabels_)\n\u001b[0;32m     12\u001b[0m accuracies[d\u001b[39m.\u001b[39mname][\u001b[39m\"\u001b[39m\u001b[39mk-prototypes\u001b[39m\u001b[39m\"\u001b[39m] \u001b[39m=\u001b[39m cluster_accuracy(d\u001b[39m.\u001b[39my, clust\u001b[39m.\u001b[39mlabels_)\n",
      "File \u001b[1;32mc:\\Users\\jaani\\repos\\attention-mixed-type-clustering\\duped_modules\\kprototypes_duped.py:161\u001b[0m, in \u001b[0;36mKPrototypesDuped.fit\u001b[1;34m(self, X, y, categorical, sample_weight)\u001b[0m\n\u001b[0;32m    155\u001b[0m kmodes\u001b[39m.\u001b[39m_validate_sample_weight(sample_weight, n_samples\u001b[39m=\u001b[39mX\u001b[39m.\u001b[39mshape[\u001b[39m0\u001b[39m],\n\u001b[0;32m    156\u001b[0m                                n_clusters\u001b[39m=\u001b[39m\u001b[39mself\u001b[39m\u001b[39m.\u001b[39mn_clusters)\n\u001b[0;32m    158\u001b[0m \u001b[39m# If self.gamma is None, gamma will be automatically determined from\u001b[39;00m\n\u001b[0;32m    159\u001b[0m \u001b[39m# the data. The function below returns its value.\u001b[39;00m\n\u001b[0;32m    160\u001b[0m \u001b[39mself\u001b[39m\u001b[39m.\u001b[39m_enc_cluster_centroids, \u001b[39mself\u001b[39m\u001b[39m.\u001b[39m_enc_map, \u001b[39mself\u001b[39m\u001b[39m.\u001b[39mlabels_, \u001b[39mself\u001b[39m\u001b[39m.\u001b[39mcost_, \\\n\u001b[1;32m--> 161\u001b[0m \u001b[39mself\u001b[39m\u001b[39m.\u001b[39mn_iter_, \u001b[39mself\u001b[39m\u001b[39m.\u001b[39mepoch_costs_, \u001b[39mself\u001b[39m\u001b[39m.\u001b[39mgamma \u001b[39m=\u001b[39m k_prototypes(\n\u001b[0;32m    162\u001b[0m     X,\n\u001b[0;32m    163\u001b[0m     categorical,\n\u001b[0;32m    164\u001b[0m     \u001b[39mself\u001b[39;49m\u001b[39m.\u001b[39;49mn_clusters,\n\u001b[0;32m    165\u001b[0m     \u001b[39mself\u001b[39;49m\u001b[39m.\u001b[39;49mmax_iter,\n\u001b[0;32m    166\u001b[0m     \u001b[39mself\u001b[39;49m\u001b[39m.\u001b[39;49mnum_dissim,\n\u001b[0;32m    167\u001b[0m     \u001b[39mself\u001b[39;49m\u001b[39m.\u001b[39;49mcat_dissim,\n\u001b[0;32m    168\u001b[0m     \u001b[39mself\u001b[39;49m\u001b[39m.\u001b[39;49mgamma,\n\u001b[0;32m    169\u001b[0m     \u001b[39mself\u001b[39;49m\u001b[39m.\u001b[39;49minit,\n\u001b[0;32m    170\u001b[0m     \u001b[39mself\u001b[39;49m\u001b[39m.\u001b[39;49mn_init,\n\u001b[0;32m    171\u001b[0m     \u001b[39mself\u001b[39;49m\u001b[39m.\u001b[39;49mverbose,\n\u001b[0;32m    172\u001b[0m     random_state,\n\u001b[0;32m    173\u001b[0m     \u001b[39mself\u001b[39;49m\u001b[39m.\u001b[39;49mn_jobs,\n\u001b[0;32m    174\u001b[0m     sample_weight,\n\u001b[0;32m    175\u001b[0m )\n\u001b[0;32m    177\u001b[0m \u001b[39mreturn\u001b[39;00m \u001b[39mself\u001b[39m\n",
      "File \u001b[1;32mc:\\Users\\jaani\\repos\\attention-mixed-type-clustering\\duped_modules\\kprototypes_duped.py:305\u001b[0m, in \u001b[0;36mk_prototypes\u001b[1;34m(X, categorical, n_clusters, max_iter, num_dissim, cat_dissim, gamma, init, n_init, verbose, random_state, n_jobs, sample_weight)\u001b[0m\n\u001b[0;32m    299\u001b[0m         results\u001b[39m.\u001b[39mappend(_k_prototypes_single(Xnum, Xcat, nnumattrs, ncatattrs,\n\u001b[0;32m    300\u001b[0m                                             n_clusters, n_points, max_iter,\n\u001b[0;32m    301\u001b[0m                                             num_dissim, cat_dissim, gamma,\n\u001b[0;32m    302\u001b[0m                                             init, init_no, verbose, seeds[init_no],\n\u001b[0;32m    303\u001b[0m                                             sample_weight))\n\u001b[0;32m    304\u001b[0m \u001b[39melse\u001b[39;00m:\n\u001b[1;32m--> 305\u001b[0m     results \u001b[39m=\u001b[39m Parallel(n_jobs\u001b[39m=\u001b[39;49mn_jobs, verbose\u001b[39m=\u001b[39;49m\u001b[39m0\u001b[39;49m)(\n\u001b[0;32m    306\u001b[0m         delayed(_k_prototypes_single)(Xnum, Xcat, nnumattrs, ncatattrs,\n\u001b[0;32m    307\u001b[0m                                     n_clusters, n_points, max_iter,\n\u001b[0;32m    308\u001b[0m                                     num_dissim, cat_dissim, gamma,\n\u001b[0;32m    309\u001b[0m                                     init, init_no, verbose, seed, sample_weight)\n\u001b[0;32m    310\u001b[0m         \u001b[39mfor\u001b[39;49;00m init_no, seed \u001b[39min\u001b[39;49;00m \u001b[39menumerate\u001b[39;49m(seeds))\n\u001b[0;32m    311\u001b[0m all_centroids, all_labels, all_costs, all_n_iters, all_epoch_costs \u001b[39m=\u001b[39m \u001b[39mzip\u001b[39m(\u001b[39m*\u001b[39mresults)\n\u001b[0;32m    313\u001b[0m best \u001b[39m=\u001b[39m np\u001b[39m.\u001b[39margmin(all_costs)\n",
      "File \u001b[1;32mc:\\Users\\jaani\\repos\\attention-mixed-type-clustering\\venv\\Lib\\site-packages\\joblib\\parallel.py:1098\u001b[0m, in \u001b[0;36mParallel.__call__\u001b[1;34m(self, iterable)\u001b[0m\n\u001b[0;32m   1095\u001b[0m     \u001b[39mself\u001b[39m\u001b[39m.\u001b[39m_iterating \u001b[39m=\u001b[39m \u001b[39mFalse\u001b[39;00m\n\u001b[0;32m   1097\u001b[0m \u001b[39mwith\u001b[39;00m \u001b[39mself\u001b[39m\u001b[39m.\u001b[39m_backend\u001b[39m.\u001b[39mretrieval_context():\n\u001b[1;32m-> 1098\u001b[0m     \u001b[39mself\u001b[39;49m\u001b[39m.\u001b[39;49mretrieve()\n\u001b[0;32m   1099\u001b[0m \u001b[39m# Make sure that we get a last message telling us we are done\u001b[39;00m\n\u001b[0;32m   1100\u001b[0m elapsed_time \u001b[39m=\u001b[39m time\u001b[39m.\u001b[39mtime() \u001b[39m-\u001b[39m \u001b[39mself\u001b[39m\u001b[39m.\u001b[39m_start_time\n",
      "File \u001b[1;32mc:\\Users\\jaani\\repos\\attention-mixed-type-clustering\\venv\\Lib\\site-packages\\joblib\\parallel.py:975\u001b[0m, in \u001b[0;36mParallel.retrieve\u001b[1;34m(self)\u001b[0m\n\u001b[0;32m    973\u001b[0m \u001b[39mtry\u001b[39;00m:\n\u001b[0;32m    974\u001b[0m     \u001b[39mif\u001b[39;00m \u001b[39mgetattr\u001b[39m(\u001b[39mself\u001b[39m\u001b[39m.\u001b[39m_backend, \u001b[39m'\u001b[39m\u001b[39msupports_timeout\u001b[39m\u001b[39m'\u001b[39m, \u001b[39mFalse\u001b[39;00m):\n\u001b[1;32m--> 975\u001b[0m         \u001b[39mself\u001b[39m\u001b[39m.\u001b[39m_output\u001b[39m.\u001b[39mextend(job\u001b[39m.\u001b[39;49mget(timeout\u001b[39m=\u001b[39;49m\u001b[39mself\u001b[39;49m\u001b[39m.\u001b[39;49mtimeout))\n\u001b[0;32m    976\u001b[0m     \u001b[39melse\u001b[39;00m:\n\u001b[0;32m    977\u001b[0m         \u001b[39mself\u001b[39m\u001b[39m.\u001b[39m_output\u001b[39m.\u001b[39mextend(job\u001b[39m.\u001b[39mget())\n",
      "File \u001b[1;32mc:\\Users\\jaani\\repos\\attention-mixed-type-clustering\\venv\\Lib\\site-packages\\joblib\\_parallel_backends.py:567\u001b[0m, in \u001b[0;36mLokyBackend.wrap_future_result\u001b[1;34m(future, timeout)\u001b[0m\n\u001b[0;32m    564\u001b[0m \u001b[39m\u001b[39m\u001b[39m\"\"\"Wrapper for Future.result to implement the same behaviour as\u001b[39;00m\n\u001b[0;32m    565\u001b[0m \u001b[39mAsyncResults.get from multiprocessing.\"\"\"\u001b[39;00m\n\u001b[0;32m    566\u001b[0m \u001b[39mtry\u001b[39;00m:\n\u001b[1;32m--> 567\u001b[0m     \u001b[39mreturn\u001b[39;00m future\u001b[39m.\u001b[39;49mresult(timeout\u001b[39m=\u001b[39;49mtimeout)\n\u001b[0;32m    568\u001b[0m \u001b[39mexcept\u001b[39;00m CfTimeoutError \u001b[39mas\u001b[39;00m e:\n\u001b[0;32m    569\u001b[0m     \u001b[39mraise\u001b[39;00m \u001b[39mTimeoutError\u001b[39;00m \u001b[39mfrom\u001b[39;00m \u001b[39me\u001b[39;00m\n",
      "File \u001b[1;32m~\\AppData\\Local\\Programs\\Python\\Python311\\Lib\\concurrent\\futures\\_base.py:456\u001b[0m, in \u001b[0;36mFuture.result\u001b[1;34m(self, timeout)\u001b[0m\n\u001b[0;32m    454\u001b[0m     \u001b[39mraise\u001b[39;00m CancelledError()\n\u001b[0;32m    455\u001b[0m \u001b[39melif\u001b[39;00m \u001b[39mself\u001b[39m\u001b[39m.\u001b[39m_state \u001b[39m==\u001b[39m FINISHED:\n\u001b[1;32m--> 456\u001b[0m     \u001b[39mreturn\u001b[39;00m \u001b[39mself\u001b[39;49m\u001b[39m.\u001b[39;49m__get_result()\n\u001b[0;32m    457\u001b[0m \u001b[39melse\u001b[39;00m:\n\u001b[0;32m    458\u001b[0m     \u001b[39mraise\u001b[39;00m \u001b[39mTimeoutError\u001b[39;00m()\n",
      "File \u001b[1;32m~\\AppData\\Local\\Programs\\Python\\Python311\\Lib\\concurrent\\futures\\_base.py:401\u001b[0m, in \u001b[0;36mFuture.__get_result\u001b[1;34m(self)\u001b[0m\n\u001b[0;32m    399\u001b[0m \u001b[39mif\u001b[39;00m \u001b[39mself\u001b[39m\u001b[39m.\u001b[39m_exception:\n\u001b[0;32m    400\u001b[0m     \u001b[39mtry\u001b[39;00m:\n\u001b[1;32m--> 401\u001b[0m         \u001b[39mraise\u001b[39;00m \u001b[39mself\u001b[39m\u001b[39m.\u001b[39m_exception\n\u001b[0;32m    402\u001b[0m     \u001b[39mfinally\u001b[39;00m:\n\u001b[0;32m    403\u001b[0m         \u001b[39m# Break a reference cycle with the exception in self._exception\u001b[39;00m\n\u001b[0;32m    404\u001b[0m         \u001b[39mself\u001b[39m \u001b[39m=\u001b[39m \u001b[39mNone\u001b[39;00m\n",
      "\u001b[1;31mValueError\u001b[0m: Missing values detected in numerical columns."
     ]
    }
   ],
   "source": [
    "# KPrototypes\n",
    "for d in datasets:\n",
    "    print(f\"Calculating for {d.name}...\")\n",
    "    df = d.df.copy(deep=True)\n",
    "\n",
    "    if not d.cont_cols:\n",
    "        clust = KModes(init=\"Huang\", n_init=1, n_clusters=len(np.unique(d.y)), verbose=None, n_jobs=-1, random_state=0).fit(df.values)\n",
    "    else:\n",
    "        clust = KPrototypesDuped(init=\"Huang\", n_init=1, n_clusters=len(np.unique(d.y)), verbose=None, n_jobs=-1, random_state=0).fit(df.values, categorical=[df.columns.get_loc(col) for col in d.cat_cols])\n",
    "\n",
    "    nmis[d.name][\"k-prototypes\"] = normalized_mutual_info_score(d.y, clust.labels_)\n",
    "    accuracies[d.name][\"k-prototypes\"] = cluster_accuracy(d.y, clust.labels_)"
   ]
  },
  {
   "cell_type": "code",
   "execution_count": 7,
   "metadata": {
    "ExecuteTime": {
     "end_time": "2023-07-17T17:47:47.156444278Z",
     "start_time": "2023-07-17T17:47:46.399768986Z"
    },
    "collapsed": false
   },
   "outputs": [
    {
     "name": "stdout",
     "output_type": "stream",
     "text": [
      "Calculating for Abalone Age...\n"
     ]
    },
    {
     "name": "stderr",
     "output_type": "stream",
     "text": [
      "  0%|          | 0/4177 [00:00<?, ?it/s]"
     ]
    },
    {
     "name": "stderr",
     "output_type": "stream",
     "text": [
      "100%|██████████| 4177/4177 [00:00<00:00, 5746.04it/s]\n"
     ]
    },
    {
     "name": "stdout",
     "output_type": "stream",
     "text": [
      "Calculating for Auction Verification...\n"
     ]
    },
    {
     "name": "stderr",
     "output_type": "stream",
     "text": [
      "100%|██████████| 2043/2043 [00:00<00:00, 10860.47it/s]\n"
     ]
    },
    {
     "name": "stdout",
     "output_type": "stream",
     "text": [
      "Calculating for Bank Marketing...\n"
     ]
    },
    {
     "name": "stderr",
     "output_type": "stream",
     "text": [
      "100%|██████████| 5000/5000 [00:01<00:00, 4002.63it/s]\n"
     ]
    },
    {
     "name": "stdout",
     "output_type": "stream",
     "text": [
      "Calculating for Breast Cancer...\n"
     ]
    },
    {
     "name": "stderr",
     "output_type": "stream",
     "text": [
      "100%|██████████| 683/683 [00:00<00:00, 17978.94it/s]\n"
     ]
    },
    {
     "name": "stdout",
     "output_type": "stream",
     "text": [
      "Calculating for Census Income...\n"
     ]
    },
    {
     "name": "stderr",
     "output_type": "stream",
     "text": [
      "100%|██████████| 5000/5000 [00:01<00:00, 3545.87it/s]\n"
     ]
    },
    {
     "name": "stdout",
     "output_type": "stream",
     "text": [
      "Calculating for Credit Approval...\n"
     ]
    },
    {
     "name": "stderr",
     "output_type": "stream",
     "text": [
      "100%|██████████| 653/653 [00:00<00:00, 18600.97it/s]\n"
     ]
    },
    {
     "name": "stdout",
     "output_type": "stream",
     "text": [
      "Calculating for Heart Disease...\n"
     ]
    },
    {
     "name": "stderr",
     "output_type": "stream",
     "text": [
      "100%|██████████| 299/299 [00:00<00:00, 29834.59it/s]"
     ]
    },
    {
     "name": "stdout",
     "output_type": "stream",
     "text": [
      "Calculating for Soybean Disease...\n"
     ]
    },
    {
     "name": "stderr",
     "output_type": "stream",
     "text": [
      "\n",
      "100%|██████████| 562/562 [00:00<00:00, 14545.22it/s]\n"
     ]
    }
   ],
   "source": [
    "# Gower Distance + Agglomerative Clustering\n",
    "for d in datasets:\n",
    "    print(f\"Calculating for {d.name}...\")\n",
    "    df = d.df.copy(deep=True)\n",
    "\n",
    "    distance_matrix = gower_matrix_duped(df.astype(float))\n",
    "    clust = AgglomerativeClustering(n_clusters=len(np.unique(d.y)), metric=\"precomputed\", linkage=\"average\", memory=\"/.cache\").fit_predict(distance_matrix)\n",
    "    nmis[d.name][\"Gower distance\"] = normalized_mutual_info_score(d.y, clust)\n",
    "    accuracies[d.name][\"Gower distance\"] = cluster_accuracy(d.y, clust)\n",
    "    del distance_matrix, clust\n",
    "    gc.collect()"
   ]
  },
  {
   "cell_type": "code",
   "execution_count": 8,
   "metadata": {
    "ExecuteTime": {
     "end_time": "2023-07-17T17:47:49.670687692Z",
     "start_time": "2023-07-17T17:47:49.667632749Z"
    },
    "collapsed": false
   },
   "outputs": [
    {
     "data": {
      "text/html": [
       "<div>\n",
       "<style scoped>\n",
       "    .dataframe tbody tr th:only-of-type {\n",
       "        vertical-align: middle;\n",
       "    }\n",
       "\n",
       "    .dataframe tbody tr th {\n",
       "        vertical-align: top;\n",
       "    }\n",
       "\n",
       "    .dataframe thead th {\n",
       "        text-align: right;\n",
       "    }\n",
       "</style>\n",
       "<table border=\"1\" class=\"dataframe\">\n",
       "  <thead>\n",
       "    <tr style=\"text-align: right;\">\n",
       "      <th></th>\n",
       "      <th>Naive k-means</th>\n",
       "      <th>k-means one-hot</th>\n",
       "      <th>Gower distance</th>\n",
       "    </tr>\n",
       "  </thead>\n",
       "  <tbody>\n",
       "    <tr>\n",
       "      <th>Abalone Age</th>\n",
       "      <td>0.170490</td>\n",
       "      <td>0.169787</td>\n",
       "      <td>0.161416</td>\n",
       "    </tr>\n",
       "    <tr>\n",
       "      <th>Auction Verification</th>\n",
       "      <td>0.016172</td>\n",
       "      <td>0.007087</td>\n",
       "      <td>0.006170</td>\n",
       "    </tr>\n",
       "    <tr>\n",
       "      <th>Bank Marketing</th>\n",
       "      <td>0.005110</td>\n",
       "      <td>0.023589</td>\n",
       "      <td>0.001130</td>\n",
       "    </tr>\n",
       "    <tr>\n",
       "      <th>Breast Cancer</th>\n",
       "      <td>0.746818</td>\n",
       "      <td>0.726304</td>\n",
       "      <td>0.537113</td>\n",
       "    </tr>\n",
       "    <tr>\n",
       "      <th>Census Income</th>\n",
       "      <td>0.090032</td>\n",
       "      <td>0.186274</td>\n",
       "      <td>0.003018</td>\n",
       "    </tr>\n",
       "    <tr>\n",
       "      <th>Credit Approval</th>\n",
       "      <td>0.313076</td>\n",
       "      <td>0.148259</td>\n",
       "      <td>0.003465</td>\n",
       "    </tr>\n",
       "    <tr>\n",
       "      <th>Heart Disease</th>\n",
       "      <td>0.202080</td>\n",
       "      <td>0.218775</td>\n",
       "      <td>0.140792</td>\n",
       "    </tr>\n",
       "    <tr>\n",
       "      <th>Soybean Disease</th>\n",
       "      <td>0.643389</td>\n",
       "      <td>0.653183</td>\n",
       "      <td>0.669526</td>\n",
       "    </tr>\n",
       "  </tbody>\n",
       "</table>\n",
       "</div>"
      ],
      "text/plain": [
       "                      Naive k-means  k-means one-hot  Gower distance\n",
       "Abalone Age                0.170490         0.169787        0.161416\n",
       "Auction Verification       0.016172         0.007087        0.006170\n",
       "Bank Marketing             0.005110         0.023589        0.001130\n",
       "Breast Cancer              0.746818         0.726304        0.537113\n",
       "Census Income              0.090032         0.186274        0.003018\n",
       "Credit Approval            0.313076         0.148259        0.003465\n",
       "Heart Disease              0.202080         0.218775        0.140792\n",
       "Soybean Disease            0.643389         0.653183        0.669526"
      ]
     },
     "execution_count": 8,
     "metadata": {},
     "output_type": "execute_result"
    }
   ],
   "source": [
    "pd.DataFrame(nmis.values(), index=nmis.keys())"
   ]
  },
  {
   "cell_type": "code",
   "execution_count": 9,
   "metadata": {
    "collapsed": false
   },
   "outputs": [
    {
     "data": {
      "text/html": [
       "<div>\n",
       "<style scoped>\n",
       "    .dataframe tbody tr th:only-of-type {\n",
       "        vertical-align: middle;\n",
       "    }\n",
       "\n",
       "    .dataframe tbody tr th {\n",
       "        vertical-align: top;\n",
       "    }\n",
       "\n",
       "    .dataframe thead th {\n",
       "        text-align: right;\n",
       "    }\n",
       "</style>\n",
       "<table border=\"1\" class=\"dataframe\">\n",
       "  <thead>\n",
       "    <tr style=\"text-align: right;\">\n",
       "      <th></th>\n",
       "      <th>Naive k-means</th>\n",
       "      <th>k-means one-hot</th>\n",
       "      <th>Gower distance</th>\n",
       "    </tr>\n",
       "  </thead>\n",
       "  <tbody>\n",
       "    <tr>\n",
       "      <th>Abalone Age</th>\n",
       "      <td>0.133828</td>\n",
       "      <td>0.137659</td>\n",
       "      <td>0.195356</td>\n",
       "    </tr>\n",
       "    <tr>\n",
       "      <th>Auction Verification</th>\n",
       "      <td>0.664709</td>\n",
       "      <td>0.576114</td>\n",
       "      <td>0.800783</td>\n",
       "    </tr>\n",
       "    <tr>\n",
       "      <th>Bank Marketing</th>\n",
       "      <td>0.753000</td>\n",
       "      <td>0.806400</td>\n",
       "      <td>0.893600</td>\n",
       "    </tr>\n",
       "    <tr>\n",
       "      <th>Breast Cancer</th>\n",
       "      <td>0.960469</td>\n",
       "      <td>0.947291</td>\n",
       "      <td>0.894583</td>\n",
       "    </tr>\n",
       "    <tr>\n",
       "      <th>Census Income</th>\n",
       "      <td>0.601600</td>\n",
       "      <td>0.684400</td>\n",
       "      <td>0.756400</td>\n",
       "    </tr>\n",
       "    <tr>\n",
       "      <th>Credit Approval</th>\n",
       "      <td>0.808576</td>\n",
       "      <td>0.689127</td>\n",
       "      <td>0.548239</td>\n",
       "    </tr>\n",
       "    <tr>\n",
       "      <th>Heart Disease</th>\n",
       "      <td>0.357860</td>\n",
       "      <td>0.344482</td>\n",
       "      <td>0.565217</td>\n",
       "    </tr>\n",
       "    <tr>\n",
       "      <th>Soybean Disease</th>\n",
       "      <td>0.533808</td>\n",
       "      <td>0.494662</td>\n",
       "      <td>0.501779</td>\n",
       "    </tr>\n",
       "  </tbody>\n",
       "</table>\n",
       "</div>"
      ],
      "text/plain": [
       "                      Naive k-means  k-means one-hot  Gower distance\n",
       "Abalone Age                0.133828         0.137659        0.195356\n",
       "Auction Verification       0.664709         0.576114        0.800783\n",
       "Bank Marketing             0.753000         0.806400        0.893600\n",
       "Breast Cancer              0.960469         0.947291        0.894583\n",
       "Census Income              0.601600         0.684400        0.756400\n",
       "Credit Approval            0.808576         0.689127        0.548239\n",
       "Heart Disease              0.357860         0.344482        0.565217\n",
       "Soybean Disease            0.533808         0.494662        0.501779"
      ]
     },
     "execution_count": 9,
     "metadata": {},
     "output_type": "execute_result"
    }
   ],
   "source": [
    "pd.DataFrame(accuracies.values(), index=accuracies.keys())"
   ]
  },
  {
   "cell_type": "code",
   "execution_count": null,
   "metadata": {},
   "outputs": [],
   "source": []
  }
 ],
 "metadata": {
  "kernelspec": {
   "display_name": "venv",
   "language": "python",
   "name": "python3"
  },
  "language_info": {
   "codemirror_mode": {
    "name": "ipython",
    "version": 3
   },
   "file_extension": ".py",
   "mimetype": "text/x-python",
   "name": "python",
   "nbconvert_exporter": "python",
   "pygments_lexer": "ipython3",
   "version": "3.11.2"
  },
  "orig_nbformat": 4
 },
 "nbformat": 4,
 "nbformat_minor": 2
}
