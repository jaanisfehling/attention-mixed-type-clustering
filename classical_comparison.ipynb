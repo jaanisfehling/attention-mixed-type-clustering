{
 "cells": [
  {
   "cell_type": "code",
   "execution_count": 1,
   "metadata": {
    "ExecuteTime": {
     "end_time": "2023-07-17T11:22:43.111883184Z",
     "start_time": "2023-07-17T11:22:42.712741586Z"
    }
   },
   "outputs": [],
   "source": [
    "from sklearn.cluster import KMeans\n",
    "from sklearn.metrics import normalized_mutual_info_score\n",
    "from kmodes.kprototypes import KPrototypes\n",
    "from kmodes.kmodes import KModes\n",
    "\n",
    "from load_datasets import *\n",
    "from duped_modules.gower_duped import gower_matrix as gower_matrix_duped"
   ]
  },
  {
   "cell_type": "code",
   "execution_count": 2,
   "metadata": {
    "ExecuteTime": {
     "end_time": "2023-07-17T11:22:43.329299860Z",
     "start_time": "2023-07-17T11:22:43.112626005Z"
    }
   },
   "outputs": [],
   "source": [
    "datasets = [\n",
    "    load_soybean_disease(),\n",
    "    load_heart_disease(),\n",
    "    load_breast_cancer(),\n",
    "    load_bank_marketing(),\n",
    "    load_census_income(),\n",
    "    load_credit_approval()\n",
    "]\n",
    "\n",
    "nmis = {d.name: {} for d in datasets}"
   ]
  },
  {
   "cell_type": "code",
   "execution_count": 3,
   "metadata": {
    "ExecuteTime": {
     "end_time": "2023-07-17T11:23:26.337085695Z",
     "start_time": "2023-07-17T11:22:43.330940242Z"
    }
   },
   "outputs": [
    {
     "name": "stdout",
     "output_type": "stream",
     "text": [
      "Calculating for Soybean Disease...\n",
      "Calculating for Heart Disease...\n",
      "Calculating for Breast Cancer...\n",
      "Calculating for Bank Marketing...\n",
      "Calculating for Census Income...\n",
      "Calculating for Credit Approval...\n"
     ]
    }
   ],
   "source": [
    "# Naive KMeans\n",
    "for d in datasets:\n",
    "    print(f\"Calculating for {d.name}...\")\n",
    "    total_nmi = 0\n",
    "    df = d.df.copy()\n",
    "    \n",
    "    df[d.cat_cols] = StandardScaler().fit_transform(df[d.cat_cols])\n",
    "\n",
    "    for i in range(100):\n",
    "        kmeans = KMeans(n_clusters=len(np.unique(d.y)), n_init=\"auto\").fit(df.values)\n",
    "        total_nmi += normalized_mutual_info_score(d.y, kmeans.labels_)\n",
    "        \n",
    "    nmis[d.name][\"Naive KMeans\"] = total_nmi / 100"
   ]
  },
  {
   "cell_type": "code",
   "execution_count": 4,
   "metadata": {
    "ExecuteTime": {
     "end_time": "2023-07-17T11:24:22.842165269Z",
     "start_time": "2023-07-17T11:23:26.283192322Z"
    }
   },
   "outputs": [
    {
     "name": "stdout",
     "output_type": "stream",
     "text": [
      "Calculating for Soybean Disease...\n",
      "Calculating for Heart Disease...\n",
      "Calculating for Breast Cancer...\n",
      "Calculating for Bank Marketing...\n",
      "Calculating for Census Income...\n",
      "Calculating for Credit Approval...\n"
     ]
    }
   ],
   "source": [
    "# KMeans with One-Hot Encoding\n",
    "def encode_feature(df, feature_to_encode):\n",
    "    dummies = pd.get_dummies(df[feature_to_encode].astype(str), dtype=float, prefix=feature_to_encode)\n",
    "    result_df = pd.concat([df, dummies], axis=1)\n",
    "    result_df.drop(columns=feature_to_encode, inplace=True)\n",
    "    return result_df\n",
    "\n",
    "for d in datasets:\n",
    "    print(f\"Calculating for {d.name}...\")\n",
    "    total_nmi = 0\n",
    "    df = d.df.copy()\n",
    "\n",
    "    for col in d.cat_cols:\n",
    "        df = encode_feature(df, col)\n",
    "\n",
    "    for i in range(100):\n",
    "        kmeans = KMeans(n_clusters=len(np.unique(d.y)), n_init=\"auto\").fit(df.values)\n",
    "        total_nmi += normalized_mutual_info_score(d.y, kmeans.labels_)\n",
    "\n",
    "    nmis[d.name][\"k-means One-Hot\"] = total_nmi / 100"
   ]
  },
  {
   "cell_type": "code",
   "execution_count": 5,
   "outputs": [
    {
     "name": "stdout",
     "output_type": "stream",
     "text": [
      "Calculating for Soybean Disease...\n",
      "Calculating for Heart Disease...\n",
      "Calculating for Breast Cancer...\n",
      "Calculating for Bank Marketing...\n",
      "Calculating for Census Income...\n",
      "Calculating for Credit Approval...\n"
     ]
    }
   ],
   "source": [
    "# KPrototypes\n",
    "for d in datasets:\n",
    "    print(f\"Calculating for {d.name}...\")\n",
    "    total_nmi = 0\n",
    "    df = d.df.copy()\n",
    "\n",
    "    for i in range(1):\n",
    "        if not d.cont_cols:\n",
    "            k = KModes(n_clusters=len(np.unique(d.y)), verbose=None, n_jobs=-1).fit(df.values)\n",
    "        else:\n",
    "            k = KPrototypes(n_clusters=len(np.unique(d.y)), verbose=None, n_jobs=-1).fit(df.values, categorical=[df.columns.get_loc(col) for col in d.cat_cols])\n",
    "        total_nmi += normalized_mutual_info_score(d.y, k.labels_)\n",
    "\n",
    "    nmis[d.name][\"k-Prototypes\"] = total_nmi / 100"
   ],
   "metadata": {
    "collapsed": false,
    "ExecuteTime": {
     "end_time": "2023-07-17T11:27:51.489963630Z",
     "start_time": "2023-07-17T11:24:22.844162139Z"
    }
   }
  },
  {
   "cell_type": "code",
   "execution_count": 6,
   "metadata": {
    "ExecuteTime": {
     "end_time": "2023-07-17T11:27:51.499217382Z",
     "start_time": "2023-07-17T11:27:51.493310486Z"
    }
   },
   "outputs": [
    {
     "data": {
      "text/plain": "                 Naive KMeans  k-means One-Hot  k-Prototypes\nSoybean Disease      0.686038         0.681343      0.006947\nHeart Disease        0.200956         0.192618      0.001833\nBreast Cancer        0.749538         0.735159      0.005880\nBank Marketing       0.017380         0.023863      0.000176\nCensus Income        0.081302         0.147739      0.001349\nCredit Approval      0.203933         0.157413      0.001090",
      "text/html": "<div>\n<style scoped>\n    .dataframe tbody tr th:only-of-type {\n        vertical-align: middle;\n    }\n\n    .dataframe tbody tr th {\n        vertical-align: top;\n    }\n\n    .dataframe thead th {\n        text-align: right;\n    }\n</style>\n<table border=\"1\" class=\"dataframe\">\n  <thead>\n    <tr style=\"text-align: right;\">\n      <th></th>\n      <th>Naive KMeans</th>\n      <th>k-means One-Hot</th>\n      <th>k-Prototypes</th>\n    </tr>\n  </thead>\n  <tbody>\n    <tr>\n      <th>Soybean Disease</th>\n      <td>0.686038</td>\n      <td>0.681343</td>\n      <td>0.006947</td>\n    </tr>\n    <tr>\n      <th>Heart Disease</th>\n      <td>0.200956</td>\n      <td>0.192618</td>\n      <td>0.001833</td>\n    </tr>\n    <tr>\n      <th>Breast Cancer</th>\n      <td>0.749538</td>\n      <td>0.735159</td>\n      <td>0.005880</td>\n    </tr>\n    <tr>\n      <th>Bank Marketing</th>\n      <td>0.017380</td>\n      <td>0.023863</td>\n      <td>0.000176</td>\n    </tr>\n    <tr>\n      <th>Census Income</th>\n      <td>0.081302</td>\n      <td>0.147739</td>\n      <td>0.001349</td>\n    </tr>\n    <tr>\n      <th>Credit Approval</th>\n      <td>0.203933</td>\n      <td>0.157413</td>\n      <td>0.001090</td>\n    </tr>\n  </tbody>\n</table>\n</div>"
     },
     "execution_count": 6,
     "metadata": {},
     "output_type": "execute_result"
    }
   ],
   "source": [
    "pd.DataFrame(nmis.values(), index=nmis.keys())"
   ]
  },
  {
   "cell_type": "code",
   "execution_count": 6,
   "outputs": [],
   "source": [],
   "metadata": {
    "collapsed": false,
    "ExecuteTime": {
     "end_time": "2023-07-17T11:27:51.501703570Z",
     "start_time": "2023-07-17T11:27:51.499367706Z"
    }
   }
  }
 ],
 "metadata": {
  "kernelspec": {
   "display_name": "venv",
   "language": "python",
   "name": "python3"
  },
  "language_info": {
   "codemirror_mode": {
    "name": "ipython",
    "version": 3
   },
   "file_extension": ".py",
   "mimetype": "text/x-python",
   "name": "python",
   "nbconvert_exporter": "python",
   "pygments_lexer": "ipython3",
   "version": "3.11.2"
  },
  "orig_nbformat": 4
 },
 "nbformat": 4,
 "nbformat_minor": 2
}
