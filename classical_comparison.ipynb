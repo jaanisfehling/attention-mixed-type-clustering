{
 "cells": [
  {
   "cell_type": "code",
   "execution_count": 1,
   "metadata": {
    "ExecuteTime": {
     "end_time": "2023-07-17T17:33:25.753560971Z",
     "start_time": "2023-07-17T17:33:25.368253252Z"
    }
   },
   "outputs": [],
   "source": [
    "import pandas as pd\n",
    "import numpy as np\n",
    "from sklearn.cluster import KMeans\n",
    "from sklearn.metrics import normalized_mutual_info_score\n",
    "from sklearn.preprocessing import StandardScaler\n",
    "from kmodes.kprototypes import KPrototypes\n",
    "from kmodes.kmodes import KModes\n",
    "from sklearn.cluster import AgglomerativeClustering\n",
    "import gc\n",
    "\n",
    "from utils import *\n",
    "from load_datasets import load_all_datasets\n",
    "from duped_modules.gower_duped import gower_matrix as gower_matrix_duped"
   ]
  },
  {
   "cell_type": "code",
   "execution_count": 2,
   "metadata": {},
   "outputs": [
    {
     "name": "stdout",
     "output_type": "stream",
     "text": [
      "Abalone: Input dim: 9; Cat dim: 2; Cont dim: 7\n",
      "Auction Verification: Input dim: 13; Cat dim: 12; Cont dim: 1\n",
      "Bank Marketing: Input dim: 22; Cat dim: 17; Cont dim: 5\n",
      "Breast Cancer: Input dim: 45; Cat dim: 45; Cont dim: 0\n",
      "Census Income: Input dim: 58; Cat dim: 52; Cont dim: 6\n",
      "Credit Approval: Input dim: 28; Cat dim: 22; Cont dim: 6\n",
      "Heart Disease: Input dim: 17; Cat dim: 11; Cont dim: 6\n",
      "Soybean Disease: Input dim: 55; Cat dim: 55; Cont dim: 0\n"
     ]
    }
   ],
   "source": [
    "np.random.seed(0)\n",
    "\n",
    "datasets = load_all_datasets(max_rows=5000)\n",
    "accuracies = {d.name: {} for d in datasets}\n",
    "nmis = {d.name: {} for d in datasets}\n",
    "for d in datasets:\n",
    "    print(f\"{d.name}: Input dim: {d.input_dim}; Cat dim: {d.cat_dim}; Cont dim: {d.cont_dim}\")"
   ]
  },
  {
   "cell_type": "code",
   "execution_count": 3,
   "metadata": {
    "ExecuteTime": {
     "end_time": "2023-07-17T17:34:08.602925927Z",
     "start_time": "2023-07-17T17:33:25.977449654Z"
    }
   },
   "outputs": [
    {
     "name": "stdout",
     "output_type": "stream",
     "text": [
      "Calculating for Abalone...\n",
      "Calculating for Auction Verification...\n",
      "Calculating for Bank Marketing...\n",
      "Calculating for Breast Cancer...\n",
      "Calculating for Census Income...\n",
      "Calculating for Credit Approval...\n",
      "Calculating for Heart Disease...\n",
      "Calculating for Soybean Disease...\n"
     ]
    }
   ],
   "source": [
    "# Naive KMeans\n",
    "for d in datasets:\n",
    "    print(f\"Calculating for {d.name}...\")\n",
    "\n",
    "    df = d.df.copy(deep=True)\n",
    "    df[d.cat_cols] = StandardScaler().fit_transform(df[d.cat_cols])\n",
    "\n",
    "    kmeans = KMeans(n_clusters=d.n_targets, init=\"random\", max_iter=300, n_init=1, random_state=0, algorithm=\"lloyd\").fit(df.values)\n",
    "    nmis[d.name][\"Naive k-means\"] = normalized_mutual_info_score(d.y, kmeans.labels_)\n",
    "    accuracies[d.name][\"Naive k-means\"] = cluster_accuracy(d.y, kmeans.labels_)"
   ]
  },
  {
   "cell_type": "code",
   "execution_count": 4,
   "metadata": {
    "ExecuteTime": {
     "end_time": "2023-07-17T17:35:05.333256687Z",
     "start_time": "2023-07-17T17:34:08.610244031Z"
    }
   },
   "outputs": [
    {
     "name": "stdout",
     "output_type": "stream",
     "text": [
      "Calculating for Abalone...\n",
      "Calculating for Auction Verification...\n",
      "Calculating for Bank Marketing...\n",
      "Calculating for Breast Cancer...\n",
      "Calculating for Census Income...\n",
      "Calculating for Credit Approval...\n",
      "Calculating for Heart Disease...\n",
      "Calculating for Soybean Disease...\n"
     ]
    }
   ],
   "source": [
    "# KMeans with One-Hot Encoding\n",
    "def encode_feature(df, feature_to_encode):\n",
    "    dummies = pd.get_dummies(df[feature_to_encode].astype(str), dtype=float, prefix=feature_to_encode)\n",
    "    result_df = pd.concat([df, dummies], axis=1)\n",
    "    result_df.drop(columns=feature_to_encode, inplace=True)\n",
    "    return result_df\n",
    "\n",
    "for d in datasets:\n",
    "    print(f\"Calculating for {d.name}...\")\n",
    "    df = d.df.copy(deep=True)\n",
    "\n",
    "    for col in d.cat_cols:\n",
    "        df = encode_feature(df, col)\n",
    "\n",
    "    kmeans = KMeans(n_clusters=d.n_targets, init=\"random\", max_iter=300, n_init=1, random_state=0, algorithm=\"lloyd\").fit(df.values)\n",
    "    nmis[d.name][\"k-means one-hot\"] = normalized_mutual_info_score(d.y, kmeans.labels_)\n",
    "    accuracies[d.name][\"k-means one-hot\"] = cluster_accuracy(d.y, kmeans.labels_)"
   ]
  },
  {
   "cell_type": "code",
   "execution_count": 5,
   "metadata": {
    "ExecuteTime": {
     "end_time": "2023-07-17T17:38:19.508910941Z",
     "start_time": "2023-07-17T17:35:05.333051177Z"
    },
    "collapsed": false
   },
   "outputs": [
    {
     "name": "stdout",
     "output_type": "stream",
     "text": [
      "Calculating for Abalone...\n",
      "Calculating for Auction Verification...\n",
      "Calculating for Bank Marketing...\n",
      "Calculating for Breast Cancer...\n",
      "Calculating for Census Income...\n",
      "Calculating for Credit Approval...\n",
      "Calculating for Heart Disease...\n",
      "Calculating for Soybean Disease...\n"
     ]
    }
   ],
   "source": [
    "# KPrototypes\n",
    "for d in datasets:\n",
    "    print(f\"Calculating for {d.name}...\")\n",
    "    df = d.df.copy(deep=True)\n",
    "\n",
    "    n_clusters = len(np.unique(d.y))\n",
    "    if not d.cont_cols:\n",
    "        clust = KModes(init=\"Huang\", n_init=1, n_clusters=n_clusters, verbose=None, n_jobs=-1, random_state=0).fit(df.values)\n",
    "    else:\n",
    "        cat_cols_indices = [df.columns.get_loc(col) for col in d.cat_cols]\n",
    "        cont_cols_indices = [df.columns.get_loc(col) for col in d.cont_cols]\n",
    "        try:\n",
    "            clust = KPrototypes(init=\"Huang\", n_init=1, n_clusters=n_clusters, verbose=None, n_jobs=-1, random_state=0, max_iter=300).fit(df.values, categorical=cat_cols_indices)\n",
    "        # The initilization can go wrong for big k values, so we can initialize ourselfs\n",
    "        except ValueError:\n",
    "            init_centroids = [df.values[:, cont_cols_indices][:n_clusters], df.values[:, cat_cols_indices][:n_clusters]]\n",
    "            clust = KPrototypes(init=init_centroids, n_init=1, n_clusters=n_clusters, verbose=None, n_jobs=-1, random_state=0, max_iter=300).fit(df.values, categorical=cat_cols_indices)\n",
    "\n",
    "    nmis[d.name][\"k-prototypes\"] = normalized_mutual_info_score(d.y, clust.labels_)\n",
    "    accuracies[d.name][\"k-prototypes\"] = cluster_accuracy(d.y, clust.labels_)"
   ]
  },
  {
   "cell_type": "code",
   "execution_count": 6,
   "metadata": {
    "ExecuteTime": {
     "end_time": "2023-07-17T17:47:47.156444278Z",
     "start_time": "2023-07-17T17:47:46.399768986Z"
    },
    "collapsed": false
   },
   "outputs": [
    {
     "name": "stdout",
     "output_type": "stream",
     "text": [
      "Calculating for Abalone...\n"
     ]
    },
    {
     "name": "stderr",
     "output_type": "stream",
     "text": [
      "  0%|          | 0/4177 [00:00<?, ?it/s]"
     ]
    },
    {
     "name": "stderr",
     "output_type": "stream",
     "text": [
      "100%|██████████| 4177/4177 [00:01<00:00, 2674.56it/s]\n"
     ]
    },
    {
     "name": "stdout",
     "output_type": "stream",
     "text": [
      "Calculating for Auction Verification...\n"
     ]
    },
    {
     "name": "stderr",
     "output_type": "stream",
     "text": [
      "100%|██████████| 2043/2043 [00:00<00:00, 6040.01it/s]\n"
     ]
    },
    {
     "name": "stdout",
     "output_type": "stream",
     "text": [
      "Calculating for Bank Marketing...\n"
     ]
    },
    {
     "name": "stderr",
     "output_type": "stream",
     "text": [
      "100%|██████████| 5000/5000 [00:03<00:00, 1549.12it/s]\n"
     ]
    },
    {
     "name": "stdout",
     "output_type": "stream",
     "text": [
      "Calculating for Breast Cancer...\n"
     ]
    },
    {
     "name": "stderr",
     "output_type": "stream",
     "text": [
      "100%|██████████| 683/683 [00:00<00:00, 7873.91it/s]\n"
     ]
    },
    {
     "name": "stdout",
     "output_type": "stream",
     "text": [
      "Calculating for Census Income...\n"
     ]
    },
    {
     "name": "stderr",
     "output_type": "stream",
     "text": [
      "100%|██████████| 5000/5000 [00:02<00:00, 2300.48it/s]\n"
     ]
    },
    {
     "name": "stdout",
     "output_type": "stream",
     "text": [
      "Calculating for Credit Approval...\n"
     ]
    },
    {
     "name": "stderr",
     "output_type": "stream",
     "text": [
      "100%|██████████| 653/653 [00:00<00:00, 13457.95it/s]"
     ]
    },
    {
     "name": "stdout",
     "output_type": "stream",
     "text": [
      "Calculating for Heart Disease...\n"
     ]
    },
    {
     "name": "stderr",
     "output_type": "stream",
     "text": [
      "\n",
      "100%|██████████| 299/299 [00:00<00:00, 17972.93it/s]\n"
     ]
    },
    {
     "name": "stdout",
     "output_type": "stream",
     "text": [
      "Calculating for Soybean Disease...\n"
     ]
    },
    {
     "name": "stderr",
     "output_type": "stream",
     "text": [
      "100%|██████████| 562/562 [00:00<00:00, 11572.48it/s]\n"
     ]
    }
   ],
   "source": [
    "# Gower Distance + Agglomerative Clustering\n",
    "for d in datasets:\n",
    "    print(f\"Calculating for {d.name}...\")\n",
    "    df = d.df.copy(deep=True)\n",
    "\n",
    "    distance_matrix = gower_matrix_duped(df.astype(float))\n",
    "    clust = AgglomerativeClustering(n_clusters=d.n_targets, metric=\"precomputed\", linkage=\"average\").fit_predict(distance_matrix)\n",
    "    nmis[d.name][\"Gower distance\"] = normalized_mutual_info_score(d.y, clust)\n",
    "    accuracies[d.name][\"Gower distance\"] = cluster_accuracy(d.y, clust)\n",
    "    del distance_matrix, clust\n",
    "    gc.collect()"
   ]
  },
  {
   "cell_type": "code",
   "execution_count": 7,
   "metadata": {
    "ExecuteTime": {
     "end_time": "2023-07-17T17:47:49.670687692Z",
     "start_time": "2023-07-17T17:47:49.667632749Z"
    },
    "collapsed": false
   },
   "outputs": [
    {
     "data": {
      "text/html": [
       "<div>\n",
       "<style scoped>\n",
       "    .dataframe tbody tr th:only-of-type {\n",
       "        vertical-align: middle;\n",
       "    }\n",
       "\n",
       "    .dataframe tbody tr th {\n",
       "        vertical-align: top;\n",
       "    }\n",
       "\n",
       "    .dataframe thead th {\n",
       "        text-align: right;\n",
       "    }\n",
       "</style>\n",
       "<table border=\"1\" class=\"dataframe\">\n",
       "  <thead>\n",
       "    <tr style=\"text-align: right;\">\n",
       "      <th></th>\n",
       "      <th>Naive k-means</th>\n",
       "      <th>k-means one-hot</th>\n",
       "      <th>k-prototypes</th>\n",
       "      <th>Gower distance</th>\n",
       "    </tr>\n",
       "  </thead>\n",
       "  <tbody>\n",
       "    <tr>\n",
       "      <th>Abalone</th>\n",
       "      <td>0.1718</td>\n",
       "      <td>0.1740</td>\n",
       "      <td>0.1716</td>\n",
       "      <td>0.1614</td>\n",
       "    </tr>\n",
       "    <tr>\n",
       "      <th>Auction Verification</th>\n",
       "      <td>0.0162</td>\n",
       "      <td>0.0071</td>\n",
       "      <td>0.0077</td>\n",
       "      <td>0.0062</td>\n",
       "    </tr>\n",
       "    <tr>\n",
       "      <th>Bank Marketing</th>\n",
       "      <td>0.0198</td>\n",
       "      <td>0.0261</td>\n",
       "      <td>0.0195</td>\n",
       "      <td>0.0013</td>\n",
       "    </tr>\n",
       "    <tr>\n",
       "      <th>Breast Cancer</th>\n",
       "      <td>0.7468</td>\n",
       "      <td>0.7363</td>\n",
       "      <td>0.5925</td>\n",
       "      <td>0.5537</td>\n",
       "    </tr>\n",
       "    <tr>\n",
       "      <th>Census Income</th>\n",
       "      <td>0.1080</td>\n",
       "      <td>0.1850</td>\n",
       "      <td>0.1417</td>\n",
       "      <td>0.0043</td>\n",
       "    </tr>\n",
       "    <tr>\n",
       "      <th>Credit Approval</th>\n",
       "      <td>0.3131</td>\n",
       "      <td>0.1710</td>\n",
       "      <td>0.1166</td>\n",
       "      <td>0.0035</td>\n",
       "    </tr>\n",
       "    <tr>\n",
       "      <th>Heart Disease</th>\n",
       "      <td>0.2046</td>\n",
       "      <td>0.1645</td>\n",
       "      <td>0.1893</td>\n",
       "      <td>0.1408</td>\n",
       "    </tr>\n",
       "    <tr>\n",
       "      <th>Soybean Disease</th>\n",
       "      <td>0.6722</td>\n",
       "      <td>0.7102</td>\n",
       "      <td>0.5676</td>\n",
       "      <td>0.6695</td>\n",
       "    </tr>\n",
       "  </tbody>\n",
       "</table>\n",
       "</div>"
      ],
      "text/plain": [
       "                      Naive k-means  k-means one-hot  k-prototypes   \n",
       "Abalone                      0.1718           0.1740        0.1716  \\\n",
       "Auction Verification         0.0162           0.0071        0.0077   \n",
       "Bank Marketing               0.0198           0.0261        0.0195   \n",
       "Breast Cancer                0.7468           0.7363        0.5925   \n",
       "Census Income                0.1080           0.1850        0.1417   \n",
       "Credit Approval              0.3131           0.1710        0.1166   \n",
       "Heart Disease                0.2046           0.1645        0.1893   \n",
       "Soybean Disease              0.6722           0.7102        0.5676   \n",
       "\n",
       "                      Gower distance  \n",
       "Abalone                       0.1614  \n",
       "Auction Verification          0.0062  \n",
       "Bank Marketing                0.0013  \n",
       "Breast Cancer                 0.5537  \n",
       "Census Income                 0.0043  \n",
       "Credit Approval               0.0035  \n",
       "Heart Disease                 0.1408  \n",
       "Soybean Disease               0.6695  "
      ]
     },
     "execution_count": 7,
     "metadata": {},
     "output_type": "execute_result"
    }
   ],
   "source": [
    "pd.DataFrame(nmis.values(), index=nmis.keys()).round(4)"
   ]
  },
  {
   "cell_type": "code",
   "execution_count": 8,
   "metadata": {
    "collapsed": false
   },
   "outputs": [
    {
     "data": {
      "text/html": [
       "<div>\n",
       "<style scoped>\n",
       "    .dataframe tbody tr th:only-of-type {\n",
       "        vertical-align: middle;\n",
       "    }\n",
       "\n",
       "    .dataframe tbody tr th {\n",
       "        vertical-align: top;\n",
       "    }\n",
       "\n",
       "    .dataframe thead th {\n",
       "        text-align: right;\n",
       "    }\n",
       "</style>\n",
       "<table border=\"1\" class=\"dataframe\">\n",
       "  <thead>\n",
       "    <tr style=\"text-align: right;\">\n",
       "      <th></th>\n",
       "      <th>Naive k-means</th>\n",
       "      <th>k-means one-hot</th>\n",
       "      <th>k-prototypes</th>\n",
       "      <th>Gower distance</th>\n",
       "    </tr>\n",
       "  </thead>\n",
       "  <tbody>\n",
       "    <tr>\n",
       "      <th>Abalone</th>\n",
       "      <td>0.1353</td>\n",
       "      <td>0.1314</td>\n",
       "      <td>0.1343</td>\n",
       "      <td>0.1954</td>\n",
       "    </tr>\n",
       "    <tr>\n",
       "      <th>Auction Verification</th>\n",
       "      <td>0.6647</td>\n",
       "      <td>0.5761</td>\n",
       "      <td>0.5805</td>\n",
       "      <td>0.8008</td>\n",
       "    </tr>\n",
       "    <tr>\n",
       "      <th>Bank Marketing</th>\n",
       "      <td>0.7796</td>\n",
       "      <td>0.7866</td>\n",
       "      <td>0.7872</td>\n",
       "      <td>0.8842</td>\n",
       "    </tr>\n",
       "    <tr>\n",
       "      <th>Breast Cancer</th>\n",
       "      <td>0.9605</td>\n",
       "      <td>0.9502</td>\n",
       "      <td>0.9151</td>\n",
       "      <td>0.9004</td>\n",
       "    </tr>\n",
       "    <tr>\n",
       "      <th>Census Income</th>\n",
       "      <td>0.6082</td>\n",
       "      <td>0.6976</td>\n",
       "      <td>0.6256</td>\n",
       "      <td>0.7684</td>\n",
       "    </tr>\n",
       "    <tr>\n",
       "      <th>Credit Approval</th>\n",
       "      <td>0.8086</td>\n",
       "      <td>0.7060</td>\n",
       "      <td>0.6662</td>\n",
       "      <td>0.5482</td>\n",
       "    </tr>\n",
       "    <tr>\n",
       "      <th>Heart Disease</th>\n",
       "      <td>0.3344</td>\n",
       "      <td>0.3211</td>\n",
       "      <td>0.4247</td>\n",
       "      <td>0.5652</td>\n",
       "    </tr>\n",
       "    <tr>\n",
       "      <th>Soybean Disease</th>\n",
       "      <td>0.5765</td>\n",
       "      <td>0.5996</td>\n",
       "      <td>0.4715</td>\n",
       "      <td>0.5018</td>\n",
       "    </tr>\n",
       "  </tbody>\n",
       "</table>\n",
       "</div>"
      ],
      "text/plain": [
       "                      Naive k-means  k-means one-hot  k-prototypes   \n",
       "Abalone                      0.1353           0.1314        0.1343  \\\n",
       "Auction Verification         0.6647           0.5761        0.5805   \n",
       "Bank Marketing               0.7796           0.7866        0.7872   \n",
       "Breast Cancer                0.9605           0.9502        0.9151   \n",
       "Census Income                0.6082           0.6976        0.6256   \n",
       "Credit Approval              0.8086           0.7060        0.6662   \n",
       "Heart Disease                0.3344           0.3211        0.4247   \n",
       "Soybean Disease              0.5765           0.5996        0.4715   \n",
       "\n",
       "                      Gower distance  \n",
       "Abalone                       0.1954  \n",
       "Auction Verification          0.8008  \n",
       "Bank Marketing                0.8842  \n",
       "Breast Cancer                 0.9004  \n",
       "Census Income                 0.7684  \n",
       "Credit Approval               0.5482  \n",
       "Heart Disease                 0.5652  \n",
       "Soybean Disease               0.5018  "
      ]
     },
     "execution_count": 8,
     "metadata": {},
     "output_type": "execute_result"
    }
   ],
   "source": [
    "pd.DataFrame(accuracies.values(), index=accuracies.keys()).round(4)"
   ]
  },
  {
   "cell_type": "code",
   "execution_count": null,
   "metadata": {},
   "outputs": [],
   "source": []
  }
 ],
 "metadata": {
  "kernelspec": {
   "display_name": "venv",
   "language": "python",
   "name": "python3"
  },
  "language_info": {
   "codemirror_mode": {
    "name": "ipython",
    "version": 3
   },
   "file_extension": ".py",
   "mimetype": "text/x-python",
   "name": "python",
   "nbconvert_exporter": "python",
   "pygments_lexer": "ipython3",
   "version": "3.11.2"
  },
  "orig_nbformat": 4
 },
 "nbformat": 4,
 "nbformat_minor": 2
}
