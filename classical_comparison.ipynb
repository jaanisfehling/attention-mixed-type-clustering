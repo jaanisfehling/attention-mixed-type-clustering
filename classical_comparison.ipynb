{
 "cells": [
  {
   "cell_type": "code",
   "execution_count": 1,
   "metadata": {
    "ExecuteTime": {
     "end_time": "2023-07-17T17:33:25.753560971Z",
     "start_time": "2023-07-17T17:33:25.368253252Z"
    }
   },
   "outputs": [],
   "source": [
    "import pandas as pd\n",
    "from sklearn.cluster import KMeans\n",
    "from sklearn.metrics import normalized_mutual_info_score\n",
    "from kmodes.kprototypes import KPrototypes\n",
    "from kmodes.kmodes import KModes\n",
    "from sklearn.cluster import AgglomerativeClustering\n",
    "import gc\n",
    "\n",
    "from load_datasets import *\n",
    "from duped_modules.gower_duped import gower_matrix as gower_matrix_duped"
   ]
  },
  {
   "cell_type": "code",
   "execution_count": 2,
   "metadata": {
    "ExecuteTime": {
     "end_time": "2023-07-17T17:33:25.976221740Z",
     "start_time": "2023-07-17T17:33:25.754594716Z"
    }
   },
   "outputs": [],
   "source": [
    "datasets = [\n",
    "    load_soybean_disease(),\n",
    "    load_heart_disease(),\n",
    "    load_breast_cancer(),\n",
    "    load_bank_marketing(),\n",
    "    load_census_income(),\n",
    "    load_credit_approval()\n",
    "]\n",
    "\n",
    "nmis = {d.name: {} for d in datasets}"
   ]
  },
  {
   "cell_type": "code",
   "execution_count": 3,
   "metadata": {
    "ExecuteTime": {
     "end_time": "2023-07-17T17:34:08.602925927Z",
     "start_time": "2023-07-17T17:33:25.977449654Z"
    }
   },
   "outputs": [
    {
     "name": "stdout",
     "output_type": "stream",
     "text": [
      "Calculating for Soybean Disease...\n",
      "Calculating for Heart Disease...\n",
      "Calculating for Breast Cancer...\n",
      "Calculating for Bank Marketing...\n",
      "Calculating for Census Income...\n",
      "Calculating for Credit Approval...\n"
     ]
    }
   ],
   "source": [
    "# Naive KMeans\n",
    "for d in datasets:\n",
    "    print(f\"Calculating for {d.name}...\")\n",
    "    total_nmi = 0\n",
    "    df = d.df.copy()\n",
    "    \n",
    "    df[d.cat_cols] = StandardScaler().fit_transform(df[d.cat_cols])\n",
    "\n",
    "    for i in range(100):\n",
    "        kmeans = KMeans(n_clusters=len(np.unique(d.y)), n_init=\"auto\").fit(df.values)\n",
    "        total_nmi += normalized_mutual_info_score(d.y, kmeans.labels_)\n",
    "        \n",
    "    nmis[d.name][\"Naive k-means\"] = total_nmi / 100"
   ]
  },
  {
   "cell_type": "code",
   "execution_count": 4,
   "metadata": {
    "ExecuteTime": {
     "end_time": "2023-07-17T17:35:05.333256687Z",
     "start_time": "2023-07-17T17:34:08.610244031Z"
    }
   },
   "outputs": [
    {
     "name": "stdout",
     "output_type": "stream",
     "text": [
      "Calculating for Soybean Disease...\n",
      "Calculating for Heart Disease...\n",
      "Calculating for Breast Cancer...\n",
      "Calculating for Bank Marketing...\n",
      "Calculating for Census Income...\n",
      "Calculating for Credit Approval...\n"
     ]
    }
   ],
   "source": [
    "# KMeans with One-Hot Encoding\n",
    "def encode_feature(df, feature_to_encode):\n",
    "    dummies = pd.get_dummies(df[feature_to_encode].astype(str), dtype=float, prefix=feature_to_encode)\n",
    "    result_df = pd.concat([df, dummies], axis=1)\n",
    "    result_df.drop(columns=feature_to_encode, inplace=True)\n",
    "    return result_df\n",
    "\n",
    "for d in datasets:\n",
    "    print(f\"Calculating for {d.name}...\")\n",
    "    total_nmi = 0\n",
    "    df = d.df.copy(deep=True)\n",
    "\n",
    "    for col in d.cat_cols:\n",
    "        df = encode_feature(df, col)\n",
    "\n",
    "    for i in range(100):\n",
    "        kmeans = KMeans(n_clusters=len(np.unique(d.y)), n_init=\"auto\").fit(df.values)\n",
    "        total_nmi += normalized_mutual_info_score(d.y, kmeans.labels_)\n",
    "\n",
    "    nmis[d.name][\"k-means one-hot\"] = total_nmi / 100"
   ]
  },
  {
   "cell_type": "code",
   "execution_count": 5,
   "outputs": [
    {
     "name": "stdout",
     "output_type": "stream",
     "text": [
      "Calculating for Soybean Disease...\n",
      "Calculating for Heart Disease...\n",
      "Calculating for Breast Cancer...\n",
      "Calculating for Bank Marketing...\n",
      "Calculating for Census Income...\n",
      "Calculating for Credit Approval...\n"
     ]
    }
   ],
   "source": [
    "# KPrototypes\n",
    "for d in datasets:\n",
    "    print(f\"Calculating for {d.name}...\")\n",
    "    total_nmi = 0\n",
    "    df = d.df.copy(deep=True)\n",
    "\n",
    "    for i in range(1):\n",
    "        if not d.cont_cols:\n",
    "            clust = KModes(n_clusters=len(np.unique(d.y)), verbose=None, n_jobs=-1).fit(df.values)\n",
    "        else:\n",
    "            clust = KPrototypes(n_clusters=len(np.unique(d.y)), verbose=None, n_jobs=-1).fit(df.values, categorical=[df.columns.get_loc(col) for col in d.cat_cols])\n",
    "        total_nmi += normalized_mutual_info_score(d.y, clust.labels_)\n",
    "\n",
    "    nmis[d.name][\"k-prototypes\"] = total_nmi / 1"
   ],
   "metadata": {
    "collapsed": false,
    "ExecuteTime": {
     "end_time": "2023-07-17T17:38:19.508910941Z",
     "start_time": "2023-07-17T17:35:05.333051177Z"
    }
   }
  },
  {
   "cell_type": "code",
   "execution_count": 8,
   "outputs": [
    {
     "name": "stdout",
     "output_type": "stream",
     "text": [
      "Calculating for Soybean Disease...\n"
     ]
    },
    {
     "name": "stderr",
     "output_type": "stream",
     "text": [
      "100%|██████████| 562/562 [00:00<00:00, 13943.22it/s]\n"
     ]
    },
    {
     "name": "stdout",
     "output_type": "stream",
     "text": [
      "Calculating for Heart Disease...\n"
     ]
    },
    {
     "name": "stderr",
     "output_type": "stream",
     "text": [
      "100%|██████████| 299/299 [00:00<00:00, 42085.20it/s]\n"
     ]
    },
    {
     "name": "stdout",
     "output_type": "stream",
     "text": [
      "Calculating for Breast Cancer...\n"
     ]
    },
    {
     "name": "stderr",
     "output_type": "stream",
     "text": [
      "100%|██████████| 683/683 [00:00<00:00, 31513.92it/s]\n"
     ]
    },
    {
     "name": "stdout",
     "output_type": "stream",
     "text": [
      "Calculating for Bank Marketing...\n"
     ]
    },
    {
     "name": "stderr",
     "output_type": "stream",
     "text": [
      "100%|██████████| 2000/2000 [00:00<00:00, 12768.73it/s]\n"
     ]
    },
    {
     "name": "stdout",
     "output_type": "stream",
     "text": [
      "Calculating for Census Income...\n"
     ]
    },
    {
     "name": "stderr",
     "output_type": "stream",
     "text": [
      "100%|██████████| 2000/2000 [00:00<00:00, 12287.76it/s]\n"
     ]
    },
    {
     "name": "stdout",
     "output_type": "stream",
     "text": [
      "Calculating for Credit Approval...\n"
     ]
    },
    {
     "name": "stderr",
     "output_type": "stream",
     "text": [
      "100%|██████████| 653/653 [00:00<00:00, 28326.70it/s]\n"
     ]
    }
   ],
   "source": [
    "# Gower Distance + Agglomerative Clustering\n",
    "for d in datasets:\n",
    "    print(f\"Calculating for {d.name}...\")\n",
    "    total_nmi = 0\n",
    "    df = d.df.copy(deep=True)\n",
    "    if df.shape[0] > 10000:\n",
    "        df = df.head(2000)\n",
    "        d.y = np.copy(d.y)[:2000]\n",
    "\n",
    "    for i in range(1):\n",
    "        distance_matrix = gower_matrix_duped(df.astype(float))\n",
    "        clust = AgglomerativeClustering(n_clusters=len(np.unique(d.y)), metric=\"precomputed\", linkage=\"average\").fit_predict(distance_matrix)\n",
    "        total_nmi += normalized_mutual_info_score(d.y, clust)\n",
    "        del distance_matrix, clust\n",
    "        gc.collect()\n",
    "\n",
    "    nmis[d.name][\"Gower Distance + Agglomerative Clustering\"] = total_nmi / 1"
   ],
   "metadata": {
    "collapsed": false,
    "ExecuteTime": {
     "end_time": "2023-07-17T17:47:47.156444278Z",
     "start_time": "2023-07-17T17:47:46.399768986Z"
    }
   }
  },
  {
   "cell_type": "code",
   "execution_count": 9,
   "outputs": [
    {
     "data": {
      "text/plain": "                 Naive k-means  k-means one-hot  k-prototypes  \\\nSoybean Disease       0.682423         0.678341      0.694658   \nHeart Disease         0.199321         0.192299      0.189973   \nBreast Cancer         0.750027         0.735109      0.587960   \nBank Marketing        0.016164         0.029781      0.017566   \nCensus Income         0.075318         0.153712      0.033596   \nCredit Approval       0.180201         0.159079      0.114664   \n\n                 Gower Distance + Agglomerative Clustering  \nSoybean Disease                                   0.669526  \nHeart Disease                                     0.140792  \nBreast Cancer                                     0.537113  \nBank Marketing                                    0.000356  \nCensus Income                                     0.000507  \nCredit Approval                                   0.003465  ",
      "text/html": "<div>\n<style scoped>\n    .dataframe tbody tr th:only-of-type {\n        vertical-align: middle;\n    }\n\n    .dataframe tbody tr th {\n        vertical-align: top;\n    }\n\n    .dataframe thead th {\n        text-align: right;\n    }\n</style>\n<table border=\"1\" class=\"dataframe\">\n  <thead>\n    <tr style=\"text-align: right;\">\n      <th></th>\n      <th>Naive k-means</th>\n      <th>k-means one-hot</th>\n      <th>k-prototypes</th>\n      <th>Gower Distance + Agglomerative Clustering</th>\n    </tr>\n  </thead>\n  <tbody>\n    <tr>\n      <th>Soybean Disease</th>\n      <td>0.682423</td>\n      <td>0.678341</td>\n      <td>0.694658</td>\n      <td>0.669526</td>\n    </tr>\n    <tr>\n      <th>Heart Disease</th>\n      <td>0.199321</td>\n      <td>0.192299</td>\n      <td>0.189973</td>\n      <td>0.140792</td>\n    </tr>\n    <tr>\n      <th>Breast Cancer</th>\n      <td>0.750027</td>\n      <td>0.735109</td>\n      <td>0.587960</td>\n      <td>0.537113</td>\n    </tr>\n    <tr>\n      <th>Bank Marketing</th>\n      <td>0.016164</td>\n      <td>0.029781</td>\n      <td>0.017566</td>\n      <td>0.000356</td>\n    </tr>\n    <tr>\n      <th>Census Income</th>\n      <td>0.075318</td>\n      <td>0.153712</td>\n      <td>0.033596</td>\n      <td>0.000507</td>\n    </tr>\n    <tr>\n      <th>Credit Approval</th>\n      <td>0.180201</td>\n      <td>0.159079</td>\n      <td>0.114664</td>\n      <td>0.003465</td>\n    </tr>\n  </tbody>\n</table>\n</div>"
     },
     "execution_count": 9,
     "metadata": {},
     "output_type": "execute_result"
    }
   ],
   "source": [
    "pd.DataFrame(nmis.values(), index=nmis.keys())"
   ],
   "metadata": {
    "collapsed": false,
    "ExecuteTime": {
     "end_time": "2023-07-17T17:47:49.670687692Z",
     "start_time": "2023-07-17T17:47:49.667632749Z"
    }
   }
  },
  {
   "cell_type": "code",
   "execution_count": null,
   "outputs": [],
   "source": [],
   "metadata": {
    "collapsed": false
   }
  }
 ],
 "metadata": {
  "kernelspec": {
   "display_name": "venv",
   "language": "python",
   "name": "python3"
  },
  "language_info": {
   "codemirror_mode": {
    "name": "ipython",
    "version": 3
   },
   "file_extension": ".py",
   "mimetype": "text/x-python",
   "name": "python",
   "nbconvert_exporter": "python",
   "pygments_lexer": "ipython3",
   "version": "3.11.2"
  },
  "orig_nbformat": 4
 },
 "nbformat": 4,
 "nbformat_minor": 2
}
