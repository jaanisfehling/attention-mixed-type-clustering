{
 "cells": [
  {
   "cell_type": "code",
   "execution_count": 6,
   "metadata": {
    "collapsed": true,
    "ExecuteTime": {
     "end_time": "2023-05-20T19:38:24.246260200Z",
     "start_time": "2023-05-20T19:38:23.678880800Z"
    }
   },
   "outputs": [],
   "source": [
    "import numpy as np\n",
    "import pandas as pd\n",
    "import matplotlib.pyplot as plt\n",
    "from sklearn.preprocessing import MinMaxScaler\n",
    "from sklearn.preprocessing import LabelEncoder\n",
    "from sklearn.cluster import KMeans\n",
    "from sklearn.manifold import TSNE\n",
    "from sklearn.metrics import silhouette_score\n",
    "from torch.utils.data import dataloader, Dataset, DataLoader\n",
    "import torch\n",
    "import torch.nn as nn\n",
    "import torch.optim as optim\n",
    "import torch\n",
    "from torch.nn import Embedding\n",
    "import torch\n",
    "import torch.nn as nn\n",
    "import torch.nn.functional as F"
   ]
  },
  {
   "cell_type": "code",
   "execution_count": 7,
   "outputs": [
    {
     "data": {
      "text/plain": "       KIDSDRIV  AGE  HOMEKIDS  YOJ  INCOME PARENT1  HOME_VAL MSTATUS GENDER   \n0             0   60         0   11   67349      NO         0      NO      M  \\\n1             0   43         0   11   91449      NO    257252      NO      M   \n2             0   48         0   11   52881      NO         0      NO      M   \n3             0   35         1   10   16039      NO    124191     YES      F   \n4             0   51         0   14       0      NO    306251     YES      M   \n...         ...  ...       ...  ...     ...     ...       ...     ...    ...   \n10297         1   45         2    9  164669      NO    386273     YES      M   \n10298         0   46         0    9  107204      NO    332591     YES      M   \n10299         0   48         0   15   39837      NO    170611     YES      F   \n10300         0   50         0    7   43445      NO    149248     YES      F   \n10301         0   52         0   11   53235      NO    197017     YES      F   \n\n         EDUCATION  ...    CAR_TYPE  RED_CAR OLDCLAIM  CLM_FREQ  REVOKED   \n0              PHD  ...     MINIVAN      YES     4461         2       NO  \\\n1       HIGHSCHOOL  ...     MINIVAN      YES        0         0       NO   \n2        BACHELORS  ...         VAN      YES        0         0       NO   \n3       HIGHSCHOOL  ...         SUV       NO    38690         2       NO   \n4      <HIGHSCHOOL  ...     MINIVAN      YES        0         0       NO   \n...            ...  ...         ...      ...      ...       ...      ...   \n10297          PHD  ...     MINIVAN       NO        0         0       NO   \n10298      MASTERS  ...  PANELTRUCK       NO        0         0       NO   \n10299  <HIGHSCHOOL  ...         SUV       NO        0         0       NO   \n10300    BACHELORS  ...     MINIVAN       NO        0         0       NO   \n10301   HIGHSCHOOL  ...     MINIVAN       NO        0         0       NO   \n\n      MVR_PTS CLM_AMT  CAR_AGE  CLAIM_FLAG   AREA  \n0           3       0       18           0  URBAN  \n1           0       0        1           0  URBAN  \n2           2       0       10           0  URBAN  \n3           3       0       10           0  URBAN  \n4           0       0        6           0  URBAN  \n...       ...     ...      ...         ...    ...  \n10297       2       0       17           0  URBAN  \n10298       0       0        1           0  URBAN  \n10299       0       0        1           0  URBAN  \n10300       0       0       11           0  URBAN  \n10301       0       0        9           0  RURAL  \n\n[10302 rows x 25 columns]",
      "text/html": "<div>\n<style scoped>\n    .dataframe tbody tr th:only-of-type {\n        vertical-align: middle;\n    }\n\n    .dataframe tbody tr th {\n        vertical-align: top;\n    }\n\n    .dataframe thead th {\n        text-align: right;\n    }\n</style>\n<table border=\"1\" class=\"dataframe\">\n  <thead>\n    <tr style=\"text-align: right;\">\n      <th></th>\n      <th>KIDSDRIV</th>\n      <th>AGE</th>\n      <th>HOMEKIDS</th>\n      <th>YOJ</th>\n      <th>INCOME</th>\n      <th>PARENT1</th>\n      <th>HOME_VAL</th>\n      <th>MSTATUS</th>\n      <th>GENDER</th>\n      <th>EDUCATION</th>\n      <th>...</th>\n      <th>CAR_TYPE</th>\n      <th>RED_CAR</th>\n      <th>OLDCLAIM</th>\n      <th>CLM_FREQ</th>\n      <th>REVOKED</th>\n      <th>MVR_PTS</th>\n      <th>CLM_AMT</th>\n      <th>CAR_AGE</th>\n      <th>CLAIM_FLAG</th>\n      <th>AREA</th>\n    </tr>\n  </thead>\n  <tbody>\n    <tr>\n      <th>0</th>\n      <td>0</td>\n      <td>60</td>\n      <td>0</td>\n      <td>11</td>\n      <td>67349</td>\n      <td>NO</td>\n      <td>0</td>\n      <td>NO</td>\n      <td>M</td>\n      <td>PHD</td>\n      <td>...</td>\n      <td>MINIVAN</td>\n      <td>YES</td>\n      <td>4461</td>\n      <td>2</td>\n      <td>NO</td>\n      <td>3</td>\n      <td>0</td>\n      <td>18</td>\n      <td>0</td>\n      <td>URBAN</td>\n    </tr>\n    <tr>\n      <th>1</th>\n      <td>0</td>\n      <td>43</td>\n      <td>0</td>\n      <td>11</td>\n      <td>91449</td>\n      <td>NO</td>\n      <td>257252</td>\n      <td>NO</td>\n      <td>M</td>\n      <td>HIGHSCHOOL</td>\n      <td>...</td>\n      <td>MINIVAN</td>\n      <td>YES</td>\n      <td>0</td>\n      <td>0</td>\n      <td>NO</td>\n      <td>0</td>\n      <td>0</td>\n      <td>1</td>\n      <td>0</td>\n      <td>URBAN</td>\n    </tr>\n    <tr>\n      <th>2</th>\n      <td>0</td>\n      <td>48</td>\n      <td>0</td>\n      <td>11</td>\n      <td>52881</td>\n      <td>NO</td>\n      <td>0</td>\n      <td>NO</td>\n      <td>M</td>\n      <td>BACHELORS</td>\n      <td>...</td>\n      <td>VAN</td>\n      <td>YES</td>\n      <td>0</td>\n      <td>0</td>\n      <td>NO</td>\n      <td>2</td>\n      <td>0</td>\n      <td>10</td>\n      <td>0</td>\n      <td>URBAN</td>\n    </tr>\n    <tr>\n      <th>3</th>\n      <td>0</td>\n      <td>35</td>\n      <td>1</td>\n      <td>10</td>\n      <td>16039</td>\n      <td>NO</td>\n      <td>124191</td>\n      <td>YES</td>\n      <td>F</td>\n      <td>HIGHSCHOOL</td>\n      <td>...</td>\n      <td>SUV</td>\n      <td>NO</td>\n      <td>38690</td>\n      <td>2</td>\n      <td>NO</td>\n      <td>3</td>\n      <td>0</td>\n      <td>10</td>\n      <td>0</td>\n      <td>URBAN</td>\n    </tr>\n    <tr>\n      <th>4</th>\n      <td>0</td>\n      <td>51</td>\n      <td>0</td>\n      <td>14</td>\n      <td>0</td>\n      <td>NO</td>\n      <td>306251</td>\n      <td>YES</td>\n      <td>M</td>\n      <td>&lt;HIGHSCHOOL</td>\n      <td>...</td>\n      <td>MINIVAN</td>\n      <td>YES</td>\n      <td>0</td>\n      <td>0</td>\n      <td>NO</td>\n      <td>0</td>\n      <td>0</td>\n      <td>6</td>\n      <td>0</td>\n      <td>URBAN</td>\n    </tr>\n    <tr>\n      <th>...</th>\n      <td>...</td>\n      <td>...</td>\n      <td>...</td>\n      <td>...</td>\n      <td>...</td>\n      <td>...</td>\n      <td>...</td>\n      <td>...</td>\n      <td>...</td>\n      <td>...</td>\n      <td>...</td>\n      <td>...</td>\n      <td>...</td>\n      <td>...</td>\n      <td>...</td>\n      <td>...</td>\n      <td>...</td>\n      <td>...</td>\n      <td>...</td>\n      <td>...</td>\n      <td>...</td>\n    </tr>\n    <tr>\n      <th>10297</th>\n      <td>1</td>\n      <td>45</td>\n      <td>2</td>\n      <td>9</td>\n      <td>164669</td>\n      <td>NO</td>\n      <td>386273</td>\n      <td>YES</td>\n      <td>M</td>\n      <td>PHD</td>\n      <td>...</td>\n      <td>MINIVAN</td>\n      <td>NO</td>\n      <td>0</td>\n      <td>0</td>\n      <td>NO</td>\n      <td>2</td>\n      <td>0</td>\n      <td>17</td>\n      <td>0</td>\n      <td>URBAN</td>\n    </tr>\n    <tr>\n      <th>10298</th>\n      <td>0</td>\n      <td>46</td>\n      <td>0</td>\n      <td>9</td>\n      <td>107204</td>\n      <td>NO</td>\n      <td>332591</td>\n      <td>YES</td>\n      <td>M</td>\n      <td>MASTERS</td>\n      <td>...</td>\n      <td>PANELTRUCK</td>\n      <td>NO</td>\n      <td>0</td>\n      <td>0</td>\n      <td>NO</td>\n      <td>0</td>\n      <td>0</td>\n      <td>1</td>\n      <td>0</td>\n      <td>URBAN</td>\n    </tr>\n    <tr>\n      <th>10299</th>\n      <td>0</td>\n      <td>48</td>\n      <td>0</td>\n      <td>15</td>\n      <td>39837</td>\n      <td>NO</td>\n      <td>170611</td>\n      <td>YES</td>\n      <td>F</td>\n      <td>&lt;HIGHSCHOOL</td>\n      <td>...</td>\n      <td>SUV</td>\n      <td>NO</td>\n      <td>0</td>\n      <td>0</td>\n      <td>NO</td>\n      <td>0</td>\n      <td>0</td>\n      <td>1</td>\n      <td>0</td>\n      <td>URBAN</td>\n    </tr>\n    <tr>\n      <th>10300</th>\n      <td>0</td>\n      <td>50</td>\n      <td>0</td>\n      <td>7</td>\n      <td>43445</td>\n      <td>NO</td>\n      <td>149248</td>\n      <td>YES</td>\n      <td>F</td>\n      <td>BACHELORS</td>\n      <td>...</td>\n      <td>MINIVAN</td>\n      <td>NO</td>\n      <td>0</td>\n      <td>0</td>\n      <td>NO</td>\n      <td>0</td>\n      <td>0</td>\n      <td>11</td>\n      <td>0</td>\n      <td>URBAN</td>\n    </tr>\n    <tr>\n      <th>10301</th>\n      <td>0</td>\n      <td>52</td>\n      <td>0</td>\n      <td>11</td>\n      <td>53235</td>\n      <td>NO</td>\n      <td>197017</td>\n      <td>YES</td>\n      <td>F</td>\n      <td>HIGHSCHOOL</td>\n      <td>...</td>\n      <td>MINIVAN</td>\n      <td>NO</td>\n      <td>0</td>\n      <td>0</td>\n      <td>NO</td>\n      <td>0</td>\n      <td>0</td>\n      <td>9</td>\n      <td>0</td>\n      <td>RURAL</td>\n    </tr>\n  </tbody>\n</table>\n<p>10302 rows × 25 columns</p>\n</div>"
     },
     "execution_count": 7,
     "metadata": {},
     "output_type": "execute_result"
    }
   ],
   "source": [
    "df = pd.read_csv(\"datasets/car_insurance_claim.csv\")\n",
    "\n",
    "for col in [\"INCOME\",\"HOME_VAL\",\"BLUEBOOK\",\"OLDCLAIM\", \"CLM_AMT\",]:\n",
    "    df[col] = df[col].replace(\"[^.0-9]\", \"\", regex=True).astype(float).fillna(0.0)\n",
    "\n",
    "for col in df.select_dtypes(include=\"object\").columns:\n",
    "    df[col] = df[col].str.upper().replace(\"Z_\", \"\", regex=True).replace(\"[^A-Z<]\", \"\", regex=True)\n",
    "\n",
    "df.drop(labels=[\"ID\",\"BIRTH\"], axis=1, inplace=True)\n",
    "\n",
    "df[\"OCCUPATION\"].fillna(\"OTHER\", inplace=True)\n",
    "for col in [\"AGE\",\"YOJ\",\"CAR_AGE\"]:\n",
    "    df[col].fillna(df[col].mean(), inplace=True)\n",
    "\n",
    "for col in df.select_dtypes(include=[float]):\n",
    "    df[col] = df[col].astype(int)\n",
    "\n",
    "df[\"URBANICITY\"] = df[\"URBANICITY\"].map({\"HIGHLYURBANURBAN\":\"URBAN\", \"HIGHLYRURALRURAL\":\"RURAL\"})\n",
    "df.rename(columns={\"URBANICITY\": \"AREA\"}, inplace=True)\n",
    "\n",
    "categorical_features = [\"CAR_USE\", \"REVOKED\", \"RED_CAR\", \"GENDER\", \"MSTATUS\", \"AREA\", \"PARENT1\", \"EDUCATION\", \"KIDSDRIV\", \"HOMEKIDS\", \"CAR_TYPE\", \"OCCUPATION\", \"MVR_PTS\", \"CLAIM_FLAG\"]\n",
    "numerical_features = [\"AGE\", \"YOJ\", \"INCOME\", \"HOME_VAL\", \"TRAVTIME\", \"BLUEBOOK\", \"TIF\", \"OLDCLAIM\", \"CLM_FREQ\", \"CLM_AMT\", \"CAR_AGE\"]\n",
    "\n",
    "df"
   ],
   "metadata": {
    "collapsed": false,
    "ExecuteTime": {
     "end_time": "2023-05-20T19:38:24.276677500Z",
     "start_time": "2023-05-20T19:38:24.251270900Z"
    }
   }
  },
  {
   "cell_type": "code",
   "execution_count": 8,
   "outputs": [],
   "source": [
    "df_cat = df[categorical_features].apply(LabelEncoder().fit_transform)\n",
    "df_cont = df[numerical_features]\n",
    "\n",
    "x_cat_tensor = torch.tensor(df_cat.values, dtype=torch.long)\n",
    "x_cont_tensor = torch.tensor(df_cont.values, dtype=torch.float)"
   ],
   "metadata": {
    "collapsed": false,
    "ExecuteTime": {
     "end_time": "2023-05-20T19:38:24.276677500Z",
     "start_time": "2023-05-20T19:38:24.253270200Z"
    }
   }
  },
  {
   "cell_type": "code",
   "execution_count": 11,
   "outputs": [
    {
     "ename": "TypeError",
     "evalue": "empty() received an invalid combination of arguments - got (tuple, dtype=NoneType, device=NoneType), but expected one of:\n * (tuple of ints size, *, tuple of names names, torch.memory_format memory_format, torch.dtype dtype, torch.layout layout, torch.device device, bool pin_memory, bool requires_grad)\n * (tuple of ints size, *, torch.memory_format memory_format, Tensor out, torch.dtype dtype, torch.layout layout, torch.device device, bool pin_memory, bool requires_grad)\n",
     "output_type": "error",
     "traceback": [
      "\u001B[1;31m---------------------------------------------------------------------------\u001B[0m",
      "\u001B[1;31mTypeError\u001B[0m                                 Traceback (most recent call last)",
      "Cell \u001B[1;32mIn[11], line 72\u001B[0m\n\u001B[0;32m     69\u001B[0m lr \u001B[38;5;241m=\u001B[39m \u001B[38;5;241m.\u001B[39m\u001B[38;5;241m.\u001B[39m\u001B[38;5;241m.\u001B[39m       \u001B[38;5;66;03m# Learning rate\u001B[39;00m\n\u001B[0;32m     71\u001B[0m \u001B[38;5;66;03m# Create model\u001B[39;00m\n\u001B[1;32m---> 72\u001B[0m model \u001B[38;5;241m=\u001B[39m \u001B[43mMixedTypeClusteringModel\u001B[49m\u001B[43m(\u001B[49m\u001B[43mn_cat\u001B[49m\u001B[43m,\u001B[49m\u001B[43m \u001B[49m\u001B[43memb_dim\u001B[49m\u001B[43m,\u001B[49m\u001B[43m \u001B[49m\u001B[43mn_cont\u001B[49m\u001B[43m,\u001B[49m\u001B[43m \u001B[49m\u001B[43mattn_dim\u001B[49m\u001B[43m,\u001B[49m\u001B[43m \u001B[49m\u001B[43mn_clusters\u001B[49m\u001B[43m)\u001B[49m\n\u001B[0;32m     74\u001B[0m \u001B[38;5;66;03m# Loss function and optimizer\u001B[39;00m\n\u001B[0;32m     75\u001B[0m criterion \u001B[38;5;241m=\u001B[39m nn\u001B[38;5;241m.\u001B[39mCrossEntropyLoss()\n",
      "Cell \u001B[1;32mIn[11], line 32\u001B[0m, in \u001B[0;36mMixedTypeClusteringModel.__init__\u001B[1;34m(self, n_cat, emb_dim, n_cont, attn_dim, n_clusters)\u001B[0m\n\u001B[0;32m     29\u001B[0m \u001B[38;5;28mself\u001B[39m\u001B[38;5;241m.\u001B[39mattn_dim \u001B[38;5;241m=\u001B[39m attn_dim\n\u001B[0;32m     30\u001B[0m \u001B[38;5;28mself\u001B[39m\u001B[38;5;241m.\u001B[39mn_clusters \u001B[38;5;241m=\u001B[39m n_clusters\n\u001B[1;32m---> 32\u001B[0m \u001B[38;5;28mself\u001B[39m\u001B[38;5;241m.\u001B[39membedding \u001B[38;5;241m=\u001B[39m \u001B[43mEmbedding\u001B[49m\u001B[43m(\u001B[49m\u001B[43mn_cat\u001B[49m\u001B[43m,\u001B[49m\u001B[43m \u001B[49m\u001B[43memb_dim\u001B[49m\u001B[43m)\u001B[49m\n\u001B[0;32m     33\u001B[0m \u001B[38;5;28mself\u001B[39m\u001B[38;5;241m.\u001B[39mself_attention \u001B[38;5;241m=\u001B[39m SelfAttention(emb_dim \u001B[38;5;241m+\u001B[39m n_cont, attn_dim)\n",
      "File \u001B[1;32m~\\repos\\attention-mixed-type-clustering\\venv\\Lib\\site-packages\\torch\\nn\\modules\\sparse.py:142\u001B[0m, in \u001B[0;36mEmbedding.__init__\u001B[1;34m(self, num_embeddings, embedding_dim, padding_idx, max_norm, norm_type, scale_grad_by_freq, sparse, _weight, _freeze, device, dtype)\u001B[0m\n\u001B[0;32m    140\u001B[0m \u001B[38;5;28mself\u001B[39m\u001B[38;5;241m.\u001B[39mscale_grad_by_freq \u001B[38;5;241m=\u001B[39m scale_grad_by_freq\n\u001B[0;32m    141\u001B[0m \u001B[38;5;28;01mif\u001B[39;00m _weight \u001B[38;5;129;01mis\u001B[39;00m \u001B[38;5;28;01mNone\u001B[39;00m:\n\u001B[1;32m--> 142\u001B[0m     \u001B[38;5;28mself\u001B[39m\u001B[38;5;241m.\u001B[39mweight \u001B[38;5;241m=\u001B[39m Parameter(\u001B[43mtorch\u001B[49m\u001B[38;5;241;43m.\u001B[39;49m\u001B[43mempty\u001B[49m\u001B[43m(\u001B[49m\u001B[43m(\u001B[49m\u001B[43mnum_embeddings\u001B[49m\u001B[43m,\u001B[49m\u001B[43m \u001B[49m\u001B[43membedding_dim\u001B[49m\u001B[43m)\u001B[49m\u001B[43m,\u001B[49m\u001B[43m \u001B[49m\u001B[38;5;241;43m*\u001B[39;49m\u001B[38;5;241;43m*\u001B[39;49m\u001B[43mfactory_kwargs\u001B[49m\u001B[43m)\u001B[49m,\n\u001B[0;32m    143\u001B[0m                             requires_grad\u001B[38;5;241m=\u001B[39m\u001B[38;5;129;01mnot\u001B[39;00m _freeze)\n\u001B[0;32m    144\u001B[0m     \u001B[38;5;28mself\u001B[39m\u001B[38;5;241m.\u001B[39mreset_parameters()\n\u001B[0;32m    145\u001B[0m \u001B[38;5;28;01melse\u001B[39;00m:\n",
      "\u001B[1;31mTypeError\u001B[0m: empty() received an invalid combination of arguments - got (tuple, dtype=NoneType, device=NoneType), but expected one of:\n * (tuple of ints size, *, tuple of names names, torch.memory_format memory_format, torch.dtype dtype, torch.layout layout, torch.device device, bool pin_memory, bool requires_grad)\n * (tuple of ints size, *, torch.memory_format memory_format, Tensor out, torch.dtype dtype, torch.layout layout, torch.device device, bool pin_memory, bool requires_grad)\n"
     ]
    }
   ],
   "source": [
    "class SelfAttention(nn.Module):\n",
    "    def __init__(self, input_dim, attn_dim):\n",
    "        super(SelfAttention, self).__init__()\n",
    "        self.input_dim = input_dim\n",
    "        self.attn_dim = attn_dim\n",
    "\n",
    "        self.query = nn.Linear(input_dim, attn_dim)\n",
    "        self.key = nn.Linear(input_dim, attn_dim)\n",
    "        self.value = nn.Linear(input_dim, attn_dim)\n",
    "\n",
    "    def forward(self, x):\n",
    "        q = self.query(x)\n",
    "        k = self.key(x)\n",
    "        v = self.value(x)\n",
    "\n",
    "        attn_weights = F.softmax(q @ k.transpose(-2, -1) / self.attn_dim**0.5, dim=-1)\n",
    "        output = attn_weights @ v\n",
    "\n",
    "        return output, attn_weights\n",
    "\n",
    "\n",
    "class MixedTypeClusteringModel(nn.Module):\n",
    "    def __init__(self, n_cat, emb_dim, n_cont, attn_dim, n_clusters):\n",
    "        super(MixedTypeClusteringModel, self).__init__()\n",
    "\n",
    "        self.n_cat = n_cat\n",
    "        self.emb_dim = emb_dim\n",
    "        self.n_cont = n_cont\n",
    "        self.attn_dim = attn_dim\n",
    "        self.n_clusters = n_clusters\n",
    "\n",
    "        self.embedding = Embedding(n_cat, emb_dim)\n",
    "        self.self_attention = SelfAttention(emb_dim + n_cont, attn_dim)\n",
    "\n",
    "    def forward(self, x_cat, x_cont):\n",
    "        # Embed categorical variables\n",
    "        x_cat_emb = self.embedding(x_cat)\n",
    "\n",
    "        # Concatenate with continuous variables\n",
    "        x = torch.cat([x_cat_emb, x_cont], dim=1)\n",
    "\n",
    "        # Apply self-attention\n",
    "        x_transformed, attn_weights = self.self_attention(x)\n",
    "\n",
    "        return x_transformed, attn_weights\n",
    "\n",
    "    def fit(self, x_cat, x_cont):\n",
    "        # Embed categorical variables\n",
    "        x_cat_emb = self.embedding(x_cat)\n",
    "\n",
    "        # Concatenate with continuous variables\n",
    "        x = torch.cat([x_cat_emb, x_cont], dim=1)\n",
    "\n",
    "        # Apply self-attention\n",
    "        x_transformed, attn_weights = self.self_attention(x)\n",
    "\n",
    "        # Perform KMeans clustering\n",
    "        kmeans = KMeans(n_init=\"auto\",n_clusters=2, random_state=0).fit(df)\n",
    "\n",
    "        return kmeans\n",
    "\n",
    "# Hyperparameters\n",
    "n_cat = ...    # Number of unique values in categorical data\n",
    "emb_dim = ...  # Dimension of embeddings\n",
    "n_cont = ...   # Number of continuous variables\n",
    "attn_dim = ... # Dimension of attention\n",
    "n_clusters = ... # Number of clusters\n",
    "epochs = ...   # Number of epochs\n",
    "lr = ...       # Learning rate\n",
    "\n",
    "# Create model\n",
    "model = MixedTypeClusteringModel(n_cat, emb_dim, n_cont, attn_dim, n_clusters)\n",
    "\n",
    "# Loss function and optimizer\n",
    "criterion = nn.CrossEntropyLoss()\n",
    "optimizer = torch.optim.Adam(model.parameters(), lr=lr)\n",
    "\n",
    "for epoch in range(epochs):\n",
    "    model.train()\n",
    "\n",
    "    # Forward pass\n",
    "    x_transformed, attn_weights = model(x_cat_tensor, x_cont_tensor)\n",
    "\n",
    "    # Compute loss\n",
    "    cluster_ids_x, cluster_centers = model.fit(x_cat_tensor, x_cont_tensor)\n",
    "    loss = criterion(x_transformed, cluster_ids_x)\n",
    "\n",
    "    # Backward pass and optimization\n",
    "    optimizer.zero_grad()\n",
    "    loss.backward()\n",
    "    optimizer.step()\n",
    "\n",
    "    # Print loss for every epoch\n",
    "    print(f'Epoch {epoch+1}, Loss {loss.item()}')"
   ],
   "metadata": {
    "collapsed": false,
    "ExecuteTime": {
     "end_time": "2023-05-20T19:41:17.462517600Z",
     "start_time": "2023-05-20T19:41:17.391614900Z"
    }
   }
  }
 ],
 "metadata": {
  "kernelspec": {
   "display_name": "Python 3",
   "language": "python",
   "name": "python3"
  },
  "language_info": {
   "codemirror_mode": {
    "name": "ipython",
    "version": 2
   },
   "file_extension": ".py",
   "mimetype": "text/x-python",
   "name": "python",
   "nbconvert_exporter": "python",
   "pygments_lexer": "ipython2",
   "version": "2.7.6"
  }
 },
 "nbformat": 4,
 "nbformat_minor": 0
}
