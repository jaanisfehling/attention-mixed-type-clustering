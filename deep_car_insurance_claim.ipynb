{
 "cells": [
  {
   "cell_type": "code",
   "execution_count": 13,
   "metadata": {
    "collapsed": true,
    "ExecuteTime": {
     "start_time": "2023-05-17T20:38:25.720831Z",
     "end_time": "2023-05-17T20:38:25.729351Z"
    }
   },
   "outputs": [],
   "source": [
    "import numpy as np\n",
    "import pandas as pd\n",
    "import matplotlib.pyplot as plt\n",
    "from sklearn.preprocessing import MinMaxScaler\n",
    "from sklearn.cluster import KMeans\n",
    "from sklearn.manifold import TSNE\n",
    "from sklearn.metrics import silhouette_score\n",
    "from torch.utils.data import dataloader, Dataset, DataLoader\n",
    "import torch\n",
    "import torch.nn as nn\n",
    "import torch.optim as optim"
   ]
  },
  {
   "cell_type": "code",
   "execution_count": 14,
   "outputs": [
    {
     "data": {
      "text/plain": "       KIDSDRIV  AGE  HOMEKIDS  YOJ  INCOME PARENT1  HOME_VAL MSTATUS GENDER   \n0             0   60         0   11   67349      NO         0      NO      M  \\\n1             0   43         0   11   91449      NO    257252      NO      M   \n2             0   48         0   11   52881      NO         0      NO      M   \n3             0   35         1   10   16039      NO    124191     YES      F   \n4             0   51         0   14       0      NO    306251     YES      M   \n...         ...  ...       ...  ...     ...     ...       ...     ...    ...   \n10297         1   45         2    9  164669      NO    386273     YES      M   \n10298         0   46         0    9  107204      NO    332591     YES      M   \n10299         0   48         0   15   39837      NO    170611     YES      F   \n10300         0   50         0    7   43445      NO    149248     YES      F   \n10301         0   52         0   11   53235      NO    197017     YES      F   \n\n         EDUCATION  ...    CAR_TYPE  RED_CAR OLDCLAIM  CLM_FREQ  REVOKED   \n0              PHD  ...     MINIVAN      YES     4461         2       NO  \\\n1       HIGHSCHOOL  ...     MINIVAN      YES        0         0       NO   \n2        BACHELORS  ...         VAN      YES        0         0       NO   \n3       HIGHSCHOOL  ...         SUV       NO    38690         2       NO   \n4      <HIGHSCHOOL  ...     MINIVAN      YES        0         0       NO   \n...            ...  ...         ...      ...      ...       ...      ...   \n10297          PHD  ...     MINIVAN       NO        0         0       NO   \n10298      MASTERS  ...  PANELTRUCK       NO        0         0       NO   \n10299  <HIGHSCHOOL  ...         SUV       NO        0         0       NO   \n10300    BACHELORS  ...     MINIVAN       NO        0         0       NO   \n10301   HIGHSCHOOL  ...     MINIVAN       NO        0         0       NO   \n\n      MVR_PTS CLM_AMT  CAR_AGE  CLAIM_FLAG   AREA  \n0           3       0       18           0  URBAN  \n1           0       0        1           0  URBAN  \n2           2       0       10           0  URBAN  \n3           3       0       10           0  URBAN  \n4           0       0        6           0  URBAN  \n...       ...     ...      ...         ...    ...  \n10297       2       0       17           0  URBAN  \n10298       0       0        1           0  URBAN  \n10299       0       0        1           0  URBAN  \n10300       0       0       11           0  URBAN  \n10301       0       0        9           0  RURAL  \n\n[10302 rows x 25 columns]",
      "text/html": "<div>\n<style scoped>\n    .dataframe tbody tr th:only-of-type {\n        vertical-align: middle;\n    }\n\n    .dataframe tbody tr th {\n        vertical-align: top;\n    }\n\n    .dataframe thead th {\n        text-align: right;\n    }\n</style>\n<table border=\"1\" class=\"dataframe\">\n  <thead>\n    <tr style=\"text-align: right;\">\n      <th></th>\n      <th>KIDSDRIV</th>\n      <th>AGE</th>\n      <th>HOMEKIDS</th>\n      <th>YOJ</th>\n      <th>INCOME</th>\n      <th>PARENT1</th>\n      <th>HOME_VAL</th>\n      <th>MSTATUS</th>\n      <th>GENDER</th>\n      <th>EDUCATION</th>\n      <th>...</th>\n      <th>CAR_TYPE</th>\n      <th>RED_CAR</th>\n      <th>OLDCLAIM</th>\n      <th>CLM_FREQ</th>\n      <th>REVOKED</th>\n      <th>MVR_PTS</th>\n      <th>CLM_AMT</th>\n      <th>CAR_AGE</th>\n      <th>CLAIM_FLAG</th>\n      <th>AREA</th>\n    </tr>\n  </thead>\n  <tbody>\n    <tr>\n      <th>0</th>\n      <td>0</td>\n      <td>60</td>\n      <td>0</td>\n      <td>11</td>\n      <td>67349</td>\n      <td>NO</td>\n      <td>0</td>\n      <td>NO</td>\n      <td>M</td>\n      <td>PHD</td>\n      <td>...</td>\n      <td>MINIVAN</td>\n      <td>YES</td>\n      <td>4461</td>\n      <td>2</td>\n      <td>NO</td>\n      <td>3</td>\n      <td>0</td>\n      <td>18</td>\n      <td>0</td>\n      <td>URBAN</td>\n    </tr>\n    <tr>\n      <th>1</th>\n      <td>0</td>\n      <td>43</td>\n      <td>0</td>\n      <td>11</td>\n      <td>91449</td>\n      <td>NO</td>\n      <td>257252</td>\n      <td>NO</td>\n      <td>M</td>\n      <td>HIGHSCHOOL</td>\n      <td>...</td>\n      <td>MINIVAN</td>\n      <td>YES</td>\n      <td>0</td>\n      <td>0</td>\n      <td>NO</td>\n      <td>0</td>\n      <td>0</td>\n      <td>1</td>\n      <td>0</td>\n      <td>URBAN</td>\n    </tr>\n    <tr>\n      <th>2</th>\n      <td>0</td>\n      <td>48</td>\n      <td>0</td>\n      <td>11</td>\n      <td>52881</td>\n      <td>NO</td>\n      <td>0</td>\n      <td>NO</td>\n      <td>M</td>\n      <td>BACHELORS</td>\n      <td>...</td>\n      <td>VAN</td>\n      <td>YES</td>\n      <td>0</td>\n      <td>0</td>\n      <td>NO</td>\n      <td>2</td>\n      <td>0</td>\n      <td>10</td>\n      <td>0</td>\n      <td>URBAN</td>\n    </tr>\n    <tr>\n      <th>3</th>\n      <td>0</td>\n      <td>35</td>\n      <td>1</td>\n      <td>10</td>\n      <td>16039</td>\n      <td>NO</td>\n      <td>124191</td>\n      <td>YES</td>\n      <td>F</td>\n      <td>HIGHSCHOOL</td>\n      <td>...</td>\n      <td>SUV</td>\n      <td>NO</td>\n      <td>38690</td>\n      <td>2</td>\n      <td>NO</td>\n      <td>3</td>\n      <td>0</td>\n      <td>10</td>\n      <td>0</td>\n      <td>URBAN</td>\n    </tr>\n    <tr>\n      <th>4</th>\n      <td>0</td>\n      <td>51</td>\n      <td>0</td>\n      <td>14</td>\n      <td>0</td>\n      <td>NO</td>\n      <td>306251</td>\n      <td>YES</td>\n      <td>M</td>\n      <td>&lt;HIGHSCHOOL</td>\n      <td>...</td>\n      <td>MINIVAN</td>\n      <td>YES</td>\n      <td>0</td>\n      <td>0</td>\n      <td>NO</td>\n      <td>0</td>\n      <td>0</td>\n      <td>6</td>\n      <td>0</td>\n      <td>URBAN</td>\n    </tr>\n    <tr>\n      <th>...</th>\n      <td>...</td>\n      <td>...</td>\n      <td>...</td>\n      <td>...</td>\n      <td>...</td>\n      <td>...</td>\n      <td>...</td>\n      <td>...</td>\n      <td>...</td>\n      <td>...</td>\n      <td>...</td>\n      <td>...</td>\n      <td>...</td>\n      <td>...</td>\n      <td>...</td>\n      <td>...</td>\n      <td>...</td>\n      <td>...</td>\n      <td>...</td>\n      <td>...</td>\n      <td>...</td>\n    </tr>\n    <tr>\n      <th>10297</th>\n      <td>1</td>\n      <td>45</td>\n      <td>2</td>\n      <td>9</td>\n      <td>164669</td>\n      <td>NO</td>\n      <td>386273</td>\n      <td>YES</td>\n      <td>M</td>\n      <td>PHD</td>\n      <td>...</td>\n      <td>MINIVAN</td>\n      <td>NO</td>\n      <td>0</td>\n      <td>0</td>\n      <td>NO</td>\n      <td>2</td>\n      <td>0</td>\n      <td>17</td>\n      <td>0</td>\n      <td>URBAN</td>\n    </tr>\n    <tr>\n      <th>10298</th>\n      <td>0</td>\n      <td>46</td>\n      <td>0</td>\n      <td>9</td>\n      <td>107204</td>\n      <td>NO</td>\n      <td>332591</td>\n      <td>YES</td>\n      <td>M</td>\n      <td>MASTERS</td>\n      <td>...</td>\n      <td>PANELTRUCK</td>\n      <td>NO</td>\n      <td>0</td>\n      <td>0</td>\n      <td>NO</td>\n      <td>0</td>\n      <td>0</td>\n      <td>1</td>\n      <td>0</td>\n      <td>URBAN</td>\n    </tr>\n    <tr>\n      <th>10299</th>\n      <td>0</td>\n      <td>48</td>\n      <td>0</td>\n      <td>15</td>\n      <td>39837</td>\n      <td>NO</td>\n      <td>170611</td>\n      <td>YES</td>\n      <td>F</td>\n      <td>&lt;HIGHSCHOOL</td>\n      <td>...</td>\n      <td>SUV</td>\n      <td>NO</td>\n      <td>0</td>\n      <td>0</td>\n      <td>NO</td>\n      <td>0</td>\n      <td>0</td>\n      <td>1</td>\n      <td>0</td>\n      <td>URBAN</td>\n    </tr>\n    <tr>\n      <th>10300</th>\n      <td>0</td>\n      <td>50</td>\n      <td>0</td>\n      <td>7</td>\n      <td>43445</td>\n      <td>NO</td>\n      <td>149248</td>\n      <td>YES</td>\n      <td>F</td>\n      <td>BACHELORS</td>\n      <td>...</td>\n      <td>MINIVAN</td>\n      <td>NO</td>\n      <td>0</td>\n      <td>0</td>\n      <td>NO</td>\n      <td>0</td>\n      <td>0</td>\n      <td>11</td>\n      <td>0</td>\n      <td>URBAN</td>\n    </tr>\n    <tr>\n      <th>10301</th>\n      <td>0</td>\n      <td>52</td>\n      <td>0</td>\n      <td>11</td>\n      <td>53235</td>\n      <td>NO</td>\n      <td>197017</td>\n      <td>YES</td>\n      <td>F</td>\n      <td>HIGHSCHOOL</td>\n      <td>...</td>\n      <td>MINIVAN</td>\n      <td>NO</td>\n      <td>0</td>\n      <td>0</td>\n      <td>NO</td>\n      <td>0</td>\n      <td>0</td>\n      <td>9</td>\n      <td>0</td>\n      <td>RURAL</td>\n    </tr>\n  </tbody>\n</table>\n<p>10302 rows × 25 columns</p>\n</div>"
     },
     "execution_count": 14,
     "metadata": {},
     "output_type": "execute_result"
    }
   ],
   "source": [
    "df = pd.read_csv(\"datasets/car_insurance_claim.csv\")\n",
    "\n",
    "for col in [\"INCOME\",\"HOME_VAL\",\"BLUEBOOK\",\"OLDCLAIM\", \"CLM_AMT\",]:\n",
    "    df[col] = df[col].replace(\"[^.0-9]\", \"\", regex=True).astype(float).fillna(0.0)\n",
    "\n",
    "for col in df.select_dtypes(include=\"object\").columns:\n",
    "    df[col] = df[col].str.upper().replace(\"Z_\", \"\", regex=True).replace(\"[^A-Z<]\", \"\", regex=True)\n",
    "\n",
    "df.drop(labels=[\"ID\",\"BIRTH\"], axis=1, inplace=True)\n",
    "\n",
    "df[\"OCCUPATION\"].fillna(\"OTHER\", inplace=True)\n",
    "for col in [\"AGE\",\"YOJ\",\"CAR_AGE\"]:\n",
    "    df[col].fillna(df[col].mean(), inplace=True)\n",
    "\n",
    "for col in df.select_dtypes(include=[float]):\n",
    "    df[col] = df[col].astype(int)\n",
    "\n",
    "df[\"URBANICITY\"] = df[\"URBANICITY\"].map({\"HIGHLYURBANURBAN\":\"URBAN\", \"HIGHLYRURALRURAL\":\"RURAL\"})\n",
    "df.rename(columns={\"URBANICITY\": \"AREA\"}, inplace=True)\n",
    "\n",
    "categorical_features = [\"CAR_USE\", \"REVOKED\", \"RED_CAR\", \"GENDER\", \"MSTATUS\", \"AREA\", \"PARENT1\", \"EDUCATION\", \"KIDSDRIV\", \"HOMEKIDS\", \"CAR_TYPE\", \"OCCUPATION\", \"CAR_USE\", \"MVR_PTS\"]\n",
    "numerical_features = [\"AGE\", \"YOJ\", \"INCOME\", \"HOME_VAL\", \"TRAVTIME\", \"BLUEBOOK\", \"TIF\", \"OLDCLAIM\", \"CLM_FREQ\", \"CLM_AMT\", \"CAR_AGE\"]\n",
    "\n",
    "df"
   ],
   "metadata": {
    "collapsed": false,
    "ExecuteTime": {
     "start_time": "2023-05-17T20:38:25.725837Z",
     "end_time": "2023-05-17T20:38:25.953467Z"
    }
   }
  },
  {
   "cell_type": "code",
   "execution_count": 16,
   "outputs": [
    {
     "ename": "KeyError",
     "evalue": "6346",
     "output_type": "error",
     "traceback": [
      "\u001B[1;31m---------------------------------------------------------------------------\u001B[0m",
      "\u001B[1;31mKeyError\u001B[0m                                  Traceback (most recent call last)",
      "File \u001B[1;32m~\\repos\\attention-mixed-type-clustering\\venv\\Lib\\site-packages\\pandas\\core\\indexes\\base.py:3652\u001B[0m, in \u001B[0;36mIndex.get_loc\u001B[1;34m(self, key)\u001B[0m\n\u001B[0;32m   3651\u001B[0m \u001B[38;5;28;01mtry\u001B[39;00m:\n\u001B[1;32m-> 3652\u001B[0m     \u001B[38;5;28;01mreturn\u001B[39;00m \u001B[38;5;28;43mself\u001B[39;49m\u001B[38;5;241;43m.\u001B[39;49m\u001B[43m_engine\u001B[49m\u001B[38;5;241;43m.\u001B[39;49m\u001B[43mget_loc\u001B[49m\u001B[43m(\u001B[49m\u001B[43mcasted_key\u001B[49m\u001B[43m)\u001B[49m\n\u001B[0;32m   3653\u001B[0m \u001B[38;5;28;01mexcept\u001B[39;00m \u001B[38;5;167;01mKeyError\u001B[39;00m \u001B[38;5;28;01mas\u001B[39;00m err:\n",
      "File \u001B[1;32m~\\repos\\attention-mixed-type-clustering\\venv\\Lib\\site-packages\\pandas\\_libs\\index.pyx:147\u001B[0m, in \u001B[0;36mpandas._libs.index.IndexEngine.get_loc\u001B[1;34m()\u001B[0m\n",
      "File \u001B[1;32m~\\repos\\attention-mixed-type-clustering\\venv\\Lib\\site-packages\\pandas\\_libs\\index.pyx:176\u001B[0m, in \u001B[0;36mpandas._libs.index.IndexEngine.get_loc\u001B[1;34m()\u001B[0m\n",
      "File \u001B[1;32mpandas\\_libs\\hashtable_class_helper.pxi:7080\u001B[0m, in \u001B[0;36mpandas._libs.hashtable.PyObjectHashTable.get_item\u001B[1;34m()\u001B[0m\n",
      "File \u001B[1;32mpandas\\_libs\\hashtable_class_helper.pxi:7088\u001B[0m, in \u001B[0;36mpandas._libs.hashtable.PyObjectHashTable.get_item\u001B[1;34m()\u001B[0m\n",
      "\u001B[1;31mKeyError\u001B[0m: 6346",
      "\nThe above exception was the direct cause of the following exception:\n",
      "\u001B[1;31mKeyError\u001B[0m                                  Traceback (most recent call last)",
      "Cell \u001B[1;32mIn[16], line 97\u001B[0m\n\u001B[0;32m     94\u001B[0m \u001B[38;5;28;01mfor\u001B[39;00m epoch \u001B[38;5;129;01min\u001B[39;00m \u001B[38;5;28mrange\u001B[39m(num_epochs):\n\u001B[0;32m     95\u001B[0m     running_loss \u001B[38;5;241m=\u001B[39m \u001B[38;5;241m0.0\u001B[39m\n\u001B[1;32m---> 97\u001B[0m     \u001B[38;5;28;01mfor\u001B[39;00m batch_data \u001B[38;5;129;01min\u001B[39;00m dataloader:  \u001B[38;5;66;03m# Iterate over the batches of data\u001B[39;00m\n\u001B[0;32m     98\u001B[0m         numeric_features, categorical_features, targets \u001B[38;5;241m=\u001B[39m batch_data\n\u001B[0;32m    100\u001B[0m         optimizer\u001B[38;5;241m.\u001B[39mzero_grad()  \u001B[38;5;66;03m# Zero the gradients\u001B[39;00m\n",
      "File \u001B[1;32m~\\repos\\attention-mixed-type-clustering\\venv\\Lib\\site-packages\\torch\\utils\\data\\dataloader.py:633\u001B[0m, in \u001B[0;36m_BaseDataLoaderIter.__next__\u001B[1;34m(self)\u001B[0m\n\u001B[0;32m    630\u001B[0m \u001B[38;5;28;01mif\u001B[39;00m \u001B[38;5;28mself\u001B[39m\u001B[38;5;241m.\u001B[39m_sampler_iter \u001B[38;5;129;01mis\u001B[39;00m \u001B[38;5;28;01mNone\u001B[39;00m:\n\u001B[0;32m    631\u001B[0m     \u001B[38;5;66;03m# TODO(https://github.com/pytorch/pytorch/issues/76750)\u001B[39;00m\n\u001B[0;32m    632\u001B[0m     \u001B[38;5;28mself\u001B[39m\u001B[38;5;241m.\u001B[39m_reset()  \u001B[38;5;66;03m# type: ignore[call-arg]\u001B[39;00m\n\u001B[1;32m--> 633\u001B[0m data \u001B[38;5;241m=\u001B[39m \u001B[38;5;28;43mself\u001B[39;49m\u001B[38;5;241;43m.\u001B[39;49m\u001B[43m_next_data\u001B[49m\u001B[43m(\u001B[49m\u001B[43m)\u001B[49m\n\u001B[0;32m    634\u001B[0m \u001B[38;5;28mself\u001B[39m\u001B[38;5;241m.\u001B[39m_num_yielded \u001B[38;5;241m+\u001B[39m\u001B[38;5;241m=\u001B[39m \u001B[38;5;241m1\u001B[39m\n\u001B[0;32m    635\u001B[0m \u001B[38;5;28;01mif\u001B[39;00m \u001B[38;5;28mself\u001B[39m\u001B[38;5;241m.\u001B[39m_dataset_kind \u001B[38;5;241m==\u001B[39m _DatasetKind\u001B[38;5;241m.\u001B[39mIterable \u001B[38;5;129;01mand\u001B[39;00m \\\n\u001B[0;32m    636\u001B[0m         \u001B[38;5;28mself\u001B[39m\u001B[38;5;241m.\u001B[39m_IterableDataset_len_called \u001B[38;5;129;01mis\u001B[39;00m \u001B[38;5;129;01mnot\u001B[39;00m \u001B[38;5;28;01mNone\u001B[39;00m \u001B[38;5;129;01mand\u001B[39;00m \\\n\u001B[0;32m    637\u001B[0m         \u001B[38;5;28mself\u001B[39m\u001B[38;5;241m.\u001B[39m_num_yielded \u001B[38;5;241m>\u001B[39m \u001B[38;5;28mself\u001B[39m\u001B[38;5;241m.\u001B[39m_IterableDataset_len_called:\n",
      "File \u001B[1;32m~\\repos\\attention-mixed-type-clustering\\venv\\Lib\\site-packages\\torch\\utils\\data\\dataloader.py:677\u001B[0m, in \u001B[0;36m_SingleProcessDataLoaderIter._next_data\u001B[1;34m(self)\u001B[0m\n\u001B[0;32m    675\u001B[0m \u001B[38;5;28;01mdef\u001B[39;00m \u001B[38;5;21m_next_data\u001B[39m(\u001B[38;5;28mself\u001B[39m):\n\u001B[0;32m    676\u001B[0m     index \u001B[38;5;241m=\u001B[39m \u001B[38;5;28mself\u001B[39m\u001B[38;5;241m.\u001B[39m_next_index()  \u001B[38;5;66;03m# may raise StopIteration\u001B[39;00m\n\u001B[1;32m--> 677\u001B[0m     data \u001B[38;5;241m=\u001B[39m \u001B[38;5;28;43mself\u001B[39;49m\u001B[38;5;241;43m.\u001B[39;49m\u001B[43m_dataset_fetcher\u001B[49m\u001B[38;5;241;43m.\u001B[39;49m\u001B[43mfetch\u001B[49m\u001B[43m(\u001B[49m\u001B[43mindex\u001B[49m\u001B[43m)\u001B[49m  \u001B[38;5;66;03m# may raise StopIteration\u001B[39;00m\n\u001B[0;32m    678\u001B[0m     \u001B[38;5;28;01mif\u001B[39;00m \u001B[38;5;28mself\u001B[39m\u001B[38;5;241m.\u001B[39m_pin_memory:\n\u001B[0;32m    679\u001B[0m         data \u001B[38;5;241m=\u001B[39m _utils\u001B[38;5;241m.\u001B[39mpin_memory\u001B[38;5;241m.\u001B[39mpin_memory(data, \u001B[38;5;28mself\u001B[39m\u001B[38;5;241m.\u001B[39m_pin_memory_device)\n",
      "File \u001B[1;32m~\\repos\\attention-mixed-type-clustering\\venv\\Lib\\site-packages\\torch\\utils\\data\\_utils\\fetch.py:51\u001B[0m, in \u001B[0;36m_MapDatasetFetcher.fetch\u001B[1;34m(self, possibly_batched_index)\u001B[0m\n\u001B[0;32m     49\u001B[0m         data \u001B[38;5;241m=\u001B[39m \u001B[38;5;28mself\u001B[39m\u001B[38;5;241m.\u001B[39mdataset\u001B[38;5;241m.\u001B[39m__getitems__(possibly_batched_index)\n\u001B[0;32m     50\u001B[0m     \u001B[38;5;28;01melse\u001B[39;00m:\n\u001B[1;32m---> 51\u001B[0m         data \u001B[38;5;241m=\u001B[39m \u001B[43m[\u001B[49m\u001B[38;5;28;43mself\u001B[39;49m\u001B[38;5;241;43m.\u001B[39;49m\u001B[43mdataset\u001B[49m\u001B[43m[\u001B[49m\u001B[43midx\u001B[49m\u001B[43m]\u001B[49m\u001B[43m \u001B[49m\u001B[38;5;28;43;01mfor\u001B[39;49;00m\u001B[43m \u001B[49m\u001B[43midx\u001B[49m\u001B[43m \u001B[49m\u001B[38;5;129;43;01min\u001B[39;49;00m\u001B[43m \u001B[49m\u001B[43mpossibly_batched_index\u001B[49m\u001B[43m]\u001B[49m\n\u001B[0;32m     52\u001B[0m \u001B[38;5;28;01melse\u001B[39;00m:\n\u001B[0;32m     53\u001B[0m     data \u001B[38;5;241m=\u001B[39m \u001B[38;5;28mself\u001B[39m\u001B[38;5;241m.\u001B[39mdataset[possibly_batched_index]\n",
      "File \u001B[1;32m~\\repos\\attention-mixed-type-clustering\\venv\\Lib\\site-packages\\torch\\utils\\data\\_utils\\fetch.py:51\u001B[0m, in \u001B[0;36m<listcomp>\u001B[1;34m(.0)\u001B[0m\n\u001B[0;32m     49\u001B[0m         data \u001B[38;5;241m=\u001B[39m \u001B[38;5;28mself\u001B[39m\u001B[38;5;241m.\u001B[39mdataset\u001B[38;5;241m.\u001B[39m__getitems__(possibly_batched_index)\n\u001B[0;32m     50\u001B[0m     \u001B[38;5;28;01melse\u001B[39;00m:\n\u001B[1;32m---> 51\u001B[0m         data \u001B[38;5;241m=\u001B[39m [\u001B[38;5;28;43mself\u001B[39;49m\u001B[38;5;241;43m.\u001B[39;49m\u001B[43mdataset\u001B[49m\u001B[43m[\u001B[49m\u001B[43midx\u001B[49m\u001B[43m]\u001B[49m \u001B[38;5;28;01mfor\u001B[39;00m idx \u001B[38;5;129;01min\u001B[39;00m possibly_batched_index]\n\u001B[0;32m     52\u001B[0m \u001B[38;5;28;01melse\u001B[39;00m:\n\u001B[0;32m     53\u001B[0m     data \u001B[38;5;241m=\u001B[39m \u001B[38;5;28mself\u001B[39m\u001B[38;5;241m.\u001B[39mdataset[possibly_batched_index]\n",
      "Cell \u001B[1;32mIn[16], line 11\u001B[0m, in \u001B[0;36mMixedDataset.__getitem__\u001B[1;34m(self, idx)\u001B[0m\n\u001B[0;32m      9\u001B[0m \u001B[38;5;28;01mdef\u001B[39;00m \u001B[38;5;21m__getitem__\u001B[39m(\u001B[38;5;28mself\u001B[39m, idx):\n\u001B[0;32m     10\u001B[0m     \u001B[38;5;66;03m# Load and preprocess the data\u001B[39;00m\n\u001B[1;32m---> 11\u001B[0m     sample \u001B[38;5;241m=\u001B[39m \u001B[38;5;28mself\u001B[39m\u001B[38;5;241m.\u001B[39mload_data(\u001B[38;5;28;43mself\u001B[39;49m\u001B[38;5;241;43m.\u001B[39;49m\u001B[43mdata_paths\u001B[49m\u001B[43m[\u001B[49m\u001B[43midx\u001B[49m\u001B[43m]\u001B[49m)\n\u001B[0;32m     13\u001B[0m     \u001B[38;5;28;01mif\u001B[39;00m \u001B[38;5;28mself\u001B[39m\u001B[38;5;241m.\u001B[39mtransform:\n\u001B[0;32m     14\u001B[0m         sample \u001B[38;5;241m=\u001B[39m \u001B[38;5;28mself\u001B[39m\u001B[38;5;241m.\u001B[39mtransform(sample)\n",
      "File \u001B[1;32m~\\repos\\attention-mixed-type-clustering\\venv\\Lib\\site-packages\\pandas\\core\\frame.py:3761\u001B[0m, in \u001B[0;36mDataFrame.__getitem__\u001B[1;34m(self, key)\u001B[0m\n\u001B[0;32m   3759\u001B[0m \u001B[38;5;28;01mif\u001B[39;00m \u001B[38;5;28mself\u001B[39m\u001B[38;5;241m.\u001B[39mcolumns\u001B[38;5;241m.\u001B[39mnlevels \u001B[38;5;241m>\u001B[39m \u001B[38;5;241m1\u001B[39m:\n\u001B[0;32m   3760\u001B[0m     \u001B[38;5;28;01mreturn\u001B[39;00m \u001B[38;5;28mself\u001B[39m\u001B[38;5;241m.\u001B[39m_getitem_multilevel(key)\n\u001B[1;32m-> 3761\u001B[0m indexer \u001B[38;5;241m=\u001B[39m \u001B[38;5;28;43mself\u001B[39;49m\u001B[38;5;241;43m.\u001B[39;49m\u001B[43mcolumns\u001B[49m\u001B[38;5;241;43m.\u001B[39;49m\u001B[43mget_loc\u001B[49m\u001B[43m(\u001B[49m\u001B[43mkey\u001B[49m\u001B[43m)\u001B[49m\n\u001B[0;32m   3762\u001B[0m \u001B[38;5;28;01mif\u001B[39;00m is_integer(indexer):\n\u001B[0;32m   3763\u001B[0m     indexer \u001B[38;5;241m=\u001B[39m [indexer]\n",
      "File \u001B[1;32m~\\repos\\attention-mixed-type-clustering\\venv\\Lib\\site-packages\\pandas\\core\\indexes\\base.py:3654\u001B[0m, in \u001B[0;36mIndex.get_loc\u001B[1;34m(self, key)\u001B[0m\n\u001B[0;32m   3652\u001B[0m     \u001B[38;5;28;01mreturn\u001B[39;00m \u001B[38;5;28mself\u001B[39m\u001B[38;5;241m.\u001B[39m_engine\u001B[38;5;241m.\u001B[39mget_loc(casted_key)\n\u001B[0;32m   3653\u001B[0m \u001B[38;5;28;01mexcept\u001B[39;00m \u001B[38;5;167;01mKeyError\u001B[39;00m \u001B[38;5;28;01mas\u001B[39;00m err:\n\u001B[1;32m-> 3654\u001B[0m     \u001B[38;5;28;01mraise\u001B[39;00m \u001B[38;5;167;01mKeyError\u001B[39;00m(key) \u001B[38;5;28;01mfrom\u001B[39;00m \u001B[38;5;21;01merr\u001B[39;00m\n\u001B[0;32m   3655\u001B[0m \u001B[38;5;28;01mexcept\u001B[39;00m \u001B[38;5;167;01mTypeError\u001B[39;00m:\n\u001B[0;32m   3656\u001B[0m     \u001B[38;5;66;03m# If we have a listlike key, _check_indexing_error will raise\u001B[39;00m\n\u001B[0;32m   3657\u001B[0m     \u001B[38;5;66;03m#  InvalidIndexError. Otherwise we fall through and re-raise\u001B[39;00m\n\u001B[0;32m   3658\u001B[0m     \u001B[38;5;66;03m#  the TypeError.\u001B[39;00m\n\u001B[0;32m   3659\u001B[0m     \u001B[38;5;28mself\u001B[39m\u001B[38;5;241m.\u001B[39m_check_indexing_error(key)\n",
      "\u001B[1;31mKeyError\u001B[0m: 6346"
     ]
    }
   ],
   "source": [
    "class MixedDataset(Dataset):\n",
    "    def __init__(self, data_paths, transform=None):\n",
    "        self.data_paths = data_paths\n",
    "        self.transform = transform\n",
    "\n",
    "    def __len__(self):\n",
    "        return len(self.data_paths)\n",
    "\n",
    "    def __getitem__(self, idx):\n",
    "        # Load and preprocess the data\n",
    "        sample = self.load_data(self.data_paths[idx])\n",
    "\n",
    "        if self.transform:\n",
    "            sample = self.transform(sample)\n",
    "\n",
    "        return sample\n",
    "\n",
    "    def load_data(self, data_path):\n",
    "        # Implement loading logic based on the file type or other criteria\n",
    "        # Return the loaded data\n",
    "        pass\n",
    "\n",
    "class AttentionClusteringNet(nn.Module):\n",
    "    def __init__(self, num_numeric_features, num_categorical_features, embedding_dim, hidden_dim, num_clusters):\n",
    "        super(AttentionClusteringNet, self).__init__()\n",
    "\n",
    "        # Numeric feature encoding\n",
    "        self.numeric_encoder = nn.Sequential(\n",
    "            nn.Linear(num_numeric_features, hidden_dim),\n",
    "            nn.ReLU()\n",
    "        )\n",
    "\n",
    "        # Categorical feature encoding\n",
    "        self.embedding = nn.Embedding(num_categorical_features, embedding_dim)\n",
    "\n",
    "        # Attention mechanism\n",
    "        self.attention = nn.Sequential(\n",
    "            nn.Linear(hidden_dim + embedding_dim, 1),\n",
    "            nn.Softmax(dim=1)\n",
    "        )\n",
    "\n",
    "        # Fusion layer\n",
    "        self.fusion = nn.Linear(hidden_dim + embedding_dim, hidden_dim)\n",
    "\n",
    "        # Clustering layer\n",
    "        self.clustering = nn.Linear(hidden_dim, num_clusters)\n",
    "\n",
    "    def forward(self, numeric_features, categorical_features):\n",
    "        # Numeric feature encoding\n",
    "        encoded_numeric = self.numeric_encoder(numeric_features)\n",
    "\n",
    "        # Categorical feature encoding\n",
    "        embedded_categorical = self.embedding(categorical_features)\n",
    "\n",
    "        # Attention mechanism\n",
    "        attention_input = torch.cat((encoded_numeric, embedded_categorical), dim=1)\n",
    "        attention_weights = self.attention(attention_input)\n",
    "\n",
    "        # Weighted fusion of variable representations\n",
    "        fused_representation = torch.mul(attention_weights, attention_input)\n",
    "        fused_representation = self.fusion(fused_representation)\n",
    "\n",
    "        # Clustering\n",
    "        logits = self.clustering(fused_representation)\n",
    "\n",
    "        return logits, attention_weights\n",
    "\n",
    "# Prepare the data\n",
    "# Assuming you have your own dataset and data loading/preprocessing code\n",
    "\n",
    "# Define hyperparameters\n",
    "num_epochs = 10\n",
    "batch_size = 32\n",
    "lr = 0.001\n",
    "num_clusters = 5\n",
    "hidden_dim = 64\n",
    "embedding_dim = 32\n",
    "\n",
    "# Create an instance of the model\n",
    "model = AttentionClusteringNet(len(numerical_features), len(categorical_features), embedding_dim, hidden_dim, num_clusters)\n",
    "\n",
    "# Define the clustering loss function\n",
    "loss_fn = nn.MSELoss()\n",
    "\n",
    "# Define the optimizer\n",
    "optimizer = optim.Adam(model.parameters(), lr=lr)\n",
    "\n",
    "dataset = MixedDataset(df)\n",
    "\n",
    "# Create a data loader\n",
    "dataloader = DataLoader(dataset, batch_size=batch_size, shuffle=True)\n",
    "\n",
    "# Training loop\n",
    "for epoch in range(num_epochs):\n",
    "    running_loss = 0.0\n",
    "\n",
    "    for batch_data in dataloader:  # Iterate over the batches of data\n",
    "        numeric_features, categorical_features, targets = batch_data\n",
    "\n",
    "        optimizer.zero_grad()  # Zero the gradients\n",
    "\n",
    "        logits, attention_weights = model(numeric_features, categorical_features)\n",
    "\n",
    "        # Compute the clustering loss\n",
    "        loss = loss_fn(logits, targets)\n",
    "\n",
    "        loss.backward()  # Backpropagation\n",
    "        optimizer.step()  # Update the model parameters\n",
    "\n",
    "        running_loss += loss.item()\n",
    "\n",
    "    # Print the average loss for the epoch\n",
    "    avg_loss = running_loss / len(dataloader)\n",
    "    print(f\"Epoch {epoch+1}/{num_epochs} - Average Loss: {avg_loss:.4f}\")"
   ],
   "metadata": {
    "collapsed": false,
    "ExecuteTime": {
     "start_time": "2023-05-17T19:18:20.631868Z",
     "end_time": "2023-05-17T19:18:20.632874Z"
    }
   }
  },
  {
   "cell_type": "code",
   "execution_count": null,
   "outputs": [],
   "source": [],
   "metadata": {
    "collapsed": false
   }
  }
 ],
 "metadata": {
  "kernelspec": {
   "display_name": "Python 3",
   "language": "python",
   "name": "python3"
  },
  "language_info": {
   "codemirror_mode": {
    "name": "ipython",
    "version": 2
   },
   "file_extension": ".py",
   "mimetype": "text/x-python",
   "name": "python",
   "nbconvert_exporter": "python",
   "pygments_lexer": "ipython2",
   "version": "2.7.6"
  }
 },
 "nbformat": 4,
 "nbformat_minor": 0
}
