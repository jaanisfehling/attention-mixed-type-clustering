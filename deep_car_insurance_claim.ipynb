{
 "cells": [
  {
   "cell_type": "code",
   "execution_count": 1,
   "metadata": {
    "collapsed": true,
    "ExecuteTime": {
     "start_time": "2023-05-21T12:45:48.966168Z",
     "end_time": "2023-05-21T12:45:53.454176Z"
    }
   },
   "outputs": [],
   "source": [
    "import numpy as np\n",
    "import pandas as pd\n",
    "import matplotlib.pyplot as plt\n",
    "from sklearn.preprocessing import MinMaxScaler\n",
    "from sklearn.preprocessing import LabelEncoder\n",
    "from sklearn.cluster import KMeans\n",
    "from sklearn.manifold import TSNE\n",
    "from sklearn.metrics import silhouette_score\n",
    "from torch.utils.data import dataloader, Dataset, DataLoader\n",
    "import torch\n",
    "import torch.nn as nn\n",
    "import torch.optim as optim\n",
    "import torch\n",
    "from torch.nn import Embedding\n",
    "import torch\n",
    "import torch.nn as nn\n",
    "import torch.nn.functional as F"
   ]
  },
  {
   "cell_type": "code",
   "execution_count": 15,
   "outputs": [
    {
     "data": {
      "text/plain": "       KIDSDRIV  AGE  HOMEKIDS  YOJ  INCOME PARENT1  HOME_VAL MSTATUS GENDER   \n0             0   60         0   11   67349      NO         0      NO      M  \\\n1             0   43         0   11   91449      NO    257252      NO      M   \n2             0   48         0   11   52881      NO         0      NO      M   \n3             0   35         1   10   16039      NO    124191     YES      F   \n4             0   51         0   14       0      NO    306251     YES      M   \n...         ...  ...       ...  ...     ...     ...       ...     ...    ...   \n10297         1   45         2    9  164669      NO    386273     YES      M   \n10298         0   46         0    9  107204      NO    332591     YES      M   \n10299         0   48         0   15   39837      NO    170611     YES      F   \n10300         0   50         0    7   43445      NO    149248     YES      F   \n10301         0   52         0   11   53235      NO    197017     YES      F   \n\n         EDUCATION  ...    CAR_TYPE  RED_CAR OLDCLAIM  CLM_FREQ  REVOKED   \n0              PHD  ...     MINIVAN      YES     4461         2       NO  \\\n1       HIGHSCHOOL  ...     MINIVAN      YES        0         0       NO   \n2        BACHELORS  ...         VAN      YES        0         0       NO   \n3       HIGHSCHOOL  ...         SUV       NO    38690         2       NO   \n4      <HIGHSCHOOL  ...     MINIVAN      YES        0         0       NO   \n...            ...  ...         ...      ...      ...       ...      ...   \n10297          PHD  ...     MINIVAN       NO        0         0       NO   \n10298      MASTERS  ...  PANELTRUCK       NO        0         0       NO   \n10299  <HIGHSCHOOL  ...         SUV       NO        0         0       NO   \n10300    BACHELORS  ...     MINIVAN       NO        0         0       NO   \n10301   HIGHSCHOOL  ...     MINIVAN       NO        0         0       NO   \n\n      MVR_PTS CLM_AMT  CAR_AGE  CLAIM_FLAG   AREA  \n0           3       0       18           0  URBAN  \n1           0       0        1           0  URBAN  \n2           2       0       10           0  URBAN  \n3           3       0       10           0  URBAN  \n4           0       0        6           0  URBAN  \n...       ...     ...      ...         ...    ...  \n10297       2       0       17           0  URBAN  \n10298       0       0        1           0  URBAN  \n10299       0       0        1           0  URBAN  \n10300       0       0       11           0  URBAN  \n10301       0       0        9           0  RURAL  \n\n[10302 rows x 25 columns]",
      "text/html": "<div>\n<style scoped>\n    .dataframe tbody tr th:only-of-type {\n        vertical-align: middle;\n    }\n\n    .dataframe tbody tr th {\n        vertical-align: top;\n    }\n\n    .dataframe thead th {\n        text-align: right;\n    }\n</style>\n<table border=\"1\" class=\"dataframe\">\n  <thead>\n    <tr style=\"text-align: right;\">\n      <th></th>\n      <th>KIDSDRIV</th>\n      <th>AGE</th>\n      <th>HOMEKIDS</th>\n      <th>YOJ</th>\n      <th>INCOME</th>\n      <th>PARENT1</th>\n      <th>HOME_VAL</th>\n      <th>MSTATUS</th>\n      <th>GENDER</th>\n      <th>EDUCATION</th>\n      <th>...</th>\n      <th>CAR_TYPE</th>\n      <th>RED_CAR</th>\n      <th>OLDCLAIM</th>\n      <th>CLM_FREQ</th>\n      <th>REVOKED</th>\n      <th>MVR_PTS</th>\n      <th>CLM_AMT</th>\n      <th>CAR_AGE</th>\n      <th>CLAIM_FLAG</th>\n      <th>AREA</th>\n    </tr>\n  </thead>\n  <tbody>\n    <tr>\n      <th>0</th>\n      <td>0</td>\n      <td>60</td>\n      <td>0</td>\n      <td>11</td>\n      <td>67349</td>\n      <td>NO</td>\n      <td>0</td>\n      <td>NO</td>\n      <td>M</td>\n      <td>PHD</td>\n      <td>...</td>\n      <td>MINIVAN</td>\n      <td>YES</td>\n      <td>4461</td>\n      <td>2</td>\n      <td>NO</td>\n      <td>3</td>\n      <td>0</td>\n      <td>18</td>\n      <td>0</td>\n      <td>URBAN</td>\n    </tr>\n    <tr>\n      <th>1</th>\n      <td>0</td>\n      <td>43</td>\n      <td>0</td>\n      <td>11</td>\n      <td>91449</td>\n      <td>NO</td>\n      <td>257252</td>\n      <td>NO</td>\n      <td>M</td>\n      <td>HIGHSCHOOL</td>\n      <td>...</td>\n      <td>MINIVAN</td>\n      <td>YES</td>\n      <td>0</td>\n      <td>0</td>\n      <td>NO</td>\n      <td>0</td>\n      <td>0</td>\n      <td>1</td>\n      <td>0</td>\n      <td>URBAN</td>\n    </tr>\n    <tr>\n      <th>2</th>\n      <td>0</td>\n      <td>48</td>\n      <td>0</td>\n      <td>11</td>\n      <td>52881</td>\n      <td>NO</td>\n      <td>0</td>\n      <td>NO</td>\n      <td>M</td>\n      <td>BACHELORS</td>\n      <td>...</td>\n      <td>VAN</td>\n      <td>YES</td>\n      <td>0</td>\n      <td>0</td>\n      <td>NO</td>\n      <td>2</td>\n      <td>0</td>\n      <td>10</td>\n      <td>0</td>\n      <td>URBAN</td>\n    </tr>\n    <tr>\n      <th>3</th>\n      <td>0</td>\n      <td>35</td>\n      <td>1</td>\n      <td>10</td>\n      <td>16039</td>\n      <td>NO</td>\n      <td>124191</td>\n      <td>YES</td>\n      <td>F</td>\n      <td>HIGHSCHOOL</td>\n      <td>...</td>\n      <td>SUV</td>\n      <td>NO</td>\n      <td>38690</td>\n      <td>2</td>\n      <td>NO</td>\n      <td>3</td>\n      <td>0</td>\n      <td>10</td>\n      <td>0</td>\n      <td>URBAN</td>\n    </tr>\n    <tr>\n      <th>4</th>\n      <td>0</td>\n      <td>51</td>\n      <td>0</td>\n      <td>14</td>\n      <td>0</td>\n      <td>NO</td>\n      <td>306251</td>\n      <td>YES</td>\n      <td>M</td>\n      <td>&lt;HIGHSCHOOL</td>\n      <td>...</td>\n      <td>MINIVAN</td>\n      <td>YES</td>\n      <td>0</td>\n      <td>0</td>\n      <td>NO</td>\n      <td>0</td>\n      <td>0</td>\n      <td>6</td>\n      <td>0</td>\n      <td>URBAN</td>\n    </tr>\n    <tr>\n      <th>...</th>\n      <td>...</td>\n      <td>...</td>\n      <td>...</td>\n      <td>...</td>\n      <td>...</td>\n      <td>...</td>\n      <td>...</td>\n      <td>...</td>\n      <td>...</td>\n      <td>...</td>\n      <td>...</td>\n      <td>...</td>\n      <td>...</td>\n      <td>...</td>\n      <td>...</td>\n      <td>...</td>\n      <td>...</td>\n      <td>...</td>\n      <td>...</td>\n      <td>...</td>\n      <td>...</td>\n    </tr>\n    <tr>\n      <th>10297</th>\n      <td>1</td>\n      <td>45</td>\n      <td>2</td>\n      <td>9</td>\n      <td>164669</td>\n      <td>NO</td>\n      <td>386273</td>\n      <td>YES</td>\n      <td>M</td>\n      <td>PHD</td>\n      <td>...</td>\n      <td>MINIVAN</td>\n      <td>NO</td>\n      <td>0</td>\n      <td>0</td>\n      <td>NO</td>\n      <td>2</td>\n      <td>0</td>\n      <td>17</td>\n      <td>0</td>\n      <td>URBAN</td>\n    </tr>\n    <tr>\n      <th>10298</th>\n      <td>0</td>\n      <td>46</td>\n      <td>0</td>\n      <td>9</td>\n      <td>107204</td>\n      <td>NO</td>\n      <td>332591</td>\n      <td>YES</td>\n      <td>M</td>\n      <td>MASTERS</td>\n      <td>...</td>\n      <td>PANELTRUCK</td>\n      <td>NO</td>\n      <td>0</td>\n      <td>0</td>\n      <td>NO</td>\n      <td>0</td>\n      <td>0</td>\n      <td>1</td>\n      <td>0</td>\n      <td>URBAN</td>\n    </tr>\n    <tr>\n      <th>10299</th>\n      <td>0</td>\n      <td>48</td>\n      <td>0</td>\n      <td>15</td>\n      <td>39837</td>\n      <td>NO</td>\n      <td>170611</td>\n      <td>YES</td>\n      <td>F</td>\n      <td>&lt;HIGHSCHOOL</td>\n      <td>...</td>\n      <td>SUV</td>\n      <td>NO</td>\n      <td>0</td>\n      <td>0</td>\n      <td>NO</td>\n      <td>0</td>\n      <td>0</td>\n      <td>1</td>\n      <td>0</td>\n      <td>URBAN</td>\n    </tr>\n    <tr>\n      <th>10300</th>\n      <td>0</td>\n      <td>50</td>\n      <td>0</td>\n      <td>7</td>\n      <td>43445</td>\n      <td>NO</td>\n      <td>149248</td>\n      <td>YES</td>\n      <td>F</td>\n      <td>BACHELORS</td>\n      <td>...</td>\n      <td>MINIVAN</td>\n      <td>NO</td>\n      <td>0</td>\n      <td>0</td>\n      <td>NO</td>\n      <td>0</td>\n      <td>0</td>\n      <td>11</td>\n      <td>0</td>\n      <td>URBAN</td>\n    </tr>\n    <tr>\n      <th>10301</th>\n      <td>0</td>\n      <td>52</td>\n      <td>0</td>\n      <td>11</td>\n      <td>53235</td>\n      <td>NO</td>\n      <td>197017</td>\n      <td>YES</td>\n      <td>F</td>\n      <td>HIGHSCHOOL</td>\n      <td>...</td>\n      <td>MINIVAN</td>\n      <td>NO</td>\n      <td>0</td>\n      <td>0</td>\n      <td>NO</td>\n      <td>0</td>\n      <td>0</td>\n      <td>9</td>\n      <td>0</td>\n      <td>RURAL</td>\n    </tr>\n  </tbody>\n</table>\n<p>10302 rows × 25 columns</p>\n</div>"
     },
     "execution_count": 15,
     "metadata": {},
     "output_type": "execute_result"
    }
   ],
   "source": [
    "df = pd.read_csv(\"datasets/car_insurance_claim.csv\")\n",
    "\n",
    "for col in [\"INCOME\",\"HOME_VAL\",\"BLUEBOOK\",\"OLDCLAIM\", \"CLM_AMT\",]:\n",
    "    df[col] = df[col].replace(\"[^.0-9]\", \"\", regex=True).astype(float).fillna(0.0)\n",
    "\n",
    "for col in df.select_dtypes(include=\"object\").columns:\n",
    "    df[col] = df[col].str.upper().replace(\"Z_\", \"\", regex=True).replace(\"[^A-Z<]\", \"\", regex=True)\n",
    "\n",
    "df.drop(labels=[\"ID\",\"BIRTH\"], axis=1, inplace=True)\n",
    "\n",
    "df[\"OCCUPATION\"].fillna(\"OTHER\", inplace=True)\n",
    "for col in [\"AGE\",\"YOJ\",\"CAR_AGE\"]:\n",
    "    df[col].fillna(df[col].mean(), inplace=True)\n",
    "\n",
    "for col in df.select_dtypes(include=[float]):\n",
    "    df[col] = df[col].astype(int)\n",
    "\n",
    "df[\"URBANICITY\"] = df[\"URBANICITY\"].map({\"HIGHLYURBANURBAN\":\"URBAN\", \"HIGHLYRURALRURAL\":\"RURAL\"})\n",
    "df.rename(columns={\"URBANICITY\": \"AREA\"}, inplace=True)\n",
    "\n",
    "categorical_features = [\"CAR_USE\", \"REVOKED\", \"RED_CAR\", \"GENDER\", \"MSTATUS\", \"AREA\", \"PARENT1\", \"EDUCATION\", \"KIDSDRIV\", \"HOMEKIDS\", \"CAR_TYPE\", \"OCCUPATION\", \"MVR_PTS\", \"CLAIM_FLAG\"]\n",
    "numerical_features = [\"AGE\", \"YOJ\", \"INCOME\", \"HOME_VAL\", \"TRAVTIME\", \"BLUEBOOK\", \"TIF\", \"OLDCLAIM\", \"CLM_FREQ\", \"CLM_AMT\", \"CAR_AGE\"]\n",
    "\n",
    "df"
   ],
   "metadata": {
    "collapsed": false,
    "ExecuteTime": {
     "start_time": "2023-05-21T18:12:58.598364Z",
     "end_time": "2023-05-21T18:12:58.813177Z"
    }
   }
  },
  {
   "cell_type": "code",
   "execution_count": 21,
   "outputs": [
    {
     "data": {
      "text/plain": "[(2, 1),\n (2, 1),\n (2, 1),\n (2, 1),\n (2, 1),\n (2, 1),\n (2, 1),\n (5, 3),\n (5, 3),\n (6, 3),\n (6, 3),\n (9, 5),\n (14, 7),\n (2, 1)]"
     },
     "execution_count": 21,
     "metadata": {},
     "output_type": "execute_result"
    }
   ],
   "source": [
    "df_cat = df[categorical_features].apply(LabelEncoder().fit_transform)\n",
    "df_cont = df[numerical_features]\n",
    "\n",
    "x_cat_tensor = torch.tensor(df_cat.values, dtype=torch.long)\n",
    "x_cont_tensor = torch.tensor(df_cont.values, dtype=torch.float)\n",
    "\n",
    "embedding_sizes = [(df_cat[col].nunique(), min(50, (df_cat[col].nunique()+1)//2)) for col in df_cat]\n",
    "embedding_sizes"
   ],
   "metadata": {
    "collapsed": false,
    "ExecuteTime": {
     "start_time": "2023-05-21T19:13:58.965574Z",
     "end_time": "2023-05-21T19:13:58.993818Z"
    }
   }
  },
  {
   "cell_type": "code",
   "execution_count": 22,
   "outputs": [
    {
     "ename": "TypeError",
     "evalue": "expected Tensor as element 0 in argument 0, but got list",
     "output_type": "error",
     "traceback": [
      "\u001B[1;31m---------------------------------------------------------------------------\u001B[0m",
      "\u001B[1;31mTypeError\u001B[0m                                 Traceback (most recent call last)",
      "Cell \u001B[1;32mIn[22], line 36\u001B[0m\n\u001B[0;32m     33\u001B[0m model\u001B[38;5;241m.\u001B[39mtrain()\n\u001B[0;32m     35\u001B[0m \u001B[38;5;66;03m# Forward pass\u001B[39;00m\n\u001B[1;32m---> 36\u001B[0m x_transformed \u001B[38;5;241m=\u001B[39m \u001B[43mmodel\u001B[49m\u001B[43m(\u001B[49m\u001B[43mx_cat_tensor\u001B[49m\u001B[43m,\u001B[49m\u001B[43m \u001B[49m\u001B[43mx_cont_tensor\u001B[49m\u001B[43m)\u001B[49m\n\u001B[0;32m     38\u001B[0m \u001B[38;5;66;03m# Compute loss\u001B[39;00m\n\u001B[0;32m     39\u001B[0m cluster_ids_x, cluster_centers \u001B[38;5;241m=\u001B[39m model\u001B[38;5;241m.\u001B[39mfit(x_cat_tensor, x_cont_tensor)\n",
      "File \u001B[1;32m~\\repos\\attention-mixed-type-clustering\\venv\\Lib\\site-packages\\torch\\nn\\modules\\module.py:1501\u001B[0m, in \u001B[0;36mModule._call_impl\u001B[1;34m(self, *args, **kwargs)\u001B[0m\n\u001B[0;32m   1496\u001B[0m \u001B[38;5;66;03m# If we don't have any hooks, we want to skip the rest of the logic in\u001B[39;00m\n\u001B[0;32m   1497\u001B[0m \u001B[38;5;66;03m# this function, and just call forward.\u001B[39;00m\n\u001B[0;32m   1498\u001B[0m \u001B[38;5;28;01mif\u001B[39;00m \u001B[38;5;129;01mnot\u001B[39;00m (\u001B[38;5;28mself\u001B[39m\u001B[38;5;241m.\u001B[39m_backward_hooks \u001B[38;5;129;01mor\u001B[39;00m \u001B[38;5;28mself\u001B[39m\u001B[38;5;241m.\u001B[39m_backward_pre_hooks \u001B[38;5;129;01mor\u001B[39;00m \u001B[38;5;28mself\u001B[39m\u001B[38;5;241m.\u001B[39m_forward_hooks \u001B[38;5;129;01mor\u001B[39;00m \u001B[38;5;28mself\u001B[39m\u001B[38;5;241m.\u001B[39m_forward_pre_hooks\n\u001B[0;32m   1499\u001B[0m         \u001B[38;5;129;01mor\u001B[39;00m _global_backward_pre_hooks \u001B[38;5;129;01mor\u001B[39;00m _global_backward_hooks\n\u001B[0;32m   1500\u001B[0m         \u001B[38;5;129;01mor\u001B[39;00m _global_forward_hooks \u001B[38;5;129;01mor\u001B[39;00m _global_forward_pre_hooks):\n\u001B[1;32m-> 1501\u001B[0m     \u001B[38;5;28;01mreturn\u001B[39;00m \u001B[43mforward_call\u001B[49m\u001B[43m(\u001B[49m\u001B[38;5;241;43m*\u001B[39;49m\u001B[43margs\u001B[49m\u001B[43m,\u001B[49m\u001B[43m \u001B[49m\u001B[38;5;241;43m*\u001B[39;49m\u001B[38;5;241;43m*\u001B[39;49m\u001B[43mkwargs\u001B[49m\u001B[43m)\u001B[49m\n\u001B[0;32m   1502\u001B[0m \u001B[38;5;66;03m# Do not call functions when jit is used\u001B[39;00m\n\u001B[0;32m   1503\u001B[0m full_backward_hooks, non_full_backward_hooks \u001B[38;5;241m=\u001B[39m [], []\n",
      "Cell \u001B[1;32mIn[22], line 10\u001B[0m, in \u001B[0;36mMixedTypeClusteringModel.forward\u001B[1;34m(self, x_cat, x_cont)\u001B[0m\n\u001B[0;32m      7\u001B[0m \u001B[38;5;28;01mdef\u001B[39;00m \u001B[38;5;21mforward\u001B[39m(\u001B[38;5;28mself\u001B[39m, x_cat, x_cont):\n\u001B[0;32m      8\u001B[0m     x \u001B[38;5;241m=\u001B[39m [e(x_cat[:,i]) \u001B[38;5;28;01mfor\u001B[39;00m i,e \u001B[38;5;129;01min\u001B[39;00m \u001B[38;5;28menumerate\u001B[39m(\u001B[38;5;28mself\u001B[39m\u001B[38;5;241m.\u001B[39membeddings)]\n\u001B[1;32m---> 10\u001B[0m     x \u001B[38;5;241m=\u001B[39m \u001B[43mtorch\u001B[49m\u001B[38;5;241;43m.\u001B[39;49m\u001B[43mcat\u001B[49m\u001B[43m(\u001B[49m\u001B[43m[\u001B[49m\u001B[43mx\u001B[49m\u001B[43m,\u001B[49m\u001B[43m \u001B[49m\u001B[43mx_cont\u001B[49m\u001B[43m]\u001B[49m\u001B[43m,\u001B[49m\u001B[43m \u001B[49m\u001B[43mdim\u001B[49m\u001B[38;5;241;43m=\u001B[39;49m\u001B[38;5;241;43m1\u001B[39;49m\u001B[43m)\u001B[49m\n\u001B[0;32m     12\u001B[0m     \u001B[38;5;28;01mreturn\u001B[39;00m x\n",
      "\u001B[1;31mTypeError\u001B[0m: expected Tensor as element 0 in argument 0, but got list"
     ]
    }
   ],
   "source": [
    "class MixedTypeClusteringModel(nn.Module):\n",
    "    def __init__(self):\n",
    "        super().__init__()\n",
    "\n",
    "        self.embeddings = nn.ModuleList([nn.Embedding(num, dim) for num, dim in embedding_sizes])\n",
    "\n",
    "    def forward(self, x_cat, x_cont):\n",
    "        x = [e(x_cat[:,i]) for i,e in enumerate(self.embeddings)]\n",
    "\n",
    "        x = torch.cat([x, x_cont], dim=1)\n",
    "\n",
    "        return x\n",
    "\n",
    "    def fit(self, x_cat, x_cont):\n",
    "        x_cat_emb = self.embedding(x_cat)\n",
    "\n",
    "        x = torch.cat([x_cat_emb, x_cont], dim=1)\n",
    "\n",
    "        # Perform KMeans clustering\n",
    "        kmeans = KMeans(n_init=\"auto\",n_clusters=2, random_state=0).fit(x)\n",
    "\n",
    "        return kmeans\n",
    "\n",
    "epochs = 10\n",
    "lr = 0.001\n",
    "\n",
    "model = MixedTypeClusteringModel()\n",
    "\n",
    "criterion = nn.CrossEntropyLoss()\n",
    "optimizer = torch.optim.Adam(model.parameters(), lr=lr)\n",
    "\n",
    "for epoch in range(epochs):\n",
    "    model.train()\n",
    "\n",
    "    # Forward pass\n",
    "    x_transformed = model(x_cat_tensor, x_cont_tensor)\n",
    "\n",
    "    # Compute loss\n",
    "    cluster_ids_x, cluster_centers = model.fit(x_cat_tensor, x_cont_tensor)\n",
    "    loss = criterion(x_transformed, cluster_ids_x)\n",
    "\n",
    "    # Backward pass and optimization\n",
    "    optimizer.zero_grad()\n",
    "    loss.backward()\n",
    "    optimizer.step()\n",
    "\n",
    "    # Print loss for every epoch\n",
    "    print(f'Epoch {epoch+1}, Loss {loss.item()}')"
   ],
   "metadata": {
    "collapsed": false,
    "ExecuteTime": {
     "end_time": "2023-05-20T19:41:17.462517600Z",
     "start_time": "2023-05-20T19:41:17.391614900Z"
    }
   }
  }
 ],
 "metadata": {
  "kernelspec": {
   "display_name": "Python 3",
   "language": "python",
   "name": "python3"
  },
  "language_info": {
   "codemirror_mode": {
    "name": "ipython",
    "version": 2
   },
   "file_extension": ".py",
   "mimetype": "text/x-python",
   "name": "python",
   "nbconvert_exporter": "python",
   "pygments_lexer": "ipython2",
   "version": "2.7.6"
  }
 },
 "nbformat": 4,
 "nbformat_minor": 0
}
